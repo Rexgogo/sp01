{
 "cells": [
  {
   "cell_type": "code",
   "execution_count": 1,
   "metadata": {},
   "outputs": [],
   "source": [
    "import pandas as pd\n",
    "import numpy as np\n",
    "from glob import glob #filename pattern matching module\n",
    "import os\n",
    "import matplotlib.pyplot as plt\n",
    "from IPython.display import display"
   ]
  },
  {
   "cell_type": "code",
   "execution_count": 2,
   "metadata": {},
   "outputs": [],
   "source": [
    "# pd.set_option('display.max_rows', None)\n",
    "pd.set_option('display.max_columns', None)\n",
    "pd.set_option('display.width', 1000)\n",
    "pd.set_option('display.max_colwidth', None)"
   ]
  },
  {
   "cell_type": "markdown",
   "metadata": {},
   "source": [
    "#### 1. channel dataset"
   ]
  },
  {
   "cell_type": "code",
   "execution_count": 68,
   "metadata": {},
   "outputs": [
    {
     "name": "stderr",
     "output_type": "stream",
     "text": [
      "<>:1: SyntaxWarning: invalid escape sequence '\\d'\n",
      "<>:1: SyntaxWarning: invalid escape sequence '\\d'\n",
      "C:\\Users\\Rex\\AppData\\Local\\Temp\\ipykernel_10588\\1820230023.py:1: SyntaxWarning: invalid escape sequence '\\d'\n",
      "  file_path = '.\\data_source\\daily_op_data.xlsx'\n"
     ]
    }
   ],
   "source": [
    "file_path = '.\\data_source\\daily_op_data.xlsx'\n",
    "sheet_names = [f'{i}月个别渠道分析（官网）' for i in range(1, 12)]"
   ]
  },
  {
   "cell_type": "code",
   "execution_count": 54,
   "metadata": {},
   "outputs": [],
   "source": [
    "try:\n",
    "    with pd.ExcelFile(file_path) as xls:\n",
    "        dfs = [pd.read_excel(xls, sheet_name=sheet) for sheet in sheet_names]\n",
    "    merged_df = pd.concat(dfs, ignore_index=True)\n",
    "except Exception as e:\n",
    "    print(f\"讀取或合併 Excel 工作表時發生錯誤: {e}\")\n",
    "    raise"
   ]
  },
  {
   "cell_type": "code",
   "execution_count": 55,
   "metadata": {},
   "outputs": [],
   "source": [
    "# merged_df = pd.DataFrame()\n",
    "# for sheet in sheet_names:\n",
    "#     df = pd.read_excel(file_path, sheet_name=sheet)\n",
    "#     merged_df = pd.concat([merged_df, df], ignore_index=True)"
   ]
  },
  {
   "cell_type": "code",
   "execution_count": 56,
   "metadata": {},
   "outputs": [],
   "source": [
    "org_cols = merged_df.columns.tolist()"
   ]
  },
  {
   "cell_type": "code",
   "execution_count": 57,
   "metadata": {},
   "outputs": [
    {
     "data": {
      "text/plain": [
       "['统计日期',\n",
       " '渠道ID',\n",
       " '渠道名称',\n",
       " '单价',\n",
       " '活跃用户数',\n",
       " '新增注册用户数',\n",
       " '扣量后注册',\n",
       " '扣量％数',\n",
       " '昨日安装',\n",
       " '对比昨日',\n",
       " '昨日同比率',\n",
       " '扣量前费用',\n",
       " '扣量后费用',\n",
       " '渠道营收',\n",
       " '充值人数',\n",
       " '新增会员数',\n",
       " '总充值金额',\n",
       " '直推充值金额',\n",
       " '提现金额',\n",
       " '购买会员金额',\n",
       " '安卓购买会员金额',\n",
       " 'ios购买会员金额',\n",
       " 'h5购买会员金额',\n",
       " '直推购买会员金额',\n",
       " '邀请购买会员金额',\n",
       " '内容付费金额',\n",
       " '打赏收入',\n",
       " '游戏消耗金额',\n",
       " '邀请返利',\n",
       " '次日留存',\n",
       " '三日留存',\n",
       " '7日留存',\n",
       " 'cpa单价',\n",
       " 'cpa收益',\n",
       " 'cps占比',\n",
       " 'cps收益',\n",
       " '毛利率',\n",
       " '日活付费率',\n",
       " '新增付费率',\n",
       " '二次付费率',\n",
       " 'arpu',\n",
       " 'arppu']"
      ]
     },
     "execution_count": 57,
     "metadata": {},
     "output_type": "execute_result"
    }
   ],
   "source": [
    "org_cols"
   ]
  },
  {
   "cell_type": "code",
   "execution_count": 58,
   "metadata": {},
   "outputs": [],
   "source": [
    "english_columns = [\n",
    "    'Date', 'Channel ID', 'Channel Name', 'Unit Price', 'Active Users', 'New Registrations', 'Post-Deduction Registrations',\n",
    "    'Deduction Percentage', 'Installation Yesterday', 'Installation DoD', 'Installation DoD pct', 'Pre-Deduction Cost',\n",
    "    'Post-Deduction Cost', 'Channel Revenue', 'Recharge Users', 'New Membership', 'Recharge Amount', 'Direct Referral Recharge Amount',\n",
    "    'Withdrawal Amount', 'Membership Revenue', 'Android Membership Revenue', 'iOS Membership Revenue',\n",
    "    'H5 Membership Revenue', 'Direct Referral Membership Revenue', 'Invited Membership Revenue', 'Content Fee Revenue',\n",
    "    'Tip Revenue', 'Game Revenue', 'Invitation Rebate', '1d Retention', '3d Retention', '7d Retention',\n",
    "    'CPA Unit Price', 'CPA Revenue', 'CPS Ratio', 'CPS Revenue', 'GPM', 'Paid Active Users Rate', 'Paid New Registration Rate',\n",
    "    'Repurchase Rate', 'ARPU', 'ARPPU'\n",
    "]\n"
   ]
  },
  {
   "cell_type": "code",
   "execution_count": 59,
   "metadata": {},
   "outputs": [],
   "source": [
    "pair = dict(zip(org_cols, english_columns))"
   ]
  },
  {
   "cell_type": "code",
   "execution_count": 60,
   "metadata": {},
   "outputs": [],
   "source": [
    "# 輸出欄位對照表\n",
    "ch_df_trans = pd.DataFrame(list(pair.items()), columns=['中文欄位名', '英文欄位名'])\n",
    "ch_df_trans.to_excel('ch_df_trans.xlsx', index=False)"
   ]
  },
  {
   "cell_type": "code",
   "execution_count": 95,
   "metadata": {},
   "outputs": [
    {
     "data": {
      "text/html": [
       "<div>\n",
       "<style scoped>\n",
       "    .dataframe tbody tr th:only-of-type {\n",
       "        vertical-align: middle;\n",
       "    }\n",
       "\n",
       "    .dataframe tbody tr th {\n",
       "        vertical-align: top;\n",
       "    }\n",
       "\n",
       "    .dataframe thead th {\n",
       "        text-align: right;\n",
       "    }\n",
       "</style>\n",
       "<table border=\"1\" class=\"dataframe\">\n",
       "  <thead>\n",
       "    <tr style=\"text-align: right;\">\n",
       "      <th></th>\n",
       "      <th>中文欄位名</th>\n",
       "      <th>英文欄位名</th>\n",
       "    </tr>\n",
       "  </thead>\n",
       "  <tbody>\n",
       "    <tr>\n",
       "      <th>0</th>\n",
       "      <td>统计日期</td>\n",
       "      <td>Date</td>\n",
       "    </tr>\n",
       "    <tr>\n",
       "      <th>1</th>\n",
       "      <td>渠道ID</td>\n",
       "      <td>Channel ID</td>\n",
       "    </tr>\n",
       "    <tr>\n",
       "      <th>2</th>\n",
       "      <td>渠道名称</td>\n",
       "      <td>Channel Name</td>\n",
       "    </tr>\n",
       "    <tr>\n",
       "      <th>3</th>\n",
       "      <td>单价</td>\n",
       "      <td>Unit Price</td>\n",
       "    </tr>\n",
       "    <tr>\n",
       "      <th>4</th>\n",
       "      <td>活跃用户数</td>\n",
       "      <td>Active Users</td>\n",
       "    </tr>\n",
       "    <tr>\n",
       "      <th>5</th>\n",
       "      <td>新增注册用户数</td>\n",
       "      <td>New Registrations</td>\n",
       "    </tr>\n",
       "    <tr>\n",
       "      <th>6</th>\n",
       "      <td>扣量后注册</td>\n",
       "      <td>Post-Deduction Registrations</td>\n",
       "    </tr>\n",
       "    <tr>\n",
       "      <th>7</th>\n",
       "      <td>扣量％数</td>\n",
       "      <td>Deduction Percentage</td>\n",
       "    </tr>\n",
       "    <tr>\n",
       "      <th>8</th>\n",
       "      <td>昨日安装</td>\n",
       "      <td>Installation Yesterday</td>\n",
       "    </tr>\n",
       "    <tr>\n",
       "      <th>9</th>\n",
       "      <td>对比昨日</td>\n",
       "      <td>Installation DoD</td>\n",
       "    </tr>\n",
       "    <tr>\n",
       "      <th>10</th>\n",
       "      <td>昨日同比率</td>\n",
       "      <td>Installation DoD pct</td>\n",
       "    </tr>\n",
       "    <tr>\n",
       "      <th>11</th>\n",
       "      <td>扣量前费用</td>\n",
       "      <td>Pre-Deduction Cost</td>\n",
       "    </tr>\n",
       "    <tr>\n",
       "      <th>12</th>\n",
       "      <td>扣量后费用</td>\n",
       "      <td>Post-Deduction Cost</td>\n",
       "    </tr>\n",
       "    <tr>\n",
       "      <th>13</th>\n",
       "      <td>渠道营收</td>\n",
       "      <td>Channel Revenue</td>\n",
       "    </tr>\n",
       "    <tr>\n",
       "      <th>14</th>\n",
       "      <td>充值人数</td>\n",
       "      <td>Recharge Users</td>\n",
       "    </tr>\n",
       "    <tr>\n",
       "      <th>15</th>\n",
       "      <td>新增会员数</td>\n",
       "      <td>New Membership</td>\n",
       "    </tr>\n",
       "    <tr>\n",
       "      <th>16</th>\n",
       "      <td>总充值金额</td>\n",
       "      <td>Recharge Amount</td>\n",
       "    </tr>\n",
       "    <tr>\n",
       "      <th>17</th>\n",
       "      <td>直推充值金额</td>\n",
       "      <td>Direct Referral Recharge Amount</td>\n",
       "    </tr>\n",
       "    <tr>\n",
       "      <th>18</th>\n",
       "      <td>提现金额</td>\n",
       "      <td>Withdrawal Amount</td>\n",
       "    </tr>\n",
       "    <tr>\n",
       "      <th>19</th>\n",
       "      <td>购买会员金额</td>\n",
       "      <td>Membership Revenue</td>\n",
       "    </tr>\n",
       "    <tr>\n",
       "      <th>20</th>\n",
       "      <td>安卓购买会员金额</td>\n",
       "      <td>Android Membership Revenue</td>\n",
       "    </tr>\n",
       "    <tr>\n",
       "      <th>21</th>\n",
       "      <td>ios购买会员金额</td>\n",
       "      <td>iOS Membership Revenue</td>\n",
       "    </tr>\n",
       "    <tr>\n",
       "      <th>22</th>\n",
       "      <td>h5购买会员金额</td>\n",
       "      <td>H5 Membership Revenue</td>\n",
       "    </tr>\n",
       "    <tr>\n",
       "      <th>23</th>\n",
       "      <td>直推购买会员金额</td>\n",
       "      <td>Direct Referral Membership Revenue</td>\n",
       "    </tr>\n",
       "    <tr>\n",
       "      <th>24</th>\n",
       "      <td>邀请购买会员金额</td>\n",
       "      <td>Invited Membership Revenue</td>\n",
       "    </tr>\n",
       "    <tr>\n",
       "      <th>25</th>\n",
       "      <td>内容付费金额</td>\n",
       "      <td>Content Fee Revenue</td>\n",
       "    </tr>\n",
       "    <tr>\n",
       "      <th>26</th>\n",
       "      <td>打赏收入</td>\n",
       "      <td>Tip Revenue</td>\n",
       "    </tr>\n",
       "    <tr>\n",
       "      <th>27</th>\n",
       "      <td>游戏消耗金额</td>\n",
       "      <td>Game Revenue</td>\n",
       "    </tr>\n",
       "    <tr>\n",
       "      <th>28</th>\n",
       "      <td>邀请返利</td>\n",
       "      <td>Invitation Rebate</td>\n",
       "    </tr>\n",
       "    <tr>\n",
       "      <th>29</th>\n",
       "      <td>次日留存</td>\n",
       "      <td>1d Retention</td>\n",
       "    </tr>\n",
       "    <tr>\n",
       "      <th>30</th>\n",
       "      <td>三日留存</td>\n",
       "      <td>3d Retention</td>\n",
       "    </tr>\n",
       "    <tr>\n",
       "      <th>31</th>\n",
       "      <td>7日留存</td>\n",
       "      <td>7d Retention</td>\n",
       "    </tr>\n",
       "    <tr>\n",
       "      <th>32</th>\n",
       "      <td>cpa单价</td>\n",
       "      <td>CPA Unit Price</td>\n",
       "    </tr>\n",
       "    <tr>\n",
       "      <th>33</th>\n",
       "      <td>cpa收益</td>\n",
       "      <td>CPA Revenue</td>\n",
       "    </tr>\n",
       "    <tr>\n",
       "      <th>34</th>\n",
       "      <td>cps占比</td>\n",
       "      <td>CPS Ratio</td>\n",
       "    </tr>\n",
       "    <tr>\n",
       "      <th>35</th>\n",
       "      <td>cps收益</td>\n",
       "      <td>CPS Revenue</td>\n",
       "    </tr>\n",
       "    <tr>\n",
       "      <th>36</th>\n",
       "      <td>毛利率</td>\n",
       "      <td>GPM</td>\n",
       "    </tr>\n",
       "    <tr>\n",
       "      <th>37</th>\n",
       "      <td>日活付费率</td>\n",
       "      <td>Paid Active Users Rate</td>\n",
       "    </tr>\n",
       "    <tr>\n",
       "      <th>38</th>\n",
       "      <td>新增付费率</td>\n",
       "      <td>Paid New Registration Rate</td>\n",
       "    </tr>\n",
       "    <tr>\n",
       "      <th>39</th>\n",
       "      <td>二次付费率</td>\n",
       "      <td>Repurchase Rate</td>\n",
       "    </tr>\n",
       "    <tr>\n",
       "      <th>40</th>\n",
       "      <td>arpu</td>\n",
       "      <td>ARPU</td>\n",
       "    </tr>\n",
       "    <tr>\n",
       "      <th>41</th>\n",
       "      <td>arppu</td>\n",
       "      <td>ARPPU</td>\n",
       "    </tr>\n",
       "  </tbody>\n",
       "</table>\n",
       "</div>"
      ],
      "text/plain": [
       "        中文欄位名                               英文欄位名\n",
       "0        统计日期                                Date\n",
       "1        渠道ID                          Channel ID\n",
       "2        渠道名称                        Channel Name\n",
       "3          单价                          Unit Price\n",
       "4       活跃用户数                        Active Users\n",
       "5     新增注册用户数                   New Registrations\n",
       "6       扣量后注册        Post-Deduction Registrations\n",
       "7        扣量％数                Deduction Percentage\n",
       "8        昨日安装              Installation Yesterday\n",
       "9        对比昨日                    Installation DoD\n",
       "10      昨日同比率                Installation DoD pct\n",
       "11      扣量前费用                  Pre-Deduction Cost\n",
       "12      扣量后费用                 Post-Deduction Cost\n",
       "13       渠道营收                     Channel Revenue\n",
       "14       充值人数                      Recharge Users\n",
       "15      新增会员数                      New Membership\n",
       "16      总充值金额                     Recharge Amount\n",
       "17     直推充值金额     Direct Referral Recharge Amount\n",
       "18       提现金额                   Withdrawal Amount\n",
       "19     购买会员金额                  Membership Revenue\n",
       "20   安卓购买会员金额          Android Membership Revenue\n",
       "21  ios购买会员金额              iOS Membership Revenue\n",
       "22   h5购买会员金额               H5 Membership Revenue\n",
       "23   直推购买会员金额  Direct Referral Membership Revenue\n",
       "24   邀请购买会员金额          Invited Membership Revenue\n",
       "25     内容付费金额                 Content Fee Revenue\n",
       "26       打赏收入                         Tip Revenue\n",
       "27     游戏消耗金额                        Game Revenue\n",
       "28       邀请返利                   Invitation Rebate\n",
       "29       次日留存                        1d Retention\n",
       "30       三日留存                        3d Retention\n",
       "31       7日留存                        7d Retention\n",
       "32      cpa单价                      CPA Unit Price\n",
       "33      cpa收益                         CPA Revenue\n",
       "34      cps占比                           CPS Ratio\n",
       "35      cps收益                         CPS Revenue\n",
       "36        毛利率                                 GPM\n",
       "37      日活付费率              Paid Active Users Rate\n",
       "38      新增付费率          Paid New Registration Rate\n",
       "39      二次付费率                     Repurchase Rate\n",
       "40       arpu                                ARPU\n",
       "41      arppu                               ARPPU"
      ]
     },
     "execution_count": 95,
     "metadata": {},
     "output_type": "execute_result"
    }
   ],
   "source": [
    "ch_df_trans"
   ]
  },
  {
   "cell_type": "code",
   "execution_count": 61,
   "metadata": {},
   "outputs": [],
   "source": [
    "merged_df.rename(columns=pair, inplace=True)"
   ]
  },
  {
   "cell_type": "code",
   "execution_count": 62,
   "metadata": {},
   "outputs": [],
   "source": [
    "merged_df['Date'] = pd.to_datetime(merged_df['Date']).dt.normalize()"
   ]
  },
  {
   "cell_type": "code",
   "execution_count": 63,
   "metadata": {},
   "outputs": [],
   "source": [
    "zero_columns = merged_df.columns[(merged_df == 0).all()].tolist()"
   ]
  },
  {
   "cell_type": "code",
   "execution_count": 64,
   "metadata": {},
   "outputs": [],
   "source": [
    "df = merged_df.drop(columns=['Channel Name'])"
   ]
  },
  {
   "cell_type": "code",
   "execution_count": 65,
   "metadata": {},
   "outputs": [],
   "source": [
    "df = df.drop(columns=zero_columns)"
   ]
  },
  {
   "cell_type": "code",
   "execution_count": 66,
   "metadata": {},
   "outputs": [],
   "source": [
    "# df.to_excel('sp001_channel_dataset.xlsx', index=False)"
   ]
  },
  {
   "cell_type": "code",
   "execution_count": 67,
   "metadata": {},
   "outputs": [],
   "source": [
    "df.to_csv('sp001_tb_channel.csv', index=False, encoding='utf-8')"
   ]
  },
  {
   "cell_type": "markdown",
   "metadata": {},
   "source": [
    "#### 2. op_data"
   ]
  },
  {
   "cell_type": "code",
   "execution_count": 133,
   "metadata": {},
   "outputs": [],
   "source": [
    "file_path = '.\\data_source\\daily_op_data.xlsx'\n",
    "sheet_names = ['11月总表', '10月总表', '9月总表', '8月总表',\n",
    "                '7月总表', '6月总表', '5月总表', '4月总表', \n",
    "                '3月总表', '2月总表', '1月总表']"
   ]
  },
  {
   "cell_type": "code",
   "execution_count": 134,
   "metadata": {},
   "outputs": [],
   "source": [
    "dfs = []\n",
    "for sheet in sheet_names:\n",
    "    dfs.append(pd.read_excel(file_path, sheet_name=sheet))\n",
    "    # merged_df = pd.concat([merged_df, df], ignore_index=True)"
   ]
  },
  {
   "cell_type": "code",
   "execution_count": 135,
   "metadata": {},
   "outputs": [],
   "source": [
    "# 1-8月都要修改欄位\n",
    "# print(len(dfs[0].columns))\n",
    "# print(len(dfs[1].columns))\n",
    "# print(len(dfs[2].columns))\n",
    "# print(len(dfs[3].columns))"
   ]
  },
  {
   "cell_type": "code",
   "execution_count": 136,
   "metadata": {},
   "outputs": [
    {
     "data": {
      "text/plain": [
       "[False, False, False, False, False, False, False, False, False, False, False]"
      ]
     },
     "execution_count": 136,
     "metadata": {},
     "output_type": "execute_result"
    }
   ],
   "source": [
    "# 更正11月含有\\n的欄位\n",
    "dfs[0].columns = dfs[0].columns.str.replace('\\n', '', regex=False)\n",
    "# 以11月欄位為基準\n",
    "reference_columns = set(dfs[0].columns)\n",
    "# 比對所有 DataFrame 的欄位名稱是否與11月欄位名稱相等\n",
    "list(df.columns.equals(reference_columns) for df in dfs)"
   ]
  },
  {
   "cell_type": "code",
   "execution_count": 137,
   "metadata": {},
   "outputs": [
    {
     "name": "stdout",
     "output_type": "stream",
     "text": [
      "Index: 0, DataFrame shape: (30, 49)\n",
      "Index: 1, DataFrame shape: (31, 49)\n",
      "Index: 2, DataFrame shape: (31, 49)\n",
      "Index: 3, DataFrame shape: (32, 43)\n",
      "Index: 4, DataFrame shape: (32, 43)\n",
      "Index: 5, DataFrame shape: (31, 43)\n",
      "Index: 6, DataFrame shape: (32, 43)\n",
      "Index: 7, DataFrame shape: (32, 43)\n",
      "Index: 8, DataFrame shape: (32, 43)\n",
      "Index: 9, DataFrame shape: (29, 21)\n",
      "Index: 10, DataFrame shape: (32, 21)\n"
     ]
    }
   ],
   "source": [
    "for index, df in enumerate(dfs):\n",
    "    print(f\"Index: {index}, DataFrame shape: {df.shape}\")"
   ]
  },
  {
   "cell_type": "code",
   "execution_count": 138,
   "metadata": {},
   "outputs": [
    {
     "data": {
      "text/plain": [
       "'與第2個df的欄位不相等'"
      ]
     },
     "metadata": {},
     "output_type": "display_data"
    },
    {
     "data": {
      "text/plain": [
       "\"缺少的欄位: {'银行卡支付', '支付宝支付'}\""
      ]
     },
     "metadata": {},
     "output_type": "display_data"
    },
    {
     "name": "stdout",
     "output_type": "stream",
     "text": [
      "更新後所有 DataFrame 的欄位是否相等: False\n"
     ]
    },
    {
     "data": {
      "text/plain": [
       "\"多出的欄位: {'支付宝支付\\\\n', '银行卡支付\\\\n'}\""
      ]
     },
     "metadata": {},
     "output_type": "display_data"
    },
    {
     "data": {
      "text/plain": [
       "'與第3個df的欄位不相等'"
      ]
     },
     "metadata": {},
     "output_type": "display_data"
    },
    {
     "data": {
      "text/plain": [
       "\"缺少的欄位: {'支付宝支付', '云闪付', '银行卡支付', 'QQ钱包', '人工支付'}\""
      ]
     },
     "metadata": {},
     "output_type": "display_data"
    },
    {
     "name": "stdout",
     "output_type": "stream",
     "text": [
      "更新後所有 DataFrame 的欄位是否相等: False\n"
     ]
    },
    {
     "data": {
      "text/plain": [
       "\"多出的欄位: {'支付宝充值', '云闪付充值', '银联充值', '人工支付充值', 'QQ钱包      充值'}\""
      ]
     },
     "metadata": {},
     "output_type": "display_data"
    },
    {
     "data": {
      "text/plain": [
       "'與第4個df的欄位不相等'"
      ]
     },
     "metadata": {},
     "output_type": "display_data"
    },
    {
     "data": {
      "text/plain": [
       "\"缺少的欄位: {'支付宝支付', '云闪付', '银行卡支付', '微信支付', 'QQ钱包', '人工支付'}\""
      ]
     },
     "metadata": {},
     "output_type": "display_data"
    },
    {
     "name": "stdout",
     "output_type": "stream",
     "text": [
      "更新後所有 DataFrame 的欄位是否相等: False\n"
     ]
    },
    {
     "data": {
      "text/plain": [
       "'與第5個df的欄位不相等'"
      ]
     },
     "metadata": {},
     "output_type": "display_data"
    },
    {
     "data": {
      "text/plain": [
       "\"缺少的欄位: {'支付宝支付', '云闪付', '银行卡支付', '微信支付', 'QQ钱包', '人工支付'}\""
      ]
     },
     "metadata": {},
     "output_type": "display_data"
    },
    {
     "name": "stdout",
     "output_type": "stream",
     "text": [
      "更新後所有 DataFrame 的欄位是否相等: False\n"
     ]
    },
    {
     "data": {
      "text/plain": [
       "'與第6個df的欄位不相等'"
      ]
     },
     "metadata": {},
     "output_type": "display_data"
    },
    {
     "data": {
      "text/plain": [
       "\"缺少的欄位: {'支付宝支付', '云闪付', '银行卡支付', '微信支付', 'QQ钱包', '人工支付'}\""
      ]
     },
     "metadata": {},
     "output_type": "display_data"
    },
    {
     "name": "stdout",
     "output_type": "stream",
     "text": [
      "更新後所有 DataFrame 的欄位是否相等: False\n"
     ]
    },
    {
     "data": {
      "text/plain": [
       "'與第7個df的欄位不相等'"
      ]
     },
     "metadata": {},
     "output_type": "display_data"
    },
    {
     "data": {
      "text/plain": [
       "\"缺少的欄位: {'支付宝支付', '云闪付', '银行卡支付', '微信支付', 'QQ钱包', '人工支付'}\""
      ]
     },
     "metadata": {},
     "output_type": "display_data"
    },
    {
     "name": "stdout",
     "output_type": "stream",
     "text": [
      "更新後所有 DataFrame 的欄位是否相等: False\n"
     ]
    },
    {
     "data": {
      "text/plain": [
       "'與第8個df的欄位不相等'"
      ]
     },
     "metadata": {},
     "output_type": "display_data"
    },
    {
     "data": {
      "text/plain": [
       "\"缺少的欄位: {'支付宝支付', '云闪付', '银行卡支付', '微信支付', 'QQ钱包', '人工支付'}\""
      ]
     },
     "metadata": {},
     "output_type": "display_data"
    },
    {
     "name": "stdout",
     "output_type": "stream",
     "text": [
      "更新後所有 DataFrame 的欄位是否相等: False\n"
     ]
    },
    {
     "data": {
      "text/plain": [
       "'與第9個df的欄位不相等'"
      ]
     },
     "metadata": {},
     "output_type": "display_data"
    },
    {
     "data": {
      "text/plain": [
       "\"缺少的欄位: {'支付宝支付', '云闪付', '银行卡支付', '微信支付', 'QQ钱包', '人工支付'}\""
      ]
     },
     "metadata": {},
     "output_type": "display_data"
    },
    {
     "name": "stdout",
     "output_type": "stream",
     "text": [
      "更新後所有 DataFrame 的欄位是否相等: False\n"
     ]
    },
    {
     "data": {
      "text/plain": [
       "'與第10個df的欄位不相等'"
      ]
     },
     "metadata": {},
     "output_type": "display_data"
    },
    {
     "data": {
      "text/plain": [
       "\"缺少的欄位: {'新增会员数同比', '备注', '成功订单数', '云闪付', '实际拉起订单数', '新用户充值人数', '游戏营收', '留存同比', '登录同比', '安卓人均充值', 'H5人均充值', '会员总收益', '登录用户数', '支付宝支付', '游戏人均付费', '新用户充值', '新增注册同比', '充值人数同比', '安卓充值', '成功率', 'H5充值', '拉起成功订单数', '留存用户', '（旧版）苹果人均充值', '人工支付', '（旧版）苹果充值', '银行卡支付', '微信支付', 'QQ钱包'}\""
      ]
     },
     "metadata": {},
     "output_type": "display_data"
    },
    {
     "name": "stdout",
     "output_type": "stream",
     "text": [
      "更新後所有 DataFrame 的欄位是否相等: False\n"
     ]
    },
    {
     "data": {
      "text/plain": [
       "\"多出的欄位: {'活跃用户数'}\""
      ]
     },
     "metadata": {},
     "output_type": "display_data"
    },
    {
     "data": {
      "text/plain": [
       "'與第11個df的欄位不相等'"
      ]
     },
     "metadata": {},
     "output_type": "display_data"
    },
    {
     "data": {
      "text/plain": [
       "\"缺少的欄位: {'新增会员数同比', '备注', '成功订单数', '云闪付', '实际拉起订单数', '新用户充值人数', '游戏营收', '提现（元）', '留存同比', '登录同比', '安卓人均充值', 'H5人均充值', '会员总收益', '登录用户数', '支付宝支付', '游戏人均付费', '新用户充值', '新增注册同比', '充值人数同比', '安卓充值', '成功率', 'H5充值', '拉起成功订单数', '留存用户', '（旧版）苹果人均充值', '人工支付', '（旧版）苹果充值', '银行卡支付', '微信支付', 'QQ钱包'}\""
      ]
     },
     "metadata": {},
     "output_type": "display_data"
    },
    {
     "name": "stdout",
     "output_type": "stream",
     "text": [
      "更新後所有 DataFrame 的欄位是否相等: False\n"
     ]
    },
    {
     "data": {
      "text/plain": [
       "\"多出的欄位: {'活跃用户数', '提现金额'}\""
      ]
     },
     "metadata": {},
     "output_type": "display_data"
    }
   ],
   "source": [
    "## 哪個 DataFrame 的欄位不相等，並找出多餘或缺少的欄位\n",
    "for index, df in enumerate(dfs):\n",
    "    current_columns = set(df.columns)\n",
    "    if current_columns != reference_columns:\n",
    "        missing_columns = reference_columns - current_columns\n",
    "        extra_columns = current_columns - reference_columns\n",
    "        display(f\"與第{index+1}個df的欄位不相等\")\n",
    "        # display(f\"預期欄位: {reference_columns}\")\n",
    "        # display(f\"實際欄位: {current_columns}\")\n",
    "        if missing_columns:\n",
    "            display(f\"缺少的欄位: {missing_columns}\")\n",
    "            # for col in missing_columns:\n",
    "            #     df[col] = pd.NA\n",
    "            # dfs[index] = df\n",
    "            # display(f\"更新後的第 {index} 個 DataFrame 的欄位: {df.columns}\")\n",
    "            all_columns_equal_after_update = all(set(df.columns) == reference_columns for df in dfs)\n",
    "            print(f\"更新後所有 DataFrame 的欄位是否相等: {all_columns_equal_after_update}\")\n",
    "        if extra_columns:\n",
    "            display(f\"多出的欄位: {extra_columns}\")"
   ]
  },
  {
   "cell_type": "markdown",
   "metadata": {},
   "source": []
  },
  {
   "cell_type": "code",
   "execution_count": 139,
   "metadata": {},
   "outputs": [
    {
     "data": {
      "text/plain": [
       "['人工支付', '支付宝支付', '银行卡支付', '微信支付', '云闪付', 'QQ钱包']"
      ]
     },
     "execution_count": 139,
     "metadata": {},
     "output_type": "execute_result"
    }
   ],
   "source": [
    "# 支付欄位順序\n",
    "payment_col = list(['人工支付', '支付宝支付', '银行卡支付', '微信支付', '云闪付', 'QQ钱包'])\n",
    "payment_col"
   ]
  },
  {
   "cell_type": "code",
   "execution_count": 140,
   "metadata": {},
   "outputs": [],
   "source": [
    "#處理10月的欄位: '银行卡支付', '支付宝支付'\n",
    "dfs[1].columns = dfs[1].columns.str.replace('\\n', '', regex=False)"
   ]
  },
  {
   "cell_type": "code",
   "execution_count": 141,
   "metadata": {},
   "outputs": [],
   "source": [
    "#處理9月的欄位: "
   ]
  },
  {
   "cell_type": "code",
   "execution_count": 142,
   "metadata": {},
   "outputs": [
    {
     "name": "stdout",
     "output_type": "stream",
     "text": [
      "order: 0, col_name: 统计日期\n",
      "order: 1, col_name: 登录用户数\n",
      "order: 2, col_name: 登录同比\n",
      "order: 3, col_name: 新增注册用户数\n",
      "order: 4, col_name: 新增注册同比\n",
      "order: 5, col_name: 扣量后注册\n",
      "order: 6, col_name: 留存用户\n",
      "order: 7, col_name: 留存同比\n",
      "order: 8, col_name: 昨日安装\n",
      "order: 9, col_name: 对比昨日\n",
      "order: 10, col_name: 昨日同比率\n",
      "order: 11, col_name: 扣量前费用\n",
      "order: 12, col_name: 扣量后费用\n",
      "order: 13, col_name: 渠道营收\n",
      "order: 14, col_name: 提现（元）\n",
      "order: 15, col_name: 充值人数\n",
      "order: 16, col_name: 充值人数同比\n",
      "order: 17, col_name: 新用户充值\n",
      "order: 18, col_name: 新用户充值人数\n",
      "order: 19, col_name: 新增会员数\n",
      "order: 20, col_name: 新增会员数同比\n",
      "order: 21, col_name: 总充值金额\n",
      "order: 22, col_name: 人工支付充值\n",
      "order: 23, col_name: 支付宝充值\n",
      "order: 24, col_name: 银联充值\n",
      "order: 25, col_name: 微信支付\n",
      "order: 26, col_name: 云闪付充值\n",
      "order: 27, col_name: QQ钱包      充值\n",
      "order: 28, col_name: 直推充值金额\n",
      "order: 29, col_name: （旧版）苹果充值\n",
      "order: 30, col_name: （旧版）苹果人均充值\n",
      "order: 31, col_name: 安卓充值\n",
      "order: 32, col_name: 安卓人均充值\n",
      "order: 33, col_name: H5充值\n",
      "order: 34, col_name: H5人均充值\n",
      "order: 35, col_name: 实际拉起订单数\n",
      "order: 36, col_name: 拉起成功订单数\n",
      "order: 37, col_name: 成功订单数\n",
      "order: 38, col_name: 成功率\n",
      "order: 39, col_name: 游戏人均付费\n",
      "order: 40, col_name: 游戏营收\n",
      "order: 41, col_name: 会员总收益\n",
      "order: 42, col_name: 次日留存\n",
      "order: 43, col_name: 三日留存\n",
      "order: 44, col_name: 7日留存\n",
      "order: 45, col_name: 二次付费率\n",
      "order: 46, col_name: arpu\n",
      "order: 47, col_name: arppu\n",
      "order: 48, col_name: 备注\n"
     ]
    }
   ],
   "source": [
    "for index, col in enumerate(dfs[2].columns):\n",
    "    print(f\"order: {index}, col_name: {col}\")"
   ]
  },
  {
   "cell_type": "code",
   "execution_count": 143,
   "metadata": {},
   "outputs": [],
   "source": [
    "# 替換正確支付欄位名稱\n",
    "dfs[2].columns.values[22:28] = payment_col"
   ]
  },
  {
   "cell_type": "code",
   "execution_count": 144,
   "metadata": {},
   "outputs": [],
   "source": [
    "# # 9月 舊欄位值-> 新欄位\n",
    "# old_new_columns = {\n",
    "#     'QQ钱包      充值': 'QQ钱包',\n",
    "#     '支付宝充值': '支付宝支付',\n",
    "#     '云闪付充值': '云闪付',\n",
    "#     '银联充值': '银行卡支付',\n",
    "#     '人工支付充值': '人工支付'\n",
    "# }\n",
    "# for old_col, new_col in old_new_columns.items():\n",
    "#     dfs[2][new_col] = dfs[2][old_col]\n",
    "\n",
    "# # 刪除舊欄位\n",
    "# drop_col = ['银联充值', '人工支付充值', 'QQ钱包      充值', '云闪付充值', '支付宝充值']\n",
    "# dfs[2] = dfs[2].drop(columns = drop_col)"
   ]
  },
  {
   "cell_type": "code",
   "execution_count": 145,
   "metadata": {},
   "outputs": [],
   "source": [
    "# 1、2月欄位有誤?\n",
    "set(dfs[10].columns) == set(dfs[9].columns)\n",
    "# 處理1月的欄位\n",
    "dfs[10] = dfs[10].drop(columns = ['提现金额'])\n",
    "dfs[10] = dfs[10].drop(columns = ['活跃用户数'])\n",
    "# 處理2月的欄位\n",
    "dfs[9] = dfs[9].drop(columns = ['活跃用户数'])"
   ]
  },
  {
   "cell_type": "code",
   "execution_count": 146,
   "metadata": {},
   "outputs": [],
   "source": [
    "# 合併所有調整後的df\n",
    "combined_df = pd.concat(dfs, ignore_index=True, join='outer')"
   ]
  },
  {
   "cell_type": "code",
   "execution_count": 147,
   "metadata": {},
   "outputs": [],
   "source": [
    "# 刪除含有加總數據的列\n",
    "drop_index = list(combined_df[combined_df['统计日期'] == '加总数据'].index)\n",
    "combined_df = combined_df.drop(index=list(drop_index))"
   ]
  },
  {
   "cell_type": "code",
   "execution_count": 148,
   "metadata": {},
   "outputs": [],
   "source": [
    "# 變更日期datetime格式\n",
    "combined_df['统计日期'] = pd.to_datetime(combined_df['统计日期'], errors='coerce')"
   ]
  },
  {
   "cell_type": "code",
   "execution_count": 149,
   "metadata": {},
   "outputs": [],
   "source": [
    "# 刪除一列na\n",
    "drop_index = list(combined_df[combined_df['统计日期'].isna()].index)\n",
    "combined_df = combined_df.drop(index=list(drop_index))"
   ]
  },
  {
   "cell_type": "code",
   "execution_count": 150,
   "metadata": {},
   "outputs": [],
   "source": [
    "# 刪除2023-11-15 到 2023-11-30 無資料\n",
    "start_date = pd.Timestamp('2023-11-15')\n",
    "end_date = pd.Timestamp('2023-11-30')\n",
    "combined_df = combined_df[~combined_df['统计日期'].between(start_date, end_date)]"
   ]
  },
  {
   "cell_type": "code",
   "execution_count": 151,
   "metadata": {},
   "outputs": [
    {
     "data": {
      "text/plain": [
       "Index(['统计日期', '登录用户数', '登录同比', '新增注册用户数', '新增注册同比', '扣量后注册', '留存用户', '留存同比', '昨日安装', '对比昨日', '昨日同比率', '扣量前费用', '扣量后费用', '渠道营收', '提现（元）', '充值人数', '充值人数同比', '新用户充值', '新用户充值人数', '新增会员数', '新增会员数同比', '总充值金额', '人工支付', '支付宝支付', '银行卡支付', '微信支付', '云闪付', 'QQ钱包', '直推充值金额', '（旧版）苹果充值', '（旧版）苹果人均充值', '安卓充值', '安卓人均充值', 'H5充值', 'H5人均充值', '实际拉起订单数', '拉起成功订单数', '成功订单数', '成功率', '游戏人均付费', '游戏营收', '会员总收益', '次日留存', '三日留存', '7日留存', '二次付费率', 'arpu', 'arppu', '备注'], dtype='object')"
      ]
     },
     "execution_count": 151,
     "metadata": {},
     "output_type": "execute_result"
    }
   ],
   "source": [
    "combined_df_col_cn = combined_df.columns\n",
    "combined_df_col_cn"
   ]
  },
  {
   "cell_type": "code",
   "execution_count": 152,
   "metadata": {},
   "outputs": [],
   "source": [
    "# 變更欄位名稱\n",
    "combined_df_col_en = [\n",
    "'Date',\n",
    "'Active Users',\n",
    "'Active Users DoD pct',\n",
    "'New Registrations',\n",
    "'New Registrations DoD pct',\n",
    "'Post-Deduction Registrations',\n",
    "'Retained Users',\n",
    "'Retained Users DoD pct',\n",
    "'Installation yest',\n",
    "'Installation DoD',\n",
    "'Installation DoD pct',\n",
    "'Pre-deduction Cost',\n",
    "'Post-deduction Cost',\n",
    "'Channel Revenue',\n",
    "'Withdrawal Amount',\n",
    "'Recharge Users',\n",
    "'Recharge Users DoD pct',\n",
    "'New User Recharge amount',\n",
    "'New User Recharge',\n",
    "'New Membership',\n",
    "'New Membership DoD',\n",
    "'Recharge Amount',\n",
    "'Manual Payment',\n",
    "'Alipay',\n",
    "'Bank Card',\n",
    "'WeChat Pay',\n",
    "'UnionPay',\n",
    "'QQ Wallet',\n",
    "'Direct Referral Recharge Amount',\n",
    "'iOS Recharge Amount Old Ver',\n",
    "'iOS AVG Recharge Old Ver',\n",
    "'Android Recharge Amount',\n",
    "'Android AVG Recharge',\n",
    "'H5 Recharge Amount',\n",
    "'H5 AVG Recharge',\n",
    "'Triggered Orders',\n",
    "'Successful Orders',\n",
    "'Completed Orders',\n",
    "'Completion Rate',\n",
    "'AGSPU',\n",
    "'Game Revenue',\n",
    "'Membership Revenue',\n",
    "'1d Retention',\n",
    "'3d Retention',\n",
    "'7d Retention',\n",
    "'Repurchase Rate',\n",
    "'ARPU',\n",
    "'ARPPU',\n",
    "'Remarks'\n",
    "]"
   ]
  },
  {
   "cell_type": "code",
   "execution_count": 153,
   "metadata": {},
   "outputs": [
    {
     "data": {
      "text/plain": [
       "{'统计日期': 'Date',\n",
       " '登录用户数': 'Active Users',\n",
       " '登录同比': 'Active Users DoD pct',\n",
       " '新增注册用户数': 'New Registrations',\n",
       " '新增注册同比': 'New Registrations DoD pct',\n",
       " '扣量后注册': 'Post-Deduction Registrations',\n",
       " '留存用户': 'Retained Users',\n",
       " '留存同比': 'Retained Users DoD pct',\n",
       " '昨日安装': 'Installation yest',\n",
       " '对比昨日': 'Installation DoD',\n",
       " '昨日同比率': 'Installation DoD pct',\n",
       " '扣量前费用': 'Pre-deduction Cost',\n",
       " '扣量后费用': 'Post-deduction Cost',\n",
       " '渠道营收': 'Channel Revenue',\n",
       " '提现（元）': 'Withdrawal Amount',\n",
       " '充值人数': 'Recharge Users',\n",
       " '充值人数同比': 'Recharge Users DoD pct',\n",
       " '新用户充值': 'New User Recharge amount',\n",
       " '新用户充值人数': 'New User Recharge',\n",
       " '新增会员数': 'New Membership',\n",
       " '新增会员数同比': 'New Membership DoD',\n",
       " '总充值金额': 'Recharge Amount',\n",
       " '人工支付': 'Manual Payment',\n",
       " '支付宝支付': 'Alipay',\n",
       " '银行卡支付': 'Bank Card',\n",
       " '微信支付': 'WeChat Pay',\n",
       " '云闪付': 'UnionPay',\n",
       " 'QQ钱包': 'QQ Wallet',\n",
       " '直推充值金额': 'Direct Referral Recharge Amount',\n",
       " '（旧版）苹果充值': 'iOS Recharge Amount Old Ver',\n",
       " '（旧版）苹果人均充值': 'iOS AVG Recharge Old Ver',\n",
       " '安卓充值': 'Android Recharge Amount',\n",
       " '安卓人均充值': 'Android AVG Recharge',\n",
       " 'H5充值': 'H5 Recharge Amount',\n",
       " 'H5人均充值': 'H5 AVG Recharge',\n",
       " '实际拉起订单数': 'Triggered Orders',\n",
       " '拉起成功订单数': 'Successful Orders',\n",
       " '成功订单数': 'Completed Orders',\n",
       " '成功率': 'Completion Rate',\n",
       " '游戏人均付费': 'AGSPU',\n",
       " '游戏营收': 'Game Revenue',\n",
       " '会员总收益': 'Membership Revenue',\n",
       " '次日留存': '1d Retention',\n",
       " '三日留存': '3d Retention',\n",
       " '7日留存': '7d Retention',\n",
       " '二次付费率': 'Repurchase Rate',\n",
       " 'arpu': 'ARPU',\n",
       " 'arppu': 'ARPPU',\n",
       " '备注': 'Remarks'}"
      ]
     },
     "execution_count": 153,
     "metadata": {},
     "output_type": "execute_result"
    }
   ],
   "source": [
    "pair = dict(zip(combined_df_col_cn, combined_df_col_en))\n",
    "pair"
   ]
  },
  {
   "cell_type": "code",
   "execution_count": 154,
   "metadata": {},
   "outputs": [],
   "source": [
    "# 輸出欄位對照表\n",
    "op_df_trans = pd.DataFrame(list(pair.items()), columns=['中文欄位名', '英文欄位名'])\n",
    "op_df_trans.to_excel('op_df_trans.xlsx', index=False)"
   ]
  },
  {
   "cell_type": "code",
   "execution_count": 155,
   "metadata": {},
   "outputs": [],
   "source": [
    "combined_df.rename(columns=pair, inplace=True)"
   ]
  },
  {
   "cell_type": "code",
   "execution_count": 156,
   "metadata": {},
   "outputs": [],
   "source": [
    "# # 刪除重複欄位\n",
    "# combined_df = combined_df.drop(columns=['Newly Registered Users DoD(%)2'])"
   ]
  },
  {
   "cell_type": "code",
   "execution_count": 157,
   "metadata": {},
   "outputs": [],
   "source": [
    "# combined_df.to_excel(\"sp001_tb_op.xlsx\", index=False)"
   ]
  },
  {
   "cell_type": "code",
   "execution_count": 160,
   "metadata": {},
   "outputs": [],
   "source": [
    "combined_df.to_csv(\"sp001_tb_op.csv\", index=False, encoding='utf-8')"
   ]
  },
  {
   "cell_type": "markdown",
   "metadata": {},
   "source": [
    "#### 3. Top-up dataset"
   ]
  },
  {
   "cell_type": "code",
   "execution_count": 3,
   "metadata": {},
   "outputs": [],
   "source": [
    "#　7/11-11/15"
   ]
  },
  {
   "cell_type": "code",
   "execution_count": 45,
   "metadata": {},
   "outputs": [],
   "source": [
    "end_day = '2023-11-14'\n",
    "start_day = '2023-07-11'\n",
    " \n",
    "date_range = pd.date_range(start_day, end_day, freq = \"1D\")\n",
    "date_range_str = [date_range.strftime('%Y-%m-%d') for date_range in date_range] # list "
   ]
  },
  {
   "cell_type": "code",
   "execution_count": 46,
   "metadata": {},
   "outputs": [],
   "source": [
    "files_path_list = []\n",
    "\n",
    "for i in date_range_str:\n",
    "    files_path = glob(\".\\\\all_channel_rawdata\\\\\" + \n",
    "                  i + \n",
    "                  \"\\\\top_up\\\\charge_*.xlsx\")\n",
    "    files_path_list.extend(files_path)"
   ]
  },
  {
   "cell_type": "code",
   "execution_count": 47,
   "metadata": {},
   "outputs": [
    {
     "data": {
      "text/plain": [
       "['.\\\\all_channel_rawdata\\\\2023-07-11\\\\top_up\\\\charge_1689141827052.xlsx',\n",
       " '.\\\\all_channel_rawdata\\\\2023-07-11\\\\top_up\\\\charge_1689141849256.xlsx',\n",
       " '.\\\\all_channel_rawdata\\\\2023-07-11\\\\top_up\\\\charge_1689141956193.xlsx',\n",
       " '.\\\\all_channel_rawdata\\\\2023-07-11\\\\top_up\\\\charge_1689141993171.xlsx',\n",
       " '.\\\\all_channel_rawdata\\\\2023-07-11\\\\top_up\\\\charge_1689142009761.xlsx',\n",
       " '.\\\\all_channel_rawdata\\\\2023-07-11\\\\top_up\\\\charge_1689142110626.xlsx',\n",
       " '.\\\\all_channel_rawdata\\\\2023-07-11\\\\top_up\\\\charge_1689142153966.xlsx',\n",
       " '.\\\\all_channel_rawdata\\\\2023-07-11\\\\top_up\\\\charge_1689142169643.xlsx',\n",
       " '.\\\\all_channel_rawdata\\\\2023-07-11\\\\top_up\\\\charge_1689142188672.xlsx',\n",
       " '.\\\\all_channel_rawdata\\\\2023-07-12\\\\top_up\\\\charge_1689230542083.xlsx',\n",
       " '.\\\\all_channel_rawdata\\\\2023-07-12\\\\top_up\\\\charge_1689230561042.xlsx',\n",
       " '.\\\\all_channel_rawdata\\\\2023-07-12\\\\top_up\\\\charge_1689230585902.xlsx',\n",
       " '.\\\\all_channel_rawdata\\\\2023-07-12\\\\top_up\\\\charge_1689230605414.xlsx',\n",
       " '.\\\\all_channel_rawdata\\\\2023-07-12\\\\top_up\\\\charge_1689230628825.xlsx',\n",
       " '.\\\\all_channel_rawdata\\\\2023-07-12\\\\top_up\\\\charge_1689230953851.xlsx',\n",
       " '.\\\\all_channel_rawdata\\\\2023-07-12\\\\top_up\\\\charge_1689230971838.xlsx',\n",
       " '.\\\\all_channel_rawdata\\\\2023-07-12\\\\top_up\\\\charge_1689230987676.xlsx',\n",
       " '.\\\\all_channel_rawdata\\\\2023-07-12\\\\top_up\\\\charge_1689231189244.xlsx',\n",
       " '.\\\\all_channel_rawdata\\\\2023-07-13\\\\top_up\\\\charge_1692863288415.xlsx',\n",
       " '.\\\\all_channel_rawdata\\\\2023-07-13\\\\top_up\\\\charge_1692863325511.xlsx',\n",
       " '.\\\\all_channel_rawdata\\\\2023-07-13\\\\top_up\\\\charge_1692863338266.xlsx',\n",
       " '.\\\\all_channel_rawdata\\\\2023-07-13\\\\top_up\\\\charge_1692863371223.xlsx',\n",
       " '.\\\\all_channel_rawdata\\\\2023-07-13\\\\top_up\\\\charge_1692863406319.xlsx',\n",
       " '.\\\\all_channel_rawdata\\\\2023-07-13\\\\top_up\\\\charge_1692863425636.xlsx',\n",
       " '.\\\\all_channel_rawdata\\\\2023-07-13\\\\top_up\\\\charge_1692863446935.xlsx',\n",
       " '.\\\\all_channel_rawdata\\\\2023-07-13\\\\top_up\\\\charge_1692863458006.xlsx',\n",
       " '.\\\\all_channel_rawdata\\\\2023-07-13\\\\top_up\\\\charge_1692863640066.xlsx',\n",
       " '.\\\\all_channel_rawdata\\\\2023-07-14\\\\top_up\\\\charge_1692867576757.xlsx',\n",
       " '.\\\\all_channel_rawdata\\\\2023-07-14\\\\top_up\\\\charge_1692867640800.xlsx',\n",
       " '.\\\\all_channel_rawdata\\\\2023-07-14\\\\top_up\\\\charge_1692867688465.xlsx',\n",
       " '.\\\\all_channel_rawdata\\\\2023-07-14\\\\top_up\\\\charge_1692867697925.xlsx',\n",
       " '.\\\\all_channel_rawdata\\\\2023-07-14\\\\top_up\\\\charge_1692867776286.xlsx',\n",
       " '.\\\\all_channel_rawdata\\\\2023-07-14\\\\top_up\\\\charge_1692867784549.xlsx',\n",
       " '.\\\\all_channel_rawdata\\\\2023-07-14\\\\top_up\\\\charge_1692867793117.xlsx',\n",
       " '.\\\\all_channel_rawdata\\\\2023-07-14\\\\top_up\\\\charge_1692867864039.xlsx',\n",
       " '.\\\\all_channel_rawdata\\\\2023-07-14\\\\top_up\\\\charge_1692867897025.xlsx',\n",
       " '.\\\\all_channel_rawdata\\\\2023-07-15\\\\top_up\\\\charge_1689586354048.xlsx',\n",
       " '.\\\\all_channel_rawdata\\\\2023-07-15\\\\top_up\\\\charge_1689586368662.xlsx',\n",
       " '.\\\\all_channel_rawdata\\\\2023-07-15\\\\top_up\\\\charge_1689587124231.xlsx',\n",
       " '.\\\\all_channel_rawdata\\\\2023-07-15\\\\top_up\\\\charge_1689587560881.xlsx',\n",
       " '.\\\\all_channel_rawdata\\\\2023-07-15\\\\top_up\\\\charge_1689587663115.xlsx',\n",
       " '.\\\\all_channel_rawdata\\\\2023-07-15\\\\top_up\\\\charge_1689587684395.xlsx',\n",
       " '.\\\\all_channel_rawdata\\\\2023-07-15\\\\top_up\\\\charge_1689587699730.xlsx',\n",
       " '.\\\\all_channel_rawdata\\\\2023-07-15\\\\top_up\\\\charge_1689587719918.xlsx',\n",
       " '.\\\\all_channel_rawdata\\\\2023-07-15\\\\top_up\\\\charge_1689587733410.xlsx',\n",
       " '.\\\\all_channel_rawdata\\\\2023-07-16\\\\top_up\\\\charge_1689573352658.xlsx',\n",
       " '.\\\\all_channel_rawdata\\\\2023-07-16\\\\top_up\\\\charge_1689573368656.xlsx',\n",
       " '.\\\\all_channel_rawdata\\\\2023-07-16\\\\top_up\\\\charge_1689573410350.xlsx',\n",
       " '.\\\\all_channel_rawdata\\\\2023-07-16\\\\top_up\\\\charge_1689573505231.xlsx',\n",
       " '.\\\\all_channel_rawdata\\\\2023-07-16\\\\top_up\\\\charge_1689573525831.xlsx',\n",
       " '.\\\\all_channel_rawdata\\\\2023-07-16\\\\top_up\\\\charge_1689574531857.xlsx',\n",
       " '.\\\\all_channel_rawdata\\\\2023-07-16\\\\top_up\\\\charge_1689574674630.xlsx',\n",
       " '.\\\\all_channel_rawdata\\\\2023-07-16\\\\top_up\\\\charge_1689574776160.xlsx',\n",
       " '.\\\\all_channel_rawdata\\\\2023-07-16\\\\top_up\\\\charge_1689574794377.xlsx',\n",
       " '.\\\\all_channel_rawdata\\\\2023-07-16\\\\top_up\\\\charge_1689574810753.xlsx',\n",
       " '.\\\\all_channel_rawdata\\\\2023-07-17\\\\top_up\\\\charge_1689658679912.xlsx',\n",
       " '.\\\\all_channel_rawdata\\\\2023-07-17\\\\top_up\\\\charge_1689658736389.xlsx',\n",
       " '.\\\\all_channel_rawdata\\\\2023-07-17\\\\top_up\\\\charge_1689658813821.xlsx',\n",
       " '.\\\\all_channel_rawdata\\\\2023-07-17\\\\top_up\\\\charge_1689658844352.xlsx',\n",
       " '.\\\\all_channel_rawdata\\\\2023-07-17\\\\top_up\\\\charge_1689658860034.xlsx',\n",
       " '.\\\\all_channel_rawdata\\\\2023-07-17\\\\top_up\\\\charge_1689658876704.xlsx',\n",
       " '.\\\\all_channel_rawdata\\\\2023-07-17\\\\top_up\\\\charge_1689660903950.xlsx',\n",
       " '.\\\\all_channel_rawdata\\\\2023-07-17\\\\top_up\\\\charge_1689660923538.xlsx',\n",
       " '.\\\\all_channel_rawdata\\\\2023-07-17\\\\top_up\\\\charge_1689660947272.xlsx',\n",
       " '.\\\\all_channel_rawdata\\\\2023-07-18\\\\top_up\\\\charge_1689757887817.xlsx',\n",
       " '.\\\\all_channel_rawdata\\\\2023-07-18\\\\top_up\\\\charge_1689757903115.xlsx',\n",
       " '.\\\\all_channel_rawdata\\\\2023-07-18\\\\top_up\\\\charge_1689757916179.xlsx',\n",
       " '.\\\\all_channel_rawdata\\\\2023-07-18\\\\top_up\\\\charge_1689757965396.xlsx',\n",
       " '.\\\\all_channel_rawdata\\\\2023-07-18\\\\top_up\\\\charge_1689757975634.xlsx',\n",
       " '.\\\\all_channel_rawdata\\\\2023-07-18\\\\top_up\\\\charge_1689757989404.xlsx',\n",
       " '.\\\\all_channel_rawdata\\\\2023-07-18\\\\top_up\\\\charge_1689758013277.xlsx',\n",
       " '.\\\\all_channel_rawdata\\\\2023-07-18\\\\top_up\\\\charge_1689758045869.xlsx',\n",
       " '.\\\\all_channel_rawdata\\\\2023-07-19\\\\top_up\\\\charge_1692867979447.xlsx',\n",
       " '.\\\\all_channel_rawdata\\\\2023-07-19\\\\top_up\\\\charge_1692868030619.xlsx',\n",
       " '.\\\\all_channel_rawdata\\\\2023-07-19\\\\top_up\\\\charge_1692868139162.xlsx',\n",
       " '.\\\\all_channel_rawdata\\\\2023-07-19\\\\top_up\\\\charge_1692868157596.xlsx',\n",
       " '.\\\\all_channel_rawdata\\\\2023-07-19\\\\top_up\\\\charge_1692868167644.xlsx',\n",
       " '.\\\\all_channel_rawdata\\\\2023-07-19\\\\top_up\\\\charge_1692868184310.xlsx',\n",
       " '.\\\\all_channel_rawdata\\\\2023-07-20\\\\top_up\\\\charge_1689997480624.xlsx',\n",
       " '.\\\\all_channel_rawdata\\\\2023-07-20\\\\top_up\\\\charge_1689997491384.xlsx',\n",
       " '.\\\\all_channel_rawdata\\\\2023-07-20\\\\top_up\\\\charge_1689997501695.xlsx',\n",
       " '.\\\\all_channel_rawdata\\\\2023-07-20\\\\top_up\\\\charge_1689997512217.xlsx',\n",
       " '.\\\\all_channel_rawdata\\\\2023-07-20\\\\top_up\\\\charge_1689997522145.xlsx',\n",
       " '.\\\\all_channel_rawdata\\\\2023-07-20\\\\top_up\\\\charge_1689997535683.xlsx',\n",
       " '.\\\\all_channel_rawdata\\\\2023-07-20\\\\top_up\\\\charge_1689997617156.xlsx',\n",
       " '.\\\\all_channel_rawdata\\\\2023-07-20\\\\top_up\\\\charge_1689997626871.xlsx',\n",
       " '.\\\\all_channel_rawdata\\\\2023-07-20\\\\top_up\\\\charge_1689997641194.xlsx',\n",
       " '.\\\\all_channel_rawdata\\\\2023-07-21\\\\top_up\\\\charge_1689996776208.xlsx',\n",
       " '.\\\\all_channel_rawdata\\\\2023-07-21\\\\top_up\\\\charge_1689996937478.xlsx',\n",
       " '.\\\\all_channel_rawdata\\\\2023-07-21\\\\top_up\\\\charge_1689997737184.xlsx',\n",
       " '.\\\\all_channel_rawdata\\\\2023-07-21\\\\top_up\\\\charge_1689997769340.xlsx',\n",
       " '.\\\\all_channel_rawdata\\\\2023-07-21\\\\top_up\\\\charge_1689997781055.xlsx',\n",
       " '.\\\\all_channel_rawdata\\\\2023-07-21\\\\top_up\\\\charge_1689997791722.xlsx',\n",
       " '.\\\\all_channel_rawdata\\\\2023-07-21\\\\top_up\\\\charge_1689997836727.xlsx',\n",
       " '.\\\\all_channel_rawdata\\\\2023-07-21\\\\top_up\\\\charge_1689997849396.xlsx',\n",
       " '.\\\\all_channel_rawdata\\\\2023-07-21\\\\top_up\\\\charge_1689997929418.xlsx',\n",
       " '.\\\\all_channel_rawdata\\\\2023-07-22\\\\top_up\\\\charge_1690079254263.xlsx',\n",
       " '.\\\\all_channel_rawdata\\\\2023-07-22\\\\top_up\\\\charge_1690079278871.xlsx',\n",
       " '.\\\\all_channel_rawdata\\\\2023-07-22\\\\top_up\\\\charge_1690079309502.xlsx',\n",
       " '.\\\\all_channel_rawdata\\\\2023-07-22\\\\top_up\\\\charge_1690080064651.xlsx',\n",
       " '.\\\\all_channel_rawdata\\\\2023-07-22\\\\top_up\\\\charge_1690080072038.xlsx',\n",
       " '.\\\\all_channel_rawdata\\\\2023-07-22\\\\top_up\\\\charge_1690080079252.xlsx',\n",
       " '.\\\\all_channel_rawdata\\\\2023-07-22\\\\top_up\\\\charge_1690080086619.xlsx',\n",
       " '.\\\\all_channel_rawdata\\\\2023-07-22\\\\top_up\\\\charge_1690080094039.xlsx',\n",
       " '.\\\\all_channel_rawdata\\\\2023-07-22\\\\top_up\\\\charge_1690080117302.xlsx',\n",
       " '.\\\\all_channel_rawdata\\\\2023-07-24\\\\top_up\\\\charge_1690256155112.xlsx',\n",
       " '.\\\\all_channel_rawdata\\\\2023-07-24\\\\top_up\\\\charge_1690256162578.xlsx',\n",
       " '.\\\\all_channel_rawdata\\\\2023-07-24\\\\top_up\\\\charge_1690256170655.xlsx',\n",
       " '.\\\\all_channel_rawdata\\\\2023-07-24\\\\top_up\\\\charge_1690256178588.xlsx',\n",
       " '.\\\\all_channel_rawdata\\\\2023-07-24\\\\top_up\\\\charge_1690256186223.xlsx',\n",
       " '.\\\\all_channel_rawdata\\\\2023-07-24\\\\top_up\\\\charge_1690256194902.xlsx',\n",
       " '.\\\\all_channel_rawdata\\\\2023-07-24\\\\top_up\\\\charge_1690256203299.xlsx',\n",
       " '.\\\\all_channel_rawdata\\\\2023-07-24\\\\top_up\\\\charge_1690256222458.xlsx',\n",
       " '.\\\\all_channel_rawdata\\\\2023-07-25\\\\top_up\\\\charge_1690334949746.xlsx',\n",
       " '.\\\\all_channel_rawdata\\\\2023-07-25\\\\top_up\\\\charge_1690334960898.xlsx',\n",
       " '.\\\\all_channel_rawdata\\\\2023-07-25\\\\top_up\\\\charge_1690335202983.xlsx',\n",
       " '.\\\\all_channel_rawdata\\\\2023-07-25\\\\top_up\\\\charge_1690335223200.xlsx',\n",
       " '.\\\\all_channel_rawdata\\\\2023-07-25\\\\top_up\\\\charge_1690335259561.xlsx',\n",
       " '.\\\\all_channel_rawdata\\\\2023-07-25\\\\top_up\\\\charge_1690335270779.xlsx',\n",
       " '.\\\\all_channel_rawdata\\\\2023-07-25\\\\top_up\\\\charge_1690335294825.xlsx',\n",
       " '.\\\\all_channel_rawdata\\\\2023-07-26\\\\top_up\\\\charge_1690425913549.xlsx',\n",
       " '.\\\\all_channel_rawdata\\\\2023-07-26\\\\top_up\\\\charge_1690425920265.xlsx',\n",
       " '.\\\\all_channel_rawdata\\\\2023-07-26\\\\top_up\\\\charge_1690425927682.xlsx',\n",
       " '.\\\\all_channel_rawdata\\\\2023-07-26\\\\top_up\\\\charge_1690425955882.xlsx',\n",
       " '.\\\\all_channel_rawdata\\\\2023-07-26\\\\top_up\\\\charge_1690425962440.xlsx',\n",
       " '.\\\\all_channel_rawdata\\\\2023-07-26\\\\top_up\\\\charge_1690425969106.xlsx',\n",
       " '.\\\\all_channel_rawdata\\\\2023-07-26\\\\top_up\\\\charge_1690425975626.xlsx',\n",
       " '.\\\\all_channel_rawdata\\\\2023-07-26\\\\top_up\\\\charge_1690425986626.xlsx',\n",
       " '.\\\\all_channel_rawdata\\\\2023-07-27\\\\top_up\\\\charge_1690508348096.xlsx',\n",
       " '.\\\\all_channel_rawdata\\\\2023-07-27\\\\top_up\\\\charge_1690508354208.xlsx',\n",
       " '.\\\\all_channel_rawdata\\\\2023-07-27\\\\top_up\\\\charge_1690508360226.xlsx',\n",
       " '.\\\\all_channel_rawdata\\\\2023-07-27\\\\top_up\\\\charge_1690508366675.xlsx',\n",
       " '.\\\\all_channel_rawdata\\\\2023-07-27\\\\top_up\\\\charge_1690508372438.xlsx',\n",
       " '.\\\\all_channel_rawdata\\\\2023-07-27\\\\top_up\\\\charge_1690508378207.xlsx',\n",
       " '.\\\\all_channel_rawdata\\\\2023-07-27\\\\top_up\\\\charge_1690508383624.xlsx',\n",
       " '.\\\\all_channel_rawdata\\\\2023-07-27\\\\top_up\\\\charge_1690508389476.xlsx',\n",
       " '.\\\\all_channel_rawdata\\\\2023-07-27\\\\top_up\\\\charge_1690508399751.xlsx',\n",
       " '.\\\\all_channel_rawdata\\\\2023-07-28\\\\top_up\\\\charge_1690564896258.xlsx',\n",
       " '.\\\\all_channel_rawdata\\\\2023-07-28\\\\top_up\\\\charge_1690564903412.xlsx',\n",
       " '.\\\\all_channel_rawdata\\\\2023-07-28\\\\top_up\\\\charge_1690564910960.xlsx',\n",
       " '.\\\\all_channel_rawdata\\\\2023-07-28\\\\top_up\\\\charge_1690564924322.xlsx',\n",
       " '.\\\\all_channel_rawdata\\\\2023-07-28\\\\top_up\\\\charge_1690564931282.xlsx',\n",
       " '.\\\\all_channel_rawdata\\\\2023-07-28\\\\top_up\\\\charge_1690564937785.xlsx',\n",
       " '.\\\\all_channel_rawdata\\\\2023-07-28\\\\top_up\\\\charge_1690564944562.xlsx',\n",
       " '.\\\\all_channel_rawdata\\\\2023-07-28\\\\top_up\\\\charge_1690564956241.xlsx',\n",
       " '.\\\\all_channel_rawdata\\\\2023-07-29\\\\top_up\\\\charge_1690651213092.xlsx',\n",
       " '.\\\\all_channel_rawdata\\\\2023-07-29\\\\top_up\\\\charge_1690651219957.xlsx',\n",
       " '.\\\\all_channel_rawdata\\\\2023-07-29\\\\top_up\\\\charge_1690651226267.xlsx',\n",
       " '.\\\\all_channel_rawdata\\\\2023-07-29\\\\top_up\\\\charge_1690651233431.xlsx',\n",
       " '.\\\\all_channel_rawdata\\\\2023-07-29\\\\top_up\\\\charge_1690651241740.xlsx',\n",
       " '.\\\\all_channel_rawdata\\\\2023-07-29\\\\top_up\\\\charge_1690651248387.xlsx',\n",
       " '.\\\\all_channel_rawdata\\\\2023-07-29\\\\top_up\\\\charge_1690651254556.xlsx',\n",
       " '.\\\\all_channel_rawdata\\\\2023-07-29\\\\top_up\\\\charge_1690651260532.xlsx',\n",
       " '.\\\\all_channel_rawdata\\\\2023-07-29\\\\top_up\\\\charge_1690651271016.xlsx',\n",
       " '.\\\\all_channel_rawdata\\\\2023-07-30\\\\top_up\\\\charge_1690766611376.xlsx',\n",
       " '.\\\\all_channel_rawdata\\\\2023-07-30\\\\top_up\\\\charge_1690766622080.xlsx',\n",
       " '.\\\\all_channel_rawdata\\\\2023-07-30\\\\top_up\\\\charge_1690775021516.xlsx',\n",
       " '.\\\\all_channel_rawdata\\\\2023-07-30\\\\top_up\\\\charge_1690775028996.xlsx',\n",
       " '.\\\\all_channel_rawdata\\\\2023-07-30\\\\top_up\\\\charge_1690775036332.xlsx',\n",
       " '.\\\\all_channel_rawdata\\\\2023-07-30\\\\top_up\\\\charge_1690775043129.xlsx',\n",
       " '.\\\\all_channel_rawdata\\\\2023-07-30\\\\top_up\\\\charge_1690775049588.xlsx',\n",
       " '.\\\\all_channel_rawdata\\\\2023-07-30\\\\top_up\\\\charge_1690775056790.xlsx',\n",
       " '.\\\\all_channel_rawdata\\\\2023-07-30\\\\top_up\\\\charge_1690775068281.xlsx',\n",
       " '.\\\\all_channel_rawdata\\\\2023-07-31\\\\top_up\\\\charge_1690853338192.xlsx',\n",
       " '.\\\\all_channel_rawdata\\\\2023-07-31\\\\top_up\\\\charge_1690853350549.xlsx',\n",
       " '.\\\\all_channel_rawdata\\\\2023-07-31\\\\top_up\\\\charge_1690853373077.xlsx',\n",
       " '.\\\\all_channel_rawdata\\\\2023-07-31\\\\top_up\\\\charge_1690853388709.xlsx',\n",
       " '.\\\\all_channel_rawdata\\\\2023-07-31\\\\top_up\\\\charge_1690853398110.xlsx',\n",
       " '.\\\\all_channel_rawdata\\\\2023-07-31\\\\top_up\\\\charge_1690853441310.xlsx',\n",
       " '.\\\\all_channel_rawdata\\\\2023-07-31\\\\top_up\\\\charge_1690853448205.xlsx',\n",
       " '.\\\\all_channel_rawdata\\\\2023-07-31\\\\top_up\\\\charge_1690853454799.xlsx',\n",
       " '.\\\\all_channel_rawdata\\\\2023-07-31\\\\top_up\\\\charge_1690853551463.xlsx',\n",
       " '.\\\\all_channel_rawdata\\\\2023-08-01\\\\top_up\\\\charge_1690939902431.xlsx',\n",
       " '.\\\\all_channel_rawdata\\\\2023-08-01\\\\top_up\\\\charge_1690939907967.xlsx',\n",
       " '.\\\\all_channel_rawdata\\\\2023-08-01\\\\top_up\\\\charge_1690939914459.xlsx',\n",
       " '.\\\\all_channel_rawdata\\\\2023-08-01\\\\top_up\\\\charge_1690939920430.xlsx',\n",
       " '.\\\\all_channel_rawdata\\\\2023-08-01\\\\top_up\\\\charge_1690939926077.xlsx',\n",
       " '.\\\\all_channel_rawdata\\\\2023-08-01\\\\top_up\\\\charge_1690939931876.xlsx',\n",
       " '.\\\\all_channel_rawdata\\\\2023-08-01\\\\top_up\\\\charge_1690939937743.xlsx',\n",
       " '.\\\\all_channel_rawdata\\\\2023-08-01\\\\top_up\\\\charge_1690939942733.xlsx',\n",
       " '.\\\\all_channel_rawdata\\\\2023-08-01\\\\top_up\\\\charge_1690939953117.xlsx',\n",
       " '.\\\\all_channel_rawdata\\\\2023-08-02\\\\top_up\\\\charge_1691027509501.xlsx',\n",
       " '.\\\\all_channel_rawdata\\\\2023-08-02\\\\top_up\\\\charge_1691027520181.xlsx',\n",
       " '.\\\\all_channel_rawdata\\\\2023-08-02\\\\top_up\\\\charge_1691027534556.xlsx',\n",
       " '.\\\\all_channel_rawdata\\\\2023-08-02\\\\top_up\\\\charge_1691027557748.xlsx',\n",
       " '.\\\\all_channel_rawdata\\\\2023-08-02\\\\top_up\\\\charge_1691027566453.xlsx',\n",
       " '.\\\\all_channel_rawdata\\\\2023-08-02\\\\top_up\\\\charge_1691027574421.xlsx',\n",
       " '.\\\\all_channel_rawdata\\\\2023-08-02\\\\top_up\\\\charge_1691027581924.xlsx',\n",
       " '.\\\\all_channel_rawdata\\\\2023-08-02\\\\top_up\\\\charge_1691027645215.xlsx',\n",
       " '.\\\\all_channel_rawdata\\\\2023-08-02\\\\top_up\\\\charge_1691027685814.xlsx',\n",
       " '.\\\\all_channel_rawdata\\\\2023-08-03\\\\top_up\\\\charge_1691115437451.xlsx',\n",
       " '.\\\\all_channel_rawdata\\\\2023-08-03\\\\top_up\\\\charge_1691115449719.xlsx',\n",
       " '.\\\\all_channel_rawdata\\\\2023-08-03\\\\top_up\\\\charge_1691115457538.xlsx',\n",
       " '.\\\\all_channel_rawdata\\\\2023-08-03\\\\top_up\\\\charge_1691115468657.xlsx',\n",
       " '.\\\\all_channel_rawdata\\\\2023-08-03\\\\top_up\\\\charge_1691115476640.xlsx',\n",
       " '.\\\\all_channel_rawdata\\\\2023-08-03\\\\top_up\\\\charge_1691115484637.xlsx',\n",
       " '.\\\\all_channel_rawdata\\\\2023-08-03\\\\top_up\\\\charge_1691115492288.xlsx',\n",
       " '.\\\\all_channel_rawdata\\\\2023-08-03\\\\top_up\\\\charge_1691115500887.xlsx',\n",
       " '.\\\\all_channel_rawdata\\\\2023-08-04\\\\top_up\\\\charge_1691200475558.xlsx',\n",
       " '.\\\\all_channel_rawdata\\\\2023-08-04\\\\top_up\\\\charge_1691200495148.xlsx',\n",
       " '.\\\\all_channel_rawdata\\\\2023-08-04\\\\top_up\\\\charge_1691200510386.xlsx',\n",
       " '.\\\\all_channel_rawdata\\\\2023-08-04\\\\top_up\\\\charge_1691200517454.xlsx',\n",
       " '.\\\\all_channel_rawdata\\\\2023-08-04\\\\top_up\\\\charge_1691200524889.xlsx',\n",
       " '.\\\\all_channel_rawdata\\\\2023-08-04\\\\top_up\\\\charge_1691200543166.xlsx',\n",
       " '.\\\\all_channel_rawdata\\\\2023-08-04\\\\top_up\\\\charge_1691200550904.xlsx',\n",
       " '.\\\\all_channel_rawdata\\\\2023-08-04\\\\top_up\\\\charge_1691200558565.xlsx',\n",
       " '.\\\\all_channel_rawdata\\\\2023-08-04\\\\top_up\\\\charge_1691200580508.xlsx',\n",
       " '.\\\\all_channel_rawdata\\\\2023-08-05\\\\top_up\\\\charge_1691287572398.xlsx',\n",
       " '.\\\\all_channel_rawdata\\\\2023-08-05\\\\top_up\\\\charge_1691287580451.xlsx',\n",
       " '.\\\\all_channel_rawdata\\\\2023-08-05\\\\top_up\\\\charge_1691288126224.xlsx',\n",
       " '.\\\\all_channel_rawdata\\\\2023-08-05\\\\top_up\\\\charge_1691288134876.xlsx',\n",
       " '.\\\\all_channel_rawdata\\\\2023-08-05\\\\top_up\\\\charge_1691288143575.xlsx',\n",
       " '.\\\\all_channel_rawdata\\\\2023-08-05\\\\top_up\\\\charge_1691288153974.xlsx',\n",
       " '.\\\\all_channel_rawdata\\\\2023-08-05\\\\top_up\\\\charge_1691288162090.xlsx',\n",
       " '.\\\\all_channel_rawdata\\\\2023-08-05\\\\top_up\\\\charge_1691288171693.xlsx',\n",
       " '.\\\\all_channel_rawdata\\\\2023-08-05\\\\top_up\\\\charge_1691288184875.xlsx',\n",
       " '.\\\\all_channel_rawdata\\\\2023-08-06\\\\top_up\\\\charge_1691372714939.xlsx',\n",
       " '.\\\\all_channel_rawdata\\\\2023-08-06\\\\top_up\\\\charge_1691372721489.xlsx',\n",
       " '.\\\\all_channel_rawdata\\\\2023-08-06\\\\top_up\\\\charge_1691372728577.xlsx',\n",
       " '.\\\\all_channel_rawdata\\\\2023-08-06\\\\top_up\\\\charge_1691372734805.xlsx',\n",
       " '.\\\\all_channel_rawdata\\\\2023-08-06\\\\top_up\\\\charge_1691372812159.xlsx',\n",
       " '.\\\\all_channel_rawdata\\\\2023-08-06\\\\top_up\\\\charge_1691372818427.xlsx',\n",
       " '.\\\\all_channel_rawdata\\\\2023-08-06\\\\top_up\\\\charge_1691372842782.xlsx',\n",
       " '.\\\\all_channel_rawdata\\\\2023-08-06\\\\top_up\\\\charge_1691372858677.xlsx',\n",
       " '.\\\\all_channel_rawdata\\\\2023-08-06\\\\top_up\\\\charge_1691372870523.xlsx',\n",
       " '.\\\\all_channel_rawdata\\\\2023-08-07\\\\top_up\\\\charge_1691457922098.xlsx',\n",
       " '.\\\\all_channel_rawdata\\\\2023-08-07\\\\top_up\\\\charge_1691457929961.xlsx',\n",
       " '.\\\\all_channel_rawdata\\\\2023-08-07\\\\top_up\\\\charge_1691457937413.xlsx',\n",
       " '.\\\\all_channel_rawdata\\\\2023-08-07\\\\top_up\\\\charge_1691457944345.xlsx',\n",
       " '.\\\\all_channel_rawdata\\\\2023-08-07\\\\top_up\\\\charge_1691457951305.xlsx',\n",
       " '.\\\\all_channel_rawdata\\\\2023-08-07\\\\top_up\\\\charge_1691457958587.xlsx',\n",
       " '.\\\\all_channel_rawdata\\\\2023-08-07\\\\top_up\\\\charge_1691457965184.xlsx',\n",
       " '.\\\\all_channel_rawdata\\\\2023-08-07\\\\top_up\\\\charge_1691457976880.xlsx',\n",
       " '.\\\\all_channel_rawdata\\\\2023-08-08\\\\top_up\\\\charge_1691545434551.xlsx',\n",
       " '.\\\\all_channel_rawdata\\\\2023-08-08\\\\top_up\\\\charge_1691545443118.xlsx',\n",
       " '.\\\\all_channel_rawdata\\\\2023-08-08\\\\top_up\\\\charge_1691545450819.xlsx',\n",
       " '.\\\\all_channel_rawdata\\\\2023-08-08\\\\top_up\\\\charge_1691545458412.xlsx',\n",
       " '.\\\\all_channel_rawdata\\\\2023-08-08\\\\top_up\\\\charge_1691545465967.xlsx',\n",
       " '.\\\\all_channel_rawdata\\\\2023-08-08\\\\top_up\\\\charge_1691545507336.xlsx',\n",
       " '.\\\\all_channel_rawdata\\\\2023-08-08\\\\top_up\\\\charge_1691545514197.xlsx',\n",
       " '.\\\\all_channel_rawdata\\\\2023-08-08\\\\top_up\\\\charge_1691545522126.xlsx',\n",
       " '.\\\\all_channel_rawdata\\\\2023-08-08\\\\top_up\\\\charge_1691545528622.xlsx',\n",
       " '.\\\\all_channel_rawdata\\\\2023-08-08\\\\top_up\\\\charge_1691545539956.xlsx',\n",
       " '.\\\\all_channel_rawdata\\\\2023-08-09\\\\top_up\\\\charge_1691630088596.xlsx',\n",
       " '.\\\\all_channel_rawdata\\\\2023-08-09\\\\top_up\\\\charge_1691630096704.xlsx',\n",
       " '.\\\\all_channel_rawdata\\\\2023-08-09\\\\top_up\\\\charge_1691630104442.xlsx',\n",
       " '.\\\\all_channel_rawdata\\\\2023-08-09\\\\top_up\\\\charge_1691630113369.xlsx',\n",
       " '.\\\\all_channel_rawdata\\\\2023-08-09\\\\top_up\\\\charge_1691630138475.xlsx',\n",
       " '.\\\\all_channel_rawdata\\\\2023-08-09\\\\top_up\\\\charge_1691630151685.xlsx',\n",
       " '.\\\\all_channel_rawdata\\\\2023-08-09\\\\top_up\\\\charge_1691630159051.xlsx',\n",
       " '.\\\\all_channel_rawdata\\\\2023-08-09\\\\top_up\\\\charge_1691630186076.xlsx',\n",
       " '.\\\\all_channel_rawdata\\\\2023-08-09\\\\top_up\\\\charge_1691630193268.xlsx',\n",
       " '.\\\\all_channel_rawdata\\\\2023-08-09\\\\top_up\\\\charge_1691630215371.xlsx',\n",
       " '.\\\\all_channel_rawdata\\\\2023-08-10\\\\top_up\\\\charge_1691717046222.xlsx',\n",
       " '.\\\\all_channel_rawdata\\\\2023-08-10\\\\top_up\\\\charge_1691717053593.xlsx',\n",
       " '.\\\\all_channel_rawdata\\\\2023-08-10\\\\top_up\\\\charge_1691717064030.xlsx',\n",
       " '.\\\\all_channel_rawdata\\\\2023-08-10\\\\top_up\\\\charge_1691717077906.xlsx',\n",
       " '.\\\\all_channel_rawdata\\\\2023-08-10\\\\top_up\\\\charge_1691717097997.xlsx',\n",
       " '.\\\\all_channel_rawdata\\\\2023-08-10\\\\top_up\\\\charge_1691717106842.xlsx',\n",
       " '.\\\\all_channel_rawdata\\\\2023-08-10\\\\top_up\\\\charge_1691717126414.xlsx',\n",
       " '.\\\\all_channel_rawdata\\\\2023-08-10\\\\top_up\\\\charge_1691717139023.xlsx',\n",
       " '.\\\\all_channel_rawdata\\\\2023-08-10\\\\top_up\\\\charge_1691717158826.xlsx',\n",
       " '.\\\\all_channel_rawdata\\\\2023-08-11\\\\top_up\\\\charge_1691774405350.xlsx',\n",
       " '.\\\\all_channel_rawdata\\\\2023-08-11\\\\top_up\\\\charge_1691774411661.xlsx',\n",
       " '.\\\\all_channel_rawdata\\\\2023-08-11\\\\top_up\\\\charge_1691774418334.xlsx',\n",
       " '.\\\\all_channel_rawdata\\\\2023-08-11\\\\top_up\\\\charge_1691774424645.xlsx',\n",
       " '.\\\\all_channel_rawdata\\\\2023-08-11\\\\top_up\\\\charge_1691774430621.xlsx',\n",
       " '.\\\\all_channel_rawdata\\\\2023-08-11\\\\top_up\\\\charge_1691774436721.xlsx',\n",
       " '.\\\\all_channel_rawdata\\\\2023-08-11\\\\top_up\\\\charge_1691774443293.xlsx',\n",
       " '.\\\\all_channel_rawdata\\\\2023-08-11\\\\top_up\\\\charge_1691774449159.xlsx',\n",
       " '.\\\\all_channel_rawdata\\\\2023-08-11\\\\top_up\\\\charge_1691774454933.xlsx',\n",
       " '.\\\\all_channel_rawdata\\\\2023-08-11\\\\top_up\\\\charge_1691774466044.xlsx',\n",
       " '.\\\\all_channel_rawdata\\\\2023-08-12\\\\top_up\\\\charge_1691860861675.xlsx',\n",
       " '.\\\\all_channel_rawdata\\\\2023-08-12\\\\top_up\\\\charge_1691860869187.xlsx',\n",
       " '.\\\\all_channel_rawdata\\\\2023-08-12\\\\top_up\\\\charge_1691860875432.xlsx',\n",
       " '.\\\\all_channel_rawdata\\\\2023-08-12\\\\top_up\\\\charge_1691860881698.xlsx',\n",
       " '.\\\\all_channel_rawdata\\\\2023-08-12\\\\top_up\\\\charge_1691860887555.xlsx',\n",
       " '.\\\\all_channel_rawdata\\\\2023-08-12\\\\top_up\\\\charge_1691860893528.xlsx',\n",
       " '.\\\\all_channel_rawdata\\\\2023-08-12\\\\top_up\\\\charge_1691860899338.xlsx',\n",
       " '.\\\\all_channel_rawdata\\\\2023-08-12\\\\top_up\\\\charge_1691860905539.xlsx',\n",
       " '.\\\\all_channel_rawdata\\\\2023-08-12\\\\top_up\\\\charge_1691860915792.xlsx',\n",
       " '.\\\\all_channel_rawdata\\\\2023-08-13\\\\top_up\\\\charge_1691976405236.xlsx',\n",
       " '.\\\\all_channel_rawdata\\\\2023-08-13\\\\top_up\\\\charge_1691976468947.xlsx',\n",
       " '.\\\\all_channel_rawdata\\\\2023-08-13\\\\top_up\\\\charge_1691976478796.xlsx',\n",
       " '.\\\\all_channel_rawdata\\\\2023-08-13\\\\top_up\\\\charge_1691976486441.xlsx',\n",
       " '.\\\\all_channel_rawdata\\\\2023-08-13\\\\top_up\\\\charge_1691976494186.xlsx',\n",
       " '.\\\\all_channel_rawdata\\\\2023-08-13\\\\top_up\\\\charge_1691976501249.xlsx',\n",
       " '.\\\\all_channel_rawdata\\\\2023-08-13\\\\top_up\\\\charge_1691976510573.xlsx',\n",
       " '.\\\\all_channel_rawdata\\\\2023-08-14\\\\top_up\\\\charge_1692062969606.xlsx',\n",
       " '.\\\\all_channel_rawdata\\\\2023-08-14\\\\top_up\\\\charge_1692062978028.xlsx',\n",
       " '.\\\\all_channel_rawdata\\\\2023-08-14\\\\top_up\\\\charge_1692062984733.xlsx',\n",
       " '.\\\\all_channel_rawdata\\\\2023-08-14\\\\top_up\\\\charge_1692062991660.xlsx',\n",
       " '.\\\\all_channel_rawdata\\\\2023-08-14\\\\top_up\\\\charge_1692062998208.xlsx',\n",
       " '.\\\\all_channel_rawdata\\\\2023-08-14\\\\top_up\\\\charge_1692063005323.xlsx',\n",
       " '.\\\\all_channel_rawdata\\\\2023-08-14\\\\top_up\\\\charge_1692063011805.xlsx',\n",
       " '.\\\\all_channel_rawdata\\\\2023-08-14\\\\top_up\\\\charge_1692063023888.xlsx',\n",
       " '.\\\\all_channel_rawdata\\\\2023-08-15\\\\top_up\\\\charge_1692149963284.xlsx',\n",
       " '.\\\\all_channel_rawdata\\\\2023-08-15\\\\top_up\\\\charge_1692149972933.xlsx',\n",
       " '.\\\\all_channel_rawdata\\\\2023-08-15\\\\top_up\\\\charge_1692149980471.xlsx',\n",
       " '.\\\\all_channel_rawdata\\\\2023-08-15\\\\top_up\\\\charge_1692149996593.xlsx',\n",
       " '.\\\\all_channel_rawdata\\\\2023-08-15\\\\top_up\\\\charge_1692150007008.xlsx',\n",
       " '.\\\\all_channel_rawdata\\\\2023-08-15\\\\top_up\\\\charge_1692150043485.xlsx',\n",
       " '.\\\\all_channel_rawdata\\\\2023-08-15\\\\top_up\\\\charge_1692150067722.xlsx',\n",
       " '.\\\\all_channel_rawdata\\\\2023-08-15\\\\top_up\\\\charge_1692150074586.xlsx',\n",
       " '.\\\\all_channel_rawdata\\\\2023-08-15\\\\top_up\\\\charge_1692150081320.xlsx',\n",
       " '.\\\\all_channel_rawdata\\\\2023-08-15\\\\top_up\\\\charge_1692150092024.xlsx',\n",
       " '.\\\\all_channel_rawdata\\\\2023-08-16\\\\top_up\\\\charge_1692235116135.xlsx',\n",
       " '.\\\\all_channel_rawdata\\\\2023-08-16\\\\top_up\\\\charge_1692235123440.xlsx',\n",
       " '.\\\\all_channel_rawdata\\\\2023-08-16\\\\top_up\\\\charge_1692235130826.xlsx',\n",
       " '.\\\\all_channel_rawdata\\\\2023-08-16\\\\top_up\\\\charge_1692235137778.xlsx',\n",
       " '.\\\\all_channel_rawdata\\\\2023-08-16\\\\top_up\\\\charge_1692235143583.xlsx',\n",
       " '.\\\\all_channel_rawdata\\\\2023-08-16\\\\top_up\\\\charge_1692235150858.xlsx',\n",
       " '.\\\\all_channel_rawdata\\\\2023-08-16\\\\top_up\\\\charge_1692235157100.xlsx',\n",
       " '.\\\\all_channel_rawdata\\\\2023-08-16\\\\top_up\\\\charge_1692235163041.xlsx',\n",
       " '.\\\\all_channel_rawdata\\\\2023-08-16\\\\top_up\\\\charge_1692235179799.xlsx',\n",
       " '.\\\\all_channel_rawdata\\\\2023-08-17\\\\top_up\\\\charge_1692322657594.xlsx',\n",
       " '.\\\\all_channel_rawdata\\\\2023-08-17\\\\top_up\\\\charge_1692322665299.xlsx',\n",
       " '.\\\\all_channel_rawdata\\\\2023-08-17\\\\top_up\\\\charge_1692322671714.xlsx',\n",
       " '.\\\\all_channel_rawdata\\\\2023-08-17\\\\top_up\\\\charge_1692322679201.xlsx',\n",
       " '.\\\\all_channel_rawdata\\\\2023-08-17\\\\top_up\\\\charge_1692322685842.xlsx',\n",
       " '.\\\\all_channel_rawdata\\\\2023-08-17\\\\top_up\\\\charge_1692322692726.xlsx',\n",
       " '.\\\\all_channel_rawdata\\\\2023-08-17\\\\top_up\\\\charge_1692322699178.xlsx',\n",
       " '.\\\\all_channel_rawdata\\\\2023-08-17\\\\top_up\\\\charge_1692322705323.xlsx',\n",
       " '.\\\\all_channel_rawdata\\\\2023-08-17\\\\top_up\\\\charge_1692322712163.xlsx',\n",
       " '.\\\\all_channel_rawdata\\\\2023-08-17\\\\top_up\\\\charge_1692322723785.xlsx',\n",
       " '.\\\\all_channel_rawdata\\\\2023-08-18\\\\top_up\\\\charge_1692410113075.xlsx',\n",
       " '.\\\\all_channel_rawdata\\\\2023-08-18\\\\top_up\\\\charge_1692410121507.xlsx',\n",
       " '.\\\\all_channel_rawdata\\\\2023-08-18\\\\top_up\\\\charge_1692410129727.xlsx',\n",
       " '.\\\\all_channel_rawdata\\\\2023-08-18\\\\top_up\\\\charge_1692410137793.xlsx',\n",
       " '.\\\\all_channel_rawdata\\\\2023-08-18\\\\top_up\\\\charge_1692410146559.xlsx',\n",
       " '.\\\\all_channel_rawdata\\\\2023-08-18\\\\top_up\\\\charge_1692410155494.xlsx',\n",
       " '.\\\\all_channel_rawdata\\\\2023-08-18\\\\top_up\\\\charge_1692410164009.xlsx',\n",
       " '.\\\\all_channel_rawdata\\\\2023-08-18\\\\top_up\\\\charge_1692410176431.xlsx',\n",
       " '.\\\\all_channel_rawdata\\\\2023-08-18\\\\top_up\\\\charge_1692410190941.xlsx',\n",
       " '.\\\\all_channel_rawdata\\\\2023-08-19\\\\top_up\\\\charge_1692500202771.xlsx',\n",
       " '.\\\\all_channel_rawdata\\\\2023-08-19\\\\top_up\\\\charge_1692500211086.xlsx',\n",
       " '.\\\\all_channel_rawdata\\\\2023-08-19\\\\top_up\\\\charge_1692500218817.xlsx',\n",
       " '.\\\\all_channel_rawdata\\\\2023-08-19\\\\top_up\\\\charge_1692500226784.xlsx',\n",
       " '.\\\\all_channel_rawdata\\\\2023-08-19\\\\top_up\\\\charge_1692500234206.xlsx',\n",
       " '.\\\\all_channel_rawdata\\\\2023-08-19\\\\top_up\\\\charge_1692500241701.xlsx',\n",
       " '.\\\\all_channel_rawdata\\\\2023-08-19\\\\top_up\\\\charge_1692500250303.xlsx',\n",
       " '.\\\\all_channel_rawdata\\\\2023-08-19\\\\top_up\\\\charge_1692500262937.xlsx',\n",
       " '.\\\\all_channel_rawdata\\\\2023-08-20\\\\top_up\\\\charge_1692580373393.xlsx',\n",
       " '.\\\\all_channel_rawdata\\\\2023-08-20\\\\top_up\\\\charge_1692580382277.xlsx',\n",
       " '.\\\\all_channel_rawdata\\\\2023-08-20\\\\top_up\\\\charge_1692580451082.xlsx',\n",
       " '.\\\\all_channel_rawdata\\\\2023-08-20\\\\top_up\\\\charge_1692580488728.xlsx',\n",
       " '.\\\\all_channel_rawdata\\\\2023-08-20\\\\top_up\\\\charge_1692580497777.xlsx',\n",
       " '.\\\\all_channel_rawdata\\\\2023-08-20\\\\top_up\\\\charge_1692580505716.xlsx',\n",
       " '.\\\\all_channel_rawdata\\\\2023-08-20\\\\top_up\\\\charge_1692580657268.xlsx',\n",
       " '.\\\\all_channel_rawdata\\\\2023-08-20\\\\top_up\\\\charge_1692581579296.xlsx',\n",
       " '.\\\\all_channel_rawdata\\\\2023-08-21\\\\top_up\\\\charge_1692667460639.xlsx',\n",
       " '.\\\\all_channel_rawdata\\\\2023-08-21\\\\top_up\\\\charge_1692667467384.xlsx',\n",
       " '.\\\\all_channel_rawdata\\\\2023-08-21\\\\top_up\\\\charge_1692667473693.xlsx',\n",
       " '.\\\\all_channel_rawdata\\\\2023-08-21\\\\top_up\\\\charge_1692667479845.xlsx',\n",
       " '.\\\\all_channel_rawdata\\\\2023-08-21\\\\top_up\\\\charge_1692667487443.xlsx',\n",
       " '.\\\\all_channel_rawdata\\\\2023-08-21\\\\top_up\\\\charge_1692667494254.xlsx',\n",
       " '.\\\\all_channel_rawdata\\\\2023-08-21\\\\top_up\\\\charge_1692667500325.xlsx',\n",
       " '.\\\\all_channel_rawdata\\\\2023-08-21\\\\top_up\\\\charge_1692667507685.xlsx',\n",
       " '.\\\\all_channel_rawdata\\\\2023-08-21\\\\top_up\\\\charge_1692667518890.xlsx',\n",
       " '.\\\\all_channel_rawdata\\\\2023-08-22\\\\top_up\\\\charge_1692753515772.xlsx',\n",
       " '.\\\\all_channel_rawdata\\\\2023-08-22\\\\top_up\\\\charge_1692753522474.xlsx',\n",
       " '.\\\\all_channel_rawdata\\\\2023-08-22\\\\top_up\\\\charge_1692753548916.xlsx',\n",
       " '.\\\\all_channel_rawdata\\\\2023-08-22\\\\top_up\\\\charge_1692753896803.xlsx',\n",
       " '.\\\\all_channel_rawdata\\\\2023-08-22\\\\top_up\\\\charge_1692753905420.xlsx',\n",
       " '.\\\\all_channel_rawdata\\\\2023-08-22\\\\top_up\\\\charge_1692753924174.xlsx',\n",
       " '.\\\\all_channel_rawdata\\\\2023-08-22\\\\top_up\\\\charge_1692753944705.xlsx',\n",
       " '.\\\\all_channel_rawdata\\\\2023-08-22\\\\top_up\\\\charge_1692754004126.xlsx',\n",
       " '.\\\\all_channel_rawdata\\\\2023-08-22\\\\top_up\\\\charge_1692754250699.xlsx',\n",
       " '.\\\\all_channel_rawdata\\\\2023-08-22\\\\top_up\\\\charge_1692754572070.xlsx',\n",
       " '.\\\\all_channel_rawdata\\\\2023-08-23\\\\top_up\\\\charge_1692839752251.xlsx',\n",
       " '.\\\\all_channel_rawdata\\\\2023-08-23\\\\top_up\\\\charge_1692839762346.xlsx',\n",
       " '.\\\\all_channel_rawdata\\\\2023-08-23\\\\top_up\\\\charge_1692839769627.xlsx',\n",
       " '.\\\\all_channel_rawdata\\\\2023-08-23\\\\top_up\\\\charge_1692839778264.xlsx',\n",
       " '.\\\\all_channel_rawdata\\\\2023-08-23\\\\top_up\\\\charge_1692839787500.xlsx',\n",
       " '.\\\\all_channel_rawdata\\\\2023-08-23\\\\top_up\\\\charge_1692839795419.xlsx',\n",
       " '.\\\\all_channel_rawdata\\\\2023-08-23\\\\top_up\\\\charge_1692839802275.xlsx',\n",
       " '.\\\\all_channel_rawdata\\\\2023-08-23\\\\top_up\\\\charge_1692839809273.xlsx',\n",
       " '.\\\\all_channel_rawdata\\\\2023-08-23\\\\top_up\\\\charge_1692839821001.xlsx',\n",
       " '.\\\\all_channel_rawdata\\\\2023-08-23\\\\top_up\\\\charge_1692839835704.xlsx',\n",
       " '.\\\\all_channel_rawdata\\\\2023-08-24\\\\top_up\\\\charge_1692926654471.xlsx',\n",
       " '.\\\\all_channel_rawdata\\\\2023-08-24\\\\top_up\\\\charge_1692926662230.xlsx',\n",
       " '.\\\\all_channel_rawdata\\\\2023-08-24\\\\top_up\\\\charge_1692926668786.xlsx',\n",
       " '.\\\\all_channel_rawdata\\\\2023-08-24\\\\top_up\\\\charge_1692926675092.xlsx',\n",
       " '.\\\\all_channel_rawdata\\\\2023-08-24\\\\top_up\\\\charge_1692926682753.xlsx',\n",
       " '.\\\\all_channel_rawdata\\\\2023-08-24\\\\top_up\\\\charge_1692926689721.xlsx',\n",
       " '.\\\\all_channel_rawdata\\\\2023-08-24\\\\top_up\\\\charge_1692926695694.xlsx',\n",
       " '.\\\\all_channel_rawdata\\\\2023-08-24\\\\top_up\\\\charge_1692926705090.xlsx',\n",
       " '.\\\\all_channel_rawdata\\\\2023-08-24\\\\top_up\\\\charge_1692926717999.xlsx',\n",
       " '.\\\\all_channel_rawdata\\\\2023-08-25\\\\top_up\\\\charge_1692983639714.xlsx',\n",
       " '.\\\\all_channel_rawdata\\\\2023-08-25\\\\top_up\\\\charge_1692983648930.xlsx',\n",
       " '.\\\\all_channel_rawdata\\\\2023-08-25\\\\top_up\\\\charge_1692983655692.xlsx',\n",
       " '.\\\\all_channel_rawdata\\\\2023-08-25\\\\top_up\\\\charge_1692983662669.xlsx',\n",
       " '.\\\\all_channel_rawdata\\\\2023-08-25\\\\top_up\\\\charge_1692983669596.xlsx',\n",
       " '.\\\\all_channel_rawdata\\\\2023-08-25\\\\top_up\\\\charge_1692983676661.xlsx',\n",
       " '.\\\\all_channel_rawdata\\\\2023-08-25\\\\top_up\\\\charge_1692983682740.xlsx',\n",
       " '.\\\\all_channel_rawdata\\\\2023-08-25\\\\top_up\\\\charge_1692983688925.xlsx',\n",
       " '.\\\\all_channel_rawdata\\\\2023-08-25\\\\top_up\\\\charge_1692983696736.xlsx',\n",
       " '.\\\\all_channel_rawdata\\\\2023-08-25\\\\top_up\\\\charge_1692983708113.xlsx',\n",
       " '.\\\\all_channel_rawdata\\\\2023-08-26\\\\top_up\\\\charge_1693070374684.xlsx',\n",
       " '.\\\\all_channel_rawdata\\\\2023-08-26\\\\top_up\\\\charge_1693070381835.xlsx',\n",
       " '.\\\\all_channel_rawdata\\\\2023-08-26\\\\top_up\\\\charge_1693070387955.xlsx',\n",
       " '.\\\\all_channel_rawdata\\\\2023-08-26\\\\top_up\\\\charge_1693070394220.xlsx',\n",
       " '.\\\\all_channel_rawdata\\\\2023-08-26\\\\top_up\\\\charge_1693070400321.xlsx',\n",
       " '.\\\\all_channel_rawdata\\\\2023-08-26\\\\top_up\\\\charge_1693070406351.xlsx',\n",
       " '.\\\\all_channel_rawdata\\\\2023-08-26\\\\top_up\\\\charge_1693070411921.xlsx',\n",
       " '.\\\\all_channel_rawdata\\\\2023-08-26\\\\top_up\\\\charge_1693070417586.xlsx',\n",
       " '.\\\\all_channel_rawdata\\\\2023-08-26\\\\top_up\\\\charge_1693070423490.xlsx',\n",
       " '.\\\\all_channel_rawdata\\\\2023-08-26\\\\top_up\\\\charge_1693070436003.xlsx',\n",
       " '.\\\\all_channel_rawdata\\\\2023-08-27\\\\top_up\\\\charge_1693185742930.xlsx',\n",
       " '.\\\\all_channel_rawdata\\\\2023-08-27\\\\top_up\\\\charge_1693185748781.xlsx',\n",
       " '.\\\\all_channel_rawdata\\\\2023-08-27\\\\top_up\\\\charge_1693185755980.xlsx',\n",
       " '.\\\\all_channel_rawdata\\\\2023-08-27\\\\top_up\\\\charge_1693185762141.xlsx',\n",
       " '.\\\\all_channel_rawdata\\\\2023-08-27\\\\top_up\\\\charge_1693185781781.xlsx',\n",
       " '.\\\\all_channel_rawdata\\\\2023-08-27\\\\top_up\\\\charge_1693185787492.xlsx',\n",
       " '.\\\\all_channel_rawdata\\\\2023-08-27\\\\top_up\\\\charge_1693185793946.xlsx',\n",
       " '.\\\\all_channel_rawdata\\\\2023-08-27\\\\top_up\\\\charge_1693185799999.xlsx',\n",
       " '.\\\\all_channel_rawdata\\\\2023-08-27\\\\top_up\\\\charge_1693185806452.xlsx',\n",
       " '.\\\\all_channel_rawdata\\\\2023-08-27\\\\top_up\\\\charge_1693185817482.xlsx',\n",
       " '.\\\\all_channel_rawdata\\\\2023-08-28\\\\top_up\\\\charge_1693272250701.xlsx',\n",
       " '.\\\\all_channel_rawdata\\\\2023-08-28\\\\top_up\\\\charge_1693272259498.xlsx',\n",
       " '.\\\\all_channel_rawdata\\\\2023-08-28\\\\top_up\\\\charge_1693272266946.xlsx',\n",
       " '.\\\\all_channel_rawdata\\\\2023-08-28\\\\top_up\\\\charge_1693272274658.xlsx',\n",
       " '.\\\\all_channel_rawdata\\\\2023-08-28\\\\top_up\\\\charge_1693272296293.xlsx',\n",
       " '.\\\\all_channel_rawdata\\\\2023-08-28\\\\top_up\\\\charge_1693272303594.xlsx',\n",
       " '.\\\\all_channel_rawdata\\\\2023-08-28\\\\top_up\\\\charge_1693272319699.xlsx',\n",
       " '.\\\\all_channel_rawdata\\\\2023-08-28\\\\top_up\\\\charge_1693272326560.xlsx',\n",
       " '.\\\\all_channel_rawdata\\\\2023-08-28\\\\top_up\\\\charge_1693272333060.xlsx',\n",
       " '.\\\\all_channel_rawdata\\\\2023-08-28\\\\top_up\\\\charge_1693272344606.xlsx',\n",
       " '.\\\\all_channel_rawdata\\\\2023-08-29\\\\top_up\\\\charge_1693358729922.xlsx',\n",
       " '.\\\\all_channel_rawdata\\\\2023-08-29\\\\top_up\\\\charge_1693358738299.xlsx',\n",
       " '.\\\\all_channel_rawdata\\\\2023-08-29\\\\top_up\\\\charge_1693358745178.xlsx',\n",
       " '.\\\\all_channel_rawdata\\\\2023-08-29\\\\top_up\\\\charge_1693358752562.xlsx',\n",
       " '.\\\\all_channel_rawdata\\\\2023-08-29\\\\top_up\\\\charge_1693358761105.xlsx',\n",
       " '.\\\\all_channel_rawdata\\\\2023-08-29\\\\top_up\\\\charge_1693358774276.xlsx',\n",
       " '.\\\\all_channel_rawdata\\\\2023-08-29\\\\top_up\\\\charge_1693358802870.xlsx',\n",
       " '.\\\\all_channel_rawdata\\\\2023-08-29\\\\top_up\\\\charge_1693358810662.xlsx',\n",
       " '.\\\\all_channel_rawdata\\\\2023-08-29\\\\top_up\\\\charge_1693358850275.xlsx',\n",
       " '.\\\\all_channel_rawdata\\\\2023-08-30\\\\top_up\\\\charge_1693445544922.xlsx',\n",
       " '.\\\\all_channel_rawdata\\\\2023-08-30\\\\top_up\\\\charge_1693445572289.xlsx',\n",
       " '.\\\\all_channel_rawdata\\\\2023-08-30\\\\top_up\\\\charge_1693445606006.xlsx',\n",
       " '.\\\\all_channel_rawdata\\\\2023-08-30\\\\top_up\\\\charge_1693445613294.xlsx',\n",
       " '.\\\\all_channel_rawdata\\\\2023-08-30\\\\top_up\\\\charge_1693445621030.xlsx',\n",
       " '.\\\\all_channel_rawdata\\\\2023-08-30\\\\top_up\\\\charge_1693445646358.xlsx',\n",
       " '.\\\\all_channel_rawdata\\\\2023-08-30\\\\top_up\\\\charge_1693445656024.xlsx',\n",
       " '.\\\\all_channel_rawdata\\\\2023-08-30\\\\top_up\\\\charge_1693445670273.xlsx',\n",
       " '.\\\\all_channel_rawdata\\\\2023-08-30\\\\top_up\\\\charge_1693445684863.xlsx',\n",
       " '.\\\\all_channel_rawdata\\\\2023-08-30\\\\top_up\\\\charge_1693445700497.xlsx',\n",
       " '.\\\\all_channel_rawdata\\\\2023-08-30\\\\top_up\\\\charge_1693445711814.xlsx',\n",
       " '.\\\\all_channel_rawdata\\\\2023-08-31\\\\top_up\\\\charge_1693723169361.xlsx',\n",
       " '.\\\\all_channel_rawdata\\\\2023-08-31\\\\top_up\\\\charge_1693723176353.xlsx',\n",
       " '.\\\\all_channel_rawdata\\\\2023-08-31\\\\top_up\\\\charge_1693723183456.xlsx',\n",
       " '.\\\\all_channel_rawdata\\\\2023-08-31\\\\top_up\\\\charge_1693723191237.xlsx',\n",
       " '.\\\\all_channel_rawdata\\\\2023-08-31\\\\top_up\\\\charge_1693723198188.xlsx',\n",
       " '.\\\\all_channel_rawdata\\\\2023-08-31\\\\top_up\\\\charge_1693723207926.xlsx',\n",
       " '.\\\\all_channel_rawdata\\\\2023-08-31\\\\top_up\\\\charge_1693723215429.xlsx',\n",
       " '.\\\\all_channel_rawdata\\\\2023-08-31\\\\top_up\\\\charge_1693723224078.xlsx',\n",
       " '.\\\\all_channel_rawdata\\\\2023-08-31\\\\top_up\\\\charge_1693723231325.xlsx',\n",
       " '.\\\\all_channel_rawdata\\\\2023-08-31\\\\top_up\\\\charge_1693723264489.xlsx',\n",
       " '.\\\\all_channel_rawdata\\\\2023-08-31\\\\top_up\\\\charge_1693723277056.xlsx',\n",
       " '.\\\\all_channel_rawdata\\\\2023-09-01\\\\top_up\\\\charge_1693722870826.xlsx',\n",
       " '.\\\\all_channel_rawdata\\\\2023-09-01\\\\top_up\\\\charge_1693722924489.xlsx',\n",
       " '.\\\\all_channel_rawdata\\\\2023-09-01\\\\top_up\\\\charge_1693722932289.xlsx',\n",
       " '.\\\\all_channel_rawdata\\\\2023-09-01\\\\top_up\\\\charge_1693722940368.xlsx',\n",
       " '.\\\\all_channel_rawdata\\\\2023-09-01\\\\top_up\\\\charge_1693722948719.xlsx',\n",
       " '.\\\\all_channel_rawdata\\\\2023-09-01\\\\top_up\\\\charge_1693722958238.xlsx',\n",
       " '.\\\\all_channel_rawdata\\\\2023-09-01\\\\top_up\\\\charge_1693722978940.xlsx',\n",
       " '.\\\\all_channel_rawdata\\\\2023-09-01\\\\top_up\\\\charge_1693722987983.xlsx',\n",
       " '.\\\\all_channel_rawdata\\\\2023-09-01\\\\top_up\\\\charge_1693722998334.xlsx',\n",
       " '.\\\\all_channel_rawdata\\\\2023-09-01\\\\top_up\\\\charge_1693723007586.xlsx',\n",
       " '.\\\\all_channel_rawdata\\\\2023-09-01\\\\top_up\\\\charge_1693723016139.xlsx',\n",
       " '.\\\\all_channel_rawdata\\\\2023-09-01\\\\top_up\\\\charge_1693723125490.xlsx',\n",
       " '.\\\\all_channel_rawdata\\\\2023-09-02\\\\top_up\\\\charge_1693713912018.xlsx',\n",
       " '.\\\\all_channel_rawdata\\\\2023-09-02\\\\top_up\\\\charge_1693713922632.xlsx',\n",
       " '.\\\\all_channel_rawdata\\\\2023-09-02\\\\top_up\\\\charge_1693713932156.xlsx',\n",
       " '.\\\\all_channel_rawdata\\\\2023-09-02\\\\top_up\\\\charge_1693713948047.xlsx',\n",
       " '.\\\\all_channel_rawdata\\\\2023-09-02\\\\top_up\\\\charge_1693713957599.xlsx',\n",
       " '.\\\\all_channel_rawdata\\\\2023-09-02\\\\top_up\\\\charge_1693713966016.xlsx',\n",
       " '.\\\\all_channel_rawdata\\\\2023-09-02\\\\top_up\\\\charge_1693713974297.xlsx',\n",
       " '.\\\\all_channel_rawdata\\\\2023-09-02\\\\top_up\\\\charge_1693713983321.xlsx',\n",
       " '.\\\\all_channel_rawdata\\\\2023-09-02\\\\top_up\\\\charge_1693713992015.xlsx',\n",
       " '.\\\\all_channel_rawdata\\\\2023-09-02\\\\top_up\\\\charge_1693714002848.xlsx',\n",
       " '.\\\\all_channel_rawdata\\\\2023-09-02\\\\top_up\\\\charge_1693714012349.xlsx',\n",
       " '.\\\\all_channel_rawdata\\\\2023-09-02\\\\top_up\\\\charge_1693714051348.xlsx',\n",
       " '.\\\\all_channel_rawdata\\\\2023-09-03\\\\top_up\\\\charge_1693790327820.xlsx',\n",
       " '.\\\\all_channel_rawdata\\\\2023-09-03\\\\top_up\\\\charge_1693792322842.xlsx',\n",
       " '.\\\\all_channel_rawdata\\\\2023-09-03\\\\top_up\\\\charge_1693792332924.xlsx',\n",
       " '.\\\\all_channel_rawdata\\\\2023-09-03\\\\top_up\\\\charge_1693792461232.xlsx',\n",
       " '.\\\\all_channel_rawdata\\\\2023-09-03\\\\top_up\\\\charge_1693792470631.xlsx',\n",
       " '.\\\\all_channel_rawdata\\\\2023-09-03\\\\top_up\\\\charge_1693792496032.xlsx',\n",
       " '.\\\\all_channel_rawdata\\\\2023-09-03\\\\top_up\\\\charge_1693792502705.xlsx',\n",
       " '.\\\\all_channel_rawdata\\\\2023-09-03\\\\top_up\\\\charge_1693792523135.xlsx',\n",
       " '.\\\\all_channel_rawdata\\\\2023-09-03\\\\top_up\\\\charge_1693792530314.xlsx',\n",
       " '.\\\\all_channel_rawdata\\\\2023-09-03\\\\top_up\\\\charge_1693792537807.xlsx',\n",
       " '.\\\\all_channel_rawdata\\\\2023-09-03\\\\top_up\\\\charge_1693792545023.xlsx',\n",
       " '.\\\\all_channel_rawdata\\\\2023-09-03\\\\top_up\\\\charge_1693792555723.xlsx',\n",
       " '.\\\\all_channel_rawdata\\\\2023-09-04\\\\top_up\\\\charge_1693876580655.xlsx',\n",
       " '.\\\\all_channel_rawdata\\\\2023-09-04\\\\top_up\\\\charge_1693876588722.xlsx',\n",
       " '.\\\\all_channel_rawdata\\\\2023-09-04\\\\top_up\\\\charge_1693876595172.xlsx',\n",
       " '.\\\\all_channel_rawdata\\\\2023-09-04\\\\top_up\\\\charge_1693876602239.xlsx',\n",
       " '.\\\\all_channel_rawdata\\\\2023-09-04\\\\top_up\\\\charge_1693876608893.xlsx',\n",
       " '.\\\\all_channel_rawdata\\\\2023-09-04\\\\top_up\\\\charge_1693876615523.xlsx',\n",
       " '.\\\\all_channel_rawdata\\\\2023-09-04\\\\top_up\\\\charge_1693876622940.xlsx',\n",
       " '.\\\\all_channel_rawdata\\\\2023-09-04\\\\top_up\\\\charge_1693876629905.xlsx',\n",
       " '.\\\\all_channel_rawdata\\\\2023-09-04\\\\top_up\\\\charge_1693876637737.xlsx',\n",
       " '.\\\\all_channel_rawdata\\\\2023-09-04\\\\top_up\\\\charge_1693876645060.xlsx',\n",
       " '.\\\\all_channel_rawdata\\\\2023-09-04\\\\top_up\\\\charge_1693876651639.xlsx',\n",
       " '.\\\\all_channel_rawdata\\\\2023-09-04\\\\top_up\\\\charge_1693876665515.xlsx',\n",
       " '.\\\\all_channel_rawdata\\\\2023-09-05\\\\top_up\\\\charge_1693962813030.xlsx',\n",
       " '.\\\\all_channel_rawdata\\\\2023-09-05\\\\top_up\\\\charge_1693962832650.xlsx',\n",
       " '.\\\\all_channel_rawdata\\\\2023-09-05\\\\top_up\\\\charge_1693962874049.xlsx',\n",
       " '.\\\\all_channel_rawdata\\\\2023-09-05\\\\top_up\\\\charge_1693962881082.xlsx',\n",
       " '.\\\\all_channel_rawdata\\\\2023-09-05\\\\top_up\\\\charge_1693962889582.xlsx',\n",
       " '.\\\\all_channel_rawdata\\\\2023-09-05\\\\top_up\\\\charge_1693962899092.xlsx',\n",
       " '.\\\\all_channel_rawdata\\\\2023-09-05\\\\top_up\\\\charge_1693962907205.xlsx',\n",
       " '.\\\\all_channel_rawdata\\\\2023-09-05\\\\top_up\\\\charge_1693962930798.xlsx',\n",
       " '.\\\\all_channel_rawdata\\\\2023-09-05\\\\top_up\\\\charge_1693962938054.xlsx',\n",
       " '.\\\\all_channel_rawdata\\\\2023-09-05\\\\top_up\\\\charge_1693962962384.xlsx',\n",
       " '.\\\\all_channel_rawdata\\\\2023-09-05\\\\top_up\\\\charge_1693962968925.xlsx',\n",
       " '.\\\\all_channel_rawdata\\\\2023-09-05\\\\top_up\\\\charge_1693962979216.xlsx',\n",
       " '.\\\\all_channel_rawdata\\\\2023-09-06\\\\top_up\\\\charge_1694050508410.xlsx',\n",
       " '.\\\\all_channel_rawdata\\\\2023-09-06\\\\top_up\\\\charge_1694050514418.xlsx',\n",
       " '.\\\\all_channel_rawdata\\\\2023-09-06\\\\top_up\\\\charge_1694050522132.xlsx',\n",
       " '.\\\\all_channel_rawdata\\\\2023-09-06\\\\top_up\\\\charge_1694050528083.xlsx',\n",
       " '.\\\\all_channel_rawdata\\\\2023-09-06\\\\top_up\\\\charge_1694050533803.xlsx',\n",
       " '.\\\\all_channel_rawdata\\\\2023-09-06\\\\top_up\\\\charge_1694050539708.xlsx',\n",
       " '.\\\\all_channel_rawdata\\\\2023-09-06\\\\top_up\\\\charge_1694050545597.xlsx',\n",
       " '.\\\\all_channel_rawdata\\\\2023-09-06\\\\top_up\\\\charge_1694050551835.xlsx',\n",
       " '.\\\\all_channel_rawdata\\\\2023-09-06\\\\top_up\\\\charge_1694050577067.xlsx',\n",
       " '.\\\\all_channel_rawdata\\\\2023-09-06\\\\top_up\\\\charge_1694050583326.xlsx',\n",
       " '.\\\\all_channel_rawdata\\\\2023-09-06\\\\top_up\\\\charge_1694050591324.xlsx',\n",
       " '.\\\\all_channel_rawdata\\\\2023-09-07\\\\top_up\\\\charge_1694138077742.xlsx',\n",
       " '.\\\\all_channel_rawdata\\\\2023-09-07\\\\top_up\\\\charge_1694138097570.xlsx',\n",
       " '.\\\\all_channel_rawdata\\\\2023-09-07\\\\top_up\\\\charge_1694138110869.xlsx',\n",
       " '.\\\\all_channel_rawdata\\\\2023-09-07\\\\top_up\\\\charge_1694138467657.xlsx',\n",
       " '.\\\\all_channel_rawdata\\\\2023-09-07\\\\top_up\\\\charge_1694138475180.xlsx',\n",
       " '.\\\\all_channel_rawdata\\\\2023-09-07\\\\top_up\\\\charge_1694138482552.xlsx',\n",
       " '.\\\\all_channel_rawdata\\\\2023-09-07\\\\top_up\\\\charge_1694138490243.xlsx',\n",
       " '.\\\\all_channel_rawdata\\\\2023-09-07\\\\top_up\\\\charge_1694138498752.xlsx',\n",
       " '.\\\\all_channel_rawdata\\\\2023-09-07\\\\top_up\\\\charge_1694138507331.xlsx',\n",
       " '.\\\\all_channel_rawdata\\\\2023-09-07\\\\top_up\\\\charge_1694138514680.xlsx',\n",
       " '.\\\\all_channel_rawdata\\\\2023-09-07\\\\top_up\\\\charge_1694138532582.xlsx',\n",
       " '.\\\\all_channel_rawdata\\\\2023-09-08\\\\top_up\\\\charge_1694224844407.xlsx',\n",
       " '.\\\\all_channel_rawdata\\\\2023-09-08\\\\top_up\\\\charge_1694224851794.xlsx',\n",
       " '.\\\\all_channel_rawdata\\\\2023-09-08\\\\top_up\\\\charge_1694224859161.xlsx',\n",
       " '.\\\\all_channel_rawdata\\\\2023-09-08\\\\top_up\\\\charge_1694224865845.xlsx',\n",
       " '.\\\\all_channel_rawdata\\\\2023-09-08\\\\top_up\\\\charge_1694224872675.xlsx',\n",
       " '.\\\\all_channel_rawdata\\\\2023-09-08\\\\top_up\\\\charge_1694224879346.xlsx',\n",
       " '.\\\\all_channel_rawdata\\\\2023-09-08\\\\top_up\\\\charge_1694224886225.xlsx',\n",
       " '.\\\\all_channel_rawdata\\\\2023-09-08\\\\top_up\\\\charge_1694224893163.xlsx',\n",
       " '.\\\\all_channel_rawdata\\\\2023-09-08\\\\top_up\\\\charge_1694224907059.xlsx',\n",
       " '.\\\\all_channel_rawdata\\\\2023-09-08\\\\top_up\\\\charge_1694224913352.xlsx',\n",
       " '.\\\\all_channel_rawdata\\\\2023-09-08\\\\top_up\\\\charge_1694224927067.xlsx',\n",
       " '.\\\\all_channel_rawdata\\\\2023-09-09\\\\top_up\\\\charge_1694309406179.xlsx',\n",
       " '.\\\\all_channel_rawdata\\\\2023-09-09\\\\top_up\\\\charge_1694309413953.xlsx',\n",
       " '.\\\\all_channel_rawdata\\\\2023-09-09\\\\top_up\\\\charge_1694309419994.xlsx',\n",
       " '.\\\\all_channel_rawdata\\\\2023-09-09\\\\top_up\\\\charge_1694309426489.xlsx',\n",
       " '.\\\\all_channel_rawdata\\\\2023-09-09\\\\top_up\\\\charge_1694309434268.xlsx',\n",
       " '.\\\\all_channel_rawdata\\\\2023-09-09\\\\top_up\\\\charge_1694309441146.xlsx',\n",
       " '.\\\\all_channel_rawdata\\\\2023-09-09\\\\top_up\\\\charge_1694309447162.xlsx',\n",
       " '.\\\\all_channel_rawdata\\\\2023-09-09\\\\top_up\\\\charge_1694309453705.xlsx',\n",
       " '.\\\\all_channel_rawdata\\\\2023-09-09\\\\top_up\\\\charge_1694309459789.xlsx',\n",
       " '.\\\\all_channel_rawdata\\\\2023-09-09\\\\top_up\\\\charge_1694309467104.xlsx',\n",
       " '.\\\\all_channel_rawdata\\\\2023-09-09\\\\top_up\\\\charge_1694309481351.xlsx',\n",
       " '.\\\\all_channel_rawdata\\\\2023-09-10\\\\top_up\\\\charge_1694396454229.xlsx',\n",
       " '.\\\\all_channel_rawdata\\\\2023-09-10\\\\top_up\\\\charge_1694396462474.xlsx',\n",
       " '.\\\\all_channel_rawdata\\\\2023-09-10\\\\top_up\\\\charge_1694396468841.xlsx',\n",
       " '.\\\\all_channel_rawdata\\\\2023-09-10\\\\top_up\\\\charge_1694396475964.xlsx',\n",
       " '.\\\\all_channel_rawdata\\\\2023-09-10\\\\top_up\\\\charge_1694396483802.xlsx',\n",
       " '.\\\\all_channel_rawdata\\\\2023-09-10\\\\top_up\\\\charge_1694396490810.xlsx',\n",
       " '.\\\\all_channel_rawdata\\\\2023-09-10\\\\top_up\\\\charge_1694396509492.xlsx',\n",
       " '.\\\\all_channel_rawdata\\\\2023-09-10\\\\top_up\\\\charge_1694396621902.xlsx',\n",
       " '.\\\\all_channel_rawdata\\\\2023-09-10\\\\top_up\\\\charge_1694396635771.xlsx',\n",
       " '.\\\\all_channel_rawdata\\\\2023-09-10\\\\top_up\\\\charge_1694396655964.xlsx',\n",
       " '.\\\\all_channel_rawdata\\\\2023-09-10\\\\top_up\\\\charge_1694396671616.xlsx',\n",
       " '.\\\\all_channel_rawdata\\\\2023-09-11\\\\top_up\\\\charge_1694485411217.xlsx',\n",
       " '.\\\\all_channel_rawdata\\\\2023-09-11\\\\top_up\\\\charge_1694485418249.xlsx',\n",
       " '.\\\\all_channel_rawdata\\\\2023-09-11\\\\top_up\\\\charge_1694485426473.xlsx',\n",
       " '.\\\\all_channel_rawdata\\\\2023-09-11\\\\top_up\\\\charge_1694485433896.xlsx',\n",
       " '.\\\\all_channel_rawdata\\\\2023-09-11\\\\top_up\\\\charge_1694485441297.xlsx',\n",
       " '.\\\\all_channel_rawdata\\\\2023-09-11\\\\top_up\\\\charge_1694485448330.xlsx',\n",
       " '.\\\\all_channel_rawdata\\\\2023-09-11\\\\top_up\\\\charge_1694485454927.xlsx',\n",
       " '.\\\\all_channel_rawdata\\\\2023-09-11\\\\top_up\\\\charge_1694485462250.xlsx',\n",
       " '.\\\\all_channel_rawdata\\\\2023-09-11\\\\top_up\\\\charge_1694485468928.xlsx',\n",
       " '.\\\\all_channel_rawdata\\\\2023-09-11\\\\top_up\\\\charge_1694485476427.xlsx',\n",
       " '.\\\\all_channel_rawdata\\\\2023-09-11\\\\top_up\\\\charge_1694485490988.xlsx',\n",
       " '.\\\\all_channel_rawdata\\\\2023-09-12\\\\top_up\\\\charge_1694571508801.xlsx',\n",
       " '.\\\\all_channel_rawdata\\\\2023-09-12\\\\top_up\\\\charge_1694571515928.xlsx',\n",
       " '.\\\\all_channel_rawdata\\\\2023-09-12\\\\top_up\\\\charge_1694571522038.xlsx',\n",
       " '.\\\\all_channel_rawdata\\\\2023-09-12\\\\top_up\\\\charge_1694571528584.xlsx',\n",
       " '.\\\\all_channel_rawdata\\\\2023-09-12\\\\top_up\\\\charge_1694571785761.xlsx',\n",
       " '.\\\\all_channel_rawdata\\\\2023-09-12\\\\top_up\\\\charge_1694571795890.xlsx',\n",
       " '.\\\\all_channel_rawdata\\\\2023-09-12\\\\top_up\\\\charge_1694571802992.xlsx',\n",
       " '.\\\\all_channel_rawdata\\\\2023-09-12\\\\top_up\\\\charge_1694571809311.xlsx',\n",
       " '.\\\\all_channel_rawdata\\\\2023-09-12\\\\top_up\\\\charge_1694571822171.xlsx',\n",
       " '.\\\\all_channel_rawdata\\\\2023-09-12\\\\top_up\\\\charge_1694571829495.xlsx',\n",
       " '.\\\\all_channel_rawdata\\\\2023-09-12\\\\top_up\\\\charge_1694571846258.xlsx',\n",
       " '.\\\\all_channel_rawdata\\\\2023-09-13\\\\top_up\\\\charge_1694653887608.xlsx',\n",
       " '.\\\\all_channel_rawdata\\\\2023-09-13\\\\top_up\\\\charge_1694653894662.xlsx',\n",
       " '.\\\\all_channel_rawdata\\\\2023-09-13\\\\top_up\\\\charge_1694653925473.xlsx',\n",
       " '.\\\\all_channel_rawdata\\\\2023-09-13\\\\top_up\\\\charge_1694653935939.xlsx',\n",
       " '.\\\\all_channel_rawdata\\\\2023-09-13\\\\top_up\\\\charge_1694653942662.xlsx',\n",
       " '.\\\\all_channel_rawdata\\\\2023-09-13\\\\top_up\\\\charge_1694653948692.xlsx',\n",
       " '.\\\\all_channel_rawdata\\\\2023-09-13\\\\top_up\\\\charge_1694653955524.xlsx',\n",
       " '.\\\\all_channel_rawdata\\\\2023-09-13\\\\top_up\\\\charge_1694653962191.xlsx',\n",
       " '.\\\\all_channel_rawdata\\\\2023-09-13\\\\top_up\\\\charge_1694653968206.xlsx',\n",
       " '.\\\\all_channel_rawdata\\\\2023-09-13\\\\top_up\\\\charge_1694653975169.xlsx',\n",
       " '.\\\\all_channel_rawdata\\\\2023-09-13\\\\top_up\\\\charge_1694653987000.xlsx',\n",
       " '.\\\\all_channel_rawdata\\\\2023-09-14\\\\top_up\\\\charge_1694741372239.xlsx',\n",
       " '.\\\\all_channel_rawdata\\\\2023-09-14\\\\top_up\\\\charge_1694741380511.xlsx',\n",
       " '.\\\\all_channel_rawdata\\\\2023-09-14\\\\top_up\\\\charge_1694741389538.xlsx',\n",
       " '.\\\\all_channel_rawdata\\\\2023-09-14\\\\top_up\\\\charge_1694741397879.xlsx',\n",
       " '.\\\\all_channel_rawdata\\\\2023-09-14\\\\top_up\\\\charge_1694741403786.xlsx',\n",
       " '.\\\\all_channel_rawdata\\\\2023-09-14\\\\top_up\\\\charge_1694741412497.xlsx',\n",
       " '.\\\\all_channel_rawdata\\\\2023-09-14\\\\top_up\\\\charge_1694741421392.xlsx',\n",
       " '.\\\\all_channel_rawdata\\\\2023-09-14\\\\top_up\\\\charge_1694741430256.xlsx',\n",
       " '.\\\\all_channel_rawdata\\\\2023-09-14\\\\top_up\\\\charge_1694741439208.xlsx',\n",
       " '.\\\\all_channel_rawdata\\\\2023-09-14\\\\top_up\\\\charge_1694741448175.xlsx',\n",
       " '.\\\\all_channel_rawdata\\\\2023-09-14\\\\top_up\\\\charge_1694741480570.xlsx',\n",
       " '.\\\\all_channel_rawdata\\\\2023-09-15\\\\top_up\\\\charge_1694828931526.xlsx',\n",
       " '.\\\\all_channel_rawdata\\\\2023-09-15\\\\top_up\\\\charge_1694828940689.xlsx',\n",
       " '.\\\\all_channel_rawdata\\\\2023-09-15\\\\top_up\\\\charge_1694828950967.xlsx',\n",
       " '.\\\\all_channel_rawdata\\\\2023-09-15\\\\top_up\\\\charge_1694828961040.xlsx',\n",
       " '.\\\\all_channel_rawdata\\\\2023-09-15\\\\top_up\\\\charge_1694828968248.xlsx',\n",
       " '.\\\\all_channel_rawdata\\\\2023-09-15\\\\top_up\\\\charge_1694828978126.xlsx',\n",
       " '.\\\\all_channel_rawdata\\\\2023-09-15\\\\top_up\\\\charge_1694828987398.xlsx',\n",
       " '.\\\\all_channel_rawdata\\\\2023-09-15\\\\top_up\\\\charge_1694828997087.xlsx',\n",
       " '.\\\\all_channel_rawdata\\\\2023-09-15\\\\top_up\\\\charge_1694829006602.xlsx',\n",
       " '.\\\\all_channel_rawdata\\\\2023-09-15\\\\top_up\\\\charge_1694829015847.xlsx',\n",
       " '.\\\\all_channel_rawdata\\\\2023-09-15\\\\top_up\\\\charge_1694829025563.xlsx',\n",
       " '.\\\\all_channel_rawdata\\\\2023-09-15\\\\top_up\\\\charge_1694829059675.xlsx',\n",
       " '.\\\\all_channel_rawdata\\\\2023-09-16\\\\top_up\\\\charge_1694917438041.xlsx',\n",
       " '.\\\\all_channel_rawdata\\\\2023-09-16\\\\top_up\\\\charge_1694917449148.xlsx',\n",
       " '.\\\\all_channel_rawdata\\\\2023-09-16\\\\top_up\\\\charge_1694917457350.xlsx',\n",
       " '.\\\\all_channel_rawdata\\\\2023-09-16\\\\top_up\\\\charge_1694917465195.xlsx',\n",
       " '.\\\\all_channel_rawdata\\\\2023-09-16\\\\top_up\\\\charge_1694917473135.xlsx',\n",
       " '.\\\\all_channel_rawdata\\\\2023-09-16\\\\top_up\\\\charge_1694917480756.xlsx',\n",
       " '.\\\\all_channel_rawdata\\\\2023-09-16\\\\top_up\\\\charge_1694917489052.xlsx',\n",
       " '.\\\\all_channel_rawdata\\\\2023-09-16\\\\top_up\\\\charge_1694917497052.xlsx',\n",
       " '.\\\\all_channel_rawdata\\\\2023-09-16\\\\top_up\\\\charge_1694917504961.xlsx',\n",
       " '.\\\\all_channel_rawdata\\\\2023-09-16\\\\top_up\\\\charge_1694917513232.xlsx',\n",
       " '.\\\\all_channel_rawdata\\\\2023-09-16\\\\top_up\\\\charge_1694917523565.xlsx',\n",
       " '.\\\\all_channel_rawdata\\\\2023-09-16\\\\top_up\\\\charge_1694917562907.xlsx',\n",
       " '.\\\\all_channel_rawdata\\\\2023-09-17\\\\top_up\\\\charge_1694999730716.xlsx',\n",
       " '.\\\\all_channel_rawdata\\\\2023-09-17\\\\top_up\\\\charge_1694999744409.xlsx',\n",
       " '.\\\\all_channel_rawdata\\\\2023-09-17\\\\top_up\\\\charge_1694999752235.xlsx',\n",
       " '.\\\\all_channel_rawdata\\\\2023-09-17\\\\top_up\\\\charge_1694999760553.xlsx',\n",
       " '.\\\\all_channel_rawdata\\\\2023-09-17\\\\top_up\\\\charge_1694999769345.xlsx',\n",
       " '.\\\\all_channel_rawdata\\\\2023-09-17\\\\top_up\\\\charge_1694999781171.xlsx',\n",
       " '.\\\\all_channel_rawdata\\\\2023-09-17\\\\top_up\\\\charge_1694999883381.xlsx',\n",
       " '.\\\\all_channel_rawdata\\\\2023-09-17\\\\top_up\\\\charge_1694999893460.xlsx',\n",
       " '.\\\\all_channel_rawdata\\\\2023-09-17\\\\top_up\\\\charge_1694999902926.xlsx',\n",
       " '.\\\\all_channel_rawdata\\\\2023-09-17\\\\top_up\\\\charge_1694999911475.xlsx',\n",
       " '.\\\\all_channel_rawdata\\\\2023-09-17\\\\top_up\\\\charge_1694999946596.xlsx',\n",
       " '.\\\\all_channel_rawdata\\\\2023-09-18\\\\top_up\\\\charge_1695088128187.xlsx',\n",
       " '.\\\\all_channel_rawdata\\\\2023-09-18\\\\top_up\\\\charge_1695088161814.xlsx',\n",
       " '.\\\\all_channel_rawdata\\\\2023-09-18\\\\top_up\\\\charge_1695088253630.xlsx',\n",
       " '.\\\\all_channel_rawdata\\\\2023-09-18\\\\top_up\\\\charge_1695088280509.xlsx',\n",
       " '.\\\\all_channel_rawdata\\\\2023-09-18\\\\top_up\\\\charge_1695088301331.xlsx',\n",
       " '.\\\\all_channel_rawdata\\\\2023-09-18\\\\top_up\\\\charge_1695088454535.xlsx',\n",
       " '.\\\\all_channel_rawdata\\\\2023-09-18\\\\top_up\\\\charge_1695088465665.xlsx',\n",
       " '.\\\\all_channel_rawdata\\\\2023-09-18\\\\top_up\\\\charge_1695088477179.xlsx',\n",
       " '.\\\\all_channel_rawdata\\\\2023-09-18\\\\top_up\\\\charge_1695088489006.xlsx',\n",
       " '.\\\\all_channel_rawdata\\\\2023-09-18\\\\top_up\\\\charge_1695088497972.xlsx',\n",
       " '.\\\\all_channel_rawdata\\\\2023-09-18\\\\top_up\\\\charge_1695088507069.xlsx',\n",
       " '.\\\\all_channel_rawdata\\\\2023-09-18\\\\top_up\\\\charge_1695088576045.xlsx',\n",
       " '.\\\\all_channel_rawdata\\\\2023-09-19\\\\top_up\\\\charge_1695173957598.xlsx',\n",
       " '.\\\\all_channel_rawdata\\\\2023-09-19\\\\top_up\\\\charge_1695174006743.xlsx',\n",
       " '.\\\\all_channel_rawdata\\\\2023-09-19\\\\top_up\\\\charge_1695174395483.xlsx',\n",
       " '.\\\\all_channel_rawdata\\\\2023-09-19\\\\top_up\\\\charge_1695174414364.xlsx',\n",
       " '.\\\\all_channel_rawdata\\\\2023-09-19\\\\top_up\\\\charge_1695174439704.xlsx',\n",
       " '.\\\\all_channel_rawdata\\\\2023-09-19\\\\top_up\\\\charge_1695174467454.xlsx',\n",
       " '.\\\\all_channel_rawdata\\\\2023-09-19\\\\top_up\\\\charge_1695174478583.xlsx',\n",
       " '.\\\\all_channel_rawdata\\\\2023-09-19\\\\top_up\\\\charge_1695174488173.xlsx',\n",
       " '.\\\\all_channel_rawdata\\\\2023-09-19\\\\top_up\\\\charge_1695174498038.xlsx',\n",
       " '.\\\\all_channel_rawdata\\\\2023-09-19\\\\top_up\\\\charge_1695174507587.xlsx',\n",
       " '.\\\\all_channel_rawdata\\\\2023-09-19\\\\top_up\\\\charge_1695174517807.xlsx',\n",
       " '.\\\\all_channel_rawdata\\\\2023-09-19\\\\top_up\\\\charge_1695174556403.xlsx',\n",
       " '.\\\\all_channel_rawdata\\\\2023-09-20\\\\top_up\\\\charge_1695263483813.xlsx',\n",
       " '.\\\\all_channel_rawdata\\\\2023-09-20\\\\top_up\\\\charge_1695263499715.xlsx',\n",
       " '.\\\\all_channel_rawdata\\\\2023-09-20\\\\top_up\\\\charge_1695264603954.xlsx',\n",
       " '.\\\\all_channel_rawdata\\\\2023-09-20\\\\top_up\\\\charge_1695264800142.xlsx',\n",
       " '.\\\\all_channel_rawdata\\\\2023-09-20\\\\top_up\\\\charge_1695264809692.xlsx',\n",
       " '.\\\\all_channel_rawdata\\\\2023-09-20\\\\top_up\\\\charge_1695264818679.xlsx',\n",
       " '.\\\\all_channel_rawdata\\\\2023-09-20\\\\top_up\\\\charge_1695264827659.xlsx',\n",
       " '.\\\\all_channel_rawdata\\\\2023-09-20\\\\top_up\\\\charge_1695264841222.xlsx',\n",
       " '.\\\\all_channel_rawdata\\\\2023-09-20\\\\top_up\\\\charge_1695264851694.xlsx',\n",
       " '.\\\\all_channel_rawdata\\\\2023-09-20\\\\top_up\\\\charge_1695264862490.xlsx',\n",
       " '.\\\\all_channel_rawdata\\\\2023-09-20\\\\top_up\\\\charge_1695265073253.xlsx',\n",
       " '.\\\\all_channel_rawdata\\\\2023-09-21\\\\top_up\\\\charge_1695345869230.xlsx',\n",
       " '.\\\\all_channel_rawdata\\\\2023-09-21\\\\top_up\\\\charge_1695346410305.xlsx',\n",
       " '.\\\\all_channel_rawdata\\\\2023-09-21\\\\top_up\\\\charge_1695346421524.xlsx',\n",
       " '.\\\\all_channel_rawdata\\\\2023-09-21\\\\top_up\\\\charge_1695346432024.xlsx',\n",
       " '.\\\\all_channel_rawdata\\\\2023-09-21\\\\top_up\\\\charge_1695346451305.xlsx',\n",
       " '.\\\\all_channel_rawdata\\\\2023-09-21\\\\top_up\\\\charge_1695346468769.xlsx',\n",
       " '.\\\\all_channel_rawdata\\\\2023-09-21\\\\top_up\\\\charge_1695346834333.xlsx',\n",
       " '.\\\\all_channel_rawdata\\\\2023-09-21\\\\top_up\\\\charge_1695346867200.xlsx',\n",
       " '.\\\\all_channel_rawdata\\\\2023-09-21\\\\top_up\\\\charge_1695346877073.xlsx',\n",
       " '.\\\\all_channel_rawdata\\\\2023-09-21\\\\top_up\\\\charge_1695347314774.xlsx',\n",
       " '.\\\\all_channel_rawdata\\\\2023-09-21\\\\top_up\\\\charge_1695347693485.xlsx',\n",
       " '.\\\\all_channel_rawdata\\\\2023-09-21\\\\top_up\\\\charge_1695347728728.xlsx',\n",
       " '.\\\\all_channel_rawdata\\\\2023-09-22\\\\top_up\\\\charge_1695433286066.xlsx',\n",
       " '.\\\\all_channel_rawdata\\\\2023-09-22\\\\top_up\\\\charge_1695433309308.xlsx',\n",
       " '.\\\\all_channel_rawdata\\\\2023-09-22\\\\top_up\\\\charge_1695434567745.xlsx',\n",
       " '.\\\\all_channel_rawdata\\\\2023-09-22\\\\top_up\\\\charge_1695434577361.xlsx',\n",
       " '.\\\\all_channel_rawdata\\\\2023-09-22\\\\top_up\\\\charge_1695434649978.xlsx',\n",
       " '.\\\\all_channel_rawdata\\\\2023-09-22\\\\top_up\\\\charge_1695434664839.xlsx',\n",
       " '.\\\\all_channel_rawdata\\\\2023-09-22\\\\top_up\\\\charge_1695434673322.xlsx',\n",
       " '.\\\\all_channel_rawdata\\\\2023-09-22\\\\top_up\\\\charge_1695435017362.xlsx',\n",
       " '.\\\\all_channel_rawdata\\\\2023-09-22\\\\top_up\\\\charge_1695435027030.xlsx',\n",
       " '.\\\\all_channel_rawdata\\\\2023-09-22\\\\top_up\\\\charge_1695435037083.xlsx',\n",
       " '.\\\\all_channel_rawdata\\\\2023-09-22\\\\top_up\\\\charge_1695435049516.xlsx',\n",
       " '.\\\\all_channel_rawdata\\\\2023-09-22\\\\top_up\\\\charge_1695435065630.xlsx',\n",
       " '.\\\\all_channel_rawdata\\\\2023-09-22\\\\top_up\\\\charge_1695435133823.xlsx',\n",
       " '.\\\\all_channel_rawdata\\\\2023-09-23\\\\top_up\\\\charge_1695519044075.xlsx',\n",
       " '.\\\\all_channel_rawdata\\\\2023-09-23\\\\top_up\\\\charge_1695519054319.xlsx',\n",
       " '.\\\\all_channel_rawdata\\\\2023-09-23\\\\top_up\\\\charge_1695519064365.xlsx',\n",
       " '.\\\\all_channel_rawdata\\\\2023-09-23\\\\top_up\\\\charge_1695519075503.xlsx',\n",
       " '.\\\\all_channel_rawdata\\\\2023-09-23\\\\top_up\\\\charge_1695519087671.xlsx',\n",
       " '.\\\\all_channel_rawdata\\\\2023-09-23\\\\top_up\\\\charge_1695519098925.xlsx',\n",
       " '.\\\\all_channel_rawdata\\\\2023-09-23\\\\top_up\\\\charge_1695519110234.xlsx',\n",
       " '.\\\\all_channel_rawdata\\\\2023-09-23\\\\top_up\\\\charge_1695519121745.xlsx',\n",
       " '.\\\\all_channel_rawdata\\\\2023-09-23\\\\top_up\\\\charge_1695519132999.xlsx',\n",
       " '.\\\\all_channel_rawdata\\\\2023-09-23\\\\top_up\\\\charge_1695519144178.xlsx',\n",
       " '.\\\\all_channel_rawdata\\\\2023-09-23\\\\top_up\\\\charge_1695519156191.xlsx',\n",
       " '.\\\\all_channel_rawdata\\\\2023-09-23\\\\top_up\\\\charge_1695519215891.xlsx',\n",
       " '.\\\\all_channel_rawdata\\\\2023-09-24\\\\top_up\\\\charge_1695604983285.xlsx',\n",
       " '.\\\\all_channel_rawdata\\\\2023-09-24\\\\top_up\\\\charge_1695605001332.xlsx',\n",
       " '.\\\\all_channel_rawdata\\\\2023-09-24\\\\top_up\\\\charge_1695606197503.xlsx',\n",
       " '.\\\\all_channel_rawdata\\\\2023-09-24\\\\top_up\\\\charge_1695606211437.xlsx',\n",
       " '.\\\\all_channel_rawdata\\\\2023-09-24\\\\top_up\\\\charge_1695606222517.xlsx',\n",
       " '.\\\\all_channel_rawdata\\\\2023-09-24\\\\top_up\\\\charge_1695606232777.xlsx',\n",
       " '.\\\\all_channel_rawdata\\\\2023-09-24\\\\top_up\\\\charge_1695606242156.xlsx',\n",
       " '.\\\\all_channel_rawdata\\\\2023-09-24\\\\top_up\\\\charge_1695606252739.xlsx',\n",
       " '.\\\\all_channel_rawdata\\\\2023-09-24\\\\top_up\\\\charge_1695606270745.xlsx',\n",
       " '.\\\\all_channel_rawdata\\\\2023-09-24\\\\top_up\\\\charge_1695606296489.xlsx',\n",
       " '.\\\\all_channel_rawdata\\\\2023-09-24\\\\top_up\\\\charge_1695606308650.xlsx',\n",
       " '.\\\\all_channel_rawdata\\\\2023-09-24\\\\top_up\\\\charge_1695606318210.xlsx',\n",
       " '.\\\\all_channel_rawdata\\\\2023-09-24\\\\top_up\\\\charge_1695606355434.xlsx',\n",
       " '.\\\\all_channel_rawdata\\\\2023-09-25\\\\top_up\\\\charge_1695694784598.xlsx',\n",
       " '.\\\\all_channel_rawdata\\\\2023-09-25\\\\top_up\\\\charge_1695695179670.xlsx',\n",
       " '.\\\\all_channel_rawdata\\\\2023-09-25\\\\top_up\\\\charge_1695695189591.xlsx',\n",
       " '.\\\\all_channel_rawdata\\\\2023-09-25\\\\top_up\\\\charge_1695695199102.xlsx',\n",
       " '.\\\\all_channel_rawdata\\\\2023-09-25\\\\top_up\\\\charge_1695695216842.xlsx',\n",
       " '.\\\\all_channel_rawdata\\\\2023-09-25\\\\top_up\\\\charge_1695695231257.xlsx',\n",
       " '.\\\\all_channel_rawdata\\\\2023-09-25\\\\top_up\\\\charge_1695695251327.xlsx',\n",
       " '.\\\\all_channel_rawdata\\\\2023-09-25\\\\top_up\\\\charge_1695695265001.xlsx',\n",
       " '.\\\\all_channel_rawdata\\\\2023-09-25\\\\top_up\\\\charge_1695695276280.xlsx',\n",
       " '.\\\\all_channel_rawdata\\\\2023-09-25\\\\top_up\\\\charge_1695695286521.xlsx',\n",
       " '.\\\\all_channel_rawdata\\\\2023-09-25\\\\top_up\\\\charge_1695695323976.xlsx',\n",
       " '.\\\\all_channel_rawdata\\\\2023-09-25\\\\top_up\\\\charge_1695695335418.xlsx',\n",
       " '.\\\\all_channel_rawdata\\\\2023-09-25\\\\top_up\\\\charge_1695695589254.xlsx',\n",
       " '.\\\\all_channel_rawdata\\\\2023-09-26\\\\top_up\\\\charge_1695780940221.xlsx',\n",
       " '.\\\\all_channel_rawdata\\\\2023-09-26\\\\top_up\\\\charge_1695780956866.xlsx',\n",
       " '.\\\\all_channel_rawdata\\\\2023-09-26\\\\top_up\\\\charge_1695780987041.xlsx',\n",
       " '.\\\\all_channel_rawdata\\\\2023-09-26\\\\top_up\\\\charge_1695781680466.xlsx',\n",
       " '.\\\\all_channel_rawdata\\\\2023-09-26\\\\top_up\\\\charge_1695781695686.xlsx',\n",
       " '.\\\\all_channel_rawdata\\\\2023-09-26\\\\top_up\\\\charge_1695781762433.xlsx',\n",
       " '.\\\\all_channel_rawdata\\\\2023-09-26\\\\top_up\\\\charge_1695781811467.xlsx',\n",
       " '.\\\\all_channel_rawdata\\\\2023-09-26\\\\top_up\\\\charge_1695781899385.xlsx',\n",
       " '.\\\\all_channel_rawdata\\\\2023-09-26\\\\top_up\\\\charge_1695782001908.xlsx',\n",
       " '.\\\\all_channel_rawdata\\\\2023-09-26\\\\top_up\\\\charge_1695782012950.xlsx',\n",
       " '.\\\\all_channel_rawdata\\\\2023-09-26\\\\top_up\\\\charge_1695782105182.xlsx',\n",
       " '.\\\\all_channel_rawdata\\\\2023-09-27\\\\top_up\\\\charge_1695865556044.xlsx',\n",
       " '.\\\\all_channel_rawdata\\\\2023-09-27\\\\top_up\\\\charge_1695865582588.xlsx',\n",
       " '.\\\\all_channel_rawdata\\\\2023-09-27\\\\top_up\\\\charge_1695865800347.xlsx',\n",
       " '.\\\\all_channel_rawdata\\\\2023-09-27\\\\top_up\\\\charge_1695865812419.xlsx',\n",
       " '.\\\\all_channel_rawdata\\\\2023-09-27\\\\top_up\\\\charge_1695865969676.xlsx',\n",
       " '.\\\\all_channel_rawdata\\\\2023-09-27\\\\top_up\\\\charge_1695865999296.xlsx',\n",
       " '.\\\\all_channel_rawdata\\\\2023-09-27\\\\top_up\\\\charge_1695866011034.xlsx',\n",
       " '.\\\\all_channel_rawdata\\\\2023-09-27\\\\top_up\\\\charge_1695866024945.xlsx',\n",
       " '.\\\\all_channel_rawdata\\\\2023-09-27\\\\top_up\\\\charge_1695866048646.xlsx',\n",
       " '.\\\\all_channel_rawdata\\\\2023-09-27\\\\top_up\\\\charge_1695866059978.xlsx',\n",
       " '.\\\\all_channel_rawdata\\\\2023-09-27\\\\top_up\\\\charge_1695866074451.xlsx',\n",
       " '.\\\\all_channel_rawdata\\\\2023-09-27\\\\top_up\\\\charge_1695866188290.xlsx',\n",
       " '.\\\\all_channel_rawdata\\\\2023-09-28\\\\top_up\\\\charge_1695952015272.xlsx',\n",
       " '.\\\\all_channel_rawdata\\\\2023-09-28\\\\top_up\\\\charge_1695952028239.xlsx',\n",
       " '.\\\\all_channel_rawdata\\\\2023-09-28\\\\top_up\\\\charge_1695952044556.xlsx',\n",
       " '.\\\\all_channel_rawdata\\\\2023-09-28\\\\top_up\\\\charge_1695952054434.xlsx',\n",
       " '.\\\\all_channel_rawdata\\\\2023-09-28\\\\top_up\\\\charge_1695952133429.xlsx',\n",
       " '.\\\\all_channel_rawdata\\\\2023-09-28\\\\top_up\\\\charge_1695952158244.xlsx',\n",
       " '.\\\\all_channel_rawdata\\\\2023-09-28\\\\top_up\\\\charge_1695952170232.xlsx',\n",
       " '.\\\\all_channel_rawdata\\\\2023-09-28\\\\top_up\\\\charge_1695952180664.xlsx',\n",
       " '.\\\\all_channel_rawdata\\\\2023-09-28\\\\top_up\\\\charge_1695952207233.xlsx',\n",
       " '.\\\\all_channel_rawdata\\\\2023-09-28\\\\top_up\\\\charge_1695952217749.xlsx',\n",
       " '.\\\\all_channel_rawdata\\\\2023-09-28\\\\top_up\\\\charge_1695952271665.xlsx',\n",
       " '.\\\\all_channel_rawdata\\\\2023-09-28\\\\top_up\\\\charge_1695952317526.xlsx',\n",
       " '.\\\\all_channel_rawdata\\\\2023-09-29\\\\top_up\\\\charge_1696039840339.xlsx',\n",
       " '.\\\\all_channel_rawdata\\\\2023-09-29\\\\top_up\\\\charge_1696039849407.xlsx',\n",
       " '.\\\\all_channel_rawdata\\\\2023-09-29\\\\top_up\\\\charge_1696039857982.xlsx',\n",
       " '.\\\\all_channel_rawdata\\\\2023-09-29\\\\top_up\\\\charge_1696039866573.xlsx',\n",
       " '.\\\\all_channel_rawdata\\\\2023-09-29\\\\top_up\\\\charge_1696039875443.xlsx',\n",
       " '.\\\\all_channel_rawdata\\\\2023-09-29\\\\top_up\\\\charge_1696039884209.xlsx',\n",
       " '.\\\\all_channel_rawdata\\\\2023-09-29\\\\top_up\\\\charge_1696039894938.xlsx',\n",
       " '.\\\\all_channel_rawdata\\\\2023-09-29\\\\top_up\\\\charge_1696039903192.xlsx',\n",
       " '.\\\\all_channel_rawdata\\\\2023-09-29\\\\top_up\\\\charge_1696039913695.xlsx',\n",
       " '.\\\\all_channel_rawdata\\\\2023-09-29\\\\top_up\\\\charge_1696039931389.xlsx',\n",
       " '.\\\\all_channel_rawdata\\\\2023-09-29\\\\top_up\\\\charge_1696039948218.xlsx',\n",
       " '.\\\\all_channel_rawdata\\\\2023-09-29\\\\top_up\\\\charge_1696039961913.xlsx',\n",
       " '.\\\\all_channel_rawdata\\\\2023-09-29\\\\top_up\\\\charge_1696039970611.xlsx',\n",
       " '.\\\\all_channel_rawdata\\\\2023-09-29\\\\top_up\\\\charge_1696039978469.xlsx',\n",
       " '.\\\\all_channel_rawdata\\\\2023-09-29\\\\top_up\\\\charge_1696040079752.xlsx',\n",
       " '.\\\\all_channel_rawdata\\\\2023-09-30\\\\top_up\\\\charge_1696133577709.xlsx',\n",
       " '.\\\\all_channel_rawdata\\\\2023-09-30\\\\top_up\\\\charge_1696133591357.xlsx',\n",
       " '.\\\\all_channel_rawdata\\\\2023-09-30\\\\top_up\\\\charge_1696133615609.xlsx',\n",
       " '.\\\\all_channel_rawdata\\\\2023-09-30\\\\top_up\\\\charge_1696133627879.xlsx',\n",
       " '.\\\\all_channel_rawdata\\\\2023-09-30\\\\top_up\\\\charge_1696133647248.xlsx',\n",
       " '.\\\\all_channel_rawdata\\\\2023-09-30\\\\top_up\\\\charge_1696133661866.xlsx',\n",
       " '.\\\\all_channel_rawdata\\\\2023-09-30\\\\top_up\\\\charge_1696133673093.xlsx',\n",
       " '.\\\\all_channel_rawdata\\\\2023-09-30\\\\top_up\\\\charge_1696133689171.xlsx',\n",
       " '.\\\\all_channel_rawdata\\\\2023-09-30\\\\top_up\\\\charge_1696133700713.xlsx',\n",
       " '.\\\\all_channel_rawdata\\\\2023-09-30\\\\top_up\\\\charge_1696133722010.xlsx',\n",
       " '.\\\\all_channel_rawdata\\\\2023-09-30\\\\top_up\\\\charge_1696133737435.xlsx',\n",
       " '.\\\\all_channel_rawdata\\\\2023-09-30\\\\top_up\\\\charge_1696133757669.xlsx',\n",
       " '.\\\\all_channel_rawdata\\\\2023-09-30\\\\top_up\\\\charge_1696133844421.xlsx',\n",
       " '.\\\\all_channel_rawdata\\\\2023-10-01\\\\top_up\\\\charge_1696211242241.xlsx',\n",
       " '.\\\\all_channel_rawdata\\\\2023-10-01\\\\top_up\\\\charge_1696211291063.xlsx',\n",
       " '.\\\\all_channel_rawdata\\\\2023-10-01\\\\top_up\\\\charge_1696211299527.xlsx',\n",
       " '.\\\\all_channel_rawdata\\\\2023-10-01\\\\top_up\\\\charge_1696211309951.xlsx',\n",
       " '.\\\\all_channel_rawdata\\\\2023-10-01\\\\top_up\\\\charge_1696211319035.xlsx',\n",
       " '.\\\\all_channel_rawdata\\\\2023-10-01\\\\top_up\\\\charge_1696211328087.xlsx',\n",
       " '.\\\\all_channel_rawdata\\\\2023-10-01\\\\top_up\\\\charge_1696212008536.xlsx',\n",
       " '.\\\\all_channel_rawdata\\\\2023-10-01\\\\top_up\\\\charge_1696214429355.xlsx',\n",
       " '.\\\\all_channel_rawdata\\\\2023-10-01\\\\top_up\\\\charge_1696214440986.xlsx',\n",
       " '.\\\\all_channel_rawdata\\\\2023-10-01\\\\top_up\\\\charge_1696214493549.xlsx',\n",
       " '.\\\\all_channel_rawdata\\\\2023-10-01\\\\top_up\\\\charge_1696214503235.xlsx',\n",
       " '.\\\\all_channel_rawdata\\\\2023-10-01\\\\top_up\\\\charge_1696214513095.xlsx',\n",
       " '.\\\\all_channel_rawdata\\\\2023-10-01\\\\top_up\\\\charge_1696214534727.xlsx',\n",
       " '.\\\\all_channel_rawdata\\\\2023-10-01\\\\top_up\\\\charge_1696214644546.xlsx',\n",
       " '.\\\\all_channel_rawdata\\\\2023-10-01\\\\top_up\\\\charge_1696215120641.xlsx',\n",
       " '.\\\\all_channel_rawdata\\\\2023-10-02\\\\top_up\\\\charge_1696296264762.xlsx',\n",
       " '.\\\\all_channel_rawdata\\\\2023-10-02\\\\top_up\\\\charge_1696296283425.xlsx',\n",
       " '.\\\\all_channel_rawdata\\\\2023-10-02\\\\top_up\\\\charge_1696296304635.xlsx',\n",
       " '.\\\\all_channel_rawdata\\\\2023-10-02\\\\top_up\\\\charge_1696296328771.xlsx',\n",
       " '.\\\\all_channel_rawdata\\\\2023-10-02\\\\top_up\\\\charge_1696296342980.xlsx',\n",
       " '.\\\\all_channel_rawdata\\\\2023-10-02\\\\top_up\\\\charge_1696296365645.xlsx',\n",
       " '.\\\\all_channel_rawdata\\\\2023-10-02\\\\top_up\\\\charge_1696296374751.xlsx',\n",
       " '.\\\\all_channel_rawdata\\\\2023-10-02\\\\top_up\\\\charge_1696296386604.xlsx',\n",
       " '.\\\\all_channel_rawdata\\\\2023-10-02\\\\top_up\\\\charge_1696296398885.xlsx',\n",
       " '.\\\\all_channel_rawdata\\\\2023-10-02\\\\top_up\\\\charge_1696296409997.xlsx',\n",
       " '.\\\\all_channel_rawdata\\\\2023-10-02\\\\top_up\\\\charge_1696296425941.xlsx',\n",
       " '.\\\\all_channel_rawdata\\\\2023-10-02\\\\top_up\\\\charge_1696296448398.xlsx',\n",
       " '.\\\\all_channel_rawdata\\\\2023-10-02\\\\top_up\\\\charge_1696296715063.xlsx',\n",
       " '.\\\\all_channel_rawdata\\\\2023-10-03\\\\top_up\\\\charge_1696383557222.xlsx',\n",
       " '.\\\\all_channel_rawdata\\\\2023-10-03\\\\top_up\\\\charge_1696383567483.xlsx',\n",
       " '.\\\\all_channel_rawdata\\\\2023-10-03\\\\top_up\\\\charge_1696383578298.xlsx',\n",
       " '.\\\\all_channel_rawdata\\\\2023-10-03\\\\top_up\\\\charge_1696383588669.xlsx',\n",
       " '.\\\\all_channel_rawdata\\\\2023-10-03\\\\top_up\\\\charge_1696383598411.xlsx',\n",
       " '.\\\\all_channel_rawdata\\\\2023-10-03\\\\top_up\\\\charge_1696383612508.xlsx',\n",
       " '.\\\\all_channel_rawdata\\\\2023-10-03\\\\top_up\\\\charge_1696383622379.xlsx',\n",
       " '.\\\\all_channel_rawdata\\\\2023-10-03\\\\top_up\\\\charge_1696383631826.xlsx',\n",
       " '.\\\\all_channel_rawdata\\\\2023-10-03\\\\top_up\\\\charge_1696383653577.xlsx',\n",
       " '.\\\\all_channel_rawdata\\\\2023-10-03\\\\top_up\\\\charge_1696383678623.xlsx',\n",
       " '.\\\\all_channel_rawdata\\\\2023-10-03\\\\top_up\\\\charge_1696383707192.xlsx',\n",
       " '.\\\\all_channel_rawdata\\\\2023-10-03\\\\top_up\\\\charge_1696383760121.xlsx',\n",
       " '.\\\\all_channel_rawdata\\\\2023-10-03\\\\top_up\\\\charge_1696383976190.xlsx',\n",
       " '.\\\\all_channel_rawdata\\\\2023-10-04\\\\top_up\\\\charge_1696470579813.xlsx',\n",
       " '.\\\\all_channel_rawdata\\\\2023-10-04\\\\top_up\\\\charge_1696470599560.xlsx',\n",
       " '.\\\\all_channel_rawdata\\\\2023-10-04\\\\top_up\\\\charge_1696470615000.xlsx',\n",
       " '.\\\\all_channel_rawdata\\\\2023-10-04\\\\top_up\\\\charge_1696470634410.xlsx',\n",
       " '.\\\\all_channel_rawdata\\\\2023-10-04\\\\top_up\\\\charge_1696470657530.xlsx',\n",
       " '.\\\\all_channel_rawdata\\\\2023-10-04\\\\top_up\\\\charge_1696470702825.xlsx',\n",
       " '.\\\\all_channel_rawdata\\\\2023-10-04\\\\top_up\\\\charge_1696470722460.xlsx',\n",
       " '.\\\\all_channel_rawdata\\\\2023-10-04\\\\top_up\\\\charge_1696470754133.xlsx',\n",
       " '.\\\\all_channel_rawdata\\\\2023-10-04\\\\top_up\\\\charge_1696470785341.xlsx',\n",
       " '.\\\\all_channel_rawdata\\\\2023-10-04\\\\top_up\\\\charge_1696470807589.xlsx',\n",
       " '.\\\\all_channel_rawdata\\\\2023-10-04\\\\top_up\\\\charge_1696470827047.xlsx',\n",
       " '.\\\\all_channel_rawdata\\\\2023-10-04\\\\top_up\\\\charge_1696471129251.xlsx',\n",
       " '.\\\\all_channel_rawdata\\\\2023-10-05\\\\top_up\\\\charge_1696557554594.xlsx',\n",
       " '.\\\\all_channel_rawdata\\\\2023-10-05\\\\top_up\\\\charge_1696557571282.xlsx',\n",
       " '.\\\\all_channel_rawdata\\\\2023-10-05\\\\top_up\\\\charge_1696557938206.xlsx',\n",
       " '.\\\\all_channel_rawdata\\\\2023-10-05\\\\top_up\\\\charge_1696558491391.xlsx',\n",
       " '.\\\\all_channel_rawdata\\\\2023-10-05\\\\top_up\\\\charge_1696558677156.xlsx',\n",
       " '.\\\\all_channel_rawdata\\\\2023-10-05\\\\top_up\\\\charge_1696558818249.xlsx',\n",
       " '.\\\\all_channel_rawdata\\\\2023-10-05\\\\top_up\\\\charge_1696559243982.xlsx',\n",
       " '.\\\\all_channel_rawdata\\\\2023-10-05\\\\top_up\\\\charge_1696559277835.xlsx',\n",
       " '.\\\\all_channel_rawdata\\\\2023-10-05\\\\top_up\\\\charge_1696559307165.xlsx',\n",
       " '.\\\\all_channel_rawdata\\\\2023-10-05\\\\top_up\\\\charge_1696559324054.xlsx',\n",
       " '.\\\\all_channel_rawdata\\\\2023-10-05\\\\top_up\\\\charge_1696559344873.xlsx',\n",
       " '.\\\\all_channel_rawdata\\\\2023-10-05\\\\top_up\\\\charge_1696559359475.xlsx',\n",
       " '.\\\\all_channel_rawdata\\\\2023-10-05\\\\top_up\\\\charge_1696559374604.xlsx',\n",
       " '.\\\\all_channel_rawdata\\\\2023-10-06\\\\top_up\\\\charge_1696639154686.xlsx',\n",
       " '.\\\\all_channel_rawdata\\\\2023-10-06\\\\top_up\\\\charge_1696639167328.xlsx',\n",
       " '.\\\\all_channel_rawdata\\\\2023-10-06\\\\top_up\\\\charge_1696639179957.xlsx',\n",
       " '.\\\\all_channel_rawdata\\\\2023-10-06\\\\top_up\\\\charge_1696639191528.xlsx',\n",
       " '.\\\\all_channel_rawdata\\\\2023-10-06\\\\top_up\\\\charge_1696639203750.xlsx',\n",
       " '.\\\\all_channel_rawdata\\\\2023-10-06\\\\top_up\\\\charge_1696639215592.xlsx',\n",
       " '.\\\\all_channel_rawdata\\\\2023-10-06\\\\top_up\\\\charge_1696639227559.xlsx',\n",
       " '.\\\\all_channel_rawdata\\\\2023-10-06\\\\top_up\\\\charge_1696639239129.xlsx',\n",
       " '.\\\\all_channel_rawdata\\\\2023-10-06\\\\top_up\\\\charge_1696639251317.xlsx',\n",
       " '.\\\\all_channel_rawdata\\\\2023-10-06\\\\top_up\\\\charge_1696639262959.xlsx',\n",
       " '.\\\\all_channel_rawdata\\\\2023-10-06\\\\top_up\\\\charge_1696639274284.xlsx',\n",
       " '.\\\\all_channel_rawdata\\\\2023-10-06\\\\top_up\\\\charge_1696639285451.xlsx',\n",
       " '.\\\\all_channel_rawdata\\\\2023-10-06\\\\top_up\\\\charge_1696643346963.xlsx',\n",
       " '.\\\\all_channel_rawdata\\\\2023-10-07\\\\top_up\\\\charge_1696699529853.xlsx',\n",
       " '.\\\\all_channel_rawdata\\\\2023-10-07\\\\top_up\\\\charge_1696729969430.xlsx',\n",
       " '.\\\\all_channel_rawdata\\\\2023-10-07\\\\top_up\\\\charge_1696729986380.xlsx',\n",
       " '.\\\\all_channel_rawdata\\\\2023-10-07\\\\top_up\\\\charge_1696729998882.xlsx',\n",
       " '.\\\\all_channel_rawdata\\\\2023-10-07\\\\top_up\\\\charge_1696730009532.xlsx',\n",
       " '.\\\\all_channel_rawdata\\\\2023-10-07\\\\top_up\\\\charge_1696730020418.xlsx',\n",
       " '.\\\\all_channel_rawdata\\\\2023-10-07\\\\top_up\\\\charge_1696730066202.xlsx',\n",
       " '.\\\\all_channel_rawdata\\\\2023-10-07\\\\top_up\\\\charge_1696730078831.xlsx',\n",
       " '.\\\\all_channel_rawdata\\\\2023-10-07\\\\top_up\\\\charge_1696730089862.xlsx',\n",
       " '.\\\\all_channel_rawdata\\\\2023-10-07\\\\top_up\\\\charge_1696730100630.xlsx',\n",
       " '.\\\\all_channel_rawdata\\\\2023-10-07\\\\top_up\\\\charge_1696730111801.xlsx',\n",
       " '.\\\\all_channel_rawdata\\\\2023-10-07\\\\top_up\\\\charge_1696730122057.xlsx',\n",
       " '.\\\\all_channel_rawdata\\\\2023-10-07\\\\top_up\\\\charge_1696730131260.xlsx',\n",
       " '.\\\\all_channel_rawdata\\\\2023-10-08\\\\top_up\\\\charge_1696816977172.xlsx',\n",
       " '.\\\\all_channel_rawdata\\\\2023-10-08\\\\top_up\\\\charge_1696816998761.xlsx',\n",
       " '.\\\\all_channel_rawdata\\\\2023-10-08\\\\top_up\\\\charge_1696817009804.xlsx',\n",
       " '.\\\\all_channel_rawdata\\\\2023-10-08\\\\top_up\\\\charge_1696817020745.xlsx',\n",
       " '.\\\\all_channel_rawdata\\\\2023-10-08\\\\top_up\\\\charge_1696817037365.xlsx',\n",
       " '.\\\\all_channel_rawdata\\\\2023-10-08\\\\top_up\\\\charge_1696817059381.xlsx',\n",
       " '.\\\\all_channel_rawdata\\\\2023-10-08\\\\top_up\\\\charge_1696817076860.xlsx',\n",
       " '.\\\\all_channel_rawdata\\\\2023-10-08\\\\top_up\\\\charge_1696817088055.xlsx',\n",
       " '.\\\\all_channel_rawdata\\\\2023-10-08\\\\top_up\\\\charge_1696817102271.xlsx',\n",
       " '.\\\\all_channel_rawdata\\\\2023-10-08\\\\top_up\\\\charge_1696817118898.xlsx',\n",
       " '.\\\\all_channel_rawdata\\\\2023-10-08\\\\top_up\\\\charge_1696817148860.xlsx',\n",
       " '.\\\\all_channel_rawdata\\\\2023-10-08\\\\top_up\\\\charge_1696817163175.xlsx',\n",
       " '.\\\\all_channel_rawdata\\\\2023-10-08\\\\top_up\\\\charge_1696817246518.xlsx',\n",
       " '.\\\\all_channel_rawdata\\\\2023-10-09\\\\top_up\\\\charge_1696906514569.xlsx',\n",
       " '.\\\\all_channel_rawdata\\\\2023-10-09\\\\top_up\\\\charge_1696906535617.xlsx',\n",
       " '.\\\\all_channel_rawdata\\\\2023-10-09\\\\top_up\\\\charge_1696906550351.xlsx',\n",
       " '.\\\\all_channel_rawdata\\\\2023-10-09\\\\top_up\\\\charge_1696906563190.xlsx',\n",
       " '.\\\\all_channel_rawdata\\\\2023-10-09\\\\top_up\\\\charge_1696906583036.xlsx',\n",
       " '.\\\\all_channel_rawdata\\\\2023-10-09\\\\top_up\\\\charge_1696906592418.xlsx',\n",
       " '.\\\\all_channel_rawdata\\\\2023-10-09\\\\top_up\\\\charge_1696907255375.xlsx',\n",
       " '.\\\\all_channel_rawdata\\\\2023-10-09\\\\top_up\\\\charge_1696907273169.xlsx',\n",
       " '.\\\\all_channel_rawdata\\\\2023-10-09\\\\top_up\\\\charge_1696907288815.xlsx',\n",
       " '.\\\\all_channel_rawdata\\\\2023-10-09\\\\top_up\\\\charge_1696907314455.xlsx',\n",
       " '.\\\\all_channel_rawdata\\\\2023-10-09\\\\top_up\\\\charge_1696907354673.xlsx',\n",
       " '.\\\\all_channel_rawdata\\\\2023-10-09\\\\top_up\\\\charge_1696907364046.xlsx',\n",
       " '.\\\\all_channel_rawdata\\\\2023-10-09\\\\top_up\\\\charge_1696907374246.xlsx',\n",
       " '.\\\\all_channel_rawdata\\\\2023-10-09\\\\top_up\\\\charge_1696907427122.xlsx',\n",
       " '.\\\\all_channel_rawdata\\\\2023-10-10\\\\top_up\\\\charge_1696992309232.xlsx',\n",
       " '.\\\\all_channel_rawdata\\\\2023-10-10\\\\top_up\\\\charge_1696992318331.xlsx',\n",
       " '.\\\\all_channel_rawdata\\\\2023-10-10\\\\top_up\\\\charge_1696992324578.xlsx',\n",
       " '.\\\\all_channel_rawdata\\\\2023-10-10\\\\top_up\\\\charge_1696992331163.xlsx',\n",
       " '.\\\\all_channel_rawdata\\\\2023-10-10\\\\top_up\\\\charge_1696992337961.xlsx',\n",
       " '.\\\\all_channel_rawdata\\\\2023-10-10\\\\top_up\\\\charge_1696992359381.xlsx',\n",
       " '.\\\\all_channel_rawdata\\\\2023-10-10\\\\top_up\\\\charge_1696992367105.xlsx',\n",
       " '.\\\\all_channel_rawdata\\\\2023-10-10\\\\top_up\\\\charge_1696992373858.xlsx',\n",
       " '.\\\\all_channel_rawdata\\\\2023-10-10\\\\top_up\\\\charge_1696992379856.xlsx',\n",
       " '.\\\\all_channel_rawdata\\\\2023-10-10\\\\top_up\\\\charge_1696992386092.xlsx',\n",
       " '.\\\\all_channel_rawdata\\\\2023-10-10\\\\top_up\\\\charge_1696992392026.xlsx',\n",
       " '.\\\\all_channel_rawdata\\\\2023-10-10\\\\top_up\\\\charge_1696992424103.xlsx',\n",
       " '.\\\\all_channel_rawdata\\\\2023-10-11\\\\top_up\\\\charge_1697076065297.xlsx',\n",
       " '.\\\\all_channel_rawdata\\\\2023-10-11\\\\top_up\\\\charge_1697076074955.xlsx',\n",
       " '.\\\\all_channel_rawdata\\\\2023-10-11\\\\top_up\\\\charge_1697076084667.xlsx',\n",
       " '.\\\\all_channel_rawdata\\\\2023-10-11\\\\top_up\\\\charge_1697076092850.xlsx',\n",
       " '.\\\\all_channel_rawdata\\\\2023-10-11\\\\top_up\\\\charge_1697076105865.xlsx',\n",
       " '.\\\\all_channel_rawdata\\\\2023-10-11\\\\top_up\\\\charge_1697076115595.xlsx',\n",
       " '.\\\\all_channel_rawdata\\\\2023-10-11\\\\top_up\\\\charge_1697076127777.xlsx',\n",
       " '.\\\\all_channel_rawdata\\\\2023-10-11\\\\top_up\\\\charge_1697076136115.xlsx',\n",
       " '.\\\\all_channel_rawdata\\\\2023-10-11\\\\top_up\\\\charge_1697076146618.xlsx',\n",
       " '.\\\\all_channel_rawdata\\\\2023-10-11\\\\top_up\\\\charge_1697076155738.xlsx',\n",
       " '.\\\\all_channel_rawdata\\\\2023-10-11\\\\top_up\\\\charge_1697076165635.xlsx',\n",
       " '.\\\\all_channel_rawdata\\\\2023-10-11\\\\top_up\\\\charge_1697076180552.xlsx',\n",
       " '.\\\\all_channel_rawdata\\\\2023-10-12\\\\top_up\\\\charge_1697162965524.xlsx',\n",
       " '.\\\\all_channel_rawdata\\\\2023-10-12\\\\top_up\\\\charge_1697163524362.xlsx',\n",
       " '.\\\\all_channel_rawdata\\\\2023-10-12\\\\top_up\\\\charge_1697163562349.xlsx',\n",
       " '.\\\\all_channel_rawdata\\\\2023-10-12\\\\top_up\\\\charge_1697163576147.xlsx',\n",
       " '.\\\\all_channel_rawdata\\\\2023-10-12\\\\top_up\\\\charge_1697163682620.xlsx',\n",
       " '.\\\\all_channel_rawdata\\\\2023-10-12\\\\top_up\\\\charge_1697163707837.xlsx',\n",
       " '.\\\\all_channel_rawdata\\\\2023-10-12\\\\top_up\\\\charge_1697163716448.xlsx',\n",
       " '.\\\\all_channel_rawdata\\\\2023-10-12\\\\top_up\\\\charge_1697163728679.xlsx',\n",
       " '.\\\\all_channel_rawdata\\\\2023-10-12\\\\top_up\\\\charge_1697163958700.xlsx',\n",
       " '.\\\\all_channel_rawdata\\\\2023-10-12\\\\top_up\\\\charge_1697163969465.xlsx',\n",
       " '.\\\\all_channel_rawdata\\\\2023-10-12\\\\top_up\\\\charge_1697163983664.xlsx',\n",
       " '.\\\\all_channel_rawdata\\\\2023-10-12\\\\top_up\\\\charge_1697164008950.xlsx',\n",
       " '.\\\\all_channel_rawdata\\\\2023-10-12\\\\top_up\\\\charge_1697164046141.xlsx',\n",
       " '.\\\\all_channel_rawdata\\\\2023-10-12\\\\top_up\\\\charge_1697164080505.xlsx',\n",
       " '.\\\\all_channel_rawdata\\\\2023-10-13\\\\top_up\\\\charge_1697248990133.xlsx',\n",
       " '.\\\\all_channel_rawdata\\\\2023-10-13\\\\top_up\\\\charge_1697249009064.xlsx',\n",
       " '.\\\\all_channel_rawdata\\\\2023-10-13\\\\top_up\\\\charge_1697249015866.xlsx',\n",
       " '.\\\\all_channel_rawdata\\\\2023-10-13\\\\top_up\\\\charge_1697249023465.xlsx',\n",
       " '.\\\\all_channel_rawdata\\\\2023-10-13\\\\top_up\\\\charge_1697249038579.xlsx',\n",
       " '.\\\\all_channel_rawdata\\\\2023-10-13\\\\top_up\\\\charge_1697249079277.xlsx',\n",
       " '.\\\\all_channel_rawdata\\\\2023-10-13\\\\top_up\\\\charge_1697249091827.xlsx',\n",
       " '.\\\\all_channel_rawdata\\\\2023-10-13\\\\top_up\\\\charge_1697249099101.xlsx',\n",
       " '.\\\\all_channel_rawdata\\\\2023-10-13\\\\top_up\\\\charge_1697249106262.xlsx',\n",
       " '.\\\\all_channel_rawdata\\\\2023-10-13\\\\top_up\\\\charge_1697249113313.xlsx',\n",
       " '.\\\\all_channel_rawdata\\\\2023-10-13\\\\top_up\\\\charge_1697249178856.xlsx',\n",
       " '.\\\\all_channel_rawdata\\\\2023-10-14\\\\top_up\\\\charge_1697334830822.xlsx',\n",
       " '.\\\\all_channel_rawdata\\\\2023-10-14\\\\top_up\\\\charge_1697334856074.xlsx',\n",
       " '.\\\\all_channel_rawdata\\\\2023-10-14\\\\top_up\\\\charge_1697334882616.xlsx',\n",
       " '.\\\\all_channel_rawdata\\\\2023-10-14\\\\top_up\\\\charge_1697334935919.xlsx',\n",
       " '.\\\\all_channel_rawdata\\\\2023-10-14\\\\top_up\\\\charge_1697334943288.xlsx',\n",
       " '.\\\\all_channel_rawdata\\\\2023-10-14\\\\top_up\\\\charge_1697334949970.xlsx',\n",
       " '.\\\\all_channel_rawdata\\\\2023-10-14\\\\top_up\\\\charge_1697334958326.xlsx',\n",
       " '.\\\\all_channel_rawdata\\\\2023-10-14\\\\top_up\\\\charge_1697335023649.xlsx',\n",
       " '.\\\\all_channel_rawdata\\\\2023-10-14\\\\top_up\\\\charge_1697335039897.xlsx',\n",
       " '.\\\\all_channel_rawdata\\\\2023-10-14\\\\top_up\\\\charge_1697335101534.xlsx',\n",
       " '.\\\\all_channel_rawdata\\\\2023-10-14\\\\top_up\\\\charge_1697335156066.xlsx',\n",
       " '.\\\\all_channel_rawdata\\\\2023-10-14\\\\top_up\\\\charge_1697335315467.xlsx',\n",
       " '.\\\\all_channel_rawdata\\\\2023-10-15\\\\top_up\\\\charge_1697420665947.xlsx',\n",
       " '.\\\\all_channel_rawdata\\\\2023-10-15\\\\top_up\\\\charge_1697420672412.xlsx',\n",
       " '.\\\\all_channel_rawdata\\\\2023-10-15\\\\top_up\\\\charge_1697420678667.xlsx',\n",
       " '.\\\\all_channel_rawdata\\\\2023-10-15\\\\top_up\\\\charge_1697420684933.xlsx',\n",
       " '.\\\\all_channel_rawdata\\\\2023-10-15\\\\top_up\\\\charge_1697420691450.xlsx',\n",
       " '.\\\\all_channel_rawdata\\\\2023-10-15\\\\top_up\\\\charge_1697420697059.xlsx',\n",
       " ...]"
      ]
     },
     "execution_count": 47,
     "metadata": {},
     "output_type": "execute_result"
    }
   ],
   "source": [
    "files_path_list"
   ]
  },
  {
   "cell_type": "code",
   "execution_count": null,
   "metadata": {},
   "outputs": [],
   "source": [
    "# 合併檔案\n",
    "all_top_up = pd.DataFrame()\n",
    "for file in files_path_list:\n",
    "    df = pd.read_excel(file, engine='openpyxl')\n",
    "    all_top_up = pd.concat([all_top_up, df],  ignore_index=True)"
   ]
  },
  {
   "cell_type": "code",
   "execution_count": 65,
   "metadata": {},
   "outputs": [
    {
     "name": "stdout",
     "output_type": "stream",
     "text": [
      "no.0, col_name:订单发起时间\n",
      "no.1, col_name:订单完成时间\n",
      "no.2, col_name:用户id\n",
      "no.3, col_name:用户昵称\n",
      "no.4, col_name:手机\n",
      "no.5, col_name:订单号\n",
      "no.6, col_name:通道订单号\n",
      "no.7, col_name:充值用途\n",
      "no.8, col_name:充值通道\n",
      "no.9, col_name:支付类型\n",
      "no.10, col_name:订单名称\n",
      "no.11, col_name:充值金额\n",
      "no.12, col_name:到账金额\n",
      "no.13, col_name:订单状态\n",
      "no.14, col_name:app应用类型\n",
      "no.15, col_name:app渠道名称\n",
      "no.16, col_name:支付的ip\n",
      "no.17, col_name:地区\n",
      "no.18, col_name:设备ID\n"
     ]
    }
   ],
   "source": [
    "for index, col_name in enumerate(all_top_up.columns):\n",
    "    print(f\"no.{index}, col_name:{col_name}\")"
   ]
  },
  {
   "cell_type": "code",
   "execution_count": 66,
   "metadata": {},
   "outputs": [],
   "source": [
    "t = all_top_up.iloc[:, [0, 1, 2, 5, 7, 8, 9, 10, 11, 12, 14, 16]]"
   ]
  },
  {
   "cell_type": "code",
   "execution_count": 67,
   "metadata": {},
   "outputs": [
    {
     "name": "stderr",
     "output_type": "stream",
     "text": [
      "C:\\Users\\Rex\\AppData\\Local\\Temp\\ipykernel_16044\\3147785438.py:1: SettingWithCopyWarning: \n",
      "A value is trying to be set on a copy of a slice from a DataFrame.\n",
      "Try using .loc[row_indexer,col_indexer] = value instead\n",
      "\n",
      "See the caveats in the documentation: https://pandas.pydata.org/pandas-docs/stable/user_guide/indexing.html#returning-a-view-versus-a-copy\n",
      "  t['订单发起时间'] = pd.to_datetime(t['订单发起时间'])\n",
      "C:\\Users\\Rex\\AppData\\Local\\Temp\\ipykernel_16044\\3147785438.py:2: SettingWithCopyWarning: \n",
      "A value is trying to be set on a copy of a slice from a DataFrame.\n",
      "Try using .loc[row_indexer,col_indexer] = value instead\n",
      "\n",
      "See the caveats in the documentation: https://pandas.pydata.org/pandas-docs/stable/user_guide/indexing.html#returning-a-view-versus-a-copy\n",
      "  t['订单完成时间'] = pd.to_datetime(t['订单完成时间'])\n",
      "C:\\Users\\Rex\\AppData\\Local\\Temp\\ipykernel_16044\\3147785438.py:3: SettingWithCopyWarning: \n",
      "A value is trying to be set on a copy of a slice from a DataFrame.\n",
      "Try using .loc[row_indexer,col_indexer] = value instead\n",
      "\n",
      "See the caveats in the documentation: https://pandas.pydata.org/pandas-docs/stable/user_guide/indexing.html#returning-a-view-versus-a-copy\n",
      "  t['充值金额'] = t['充值金额'].astype(int)\n"
     ]
    }
   ],
   "source": [
    "t['订单发起时间'] = pd.to_datetime(t['订单发起时间'])\n",
    "t['订单完成时间'] = pd.to_datetime(t['订单完成时间'])\n",
    "t['充值金额'] = t['充值金额'].astype(int)\n",
    "\n",
    "t = t.reset_index(drop=True)\n",
    "t.drop_duplicates(inplace=True)"
   ]
  },
  {
   "cell_type": "code",
   "execution_count": 68,
   "metadata": {},
   "outputs": [
    {
     "name": "stdout",
     "output_type": "stream",
     "text": [
      "<class 'pandas.core.frame.DataFrame'>\n",
      "Index: 256814 entries, 0 to 277278\n",
      "Data columns (total 12 columns):\n",
      " #   Column   Non-Null Count   Dtype         \n",
      "---  ------   --------------   -----         \n",
      " 0   订单发起时间   256814 non-null  datetime64[ns]\n",
      " 1   订单完成时间   256814 non-null  datetime64[ns]\n",
      " 2   用户id     256814 non-null  int64         \n",
      " 3   订单号      256810 non-null  object        \n",
      " 4   充值用途     256813 non-null  object        \n",
      " 5   充值通道     252297 non-null  object        \n",
      " 6   支付类型     256814 non-null  object        \n",
      " 7   订单名称     256813 non-null  object        \n",
      " 8   充值金额     256814 non-null  int32         \n",
      " 9   到账金额     256814 non-null  float64       \n",
      " 10  app应用类型  256810 non-null  object        \n",
      " 11  支付的ip    252262 non-null  object        \n",
      "dtypes: datetime64[ns](2), float64(1), int32(1), int64(1), object(7)\n",
      "memory usage: 24.5+ MB\n"
     ]
    }
   ],
   "source": [
    "t.info()"
   ]
  },
  {
   "cell_type": "code",
   "execution_count": 69,
   "metadata": {},
   "outputs": [],
   "source": [
    "# 欄位轉換\n",
    "top_up_col_cn = t.columns\n",
    "top_up_col_en = [\n",
    "    'Order Time', 'Order Completion Time', 'User ID', 'Order Number', \n",
    "    'Purpose', 'Payment Gateway', 'Payment Type', 'Order Type', \n",
    "    'Recharge Amount', 'Amount Received', 'Device Type', 'IP']\n",
    "pair = dict(zip(top_up_col_cn, top_up_col_en))\n",
    "t.rename(columns= pair, inplace = True)"
   ]
  },
  {
   "cell_type": "code",
   "execution_count": 70,
   "metadata": {},
   "outputs": [],
   "source": [
    "# 輸出欄位對照表\n",
    "top_up_df_trans = pd.DataFrame(list(pair.items()), columns=['中文欄位名', '英文欄位名'])\n",
    "top_up_df_trans.to_excel('top_up_df_trans.xlsx', index=False)"
   ]
  },
  {
   "cell_type": "code",
   "execution_count": 71,
   "metadata": {},
   "outputs": [],
   "source": [
    "# Payment Type轉英文\n",
    "Payment_value_cn = [\n",
    "    '支付寶支付',\n",
    "    '銀行卡支付',\n",
    "    'QQ錢包',\n",
    "    '微信支付',\n",
    "    '雲閃付',\n",
    "    '人工支付',\n",
    "    '波波支付',\n",
    "    '人工充值'\n",
    "]\n",
    "\n",
    "# 英文列表\n",
    "Payment_value_en = [\n",
    "    'Alipay',\n",
    "    'Bank Card',\n",
    "    'QQ Wallet',\n",
    "    'WeChat Pay',\n",
    "    'UnionPay',\n",
    "    'Manual',\n",
    "    'Bobo Pay',\n",
    "    'Manual'\n",
    "]\n",
    "Payment_replace_dict = dict(zip(t['Payment Type'].unique(), Payment_value_en))\n",
    "t['Payment Type'] = t['Payment Type'].replace(Payment_replace_dict)"
   ]
  },
  {
   "cell_type": "code",
   "execution_count": 72,
   "metadata": {},
   "outputs": [
    {
     "data": {
      "text/plain": [
       "array(['常规充值', '人工充值', nan, 'QQ钱包', '支付宝支付', '微信支付', '云闪付', '银行卡支付',\n",
       "       'VIP会员月卡', 'VIP会员季度卡', '波波支付', '现金支付'], dtype=object)"
      ]
     },
     "execution_count": 72,
     "metadata": {},
     "output_type": "execute_result"
    }
   ],
   "source": [
    "# Order Type col processing\n",
    "t['Order Type'].unique()"
   ]
  },
  {
   "cell_type": "code",
   "execution_count": 73,
   "metadata": {},
   "outputs": [],
   "source": [
    "order_type_value_cn = t['Order Type'].unique().tolist()\n",
    "order_type_value_en = ['Regular Recharge', \n",
    "                'Manual', \n",
    "                float('nan'), \n",
    "                'Regular Recharge', \n",
    "                'Regular Recharge', \n",
    "                'Regular Recharge', \n",
    "                'Regular Recharge', \n",
    "                'Regular Recharge',\n",
    "                'VIP Monthly', \n",
    "                'VIP Quarterly', \n",
    "                'Regular Recharge', \n",
    "                'Cash']"
   ]
  },
  {
   "cell_type": "code",
   "execution_count": 74,
   "metadata": {},
   "outputs": [],
   "source": [
    "order_type_value_dict = dict(zip(order_type_value_cn, order_type_value_en))\n",
    "t['Order Type'] = t['Order Type'].replace(order_type_value_dict)"
   ]
  },
  {
   "cell_type": "code",
   "execution_count": 75,
   "metadata": {},
   "outputs": [
    {
     "name": "stdout",
     "output_type": "stream",
     "text": [
      "               Order Time Order Completion Time   User ID Order Number Purpose Payment Gateway Payment Type Order Type  Recharge Amount  Amount Received Device Type   IP\n",
      "81994 2023-08-29 13:17:12   2023-08-29 13:17:12  39922030          NaN     NaN             NaN       Manual        NaN             3000           3000.0         NaN  NaN\n"
     ]
    }
   ],
   "source": [
    "# 有一筆nan，按Payment Type = Manual填補成Manual\n",
    "print(t[t['Order Type'].isna()])"
   ]
  },
  {
   "cell_type": "code",
   "execution_count": 76,
   "metadata": {},
   "outputs": [],
   "source": [
    "t['Order Type'] = t['Order Type'].fillna('Manual')"
   ]
  },
  {
   "cell_type": "code",
   "execution_count": 77,
   "metadata": {},
   "outputs": [
    {
     "name": "stdout",
     "output_type": "stream",
     "text": [
      "Empty DataFrame\n",
      "Columns: [Order Time, Order Completion Time, User ID, Order Number, Purpose, Payment Gateway, Payment Type, Order Type, Recharge Amount, Amount Received, Device Type, IP]\n",
      "Index: []\n"
     ]
    }
   ],
   "source": [
    "# 填補成功\n",
    "print(t[t['Order Type'].isna()])"
   ]
  },
  {
   "cell_type": "code",
   "execution_count": 78,
   "metadata": {},
   "outputs": [],
   "source": [
    "# plt.figure(figsize=(10, 6))\n",
    "# t['Order Type'].value_counts().plot(kind='bar')\n",
    "# plt.title('distri')\n",
    "# plt.ylabel('count')\n",
    "# plt.xlabel('Order Type')\n",
    "# plt.xticks(rotation=45)\n",
    "# plt.show()\n",
    "# print(t['Order Type'].value_counts())"
   ]
  },
  {
   "cell_type": "code",
   "execution_count": 79,
   "metadata": {},
   "outputs": [
    {
     "name": "stdout",
     "output_type": "stream",
     "text": [
      "Purpose\n",
      "Recharge    256039\n",
      "Upgrade        774\n",
      "Name: count, dtype: int64\n"
     ]
    }
   ],
   "source": [
    "# purpose col processing\n",
    "\n",
    "# 購買會員 = Upgrade\n",
    "purpose_col_cn = t['Purpose'].unique()\n",
    "purpose_col_en = ['Recharge', \n",
    "                  float('nan'), \n",
    "                  'Upgrade']\n",
    "purpose_col_dict = dict(zip(purpose_col_cn, purpose_col_en))\n",
    "purpose_col_dict\n",
    "\n",
    "t['Purpose'] = t['Purpose'].replace(purpose_col_dict)\n",
    "\n",
    "print(t['Purpose'].value_counts())"
   ]
  },
  {
   "cell_type": "code",
   "execution_count": 80,
   "metadata": {},
   "outputs": [],
   "source": [
    "gateway_col_cn = t['Payment Gateway'].unique()"
   ]
  },
  {
   "cell_type": "code",
   "execution_count": 81,
   "metadata": {},
   "outputs": [
    {
     "data": {
      "text/plain": [
       "array(['聚合支付', '利达四方', nan, 'BOBI支付'], dtype=object)"
      ]
     },
     "execution_count": 81,
     "metadata": {},
     "output_type": "execute_result"
    }
   ],
   "source": [
    "gateway_col_cn"
   ]
  },
  {
   "cell_type": "code",
   "execution_count": 82,
   "metadata": {},
   "outputs": [
    {
     "data": {
      "text/plain": [
       "4517"
      ]
     },
     "execution_count": 82,
     "metadata": {},
     "output_type": "execute_result"
    }
   ],
   "source": [
    "t[ t['Payment Gateway'].isna()].shape[0]"
   ]
  },
  {
   "cell_type": "code",
   "execution_count": 83,
   "metadata": {},
   "outputs": [],
   "source": [
    "gateway_col_en = ['Aggregated Payment', 'LianLian Pay', 'NA', 'BOBI Payment']"
   ]
  },
  {
   "cell_type": "code",
   "execution_count": 84,
   "metadata": {},
   "outputs": [
    {
     "data": {
      "text/plain": [
       "{'聚合支付': 'Aggregated Payment',\n",
       " '利达四方': 'LianLian Pay',\n",
       " nan: 'NA',\n",
       " 'BOBI支付': 'BOBI Payment'}"
      ]
     },
     "execution_count": 84,
     "metadata": {},
     "output_type": "execute_result"
    }
   ],
   "source": [
    "payment_gateway_col_dict = dict(zip(gateway_col_cn, gateway_col_en))\n",
    "payment_gateway_col_dict"
   ]
  },
  {
   "cell_type": "code",
   "execution_count": 85,
   "metadata": {},
   "outputs": [],
   "source": [
    "# Payment Gateway col processing\n",
    "t['Payment Gateway'] = t['Payment Gateway'].replace(payment_gateway_col_dict)"
   ]
  },
  {
   "cell_type": "code",
   "execution_count": 86,
   "metadata": {},
   "outputs": [
    {
     "data": {
      "text/plain": [
       "0"
      ]
     },
     "execution_count": 86,
     "metadata": {},
     "output_type": "execute_result"
    }
   ],
   "source": [
    "t[ t['Payment Gateway'].isna()].shape[0]"
   ]
  },
  {
   "cell_type": "code",
   "execution_count": 87,
   "metadata": {},
   "outputs": [],
   "source": [
    "# device type 轉換大小寫\n",
    "t['Device Type'] = t['Device Type'].replace('IOS', 'iOS')\n",
    "t['Device Type'] = t['Device Type'].replace('ANDROID', 'Android')"
   ]
  },
  {
   "cell_type": "code",
   "execution_count": 88,
   "metadata": {},
   "outputs": [
    {
     "name": "stderr",
     "output_type": "stream",
     "text": [
      "C:\\Users\\Rex\\AppData\\Local\\Temp\\ipykernel_16044\\1510935752.py:1: FutureWarning: A value is trying to be set on a copy of a DataFrame or Series through chained assignment using an inplace method.\n",
      "The behavior will change in pandas 3.0. This inplace method will never work because the intermediate object on which we are setting values always behaves as a copy.\n",
      "\n",
      "For example, when doing 'df[col].method(value, inplace=True)', try using 'df.method({col: value}, inplace=True)' or df[col] = df[col].method(value) instead, to perform the operation inplace on the original object.\n",
      "\n",
      "\n",
      "  t['Device Type'].fillna('no record', inplace=True)\n"
     ]
    }
   ],
   "source": [
    "t['Device Type'].fillna('no record', inplace=True)\n",
    "#### missing value processing"
   ]
  },
  {
   "cell_type": "code",
   "execution_count": 89,
   "metadata": {},
   "outputs": [],
   "source": [
    "# missing value processing"
   ]
  },
  {
   "cell_type": "code",
   "execution_count": 90,
   "metadata": {},
   "outputs": [
    {
     "name": "stdout",
     "output_type": "stream",
     "text": [
      "Order Time                  0\n",
      "Order Completion Time       0\n",
      "User ID                     0\n",
      "Order Number                4\n",
      "Purpose                     1\n",
      "Payment Gateway             0\n",
      "Payment Type                0\n",
      "Order Type                  0\n",
      "Recharge Amount             0\n",
      "Amount Received             0\n",
      "Device Type                 0\n",
      "IP                       4552\n",
      "dtype: int64\n"
     ]
    }
   ],
   "source": [
    "print(t.isna().sum())"
   ]
  },
  {
   "cell_type": "code",
   "execution_count": 91,
   "metadata": {},
   "outputs": [],
   "source": [
    "#　ip na過多\n",
    "naip = t[ t['IP'].isna()]"
   ]
  },
  {
   "cell_type": "code",
   "execution_count": null,
   "metadata": {},
   "outputs": [],
   "source": [
    "# 剛好Device Type幾乎是H5\n",
    "naip"
   ]
  },
  {
   "cell_type": "code",
   "execution_count": 93,
   "metadata": {},
   "outputs": [
    {
     "data": {
      "text/plain": [
       "39"
      ]
     },
     "execution_count": 93,
     "metadata": {},
     "output_type": "execute_result"
    }
   ],
   "source": [
    "# 也有iOS, Android, 共39筆\n",
    "not_h5 = naip[naip['Device Type'] != 'H5']\n",
    "not_h5.shape[0]"
   ]
  },
  {
   "cell_type": "code",
   "execution_count": 94,
   "metadata": {},
   "outputs": [
    {
     "data": {
      "text/html": [
       "<div>\n",
       "<style scoped>\n",
       "    .dataframe tbody tr th:only-of-type {\n",
       "        vertical-align: middle;\n",
       "    }\n",
       "\n",
       "    .dataframe tbody tr th {\n",
       "        vertical-align: top;\n",
       "    }\n",
       "\n",
       "    .dataframe thead th {\n",
       "        text-align: right;\n",
       "    }\n",
       "</style>\n",
       "<table border=\"1\" class=\"dataframe\">\n",
       "  <thead>\n",
       "    <tr style=\"text-align: right;\">\n",
       "      <th></th>\n",
       "      <th>Order Time</th>\n",
       "      <th>Order Completion Time</th>\n",
       "      <th>User ID</th>\n",
       "      <th>Order Number</th>\n",
       "      <th>Purpose</th>\n",
       "      <th>Payment Gateway</th>\n",
       "      <th>Payment Type</th>\n",
       "      <th>Order Type</th>\n",
       "      <th>Recharge Amount</th>\n",
       "      <th>Amount Received</th>\n",
       "      <th>Device Type</th>\n",
       "      <th>IP</th>\n",
       "    </tr>\n",
       "  </thead>\n",
       "  <tbody>\n",
       "    <tr>\n",
       "      <th>81994</th>\n",
       "      <td>2023-08-29 13:17:12</td>\n",
       "      <td>2023-08-29 13:17:12</td>\n",
       "      <td>39922030</td>\n",
       "      <td>NaN</td>\n",
       "      <td>NaN</td>\n",
       "      <td>NA</td>\n",
       "      <td>Manual</td>\n",
       "      <td>Manual</td>\n",
       "      <td>3000</td>\n",
       "      <td>3000.0</td>\n",
       "      <td>no record</td>\n",
       "      <td>NaN</td>\n",
       "    </tr>\n",
       "    <tr>\n",
       "      <th>86254</th>\n",
       "      <td>2023-08-31 01:10:55</td>\n",
       "      <td>2023-08-31 01:10:55</td>\n",
       "      <td>39777257</td>\n",
       "      <td>NaN</td>\n",
       "      <td>Recharge</td>\n",
       "      <td>NA</td>\n",
       "      <td>Manual</td>\n",
       "      <td>Manual</td>\n",
       "      <td>2000</td>\n",
       "      <td>2000.0</td>\n",
       "      <td>no record</td>\n",
       "      <td>NaN</td>\n",
       "    </tr>\n",
       "    <tr>\n",
       "      <th>112574</th>\n",
       "      <td>2023-09-12 22:37:10</td>\n",
       "      <td>2023-09-12 22:40:56</td>\n",
       "      <td>41033000</td>\n",
       "      <td>NaN</td>\n",
       "      <td>Recharge</td>\n",
       "      <td>LianLian Pay</td>\n",
       "      <td>Bank Card</td>\n",
       "      <td>Regular Recharge</td>\n",
       "      <td>1000</td>\n",
       "      <td>1000.0</td>\n",
       "      <td>Android</td>\n",
       "      <td>14.150.131.170</td>\n",
       "    </tr>\n",
       "    <tr>\n",
       "      <th>112575</th>\n",
       "      <td>2023-09-12 22:35:49</td>\n",
       "      <td>2023-09-12 22:38:54</td>\n",
       "      <td>41031696</td>\n",
       "      <td>NaN</td>\n",
       "      <td>Recharge</td>\n",
       "      <td>LianLian Pay</td>\n",
       "      <td>Bank Card</td>\n",
       "      <td>Regular Recharge</td>\n",
       "      <td>2000</td>\n",
       "      <td>2000.0</td>\n",
       "      <td>Android</td>\n",
       "      <td>14.150.131.170</td>\n",
       "    </tr>\n",
       "  </tbody>\n",
       "</table>\n",
       "</div>"
      ],
      "text/plain": [
       "                Order Time Order Completion Time   User ID Order Number   Purpose Payment Gateway Payment Type        Order Type  Recharge Amount  Amount Received Device Type              IP\n",
       "81994  2023-08-29 13:17:12   2023-08-29 13:17:12  39922030          NaN       NaN              NA       Manual            Manual             3000           3000.0   no record             NaN\n",
       "86254  2023-08-31 01:10:55   2023-08-31 01:10:55  39777257          NaN  Recharge              NA       Manual            Manual             2000           2000.0   no record             NaN\n",
       "112574 2023-09-12 22:37:10   2023-09-12 22:40:56  41033000          NaN  Recharge    LianLian Pay    Bank Card  Regular Recharge             1000           1000.0     Android  14.150.131.170\n",
       "112575 2023-09-12 22:35:49   2023-09-12 22:38:54  41031696          NaN  Recharge    LianLian Pay    Bank Card  Regular Recharge             2000           2000.0     Android  14.150.131.170"
      ]
     },
     "execution_count": 94,
     "metadata": {},
     "output_type": "execute_result"
    }
   ],
   "source": [
    "# Order Number, Purpose, Device Type的missing value\n",
    "\n",
    "na_row = t[t['Order Number'].isnull() | t['Purpose'].isnull()]\n",
    "na_row"
   ]
  },
  {
   "cell_type": "code",
   "execution_count": 95,
   "metadata": {},
   "outputs": [
    {
     "name": "stderr",
     "output_type": "stream",
     "text": [
      "C:\\Users\\Rex\\AppData\\Local\\Temp\\ipykernel_16044\\3104758203.py:1: FutureWarning: A value is trying to be set on a copy of a DataFrame or Series through chained assignment using an inplace method.\n",
      "The behavior will change in pandas 3.0. This inplace method will never work because the intermediate object on which we are setting values always behaves as a copy.\n",
      "\n",
      "For example, when doing 'df[col].method(value, inplace=True)', try using 'df.method({col: value}, inplace=True)' or df[col] = df[col].method(value) instead, to perform the operation inplace on the original object.\n",
      "\n",
      "\n",
      "  t['Purpose'].fillna('no record', inplace = True)\n"
     ]
    }
   ],
   "source": [
    "t['Purpose'].fillna('no record', inplace = True)"
   ]
  },
  {
   "cell_type": "code",
   "execution_count": 96,
   "metadata": {},
   "outputs": [],
   "source": [
    "# t.to_excel(\"sp001_tb_recharge.xlsx\", index=False)"
   ]
  },
  {
   "cell_type": "code",
   "execution_count": 161,
   "metadata": {},
   "outputs": [],
   "source": [
    "t.to_csv(\"sp001_tb_recharge.csv\", index=False, encoding='utf-8')"
   ]
  },
  {
   "cell_type": "markdown",
   "metadata": {},
   "source": [
    "#### 4. Membership_Sign_Up_dataset"
   ]
  },
  {
   "cell_type": "code",
   "execution_count": 166,
   "metadata": {},
   "outputs": [],
   "source": [
    "file_list = glob(\".\\\\data_source\\\\membership_purchase\\\\charge_*.xlsx\")"
   ]
  },
  {
   "cell_type": "code",
   "execution_count": 167,
   "metadata": {},
   "outputs": [
    {
     "data": {
      "text/plain": [
       "['.\\\\data_source\\\\membership_purchase\\\\charge_1694152223894.xlsx',\n",
       " '.\\\\data_source\\\\membership_purchase\\\\charge_1694152261327.xlsx',\n",
       " '.\\\\data_source\\\\membership_purchase\\\\charge_1694152272822.xlsx',\n",
       " '.\\\\data_source\\\\membership_purchase\\\\charge_1694152401634.xlsx',\n",
       " '.\\\\data_source\\\\membership_purchase\\\\charge_1694152412728.xlsx',\n",
       " '.\\\\data_source\\\\membership_purchase\\\\charge_1695437923429.xlsx',\n",
       " '.\\\\data_source\\\\membership_purchase\\\\charge_1695437935386.xlsx',\n",
       " '.\\\\data_source\\\\membership_purchase\\\\charge_1695438319166.xlsx']"
      ]
     },
     "execution_count": 167,
     "metadata": {},
     "output_type": "execute_result"
    }
   ],
   "source": [
    "file_list"
   ]
  },
  {
   "cell_type": "code",
   "execution_count": 170,
   "metadata": {},
   "outputs": [],
   "source": [
    "combined_df = pd.DataFrame()"
   ]
  },
  {
   "cell_type": "code",
   "execution_count": 172,
   "metadata": {},
   "outputs": [
    {
     "name": "stderr",
     "output_type": "stream",
     "text": [
      "c:\\Users\\Rex\\anaconda3\\Lib\\site-packages\\openpyxl\\styles\\stylesheet.py:226: UserWarning: Workbook contains no default style, apply openpyxl's default\n",
      "  warn(\"Workbook contains no default style, apply openpyxl's default\")\n",
      "c:\\Users\\Rex\\anaconda3\\Lib\\site-packages\\openpyxl\\styles\\stylesheet.py:226: UserWarning: Workbook contains no default style, apply openpyxl's default\n",
      "  warn(\"Workbook contains no default style, apply openpyxl's default\")\n",
      "c:\\Users\\Rex\\anaconda3\\Lib\\site-packages\\openpyxl\\styles\\stylesheet.py:226: UserWarning: Workbook contains no default style, apply openpyxl's default\n",
      "  warn(\"Workbook contains no default style, apply openpyxl's default\")\n",
      "c:\\Users\\Rex\\anaconda3\\Lib\\site-packages\\openpyxl\\styles\\stylesheet.py:226: UserWarning: Workbook contains no default style, apply openpyxl's default\n",
      "  warn(\"Workbook contains no default style, apply openpyxl's default\")\n",
      "c:\\Users\\Rex\\anaconda3\\Lib\\site-packages\\openpyxl\\styles\\stylesheet.py:226: UserWarning: Workbook contains no default style, apply openpyxl's default\n",
      "  warn(\"Workbook contains no default style, apply openpyxl's default\")\n",
      "c:\\Users\\Rex\\anaconda3\\Lib\\site-packages\\openpyxl\\styles\\stylesheet.py:226: UserWarning: Workbook contains no default style, apply openpyxl's default\n",
      "  warn(\"Workbook contains no default style, apply openpyxl's default\")\n",
      "c:\\Users\\Rex\\anaconda3\\Lib\\site-packages\\openpyxl\\styles\\stylesheet.py:226: UserWarning: Workbook contains no default style, apply openpyxl's default\n",
      "  warn(\"Workbook contains no default style, apply openpyxl's default\")\n",
      "c:\\Users\\Rex\\anaconda3\\Lib\\site-packages\\openpyxl\\styles\\stylesheet.py:226: UserWarning: Workbook contains no default style, apply openpyxl's default\n",
      "  warn(\"Workbook contains no default style, apply openpyxl's default\")\n"
     ]
    }
   ],
   "source": [
    "all_df = []\n",
    "for file in file_list:\n",
    "    df = pd.ExcelFile(file)\n",
    "    for sheet in df.sheet_names:\n",
    "        df_sheet = pd.read_excel(df, sheet_name=sheet)\n",
    "        all_df.append(df_sheet)\n",
    "        "
   ]
  },
  {
   "cell_type": "code",
   "execution_count": 173,
   "metadata": {},
   "outputs": [],
   "source": [
    "combined_df = pd.concat(all_df, ignore_index=True)"
   ]
  },
  {
   "cell_type": "code",
   "execution_count": null,
   "metadata": {},
   "outputs": [],
   "source": [
    "combined_df "
   ]
  },
  {
   "cell_type": "code",
   "execution_count": 246,
   "metadata": {},
   "outputs": [
    {
     "name": "stdout",
     "output_type": "stream",
     "text": [
      "<class 'pandas.core.frame.DataFrame'>\n",
      "RangeIndex: 1278 entries, 0 to 1277\n",
      "Data columns (total 15 columns):\n",
      " #   Column                 Non-Null Count  Dtype         \n",
      "---  ------                 --------------  -----         \n",
      " 0   Order Time             1278 non-null   datetime64[ns]\n",
      " 1   Order Completion Time  1278 non-null   datetime64[ns]\n",
      " 2   User ID                1278 non-null   object        \n",
      " 3   Order Number           1278 non-null   object        \n",
      " 4   Channel Order Number   1278 non-null   int64         \n",
      " 5   Purpose                1278 non-null   object        \n",
      " 6   Payment Gateway        1278 non-null   object        \n",
      " 7   Payment Type           1278 non-null   object        \n",
      " 8   Membership Level       1278 non-null   object        \n",
      " 9   Recharge Amount        1278 non-null   float64       \n",
      " 10  Amount Received        1278 non-null   float64       \n",
      " 11  Device Type            1278 non-null   object        \n",
      " 12  IP                     1278 non-null   object        \n",
      " 13  Device ID              1278 non-null   object        \n",
      " 14  Order Date             1278 non-null   object        \n",
      "dtypes: datetime64[ns](2), float64(2), int64(1), object(10)\n",
      "memory usage: 149.9+ KB\n"
     ]
    }
   ],
   "source": [
    "combined_df.info()"
   ]
  },
  {
   "cell_type": "code",
   "execution_count": null,
   "metadata": {},
   "outputs": [],
   "source": [
    "combined_df.drop(columns=['用户昵称', '手机', '订单状态', 'app渠道名称', '地区'], inplace=True)"
   ]
  },
  {
   "cell_type": "code",
   "execution_count": 212,
   "metadata": {},
   "outputs": [],
   "source": [
    "membership_col_cn = combined_df.columns.tolist()"
   ]
  },
  {
   "cell_type": "code",
   "execution_count": 213,
   "metadata": {},
   "outputs": [],
   "source": [
    "membership_col_en = [\n",
    "    \"Order Time\",\n",
    "    \"Order Completion Time\",\n",
    "    \"User ID\",\n",
    "    \"Order Number\",\n",
    "    \"Channel Order Number\",\n",
    "    \"Purpose\",\n",
    "    \"Payment Gateway\",\n",
    "    \"Payment Type\",\n",
    "    \"Membership Level\",\n",
    "    \"Recharge Amount\",\n",
    "    \"Amount Received\",\n",
    "    \"Device Type\",\n",
    "    \"IP\",\n",
    "    \"Device ID\",\n",
    "    \"Order Date\"\n",
    "]"
   ]
  },
  {
   "cell_type": "code",
   "execution_count": 214,
   "metadata": {},
   "outputs": [],
   "source": [
    "pair = dict(zip(membership_col_cn, membership_col_en))\n",
    "combined_df.rename(columns= pair, inplace = True)"
   ]
  },
  {
   "cell_type": "code",
   "execution_count": 223,
   "metadata": {},
   "outputs": [],
   "source": [
    "# 輸出欄位對照表\n",
    "membership_df_trans = pd.DataFrame(pair.items(), columns=['中文欄位名', '英文欄位名'])\n",
    "membership_df_trans.to_excel('membership_df_trans.xlsx', index=False)"
   ]
  },
  {
   "cell_type": "code",
   "execution_count": 225,
   "metadata": {},
   "outputs": [],
   "source": [
    "# 修改時間格式\n",
    "combined_df[['Order Time', 'Order Completion Time']] = combined_df[['Order Time', 'Order Completion Time']].apply(pd.to_datetime)"
   ]
  },
  {
   "cell_type": "code",
   "execution_count": null,
   "metadata": {},
   "outputs": [],
   "source": [
    "# 新增訂單日期欄位 \n",
    "combined_df['Order Date'] = combined_df['Order Time'].apply(lambda x: x.strftime('%Y-%m-%d'))"
   ]
  },
  {
   "cell_type": "code",
   "execution_count": 245,
   "metadata": {},
   "outputs": [],
   "source": [
    "# User ID fromat int -> str\n",
    "combined_df['User ID'] = combined_df['User ID'].apply(lambda x: str(x))"
   ]
  },
  {
   "cell_type": "code",
   "execution_count": 247,
   "metadata": {},
   "outputs": [],
   "source": [
    "# # Channel Order Number fromat int -> str\n",
    "combined_df['Channel Order Number'] = combined_df['Channel Order Number'].apply(lambda x: str(x))"
   ]
  },
  {
   "cell_type": "code",
   "execution_count": null,
   "metadata": {},
   "outputs": [],
   "source": [
    "# 提換為英文值"
   ]
  },
  {
   "cell_type": "code",
   "execution_count": 256,
   "metadata": {},
   "outputs": [],
   "source": [
    "# replace purpose value\n",
    "purpose_cn_value = combined_df['Purpose'].unique().tolist()\n",
    "purpose_en_value = ['Upgrade']\n",
    "purpose_pair = dict(zip(purpose_cn_value, purpose_en_value))\n",
    "combined_df['Purpose'] = combined_df['Purpose'].replace(purpose_pair)"
   ]
  },
  {
   "cell_type": "code",
   "execution_count": 265,
   "metadata": {},
   "outputs": [],
   "source": [
    "# replace gateway value\n",
    "gateway_cn_value = combined_df['Payment Gateway'].unique().tolist()\n",
    "gateway_en_value = ['Aggregated Payment']\n",
    "gateway_pair = dict(zip(gateway_cn_value, gateway_en_value))\n",
    "combined_df['Payment Gateway'] = combined_df['Payment Gateway'].replace(gateway_pair)"
   ]
  },
  {
   "cell_type": "code",
   "execution_count": 266,
   "metadata": {},
   "outputs": [],
   "source": [
    "# replace payment value\n",
    "payment_cn_value = combined_df['Payment Type'].unique().tolist()\n",
    "payment_en_value = ['WeChat Pay', 'Alipay', 'QQ Wallet', 'UnionPay']\n",
    "payment_pair = dict(zip(payment_cn_value, payment_en_value))\n",
    "combined_df['Payment Type'] = combined_df['Payment Type'].replace(payment_pair)"
   ]
  },
  {
   "cell_type": "code",
   "execution_count": 270,
   "metadata": {},
   "outputs": [],
   "source": [
    "# replace level value\n",
    "level_cn_value = combined_df['Membership Level'].unique().tolist()\n",
    "level_en_value = ['VIP Monthly', 'VIP Quarterly']\n",
    "level_pair = dict(zip(level_cn_value, level_en_value))\n",
    "combined_df['Membership Level'] = combined_df['Membership Level'].replace(level_pair)"
   ]
  },
  {
   "cell_type": "code",
   "execution_count": 271,
   "metadata": {},
   "outputs": [],
   "source": [
    "# Device Type value\n",
    "combined_df['Device Type'] = combined_df['Device Type'].replace('IOS', 'iOS')\n",
    "combined_df['Device Type'] = combined_df['Device Type'].replace('ANDROID', 'Android')"
   ]
  },
  {
   "cell_type": "code",
   "execution_count": 204,
   "metadata": {},
   "outputs": [
    {
     "data": {
      "text/plain": [
       "1235"
      ]
     },
     "execution_count": 204,
     "metadata": {},
     "output_type": "execute_result"
    }
   ],
   "source": [
    "# 會員數\n",
    "len(combined_df['用户id'].unique().tolist())"
   ]
  },
  {
   "cell_type": "code",
   "execution_count": 196,
   "metadata": {},
   "outputs": [
    {
     "data": {
      "text/plain": [
       "'2023-08-25'"
      ]
     },
     "execution_count": 196,
     "metadata": {},
     "output_type": "execute_result"
    }
   ],
   "source": [
    "combined_df['订单发起日期'].min()"
   ]
  },
  {
   "cell_type": "code",
   "execution_count": 197,
   "metadata": {},
   "outputs": [
    {
     "data": {
      "text/plain": [
       "'2023-09-30'"
      ]
     },
     "execution_count": 197,
     "metadata": {},
     "output_type": "execute_result"
    }
   ],
   "source": [
    "combined_df['订单发起日期'].max()"
   ]
  },
  {
   "cell_type": "code",
   "execution_count": 272,
   "metadata": {},
   "outputs": [],
   "source": [
    "# combined_df.to_excel(\"Project_dataset_membership.xlsx\", index=False)\n",
    "combined_df.to_csv(\"sp001_tb_membership.csv\", index=False, encoding='utf-8')"
   ]
  },
  {
   "cell_type": "markdown",
   "metadata": {},
   "source": [
    "#### 5. withdrawal_dataset"
   ]
  },
  {
   "cell_type": "code",
   "execution_count": null,
   "metadata": {},
   "outputs": [],
   "source": [
    "# 8月25-31\n",
    "# 9月完整\n",
    "# 10月1-5"
   ]
  },
  {
   "cell_type": "code",
   "execution_count": null,
   "metadata": {},
   "outputs": [],
   "source": []
  },
  {
   "cell_type": "markdown",
   "metadata": {},
   "source": [
    "#### 6. new_user_recharge"
   ]
  },
  {
   "cell_type": "code",
   "execution_count": null,
   "metadata": {},
   "outputs": [],
   "source": [
    "# 06/19-11/12"
   ]
  },
  {
   "cell_type": "code",
   "execution_count": 77,
   "metadata": {},
   "outputs": [
    {
     "data": {
      "text/plain": [
       "['D:\\\\Rex\\\\Desktop\\\\DS_workspace\\\\sp001_workdata_analysis\\\\ETL_workspace\\\\data_source\\\\new_user_recharge_analysis\\\\m6_new_user_recharge.xlsx',\n",
       " 'D:\\\\Rex\\\\Desktop\\\\DS_workspace\\\\sp001_workdata_analysis\\\\ETL_workspace\\\\data_source\\\\new_user_recharge_analysis\\\\m7_new_user_recharge.xlsx',\n",
       " 'D:\\\\Rex\\\\Desktop\\\\DS_workspace\\\\sp001_workdata_analysis\\\\ETL_workspace\\\\data_source\\\\new_user_recharge_analysis\\\\m8_new_user_recharge.xlsx',\n",
       " 'D:\\\\Rex\\\\Desktop\\\\DS_workspace\\\\sp001_workdata_analysis\\\\ETL_workspace\\\\data_source\\\\new_user_recharge_analysis\\\\m9_new_user_recharge.xlsx',\n",
       " 'D:\\\\Rex\\\\Desktop\\\\DS_workspace\\\\sp001_workdata_analysis\\\\ETL_workspace\\\\data_source\\\\new_user_recharge_analysis\\\\m10_new_user_recharge.xlsx',\n",
       " 'D:\\\\Rex\\\\Desktop\\\\DS_workspace\\\\sp001_workdata_analysis\\\\ETL_workspace\\\\data_source\\\\new_user_recharge_analysis\\\\m11_new_user_recharge.xlsx']"
      ]
     },
     "execution_count": 77,
     "metadata": {},
     "output_type": "execute_result"
    }
   ],
   "source": [
    "new_user_recharge_path = glob(\"D:\\\\Rex\\\\Desktop\\\\DS_workspace\\\\sp001_workdata_analysis\\\\ETL_workspace\\\\data_source\\\\new_user_recharge_analysis\\\\*.xlsx\")\n",
    "new_user_recharge_path = sorted(new_user_recharge_path, key=lambda x: int(x.split('\\\\')[-1].split('_')[0][1:]), reverse=False)\n",
    "new_user_recharge_path"
   ]
  },
  {
   "cell_type": "code",
   "execution_count": 78,
   "metadata": {},
   "outputs": [
    {
     "data": {
      "text/plain": [
       "['D:\\\\Rex\\\\Desktop\\\\DS_workspace\\\\sp001_workdata_analysis\\\\ETL_workspace\\\\data_source\\\\new_user_recharge_analysis\\\\m6_new_user_recharge.xlsx',\n",
       " 'D:\\\\Rex\\\\Desktop\\\\DS_workspace\\\\sp001_workdata_analysis\\\\ETL_workspace\\\\data_source\\\\new_user_recharge_analysis\\\\m7_new_user_recharge.xlsx',\n",
       " 'D:\\\\Rex\\\\Desktop\\\\DS_workspace\\\\sp001_workdata_analysis\\\\ETL_workspace\\\\data_source\\\\new_user_recharge_analysis\\\\m8_new_user_recharge.xlsx',\n",
       " 'D:\\\\Rex\\\\Desktop\\\\DS_workspace\\\\sp001_workdata_analysis\\\\ETL_workspace\\\\data_source\\\\new_user_recharge_analysis\\\\m9_new_user_recharge.xlsx']"
      ]
     },
     "execution_count": 78,
     "metadata": {},
     "output_type": "execute_result"
    }
   ],
   "source": [
    "# v1 sheet\n",
    "\n",
    "new_user_recharge_path_list = []\n",
    "for i in new_user_recharge_path[0:4]:\n",
    "    new_user_recharge_path_list.append(i)\n",
    "\n",
    "new_user_recharge_path_list\n",
    "\n"
   ]
  },
  {
   "cell_type": "code",
   "execution_count": 79,
   "metadata": {},
   "outputs": [],
   "source": [
    "new_user_recharge_file = pd.DataFrame()\n",
    "for file in new_user_recharge_path_list:\n",
    "    sheet_names = pd.ExcelFile(file, engine='openpyxl').sheet_names\n",
    "    for sheet_name in sheet_names:\n",
    "        each_file = pd.read_excel(file, sheet_name=sheet_name, engine='openpyxl')\n",
    "        new_user_recharge_file = pd.concat([new_user_recharge_file, each_file], ignore_index=True)"
   ]
  },
  {
   "cell_type": "code",
   "execution_count": 80,
   "metadata": {},
   "outputs": [],
   "source": [
    "new_user_recharge_v1 = new_user_recharge_file"
   ]
  },
  {
   "cell_type": "code",
   "execution_count": 91,
   "metadata": {},
   "outputs": [],
   "source": [
    "new_user_recharge_v1 = new_user_recharge_v1.drop(columns=[\"Unnamed: 0\", \"提现\", \"购买会员\"])"
   ]
  },
  {
   "cell_type": "code",
   "execution_count": 81,
   "metadata": {},
   "outputs": [],
   "source": [
    "new_user_recharge_v1.rename(columns={'总充值（元）':'总充值'},inplace=True)\n",
    "new_user_recharge_v1.rename(columns={'新用户充值金额':'新用户充值'},inplace=True)"
   ]
  },
  {
   "cell_type": "code",
   "execution_count": 82,
   "metadata": {},
   "outputs": [
    {
     "data": {
      "text/plain": [
       "['D:\\\\Rex\\\\Desktop\\\\DS_workspace\\\\sp001_workdata_analysis\\\\ETL_workspace\\\\data_source\\\\new_user_recharge_analysis\\\\m10_new_user_recharge.xlsx',\n",
       " 'D:\\\\Rex\\\\Desktop\\\\DS_workspace\\\\sp001_workdata_analysis\\\\ETL_workspace\\\\data_source\\\\new_user_recharge_analysis\\\\m11_new_user_recharge.xlsx']"
      ]
     },
     "execution_count": 82,
     "metadata": {},
     "output_type": "execute_result"
    }
   ],
   "source": [
    "# v2\n",
    "new_user_recharge_path_list = []\n",
    "for i in new_user_recharge_path[4:]:\n",
    "    new_user_recharge_path_list.append(i)\n",
    "\n",
    "new_user_recharge_path_list\n"
   ]
  },
  {
   "cell_type": "code",
   "execution_count": 84,
   "metadata": {},
   "outputs": [],
   "source": [
    "new_user_recharge_file = pd.DataFrame()\n",
    "for i in new_user_recharge_path_list:\n",
    "    sheet_names = pd.ExcelFile(i, engine='openpyxl').sheet_names\n",
    "    for sheet_name in sheet_names:\n",
    "        each_file = pd.read_excel(i, sheet_name=sheet_name, engine='openpyxl')\n",
    "        new_user_recharge_file = pd.concat([new_user_recharge_file, each_file], ignore_index=True)\n"
   ]
  },
  {
   "cell_type": "code",
   "execution_count": 85,
   "metadata": {},
   "outputs": [],
   "source": [
    "new_user_recharge_v2 = new_user_recharge_file\n",
    "# new_user_recharge_v2.sort_values(by=['日期'], ascending=True)"
   ]
  },
  {
   "cell_type": "code",
   "execution_count": 87,
   "metadata": {},
   "outputs": [],
   "source": [
    "new_user_recharge_v2.rename(columns={'新用户充值(元)':'新用户充值'},inplace=True)"
   ]
  },
  {
   "cell_type": "code",
   "execution_count": 92,
   "metadata": {},
   "outputs": [],
   "source": [
    "new_user_recharge_v2 = new_user_recharge_v2.drop(columns=['Unnamed: 0'])"
   ]
  },
  {
   "cell_type": "code",
   "execution_count": 93,
   "metadata": {},
   "outputs": [
    {
     "data": {
      "text/plain": [
       "array([ True,  True,  True,  True,  True,  True,  True,  True])"
      ]
     },
     "execution_count": 93,
     "metadata": {},
     "output_type": "execute_result"
    }
   ],
   "source": [
    "new_user_recharge_col_cn_v1 = new_user_recharge_v1.columns\n",
    "new_user_recharge_col_cn_v2 = new_user_recharge_v2.columns\n",
    "new_user_recharge_col_cn_v1 == new_user_recharge_col_cn_v2"
   ]
  },
  {
   "cell_type": "code",
   "execution_count": 94,
   "metadata": {},
   "outputs": [],
   "source": [
    "new_user_recharge = pd.concat([new_user_recharge_v1, new_user_recharge_v2], ignore_index=True)"
   ]
  },
  {
   "cell_type": "code",
   "execution_count": 32,
   "metadata": {},
   "outputs": [
    {
     "data": {
      "text/html": [
       "<div>\n",
       "<style scoped>\n",
       "    .dataframe tbody tr th:only-of-type {\n",
       "        vertical-align: middle;\n",
       "    }\n",
       "\n",
       "    .dataframe tbody tr th {\n",
       "        vertical-align: top;\n",
       "    }\n",
       "\n",
       "    .dataframe thead th {\n",
       "        text-align: right;\n",
       "    }\n",
       "</style>\n",
       "<table border=\"1\" class=\"dataframe\">\n",
       "  <thead>\n",
       "    <tr style=\"text-align: right;\">\n",
       "      <th></th>\n",
       "      <th>日期</th>\n",
       "      <th>渠道名称</th>\n",
       "      <th>日活</th>\n",
       "      <th>新增注册</th>\n",
       "      <th>充值人数</th>\n",
       "      <th>新增会员</th>\n",
       "      <th>总充值</th>\n",
       "      <th>新用户充值</th>\n",
       "      <th>提现</th>\n",
       "      <th>购买会员</th>\n",
       "    </tr>\n",
       "  </thead>\n",
       "  <tbody>\n",
       "    <tr>\n",
       "      <th>0</th>\n",
       "      <td>2023-06-19</td>\n",
       "      <td>7021渠道</td>\n",
       "      <td>8153</td>\n",
       "      <td>724</td>\n",
       "      <td>33</td>\n",
       "      <td>0</td>\n",
       "      <td>10050</td>\n",
       "      <td>100</td>\n",
       "      <td>0.0</td>\n",
       "      <td>0.0</td>\n",
       "    </tr>\n",
       "    <tr>\n",
       "      <th>1</th>\n",
       "      <td>2023-06-19</td>\n",
       "      <td>7022渠道</td>\n",
       "      <td>30846</td>\n",
       "      <td>2255</td>\n",
       "      <td>181</td>\n",
       "      <td>4</td>\n",
       "      <td>67850</td>\n",
       "      <td>0</td>\n",
       "      <td>0.0</td>\n",
       "      <td>250.0</td>\n",
       "    </tr>\n",
       "    <tr>\n",
       "      <th>2</th>\n",
       "      <td>2023-06-19</td>\n",
       "      <td>7023渠道</td>\n",
       "      <td>40577</td>\n",
       "      <td>7619</td>\n",
       "      <td>102</td>\n",
       "      <td>5</td>\n",
       "      <td>17600</td>\n",
       "      <td>650</td>\n",
       "      <td>0.0</td>\n",
       "      <td>250.0</td>\n",
       "    </tr>\n",
       "    <tr>\n",
       "      <th>3</th>\n",
       "      <td>2023-06-19</td>\n",
       "      <td>7024渠道</td>\n",
       "      <td>4267</td>\n",
       "      <td>804</td>\n",
       "      <td>1</td>\n",
       "      <td>0</td>\n",
       "      <td>50</td>\n",
       "      <td>0</td>\n",
       "      <td>0.0</td>\n",
       "      <td>0.0</td>\n",
       "    </tr>\n",
       "    <tr>\n",
       "      <th>4</th>\n",
       "      <td>2023-06-19</td>\n",
       "      <td>7025渠道</td>\n",
       "      <td>786</td>\n",
       "      <td>5</td>\n",
       "      <td>4</td>\n",
       "      <td>0</td>\n",
       "      <td>800</td>\n",
       "      <td>0</td>\n",
       "      <td>0.0</td>\n",
       "      <td>0.0</td>\n",
       "    </tr>\n",
       "    <tr>\n",
       "      <th>...</th>\n",
       "      <td>...</td>\n",
       "      <td>...</td>\n",
       "      <td>...</td>\n",
       "      <td>...</td>\n",
       "      <td>...</td>\n",
       "      <td>...</td>\n",
       "      <td>...</td>\n",
       "      <td>...</td>\n",
       "      <td>...</td>\n",
       "      <td>...</td>\n",
       "    </tr>\n",
       "    <tr>\n",
       "      <th>35549</th>\n",
       "      <td>2023-11-12</td>\n",
       "      <td>7298渠道</td>\n",
       "      <td>392</td>\n",
       "      <td>145</td>\n",
       "      <td>0</td>\n",
       "      <td>0</td>\n",
       "      <td>0</td>\n",
       "      <td>0</td>\n",
       "      <td>NaN</td>\n",
       "      <td>NaN</td>\n",
       "    </tr>\n",
       "    <tr>\n",
       "      <th>35550</th>\n",
       "      <td>2023-11-12</td>\n",
       "      <td>7299渠道</td>\n",
       "      <td>74</td>\n",
       "      <td>0</td>\n",
       "      <td>0</td>\n",
       "      <td>0</td>\n",
       "      <td>0</td>\n",
       "      <td>0</td>\n",
       "      <td>NaN</td>\n",
       "      <td>NaN</td>\n",
       "    </tr>\n",
       "    <tr>\n",
       "      <th>35551</th>\n",
       "      <td>2023-11-12</td>\n",
       "      <td>7300渠道</td>\n",
       "      <td>0</td>\n",
       "      <td>0</td>\n",
       "      <td>0</td>\n",
       "      <td>0</td>\n",
       "      <td>0</td>\n",
       "      <td>0</td>\n",
       "      <td>NaN</td>\n",
       "      <td>NaN</td>\n",
       "    </tr>\n",
       "    <tr>\n",
       "      <th>35552</th>\n",
       "      <td>2023-11-12</td>\n",
       "      <td>7301渠道</td>\n",
       "      <td>1712</td>\n",
       "      <td>1209</td>\n",
       "      <td>0</td>\n",
       "      <td>0</td>\n",
       "      <td>0</td>\n",
       "      <td>0</td>\n",
       "      <td>NaN</td>\n",
       "      <td>NaN</td>\n",
       "    </tr>\n",
       "    <tr>\n",
       "      <th>35553</th>\n",
       "      <td>2023-11-12</td>\n",
       "      <td>7302渠道</td>\n",
       "      <td>0</td>\n",
       "      <td>0</td>\n",
       "      <td>0</td>\n",
       "      <td>0</td>\n",
       "      <td>0</td>\n",
       "      <td>0</td>\n",
       "      <td>NaN</td>\n",
       "      <td>NaN</td>\n",
       "    </tr>\n",
       "  </tbody>\n",
       "</table>\n",
       "<p>35554 rows × 10 columns</p>\n",
       "</div>"
      ],
      "text/plain": [
       "              日期    渠道名称     日活  新增注册  充值人数  新增会员    总充值  新用户充值   提现   购买会员\n",
       "0     2023-06-19  7021渠道   8153   724    33     0  10050    100  0.0    0.0\n",
       "1     2023-06-19  7022渠道  30846  2255   181     4  67850      0  0.0  250.0\n",
       "2     2023-06-19  7023渠道  40577  7619   102     5  17600    650  0.0  250.0\n",
       "3     2023-06-19  7024渠道   4267   804     1     0     50      0  0.0    0.0\n",
       "4     2023-06-19  7025渠道    786     5     4     0    800      0  0.0    0.0\n",
       "...          ...     ...    ...   ...   ...   ...    ...    ...  ...    ...\n",
       "35549 2023-11-12  7298渠道    392   145     0     0      0      0  NaN    NaN\n",
       "35550 2023-11-12  7299渠道     74     0     0     0      0      0  NaN    NaN\n",
       "35551 2023-11-12  7300渠道      0     0     0     0      0      0  NaN    NaN\n",
       "35552 2023-11-12  7301渠道   1712  1209     0     0      0      0  NaN    NaN\n",
       "35553 2023-11-12  7302渠道      0     0     0     0      0      0  NaN    NaN\n",
       "\n",
       "[35554 rows x 10 columns]"
      ]
     },
     "execution_count": 32,
     "metadata": {},
     "output_type": "execute_result"
    }
   ],
   "source": [
    "new_user_recharge"
   ]
  },
  {
   "cell_type": "code",
   "execution_count": 96,
   "metadata": {},
   "outputs": [
    {
     "data": {
      "text/plain": [
       "Index(['日期', '渠道名称', '日活', '新增注册', '充值人数', '新增会员', '总充值', '新用户充值'], dtype='object')"
      ]
     },
     "execution_count": 96,
     "metadata": {},
     "output_type": "execute_result"
    }
   ],
   "source": [
    "new_user_recharge_col_cn = new_user_recharge.columns\n",
    "new_user_recharge_col_cn"
   ]
  },
  {
   "cell_type": "code",
   "execution_count": 101,
   "metadata": {},
   "outputs": [
    {
     "data": {
      "text/plain": [
       "['Date',\n",
       " 'Channel Name',\n",
       " 'Active Users',\n",
       " 'New Registrations',\n",
       " 'Recharge Users',\n",
       " 'New Membership',\n",
       " 'Recharge Amount',\n",
       " 'New User Recharge Amount']"
      ]
     },
     "execution_count": 101,
     "metadata": {},
     "output_type": "execute_result"
    }
   ],
   "source": [
    "new_user_recharge_col_en = [\n",
    "    'Date',\n",
    "    'Channel Name',\n",
    "    'Active Users',\n",
    "    'New Registrations',\n",
    "    'Recharge Users',\n",
    "    'New Membership',\n",
    "    'Recharge Amount',\n",
    "    'New User Recharge Amount'\n",
    "]\n",
    "new_user_recharge_col_en"
   ]
  },
  {
   "cell_type": "code",
   "execution_count": 102,
   "metadata": {},
   "outputs": [
    {
     "data": {
      "text/plain": [
       "{'日期': 'Date',\n",
       " '渠道名称': 'Channel Name',\n",
       " '日活': 'Active Users',\n",
       " '新增注册': 'New Registrations',\n",
       " '充值人数': 'Recharge Users',\n",
       " '新增会员': 'New Membership',\n",
       " '总充值': 'Recharge Amount',\n",
       " '新用户充值': 'New User Recharge Amount'}"
      ]
     },
     "execution_count": 102,
     "metadata": {},
     "output_type": "execute_result"
    }
   ],
   "source": [
    "new_user_recharge_col_replace_dict = dict(zip(new_user_recharge_col_cn , new_user_recharge_col_en))\n",
    "new_user_recharge_col_replace_dict"
   ]
  },
  {
   "cell_type": "code",
   "execution_count": 103,
   "metadata": {},
   "outputs": [],
   "source": [
    "new_user_recharge_df_trans = pd.DataFrame(new_user_recharge_col_replace_dict.items(), columns=['中文欄位名', '英文欄位名'])\n",
    "new_user_recharge_df_trans.to_excel('new_user_recharge_df_trans.xlsx', index=False)"
   ]
  },
  {
   "cell_type": "code",
   "execution_count": 104,
   "metadata": {},
   "outputs": [],
   "source": [
    "new_user_recharge.rename(columns=new_user_recharge_col_replace_dict, inplace=True)"
   ]
  },
  {
   "cell_type": "code",
   "execution_count": null,
   "metadata": {},
   "outputs": [],
   "source": [
    "new_user_recharge"
   ]
  },
  {
   "cell_type": "code",
   "execution_count": 105,
   "metadata": {},
   "outputs": [],
   "source": [
    "new_user_recharge['Channel Name'] = new_user_recharge['Channel Name'].str.replace('渠道', '')"
   ]
  },
  {
   "cell_type": "code",
   "execution_count": 106,
   "metadata": {},
   "outputs": [],
   "source": [
    "new_user_recharge.to_csv(\"sp001_tb_new_user_recharge.csv\", index=False, encoding='utf-8')"
   ]
  }
 ],
 "metadata": {
  "kernelspec": {
   "display_name": "base",
   "language": "python",
   "name": "python3"
  },
  "language_info": {
   "codemirror_mode": {
    "name": "ipython",
    "version": 3
   },
   "file_extension": ".py",
   "mimetype": "text/x-python",
   "name": "python",
   "nbconvert_exporter": "python",
   "pygments_lexer": "ipython3",
   "version": "3.12.4"
  }
 },
 "nbformat": 4,
 "nbformat_minor": 2
}
