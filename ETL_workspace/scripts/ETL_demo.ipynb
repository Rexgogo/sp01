{
 "cells": [
  {
   "cell_type": "code",
   "execution_count": null,
   "metadata": {},
   "outputs": [],
   "source": [
    "# \"\"\"\n",
    "# This script performs the following tasks:\n",
    "# 1. Authenticates and creates a Google Drive client to interact with Google Drive.\n",
    "# 2. Downloads all CSV and XLSM files from a specified Google Drive folder to a local destination path.\n",
    "# 3. Checks if the files exist at the destination path.\n",
    "# 4. If the files exist:\n",
    "#     - Reads the files into pandas DataFrames.\n",
    "#     - Performs a data transformation by converting all column names to lowercase.\n",
    "#     - Saves the transformed DataFrames to new CSV files.\n",
    "# 5. If any file does not exist:\n",
    "#     - Sends an email notification indicating that the file was not found.\n",
    "# Modules:\n",
    "# - os: Provides a way of using operating system dependent functionality.\n",
    "# - smtplib: Defines an SMTP client session object that can be used to send mail.\n",
    "# - email.mime.text: Defines the MIMEText class, which represents the email message.\n",
    "# - google.oauth2: Provides OAuth 2.0 authorization for Google APIs.\n",
    "# - googleapiclient.discovery: Provides access to Google APIs.\n",
    "# - pandas: Provides data structures and data analysis tools.\n",
    "# Usage:\n",
    "# - Ensure that the Google Drive folder ID and destination path are correctly specified.\n",
    "# - Update the email credentials and SMTP server details for sending notifications.\n",
    "# \"\"\""
   ]
  },
  {
   "cell_type": "code",
   "execution_count": 1,
   "metadata": {},
   "outputs": [],
   "source": [
    "import os\n",
    "import smtplib\n",
    "from email.mime.text import MIMEText\n",
    "\n",
    "import io\n",
    "from googleapiclient.discovery import build\n",
    "from googleapiclient.http import MediaIoBaseDownload\n",
    "from google.oauth2 import service_account\n",
    "from google.auth.transport.requests import Request\n",
    "\n",
    "import pandas as pd\n",
    "import numpy as np"
   ]
  },
  {
   "cell_type": "code",
   "execution_count": 2,
   "metadata": {},
   "outputs": [],
   "source": [
    "# create client to interact with Google Drive\n",
    "# Define the scope and authenticate using the service account file\n",
    "SCOPES = ['https://www.googleapis.com/auth/drive']\n",
    "SERVICE_ACCOUNT_FILE = 'credentials.json'\n",
    "credentials = service_account.Credentials.from_service_account_file(\n",
    "    SERVICE_ACCOUNT_FILE, scopes=SCOPES)\n",
    "\n",
    "# Build the Google Drive service\n",
    "service = build('drive', 'v3', credentials=credentials)\n",
    "\n",
    "# google folder id \n",
    "FOLDER_ID = \"1CpTjXk53N_9-i3dEFjn2Lr17_jYFW-dM?lfhs=2\"\n",
    "LOCAL_FOLDER = \"raw_data\" "
   ]
  },
  {
   "cell_type": "code",
   "execution_count": 3,
   "metadata": {},
   "outputs": [
    {
     "name": "stdout",
     "output_type": "stream",
     "text": [
      "successfully re-authenticated\n"
     ]
    }
   ],
   "source": [
    "credentials.refresh(Request())\n",
    "print(\"successfully re-authenticated\")"
   ]
  },
  {
   "cell_type": "code",
   "execution_count": 4,
   "metadata": {},
   "outputs": [
    {
     "name": "stdout",
     "output_type": "stream",
     "text": [
      "Files found below:\n",
      "deduction_rate application/vnd.google-apps.spreadsheet\n",
      "sp01_workdir application/vnd.google-apps.folder\n",
      "daily_stats.xlsx application/vnd.openxmlformats-officedocument.spreadsheetml.sheet\n",
      "op_stats application/vnd.google-apps.folder\n",
      "test1 application/vnd.google-apps.spreadsheet\n",
      "raw data folder application/vnd.google-apps.folder\n",
      "int_channel_performance_detail application/vnd.google-apps.spreadsheet\n",
      "daily_report_dataset_for_etl_test application/vnd.google-apps.spreadsheet\n",
      "sp01_tb_new_user_recharge.csv text/csv\n",
      "new_user_recharge_df_trans.xlsx application/vnd.openxmlformats-officedocument.spreadsheetml.sheet\n",
      "sp01_tb_channel.csv text/csv\n",
      "ch_df_trans.xlsx application/vnd.openxmlformats-officedocument.spreadsheetml.sheet\n",
      "sp01_tb_membership.csv text/csv\n",
      "membership_df_trans.xlsx application/vnd.openxmlformats-officedocument.spreadsheetml.sheet\n",
      "sp01_tb_recharge.csv text/csv\n",
      "sp01_tb_op.csv text/csv\n",
      "op_df_trans.xlsx application/vnd.openxmlformats-officedocument.spreadsheetml.sheet\n",
      "top_up_df_trans.xlsx application/vnd.openxmlformats-officedocument.spreadsheetml.sheet\n",
      "post_deduction application/vnd.google-apps.folder\n",
      "top_up application/vnd.google-apps.folder\n",
      "top_up application/vnd.google-apps.folder\n",
      "pre_deduction application/vnd.google-apps.folder\n",
      "pre_deduction application/vnd.google-apps.folder\n",
      "top_up application/vnd.google-apps.folder\n",
      "pre_deduction application/vnd.google-apps.folder\n",
      "pre_deduction application/vnd.google-apps.folder\n",
      "post_deduction application/vnd.google-apps.folder\n",
      "top_up application/vnd.google-apps.folder\n",
      "top_up application/vnd.google-apps.folder\n",
      "post_deduction application/vnd.google-apps.folder\n",
      "post_deduction application/vnd.google-apps.folder\n",
      "post_deduction application/vnd.google-apps.folder\n",
      "pre_deduction application/vnd.google-apps.folder\n",
      "2023-11-12 application/vnd.google-apps.folder\n",
      "2023-11-13 application/vnd.google-apps.folder\n",
      "2023-11-10 application/vnd.google-apps.folder\n",
      "2023-11-11 application/vnd.google-apps.folder\n",
      "daily_report_dataset.xlsx application/vnd.openxmlformats-officedocument.spreadsheetml.sheet\n",
      "charge_1700013030043.xlsx application/vnd.openxmlformats-officedocument.spreadsheetml.sheet\n",
      "charge_1700012957052.xlsx application/vnd.openxmlformats-officedocument.spreadsheetml.sheet\n",
      "charge_1700011631196.xlsx application/vnd.openxmlformats-officedocument.spreadsheetml.sheet\n",
      "charge_1700011743256.xlsx application/vnd.openxmlformats-officedocument.spreadsheetml.sheet\n",
      "channel_1700011276544.xlsx application/vnd.openxmlformats-officedocument.spreadsheetml.sheet\n",
      "channel_1700011288521.xlsx application/vnd.openxmlformats-officedocument.spreadsheetml.sheet\n",
      "channel_1700011272784.xlsx application/vnd.openxmlformats-officedocument.spreadsheetml.sheet\n",
      "channel_1700011263025.xlsx application/vnd.openxmlformats-officedocument.spreadsheetml.sheet\n",
      "channel_1700011284818.xlsx application/vnd.openxmlformats-officedocument.spreadsheetml.sheet\n",
      "channel_1700011445373.xlsx application/vnd.openxmlformats-officedocument.spreadsheetml.sheet\n",
      "channel_1700011457181.xlsx application/vnd.openxmlformats-officedocument.spreadsheetml.sheet\n",
      "channel_1700011382755.xlsx application/vnd.openxmlformats-officedocument.spreadsheetml.sheet\n",
      "channel_1700011408043.xlsx application/vnd.openxmlformats-officedocument.spreadsheetml.sheet\n",
      "channel_1700011359010.xlsx application/vnd.openxmlformats-officedocument.spreadsheetml.sheet\n",
      "channel_1700011436444.xlsx application/vnd.openxmlformats-officedocument.spreadsheetml.sheet\n",
      "channel_1700011403795.xlsx application/vnd.openxmlformats-officedocument.spreadsheetml.sheet\n",
      "channel_1700011280697.xlsx application/vnd.openxmlformats-officedocument.spreadsheetml.sheet\n",
      "channel_1700011399979.xlsx application/vnd.openxmlformats-officedocument.spreadsheetml.sheet\n",
      "7days_top_up_pivot_2023-11-13.csv text/csv\n",
      "charge_1699928717953.xlsx application/vnd.openxmlformats-officedocument.spreadsheetml.sheet\n",
      "charge_1699928759339.xlsx application/vnd.openxmlformats-officedocument.spreadsheetml.sheet\n",
      "charge_1699928610247.xlsx application/vnd.openxmlformats-officedocument.spreadsheetml.sheet\n",
      "charge_1699928654535.xlsx application/vnd.openxmlformats-officedocument.spreadsheetml.sheet\n",
      "2023-11-13_post.csv text/csv\n",
      "2023-11-13_pre.csv text/csv\n",
      "channel_1699925756526.xlsx application/vnd.openxmlformats-officedocument.spreadsheetml.sheet\n",
      "channel_1699925753309.xlsx application/vnd.openxmlformats-officedocument.spreadsheetml.sheet\n",
      "channel_1699925628419.xlsx application/vnd.openxmlformats-officedocument.spreadsheetml.sheet\n",
      "channel_1699925746237.xlsx application/vnd.openxmlformats-officedocument.spreadsheetml.sheet\n",
      "channel_1699925750438.xlsx application/vnd.openxmlformats-officedocument.spreadsheetml.sheet\n",
      "channel_1699925614563.xlsx application/vnd.openxmlformats-officedocument.spreadsheetml.sheet\n",
      "channel_1699925603170.xlsx application/vnd.openxmlformats-officedocument.spreadsheetml.sheet\n",
      "channel_1699925772045.xlsx application/vnd.openxmlformats-officedocument.spreadsheetml.sheet\n",
      "channel_1699925759830.xlsx application/vnd.openxmlformats-officedocument.spreadsheetml.sheet\n",
      "channel_1699925611378.xlsx application/vnd.openxmlformats-officedocument.spreadsheetml.sheet\n",
      "channel_1699925607947.xlsx application/vnd.openxmlformats-officedocument.spreadsheetml.sheet\n",
      "channel_1699925828543.xlsx application/vnd.openxmlformats-officedocument.spreadsheetml.sheet\n",
      "channel_1699925724635.xlsx application/vnd.openxmlformats-officedocument.spreadsheetml.sheet\n",
      "channel_1699925618002.xlsx application/vnd.openxmlformats-officedocument.spreadsheetml.sheet\n",
      "daily_stats.xlsx application/vnd.openxmlformats-officedocument.spreadsheetml.sheet\n",
      "2023-11-12_pre.csv text/csv\n",
      "2023-11-12_post.csv text/csv\n",
      "7days_top_up_pivot_2023-11-12.csv text/csv\n",
      "charge_1699844056053.xlsx application/vnd.openxmlformats-officedocument.spreadsheetml.sheet\n",
      "charge_1699844092556.xlsx application/vnd.openxmlformats-officedocument.spreadsheetml.sheet\n",
      "charge_1699844128988.xlsx application/vnd.openxmlformats-officedocument.spreadsheetml.sheet\n",
      "charge_1699844172583.xlsx application/vnd.openxmlformats-officedocument.spreadsheetml.sheet\n",
      "channel_1699838705797.xlsx application/vnd.openxmlformats-officedocument.spreadsheetml.sheet\n",
      "channel_1699839770506.xlsx application/vnd.openxmlformats-officedocument.spreadsheetml.sheet\n",
      "channel_1699839765328.xlsx application/vnd.openxmlformats-officedocument.spreadsheetml.sheet\n",
      "daily_stats.xlsx application/vnd.openxmlformats-officedocument.spreadsheetml.sheet\n",
      "channel_1699839719915.xlsx application/vnd.openxmlformats-officedocument.spreadsheetml.sheet\n",
      "channel_1699839762522.xlsx application/vnd.openxmlformats-officedocument.spreadsheetml.sheet\n",
      "channel_1699838709733.xlsx application/vnd.openxmlformats-officedocument.spreadsheetml.sheet\n",
      "channel_1699838726929.xlsx application/vnd.openxmlformats-officedocument.spreadsheetml.sheet\n",
      "channel_1699839774032.xlsx application/vnd.openxmlformats-officedocument.spreadsheetml.sheet\n",
      "channel_1699838713413.xlsx application/vnd.openxmlformats-officedocument.spreadsheetml.sheet\n",
      "channel_1699838721149.xlsx application/vnd.openxmlformats-officedocument.spreadsheetml.sheet\n",
      "channel_1699839807161.xlsx application/vnd.openxmlformats-officedocument.spreadsheetml.sheet\n",
      "channel_1699838731053.xlsx application/vnd.openxmlformats-officedocument.spreadsheetml.sheet\n",
      "channel_1699839767840.xlsx application/vnd.openxmlformats-officedocument.spreadsheetml.sheet\n",
      "channel_1699839789369.xlsx application/vnd.openxmlformats-officedocument.spreadsheetml.sheet\n"
     ]
    },
    {
     "data": {
      "text/plain": [
       "True"
      ]
     },
     "execution_count": 4,
     "metadata": {},
     "output_type": "execute_result"
    }
   ],
   "source": [
    "# 先至GCP API & Service 啟用 Google Drive API\n",
    "\n",
    "def check_api_work():\n",
    "    try:\n",
    "        results = service.files().list(fields=\"files(id, name, mimeType)\").execute()\n",
    "        files = results.get(\"files\", [])\n",
    "\n",
    "        if not files:\n",
    "            print(\"No files found.\")\n",
    "        else:\n",
    "            print(\"Files found below:\")\n",
    "            for file in files:\n",
    "                print(f\"{file['name']} {file['mimeType']}\")\n",
    "        return True\n",
    "    \n",
    "    except Exception as e:\n",
    "        print(\"fail to connect, error message: \", str(e))\n",
    "\n",
    "        return False\n",
    "\n",
    "check_api_work()\n",
    "    "
   ]
  },
  {
   "cell_type": "code",
   "execution_count": 5,
   "metadata": {},
   "outputs": [
    {
     "name": "stdout",
     "output_type": "stream",
     "text": [
      "Filedir not found, create new one\n"
     ]
    }
   ],
   "source": [
    "if not os.path.exists(LOCAL_FOLDER):\n",
    "    os.makedirs(LOCAL_FOLDER)\n",
    "    print(\"Filedir not found, create new one\")\n",
    "else:\n",
    "    print(\"Filedir found, continue to download files\")"
   ]
  },
  {
   "cell_type": "code",
   "execution_count": 6,
   "metadata": {},
   "outputs": [],
   "source": [
    "# 列出 Google Drive 資料夾內的所有檔案與子資料夾\n",
    "def list_files_and_folders(FOLDER_ID):\n",
    "    query = f\"'{FOLDER_ID}' in parents and trashed=false\"\n",
    "    results = service.files().list(q=query, fields=\"files(id, name, mimeType)\",\n",
    "                                       supportsAllDrives=True,  # 確保可讀取共享雲端硬碟\n",
    "                                       includeItemsFromAllDrives=True).execute()\n",
    "    files = results.get('files', [])\n",
    "    return files\n",
    "\n"
   ]
  },
  {
   "cell_type": "code",
   "execution_count": 7,
   "metadata": {},
   "outputs": [
    {
     "ename": "NameError",
     "evalue": "name 'files' is not defined",
     "output_type": "error",
     "traceback": [
      "\u001b[1;31m---------------------------------------------------------------------------\u001b[0m",
      "\u001b[1;31mNameError\u001b[0m                                 Traceback (most recent call last)",
      "Cell \u001b[1;32mIn[7], line 1\u001b[0m\n\u001b[1;32m----> 1\u001b[0m \u001b[38;5;28;01mfor\u001b[39;00m file \u001b[38;5;129;01min\u001b[39;00m files:\n\u001b[0;32m      2\u001b[0m     \u001b[38;5;28mprint\u001b[39m(\u001b[38;5;124mf\u001b[39m\u001b[38;5;124m\"\u001b[39m\u001b[38;5;132;01m{\u001b[39;00mfile[\u001b[38;5;124m'\u001b[39m\u001b[38;5;124mname\u001b[39m\u001b[38;5;124m'\u001b[39m]\u001b[38;5;132;01m}\u001b[39;00m\u001b[38;5;124m \u001b[39m\u001b[38;5;132;01m{\u001b[39;00mfile[\u001b[38;5;124m'\u001b[39m\u001b[38;5;124mmimeType\u001b[39m\u001b[38;5;124m'\u001b[39m]\u001b[38;5;132;01m}\u001b[39;00m\u001b[38;5;124m\"\u001b[39m)\n",
      "\u001b[1;31mNameError\u001b[0m: name 'files' is not defined"
     ]
    }
   ],
   "source": [
    "for file in files:\n",
    "    print(f\"{file['name']} {file['mimeType']}\")"
   ]
  },
  {
   "cell_type": "code",
   "execution_count": null,
   "metadata": {},
   "outputs": [],
   "source": []
  },
  {
   "cell_type": "code",
   "execution_count": 8,
   "metadata": {},
   "outputs": [
    {
     "ename": "HttpError",
     "evalue": "<HttpError 404 when requesting https://www.googleapis.com/drive/v3/files?q=%271CpTjXk53N_9-i3dEFjn2Lr17_jYFW-dM%3Flfhs%3D2%27+in+parents+and+trashed%3Dfalse&fields=files%28id%2C+name%2C+mimeType%29&supportsAllDrives=true&includeItemsFromAllDrives=true&alt=json returned \"File not found: .\". Details: \"[{'message': 'File not found: .', 'domain': 'global', 'reason': 'notFound', 'location': 'fileId', 'locationType': 'parameter'}]\">",
     "output_type": "error",
     "traceback": [
      "\u001b[1;31m---------------------------------------------------------------------------\u001b[0m",
      "\u001b[1;31mHttpError\u001b[0m                                 Traceback (most recent call last)",
      "Cell \u001b[1;32mIn[8], line 1\u001b[0m\n\u001b[1;32m----> 1\u001b[0m list_files_and_folders(FOLDER_ID)\n",
      "Cell \u001b[1;32mIn[6], line 6\u001b[0m, in \u001b[0;36mlist_files_and_folders\u001b[1;34m(FOLDER_ID)\u001b[0m\n\u001b[0;32m      2\u001b[0m \u001b[38;5;28;01mdef\u001b[39;00m \u001b[38;5;21mlist_files_and_folders\u001b[39m(FOLDER_ID):\n\u001b[0;32m      3\u001b[0m     query \u001b[38;5;241m=\u001b[39m \u001b[38;5;124mf\u001b[39m\u001b[38;5;124m\"\u001b[39m\u001b[38;5;124m'\u001b[39m\u001b[38;5;132;01m{\u001b[39;00mFOLDER_ID\u001b[38;5;132;01m}\u001b[39;00m\u001b[38;5;124m'\u001b[39m\u001b[38;5;124m in parents and trashed=false\u001b[39m\u001b[38;5;124m\"\u001b[39m\n\u001b[0;32m      4\u001b[0m     results \u001b[38;5;241m=\u001b[39m service\u001b[38;5;241m.\u001b[39mfiles()\u001b[38;5;241m.\u001b[39mlist(q\u001b[38;5;241m=\u001b[39mquery, fields\u001b[38;5;241m=\u001b[39m\u001b[38;5;124m\"\u001b[39m\u001b[38;5;124mfiles(id, name, mimeType)\u001b[39m\u001b[38;5;124m\"\u001b[39m,\n\u001b[0;32m      5\u001b[0m                                        supportsAllDrives\u001b[38;5;241m=\u001b[39m\u001b[38;5;28;01mTrue\u001b[39;00m,  \u001b[38;5;66;03m# 確保可讀取共享雲端硬碟\u001b[39;00m\n\u001b[1;32m----> 6\u001b[0m                                        includeItemsFromAllDrives\u001b[38;5;241m=\u001b[39m\u001b[38;5;28;01mTrue\u001b[39;00m)\u001b[38;5;241m.\u001b[39mexecute()\n\u001b[0;32m      7\u001b[0m     files \u001b[38;5;241m=\u001b[39m results\u001b[38;5;241m.\u001b[39mget(\u001b[38;5;124m'\u001b[39m\u001b[38;5;124mfiles\u001b[39m\u001b[38;5;124m'\u001b[39m, [])\n\u001b[0;32m      8\u001b[0m     \u001b[38;5;28;01mreturn\u001b[39;00m files\n",
      "File \u001b[1;32mc:\\Users\\Rex\\anaconda3\\Lib\\site-packages\\googleapiclient\\_helpers.py:130\u001b[0m, in \u001b[0;36mpositional.<locals>.positional_decorator.<locals>.positional_wrapper\u001b[1;34m(*args, **kwargs)\u001b[0m\n\u001b[0;32m    128\u001b[0m     \u001b[38;5;28;01melif\u001b[39;00m positional_parameters_enforcement \u001b[38;5;241m==\u001b[39m POSITIONAL_WARNING:\n\u001b[0;32m    129\u001b[0m         logger\u001b[38;5;241m.\u001b[39mwarning(message)\n\u001b[1;32m--> 130\u001b[0m \u001b[38;5;28;01mreturn\u001b[39;00m wrapped(\u001b[38;5;241m*\u001b[39margs, \u001b[38;5;241m*\u001b[39m\u001b[38;5;241m*\u001b[39mkwargs)\n",
      "File \u001b[1;32mc:\\Users\\Rex\\anaconda3\\Lib\\site-packages\\googleapiclient\\http.py:938\u001b[0m, in \u001b[0;36mHttpRequest.execute\u001b[1;34m(self, http, num_retries)\u001b[0m\n\u001b[0;32m    936\u001b[0m     callback(resp)\n\u001b[0;32m    937\u001b[0m \u001b[38;5;28;01mif\u001b[39;00m resp\u001b[38;5;241m.\u001b[39mstatus \u001b[38;5;241m>\u001b[39m\u001b[38;5;241m=\u001b[39m \u001b[38;5;241m300\u001b[39m:\n\u001b[1;32m--> 938\u001b[0m     \u001b[38;5;28;01mraise\u001b[39;00m HttpError(resp, content, uri\u001b[38;5;241m=\u001b[39m\u001b[38;5;28mself\u001b[39m\u001b[38;5;241m.\u001b[39muri)\n\u001b[0;32m    939\u001b[0m \u001b[38;5;28;01mreturn\u001b[39;00m \u001b[38;5;28mself\u001b[39m\u001b[38;5;241m.\u001b[39mpostproc(resp, content)\n",
      "\u001b[1;31mHttpError\u001b[0m: <HttpError 404 when requesting https://www.googleapis.com/drive/v3/files?q=%271CpTjXk53N_9-i3dEFjn2Lr17_jYFW-dM%3Flfhs%3D2%27+in+parents+and+trashed%3Dfalse&fields=files%28id%2C+name%2C+mimeType%29&supportsAllDrives=true&includeItemsFromAllDrives=true&alt=json returned \"File not found: .\". Details: \"[{'message': 'File not found: .', 'domain': 'global', 'reason': 'notFound', 'location': 'fileId', 'locationType': 'parameter'}]\">"
     ]
    }
   ],
   "source": [
    "list_files_and_folders(FOLDER_ID)"
   ]
  },
  {
   "cell_type": "code",
   "execution_count": null,
   "metadata": {},
   "outputs": [],
   "source": [
    "# Function to list files in a Google Drive folder\n",
    "def list_files_in_folder(folder_id):\n",
    "    query = f\"'{folder_id}' in parents and (mimeType='application/vnd.google-apps.spreadsheet' or mimeType='text/csv')\"\n",
    "    results = service.files().list(q=query, fields='files(id, name)').execute()\n",
    "    items = results.get('files', [])\n",
    "    return items\n",
    "\n",
    "# Function to download a file from Google Drive\n",
    "def download_file(file_id, destination):\n",
    "    request = service.files().get_media(fileId=file_id)\n",
    "    with open(destination, 'wb') as f:\n",
    "        downloader = MediaIoBaseDownload(f, request)\n",
    "        done = False\n",
    "        while done is False:\n",
    "            status, done = downloader.next_chunk()\n",
    "            print(f'Download {int(status.progress() * 100)}%')\n",
    "    return True"
   ]
  },
  {
   "cell_type": "code",
   "execution_count": null,
   "metadata": {},
   "outputs": [],
   "source": [
    "# Function to send email notification\n",
    "def send_email(subject, body, to_email):\n",
    "    from_email = 'your_email@example.com'\n",
    "    password = 'your_password'\n",
    "    msg = MIMEText(body)\n",
    "    msg['Subject'] = subject\n",
    "    msg['From'] = from_email\n",
    "    msg['To'] = to_email\n",
    "    with smtplib.SMTP('smtp.example.com', 587) as server:\n",
    "        server.starttls()\n",
    "        server.login(from_email, password)\n",
    "        server.sendmail(from_email, to_email, msg.as_string())\n",
    "\n",
    "# Main execution\n",
    "def main():\n",
    "    folder_id = 'your_folder_id_here'  # Replace with your folder ID\n",
    "    destination_folder = 'path/to/local/folder'  # Replace with your local path\n",
    "    \n",
    "    # Create destination folder if it doesn't exist\n",
    "    os.makedirs(destination_folder, exist_ok=True)\n",
    "    \n",
    "    # Get list of files\n",
    "    files = list_files_in_folder(folder_id)\n",
    "    if not files:\n",
    "        print(\"No files found in the specified folder\")\n",
    "        send_email('File Not Found', 'No files found in the specified folder', 'recipient@example.com')\n",
    "        return\n",
    "    \n",
    "    # Download each file\n",
    "    for file in files:\n",
    "        file_name = file['name']\n",
    "        file_path = os.path.join(destination_folder, file_name)\n",
    "        print(f\"Downloading {file_name}...\")\n",
    "        \n",
    "        if download_file(file['id'], file_path):\n",
    "            print(f\"Successfully downloaded {file_name}\")\n",
    "            \n",
    "            # Process the file based on its type\n",
    "            try:\n",
    "                if file_name.endswith('.csv'):\n",
    "                    df = pd.read_csv(file_path)\n",
    "                elif file_name.endswith(('.xlsx', '.xlsm')):\n",
    "                    df = pd.read_excel(file_path)\n",
    "                \n",
    "                # Transform column names\n",
    "                df.columns = df.columns.str.lower()\n",
    "                \n",
    "                # Save transformed file\n",
    "                transformed_path = os.path.join(destination_folder, f'transformed_{file_name}')\n",
    "                df.to_csv(transformed_path, index=False)\n",
    "                print(f\"Transformed and saved: {transformed_path}\")\n",
    "            except Exception as e:\n",
    "                print(f\"Error processing {file_name}: {e}\")\n",
    "        else:\n",
    "            print(f\"Failed to download {file_name}\")\n",
    "\n",
    "# Run the main function\n",
    "if __name__ == '__main__':\n",
    "    main()"
   ]
  },
  {
   "cell_type": "code",
   "execution_count": null,
   "metadata": {},
   "outputs": [],
   "source": []
  },
  {
   "cell_type": "code",
   "execution_count": null,
   "metadata": {},
   "outputs": [],
   "source": []
  },
  {
   "cell_type": "code",
   "execution_count": null,
   "metadata": {},
   "outputs": [],
   "source": []
  }
 ],
 "metadata": {
  "kernelspec": {
   "display_name": "base",
   "language": "python",
   "name": "python3"
  },
  "language_info": {
   "codemirror_mode": {
    "name": "ipython",
    "version": 3
   },
   "file_extension": ".py",
   "mimetype": "text/x-python",
   "name": "python",
   "nbconvert_exporter": "python",
   "pygments_lexer": "ipython3",
   "version": "3.12.7"
  }
 },
 "nbformat": 4,
 "nbformat_minor": 2
}
