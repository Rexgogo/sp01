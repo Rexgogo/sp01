{
 "cells": [
  {
   "cell_type": "code",
   "execution_count": 1,
   "metadata": {},
   "outputs": [],
   "source": [
    "import sys\n",
    "import os\n",
    "\n",
    "PROJECT_ROOT = os.path.abspath(os.path.join(os.getcwd(), '..'))\n",
    "if PROJECT_ROOT not in sys.path:\n",
    "    sys.path.append(PROJECT_ROOT)"
   ]
  },
  {
   "cell_type": "code",
   "execution_count": 4,
   "metadata": {},
   "outputs": [],
   "source": [
    "from utils.bq_client import get_bigquery_client"
   ]
  },
  {
   "cell_type": "code",
   "execution_count": 3,
   "metadata": {},
   "outputs": [
    {
     "name": "stdout",
     "output_type": "stream",
     "text": [
      "🧠 [add_project_root] Added to sys.path: D:\\Desktop\\DS_workspace\\sp01_app_op_data_analysis\\ETL_workspace\\scripts\n"
     ]
    }
   ],
   "source": [
    "from extract.extract_deduction_rate_gsheet_values import read_gsheet_deduction_rate\n",
    "from load.load_csv_to_bigquery import load_csv_to_bigquery"
   ]
  },
  {
   "cell_type": "code",
   "execution_count": 6,
   "metadata": {},
   "outputs": [],
   "source": [
    "df = read_gsheet_deduction_rate()"
   ]
  },
  {
   "cell_type": "code",
   "execution_count": null,
   "metadata": {},
   "outputs": [],
   "source": [
    "dataset_id = sp001\n",
    "\n",
    "table_id = "
   ]
  },
  {
   "cell_type": "code",
   "execution_count": 7,
   "metadata": {},
   "outputs": [
    {
     "ename": "TypeError",
     "evalue": "load_csv_to_bigquery() missing 2 required positional arguments: 'dataset_id' and 'table_id'",
     "output_type": "error",
     "traceback": [
      "\u001b[1;31m---------------------------------------------------------------------------\u001b[0m",
      "\u001b[1;31mTypeError\u001b[0m                                 Traceback (most recent call last)",
      "Cell \u001b[1;32mIn[7], line 1\u001b[0m\n\u001b[1;32m----> 1\u001b[0m load_csv_to_bigquery(df)\n",
      "\u001b[1;31mTypeError\u001b[0m: load_csv_to_bigquery() missing 2 required positional arguments: 'dataset_id' and 'table_id'"
     ]
    }
   ],
   "source": [
    "load_csv_to_bigquery(df)"
   ]
  },
  {
   "cell_type": "code",
   "execution_count": 1,
   "metadata": {},
   "outputs": [],
   "source": [
    "def run():\n",
    "    \"\"\"ETL 流程：extract -> transform -> load 到 BigQuery\"\"\"\n",
    "    op_raw = extract()\n",
    "    transformed_op_df = transfrom(op_raw)\n",
    "    # 這邊是處理每天op要load到先前建好的operation dataset中\n",
    "    load_csv_to_bigquery()"
   ]
  },
  {
   "cell_type": "code",
   "execution_count": null,
   "metadata": {},
   "outputs": [],
   "source": []
  }
 ],
 "metadata": {
  "kernelspec": {
   "display_name": "base",
   "language": "python",
   "name": "python3"
  },
  "language_info": {
   "codemirror_mode": {
    "name": "ipython",
    "version": 3
   },
   "file_extension": ".py",
   "mimetype": "text/x-python",
   "name": "python",
   "nbconvert_exporter": "python",
   "pygments_lexer": "ipython3",
   "version": "3.12.7"
  }
 },
 "nbformat": 4,
 "nbformat_minor": 2
}
