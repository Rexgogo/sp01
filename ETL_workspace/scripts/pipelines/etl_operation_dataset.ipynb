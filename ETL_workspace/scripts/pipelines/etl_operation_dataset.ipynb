{
 "cells": [
  {
   "cell_type": "code",
   "execution_count": null,
   "metadata": {},
   "outputs": [],
   "source": [
    "from extract import extract\n",
    "from transform import transform\n",
    "from load import load_csv_to_bigquery"
   ]
  },
  {
   "cell_type": "code",
   "execution_count": null,
   "metadata": {},
   "outputs": [],
   "source": [
    "\n",
    "from utils.bq_client import get_bigquery_client\n",
    "from utils.load_csv_to_bigquery import load_csv_to_bigquery"
   ]
  },
  {
   "cell_type": "code",
   "execution_count": null,
   "metadata": {},
   "outputs": [],
   "source": []
  },
  {
   "cell_type": "code",
   "execution_count": 1,
   "metadata": {},
   "outputs": [],
   "source": [
    "def run():\n",
    "    \"\"\"ETL 流程：extract -> transform -> load 到 BigQuery\"\"\"\n",
    "    op_raw = extract()\n",
    "    transformed_op_df = transfrom(op_raw)\n",
    "    # 這邊是處理每天op要load到先前建好的operation dataset中\n",
    "    load_csv_to_bigquery()"
   ]
  },
  {
   "cell_type": "code",
   "execution_count": null,
   "metadata": {},
   "outputs": [],
   "source": []
  }
 ],
 "metadata": {
  "kernelspec": {
   "display_name": "base",
   "language": "python",
   "name": "python3"
  },
  "language_info": {
   "codemirror_mode": {
    "name": "ipython",
    "version": 3
   },
   "file_extension": ".py",
   "mimetype": "text/x-python",
   "name": "python",
   "nbconvert_exporter": "python",
   "pygments_lexer": "ipython3",
   "version": "3.12.7"
  }
 },
 "nbformat": 4,
 "nbformat_minor": 2
}
