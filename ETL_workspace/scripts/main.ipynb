{
 "cells": [
  {
   "cell_type": "code",
   "execution_count": 1,
   "metadata": {},
   "outputs": [],
   "source": [
    "# main.py\n",
    "import sys\n",
    "import os\n",
    "PROJECT_ROOT = os.path.abspath(os.path.join(os.getcwd(), '..'))\n",
    "if PROJECT_ROOT not in sys.path:\n",
    "    sys.path.append(PROJECT_ROOT)"
   ]
  },
  {
   "cell_type": "code",
   "execution_count": null,
   "metadata": {},
   "outputs": [],
   "source": [
    "import pandas as pd"
   ]
  },
  {
   "cell_type": "code",
   "execution_count": null,
   "metadata": {},
   "outputs": [],
   "source": [
    "from pipelines_ import etl_operation_summary\n",
    "from pipelines_ import etl_topup_summary"
   ]
  },
  {
   "cell_type": "code",
   "execution_count": null,
   "metadata": {},
   "outputs": [],
   "source": [
    "from utils.email_notifier import send_error_email"
   ]
  },
  {
   "cell_type": "code",
   "execution_count": null,
   "metadata": {},
   "outputs": [],
   "source": [
    "def run_all_pipelines():\n",
    "    print(\"開始執行 Top-up 資料處理\")\n",
    "    run_top_up()\n",
    "\n",
    "    print(\"開始執行 Pre-deduction 資料處理\")\n",
    "    run_pre_deduction()\n",
    "\n",
    "    print(\"開始執行 Post-deduction 資料處理\")\n",
    "    run_post_deduction()\n",
    "\n",
    "    print(\"開始執行 Op Stats 資料處理\")\n",
    "    run_op_stats()\n",
    "\n",
    "if __name__ == \"__main__\":\n",
    "    run_all_pipelines()\n"
   ]
  }
 ],
 "metadata": {
  "kernelspec": {
   "display_name": "base",
   "language": "python",
   "name": "python3"
  },
  "language_info": {
   "codemirror_mode": {
    "name": "ipython",
    "version": 3
   },
   "file_extension": ".py",
   "mimetype": "text/x-python",
   "name": "python",
   "nbconvert_exporter": "python",
   "pygments_lexer": "ipython3",
   "version": "3.12.7"
  }
 },
 "nbformat": 4,
 "nbformat_minor": 2
}
