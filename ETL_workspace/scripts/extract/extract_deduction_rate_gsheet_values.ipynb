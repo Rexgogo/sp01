{
 "cells": [
  {
   "cell_type": "code",
   "execution_count": 6,
   "metadata": {},
   "outputs": [],
   "source": [
    "import os\n",
    "import sys\n",
    "project_root = os.path.abspath(os.path.join(os.getcwd(), \"..\"))\n",
    "if project_root not in sys.path:\n",
    "    sys.path.insert(0, project_root)"
   ]
  },
  {
   "cell_type": "code",
   "execution_count": null,
   "metadata": {},
   "outputs": [],
   "source": [
    "import pandas as pd\n",
    "import gspread\n",
    "import yaml\n",
    "from config.col_mapping import DEDUCTION_RATE_RENAME_MAP\n",
    "from config.value_mapping import CHNNEL_NAME_RENAME_MAP\n",
    "from config.gsheet_sources_loader import gsheet_resources"
   ]
  },
  {
   "cell_type": "code",
   "execution_count": null,
   "metadata": {},
   "outputs": [],
   "source": [
    "# Extract deduction rate table from Google Sheet and apply column/value mappings\n",
    "\n",
    "\n",
    "def read_gsheet_deduction_rate():\n",
    "    url = gsheet_resources[\"gsheet_deduction_rate\"][\"url\"] \n",
    "    sheet_name = gsheet_resources[\"gsheet_deduction_rate\"][\"sheet_name\"]\n",
    "    connection = gspread.service_account('d:\\\\Desktop\\\\DS_workspace\\\\sp01_app_op_data_analysis\\\\BQ_401707_sp01_token_0109.json')\n",
    "    sheet = connection.open_by_url(url).worksheet(sheet_name)\n",
    "    df = pd.DataFrame(sheet.get_all_records())\n",
    "    df.rename(columns={k: v for k, v in DEDUCTION_RATE_RENAME_MAP.items() if k in df.columns}, inplace=True)\n",
    "    df['channel_id'] = df['channel_id'].replace(CHNNEL_NAME_RENAME_MAP)\n",
    "    df['channel_id'] = df['channel_id'].str.replace(\"渠道\", \"\", regex=False)\n",
    "    return df.iloc[:, 0:2]"
   ]
  },
  {
   "cell_type": "code",
   "execution_count": null,
   "metadata": {},
   "outputs": [],
   "source": []
  }
 ],
 "metadata": {
  "kernelspec": {
   "display_name": "base",
   "language": "python",
   "name": "python3"
  },
  "language_info": {
   "codemirror_mode": {
    "name": "ipython",
    "version": 3
   },
   "file_extension": ".py",
   "mimetype": "text/x-python",
   "name": "python",
   "nbconvert_exporter": "python",
   "pygments_lexer": "ipython3",
   "version": "3.12.7"
  }
 },
 "nbformat": 4,
 "nbformat_minor": 2
}
