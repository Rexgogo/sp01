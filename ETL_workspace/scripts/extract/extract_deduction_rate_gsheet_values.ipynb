{
 "cells": [
  {
   "cell_type": "code",
   "execution_count": null,
   "metadata": {},
   "outputs": [],
   "source": [
    "#　extract　deduction_rate from gsheet"
   ]
  },
  {
   "cell_type": "code",
   "execution_count": 11,
   "metadata": {},
   "outputs": [],
   "source": [
    "from utils.path_helper import add_project_root\n",
    "add_project_root()"
   ]
  },
  {
   "cell_type": "code",
   "execution_count": 12,
   "metadata": {},
   "outputs": [],
   "source": [
    "import pandas as pd\n",
    "import gspread \n",
    "from config.col_mapping import DEDUCTION_RATE_RENAME_MAP"
   ]
  },
  {
   "cell_type": "code",
   "execution_count": 16,
   "metadata": {},
   "outputs": [],
   "source": [
    "def read_gsheet_deduction_rate(gsheet_url):\n",
    "    connection = gspread.service_account('d:\\\\Desktop\\\\DS_workspace\\\\sp01_app_op_data_analysis\\\\BQ_401707_sp01_token_0109.json')\n",
    "    sheet = connection.open_by_url(gsheet_url).worksheet('deduction_rate')\n",
    "    df = pd.DataFrame(sheet.get_all_records())\n",
    "    df.rename(columns={k: v for k, v in DEDUCTION_RATE_RENAME_MAP.items() if k in df.columns}, inplace=True)\n",
    "    return df"
   ]
  },
  {
   "cell_type": "code",
   "execution_count": 17,
   "metadata": {},
   "outputs": [],
   "source": [
    "gsheet_url = \"https://docs.google.com/spreadsheets/d/1Ky5-j5nM-qlEO5xNrj3ZT9egOzs9r3LDxSUEem_f8cM/edit?usp=sharing\" "
   ]
  },
  {
   "cell_type": "code",
   "execution_count": 28,
   "metadata": {},
   "outputs": [],
   "source": [
    "gsheet_deduction_rate = read_gsheet_deduction_rate(gsheet_url).iloc[:, 0:2]"
   ]
  },
  {
   "cell_type": "code",
   "execution_count": 29,
   "metadata": {},
   "outputs": [
    {
     "name": "stdout",
     "output_type": "stream",
     "text": [
      "<class 'pandas.core.frame.DataFrame'>\n",
      "RangeIndex: 301 entries, 0 to 300\n",
      "Data columns (total 2 columns):\n",
      " #   Column         Non-Null Count  Dtype  \n",
      "---  ------         --------------  -----  \n",
      " 0   channel_id     301 non-null    object \n",
      " 1   de_percentage  301 non-null    float64\n",
      "dtypes: float64(1), object(1)\n",
      "memory usage: 4.8+ KB\n"
     ]
    }
   ],
   "source": [
    "gsheet_deduction_rate.info()"
   ]
  },
  {
   "cell_type": "code",
   "execution_count": 30,
   "metadata": {},
   "outputs": [],
   "source": [
    "#　後續還要進行渠道更名，\n",
    "#  再打包成transfrom_channel_normalizaion.py"
   ]
  },
  {
   "cell_type": "code",
   "execution_count": null,
   "metadata": {},
   "outputs": [],
   "source": []
  }
 ],
 "metadata": {
  "kernelspec": {
   "display_name": "base",
   "language": "python",
   "name": "python3"
  },
  "language_info": {
   "codemirror_mode": {
    "name": "ipython",
    "version": 3
   },
   "file_extension": ".py",
   "mimetype": "text/x-python",
   "name": "python",
   "nbconvert_exporter": "python",
   "pygments_lexer": "ipython3",
   "version": "3.12.7"
  }
 },
 "nbformat": 4,
 "nbformat_minor": 2
}
