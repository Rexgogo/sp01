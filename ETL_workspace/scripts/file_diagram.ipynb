{
 "cells": [
  {
   "cell_type": "code",
   "execution_count": 1,
   "metadata": {},
   "outputs": [],
   "source": [
    "from rich.tree import Tree\n",
    "from rich import print"
   ]
  },
  {
   "cell_type": "code",
   "execution_count": 2,
   "metadata": {},
   "outputs": [
    {
     "data": {
      "text/html": [
       "<pre style=\"white-space:pre;overflow-x:auto;line-height:normal;font-family:Menlo,'DejaVu Sans Mono',consolas,'Courier New',monospace\">📁 sp01_etl_workspace\n",
       "├── 📁 etl\n",
       "│   └── 📄 extract.py\n",
       "│       📄 transform.py\n",
       "│       📄 load.py\n",
       "├── 📁 data\n",
       "│   └── 📄 input_data.csv\n",
       "│       📄 output_data.csv\n",
       "├── 📁 config\n",
       "│   └── 📄 config.yaml\n",
       "├── 📄 main.py\n",
       "├── 📄 requirements.txt\n",
       "└── 📄 README.md\n",
       "</pre>\n"
      ],
      "text/plain": [
       "📁 sp01_etl_workspace\n",
       "├── 📁 etl\n",
       "│   └── 📄 extract.py\n",
       "│       📄 transform.py\n",
       "│       📄 load.py\n",
       "├── 📁 data\n",
       "│   └── 📄 input_data.csv\n",
       "│       📄 output_data.csv\n",
       "├── 📁 config\n",
       "│   └── 📄 config.yaml\n",
       "├── 📄 main.py\n",
       "├── 📄 requirements.txt\n",
       "└── 📄 README.md\n"
      ]
     },
     "metadata": {},
     "output_type": "display_data"
    }
   ],
   "source": [
    "tree = Tree(\"📁 sp01_etl_workspace\")\n",
    "tree.add(\"📁 etl\") \\\n",
    "    .add(\"📄 extract.py\\n📄 transform.py\\n📄 load.py\")\n",
    "tree.add(\"📁 data\") \\\n",
    "    .add(\"📄 input_data.csv\\n📄 output_data.csv\")\n",
    "tree.add(\"📁 config\") \\\n",
    "    .add(\"📄 config.yaml\")\n",
    "tree.add(\"📄 main.py\")\n",
    "tree.add(\"📄 requirements.txt\")\n",
    "tree.add(\"📄 README.md\")\n",
    "\n",
    "print(tree)\n"
   ]
  },
  {
   "cell_type": "code",
   "execution_count": 3,
   "metadata": {},
   "outputs": [
    {
     "name": "stderr",
     "output_type": "stream",
     "text": [
      "<>:15: SyntaxWarning: invalid escape sequence '\\D'\n",
      "<>:15: SyntaxWarning: invalid escape sequence '\\D'\n",
      "C:\\Users\\Rex\\AppData\\Local\\Temp\\ipykernel_15536\\2684776991.py:15: SyntaxWarning: invalid escape sequence '\\D'\n",
      "  project_root = Path(\"D:\\Desktop\\DS_workspace\\sp01_app_op_data_analysis\\ETL_workspace\\scripts\")  # 範例: Path(\"/Users/rex/projects/etl_project\")\n"
     ]
    },
    {
     "data": {
      "text/html": [
       "<pre style=\"white-space:pre;overflow-x:auto;line-height:normal;font-family:Menlo,'DejaVu Sans Mono',consolas,'Courier New',monospace\">📁 scripts\n",
       "├── 📄 all_data_etl_final.ipynb\n",
       "├── 📁 config\n",
       "│   ├── 📁 __pycache__\n",
       "│   │   └── 📄 col_mapping.cpython-312.pyc\n",
       "│   └── 📄 col_mapping.py\n",
       "├── 📄 credentials.json\n",
       "├── 📄 etl_batch_project_dataset.ipynb\n",
       "├── 📄 ETL_demo.ipynb\n",
       "├── 📁 extract\n",
       "│   ├── 📄 extract_deduction_rate_gsheet_values.ipynb\n",
       "│   ├── 📄 extract_operation_localfile_csv.ipynb\n",
       "│   ├── 📄 extract_post_channel_gdrive_csv.ipynb\n",
       "│   ├── 📄 extract_pre_channel_gdrive_csv.ipynb\n",
       "│   └── 📄 extract_recharge_gdrive_csv.ipynb\n",
       "├── 📄 file_diagram.ipynb\n",
       "├── 📁 load\n",
       "│   ├── 📄 load_channel_csv_to_bq.ipynb\n",
       "│   ├── 📄 load_channel_new_user_stats_csv_to_bq.ipynb\n",
       "│   ├── 📄 load_membership_csv_to_bq.ipynb\n",
       "│   ├── 📄 load_operation_csv_to_bq.ipynb\n",
       "│   └── 📄 load_recharge_csv_to_bq.ipynb\n",
       "├── 📁 logs\n",
       "├── 📄 main.py\n",
       "├── 📁 pipelines\n",
       "│   └── 📄 etl_operation_dataset.ipynb\n",
       "├── 📁 raw_data\n",
       "├── 📄 requirements.txt\n",
       "├── 📁 schema\n",
       "├── 📁 transform\n",
       "│   └── 📄 transform_operation_normalize_col_name.ipynb\n",
       "└── 📁 utils\n",
       "    ├── 📄 __init__.py\n",
       "    ├── 📁 __pycache__\n",
       "    │   ├── 📄 __init__.cpython-312.pyc\n",
       "    │   └── 📄 path_helper.cpython-312.pyc\n",
       "    ├── 📄 bq_client.py\n",
       "    ├── 📄 load_csv_to_bigquery.py\n",
       "    └── 📄 path_helper.py\n",
       "</pre>\n"
      ],
      "text/plain": [
       "📁 scripts\n",
       "├── 📄 all_data_etl_final.ipynb\n",
       "├── 📁 config\n",
       "│   ├── 📁 __pycache__\n",
       "│   │   └── 📄 col_mapping.cpython-312.pyc\n",
       "│   └── 📄 col_mapping.py\n",
       "├── 📄 credentials.json\n",
       "├── 📄 etl_batch_project_dataset.ipynb\n",
       "├── 📄 ETL_demo.ipynb\n",
       "├── 📁 extract\n",
       "│   ├── 📄 extract_deduction_rate_gsheet_values.ipynb\n",
       "│   ├── 📄 extract_operation_localfile_csv.ipynb\n",
       "│   ├── 📄 extract_post_channel_gdrive_csv.ipynb\n",
       "│   ├── 📄 extract_pre_channel_gdrive_csv.ipynb\n",
       "│   └── 📄 extract_recharge_gdrive_csv.ipynb\n",
       "├── 📄 file_diagram.ipynb\n",
       "├── 📁 load\n",
       "│   ├── 📄 load_channel_csv_to_bq.ipynb\n",
       "│   ├── 📄 load_channel_new_user_stats_csv_to_bq.ipynb\n",
       "│   ├── 📄 load_membership_csv_to_bq.ipynb\n",
       "│   ├── 📄 load_operation_csv_to_bq.ipynb\n",
       "│   └── 📄 load_recharge_csv_to_bq.ipynb\n",
       "├── 📁 logs\n",
       "├── 📄 main.py\n",
       "├── 📁 pipelines\n",
       "│   └── 📄 etl_operation_dataset.ipynb\n",
       "├── 📁 raw_data\n",
       "├── 📄 requirements.txt\n",
       "├── 📁 schema\n",
       "├── 📁 transform\n",
       "│   └── 📄 transform_operation_normalize_col_name.ipynb\n",
       "└── 📁 utils\n",
       "    ├── 📄 __init__.py\n",
       "    ├── 📁 __pycache__\n",
       "    │   ├── 📄 __init__.cpython-312.pyc\n",
       "    │   └── 📄 path_helper.cpython-312.pyc\n",
       "    ├── 📄 bq_client.py\n",
       "    ├── 📄 load_csv_to_bigquery.py\n",
       "    └── 📄 path_helper.py\n"
      ]
     },
     "metadata": {},
     "output_type": "display_data"
    }
   ],
   "source": [
    "\n",
    "from pathlib import Path\n",
    "\n",
    "def build_tree(path: Path, tree: Tree):\n",
    "    \"\"\"遞迴構建樹狀結構\"\"\"\n",
    "    for item in sorted(path.iterdir()):\n",
    "        if item.name.startswith(\".\"):  # 忽略隱藏檔與.git等\n",
    "            continue\n",
    "        if item.is_dir():\n",
    "            branch = tree.add(f\"📁 {item.name}\")\n",
    "            build_tree(item, branch)\n",
    "        else:\n",
    "            tree.add(f\"📄 {item.name}\")\n",
    "\n",
    "# ✨ 請將這裡換成你實際的專案資料夾路徑\n",
    "project_root = Path(\"D:\\Desktop\\DS_workspace\\sp01_app_op_data_analysis\\ETL_workspace\\scripts\")  # 範例: Path(\"/Users/rex/projects/etl_project\")\n",
    "\n",
    "# 檢查路徑是否存在\n",
    "if not project_root.exists():\n",
    "    print(f\"[red]❌ 找不到路徑：{project_root}，請確認是否正確。[/red]\")\n",
    "else:\n",
    "    root_tree = Tree(f\"📁 {project_root.name}\")\n",
    "    build_tree(project_root, root_tree)\n",
    "    print(root_tree)"
   ]
  },
  {
   "cell_type": "code",
   "execution_count": null,
   "metadata": {},
   "outputs": [],
   "source": []
  }
 ],
 "metadata": {
  "kernelspec": {
   "display_name": "base",
   "language": "python",
   "name": "python3"
  },
  "language_info": {
   "codemirror_mode": {
    "name": "ipython",
    "version": 3
   },
   "file_extension": ".py",
   "mimetype": "text/x-python",
   "name": "python",
   "nbconvert_exporter": "python",
   "pygments_lexer": "ipython3",
   "version": "3.12.7"
  }
 },
 "nbformat": 4,
 "nbformat_minor": 2
}
