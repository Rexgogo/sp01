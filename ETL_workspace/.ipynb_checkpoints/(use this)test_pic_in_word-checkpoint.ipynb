{
 "cells": [
  {
   "cell_type": "code",
   "execution_count": 1,
   "id": "0da2dc86-bb55-4093-851a-2042f70700e7",
   "metadata": {
    "tags": []
   },
   "outputs": [],
   "source": [
    "import os\n",
    "from docx import Document\n",
    "from docx.shared import Cm,Pt,RGBColor\n",
    "from docx.oxml.ns import qn\n",
    "from docx.enum.text import WD_ALIGN_PARAGRAPH\n",
    "import pandas as pd\n",
    "import numpy as np\n",
    "\n",
    "#開啟word文件\n",
    "document = Document()\n",
    "#沒有頁首頁尾\n",
    "section = document.sections[0]\n",
    "#邊界\n",
    "section.left_margin = Cm(1.27)\n",
    "section.right_margin = Cm(1.27)\n",
    "section.top_margin = Cm(1.27)\n",
    "section.bottom_margin =Cm(1.27)\n",
    "\n",
    "#設定字體皆為宋體\n",
    "document.styles['Normal'].font.name = 'Simsun'\n",
    "document.styles['Normal']._element.rPr.rFonts.set(qn('w:eastAsia'),u'Simsun')\n",
    "\n"
   ]
  },
  {
   "cell_type": "code",
   "execution_count": 2,
   "id": "b3c15086-672e-4362-b965-b9b208e396f3",
   "metadata": {
    "tags": []
   },
   "outputs": [
    {
     "data": {
      "text/plain": [
       "'C:\\\\Users\\\\buche\\\\Desktop\\\\travail_workspace\\\\ETL_workspace'"
      ]
     },
     "execution_count": 2,
     "metadata": {},
     "output_type": "execute_result"
    }
   ],
   "source": [
    "os.getcwd()"
   ]
  },
  {
   "cell_type": "code",
   "execution_count": 3,
   "id": "73f6c093-fb71-4943-ba9c-6dd4c2861c1c",
   "metadata": {
    "tags": []
   },
   "outputs": [],
   "source": [
    "today = str(np.datetime64('2023-11-07')) "
   ]
  },
  {
   "cell_type": "code",
   "execution_count": 4,
   "id": "5ee602c3-edc5-4403-94c0-d1cb3e687319",
   "metadata": {
    "tags": []
   },
   "outputs": [],
   "source": [
    "#開啟excel檔\n",
    "df = pd.read_excel('C:\\\\Users\\\\buche\\\\Desktop\\\\travail_workspace\\\\ch_report\\\\' + today + '\\\\123.xlsx')\n",
    "# df = pd.read_excel('D:\\\\Desktop\\\\travail_workspace\\\\ch_report\\\\' + today + '\\\\123.xlsx')\n",
    "# df = pd.read_excel('C:\\\\Users\\\\buche\\\\Desktop\\\\travail_workspace\\\\ch_report\\\\1030-1105週\\\\123.xlsx') # 渠道週報用\n",
    "# df = pd.read_excel('C:\\\\Users\\\\buche\\\\Desktop\\\\travail_workspace\\\\ch_report\\\\2023-Oct\\\\123.xlsx') # 渠道月報用\n"
   ]
  },
  {
   "cell_type": "code",
   "execution_count": 5,
   "id": "a3c7a3e1-ce94-4f64-ad77-f8bc2a4dd179",
   "metadata": {
    "tags": []
   },
   "outputs": [],
   "source": [
    "\n",
    "#找尋圖檔檔名（可先用for_pic_number查看）\n",
    "dir_path = 'C:\\\\Users\\\\buche\\\\Desktop\\\\travail_workspace\\\\ch_report\\\\' + today + '\\\\456'\n",
    "# dir_path ='D:\\\\Desktop\\\\travail_workspace\\\\ch_report\\\\' + today + '\\\\456'\n",
    "# dir_path = 'C:\\\\Users\\\\buche\\\\Desktop\\\\travail_workspace\\\\ch_report\\\\1030-1105週\\\\456' # 渠道週報用\n",
    "# dir_path = 'C:\\\\Users\\\\buche\\\\Desktop\\\\travail_workspace\\\\ch_report\\\\2023-Oct\\\\456' # 渠道月報用\n",
    "\n",
    "all_file_name = os.listdir(dir_path)\n",
    "file_name = sorted(all_file_name)\n",
    "#print(file_name)\n",
    "\n",
    "#留意檔案數量是否有包含系統擋,有的話要從1開始\n",
    "for i in range(len(file_name)):\n",
    "    name = file_name[i].split('.')[0]\n",
    "    #print(name)\n",
    "    \n",
    "    #增加一行敘述,文字置中,粗體\n",
    "    text_1 = document.add_paragraph('')\n",
    "    text_1.paragraph_format.alignment = WD_ALIGN_PARAGRAPH.CENTER\n",
    "    text_1.add_run(name +'渠道分析：').bold = True\n",
    "    #這個敘述的所有run改大小和顏色\n",
    "    for run in text_1.runs:\n",
    "        run.font.size = Pt(20)\n",
    "        run.font.color.rgb = RGBColor(237,125,49)\n",
    "    \n",
    "    #增加新的敘述    \n",
    "    text_2 = document.add_paragraph('')\n",
    "    text_2.add_run(name).font.color.rgb = RGBColor(255,0,0)\n",
    "    text_2.add_run('新增注册人数、充值人数和转化率的走势图：')\n",
    "    for run in text_2.runs:\n",
    "        run.bold = True\n",
    "\n",
    "    #插入圖片,置中對齊\n",
    "    paragraph = document.add_paragraph('')\n",
    "    paragraph.paragraph_format.alignment = WD_ALIGN_PARAGRAPH.CENTER\n",
    "    pic = paragraph.add_run('')\n",
    "    \n",
    "    pic.add_picture('C:\\\\Users\\\\buche\\\\Desktop\\\\travail_workspace\\\\ch_report\\\\' + today + '\\\\456\\\\' +  file_name[i] ,width = Cm(12))\n",
    "    # pic.add_picture('D:\\\\Desktop\\\\travail_workspace\\\\ch_report\\\\' + today + '\\\\456\\\\' +  file_name[i] ,width = Cm(12))\n",
    "    # pic.add_picture('C:\\\\Users\\\\buche\\\\Desktop\\\\travail_workspace\\\\ch_report\\\\1030-1105週\\\\456\\\\' +  file_name[i] ,width = Cm(12)) # 渠道週報用\n",
    "    # pic.add_picture('C:\\\\Users\\\\buche\\\\Desktop\\\\travail_workspace\\\\ch_report\\\\2023-Oct\\\\456\\\\' +  file_name[i] ,width = Cm(12)) # 渠道月報用\n",
    "\n",
    "    #插入文字,表格\n",
    "    word_1 = df.iat[i,1]\n",
    "    word_2 = df.iat[i,2]\n",
    "    word_3 = df.iat[i,3]\n",
    "    table = document.add_table(rows=1,cols=1, style= 'Table Grid')\n",
    "    hdr_cells = table.rows[0].cells\n",
    "    hdr_cells[0].text = str(word_1)+'\\n'+str(word_2)+'\\n'+str(word_3)\n"
   ]
  },
  {
   "cell_type": "code",
   "execution_count": 6,
   "id": "1924cc5b-e82d-4138-a3a5-08af8753b879",
   "metadata": {
    "tags": []
   },
   "outputs": [],
   "source": [
    "document.save(dir_path + 'test.docx')"
   ]
  },
  {
   "cell_type": "code",
   "execution_count": null,
   "id": "01f91352-0430-4168-bf62-8f75be322310",
   "metadata": {},
   "outputs": [],
   "source": []
  },
  {
   "cell_type": "code",
   "execution_count": null,
   "id": "eba8d647-3a11-49cd-bcab-d8e39c4b960d",
   "metadata": {},
   "outputs": [],
   "source": []
  },
  {
   "cell_type": "code",
   "execution_count": null,
   "id": "07da45eb-6e34-41f6-b99a-ab5e7c600939",
   "metadata": {},
   "outputs": [],
   "source": []
  }
 ],
 "metadata": {
  "kernelspec": {
   "display_name": "Python 3 (ipykernel)",
   "language": "python",
   "name": "python3"
  },
  "language_info": {
   "codemirror_mode": {
    "name": "ipython",
    "version": 3
   },
   "file_extension": ".py",
   "mimetype": "text/x-python",
   "name": "python",
   "nbconvert_exporter": "python",
   "pygments_lexer": "ipython3",
   "version": "3.11.3"
  }
 },
 "nbformat": 4,
 "nbformat_minor": 5
}
