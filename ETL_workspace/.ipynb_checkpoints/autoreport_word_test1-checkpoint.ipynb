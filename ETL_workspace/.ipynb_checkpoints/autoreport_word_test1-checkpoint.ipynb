{
 "cells": [
  {
   "cell_type": "code",
   "execution_count": 10,
   "id": "848393b2-807f-4ac3-ae6b-fd0653fbf0ff",
   "metadata": {
    "tags": []
   },
   "outputs": [],
   "source": [
    "import pandas as pd\n",
    "import numpy as np\n",
    "import datetime as dt\n",
    "from docx import Document #python-docx\n",
    "from docx.shared import Inches\n",
    "from docx.shared import Pt,RGBColor\n",
    "from docx.oxml.ns import qn\n",
    "#from ggplot import *"
   ]
  },
  {
   "cell_type": "code",
   "execution_count": 11,
   "id": "3748ed83-b89a-4378-aa0d-6058d7802ca1",
   "metadata": {
    "tags": []
   },
   "outputs": [],
   "source": [
    "document = Document()"
   ]
  },
  {
   "cell_type": "code",
   "execution_count": 12,
   "id": "a83846c0-8d02-4d25-a194-1404ca9edc3f",
   "metadata": {
    "tags": []
   },
   "outputs": [],
   "source": [
    "document.styles['Normal'].font.name = 'Simsun'\n",
    "document.styles['Normal']._element.rPr.rFonts.set(qn('w:eastAsia'),u'Simsun')"
   ]
  },
  {
   "cell_type": "code",
   "execution_count": 18,
   "id": "638bac63-3cbd-4db6-aef3-6432a99d7760",
   "metadata": {
    "tags": []
   },
   "outputs": [],
   "source": [
    "today = str(np.datetime64('today'))"
   ]
  },
  {
   "cell_type": "code",
   "execution_count": 14,
   "id": "a88d9226-5ab4-4505-93cb-e2e3af29f4e8",
   "metadata": {
    "tags": []
   },
   "outputs": [
    {
     "data": {
      "text/plain": [
       "'2023-07-26'"
      ]
     },
     "execution_count": 14,
     "metadata": {},
     "output_type": "execute_result"
    }
   ],
   "source": [
    "today"
   ]
  },
  {
   "cell_type": "markdown",
   "id": "6819d03a-6422-4cfe-931c-ac604e5fb090",
   "metadata": {},
   "source": [
    "# 標題"
   ]
  },
  {
   "cell_type": "code",
   "execution_count": 21,
   "id": "0af2407d-6628-4cdd-9729-b3d4d99024ad",
   "metadata": {
    "tags": []
   },
   "outputs": [
    {
     "data": {
      "text/plain": [
       "<docx.text.paragraph.Paragraph at 0x28213d21fd0>"
      ]
     },
     "execution_count": 21,
     "metadata": {},
     "output_type": "execute_result"
    }
   ],
   "source": [
    "report_day=str(np.datetime64(today)-np.timedelta64(1, 'D'))\n",
    "document.add_heading(report_day+'总渠道日报统计',0)"
   ]
  },
  {
   "cell_type": "code",
   "execution_count": null,
   "id": "e52bdb66-350a-4128-84ab-19ad2f3fc7d1",
   "metadata": {},
   "outputs": [],
   "source": [
    "\n",
    "\n",
    "#打上敘述p\n",
    "p=document.add_paragraph('A plan paragraph having some')\n",
    "#在p的後方加上 bord （粗體） \n",
    "p.add_run('bord').bold = True\n",
    "#在後方加上 and some\n",
    "p.add_run (' and some ')\n",
    "#在後方加上italic (斜體)\n",
    "p.add_run('italic.').italic = True\n",
    "\n",
    "#打上標題（格式 標題1）\n",
    "document.add_heading('Heading, level 1', level = 1)\n",
    "#插入引文（格式 鮮明引文）\n",
    "document.add_paragraph('Intense quoet', style = 'Intense Quote')\n",
    "\n",
    "#（插入點點標號 ˙first item....）\n",
    "document.add_paragraph('first item in unorder list', style = 'List Bullet')\n",
    "#(插入數字標號 1.first item...)\n",
    "document.add_paragraph('first item in ordered list', style = 'List Number')\n",
    "\n",
    "#插入圖片 1 inches = 2.54cm 寬度 1.25inches = 3.18cm\n",
    "document.add_picture('/Users/mac/Desktop/123.png',width = Inches(6.3))\n",
    "records = (\n",
    "    (3,'101','Spam'),\n",
    "    (7,'422','Eggs'),\n",
    "    (4,'631','Spam,spam,eggs, and spam')\n",
    ")\n",
    "\n",
    "#增加表格（1列3行）\n",
    "table = document.add_table(rows=1,cols=3)\n",
    "hdr_cells = table.rows[0].cells\n",
    "hdr_cells[0].text = 'Qty'\n",
    "hdr_cells[1].text = 'Id'\n",
    "hdr_cells[2].text = 'Desc'\n",
    "\n",
    "for qty,id,desc in records:\n",
    "    row_cells = table.add_row().cells\n",
    "    row_cells[0].text = str(qty)\n",
    "    row_cells[1].text = id\n",
    "    row_cells[2].text = desc\n",
    "\n",
    "#增加換頁符號\n",
    "document.add_page_break()\n",
    "\n",
    "p = document.add_paragraph('')\n",
    "p.add_run('你好').font.size = Pt(10.5)\n",
    "    \n",
    "    \n",
    "#存檔\n",
    "document.save('/Users/mac/Desktop/demo.docx')"
   ]
  }
 ],
 "metadata": {
  "kernelspec": {
   "display_name": "Python 3 (ipykernel)",
   "language": "python",
   "name": "python3"
  },
  "language_info": {
   "codemirror_mode": {
    "name": "ipython",
    "version": 3
   },
   "file_extension": ".py",
   "mimetype": "text/x-python",
   "name": "python",
   "nbconvert_exporter": "python",
   "pygments_lexer": "ipython3",
   "version": "3.11.3"
  }
 },
 "nbformat": 4,
 "nbformat_minor": 5
}
