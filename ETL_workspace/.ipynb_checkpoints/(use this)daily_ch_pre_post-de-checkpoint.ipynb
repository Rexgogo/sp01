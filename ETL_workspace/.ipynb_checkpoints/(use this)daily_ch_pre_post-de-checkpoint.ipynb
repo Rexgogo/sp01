{
 "cells": [
  {
   "cell_type": "markdown",
   "id": "c269216c-c040-441e-8137-d43d36c4d5b7",
   "metadata": {},
   "source": [
    "# 每日數據統計Data ETL\n",
    "自動產出GoogleSheet與各報表、文字格式\\串接與操作google sheet api\\產生word、pdf簡報（docx、reportlab）"
   ]
  },
  {
   "cell_type": "code",
   "execution_count": 1,
   "id": "10958b58-539d-4f11-b3a6-d261f523cceb",
   "metadata": {
    "tags": []
   },
   "outputs": [],
   "source": [
    "import os\n",
    "from glob import glob #filename pattern matching module\n",
    "import xlrd\n",
    "import openpyxl \n",
    "import datetime as dt\n",
    "from datetime import datetime\n",
    "import time\n",
    "import pandas as pd\n",
    "import pygsheets\n",
    "\n",
    "from pandas import Series, DataFrame\n",
    "import numpy as np\n",
    "\n",
    "pd.set_option(\"display.max.columns\", None)\n",
    "pd.set_option(\"display.max_rows\", None)\n",
    "pd.set_option(\"display.float_format\", \"{:.2f}\".format) # 不顯示科學符號\n",
    "\n",
    "np.set_printoptions(suppress=True, threshold=False)"
   ]
  },
  {
   "cell_type": "markdown",
   "id": "53a16aec-5801-43b5-b09c-870e0b50ae3b",
   "metadata": {
    "tags": []
   },
   "source": [
    "## 串接google sheet api"
   ]
  },
  {
   "cell_type": "code",
   "execution_count": 2,
   "id": "9fd13460-77b0-4c6d-b4b7-10b36408ea70",
   "metadata": {
    "tags": []
   },
   "outputs": [],
   "source": [
    "#　save xlsx as google sheet first\n",
    "\n",
    "# 授權金鑰json放置\n",
    "key = pygsheets.authorize(service_file='daily-report-401707-fe762027109c.json')\n",
    "\n",
    "# Open a spreadsheet\n",
    "# 1. 如果是excel檔要轉存為google spreadsheet才能讀\n",
    "# 2. 共用\n",
    "completed_data = key.open_by_url('https://docs.google.com/spreadsheets/d/1zchtG56BnUtO3ESbmwxWDD-UEZPQW23QeBBPtR_6CPM/edit#gid=850446107')\n",
    "\n",
    "# all Worksheet list\n",
    "# completed_data.worksheets()\n",
    "\n",
    "# 讀單一工作表\n",
    "# completed_data.worksheet_by_title(\"\")\n",
    "\n",
    "# read as local worksheet so as to manipulate; Link the spreadsheet to cloud\n",
    "# completed_data.worksheet_by_title(c).link(syncToCloud=True)\n",
    "\n",
    "# update cloud worksheet\n",
    "# completed_data.update_properties()"
   ]
  },
  {
   "cell_type": "markdown",
   "id": "c0305075-3ec0-4ef5-870e-c4ef76d54a36",
   "metadata": {},
   "source": [
    "## 設定報表數據日期"
   ]
  },
  {
   "cell_type": "code",
   "execution_count": 3,
   "id": "ef497aab-2c2e-4e4a-a897-4cc72ead21ef",
   "metadata": {
    "tags": []
   },
   "outputs": [],
   "source": [
    "# + 數字輸入彈跳視窗"
   ]
  },
  {
   "cell_type": "code",
   "execution_count": 4,
   "id": "ba44dcfd-171d-449a-96af-2e66184324fa",
   "metadata": {
    "tags": []
   },
   "outputs": [],
   "source": [
    "#data_date = str(np.datetime64('2023-08-01')-np.timedelta64(1,'D')) \n",
    "# data_date = np.datetime64('2023-09-19') #暫時"
   ]
  },
  {
   "cell_type": "code",
   "execution_count": 5,
   "id": "f2358737-9f71-4f1d-9d1c-ba89055d8d49",
   "metadata": {
    "tags": []
   },
   "outputs": [],
   "source": [
    "data_date = pd.DatetimeIndex(['2023-11-08'])"
   ]
  },
  {
   "cell_type": "code",
   "execution_count": 6,
   "id": "7bf069e0-4590-4bf2-8bc1-2f03d3435631",
   "metadata": {
    "tags": []
   },
   "outputs": [
    {
     "data": {
      "text/plain": [
       "DatetimeIndex(['2023-11-07'], dtype='datetime64[ns]', freq=None)"
      ]
     },
     "execution_count": 6,
     "metadata": {},
     "output_type": "execute_result"
    }
   ],
   "source": [
    "data_date "
   ]
  },
  {
   "cell_type": "code",
   "execution_count": 7,
   "id": "7db90ae2-8e66-4c4d-8f6e-76428822cabc",
   "metadata": {
    "tags": []
   },
   "outputs": [
    {
     "data": {
      "text/plain": [
       "array([datetime.datetime(2023, 11, 7, 0, 0)], dtype=object)"
      ]
     },
     "execution_count": 7,
     "metadata": {},
     "output_type": "execute_result"
    }
   ],
   "source": [
    "# ??\n",
    "data_date.to_pydatetime()"
   ]
  },
  {
   "cell_type": "code",
   "execution_count": 8,
   "id": "e969c7cd-bfea-470b-8242-e49c7e5b02da",
   "metadata": {
    "tags": []
   },
   "outputs": [
    {
     "data": {
      "text/plain": [
       "Index(['2023-11-07'], dtype='object')"
      ]
     },
     "execution_count": 8,
     "metadata": {},
     "output_type": "execute_result"
    }
   ],
   "source": [
    "# 轉成字串用在讀寫檔案\n",
    "date_str = data_date.astype('str')\n",
    "date_str"
   ]
  },
  {
   "cell_type": "markdown",
   "id": "7feb5dbb-c317-434d-8184-9070000bd281",
   "metadata": {},
   "source": [
    "# 歸檔"
   ]
  },
  {
   "cell_type": "code",
   "execution_count": 9,
   "id": "1227510e-54a1-4e0c-9d41-c0c2b0c9e96e",
   "metadata": {
    "tags": []
   },
   "outputs": [],
   "source": [
    "# #自訂資料夾名稱\n",
    "# newdir = 'all_channel_rawdata/'+ yes_data + '/'\n",
    "# #判斷資料夾是否存在\n",
    "# if not os.path.exists(newdir):\n",
    "#     #建立資料夾\n",
    "#     os.makedirs(newdir)\n",
    "\n",
    "# 加上 將後台取得的原始資料夾 自動移到my workspace "
   ]
  },
  {
   "cell_type": "markdown",
   "id": "73aa5b31-ee0a-4e98-985f-82a8adb474c7",
   "metadata": {},
   "source": [
    "# 合併/取得原始資料"
   ]
  },
  {
   "cell_type": "markdown",
   "id": "71ba46ea-d603-493f-a561-e2f32c89eeb1",
   "metadata": {},
   "source": [
    "## 1. pre_deduction"
   ]
  },
  {
   "cell_type": "code",
   "execution_count": 10,
   "id": "7c96b602-e919-4156-9f6d-9215f0bbd488",
   "metadata": {
    "tags": []
   },
   "outputs": [
    {
     "name": "stderr",
     "output_type": "stream",
     "text": [
      "C:\\Users\\buche\\anaconda3\\Lib\\site-packages\\openpyxl\\styles\\stylesheet.py:226: UserWarning: Workbook contains no default style, apply openpyxl's default\n",
      "  warn(\"Workbook contains no default style, apply openpyxl's default\")\n",
      "C:\\Users\\buche\\AppData\\Local\\Temp\\ipykernel_7164\\2147290977.py:8: FutureWarning: The frame.append method is deprecated and will be removed from pandas in a future version. Use pandas.concat instead.\n",
      "  pre_deduction = pre_deduction.append(df, ignore_index=True).sort_values(by=['渠道名称'], ignore_index=True)\n",
      "C:\\Users\\buche\\anaconda3\\Lib\\site-packages\\openpyxl\\styles\\stylesheet.py:226: UserWarning: Workbook contains no default style, apply openpyxl's default\n",
      "  warn(\"Workbook contains no default style, apply openpyxl's default\")\n",
      "C:\\Users\\buche\\AppData\\Local\\Temp\\ipykernel_7164\\2147290977.py:8: FutureWarning: The frame.append method is deprecated and will be removed from pandas in a future version. Use pandas.concat instead.\n",
      "  pre_deduction = pre_deduction.append(df, ignore_index=True).sort_values(by=['渠道名称'], ignore_index=True)\n",
      "C:\\Users\\buche\\anaconda3\\Lib\\site-packages\\openpyxl\\styles\\stylesheet.py:226: UserWarning: Workbook contains no default style, apply openpyxl's default\n",
      "  warn(\"Workbook contains no default style, apply openpyxl's default\")\n",
      "C:\\Users\\buche\\AppData\\Local\\Temp\\ipykernel_7164\\2147290977.py:8: FutureWarning: The frame.append method is deprecated and will be removed from pandas in a future version. Use pandas.concat instead.\n",
      "  pre_deduction = pre_deduction.append(df, ignore_index=True).sort_values(by=['渠道名称'], ignore_index=True)\n",
      "C:\\Users\\buche\\anaconda3\\Lib\\site-packages\\openpyxl\\styles\\stylesheet.py:226: UserWarning: Workbook contains no default style, apply openpyxl's default\n",
      "  warn(\"Workbook contains no default style, apply openpyxl's default\")\n",
      "C:\\Users\\buche\\AppData\\Local\\Temp\\ipykernel_7164\\2147290977.py:8: FutureWarning: The frame.append method is deprecated and will be removed from pandas in a future version. Use pandas.concat instead.\n",
      "  pre_deduction = pre_deduction.append(df, ignore_index=True).sort_values(by=['渠道名称'], ignore_index=True)\n",
      "C:\\Users\\buche\\anaconda3\\Lib\\site-packages\\openpyxl\\styles\\stylesheet.py:226: UserWarning: Workbook contains no default style, apply openpyxl's default\n",
      "  warn(\"Workbook contains no default style, apply openpyxl's default\")\n",
      "C:\\Users\\buche\\AppData\\Local\\Temp\\ipykernel_7164\\2147290977.py:8: FutureWarning: The frame.append method is deprecated and will be removed from pandas in a future version. Use pandas.concat instead.\n",
      "  pre_deduction = pre_deduction.append(df, ignore_index=True).sort_values(by=['渠道名称'], ignore_index=True)\n",
      "C:\\Users\\buche\\anaconda3\\Lib\\site-packages\\openpyxl\\styles\\stylesheet.py:226: UserWarning: Workbook contains no default style, apply openpyxl's default\n",
      "  warn(\"Workbook contains no default style, apply openpyxl's default\")\n",
      "C:\\Users\\buche\\AppData\\Local\\Temp\\ipykernel_7164\\2147290977.py:8: FutureWarning: The frame.append method is deprecated and will be removed from pandas in a future version. Use pandas.concat instead.\n",
      "  pre_deduction = pre_deduction.append(df, ignore_index=True).sort_values(by=['渠道名称'], ignore_index=True)\n",
      "C:\\Users\\buche\\anaconda3\\Lib\\site-packages\\openpyxl\\styles\\stylesheet.py:226: UserWarning: Workbook contains no default style, apply openpyxl's default\n",
      "  warn(\"Workbook contains no default style, apply openpyxl's default\")\n",
      "C:\\Users\\buche\\AppData\\Local\\Temp\\ipykernel_7164\\2147290977.py:8: FutureWarning: The frame.append method is deprecated and will be removed from pandas in a future version. Use pandas.concat instead.\n",
      "  pre_deduction = pre_deduction.append(df, ignore_index=True).sort_values(by=['渠道名称'], ignore_index=True)\n"
     ]
    }
   ],
   "source": [
    "# 未處理的每日扣量「前」原始資料\n",
    "files_path = glob(\"C:\\\\Users\\\\buche\\\\Desktop\\\\travail_workspace\\\\ETL_workspace\\\\all_channel_rawdata\\\\\" + date_str.all() + \"\\\\pre_deduction\\\\channel_*.xlsx\")\n",
    "# files_path = glob(\"D:\\\\Desktop\\\\travail_workspace\\\\ETL_workspace\\\\all_channel_rawdata\\\\\" + date_str.all() + \"\\\\pre_deduction\\\\channel_*.xlsx\")\n",
    "\n",
    "pre_deduction = pd.DataFrame()\n",
    "for file in files_path:\n",
    "    df = pd.read_excel(file, engine='openpyxl')\n",
    "    pre_deduction = pre_deduction.append(df, ignore_index=True).sort_values(by=['渠道名称'], ignore_index=True)\n",
    "\n",
    "    \n",
    "# pre_deduction.to_csv('D:\\\\Desktop\\\\travail_workspace\\\\ETL_workspace\\\\all_channel_rawdata\\\\' + date_str.all() +'\\\\'+ date_str.all() +'_pre.csv', encoding = 'utf-8-sig') \n",
    "pre_deduction.to_csv('C:\\\\Users\\\\buche\\\\Desktop\\\\travail_workspace\\\\ETL_workspace\\\\all_channel_rawdata\\\\' + date_str.all() +'\\\\'+ date_str.all() +'_pre.csv', encoding = 'utf-8-sig') "
   ]
  },
  {
   "cell_type": "code",
   "execution_count": 11,
   "id": "72ecbc2d-0a47-4552-98bf-4120bb5d526a",
   "metadata": {
    "tags": []
   },
   "outputs": [
    {
     "name": "stderr",
     "output_type": "stream",
     "text": [
      "C:\\Users\\buche\\anaconda3\\Lib\\site-packages\\openpyxl\\styles\\stylesheet.py:226: UserWarning: Workbook contains no default style, apply openpyxl's default\n",
      "  warn(\"Workbook contains no default style, apply openpyxl's default\")\n",
      "C:\\Users\\buche\\AppData\\Local\\Temp\\ipykernel_7164\\81711952.py:9: FutureWarning: The frame.append method is deprecated and will be removed from pandas in a future version. Use pandas.concat instead.\n",
      "  post_deduction = post_deduction.append(df, ignore_index=True).sort_values(by=['渠道名称'], ignore_index=True)\n",
      "C:\\Users\\buche\\anaconda3\\Lib\\site-packages\\openpyxl\\styles\\stylesheet.py:226: UserWarning: Workbook contains no default style, apply openpyxl's default\n",
      "  warn(\"Workbook contains no default style, apply openpyxl's default\")\n",
      "C:\\Users\\buche\\AppData\\Local\\Temp\\ipykernel_7164\\81711952.py:9: FutureWarning: The frame.append method is deprecated and will be removed from pandas in a future version. Use pandas.concat instead.\n",
      "  post_deduction = post_deduction.append(df, ignore_index=True).sort_values(by=['渠道名称'], ignore_index=True)\n",
      "C:\\Users\\buche\\anaconda3\\Lib\\site-packages\\openpyxl\\styles\\stylesheet.py:226: UserWarning: Workbook contains no default style, apply openpyxl's default\n",
      "  warn(\"Workbook contains no default style, apply openpyxl's default\")\n",
      "C:\\Users\\buche\\AppData\\Local\\Temp\\ipykernel_7164\\81711952.py:9: FutureWarning: The frame.append method is deprecated and will be removed from pandas in a future version. Use pandas.concat instead.\n",
      "  post_deduction = post_deduction.append(df, ignore_index=True).sort_values(by=['渠道名称'], ignore_index=True)\n",
      "C:\\Users\\buche\\anaconda3\\Lib\\site-packages\\openpyxl\\styles\\stylesheet.py:226: UserWarning: Workbook contains no default style, apply openpyxl's default\n",
      "  warn(\"Workbook contains no default style, apply openpyxl's default\")\n",
      "C:\\Users\\buche\\AppData\\Local\\Temp\\ipykernel_7164\\81711952.py:9: FutureWarning: The frame.append method is deprecated and will be removed from pandas in a future version. Use pandas.concat instead.\n",
      "  post_deduction = post_deduction.append(df, ignore_index=True).sort_values(by=['渠道名称'], ignore_index=True)\n",
      "C:\\Users\\buche\\anaconda3\\Lib\\site-packages\\openpyxl\\styles\\stylesheet.py:226: UserWarning: Workbook contains no default style, apply openpyxl's default\n",
      "  warn(\"Workbook contains no default style, apply openpyxl's default\")\n",
      "C:\\Users\\buche\\AppData\\Local\\Temp\\ipykernel_7164\\81711952.py:9: FutureWarning: The frame.append method is deprecated and will be removed from pandas in a future version. Use pandas.concat instead.\n",
      "  post_deduction = post_deduction.append(df, ignore_index=True).sort_values(by=['渠道名称'], ignore_index=True)\n",
      "C:\\Users\\buche\\anaconda3\\Lib\\site-packages\\openpyxl\\styles\\stylesheet.py:226: UserWarning: Workbook contains no default style, apply openpyxl's default\n",
      "  warn(\"Workbook contains no default style, apply openpyxl's default\")\n",
      "C:\\Users\\buche\\AppData\\Local\\Temp\\ipykernel_7164\\81711952.py:9: FutureWarning: The frame.append method is deprecated and will be removed from pandas in a future version. Use pandas.concat instead.\n",
      "  post_deduction = post_deduction.append(df, ignore_index=True).sort_values(by=['渠道名称'], ignore_index=True)\n",
      "C:\\Users\\buche\\anaconda3\\Lib\\site-packages\\openpyxl\\styles\\stylesheet.py:226: UserWarning: Workbook contains no default style, apply openpyxl's default\n",
      "  warn(\"Workbook contains no default style, apply openpyxl's default\")\n",
      "C:\\Users\\buche\\AppData\\Local\\Temp\\ipykernel_7164\\81711952.py:9: FutureWarning: The frame.append method is deprecated and will be removed from pandas in a future version. Use pandas.concat instead.\n",
      "  post_deduction = post_deduction.append(df, ignore_index=True).sort_values(by=['渠道名称'], ignore_index=True)\n"
     ]
    }
   ],
   "source": [
    "# 未處理的每日扣量「後」原始資料\n",
    "\n",
    "files_path = glob(\"C:\\\\Users\\\\buche\\\\Desktop\\\\travail_workspace\\\\ETL_workspace\\\\all_channel_rawdata\\\\\" + date_str.all() + \"\\\\post_deduction\\\\channel_*.xlsx\")\n",
    "# files_path = glob(\"D:\\\\Desktop\\\\travail_workspace\\\\ETL_workspace\\\\all_channel_rawdata\\\\\" + date_str.all() + \"\\\\post_deduction\\\\channel_*.xlsx\")\n",
    "\n",
    "post_deduction = pd.DataFrame()\n",
    "for file in files_path:\n",
    "    df = pd.read_excel(file, engine='openpyxl')\n",
    "    post_deduction = post_deduction.append(df, ignore_index=True).sort_values(by=['渠道名称'], ignore_index=True)\n",
    "\n",
    "# post_deduction.to_csv('D:\\\\Desktop\\\\travail_workspace\\\\ETL_workspace\\\\all_channel_rawdata\\\\' + date_str.all() +'\\\\'+ date_str.all() +'_post.csv', encoding = 'utf-8-sig') \n",
    "post_deduction.to_csv('C:\\\\Users\\\\buche\\\\Desktop\\\\travail_workspace\\\\ETL_workspace\\\\all_channel_rawdata\\\\' + date_str.all() +'\\\\'+ date_str.all() +'_post.csv', encoding = 'utf-8-sig') "
   ]
  }
 ],
 "metadata": {
  "kernelspec": {
   "display_name": "Python 3 (ipykernel)",
   "language": "python",
   "name": "python3"
  },
  "language_info": {
   "codemirror_mode": {
    "name": "ipython",
    "version": 3
   },
   "file_extension": ".py",
   "mimetype": "text/x-python",
   "name": "python",
   "nbconvert_exporter": "python",
   "pygments_lexer": "ipython3",
   "version": "3.11.3"
  }
 },
 "nbformat": 4,
 "nbformat_minor": 5
}
