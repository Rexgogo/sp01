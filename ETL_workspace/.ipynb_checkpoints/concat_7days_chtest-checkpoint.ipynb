{
 "cells": [
  {
   "cell_type": "code",
   "execution_count": 1,
   "id": "bd2e456f-410c-4275-92c6-c8032d3b4767",
   "metadata": {
    "tags": []
   },
   "outputs": [],
   "source": [
    "import os\n",
    "from glob import glob #filename pattern matching module\n",
    "import xlrd\n",
    "import openpyxl \n",
    "import datetime as dt\n",
    "from datetime import datetime\n",
    "import time\n",
    "import pandas as pd\n",
    "import numpy as np\n",
    "import matplotlib.pyplot as plt\n",
    "from matplotlib.pyplot import figure\n",
    "import seaborn as sns"
   ]
  },
  {
   "cell_type": "code",
   "execution_count": 2,
   "id": "9c8b7702-8a01-4ccf-8455-f2af96d54101",
   "metadata": {
    "tags": []
   },
   "outputs": [],
   "source": [
    "cwd = os.getcwd()"
   ]
  },
  {
   "cell_type": "markdown",
   "id": "d0d87b60-46b9-4e24-9843-e7feadbf46a0",
   "metadata": {},
   "source": [
    "## 1. 在這改日期"
   ]
  },
  {
   "cell_type": "code",
   "execution_count": 3,
   "id": "fb289465-454c-484f-b69d-b1f546f9f630",
   "metadata": {
    "tags": []
   },
   "outputs": [],
   "source": [
    "# the day of analysis\n",
    "today = str(np.datetime64('2023-09-05')) \n",
    "past_7days = str(np.datetime64(today)-np.timedelta64(6,'D'))\n",
    "# past_30days = str(np.datetime64(today)-np.timedelta64(30,'D')) # 月報用\n",
    "#filt = (all_ch['统计日期'].between(past_week, today)) # 日報需前六天"
   ]
  },
  {
   "cell_type": "code",
   "execution_count": 4,
   "id": "8aa3ac70-56c8-4d7b-885a-5fba6d6553c1",
   "metadata": {
    "tags": []
   },
   "outputs": [
    {
     "name": "stdout",
     "output_type": "stream",
     "text": [
      "DatetimeIndex(['2023-08-30', '2023-08-31', '2023-09-01', '2023-09-02',\n",
      "               '2023-09-03', '2023-09-04', '2023-09-05'],\n",
      "              dtype='datetime64[ns]', freq='D')\n"
     ]
    }
   ],
   "source": [
    "date_range = pd.date_range(past_7days, today, freq = \"1D\")\n",
    "# date_range = pd.date_range(past_30days, today, freq = \"1D\") # 月報用\n",
    "date_range = [date_range.strftime('%Y-%m-%d') for date_range in date_range]\n",
    "print(date_range)"
   ]
  },
  {
   "cell_type": "markdown",
   "id": "05ad16bf-d7fd-44aa-b3cf-2ac6d9b27cec",
   "metadata": {},
   "source": [
    "## 2. 這裡讀取資料夾的所有日期檔案。改成自己的路徑"
   ]
  },
  {
   "cell_type": "code",
   "execution_count": 6,
   "id": "21446956-98b6-4a3f-8130-d20ea79295b0",
   "metadata": {
    "tags": []
   },
   "outputs": [
    {
     "name": "stdout",
     "output_type": "stream",
     "text": [
      "[['C:\\\\Users\\\\buche\\\\Desktop\\\\travail_workspace\\\\ETL_workspace\\\\all_channel_rawdata\\\\2023-08-30\\\\pre_deduction\\\\channel_1693445027544.xlsx', 'C:\\\\Users\\\\buche\\\\Desktop\\\\travail_workspace\\\\ETL_workspace\\\\all_channel_rawdata\\\\2023-08-30\\\\pre_deduction\\\\channel_1693445030793.xlsx', 'C:\\\\Users\\\\buche\\\\Desktop\\\\travail_workspace\\\\ETL_workspace\\\\all_channel_rawdata\\\\2023-08-30\\\\pre_deduction\\\\channel_1693445034632.xlsx', 'C:\\\\Users\\\\buche\\\\Desktop\\\\travail_workspace\\\\ETL_workspace\\\\all_channel_rawdata\\\\2023-08-30\\\\pre_deduction\\\\channel_1693445038312.xlsx', 'C:\\\\Users\\\\buche\\\\Desktop\\\\travail_workspace\\\\ETL_workspace\\\\all_channel_rawdata\\\\2023-08-30\\\\pre_deduction\\\\channel_1693445041425.xlsx', 'C:\\\\Users\\\\buche\\\\Desktop\\\\travail_workspace\\\\ETL_workspace\\\\all_channel_rawdata\\\\2023-08-30\\\\pre_deduction\\\\channel_1693445082201.xlsx']]\n",
      "[['C:\\\\Users\\\\buche\\\\Desktop\\\\travail_workspace\\\\ETL_workspace\\\\all_channel_rawdata\\\\2023-08-30\\\\pre_deduction\\\\channel_1693445027544.xlsx', 'C:\\\\Users\\\\buche\\\\Desktop\\\\travail_workspace\\\\ETL_workspace\\\\all_channel_rawdata\\\\2023-08-30\\\\pre_deduction\\\\channel_1693445030793.xlsx', 'C:\\\\Users\\\\buche\\\\Desktop\\\\travail_workspace\\\\ETL_workspace\\\\all_channel_rawdata\\\\2023-08-30\\\\pre_deduction\\\\channel_1693445034632.xlsx', 'C:\\\\Users\\\\buche\\\\Desktop\\\\travail_workspace\\\\ETL_workspace\\\\all_channel_rawdata\\\\2023-08-30\\\\pre_deduction\\\\channel_1693445038312.xlsx', 'C:\\\\Users\\\\buche\\\\Desktop\\\\travail_workspace\\\\ETL_workspace\\\\all_channel_rawdata\\\\2023-08-30\\\\pre_deduction\\\\channel_1693445041425.xlsx', 'C:\\\\Users\\\\buche\\\\Desktop\\\\travail_workspace\\\\ETL_workspace\\\\all_channel_rawdata\\\\2023-08-30\\\\pre_deduction\\\\channel_1693445082201.xlsx'], ['C:\\\\Users\\\\buche\\\\Desktop\\\\travail_workspace\\\\ETL_workspace\\\\all_channel_rawdata\\\\2023-08-31\\\\pre_deduction\\\\channel_1693530748081.xlsx', 'C:\\\\Users\\\\buche\\\\Desktop\\\\travail_workspace\\\\ETL_workspace\\\\all_channel_rawdata\\\\2023-08-31\\\\pre_deduction\\\\channel_1693530752568.xlsx', 'C:\\\\Users\\\\buche\\\\Desktop\\\\travail_workspace\\\\ETL_workspace\\\\all_channel_rawdata\\\\2023-08-31\\\\pre_deduction\\\\channel_1693530756929.xlsx', 'C:\\\\Users\\\\buche\\\\Desktop\\\\travail_workspace\\\\ETL_workspace\\\\all_channel_rawdata\\\\2023-08-31\\\\pre_deduction\\\\channel_1693530760288.xlsx', 'C:\\\\Users\\\\buche\\\\Desktop\\\\travail_workspace\\\\ETL_workspace\\\\all_channel_rawdata\\\\2023-08-31\\\\pre_deduction\\\\channel_1693530772915.xlsx', 'C:\\\\Users\\\\buche\\\\Desktop\\\\travail_workspace\\\\ETL_workspace\\\\all_channel_rawdata\\\\2023-08-31\\\\pre_deduction\\\\channel_1693530868619.xlsx']]\n",
      "[['C:\\\\Users\\\\buche\\\\Desktop\\\\travail_workspace\\\\ETL_workspace\\\\all_channel_rawdata\\\\2023-08-30\\\\pre_deduction\\\\channel_1693445027544.xlsx', 'C:\\\\Users\\\\buche\\\\Desktop\\\\travail_workspace\\\\ETL_workspace\\\\all_channel_rawdata\\\\2023-08-30\\\\pre_deduction\\\\channel_1693445030793.xlsx', 'C:\\\\Users\\\\buche\\\\Desktop\\\\travail_workspace\\\\ETL_workspace\\\\all_channel_rawdata\\\\2023-08-30\\\\pre_deduction\\\\channel_1693445034632.xlsx', 'C:\\\\Users\\\\buche\\\\Desktop\\\\travail_workspace\\\\ETL_workspace\\\\all_channel_rawdata\\\\2023-08-30\\\\pre_deduction\\\\channel_1693445038312.xlsx', 'C:\\\\Users\\\\buche\\\\Desktop\\\\travail_workspace\\\\ETL_workspace\\\\all_channel_rawdata\\\\2023-08-30\\\\pre_deduction\\\\channel_1693445041425.xlsx', 'C:\\\\Users\\\\buche\\\\Desktop\\\\travail_workspace\\\\ETL_workspace\\\\all_channel_rawdata\\\\2023-08-30\\\\pre_deduction\\\\channel_1693445082201.xlsx'], ['C:\\\\Users\\\\buche\\\\Desktop\\\\travail_workspace\\\\ETL_workspace\\\\all_channel_rawdata\\\\2023-08-31\\\\pre_deduction\\\\channel_1693530748081.xlsx', 'C:\\\\Users\\\\buche\\\\Desktop\\\\travail_workspace\\\\ETL_workspace\\\\all_channel_rawdata\\\\2023-08-31\\\\pre_deduction\\\\channel_1693530752568.xlsx', 'C:\\\\Users\\\\buche\\\\Desktop\\\\travail_workspace\\\\ETL_workspace\\\\all_channel_rawdata\\\\2023-08-31\\\\pre_deduction\\\\channel_1693530756929.xlsx', 'C:\\\\Users\\\\buche\\\\Desktop\\\\travail_workspace\\\\ETL_workspace\\\\all_channel_rawdata\\\\2023-08-31\\\\pre_deduction\\\\channel_1693530760288.xlsx', 'C:\\\\Users\\\\buche\\\\Desktop\\\\travail_workspace\\\\ETL_workspace\\\\all_channel_rawdata\\\\2023-08-31\\\\pre_deduction\\\\channel_1693530772915.xlsx', 'C:\\\\Users\\\\buche\\\\Desktop\\\\travail_workspace\\\\ETL_workspace\\\\all_channel_rawdata\\\\2023-08-31\\\\pre_deduction\\\\channel_1693530868619.xlsx'], ['C:\\\\Users\\\\buche\\\\Desktop\\\\travail_workspace\\\\ETL_workspace\\\\all_channel_rawdata\\\\2023-09-01\\\\pre_deduction\\\\channel_1693621055221.xlsx', 'C:\\\\Users\\\\buche\\\\Desktop\\\\travail_workspace\\\\ETL_workspace\\\\all_channel_rawdata\\\\2023-09-01\\\\pre_deduction\\\\channel_1693621059868.xlsx', 'C:\\\\Users\\\\buche\\\\Desktop\\\\travail_workspace\\\\ETL_workspace\\\\all_channel_rawdata\\\\2023-09-01\\\\pre_deduction\\\\channel_1693621063219.xlsx', 'C:\\\\Users\\\\buche\\\\Desktop\\\\travail_workspace\\\\ETL_workspace\\\\all_channel_rawdata\\\\2023-09-01\\\\pre_deduction\\\\channel_1693621067188.xlsx', 'C:\\\\Users\\\\buche\\\\Desktop\\\\travail_workspace\\\\ETL_workspace\\\\all_channel_rawdata\\\\2023-09-01\\\\pre_deduction\\\\channel_1693621070970.xlsx', 'C:\\\\Users\\\\buche\\\\Desktop\\\\travail_workspace\\\\ETL_workspace\\\\all_channel_rawdata\\\\2023-09-01\\\\pre_deduction\\\\channel_1693621080552.xlsx']]\n",
      "[['C:\\\\Users\\\\buche\\\\Desktop\\\\travail_workspace\\\\ETL_workspace\\\\all_channel_rawdata\\\\2023-08-30\\\\pre_deduction\\\\channel_1693445027544.xlsx', 'C:\\\\Users\\\\buche\\\\Desktop\\\\travail_workspace\\\\ETL_workspace\\\\all_channel_rawdata\\\\2023-08-30\\\\pre_deduction\\\\channel_1693445030793.xlsx', 'C:\\\\Users\\\\buche\\\\Desktop\\\\travail_workspace\\\\ETL_workspace\\\\all_channel_rawdata\\\\2023-08-30\\\\pre_deduction\\\\channel_1693445034632.xlsx', 'C:\\\\Users\\\\buche\\\\Desktop\\\\travail_workspace\\\\ETL_workspace\\\\all_channel_rawdata\\\\2023-08-30\\\\pre_deduction\\\\channel_1693445038312.xlsx', 'C:\\\\Users\\\\buche\\\\Desktop\\\\travail_workspace\\\\ETL_workspace\\\\all_channel_rawdata\\\\2023-08-30\\\\pre_deduction\\\\channel_1693445041425.xlsx', 'C:\\\\Users\\\\buche\\\\Desktop\\\\travail_workspace\\\\ETL_workspace\\\\all_channel_rawdata\\\\2023-08-30\\\\pre_deduction\\\\channel_1693445082201.xlsx'], ['C:\\\\Users\\\\buche\\\\Desktop\\\\travail_workspace\\\\ETL_workspace\\\\all_channel_rawdata\\\\2023-08-31\\\\pre_deduction\\\\channel_1693530748081.xlsx', 'C:\\\\Users\\\\buche\\\\Desktop\\\\travail_workspace\\\\ETL_workspace\\\\all_channel_rawdata\\\\2023-08-31\\\\pre_deduction\\\\channel_1693530752568.xlsx', 'C:\\\\Users\\\\buche\\\\Desktop\\\\travail_workspace\\\\ETL_workspace\\\\all_channel_rawdata\\\\2023-08-31\\\\pre_deduction\\\\channel_1693530756929.xlsx', 'C:\\\\Users\\\\buche\\\\Desktop\\\\travail_workspace\\\\ETL_workspace\\\\all_channel_rawdata\\\\2023-08-31\\\\pre_deduction\\\\channel_1693530760288.xlsx', 'C:\\\\Users\\\\buche\\\\Desktop\\\\travail_workspace\\\\ETL_workspace\\\\all_channel_rawdata\\\\2023-08-31\\\\pre_deduction\\\\channel_1693530772915.xlsx', 'C:\\\\Users\\\\buche\\\\Desktop\\\\travail_workspace\\\\ETL_workspace\\\\all_channel_rawdata\\\\2023-08-31\\\\pre_deduction\\\\channel_1693530868619.xlsx'], ['C:\\\\Users\\\\buche\\\\Desktop\\\\travail_workspace\\\\ETL_workspace\\\\all_channel_rawdata\\\\2023-09-01\\\\pre_deduction\\\\channel_1693621055221.xlsx', 'C:\\\\Users\\\\buche\\\\Desktop\\\\travail_workspace\\\\ETL_workspace\\\\all_channel_rawdata\\\\2023-09-01\\\\pre_deduction\\\\channel_1693621059868.xlsx', 'C:\\\\Users\\\\buche\\\\Desktop\\\\travail_workspace\\\\ETL_workspace\\\\all_channel_rawdata\\\\2023-09-01\\\\pre_deduction\\\\channel_1693621063219.xlsx', 'C:\\\\Users\\\\buche\\\\Desktop\\\\travail_workspace\\\\ETL_workspace\\\\all_channel_rawdata\\\\2023-09-01\\\\pre_deduction\\\\channel_1693621067188.xlsx', 'C:\\\\Users\\\\buche\\\\Desktop\\\\travail_workspace\\\\ETL_workspace\\\\all_channel_rawdata\\\\2023-09-01\\\\pre_deduction\\\\channel_1693621070970.xlsx', 'C:\\\\Users\\\\buche\\\\Desktop\\\\travail_workspace\\\\ETL_workspace\\\\all_channel_rawdata\\\\2023-09-01\\\\pre_deduction\\\\channel_1693621080552.xlsx'], ['C:\\\\Users\\\\buche\\\\Desktop\\\\travail_workspace\\\\ETL_workspace\\\\all_channel_rawdata\\\\2023-09-02\\\\pre_deduction\\\\channel_1693677714293.xlsx', 'C:\\\\Users\\\\buche\\\\Desktop\\\\travail_workspace\\\\ETL_workspace\\\\all_channel_rawdata\\\\2023-09-02\\\\pre_deduction\\\\channel_1693677717945.xlsx', 'C:\\\\Users\\\\buche\\\\Desktop\\\\travail_workspace\\\\ETL_workspace\\\\all_channel_rawdata\\\\2023-09-02\\\\pre_deduction\\\\channel_1693677721543.xlsx', 'C:\\\\Users\\\\buche\\\\Desktop\\\\travail_workspace\\\\ETL_workspace\\\\all_channel_rawdata\\\\2023-09-02\\\\pre_deduction\\\\channel_1693677724927.xlsx', 'C:\\\\Users\\\\buche\\\\Desktop\\\\travail_workspace\\\\ETL_workspace\\\\all_channel_rawdata\\\\2023-09-02\\\\pre_deduction\\\\channel_1693677728526.xlsx', 'C:\\\\Users\\\\buche\\\\Desktop\\\\travail_workspace\\\\ETL_workspace\\\\all_channel_rawdata\\\\2023-09-02\\\\pre_deduction\\\\channel_1693677738309.xlsx']]\n",
      "[['C:\\\\Users\\\\buche\\\\Desktop\\\\travail_workspace\\\\ETL_workspace\\\\all_channel_rawdata\\\\2023-08-30\\\\pre_deduction\\\\channel_1693445027544.xlsx', 'C:\\\\Users\\\\buche\\\\Desktop\\\\travail_workspace\\\\ETL_workspace\\\\all_channel_rawdata\\\\2023-08-30\\\\pre_deduction\\\\channel_1693445030793.xlsx', 'C:\\\\Users\\\\buche\\\\Desktop\\\\travail_workspace\\\\ETL_workspace\\\\all_channel_rawdata\\\\2023-08-30\\\\pre_deduction\\\\channel_1693445034632.xlsx', 'C:\\\\Users\\\\buche\\\\Desktop\\\\travail_workspace\\\\ETL_workspace\\\\all_channel_rawdata\\\\2023-08-30\\\\pre_deduction\\\\channel_1693445038312.xlsx', 'C:\\\\Users\\\\buche\\\\Desktop\\\\travail_workspace\\\\ETL_workspace\\\\all_channel_rawdata\\\\2023-08-30\\\\pre_deduction\\\\channel_1693445041425.xlsx', 'C:\\\\Users\\\\buche\\\\Desktop\\\\travail_workspace\\\\ETL_workspace\\\\all_channel_rawdata\\\\2023-08-30\\\\pre_deduction\\\\channel_1693445082201.xlsx'], ['C:\\\\Users\\\\buche\\\\Desktop\\\\travail_workspace\\\\ETL_workspace\\\\all_channel_rawdata\\\\2023-08-31\\\\pre_deduction\\\\channel_1693530748081.xlsx', 'C:\\\\Users\\\\buche\\\\Desktop\\\\travail_workspace\\\\ETL_workspace\\\\all_channel_rawdata\\\\2023-08-31\\\\pre_deduction\\\\channel_1693530752568.xlsx', 'C:\\\\Users\\\\buche\\\\Desktop\\\\travail_workspace\\\\ETL_workspace\\\\all_channel_rawdata\\\\2023-08-31\\\\pre_deduction\\\\channel_1693530756929.xlsx', 'C:\\\\Users\\\\buche\\\\Desktop\\\\travail_workspace\\\\ETL_workspace\\\\all_channel_rawdata\\\\2023-08-31\\\\pre_deduction\\\\channel_1693530760288.xlsx', 'C:\\\\Users\\\\buche\\\\Desktop\\\\travail_workspace\\\\ETL_workspace\\\\all_channel_rawdata\\\\2023-08-31\\\\pre_deduction\\\\channel_1693530772915.xlsx', 'C:\\\\Users\\\\buche\\\\Desktop\\\\travail_workspace\\\\ETL_workspace\\\\all_channel_rawdata\\\\2023-08-31\\\\pre_deduction\\\\channel_1693530868619.xlsx'], ['C:\\\\Users\\\\buche\\\\Desktop\\\\travail_workspace\\\\ETL_workspace\\\\all_channel_rawdata\\\\2023-09-01\\\\pre_deduction\\\\channel_1693621055221.xlsx', 'C:\\\\Users\\\\buche\\\\Desktop\\\\travail_workspace\\\\ETL_workspace\\\\all_channel_rawdata\\\\2023-09-01\\\\pre_deduction\\\\channel_1693621059868.xlsx', 'C:\\\\Users\\\\buche\\\\Desktop\\\\travail_workspace\\\\ETL_workspace\\\\all_channel_rawdata\\\\2023-09-01\\\\pre_deduction\\\\channel_1693621063219.xlsx', 'C:\\\\Users\\\\buche\\\\Desktop\\\\travail_workspace\\\\ETL_workspace\\\\all_channel_rawdata\\\\2023-09-01\\\\pre_deduction\\\\channel_1693621067188.xlsx', 'C:\\\\Users\\\\buche\\\\Desktop\\\\travail_workspace\\\\ETL_workspace\\\\all_channel_rawdata\\\\2023-09-01\\\\pre_deduction\\\\channel_1693621070970.xlsx', 'C:\\\\Users\\\\buche\\\\Desktop\\\\travail_workspace\\\\ETL_workspace\\\\all_channel_rawdata\\\\2023-09-01\\\\pre_deduction\\\\channel_1693621080552.xlsx'], ['C:\\\\Users\\\\buche\\\\Desktop\\\\travail_workspace\\\\ETL_workspace\\\\all_channel_rawdata\\\\2023-09-02\\\\pre_deduction\\\\channel_1693677714293.xlsx', 'C:\\\\Users\\\\buche\\\\Desktop\\\\travail_workspace\\\\ETL_workspace\\\\all_channel_rawdata\\\\2023-09-02\\\\pre_deduction\\\\channel_1693677717945.xlsx', 'C:\\\\Users\\\\buche\\\\Desktop\\\\travail_workspace\\\\ETL_workspace\\\\all_channel_rawdata\\\\2023-09-02\\\\pre_deduction\\\\channel_1693677721543.xlsx', 'C:\\\\Users\\\\buche\\\\Desktop\\\\travail_workspace\\\\ETL_workspace\\\\all_channel_rawdata\\\\2023-09-02\\\\pre_deduction\\\\channel_1693677724927.xlsx', 'C:\\\\Users\\\\buche\\\\Desktop\\\\travail_workspace\\\\ETL_workspace\\\\all_channel_rawdata\\\\2023-09-02\\\\pre_deduction\\\\channel_1693677728526.xlsx', 'C:\\\\Users\\\\buche\\\\Desktop\\\\travail_workspace\\\\ETL_workspace\\\\all_channel_rawdata\\\\2023-09-02\\\\pre_deduction\\\\channel_1693677738309.xlsx'], ['C:\\\\Users\\\\buche\\\\Desktop\\\\travail_workspace\\\\ETL_workspace\\\\all_channel_rawdata\\\\2023-09-03\\\\pre_deduction\\\\channel_1693790094405.xlsx', 'C:\\\\Users\\\\buche\\\\Desktop\\\\travail_workspace\\\\ETL_workspace\\\\all_channel_rawdata\\\\2023-09-03\\\\pre_deduction\\\\channel_1693790098355.xlsx', 'C:\\\\Users\\\\buche\\\\Desktop\\\\travail_workspace\\\\ETL_workspace\\\\all_channel_rawdata\\\\2023-09-03\\\\pre_deduction\\\\channel_1693790101443.xlsx', 'C:\\\\Users\\\\buche\\\\Desktop\\\\travail_workspace\\\\ETL_workspace\\\\all_channel_rawdata\\\\2023-09-03\\\\pre_deduction\\\\channel_1693790104325.xlsx', 'C:\\\\Users\\\\buche\\\\Desktop\\\\travail_workspace\\\\ETL_workspace\\\\all_channel_rawdata\\\\2023-09-03\\\\pre_deduction\\\\channel_1693790107076.xlsx', 'C:\\\\Users\\\\buche\\\\Desktop\\\\travail_workspace\\\\ETL_workspace\\\\all_channel_rawdata\\\\2023-09-03\\\\pre_deduction\\\\channel_1693790238317.xlsx']]\n",
      "[['C:\\\\Users\\\\buche\\\\Desktop\\\\travail_workspace\\\\ETL_workspace\\\\all_channel_rawdata\\\\2023-08-30\\\\pre_deduction\\\\channel_1693445027544.xlsx', 'C:\\\\Users\\\\buche\\\\Desktop\\\\travail_workspace\\\\ETL_workspace\\\\all_channel_rawdata\\\\2023-08-30\\\\pre_deduction\\\\channel_1693445030793.xlsx', 'C:\\\\Users\\\\buche\\\\Desktop\\\\travail_workspace\\\\ETL_workspace\\\\all_channel_rawdata\\\\2023-08-30\\\\pre_deduction\\\\channel_1693445034632.xlsx', 'C:\\\\Users\\\\buche\\\\Desktop\\\\travail_workspace\\\\ETL_workspace\\\\all_channel_rawdata\\\\2023-08-30\\\\pre_deduction\\\\channel_1693445038312.xlsx', 'C:\\\\Users\\\\buche\\\\Desktop\\\\travail_workspace\\\\ETL_workspace\\\\all_channel_rawdata\\\\2023-08-30\\\\pre_deduction\\\\channel_1693445041425.xlsx', 'C:\\\\Users\\\\buche\\\\Desktop\\\\travail_workspace\\\\ETL_workspace\\\\all_channel_rawdata\\\\2023-08-30\\\\pre_deduction\\\\channel_1693445082201.xlsx'], ['C:\\\\Users\\\\buche\\\\Desktop\\\\travail_workspace\\\\ETL_workspace\\\\all_channel_rawdata\\\\2023-08-31\\\\pre_deduction\\\\channel_1693530748081.xlsx', 'C:\\\\Users\\\\buche\\\\Desktop\\\\travail_workspace\\\\ETL_workspace\\\\all_channel_rawdata\\\\2023-08-31\\\\pre_deduction\\\\channel_1693530752568.xlsx', 'C:\\\\Users\\\\buche\\\\Desktop\\\\travail_workspace\\\\ETL_workspace\\\\all_channel_rawdata\\\\2023-08-31\\\\pre_deduction\\\\channel_1693530756929.xlsx', 'C:\\\\Users\\\\buche\\\\Desktop\\\\travail_workspace\\\\ETL_workspace\\\\all_channel_rawdata\\\\2023-08-31\\\\pre_deduction\\\\channel_1693530760288.xlsx', 'C:\\\\Users\\\\buche\\\\Desktop\\\\travail_workspace\\\\ETL_workspace\\\\all_channel_rawdata\\\\2023-08-31\\\\pre_deduction\\\\channel_1693530772915.xlsx', 'C:\\\\Users\\\\buche\\\\Desktop\\\\travail_workspace\\\\ETL_workspace\\\\all_channel_rawdata\\\\2023-08-31\\\\pre_deduction\\\\channel_1693530868619.xlsx'], ['C:\\\\Users\\\\buche\\\\Desktop\\\\travail_workspace\\\\ETL_workspace\\\\all_channel_rawdata\\\\2023-09-01\\\\pre_deduction\\\\channel_1693621055221.xlsx', 'C:\\\\Users\\\\buche\\\\Desktop\\\\travail_workspace\\\\ETL_workspace\\\\all_channel_rawdata\\\\2023-09-01\\\\pre_deduction\\\\channel_1693621059868.xlsx', 'C:\\\\Users\\\\buche\\\\Desktop\\\\travail_workspace\\\\ETL_workspace\\\\all_channel_rawdata\\\\2023-09-01\\\\pre_deduction\\\\channel_1693621063219.xlsx', 'C:\\\\Users\\\\buche\\\\Desktop\\\\travail_workspace\\\\ETL_workspace\\\\all_channel_rawdata\\\\2023-09-01\\\\pre_deduction\\\\channel_1693621067188.xlsx', 'C:\\\\Users\\\\buche\\\\Desktop\\\\travail_workspace\\\\ETL_workspace\\\\all_channel_rawdata\\\\2023-09-01\\\\pre_deduction\\\\channel_1693621070970.xlsx', 'C:\\\\Users\\\\buche\\\\Desktop\\\\travail_workspace\\\\ETL_workspace\\\\all_channel_rawdata\\\\2023-09-01\\\\pre_deduction\\\\channel_1693621080552.xlsx'], ['C:\\\\Users\\\\buche\\\\Desktop\\\\travail_workspace\\\\ETL_workspace\\\\all_channel_rawdata\\\\2023-09-02\\\\pre_deduction\\\\channel_1693677714293.xlsx', 'C:\\\\Users\\\\buche\\\\Desktop\\\\travail_workspace\\\\ETL_workspace\\\\all_channel_rawdata\\\\2023-09-02\\\\pre_deduction\\\\channel_1693677717945.xlsx', 'C:\\\\Users\\\\buche\\\\Desktop\\\\travail_workspace\\\\ETL_workspace\\\\all_channel_rawdata\\\\2023-09-02\\\\pre_deduction\\\\channel_1693677721543.xlsx', 'C:\\\\Users\\\\buche\\\\Desktop\\\\travail_workspace\\\\ETL_workspace\\\\all_channel_rawdata\\\\2023-09-02\\\\pre_deduction\\\\channel_1693677724927.xlsx', 'C:\\\\Users\\\\buche\\\\Desktop\\\\travail_workspace\\\\ETL_workspace\\\\all_channel_rawdata\\\\2023-09-02\\\\pre_deduction\\\\channel_1693677728526.xlsx', 'C:\\\\Users\\\\buche\\\\Desktop\\\\travail_workspace\\\\ETL_workspace\\\\all_channel_rawdata\\\\2023-09-02\\\\pre_deduction\\\\channel_1693677738309.xlsx'], ['C:\\\\Users\\\\buche\\\\Desktop\\\\travail_workspace\\\\ETL_workspace\\\\all_channel_rawdata\\\\2023-09-03\\\\pre_deduction\\\\channel_1693790094405.xlsx', 'C:\\\\Users\\\\buche\\\\Desktop\\\\travail_workspace\\\\ETL_workspace\\\\all_channel_rawdata\\\\2023-09-03\\\\pre_deduction\\\\channel_1693790098355.xlsx', 'C:\\\\Users\\\\buche\\\\Desktop\\\\travail_workspace\\\\ETL_workspace\\\\all_channel_rawdata\\\\2023-09-03\\\\pre_deduction\\\\channel_1693790101443.xlsx', 'C:\\\\Users\\\\buche\\\\Desktop\\\\travail_workspace\\\\ETL_workspace\\\\all_channel_rawdata\\\\2023-09-03\\\\pre_deduction\\\\channel_1693790104325.xlsx', 'C:\\\\Users\\\\buche\\\\Desktop\\\\travail_workspace\\\\ETL_workspace\\\\all_channel_rawdata\\\\2023-09-03\\\\pre_deduction\\\\channel_1693790107076.xlsx', 'C:\\\\Users\\\\buche\\\\Desktop\\\\travail_workspace\\\\ETL_workspace\\\\all_channel_rawdata\\\\2023-09-03\\\\pre_deduction\\\\channel_1693790238317.xlsx'], ['C:\\\\Users\\\\buche\\\\Desktop\\\\travail_workspace\\\\ETL_workspace\\\\all_channel_rawdata\\\\2023-09-04\\\\pre_deduction\\\\channel_1693876067340.xlsx', 'C:\\\\Users\\\\buche\\\\Desktop\\\\travail_workspace\\\\ETL_workspace\\\\all_channel_rawdata\\\\2023-09-04\\\\pre_deduction\\\\channel_1693876072996.xlsx', 'C:\\\\Users\\\\buche\\\\Desktop\\\\travail_workspace\\\\ETL_workspace\\\\all_channel_rawdata\\\\2023-09-04\\\\pre_deduction\\\\channel_1693876076291.xlsx', 'C:\\\\Users\\\\buche\\\\Desktop\\\\travail_workspace\\\\ETL_workspace\\\\all_channel_rawdata\\\\2023-09-04\\\\pre_deduction\\\\channel_1693876079228.xlsx', 'C:\\\\Users\\\\buche\\\\Desktop\\\\travail_workspace\\\\ETL_workspace\\\\all_channel_rawdata\\\\2023-09-04\\\\pre_deduction\\\\channel_1693876082549.xlsx', 'C:\\\\Users\\\\buche\\\\Desktop\\\\travail_workspace\\\\ETL_workspace\\\\all_channel_rawdata\\\\2023-09-04\\\\pre_deduction\\\\channel_1693876189813.xlsx']]\n",
      "[['C:\\\\Users\\\\buche\\\\Desktop\\\\travail_workspace\\\\ETL_workspace\\\\all_channel_rawdata\\\\2023-08-30\\\\pre_deduction\\\\channel_1693445027544.xlsx', 'C:\\\\Users\\\\buche\\\\Desktop\\\\travail_workspace\\\\ETL_workspace\\\\all_channel_rawdata\\\\2023-08-30\\\\pre_deduction\\\\channel_1693445030793.xlsx', 'C:\\\\Users\\\\buche\\\\Desktop\\\\travail_workspace\\\\ETL_workspace\\\\all_channel_rawdata\\\\2023-08-30\\\\pre_deduction\\\\channel_1693445034632.xlsx', 'C:\\\\Users\\\\buche\\\\Desktop\\\\travail_workspace\\\\ETL_workspace\\\\all_channel_rawdata\\\\2023-08-30\\\\pre_deduction\\\\channel_1693445038312.xlsx', 'C:\\\\Users\\\\buche\\\\Desktop\\\\travail_workspace\\\\ETL_workspace\\\\all_channel_rawdata\\\\2023-08-30\\\\pre_deduction\\\\channel_1693445041425.xlsx', 'C:\\\\Users\\\\buche\\\\Desktop\\\\travail_workspace\\\\ETL_workspace\\\\all_channel_rawdata\\\\2023-08-30\\\\pre_deduction\\\\channel_1693445082201.xlsx'], ['C:\\\\Users\\\\buche\\\\Desktop\\\\travail_workspace\\\\ETL_workspace\\\\all_channel_rawdata\\\\2023-08-31\\\\pre_deduction\\\\channel_1693530748081.xlsx', 'C:\\\\Users\\\\buche\\\\Desktop\\\\travail_workspace\\\\ETL_workspace\\\\all_channel_rawdata\\\\2023-08-31\\\\pre_deduction\\\\channel_1693530752568.xlsx', 'C:\\\\Users\\\\buche\\\\Desktop\\\\travail_workspace\\\\ETL_workspace\\\\all_channel_rawdata\\\\2023-08-31\\\\pre_deduction\\\\channel_1693530756929.xlsx', 'C:\\\\Users\\\\buche\\\\Desktop\\\\travail_workspace\\\\ETL_workspace\\\\all_channel_rawdata\\\\2023-08-31\\\\pre_deduction\\\\channel_1693530760288.xlsx', 'C:\\\\Users\\\\buche\\\\Desktop\\\\travail_workspace\\\\ETL_workspace\\\\all_channel_rawdata\\\\2023-08-31\\\\pre_deduction\\\\channel_1693530772915.xlsx', 'C:\\\\Users\\\\buche\\\\Desktop\\\\travail_workspace\\\\ETL_workspace\\\\all_channel_rawdata\\\\2023-08-31\\\\pre_deduction\\\\channel_1693530868619.xlsx'], ['C:\\\\Users\\\\buche\\\\Desktop\\\\travail_workspace\\\\ETL_workspace\\\\all_channel_rawdata\\\\2023-09-01\\\\pre_deduction\\\\channel_1693621055221.xlsx', 'C:\\\\Users\\\\buche\\\\Desktop\\\\travail_workspace\\\\ETL_workspace\\\\all_channel_rawdata\\\\2023-09-01\\\\pre_deduction\\\\channel_1693621059868.xlsx', 'C:\\\\Users\\\\buche\\\\Desktop\\\\travail_workspace\\\\ETL_workspace\\\\all_channel_rawdata\\\\2023-09-01\\\\pre_deduction\\\\channel_1693621063219.xlsx', 'C:\\\\Users\\\\buche\\\\Desktop\\\\travail_workspace\\\\ETL_workspace\\\\all_channel_rawdata\\\\2023-09-01\\\\pre_deduction\\\\channel_1693621067188.xlsx', 'C:\\\\Users\\\\buche\\\\Desktop\\\\travail_workspace\\\\ETL_workspace\\\\all_channel_rawdata\\\\2023-09-01\\\\pre_deduction\\\\channel_1693621070970.xlsx', 'C:\\\\Users\\\\buche\\\\Desktop\\\\travail_workspace\\\\ETL_workspace\\\\all_channel_rawdata\\\\2023-09-01\\\\pre_deduction\\\\channel_1693621080552.xlsx'], ['C:\\\\Users\\\\buche\\\\Desktop\\\\travail_workspace\\\\ETL_workspace\\\\all_channel_rawdata\\\\2023-09-02\\\\pre_deduction\\\\channel_1693677714293.xlsx', 'C:\\\\Users\\\\buche\\\\Desktop\\\\travail_workspace\\\\ETL_workspace\\\\all_channel_rawdata\\\\2023-09-02\\\\pre_deduction\\\\channel_1693677717945.xlsx', 'C:\\\\Users\\\\buche\\\\Desktop\\\\travail_workspace\\\\ETL_workspace\\\\all_channel_rawdata\\\\2023-09-02\\\\pre_deduction\\\\channel_1693677721543.xlsx', 'C:\\\\Users\\\\buche\\\\Desktop\\\\travail_workspace\\\\ETL_workspace\\\\all_channel_rawdata\\\\2023-09-02\\\\pre_deduction\\\\channel_1693677724927.xlsx', 'C:\\\\Users\\\\buche\\\\Desktop\\\\travail_workspace\\\\ETL_workspace\\\\all_channel_rawdata\\\\2023-09-02\\\\pre_deduction\\\\channel_1693677728526.xlsx', 'C:\\\\Users\\\\buche\\\\Desktop\\\\travail_workspace\\\\ETL_workspace\\\\all_channel_rawdata\\\\2023-09-02\\\\pre_deduction\\\\channel_1693677738309.xlsx'], ['C:\\\\Users\\\\buche\\\\Desktop\\\\travail_workspace\\\\ETL_workspace\\\\all_channel_rawdata\\\\2023-09-03\\\\pre_deduction\\\\channel_1693790094405.xlsx', 'C:\\\\Users\\\\buche\\\\Desktop\\\\travail_workspace\\\\ETL_workspace\\\\all_channel_rawdata\\\\2023-09-03\\\\pre_deduction\\\\channel_1693790098355.xlsx', 'C:\\\\Users\\\\buche\\\\Desktop\\\\travail_workspace\\\\ETL_workspace\\\\all_channel_rawdata\\\\2023-09-03\\\\pre_deduction\\\\channel_1693790101443.xlsx', 'C:\\\\Users\\\\buche\\\\Desktop\\\\travail_workspace\\\\ETL_workspace\\\\all_channel_rawdata\\\\2023-09-03\\\\pre_deduction\\\\channel_1693790104325.xlsx', 'C:\\\\Users\\\\buche\\\\Desktop\\\\travail_workspace\\\\ETL_workspace\\\\all_channel_rawdata\\\\2023-09-03\\\\pre_deduction\\\\channel_1693790107076.xlsx', 'C:\\\\Users\\\\buche\\\\Desktop\\\\travail_workspace\\\\ETL_workspace\\\\all_channel_rawdata\\\\2023-09-03\\\\pre_deduction\\\\channel_1693790238317.xlsx'], ['C:\\\\Users\\\\buche\\\\Desktop\\\\travail_workspace\\\\ETL_workspace\\\\all_channel_rawdata\\\\2023-09-04\\\\pre_deduction\\\\channel_1693876067340.xlsx', 'C:\\\\Users\\\\buche\\\\Desktop\\\\travail_workspace\\\\ETL_workspace\\\\all_channel_rawdata\\\\2023-09-04\\\\pre_deduction\\\\channel_1693876072996.xlsx', 'C:\\\\Users\\\\buche\\\\Desktop\\\\travail_workspace\\\\ETL_workspace\\\\all_channel_rawdata\\\\2023-09-04\\\\pre_deduction\\\\channel_1693876076291.xlsx', 'C:\\\\Users\\\\buche\\\\Desktop\\\\travail_workspace\\\\ETL_workspace\\\\all_channel_rawdata\\\\2023-09-04\\\\pre_deduction\\\\channel_1693876079228.xlsx', 'C:\\\\Users\\\\buche\\\\Desktop\\\\travail_workspace\\\\ETL_workspace\\\\all_channel_rawdata\\\\2023-09-04\\\\pre_deduction\\\\channel_1693876082549.xlsx', 'C:\\\\Users\\\\buche\\\\Desktop\\\\travail_workspace\\\\ETL_workspace\\\\all_channel_rawdata\\\\2023-09-04\\\\pre_deduction\\\\channel_1693876189813.xlsx'], ['C:\\\\Users\\\\buche\\\\Desktop\\\\travail_workspace\\\\ETL_workspace\\\\all_channel_rawdata\\\\2023-09-05\\\\pre_deduction\\\\channel_1693962573405.xlsx', 'C:\\\\Users\\\\buche\\\\Desktop\\\\travail_workspace\\\\ETL_workspace\\\\all_channel_rawdata\\\\2023-09-05\\\\pre_deduction\\\\channel_1693962581013.xlsx', 'C:\\\\Users\\\\buche\\\\Desktop\\\\travail_workspace\\\\ETL_workspace\\\\all_channel_rawdata\\\\2023-09-05\\\\pre_deduction\\\\channel_1693962584054.xlsx', 'C:\\\\Users\\\\buche\\\\Desktop\\\\travail_workspace\\\\ETL_workspace\\\\all_channel_rawdata\\\\2023-09-05\\\\pre_deduction\\\\channel_1693962587293.xlsx', 'C:\\\\Users\\\\buche\\\\Desktop\\\\travail_workspace\\\\ETL_workspace\\\\all_channel_rawdata\\\\2023-09-05\\\\pre_deduction\\\\channel_1693962590638.xlsx', 'C:\\\\Users\\\\buche\\\\Desktop\\\\travail_workspace\\\\ETL_workspace\\\\all_channel_rawdata\\\\2023-09-05\\\\pre_deduction\\\\channel_1693962636320.xlsx']]\n"
     ]
    }
   ],
   "source": [
    "#for 0725 all_channel_data\n",
    "namelist=[]\n",
    "for name in date_range:\n",
    "    files_path = glob(\"C:\\\\Users\\\\buche\\\\Desktop\\\\travail_workspace\\\\ETL_workspace\\\\all_channel_rawdata\\\\\" + name + \"\\\\pre_deduction\\\\channel_*.xlsx\")\n",
    "    # files_path = glob(\"D:\\\\Desktop\\\\travail_workspace\\\\ETL_workspace\\\\all_channel_rawdata\\\\\" + name + \"\\\\pre_deduction\\\\channel_*.xlsx\")\n",
    "    namelist.append(files_path)\n",
    "    print(namelist)"
   ]
  },
  {
   "cell_type": "code",
   "execution_count": 7,
   "id": "b5b3f96e-e050-4219-99fc-bf8535dae461",
   "metadata": {
    "tags": []
   },
   "outputs": [],
   "source": [
    "namelist = [i for name in namelist for i in name]"
   ]
  },
  {
   "cell_type": "code",
   "execution_count": 8,
   "id": "62bdff19-1b1e-4206-946e-bf5d22150395",
   "metadata": {
    "tags": []
   },
   "outputs": [
    {
     "name": "stderr",
     "output_type": "stream",
     "text": [
      "C:\\Users\\buche\\anaconda3\\Lib\\site-packages\\openpyxl\\styles\\stylesheet.py:226: UserWarning: Workbook contains no default style, apply openpyxl's default\n",
      "  warn(\"Workbook contains no default style, apply openpyxl's default\")\n",
      "C:\\Users\\buche\\AppData\\Local\\Temp\\ipykernel_15364\\3806756923.py:5: FutureWarning: The frame.append method is deprecated and will be removed from pandas in a future version. Use pandas.concat instead.\n",
      "  all_ch = all_ch.append(df, ignore_index=True)\n",
      "C:\\Users\\buche\\anaconda3\\Lib\\site-packages\\openpyxl\\styles\\stylesheet.py:226: UserWarning: Workbook contains no default style, apply openpyxl's default\n",
      "  warn(\"Workbook contains no default style, apply openpyxl's default\")\n",
      "C:\\Users\\buche\\AppData\\Local\\Temp\\ipykernel_15364\\3806756923.py:5: FutureWarning: The frame.append method is deprecated and will be removed from pandas in a future version. Use pandas.concat instead.\n",
      "  all_ch = all_ch.append(df, ignore_index=True)\n",
      "C:\\Users\\buche\\anaconda3\\Lib\\site-packages\\openpyxl\\styles\\stylesheet.py:226: UserWarning: Workbook contains no default style, apply openpyxl's default\n",
      "  warn(\"Workbook contains no default style, apply openpyxl's default\")\n",
      "C:\\Users\\buche\\AppData\\Local\\Temp\\ipykernel_15364\\3806756923.py:5: FutureWarning: The frame.append method is deprecated and will be removed from pandas in a future version. Use pandas.concat instead.\n",
      "  all_ch = all_ch.append(df, ignore_index=True)\n",
      "C:\\Users\\buche\\anaconda3\\Lib\\site-packages\\openpyxl\\styles\\stylesheet.py:226: UserWarning: Workbook contains no default style, apply openpyxl's default\n",
      "  warn(\"Workbook contains no default style, apply openpyxl's default\")\n",
      "C:\\Users\\buche\\AppData\\Local\\Temp\\ipykernel_15364\\3806756923.py:5: FutureWarning: The frame.append method is deprecated and will be removed from pandas in a future version. Use pandas.concat instead.\n",
      "  all_ch = all_ch.append(df, ignore_index=True)\n",
      "C:\\Users\\buche\\anaconda3\\Lib\\site-packages\\openpyxl\\styles\\stylesheet.py:226: UserWarning: Workbook contains no default style, apply openpyxl's default\n",
      "  warn(\"Workbook contains no default style, apply openpyxl's default\")\n",
      "C:\\Users\\buche\\AppData\\Local\\Temp\\ipykernel_15364\\3806756923.py:5: FutureWarning: The frame.append method is deprecated and will be removed from pandas in a future version. Use pandas.concat instead.\n",
      "  all_ch = all_ch.append(df, ignore_index=True)\n",
      "C:\\Users\\buche\\anaconda3\\Lib\\site-packages\\openpyxl\\styles\\stylesheet.py:226: UserWarning: Workbook contains no default style, apply openpyxl's default\n",
      "  warn(\"Workbook contains no default style, apply openpyxl's default\")\n",
      "C:\\Users\\buche\\AppData\\Local\\Temp\\ipykernel_15364\\3806756923.py:5: FutureWarning: The frame.append method is deprecated and will be removed from pandas in a future version. Use pandas.concat instead.\n",
      "  all_ch = all_ch.append(df, ignore_index=True)\n",
      "C:\\Users\\buche\\anaconda3\\Lib\\site-packages\\openpyxl\\styles\\stylesheet.py:226: UserWarning: Workbook contains no default style, apply openpyxl's default\n",
      "  warn(\"Workbook contains no default style, apply openpyxl's default\")\n",
      "C:\\Users\\buche\\AppData\\Local\\Temp\\ipykernel_15364\\3806756923.py:5: FutureWarning: The frame.append method is deprecated and will be removed from pandas in a future version. Use pandas.concat instead.\n",
      "  all_ch = all_ch.append(df, ignore_index=True)\n",
      "C:\\Users\\buche\\anaconda3\\Lib\\site-packages\\openpyxl\\styles\\stylesheet.py:226: UserWarning: Workbook contains no default style, apply openpyxl's default\n",
      "  warn(\"Workbook contains no default style, apply openpyxl's default\")\n",
      "C:\\Users\\buche\\AppData\\Local\\Temp\\ipykernel_15364\\3806756923.py:5: FutureWarning: The frame.append method is deprecated and will be removed from pandas in a future version. Use pandas.concat instead.\n",
      "  all_ch = all_ch.append(df, ignore_index=True)\n",
      "C:\\Users\\buche\\anaconda3\\Lib\\site-packages\\openpyxl\\styles\\stylesheet.py:226: UserWarning: Workbook contains no default style, apply openpyxl's default\n",
      "  warn(\"Workbook contains no default style, apply openpyxl's default\")\n",
      "C:\\Users\\buche\\AppData\\Local\\Temp\\ipykernel_15364\\3806756923.py:5: FutureWarning: The frame.append method is deprecated and will be removed from pandas in a future version. Use pandas.concat instead.\n",
      "  all_ch = all_ch.append(df, ignore_index=True)\n",
      "C:\\Users\\buche\\anaconda3\\Lib\\site-packages\\openpyxl\\styles\\stylesheet.py:226: UserWarning: Workbook contains no default style, apply openpyxl's default\n",
      "  warn(\"Workbook contains no default style, apply openpyxl's default\")\n",
      "C:\\Users\\buche\\AppData\\Local\\Temp\\ipykernel_15364\\3806756923.py:5: FutureWarning: The frame.append method is deprecated and will be removed from pandas in a future version. Use pandas.concat instead.\n",
      "  all_ch = all_ch.append(df, ignore_index=True)\n",
      "C:\\Users\\buche\\anaconda3\\Lib\\site-packages\\openpyxl\\styles\\stylesheet.py:226: UserWarning: Workbook contains no default style, apply openpyxl's default\n",
      "  warn(\"Workbook contains no default style, apply openpyxl's default\")\n",
      "C:\\Users\\buche\\AppData\\Local\\Temp\\ipykernel_15364\\3806756923.py:5: FutureWarning: The frame.append method is deprecated and will be removed from pandas in a future version. Use pandas.concat instead.\n",
      "  all_ch = all_ch.append(df, ignore_index=True)\n",
      "C:\\Users\\buche\\anaconda3\\Lib\\site-packages\\openpyxl\\styles\\stylesheet.py:226: UserWarning: Workbook contains no default style, apply openpyxl's default\n",
      "  warn(\"Workbook contains no default style, apply openpyxl's default\")\n",
      "C:\\Users\\buche\\AppData\\Local\\Temp\\ipykernel_15364\\3806756923.py:5: FutureWarning: The frame.append method is deprecated and will be removed from pandas in a future version. Use pandas.concat instead.\n",
      "  all_ch = all_ch.append(df, ignore_index=True)\n",
      "C:\\Users\\buche\\anaconda3\\Lib\\site-packages\\openpyxl\\styles\\stylesheet.py:226: UserWarning: Workbook contains no default style, apply openpyxl's default\n",
      "  warn(\"Workbook contains no default style, apply openpyxl's default\")\n",
      "C:\\Users\\buche\\AppData\\Local\\Temp\\ipykernel_15364\\3806756923.py:5: FutureWarning: The frame.append method is deprecated and will be removed from pandas in a future version. Use pandas.concat instead.\n",
      "  all_ch = all_ch.append(df, ignore_index=True)\n",
      "C:\\Users\\buche\\anaconda3\\Lib\\site-packages\\openpyxl\\styles\\stylesheet.py:226: UserWarning: Workbook contains no default style, apply openpyxl's default\n",
      "  warn(\"Workbook contains no default style, apply openpyxl's default\")\n",
      "C:\\Users\\buche\\AppData\\Local\\Temp\\ipykernel_15364\\3806756923.py:5: FutureWarning: The frame.append method is deprecated and will be removed from pandas in a future version. Use pandas.concat instead.\n",
      "  all_ch = all_ch.append(df, ignore_index=True)\n",
      "C:\\Users\\buche\\anaconda3\\Lib\\site-packages\\openpyxl\\styles\\stylesheet.py:226: UserWarning: Workbook contains no default style, apply openpyxl's default\n",
      "  warn(\"Workbook contains no default style, apply openpyxl's default\")\n",
      "C:\\Users\\buche\\AppData\\Local\\Temp\\ipykernel_15364\\3806756923.py:5: FutureWarning: The frame.append method is deprecated and will be removed from pandas in a future version. Use pandas.concat instead.\n",
      "  all_ch = all_ch.append(df, ignore_index=True)\n",
      "C:\\Users\\buche\\anaconda3\\Lib\\site-packages\\openpyxl\\styles\\stylesheet.py:226: UserWarning: Workbook contains no default style, apply openpyxl's default\n",
      "  warn(\"Workbook contains no default style, apply openpyxl's default\")\n",
      "C:\\Users\\buche\\AppData\\Local\\Temp\\ipykernel_15364\\3806756923.py:5: FutureWarning: The frame.append method is deprecated and will be removed from pandas in a future version. Use pandas.concat instead.\n",
      "  all_ch = all_ch.append(df, ignore_index=True)\n",
      "C:\\Users\\buche\\anaconda3\\Lib\\site-packages\\openpyxl\\styles\\stylesheet.py:226: UserWarning: Workbook contains no default style, apply openpyxl's default\n",
      "  warn(\"Workbook contains no default style, apply openpyxl's default\")\n",
      "C:\\Users\\buche\\AppData\\Local\\Temp\\ipykernel_15364\\3806756923.py:5: FutureWarning: The frame.append method is deprecated and will be removed from pandas in a future version. Use pandas.concat instead.\n",
      "  all_ch = all_ch.append(df, ignore_index=True)\n",
      "C:\\Users\\buche\\anaconda3\\Lib\\site-packages\\openpyxl\\styles\\stylesheet.py:226: UserWarning: Workbook contains no default style, apply openpyxl's default\n",
      "  warn(\"Workbook contains no default style, apply openpyxl's default\")\n",
      "C:\\Users\\buche\\AppData\\Local\\Temp\\ipykernel_15364\\3806756923.py:5: FutureWarning: The frame.append method is deprecated and will be removed from pandas in a future version. Use pandas.concat instead.\n",
      "  all_ch = all_ch.append(df, ignore_index=True)\n",
      "C:\\Users\\buche\\anaconda3\\Lib\\site-packages\\openpyxl\\styles\\stylesheet.py:226: UserWarning: Workbook contains no default style, apply openpyxl's default\n",
      "  warn(\"Workbook contains no default style, apply openpyxl's default\")\n",
      "C:\\Users\\buche\\AppData\\Local\\Temp\\ipykernel_15364\\3806756923.py:5: FutureWarning: The frame.append method is deprecated and will be removed from pandas in a future version. Use pandas.concat instead.\n",
      "  all_ch = all_ch.append(df, ignore_index=True)\n",
      "C:\\Users\\buche\\anaconda3\\Lib\\site-packages\\openpyxl\\styles\\stylesheet.py:226: UserWarning: Workbook contains no default style, apply openpyxl's default\n",
      "  warn(\"Workbook contains no default style, apply openpyxl's default\")\n",
      "C:\\Users\\buche\\AppData\\Local\\Temp\\ipykernel_15364\\3806756923.py:5: FutureWarning: The frame.append method is deprecated and will be removed from pandas in a future version. Use pandas.concat instead.\n",
      "  all_ch = all_ch.append(df, ignore_index=True)\n",
      "C:\\Users\\buche\\anaconda3\\Lib\\site-packages\\openpyxl\\styles\\stylesheet.py:226: UserWarning: Workbook contains no default style, apply openpyxl's default\n",
      "  warn(\"Workbook contains no default style, apply openpyxl's default\")\n",
      "C:\\Users\\buche\\AppData\\Local\\Temp\\ipykernel_15364\\3806756923.py:5: FutureWarning: The frame.append method is deprecated and will be removed from pandas in a future version. Use pandas.concat instead.\n",
      "  all_ch = all_ch.append(df, ignore_index=True)\n",
      "C:\\Users\\buche\\anaconda3\\Lib\\site-packages\\openpyxl\\styles\\stylesheet.py:226: UserWarning: Workbook contains no default style, apply openpyxl's default\n",
      "  warn(\"Workbook contains no default style, apply openpyxl's default\")\n",
      "C:\\Users\\buche\\AppData\\Local\\Temp\\ipykernel_15364\\3806756923.py:5: FutureWarning: The frame.append method is deprecated and will be removed from pandas in a future version. Use pandas.concat instead.\n",
      "  all_ch = all_ch.append(df, ignore_index=True)\n",
      "C:\\Users\\buche\\anaconda3\\Lib\\site-packages\\openpyxl\\styles\\stylesheet.py:226: UserWarning: Workbook contains no default style, apply openpyxl's default\n",
      "  warn(\"Workbook contains no default style, apply openpyxl's default\")\n",
      "C:\\Users\\buche\\AppData\\Local\\Temp\\ipykernel_15364\\3806756923.py:5: FutureWarning: The frame.append method is deprecated and will be removed from pandas in a future version. Use pandas.concat instead.\n",
      "  all_ch = all_ch.append(df, ignore_index=True)\n",
      "C:\\Users\\buche\\anaconda3\\Lib\\site-packages\\openpyxl\\styles\\stylesheet.py:226: UserWarning: Workbook contains no default style, apply openpyxl's default\n",
      "  warn(\"Workbook contains no default style, apply openpyxl's default\")\n",
      "C:\\Users\\buche\\AppData\\Local\\Temp\\ipykernel_15364\\3806756923.py:5: FutureWarning: The frame.append method is deprecated and will be removed from pandas in a future version. Use pandas.concat instead.\n",
      "  all_ch = all_ch.append(df, ignore_index=True)\n",
      "C:\\Users\\buche\\anaconda3\\Lib\\site-packages\\openpyxl\\styles\\stylesheet.py:226: UserWarning: Workbook contains no default style, apply openpyxl's default\n",
      "  warn(\"Workbook contains no default style, apply openpyxl's default\")\n",
      "C:\\Users\\buche\\AppData\\Local\\Temp\\ipykernel_15364\\3806756923.py:5: FutureWarning: The frame.append method is deprecated and will be removed from pandas in a future version. Use pandas.concat instead.\n",
      "  all_ch = all_ch.append(df, ignore_index=True)\n",
      "C:\\Users\\buche\\anaconda3\\Lib\\site-packages\\openpyxl\\styles\\stylesheet.py:226: UserWarning: Workbook contains no default style, apply openpyxl's default\n",
      "  warn(\"Workbook contains no default style, apply openpyxl's default\")\n",
      "C:\\Users\\buche\\AppData\\Local\\Temp\\ipykernel_15364\\3806756923.py:5: FutureWarning: The frame.append method is deprecated and will be removed from pandas in a future version. Use pandas.concat instead.\n",
      "  all_ch = all_ch.append(df, ignore_index=True)\n",
      "C:\\Users\\buche\\anaconda3\\Lib\\site-packages\\openpyxl\\styles\\stylesheet.py:226: UserWarning: Workbook contains no default style, apply openpyxl's default\n",
      "  warn(\"Workbook contains no default style, apply openpyxl's default\")\n",
      "C:\\Users\\buche\\AppData\\Local\\Temp\\ipykernel_15364\\3806756923.py:5: FutureWarning: The frame.append method is deprecated and will be removed from pandas in a future version. Use pandas.concat instead.\n",
      "  all_ch = all_ch.append(df, ignore_index=True)\n",
      "C:\\Users\\buche\\anaconda3\\Lib\\site-packages\\openpyxl\\styles\\stylesheet.py:226: UserWarning: Workbook contains no default style, apply openpyxl's default\n",
      "  warn(\"Workbook contains no default style, apply openpyxl's default\")\n",
      "C:\\Users\\buche\\AppData\\Local\\Temp\\ipykernel_15364\\3806756923.py:5: FutureWarning: The frame.append method is deprecated and will be removed from pandas in a future version. Use pandas.concat instead.\n",
      "  all_ch = all_ch.append(df, ignore_index=True)\n",
      "C:\\Users\\buche\\anaconda3\\Lib\\site-packages\\openpyxl\\styles\\stylesheet.py:226: UserWarning: Workbook contains no default style, apply openpyxl's default\n",
      "  warn(\"Workbook contains no default style, apply openpyxl's default\")\n",
      "C:\\Users\\buche\\AppData\\Local\\Temp\\ipykernel_15364\\3806756923.py:5: FutureWarning: The frame.append method is deprecated and will be removed from pandas in a future version. Use pandas.concat instead.\n",
      "  all_ch = all_ch.append(df, ignore_index=True)\n",
      "C:\\Users\\buche\\anaconda3\\Lib\\site-packages\\openpyxl\\styles\\stylesheet.py:226: UserWarning: Workbook contains no default style, apply openpyxl's default\n",
      "  warn(\"Workbook contains no default style, apply openpyxl's default\")\n",
      "C:\\Users\\buche\\AppData\\Local\\Temp\\ipykernel_15364\\3806756923.py:5: FutureWarning: The frame.append method is deprecated and will be removed from pandas in a future version. Use pandas.concat instead.\n",
      "  all_ch = all_ch.append(df, ignore_index=True)\n",
      "C:\\Users\\buche\\anaconda3\\Lib\\site-packages\\openpyxl\\styles\\stylesheet.py:226: UserWarning: Workbook contains no default style, apply openpyxl's default\n",
      "  warn(\"Workbook contains no default style, apply openpyxl's default\")\n",
      "C:\\Users\\buche\\AppData\\Local\\Temp\\ipykernel_15364\\3806756923.py:5: FutureWarning: The frame.append method is deprecated and will be removed from pandas in a future version. Use pandas.concat instead.\n",
      "  all_ch = all_ch.append(df, ignore_index=True)\n",
      "C:\\Users\\buche\\anaconda3\\Lib\\site-packages\\openpyxl\\styles\\stylesheet.py:226: UserWarning: Workbook contains no default style, apply openpyxl's default\n",
      "  warn(\"Workbook contains no default style, apply openpyxl's default\")\n",
      "C:\\Users\\buche\\AppData\\Local\\Temp\\ipykernel_15364\\3806756923.py:5: FutureWarning: The frame.append method is deprecated and will be removed from pandas in a future version. Use pandas.concat instead.\n",
      "  all_ch = all_ch.append(df, ignore_index=True)\n",
      "C:\\Users\\buche\\anaconda3\\Lib\\site-packages\\openpyxl\\styles\\stylesheet.py:226: UserWarning: Workbook contains no default style, apply openpyxl's default\n",
      "  warn(\"Workbook contains no default style, apply openpyxl's default\")\n",
      "C:\\Users\\buche\\AppData\\Local\\Temp\\ipykernel_15364\\3806756923.py:5: FutureWarning: The frame.append method is deprecated and will be removed from pandas in a future version. Use pandas.concat instead.\n",
      "  all_ch = all_ch.append(df, ignore_index=True)\n",
      "C:\\Users\\buche\\anaconda3\\Lib\\site-packages\\openpyxl\\styles\\stylesheet.py:226: UserWarning: Workbook contains no default style, apply openpyxl's default\n",
      "  warn(\"Workbook contains no default style, apply openpyxl's default\")\n",
      "C:\\Users\\buche\\AppData\\Local\\Temp\\ipykernel_15364\\3806756923.py:5: FutureWarning: The frame.append method is deprecated and will be removed from pandas in a future version. Use pandas.concat instead.\n",
      "  all_ch = all_ch.append(df, ignore_index=True)\n",
      "C:\\Users\\buche\\anaconda3\\Lib\\site-packages\\openpyxl\\styles\\stylesheet.py:226: UserWarning: Workbook contains no default style, apply openpyxl's default\n",
      "  warn(\"Workbook contains no default style, apply openpyxl's default\")\n",
      "C:\\Users\\buche\\AppData\\Local\\Temp\\ipykernel_15364\\3806756923.py:5: FutureWarning: The frame.append method is deprecated and will be removed from pandas in a future version. Use pandas.concat instead.\n",
      "  all_ch = all_ch.append(df, ignore_index=True)\n",
      "C:\\Users\\buche\\anaconda3\\Lib\\site-packages\\openpyxl\\styles\\stylesheet.py:226: UserWarning: Workbook contains no default style, apply openpyxl's default\n",
      "  warn(\"Workbook contains no default style, apply openpyxl's default\")\n",
      "C:\\Users\\buche\\AppData\\Local\\Temp\\ipykernel_15364\\3806756923.py:5: FutureWarning: The frame.append method is deprecated and will be removed from pandas in a future version. Use pandas.concat instead.\n",
      "  all_ch = all_ch.append(df, ignore_index=True)\n",
      "C:\\Users\\buche\\anaconda3\\Lib\\site-packages\\openpyxl\\styles\\stylesheet.py:226: UserWarning: Workbook contains no default style, apply openpyxl's default\n",
      "  warn(\"Workbook contains no default style, apply openpyxl's default\")\n",
      "C:\\Users\\buche\\AppData\\Local\\Temp\\ipykernel_15364\\3806756923.py:5: FutureWarning: The frame.append method is deprecated and will be removed from pandas in a future version. Use pandas.concat instead.\n",
      "  all_ch = all_ch.append(df, ignore_index=True)\n",
      "C:\\Users\\buche\\anaconda3\\Lib\\site-packages\\openpyxl\\styles\\stylesheet.py:226: UserWarning: Workbook contains no default style, apply openpyxl's default\n",
      "  warn(\"Workbook contains no default style, apply openpyxl's default\")\n",
      "C:\\Users\\buche\\AppData\\Local\\Temp\\ipykernel_15364\\3806756923.py:5: FutureWarning: The frame.append method is deprecated and will be removed from pandas in a future version. Use pandas.concat instead.\n",
      "  all_ch = all_ch.append(df, ignore_index=True)\n",
      "C:\\Users\\buche\\anaconda3\\Lib\\site-packages\\openpyxl\\styles\\stylesheet.py:226: UserWarning: Workbook contains no default style, apply openpyxl's default\n",
      "  warn(\"Workbook contains no default style, apply openpyxl's default\")\n",
      "C:\\Users\\buche\\AppData\\Local\\Temp\\ipykernel_15364\\3806756923.py:5: FutureWarning: The frame.append method is deprecated and will be removed from pandas in a future version. Use pandas.concat instead.\n",
      "  all_ch = all_ch.append(df, ignore_index=True)\n",
      "C:\\Users\\buche\\anaconda3\\Lib\\site-packages\\openpyxl\\styles\\stylesheet.py:226: UserWarning: Workbook contains no default style, apply openpyxl's default\n",
      "  warn(\"Workbook contains no default style, apply openpyxl's default\")\n",
      "C:\\Users\\buche\\AppData\\Local\\Temp\\ipykernel_15364\\3806756923.py:5: FutureWarning: The frame.append method is deprecated and will be removed from pandas in a future version. Use pandas.concat instead.\n",
      "  all_ch = all_ch.append(df, ignore_index=True)\n",
      "C:\\Users\\buche\\anaconda3\\Lib\\site-packages\\openpyxl\\styles\\stylesheet.py:226: UserWarning: Workbook contains no default style, apply openpyxl's default\n",
      "  warn(\"Workbook contains no default style, apply openpyxl's default\")\n",
      "C:\\Users\\buche\\AppData\\Local\\Temp\\ipykernel_15364\\3806756923.py:5: FutureWarning: The frame.append method is deprecated and will be removed from pandas in a future version. Use pandas.concat instead.\n",
      "  all_ch = all_ch.append(df, ignore_index=True)\n",
      "C:\\Users\\buche\\anaconda3\\Lib\\site-packages\\openpyxl\\styles\\stylesheet.py:226: UserWarning: Workbook contains no default style, apply openpyxl's default\n",
      "  warn(\"Workbook contains no default style, apply openpyxl's default\")\n",
      "C:\\Users\\buche\\AppData\\Local\\Temp\\ipykernel_15364\\3806756923.py:5: FutureWarning: The frame.append method is deprecated and will be removed from pandas in a future version. Use pandas.concat instead.\n",
      "  all_ch = all_ch.append(df, ignore_index=True)\n"
     ]
    }
   ],
   "source": [
    "#合併檔案\n",
    "all_ch = pd.DataFrame()\n",
    "for file in namelist:\n",
    "    df = pd.read_excel(file, engine='openpyxl')\n",
    "    all_ch = all_ch.append(df, ignore_index=True)"
   ]
  },
  {
   "cell_type": "markdown",
   "id": "44887d59-cbed-4d9a-91ba-29d7220b2720",
   "metadata": {},
   "source": [
    "## 3. 改路徑與檔名"
   ]
  },
  {
   "cell_type": "code",
   "execution_count": 9,
   "id": "7620f421-6dec-4382-b926-cb697906cc6e",
   "metadata": {
    "tags": []
   },
   "outputs": [],
   "source": [
    "# all_ch.to_csv('D:\\\\Desktop\\\\travail_workspace\\\\ch_report\\\\' + date_range[6] + '\\\\7days_ch_'+ today +'.csv', encoding = 'utf-8-sig')\n",
    "all_ch.to_csv('C:\\\\Users\\\\buche\\\\Desktop\\\\travail_workspace\\\\ch_report\\\\' + date_range[6] + '\\\\7days_ch_'+ today +'.csv', encoding = 'utf-8-sig')\n",
    "# all_ch.to_csv('C:\\\\Users\\\\buche\\\\Desktop\\\\travail_workspace\\\\ch_report\\\\M8_ch_'+ today +'.csv', encoding = 'utf-8-sig') # 月報用"
   ]
  },
  {
   "cell_type": "code",
   "execution_count": null,
   "id": "7fe87fcc-df6f-4afc-a000-9971bc1a482f",
   "metadata": {},
   "outputs": [],
   "source": []
  },
  {
   "cell_type": "markdown",
   "id": "d36d7300-2e89-4868-9f2b-26c2d9ed3f03",
   "metadata": {},
   "source": [
    "### 月報用合併三十天扣量後"
   ]
  },
  {
   "cell_type": "code",
   "execution_count": 10,
   "id": "aa8556b1-0f0e-46bf-9c0c-a9f797fe276d",
   "metadata": {},
   "outputs": [],
   "source": [
    "# past_30days = str(np.datetime64(data_date)-np.timedelta64(30,'D'))\n",
    "# #filt = (all_ch['统计日期'].between(past_week, today)) # 日報需前六天\n",
    "# # date_range = pd.date_range(past_7days, today, freq = \"1D\")\n",
    "# date_range = pd.date_range(past_30days, data_date, freq = \"1D\")\n",
    "# print(date_range)\n",
    "# date_range = [date_range.strftime('%Y-%m-%d') for date_range in date_range]\n",
    "# date_range # to str\n",
    "# namelist=[]\n",
    "# for name in date_range:\n",
    "#     files_path = glob(\"C:\\\\Users\\\\buche\\\\Desktop\\\\travail_workspace\\\\ETL_workspace\\\\all_channel_rawdata\\\\\" + name + \"\\\\post_deduction\\\\channel_*.xlsx\")\n",
    "#     # files_path = glob(\"D:\\\\user\\\\Desktop\\\\travail_workspace\\\\ETL_workspace\\\\all_channel_rawdata\\\\\" + name + \"\\\\pre_deduction\\\\channel_*.xlsx\")\n",
    "#     namelist.append(files_path)\n",
    "#     print(namelist)\n",
    "# namelist = [i for name in namelist for i in name]\n",
    "# #合併檔案\n",
    "# all_ch = pd.DataFrame()\n",
    "# for file in namelist:\n",
    "#     df = pd.read_excel(file, engine='openpyxl')\n",
    "#     all_ch = all_ch.append(df, ignore_index=True)\n",
    "# # post_deduction.to_csv('D:\\\\user\\\\Desktop\\\\travail_workspace\\\\ETL_workspace\\\\all_channel_rawdata\\\\'+ data_date +'_post.csv', encoding = 'utf-8-sig') # 未處理的原始資料\n",
    "# all_ch.to_csv('C:\\\\Users\\\\buche\\\\Desktop\\\\travail_workspace\\\\ch_report\\\\2023-08月\\\\8M_post_deduction.csv', encoding = 'utf-8-sig')"
   ]
  },
  {
   "cell_type": "markdown",
   "id": "e031b2e7-8daa-48f1-b33d-58910b3bdea0",
   "metadata": {},
   "source": [
    "# 篩選製圖df"
   ]
  },
  {
   "cell_type": "code",
   "execution_count": 11,
   "id": "0533ac44-1371-4c8d-9a76-b13143cec878",
   "metadata": {
    "tags": []
   },
   "outputs": [],
   "source": [
    "a = all_ch"
   ]
  },
  {
   "cell_type": "code",
   "execution_count": 12,
   "id": "61bce164-3a22-45d1-94de-7d0abb63c9b5",
   "metadata": {
    "tags": []
   },
   "outputs": [],
   "source": [
    "# 製作第一組圖表:充值人數、新增註冊用戶數、轉換率（新增）\n",
    "a['转换率'] = round(a['充值人数']/a['新增注册用户数'], 4)\n"
   ]
  },
  {
   "cell_type": "code",
   "execution_count": 13,
   "id": "c24513f4-5e63-4dc5-8333-5d53b9f13883",
   "metadata": {
    "tags": []
   },
   "outputs": [
    {
     "data": {
      "text/plain": [
       "0       0.0000\n",
       "1       0.0000\n",
       "2       0.0044\n",
       "3       0.0000\n",
       "4          NaN\n",
       "         ...  \n",
       "1848       NaN\n",
       "1849    0.0129\n",
       "1850       NaN\n",
       "1851       NaN\n",
       "1852    0.0828\n",
       "Name: 转换率, Length: 1853, dtype: float64"
      ]
     },
     "execution_count": 13,
     "metadata": {},
     "output_type": "execute_result"
    }
   ],
   "source": [
    "a['转换率']"
   ]
  },
  {
   "cell_type": "code",
   "execution_count": 14,
   "id": "561b57b2-ac66-48bd-9b60-2eab18f81413",
   "metadata": {
    "tags": []
   },
   "outputs": [],
   "source": [
    "# nan, inf -> 0\n",
    "a['转换率'] = a['转换率'].fillna(0)\n",
    "a.loc[(a['转换率']==np.inf), '转换率'] = 0"
   ]
  },
  {
   "cell_type": "code",
   "execution_count": 15,
   "id": "d41ea06b-1ba4-45c1-9ddb-e775f32723c8",
   "metadata": {
    "tags": []
   },
   "outputs": [],
   "source": [
    "a['转换率']= a['转换率'].apply(lambda x: format(x, '.2%'))"
   ]
  },
  {
   "cell_type": "code",
   "execution_count": 16,
   "id": "22dd009a-716c-4719-8ef0-131c3e2ee574",
   "metadata": {
    "tags": []
   },
   "outputs": [],
   "source": [
    "# len(a.columns)"
   ]
  },
  {
   "cell_type": "code",
   "execution_count": 17,
   "id": "7c2641aa-5d91-4610-9f5e-52fb675b9284",
   "metadata": {
    "tags": []
   },
   "outputs": [],
   "source": [
    "a = a.iloc[:, [0, 2, 4, 5, 7, 34]]"
   ]
  },
  {
   "cell_type": "code",
   "execution_count": 18,
   "id": "055cce57-240c-4ff8-b250-f5fb06d24c32",
   "metadata": {
    "tags": []
   },
   "outputs": [
    {
     "data": {
      "text/html": [
       "<div>\n",
       "<style scoped>\n",
       "    .dataframe tbody tr th:only-of-type {\n",
       "        vertical-align: middle;\n",
       "    }\n",
       "\n",
       "    .dataframe tbody tr th {\n",
       "        vertical-align: top;\n",
       "    }\n",
       "\n",
       "    .dataframe thead th {\n",
       "        text-align: right;\n",
       "    }\n",
       "</style>\n",
       "<table border=\"1\" class=\"dataframe\">\n",
       "  <thead>\n",
       "    <tr style=\"text-align: right;\">\n",
       "      <th></th>\n",
       "      <th>统计日期</th>\n",
       "      <th>渠道名称</th>\n",
       "      <th>新增注册用户数</th>\n",
       "      <th>充值人数</th>\n",
       "      <th>总充值金额</th>\n",
       "      <th>转换率</th>\n",
       "    </tr>\n",
       "  </thead>\n",
       "  <tbody>\n",
       "    <tr>\n",
       "      <th>0</th>\n",
       "      <td>2023-08-30</td>\n",
       "      <td>7260渠道</td>\n",
       "      <td>826</td>\n",
       "      <td>0</td>\n",
       "      <td>0.0</td>\n",
       "      <td>0.00%</td>\n",
       "    </tr>\n",
       "    <tr>\n",
       "      <th>1</th>\n",
       "      <td>2023-08-30</td>\n",
       "      <td>7259渠道</td>\n",
       "      <td>700</td>\n",
       "      <td>0</td>\n",
       "      <td>0.0</td>\n",
       "      <td>0.00%</td>\n",
       "    </tr>\n",
       "    <tr>\n",
       "      <th>2</th>\n",
       "      <td>2023-08-30</td>\n",
       "      <td>7257渠道</td>\n",
       "      <td>2055</td>\n",
       "      <td>9</td>\n",
       "      <td>1800.0</td>\n",
       "      <td>0.44%</td>\n",
       "    </tr>\n",
       "    <tr>\n",
       "      <th>3</th>\n",
       "      <td>2023-08-30</td>\n",
       "      <td>7258渠道</td>\n",
       "      <td>125</td>\n",
       "      <td>0</td>\n",
       "      <td>0.0</td>\n",
       "      <td>0.00%</td>\n",
       "    </tr>\n",
       "    <tr>\n",
       "      <th>4</th>\n",
       "      <td>2023-08-30</td>\n",
       "      <td>7256渠道</td>\n",
       "      <td>0</td>\n",
       "      <td>0</td>\n",
       "      <td>0.0</td>\n",
       "      <td>0.00%</td>\n",
       "    </tr>\n",
       "    <tr>\n",
       "      <th>...</th>\n",
       "      <td>...</td>\n",
       "      <td>...</td>\n",
       "      <td>...</td>\n",
       "      <td>...</td>\n",
       "      <td>...</td>\n",
       "      <td>...</td>\n",
       "    </tr>\n",
       "    <tr>\n",
       "      <th>1848</th>\n",
       "      <td>2023-09-05</td>\n",
       "      <td>7004渠道</td>\n",
       "      <td>0</td>\n",
       "      <td>0</td>\n",
       "      <td>0.0</td>\n",
       "      <td>0.00%</td>\n",
       "    </tr>\n",
       "    <tr>\n",
       "      <th>1849</th>\n",
       "      <td>2023-09-05</td>\n",
       "      <td>官网渠道</td>\n",
       "      <td>36157</td>\n",
       "      <td>468</td>\n",
       "      <td>85150.0</td>\n",
       "      <td>1.29%</td>\n",
       "    </tr>\n",
       "    <tr>\n",
       "      <th>1850</th>\n",
       "      <td>2023-09-05</td>\n",
       "      <td>7003渠道</td>\n",
       "      <td>0</td>\n",
       "      <td>0</td>\n",
       "      <td>0.0</td>\n",
       "      <td>0.00%</td>\n",
       "    </tr>\n",
       "    <tr>\n",
       "      <th>1851</th>\n",
       "      <td>2023-09-05</td>\n",
       "      <td>7002渠道</td>\n",
       "      <td>0</td>\n",
       "      <td>0</td>\n",
       "      <td>0.0</td>\n",
       "      <td>0.00%</td>\n",
       "    </tr>\n",
       "    <tr>\n",
       "      <th>1852</th>\n",
       "      <td>2023-09-05</td>\n",
       "      <td>代理邀请</td>\n",
       "      <td>145</td>\n",
       "      <td>12</td>\n",
       "      <td>3650.0</td>\n",
       "      <td>8.28%</td>\n",
       "    </tr>\n",
       "  </tbody>\n",
       "</table>\n",
       "<p>1853 rows × 6 columns</p>\n",
       "</div>"
      ],
      "text/plain": [
       "            统计日期    渠道名称  新增注册用户数  充值人数    总充值金额    转换率\n",
       "0     2023-08-30  7260渠道      826     0      0.0  0.00%\n",
       "1     2023-08-30  7259渠道      700     0      0.0  0.00%\n",
       "2     2023-08-30  7257渠道     2055     9   1800.0  0.44%\n",
       "3     2023-08-30  7258渠道      125     0      0.0  0.00%\n",
       "4     2023-08-30  7256渠道        0     0      0.0  0.00%\n",
       "...          ...     ...      ...   ...      ...    ...\n",
       "1848  2023-09-05  7004渠道        0     0      0.0  0.00%\n",
       "1849  2023-09-05    官网渠道    36157   468  85150.0  1.29%\n",
       "1850  2023-09-05  7003渠道        0     0      0.0  0.00%\n",
       "1851  2023-09-05  7002渠道        0     0      0.0  0.00%\n",
       "1852  2023-09-05    代理邀请      145    12   3650.0  8.28%\n",
       "\n",
       "[1853 rows x 6 columns]"
      ]
     },
     "execution_count": 18,
     "metadata": {},
     "output_type": "execute_result"
    }
   ],
   "source": [
    "a"
   ]
  },
  {
   "cell_type": "code",
   "execution_count": 19,
   "id": "e3a4a223-15cc-4a88-92c2-c018f05a172f",
   "metadata": {
    "tags": []
   },
   "outputs": [
    {
     "name": "stderr",
     "output_type": "stream",
     "text": [
      "C:\\Users\\buche\\AppData\\Local\\Temp\\ipykernel_15364\\2652095620.py:6: SettingWithCopyWarning: \n",
      "A value is trying to be set on a copy of a slice from a DataFrame.\n",
      "Try using .loc[row_indexer,col_indexer] = value instead\n",
      "\n",
      "See the caveats in the documentation: https://pandas.pydata.org/pandas-docs/stable/user_guide/indexing.html#returning-a-view-versus-a-copy\n",
      "  a['渠道名称']=l1\n"
     ]
    }
   ],
   "source": [
    "# 要從7021開始做，將渠道名分割留下數字部分\n",
    "def splitname(x):\n",
    "    return x[0:4]\n",
    "l1 = a['渠道名称'].tolist()\n",
    "l1 = list(map(splitname, l1))\n",
    "a['渠道名称']=l1"
   ]
  },
  {
   "cell_type": "code",
   "execution_count": 20,
   "id": "45525562-03b9-4be8-9181-72448bd8e9e8",
   "metadata": {
    "tags": []
   },
   "outputs": [],
   "source": [
    "# test_ch = ['7239', '7247']\n",
    "excluded_ch = list(np.array(range(7002,7021), dtype=str))\n",
    "official_ch = ['官网渠道', '代理邀请']\n",
    "del_ch = excluded_ch + official_ch"
   ]
  },
  {
   "cell_type": "code",
   "execution_count": 21,
   "id": "b58cdbae-71cb-472f-9030-ba4d0919bcd3",
   "metadata": {
    "tags": []
   },
   "outputs": [],
   "source": [
    "del_ch = a['渠道名称'].isin(pd.Series(del_ch))"
   ]
  },
  {
   "cell_type": "code",
   "execution_count": 22,
   "id": "3625f985-7e9e-4f2b-951e-7f549fc6e811",
   "metadata": {
    "tags": []
   },
   "outputs": [
    {
     "data": {
      "text/html": [
       "<div>\n",
       "<style scoped>\n",
       "    .dataframe tbody tr th:only-of-type {\n",
       "        vertical-align: middle;\n",
       "    }\n",
       "\n",
       "    .dataframe tbody tr th {\n",
       "        vertical-align: top;\n",
       "    }\n",
       "\n",
       "    .dataframe thead th {\n",
       "        text-align: right;\n",
       "    }\n",
       "</style>\n",
       "<table border=\"1\" class=\"dataframe\">\n",
       "  <thead>\n",
       "    <tr style=\"text-align: right;\">\n",
       "      <th></th>\n",
       "      <th>统计日期</th>\n",
       "      <th>渠道名称</th>\n",
       "      <th>新增注册用户数</th>\n",
       "      <th>充值人数</th>\n",
       "      <th>总充值金额</th>\n",
       "      <th>转换率</th>\n",
       "    </tr>\n",
       "  </thead>\n",
       "  <tbody>\n",
       "    <tr>\n",
       "      <th>0</th>\n",
       "      <td>2023-08-30</td>\n",
       "      <td>7260</td>\n",
       "      <td>826</td>\n",
       "      <td>0</td>\n",
       "      <td>0.0</td>\n",
       "      <td>0.00%</td>\n",
       "    </tr>\n",
       "    <tr>\n",
       "      <th>1</th>\n",
       "      <td>2023-08-30</td>\n",
       "      <td>7259</td>\n",
       "      <td>700</td>\n",
       "      <td>0</td>\n",
       "      <td>0.0</td>\n",
       "      <td>0.00%</td>\n",
       "    </tr>\n",
       "    <tr>\n",
       "      <th>2</th>\n",
       "      <td>2023-08-30</td>\n",
       "      <td>7257</td>\n",
       "      <td>2055</td>\n",
       "      <td>9</td>\n",
       "      <td>1800.0</td>\n",
       "      <td>0.44%</td>\n",
       "    </tr>\n",
       "    <tr>\n",
       "      <th>3</th>\n",
       "      <td>2023-08-30</td>\n",
       "      <td>7258</td>\n",
       "      <td>125</td>\n",
       "      <td>0</td>\n",
       "      <td>0.0</td>\n",
       "      <td>0.00%</td>\n",
       "    </tr>\n",
       "    <tr>\n",
       "      <th>4</th>\n",
       "      <td>2023-08-30</td>\n",
       "      <td>7256</td>\n",
       "      <td>0</td>\n",
       "      <td>0</td>\n",
       "      <td>0.0</td>\n",
       "      <td>0.00%</td>\n",
       "    </tr>\n",
       "    <tr>\n",
       "      <th>...</th>\n",
       "      <td>...</td>\n",
       "      <td>...</td>\n",
       "      <td>...</td>\n",
       "      <td>...</td>\n",
       "      <td>...</td>\n",
       "      <td>...</td>\n",
       "    </tr>\n",
       "    <tr>\n",
       "      <th>1827</th>\n",
       "      <td>2023-09-05</td>\n",
       "      <td>7025</td>\n",
       "      <td>3</td>\n",
       "      <td>0</td>\n",
       "      <td>0.0</td>\n",
       "      <td>0.00%</td>\n",
       "    </tr>\n",
       "    <tr>\n",
       "      <th>1828</th>\n",
       "      <td>2023-09-05</td>\n",
       "      <td>7024</td>\n",
       "      <td>666</td>\n",
       "      <td>3</td>\n",
       "      <td>150.0</td>\n",
       "      <td>0.45%</td>\n",
       "    </tr>\n",
       "    <tr>\n",
       "      <th>1829</th>\n",
       "      <td>2023-09-05</td>\n",
       "      <td>7023</td>\n",
       "      <td>4605</td>\n",
       "      <td>115</td>\n",
       "      <td>29050.0</td>\n",
       "      <td>2.50%</td>\n",
       "    </tr>\n",
       "    <tr>\n",
       "      <th>1830</th>\n",
       "      <td>2023-09-05</td>\n",
       "      <td>7022</td>\n",
       "      <td>26892</td>\n",
       "      <td>220</td>\n",
       "      <td>51600.0</td>\n",
       "      <td>0.82%</td>\n",
       "    </tr>\n",
       "    <tr>\n",
       "      <th>1831</th>\n",
       "      <td>2023-09-05</td>\n",
       "      <td>7021</td>\n",
       "      <td>411</td>\n",
       "      <td>16</td>\n",
       "      <td>4750.0</td>\n",
       "      <td>3.89%</td>\n",
       "    </tr>\n",
       "  </tbody>\n",
       "</table>\n",
       "<p>1706 rows × 6 columns</p>\n",
       "</div>"
      ],
      "text/plain": [
       "            统计日期  渠道名称  新增注册用户数  充值人数    总充值金额    转换率\n",
       "0     2023-08-30  7260      826     0      0.0  0.00%\n",
       "1     2023-08-30  7259      700     0      0.0  0.00%\n",
       "2     2023-08-30  7257     2055     9   1800.0  0.44%\n",
       "3     2023-08-30  7258      125     0      0.0  0.00%\n",
       "4     2023-08-30  7256        0     0      0.0  0.00%\n",
       "...          ...   ...      ...   ...      ...    ...\n",
       "1827  2023-09-05  7025        3     0      0.0  0.00%\n",
       "1828  2023-09-05  7024      666     3    150.0  0.45%\n",
       "1829  2023-09-05  7023     4605   115  29050.0  2.50%\n",
       "1830  2023-09-05  7022    26892   220  51600.0  0.82%\n",
       "1831  2023-09-05  7021      411    16   4750.0  3.89%\n",
       "\n",
       "[1706 rows x 6 columns]"
      ]
     },
     "execution_count": 22,
     "metadata": {},
     "output_type": "execute_result"
    }
   ],
   "source": [
    "a = a[-del_ch]\n",
    "a \n",
    "# 1630 row"
   ]
  },
  {
   "cell_type": "code",
   "execution_count": 23,
   "id": "b21b4529-2ae1-4b8b-8880-217dfdbc96ed",
   "metadata": {
    "tags": []
   },
   "outputs": [
    {
     "data": {
      "text/html": [
       "<div>\n",
       "<style scoped>\n",
       "    .dataframe tbody tr th:only-of-type {\n",
       "        vertical-align: middle;\n",
       "    }\n",
       "\n",
       "    .dataframe tbody tr th {\n",
       "        vertical-align: top;\n",
       "    }\n",
       "\n",
       "    .dataframe thead th {\n",
       "        text-align: right;\n",
       "    }\n",
       "</style>\n",
       "<table border=\"1\" class=\"dataframe\">\n",
       "  <thead>\n",
       "    <tr style=\"text-align: right;\">\n",
       "      <th></th>\n",
       "      <th>统计日期</th>\n",
       "      <th>渠道名称</th>\n",
       "      <th>新增注册用户数</th>\n",
       "      <th>充值人数</th>\n",
       "      <th>总充值金额</th>\n",
       "      <th>转换率</th>\n",
       "    </tr>\n",
       "  </thead>\n",
       "  <tbody>\n",
       "    <tr>\n",
       "      <th>0</th>\n",
       "      <td>2023-08-30</td>\n",
       "      <td>7021</td>\n",
       "      <td>575</td>\n",
       "      <td>34</td>\n",
       "      <td>9500.0</td>\n",
       "      <td>5.91%</td>\n",
       "    </tr>\n",
       "    <tr>\n",
       "      <th>1</th>\n",
       "      <td>2023-08-30</td>\n",
       "      <td>7022</td>\n",
       "      <td>46423</td>\n",
       "      <td>172</td>\n",
       "      <td>44850.0</td>\n",
       "      <td>0.37%</td>\n",
       "    </tr>\n",
       "    <tr>\n",
       "      <th>2</th>\n",
       "      <td>2023-08-30</td>\n",
       "      <td>7023</td>\n",
       "      <td>6237</td>\n",
       "      <td>55</td>\n",
       "      <td>40250.0</td>\n",
       "      <td>0.88%</td>\n",
       "    </tr>\n",
       "    <tr>\n",
       "      <th>3</th>\n",
       "      <td>2023-08-30</td>\n",
       "      <td>7024</td>\n",
       "      <td>372</td>\n",
       "      <td>5</td>\n",
       "      <td>450.0</td>\n",
       "      <td>1.34%</td>\n",
       "    </tr>\n",
       "    <tr>\n",
       "      <th>4</th>\n",
       "      <td>2023-08-30</td>\n",
       "      <td>7025</td>\n",
       "      <td>6</td>\n",
       "      <td>0</td>\n",
       "      <td>0.0</td>\n",
       "      <td>0.00%</td>\n",
       "    </tr>\n",
       "    <tr>\n",
       "      <th>...</th>\n",
       "      <td>...</td>\n",
       "      <td>...</td>\n",
       "      <td>...</td>\n",
       "      <td>...</td>\n",
       "      <td>...</td>\n",
       "      <td>...</td>\n",
       "    </tr>\n",
       "    <tr>\n",
       "      <th>1701</th>\n",
       "      <td>2023-09-05</td>\n",
       "      <td>7263</td>\n",
       "      <td>40</td>\n",
       "      <td>0</td>\n",
       "      <td>0.0</td>\n",
       "      <td>0.00%</td>\n",
       "    </tr>\n",
       "    <tr>\n",
       "      <th>1702</th>\n",
       "      <td>2023-09-05</td>\n",
       "      <td>7264</td>\n",
       "      <td>66</td>\n",
       "      <td>0</td>\n",
       "      <td>0.0</td>\n",
       "      <td>0.00%</td>\n",
       "    </tr>\n",
       "    <tr>\n",
       "      <th>1703</th>\n",
       "      <td>2023-09-05</td>\n",
       "      <td>7265</td>\n",
       "      <td>2</td>\n",
       "      <td>0</td>\n",
       "      <td>0.0</td>\n",
       "      <td>0.00%</td>\n",
       "    </tr>\n",
       "    <tr>\n",
       "      <th>1704</th>\n",
       "      <td>2023-09-05</td>\n",
       "      <td>7266</td>\n",
       "      <td>6</td>\n",
       "      <td>0</td>\n",
       "      <td>0.0</td>\n",
       "      <td>0.00%</td>\n",
       "    </tr>\n",
       "    <tr>\n",
       "      <th>1705</th>\n",
       "      <td>2023-09-05</td>\n",
       "      <td>7267</td>\n",
       "      <td>66</td>\n",
       "      <td>0</td>\n",
       "      <td>0.0</td>\n",
       "      <td>0.00%</td>\n",
       "    </tr>\n",
       "  </tbody>\n",
       "</table>\n",
       "<p>1706 rows × 6 columns</p>\n",
       "</div>"
      ],
      "text/plain": [
       "            统计日期  渠道名称  新增注册用户数  充值人数    总充值金额    转换率\n",
       "0     2023-08-30  7021      575    34   9500.0  5.91%\n",
       "1     2023-08-30  7022    46423   172  44850.0  0.37%\n",
       "2     2023-08-30  7023     6237    55  40250.0  0.88%\n",
       "3     2023-08-30  7024      372     5    450.0  1.34%\n",
       "4     2023-08-30  7025        6     0      0.0  0.00%\n",
       "...          ...   ...      ...   ...      ...    ...\n",
       "1701  2023-09-05  7263       40     0      0.0  0.00%\n",
       "1702  2023-09-05  7264       66     0      0.0  0.00%\n",
       "1703  2023-09-05  7265        2     0      0.0  0.00%\n",
       "1704  2023-09-05  7266        6     0      0.0  0.00%\n",
       "1705  2023-09-05  7267       66     0      0.0  0.00%\n",
       "\n",
       "[1706 rows x 6 columns]"
      ]
     },
     "execution_count": 23,
     "metadata": {},
     "output_type": "execute_result"
    }
   ],
   "source": [
    "a = a.sort_values(by=['统计日期','渠道名称'], ascending=True).reset_index(drop = True)\n",
    "a"
   ]
  },
  {
   "cell_type": "code",
   "execution_count": 24,
   "id": "fb16e85b-986f-492d-b43b-127e3dfa2f48",
   "metadata": {
    "tags": []
   },
   "outputs": [],
   "source": [
    "# a.to_csv('D:\\\\Desktop\\\\travail_workspace\\\\ch_report\\\\' + date_range[6] + '\\\\filt_ch_'+ today +'.csv', encoding = 'utf-8-sig')\n",
    "a.to_csv('C:\\\\Users\\\\buche\\\\Desktop\\\\travail_workspace\\\\ch_report\\\\' + date_range[6] + '\\\\filt_ch_'+ today +'.csv', encoding = 'utf-8-sig')\n",
    "# a.to_csv('C:\\\\Users\\\\buche\\\\Desktop\\\\travail_workspace\\\\ch_report\\\\M8_filte_ch_'+ today +'.csv', encoding = 'utf-8-sig') # 月報用\n",
    "# a.to_csv('D:\\\\Desktop\\\\travail_workspace\\\\ch_report\\\\M8_filte_ch_'+ today +'.csv', encoding = 'utf-8-sig') # 月報用"
   ]
  },
  {
   "cell_type": "markdown",
   "id": "0e2c5d77-4b4c-4b5b-83b0-4c021a3b5873",
   "metadata": {},
   "source": [
    "## 篩選製圖用渠道"
   ]
  },
  {
   "cell_type": "code",
   "execution_count": 25,
   "id": "a0c7e2c8-fb26-455e-83bb-2421f9103e1e",
   "metadata": {
    "tags": []
   },
   "outputs": [],
   "source": [
    "# b = a "
   ]
  },
  {
   "cell_type": "code",
   "execution_count": 26,
   "id": "46826e67-db91-4a98-98dd-a9ae6e0aa86e",
   "metadata": {
    "tags": []
   },
   "outputs": [],
   "source": [
    "# b[b['充值人数']<10].sort_values()"
   ]
  },
  {
   "cell_type": "code",
   "execution_count": null,
   "id": "2fd8387b-3fc9-4cf3-b246-8d4b332beb77",
   "metadata": {},
   "outputs": [],
   "source": []
  },
  {
   "cell_type": "markdown",
   "id": "92d46a59-8a14-4482-8f15-70b8b0161ec1",
   "metadata": {},
   "source": [
    "## 當日統計總表"
   ]
  },
  {
   "cell_type": "code",
   "execution_count": 27,
   "id": "04cbea41-8fec-4467-83e5-afc26155a87b",
   "metadata": {
    "tags": []
   },
   "outputs": [],
   "source": [
    "# b = pd.DataFrame(columns=['日期', '新增注册用户数', '充值人数', '转化率', '总充值金额', '扣量后费用'], \n",
    "#     index=[1, 2, 3, 4, 5, 6])"
   ]
  },
  {
   "cell_type": "code",
   "execution_count": 28,
   "id": "bdd0fbe4-30df-4b61-a18a-5bf58884ea54",
   "metadata": {},
   "outputs": [],
   "source": [
    "# 還需扣量後總表計算"
   ]
  },
  {
   "cell_type": "code",
   "execution_count": 29,
   "id": "4cd4569b-3208-4bee-b40d-d7e8d14c8201",
   "metadata": {
    "tags": []
   },
   "outputs": [
    {
     "name": "stderr",
     "output_type": "stream",
     "text": [
      "C:\\Users\\buche\\anaconda3\\Lib\\site-packages\\openpyxl\\styles\\stylesheet.py:226: UserWarning: Workbook contains no default style, apply openpyxl's default\n",
      "  warn(\"Workbook contains no default style, apply openpyxl's default\")\n",
      "C:\\Users\\buche\\AppData\\Local\\Temp\\ipykernel_15364\\3664597105.py:9: FutureWarning: The frame.append method is deprecated and will be removed from pandas in a future version. Use pandas.concat instead.\n",
      "  post_deduction = post_deduction.append(df, ignore_index=True).sort_values(by=['渠道名称'], ignore_index=True)\n",
      "C:\\Users\\buche\\anaconda3\\Lib\\site-packages\\openpyxl\\styles\\stylesheet.py:226: UserWarning: Workbook contains no default style, apply openpyxl's default\n",
      "  warn(\"Workbook contains no default style, apply openpyxl's default\")\n",
      "C:\\Users\\buche\\AppData\\Local\\Temp\\ipykernel_15364\\3664597105.py:9: FutureWarning: The frame.append method is deprecated and will be removed from pandas in a future version. Use pandas.concat instead.\n",
      "  post_deduction = post_deduction.append(df, ignore_index=True).sort_values(by=['渠道名称'], ignore_index=True)\n",
      "C:\\Users\\buche\\anaconda3\\Lib\\site-packages\\openpyxl\\styles\\stylesheet.py:226: UserWarning: Workbook contains no default style, apply openpyxl's default\n",
      "  warn(\"Workbook contains no default style, apply openpyxl's default\")\n",
      "C:\\Users\\buche\\AppData\\Local\\Temp\\ipykernel_15364\\3664597105.py:9: FutureWarning: The frame.append method is deprecated and will be removed from pandas in a future version. Use pandas.concat instead.\n",
      "  post_deduction = post_deduction.append(df, ignore_index=True).sort_values(by=['渠道名称'], ignore_index=True)\n",
      "C:\\Users\\buche\\anaconda3\\Lib\\site-packages\\openpyxl\\styles\\stylesheet.py:226: UserWarning: Workbook contains no default style, apply openpyxl's default\n",
      "  warn(\"Workbook contains no default style, apply openpyxl's default\")\n",
      "C:\\Users\\buche\\AppData\\Local\\Temp\\ipykernel_15364\\3664597105.py:9: FutureWarning: The frame.append method is deprecated and will be removed from pandas in a future version. Use pandas.concat instead.\n",
      "  post_deduction = post_deduction.append(df, ignore_index=True).sort_values(by=['渠道名称'], ignore_index=True)\n",
      "C:\\Users\\buche\\anaconda3\\Lib\\site-packages\\openpyxl\\styles\\stylesheet.py:226: UserWarning: Workbook contains no default style, apply openpyxl's default\n",
      "  warn(\"Workbook contains no default style, apply openpyxl's default\")\n",
      "C:\\Users\\buche\\AppData\\Local\\Temp\\ipykernel_15364\\3664597105.py:9: FutureWarning: The frame.append method is deprecated and will be removed from pandas in a future version. Use pandas.concat instead.\n",
      "  post_deduction = post_deduction.append(df, ignore_index=True).sort_values(by=['渠道名称'], ignore_index=True)\n",
      "C:\\Users\\buche\\anaconda3\\Lib\\site-packages\\openpyxl\\styles\\stylesheet.py:226: UserWarning: Workbook contains no default style, apply openpyxl's default\n",
      "  warn(\"Workbook contains no default style, apply openpyxl's default\")\n",
      "C:\\Users\\buche\\AppData\\Local\\Temp\\ipykernel_15364\\3664597105.py:9: FutureWarning: The frame.append method is deprecated and will be removed from pandas in a future version. Use pandas.concat instead.\n",
      "  post_deduction = post_deduction.append(df, ignore_index=True).sort_values(by=['渠道名称'], ignore_index=True)\n"
     ]
    }
   ],
   "source": [
    "# 未處理的每日扣量「後」原始資料\n",
    "\n",
    "files_path = glob(\"C:\\\\Users\\\\buche\\\\Desktop\\\\travail_workspace\\\\ETL_workspace\\\\all_channel_rawdata\\\\\" + today + \"\\\\post_deduction\\\\channel_*.xlsx\")\n",
    "# files_path = glob(\"D:\\\\Desktop\\\\travail_workspace\\\\ETL_workspace\\\\all_channel_rawdata\\\\\" + today + \"\\\\post_deduction\\\\channel_*.xlsx\")\n",
    "\n",
    "post_deduction = pd.DataFrame()\n",
    "for file in files_path:\n",
    "    df = pd.read_excel(file, engine='openpyxl')\n",
    "    post_deduction = post_deduction.append(df, ignore_index=True).sort_values(by=['渠道名称'], ignore_index=True)\n",
    "\n",
    "# post_deduction.to_csv('D:\\\\Desktop\\\\travail_workspace\\\\ch_report\\\\' +  today +'_post.csv', encoding = 'utf-8-sig') # 未處理的原始資料\n",
    "post_deduction.to_csv('C:\\\\Users\\\\buche\\\\Desktop\\\\travail_workspace\\\\ch_report\\\\' + today + '\\\\' +  today +'_post.csv', encoding = 'utf-8-sig')"
   ]
  },
  {
   "cell_type": "markdown",
   "id": "2c2a4917-240b-45e4-9d84-88e8f435eb40",
   "metadata": {},
   "source": [
    "## 渠道註冊量成長報表"
   ]
  },
  {
   "cell_type": "code",
   "execution_count": 30,
   "id": "dfaed460-3758-4878-adbc-50ae0bf3000c",
   "metadata": {},
   "outputs": [],
   "source": [
    "# 7021後；官網 代理 測試渠道XX"
   ]
  },
  {
   "cell_type": "code",
   "execution_count": null,
   "id": "b9574873-f05d-4e7e-ac6e-f94a072523db",
   "metadata": {},
   "outputs": [],
   "source": []
  },
  {
   "cell_type": "code",
   "execution_count": null,
   "id": "014d62ac-356e-43f1-8580-f6ae844aa209",
   "metadata": {},
   "outputs": [],
   "source": []
  },
  {
   "cell_type": "code",
   "execution_count": null,
   "id": "23c6bdee-34b4-4c24-b804-f04d7f18d64f",
   "metadata": {},
   "outputs": [],
   "source": []
  },
  {
   "cell_type": "markdown",
   "id": "5f640430-2ae2-49cb-94e4-dd6749bf3449",
   "metadata": {},
   "source": []
  },
  {
   "cell_type": "code",
   "execution_count": null,
   "id": "d54fe182-66bd-4194-b41d-3b1c861bd216",
   "metadata": {},
   "outputs": [],
   "source": []
  }
 ],
 "metadata": {
  "kernelspec": {
   "display_name": "Python 3 (ipykernel)",
   "language": "python",
   "name": "python3"
  },
  "language_info": {
   "codemirror_mode": {
    "name": "ipython",
    "version": 3
   },
   "file_extension": ".py",
   "mimetype": "text/x-python",
   "name": "python",
   "nbconvert_exporter": "python",
   "pygments_lexer": "ipython3",
   "version": "3.11.3"
  }
 },
 "nbformat": 4,
 "nbformat_minor": 5
}
