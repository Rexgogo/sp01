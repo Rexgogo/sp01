{
 "cells": [
  {
   "cell_type": "code",
   "execution_count": 1,
   "id": "736c04ea-bf1d-4646-9f0f-95b945b945f0",
   "metadata": {
    "tags": []
   },
   "outputs": [],
   "source": [
    "import os\n",
    "from glob import glob #filename pattern matching module\n",
    "import xlrd\n",
    "import openpyxl \n",
    "import datetime as dt\n",
    "from datetime import datetime as dt\n",
    "from datetime import timedelta as td\n",
    "import time\n",
    "import pandas as pd\n",
    "import numpy as np\n",
    "import matplotlib.pyplot as plt\n",
    "from matplotlib.pyplot import figure\n",
    "import seaborn as sns"
   ]
  },
  {
   "cell_type": "code",
   "execution_count": 2,
   "id": "429d807c-4679-4722-863c-757bec94e841",
   "metadata": {
    "tags": []
   },
   "outputs": [
    {
     "data": {
      "text/plain": [
       "'D:\\\\Desktop\\\\travail_workspace\\\\ETL_workspace'"
      ]
     },
     "execution_count": 2,
     "metadata": {},
     "output_type": "execute_result"
    }
   ],
   "source": [
    "os.getcwd()"
   ]
  },
  {
   "cell_type": "code",
   "execution_count": 3,
   "id": "3e480f27-92c6-4ea7-a81f-2f3c1ef4f8d1",
   "metadata": {
    "tags": []
   },
   "outputs": [
    {
     "name": "stdout",
     "output_type": "stream",
     "text": [
      "['2023-09-03', '2023-09-04', '2023-09-05', '2023-09-06', '2023-09-07', '2023-09-08', '2023-09-09', '2023-09-10', '2023-09-11', '2023-09-12', '2023-09-13', '2023-09-14', '2023-09-15', '2023-09-16']\n"
     ]
    }
   ],
   "source": [
    "# the day of analysis\n",
    "data_day = str(np.datetime64('2023-09-16')) \n",
    "past_7days = str(np.datetime64(data_day)-np.timedelta64(13,'D')) #多一天方便計算各項數據的還比\n",
    "date_range = pd.date_range(past_7days, data_day, freq = \"1D\") \n",
    "\n",
    "date_range = [date_range.strftime('%Y-%m-%d') for date_range in date_range]\n",
    "print(date_range) # to str"
   ]
  },
  {
   "cell_type": "code",
   "execution_count": 4,
   "id": "fa7bd0f0-ec53-43f5-b90f-7d49e5d7082f",
   "metadata": {
    "tags": []
   },
   "outputs": [
    {
     "name": "stdout",
     "output_type": "stream",
     "text": [
      "[['D:\\\\Desktop\\\\travail_workspace\\\\ETL_workspace\\\\all_channel_rawdata\\\\2023-09-03\\\\top_up\\\\charge_1693790327820.xlsx', 'D:\\\\Desktop\\\\travail_workspace\\\\ETL_workspace\\\\all_channel_rawdata\\\\2023-09-03\\\\top_up\\\\charge_1693792322842.xlsx', 'D:\\\\Desktop\\\\travail_workspace\\\\ETL_workspace\\\\all_channel_rawdata\\\\2023-09-03\\\\top_up\\\\charge_1693792332924.xlsx', 'D:\\\\Desktop\\\\travail_workspace\\\\ETL_workspace\\\\all_channel_rawdata\\\\2023-09-03\\\\top_up\\\\charge_1693792461232.xlsx', 'D:\\\\Desktop\\\\travail_workspace\\\\ETL_workspace\\\\all_channel_rawdata\\\\2023-09-03\\\\top_up\\\\charge_1693792470631.xlsx', 'D:\\\\Desktop\\\\travail_workspace\\\\ETL_workspace\\\\all_channel_rawdata\\\\2023-09-03\\\\top_up\\\\charge_1693792496032.xlsx', 'D:\\\\Desktop\\\\travail_workspace\\\\ETL_workspace\\\\all_channel_rawdata\\\\2023-09-03\\\\top_up\\\\charge_1693792502705.xlsx', 'D:\\\\Desktop\\\\travail_workspace\\\\ETL_workspace\\\\all_channel_rawdata\\\\2023-09-03\\\\top_up\\\\charge_1693792523135.xlsx', 'D:\\\\Desktop\\\\travail_workspace\\\\ETL_workspace\\\\all_channel_rawdata\\\\2023-09-03\\\\top_up\\\\charge_1693792530314.xlsx', 'D:\\\\Desktop\\\\travail_workspace\\\\ETL_workspace\\\\all_channel_rawdata\\\\2023-09-03\\\\top_up\\\\charge_1693792537807.xlsx', 'D:\\\\Desktop\\\\travail_workspace\\\\ETL_workspace\\\\all_channel_rawdata\\\\2023-09-03\\\\top_up\\\\charge_1693792545023.xlsx', 'D:\\\\Desktop\\\\travail_workspace\\\\ETL_workspace\\\\all_channel_rawdata\\\\2023-09-03\\\\top_up\\\\charge_1693792555723.xlsx']]\n",
      "[['D:\\\\Desktop\\\\travail_workspace\\\\ETL_workspace\\\\all_channel_rawdata\\\\2023-09-03\\\\top_up\\\\charge_1693790327820.xlsx', 'D:\\\\Desktop\\\\travail_workspace\\\\ETL_workspace\\\\all_channel_rawdata\\\\2023-09-03\\\\top_up\\\\charge_1693792322842.xlsx', 'D:\\\\Desktop\\\\travail_workspace\\\\ETL_workspace\\\\all_channel_rawdata\\\\2023-09-03\\\\top_up\\\\charge_1693792332924.xlsx', 'D:\\\\Desktop\\\\travail_workspace\\\\ETL_workspace\\\\all_channel_rawdata\\\\2023-09-03\\\\top_up\\\\charge_1693792461232.xlsx', 'D:\\\\Desktop\\\\travail_workspace\\\\ETL_workspace\\\\all_channel_rawdata\\\\2023-09-03\\\\top_up\\\\charge_1693792470631.xlsx', 'D:\\\\Desktop\\\\travail_workspace\\\\ETL_workspace\\\\all_channel_rawdata\\\\2023-09-03\\\\top_up\\\\charge_1693792496032.xlsx', 'D:\\\\Desktop\\\\travail_workspace\\\\ETL_workspace\\\\all_channel_rawdata\\\\2023-09-03\\\\top_up\\\\charge_1693792502705.xlsx', 'D:\\\\Desktop\\\\travail_workspace\\\\ETL_workspace\\\\all_channel_rawdata\\\\2023-09-03\\\\top_up\\\\charge_1693792523135.xlsx', 'D:\\\\Desktop\\\\travail_workspace\\\\ETL_workspace\\\\all_channel_rawdata\\\\2023-09-03\\\\top_up\\\\charge_1693792530314.xlsx', 'D:\\\\Desktop\\\\travail_workspace\\\\ETL_workspace\\\\all_channel_rawdata\\\\2023-09-03\\\\top_up\\\\charge_1693792537807.xlsx', 'D:\\\\Desktop\\\\travail_workspace\\\\ETL_workspace\\\\all_channel_rawdata\\\\2023-09-03\\\\top_up\\\\charge_1693792545023.xlsx', 'D:\\\\Desktop\\\\travail_workspace\\\\ETL_workspace\\\\all_channel_rawdata\\\\2023-09-03\\\\top_up\\\\charge_1693792555723.xlsx'], ['D:\\\\Desktop\\\\travail_workspace\\\\ETL_workspace\\\\all_channel_rawdata\\\\2023-09-04\\\\top_up\\\\charge_1693876580655.xlsx', 'D:\\\\Desktop\\\\travail_workspace\\\\ETL_workspace\\\\all_channel_rawdata\\\\2023-09-04\\\\top_up\\\\charge_1693876588722.xlsx', 'D:\\\\Desktop\\\\travail_workspace\\\\ETL_workspace\\\\all_channel_rawdata\\\\2023-09-04\\\\top_up\\\\charge_1693876595172.xlsx', 'D:\\\\Desktop\\\\travail_workspace\\\\ETL_workspace\\\\all_channel_rawdata\\\\2023-09-04\\\\top_up\\\\charge_1693876602239.xlsx', 'D:\\\\Desktop\\\\travail_workspace\\\\ETL_workspace\\\\all_channel_rawdata\\\\2023-09-04\\\\top_up\\\\charge_1693876608893.xlsx', 'D:\\\\Desktop\\\\travail_workspace\\\\ETL_workspace\\\\all_channel_rawdata\\\\2023-09-04\\\\top_up\\\\charge_1693876615523.xlsx', 'D:\\\\Desktop\\\\travail_workspace\\\\ETL_workspace\\\\all_channel_rawdata\\\\2023-09-04\\\\top_up\\\\charge_1693876622940.xlsx', 'D:\\\\Desktop\\\\travail_workspace\\\\ETL_workspace\\\\all_channel_rawdata\\\\2023-09-04\\\\top_up\\\\charge_1693876629905.xlsx', 'D:\\\\Desktop\\\\travail_workspace\\\\ETL_workspace\\\\all_channel_rawdata\\\\2023-09-04\\\\top_up\\\\charge_1693876637737.xlsx', 'D:\\\\Desktop\\\\travail_workspace\\\\ETL_workspace\\\\all_channel_rawdata\\\\2023-09-04\\\\top_up\\\\charge_1693876645060.xlsx', 'D:\\\\Desktop\\\\travail_workspace\\\\ETL_workspace\\\\all_channel_rawdata\\\\2023-09-04\\\\top_up\\\\charge_1693876651639.xlsx', 'D:\\\\Desktop\\\\travail_workspace\\\\ETL_workspace\\\\all_channel_rawdata\\\\2023-09-04\\\\top_up\\\\charge_1693876665515.xlsx']]\n",
      "[['D:\\\\Desktop\\\\travail_workspace\\\\ETL_workspace\\\\all_channel_rawdata\\\\2023-09-03\\\\top_up\\\\charge_1693790327820.xlsx', 'D:\\\\Desktop\\\\travail_workspace\\\\ETL_workspace\\\\all_channel_rawdata\\\\2023-09-03\\\\top_up\\\\charge_1693792322842.xlsx', 'D:\\\\Desktop\\\\travail_workspace\\\\ETL_workspace\\\\all_channel_rawdata\\\\2023-09-03\\\\top_up\\\\charge_1693792332924.xlsx', 'D:\\\\Desktop\\\\travail_workspace\\\\ETL_workspace\\\\all_channel_rawdata\\\\2023-09-03\\\\top_up\\\\charge_1693792461232.xlsx', 'D:\\\\Desktop\\\\travail_workspace\\\\ETL_workspace\\\\all_channel_rawdata\\\\2023-09-03\\\\top_up\\\\charge_1693792470631.xlsx', 'D:\\\\Desktop\\\\travail_workspace\\\\ETL_workspace\\\\all_channel_rawdata\\\\2023-09-03\\\\top_up\\\\charge_1693792496032.xlsx', 'D:\\\\Desktop\\\\travail_workspace\\\\ETL_workspace\\\\all_channel_rawdata\\\\2023-09-03\\\\top_up\\\\charge_1693792502705.xlsx', 'D:\\\\Desktop\\\\travail_workspace\\\\ETL_workspace\\\\all_channel_rawdata\\\\2023-09-03\\\\top_up\\\\charge_1693792523135.xlsx', 'D:\\\\Desktop\\\\travail_workspace\\\\ETL_workspace\\\\all_channel_rawdata\\\\2023-09-03\\\\top_up\\\\charge_1693792530314.xlsx', 'D:\\\\Desktop\\\\travail_workspace\\\\ETL_workspace\\\\all_channel_rawdata\\\\2023-09-03\\\\top_up\\\\charge_1693792537807.xlsx', 'D:\\\\Desktop\\\\travail_workspace\\\\ETL_workspace\\\\all_channel_rawdata\\\\2023-09-03\\\\top_up\\\\charge_1693792545023.xlsx', 'D:\\\\Desktop\\\\travail_workspace\\\\ETL_workspace\\\\all_channel_rawdata\\\\2023-09-03\\\\top_up\\\\charge_1693792555723.xlsx'], ['D:\\\\Desktop\\\\travail_workspace\\\\ETL_workspace\\\\all_channel_rawdata\\\\2023-09-04\\\\top_up\\\\charge_1693876580655.xlsx', 'D:\\\\Desktop\\\\travail_workspace\\\\ETL_workspace\\\\all_channel_rawdata\\\\2023-09-04\\\\top_up\\\\charge_1693876588722.xlsx', 'D:\\\\Desktop\\\\travail_workspace\\\\ETL_workspace\\\\all_channel_rawdata\\\\2023-09-04\\\\top_up\\\\charge_1693876595172.xlsx', 'D:\\\\Desktop\\\\travail_workspace\\\\ETL_workspace\\\\all_channel_rawdata\\\\2023-09-04\\\\top_up\\\\charge_1693876602239.xlsx', 'D:\\\\Desktop\\\\travail_workspace\\\\ETL_workspace\\\\all_channel_rawdata\\\\2023-09-04\\\\top_up\\\\charge_1693876608893.xlsx', 'D:\\\\Desktop\\\\travail_workspace\\\\ETL_workspace\\\\all_channel_rawdata\\\\2023-09-04\\\\top_up\\\\charge_1693876615523.xlsx', 'D:\\\\Desktop\\\\travail_workspace\\\\ETL_workspace\\\\all_channel_rawdata\\\\2023-09-04\\\\top_up\\\\charge_1693876622940.xlsx', 'D:\\\\Desktop\\\\travail_workspace\\\\ETL_workspace\\\\all_channel_rawdata\\\\2023-09-04\\\\top_up\\\\charge_1693876629905.xlsx', 'D:\\\\Desktop\\\\travail_workspace\\\\ETL_workspace\\\\all_channel_rawdata\\\\2023-09-04\\\\top_up\\\\charge_1693876637737.xlsx', 'D:\\\\Desktop\\\\travail_workspace\\\\ETL_workspace\\\\all_channel_rawdata\\\\2023-09-04\\\\top_up\\\\charge_1693876645060.xlsx', 'D:\\\\Desktop\\\\travail_workspace\\\\ETL_workspace\\\\all_channel_rawdata\\\\2023-09-04\\\\top_up\\\\charge_1693876651639.xlsx', 'D:\\\\Desktop\\\\travail_workspace\\\\ETL_workspace\\\\all_channel_rawdata\\\\2023-09-04\\\\top_up\\\\charge_1693876665515.xlsx'], ['D:\\\\Desktop\\\\travail_workspace\\\\ETL_workspace\\\\all_channel_rawdata\\\\2023-09-05\\\\top_up\\\\charge_1693962813030.xlsx', 'D:\\\\Desktop\\\\travail_workspace\\\\ETL_workspace\\\\all_channel_rawdata\\\\2023-09-05\\\\top_up\\\\charge_1693962832650.xlsx', 'D:\\\\Desktop\\\\travail_workspace\\\\ETL_workspace\\\\all_channel_rawdata\\\\2023-09-05\\\\top_up\\\\charge_1693962874049.xlsx', 'D:\\\\Desktop\\\\travail_workspace\\\\ETL_workspace\\\\all_channel_rawdata\\\\2023-09-05\\\\top_up\\\\charge_1693962881082.xlsx', 'D:\\\\Desktop\\\\travail_workspace\\\\ETL_workspace\\\\all_channel_rawdata\\\\2023-09-05\\\\top_up\\\\charge_1693962889582.xlsx', 'D:\\\\Desktop\\\\travail_workspace\\\\ETL_workspace\\\\all_channel_rawdata\\\\2023-09-05\\\\top_up\\\\charge_1693962899092.xlsx', 'D:\\\\Desktop\\\\travail_workspace\\\\ETL_workspace\\\\all_channel_rawdata\\\\2023-09-05\\\\top_up\\\\charge_1693962907205.xlsx', 'D:\\\\Desktop\\\\travail_workspace\\\\ETL_workspace\\\\all_channel_rawdata\\\\2023-09-05\\\\top_up\\\\charge_1693962930798.xlsx', 'D:\\\\Desktop\\\\travail_workspace\\\\ETL_workspace\\\\all_channel_rawdata\\\\2023-09-05\\\\top_up\\\\charge_1693962938054.xlsx', 'D:\\\\Desktop\\\\travail_workspace\\\\ETL_workspace\\\\all_channel_rawdata\\\\2023-09-05\\\\top_up\\\\charge_1693962962384.xlsx', 'D:\\\\Desktop\\\\travail_workspace\\\\ETL_workspace\\\\all_channel_rawdata\\\\2023-09-05\\\\top_up\\\\charge_1693962968925.xlsx', 'D:\\\\Desktop\\\\travail_workspace\\\\ETL_workspace\\\\all_channel_rawdata\\\\2023-09-05\\\\top_up\\\\charge_1693962979216.xlsx']]\n",
      "[['D:\\\\Desktop\\\\travail_workspace\\\\ETL_workspace\\\\all_channel_rawdata\\\\2023-09-03\\\\top_up\\\\charge_1693790327820.xlsx', 'D:\\\\Desktop\\\\travail_workspace\\\\ETL_workspace\\\\all_channel_rawdata\\\\2023-09-03\\\\top_up\\\\charge_1693792322842.xlsx', 'D:\\\\Desktop\\\\travail_workspace\\\\ETL_workspace\\\\all_channel_rawdata\\\\2023-09-03\\\\top_up\\\\charge_1693792332924.xlsx', 'D:\\\\Desktop\\\\travail_workspace\\\\ETL_workspace\\\\all_channel_rawdata\\\\2023-09-03\\\\top_up\\\\charge_1693792461232.xlsx', 'D:\\\\Desktop\\\\travail_workspace\\\\ETL_workspace\\\\all_channel_rawdata\\\\2023-09-03\\\\top_up\\\\charge_1693792470631.xlsx', 'D:\\\\Desktop\\\\travail_workspace\\\\ETL_workspace\\\\all_channel_rawdata\\\\2023-09-03\\\\top_up\\\\charge_1693792496032.xlsx', 'D:\\\\Desktop\\\\travail_workspace\\\\ETL_workspace\\\\all_channel_rawdata\\\\2023-09-03\\\\top_up\\\\charge_1693792502705.xlsx', 'D:\\\\Desktop\\\\travail_workspace\\\\ETL_workspace\\\\all_channel_rawdata\\\\2023-09-03\\\\top_up\\\\charge_1693792523135.xlsx', 'D:\\\\Desktop\\\\travail_workspace\\\\ETL_workspace\\\\all_channel_rawdata\\\\2023-09-03\\\\top_up\\\\charge_1693792530314.xlsx', 'D:\\\\Desktop\\\\travail_workspace\\\\ETL_workspace\\\\all_channel_rawdata\\\\2023-09-03\\\\top_up\\\\charge_1693792537807.xlsx', 'D:\\\\Desktop\\\\travail_workspace\\\\ETL_workspace\\\\all_channel_rawdata\\\\2023-09-03\\\\top_up\\\\charge_1693792545023.xlsx', 'D:\\\\Desktop\\\\travail_workspace\\\\ETL_workspace\\\\all_channel_rawdata\\\\2023-09-03\\\\top_up\\\\charge_1693792555723.xlsx'], ['D:\\\\Desktop\\\\travail_workspace\\\\ETL_workspace\\\\all_channel_rawdata\\\\2023-09-04\\\\top_up\\\\charge_1693876580655.xlsx', 'D:\\\\Desktop\\\\travail_workspace\\\\ETL_workspace\\\\all_channel_rawdata\\\\2023-09-04\\\\top_up\\\\charge_1693876588722.xlsx', 'D:\\\\Desktop\\\\travail_workspace\\\\ETL_workspace\\\\all_channel_rawdata\\\\2023-09-04\\\\top_up\\\\charge_1693876595172.xlsx', 'D:\\\\Desktop\\\\travail_workspace\\\\ETL_workspace\\\\all_channel_rawdata\\\\2023-09-04\\\\top_up\\\\charge_1693876602239.xlsx', 'D:\\\\Desktop\\\\travail_workspace\\\\ETL_workspace\\\\all_channel_rawdata\\\\2023-09-04\\\\top_up\\\\charge_1693876608893.xlsx', 'D:\\\\Desktop\\\\travail_workspace\\\\ETL_workspace\\\\all_channel_rawdata\\\\2023-09-04\\\\top_up\\\\charge_1693876615523.xlsx', 'D:\\\\Desktop\\\\travail_workspace\\\\ETL_workspace\\\\all_channel_rawdata\\\\2023-09-04\\\\top_up\\\\charge_1693876622940.xlsx', 'D:\\\\Desktop\\\\travail_workspace\\\\ETL_workspace\\\\all_channel_rawdata\\\\2023-09-04\\\\top_up\\\\charge_1693876629905.xlsx', 'D:\\\\Desktop\\\\travail_workspace\\\\ETL_workspace\\\\all_channel_rawdata\\\\2023-09-04\\\\top_up\\\\charge_1693876637737.xlsx', 'D:\\\\Desktop\\\\travail_workspace\\\\ETL_workspace\\\\all_channel_rawdata\\\\2023-09-04\\\\top_up\\\\charge_1693876645060.xlsx', 'D:\\\\Desktop\\\\travail_workspace\\\\ETL_workspace\\\\all_channel_rawdata\\\\2023-09-04\\\\top_up\\\\charge_1693876651639.xlsx', 'D:\\\\Desktop\\\\travail_workspace\\\\ETL_workspace\\\\all_channel_rawdata\\\\2023-09-04\\\\top_up\\\\charge_1693876665515.xlsx'], ['D:\\\\Desktop\\\\travail_workspace\\\\ETL_workspace\\\\all_channel_rawdata\\\\2023-09-05\\\\top_up\\\\charge_1693962813030.xlsx', 'D:\\\\Desktop\\\\travail_workspace\\\\ETL_workspace\\\\all_channel_rawdata\\\\2023-09-05\\\\top_up\\\\charge_1693962832650.xlsx', 'D:\\\\Desktop\\\\travail_workspace\\\\ETL_workspace\\\\all_channel_rawdata\\\\2023-09-05\\\\top_up\\\\charge_1693962874049.xlsx', 'D:\\\\Desktop\\\\travail_workspace\\\\ETL_workspace\\\\all_channel_rawdata\\\\2023-09-05\\\\top_up\\\\charge_1693962881082.xlsx', 'D:\\\\Desktop\\\\travail_workspace\\\\ETL_workspace\\\\all_channel_rawdata\\\\2023-09-05\\\\top_up\\\\charge_1693962889582.xlsx', 'D:\\\\Desktop\\\\travail_workspace\\\\ETL_workspace\\\\all_channel_rawdata\\\\2023-09-05\\\\top_up\\\\charge_1693962899092.xlsx', 'D:\\\\Desktop\\\\travail_workspace\\\\ETL_workspace\\\\all_channel_rawdata\\\\2023-09-05\\\\top_up\\\\charge_1693962907205.xlsx', 'D:\\\\Desktop\\\\travail_workspace\\\\ETL_workspace\\\\all_channel_rawdata\\\\2023-09-05\\\\top_up\\\\charge_1693962930798.xlsx', 'D:\\\\Desktop\\\\travail_workspace\\\\ETL_workspace\\\\all_channel_rawdata\\\\2023-09-05\\\\top_up\\\\charge_1693962938054.xlsx', 'D:\\\\Desktop\\\\travail_workspace\\\\ETL_workspace\\\\all_channel_rawdata\\\\2023-09-05\\\\top_up\\\\charge_1693962962384.xlsx', 'D:\\\\Desktop\\\\travail_workspace\\\\ETL_workspace\\\\all_channel_rawdata\\\\2023-09-05\\\\top_up\\\\charge_1693962968925.xlsx', 'D:\\\\Desktop\\\\travail_workspace\\\\ETL_workspace\\\\all_channel_rawdata\\\\2023-09-05\\\\top_up\\\\charge_1693962979216.xlsx'], ['D:\\\\Desktop\\\\travail_workspace\\\\ETL_workspace\\\\all_channel_rawdata\\\\2023-09-06\\\\top_up\\\\charge_1694050508410.xlsx', 'D:\\\\Desktop\\\\travail_workspace\\\\ETL_workspace\\\\all_channel_rawdata\\\\2023-09-06\\\\top_up\\\\charge_1694050514418.xlsx', 'D:\\\\Desktop\\\\travail_workspace\\\\ETL_workspace\\\\all_channel_rawdata\\\\2023-09-06\\\\top_up\\\\charge_1694050522132.xlsx', 'D:\\\\Desktop\\\\travail_workspace\\\\ETL_workspace\\\\all_channel_rawdata\\\\2023-09-06\\\\top_up\\\\charge_1694050528083.xlsx', 'D:\\\\Desktop\\\\travail_workspace\\\\ETL_workspace\\\\all_channel_rawdata\\\\2023-09-06\\\\top_up\\\\charge_1694050533803.xlsx', 'D:\\\\Desktop\\\\travail_workspace\\\\ETL_workspace\\\\all_channel_rawdata\\\\2023-09-06\\\\top_up\\\\charge_1694050539708.xlsx', 'D:\\\\Desktop\\\\travail_workspace\\\\ETL_workspace\\\\all_channel_rawdata\\\\2023-09-06\\\\top_up\\\\charge_1694050545597.xlsx', 'D:\\\\Desktop\\\\travail_workspace\\\\ETL_workspace\\\\all_channel_rawdata\\\\2023-09-06\\\\top_up\\\\charge_1694050551835.xlsx', 'D:\\\\Desktop\\\\travail_workspace\\\\ETL_workspace\\\\all_channel_rawdata\\\\2023-09-06\\\\top_up\\\\charge_1694050577067.xlsx', 'D:\\\\Desktop\\\\travail_workspace\\\\ETL_workspace\\\\all_channel_rawdata\\\\2023-09-06\\\\top_up\\\\charge_1694050583326.xlsx', 'D:\\\\Desktop\\\\travail_workspace\\\\ETL_workspace\\\\all_channel_rawdata\\\\2023-09-06\\\\top_up\\\\charge_1694050591324.xlsx']]\n",
      "[['D:\\\\Desktop\\\\travail_workspace\\\\ETL_workspace\\\\all_channel_rawdata\\\\2023-09-03\\\\top_up\\\\charge_1693790327820.xlsx', 'D:\\\\Desktop\\\\travail_workspace\\\\ETL_workspace\\\\all_channel_rawdata\\\\2023-09-03\\\\top_up\\\\charge_1693792322842.xlsx', 'D:\\\\Desktop\\\\travail_workspace\\\\ETL_workspace\\\\all_channel_rawdata\\\\2023-09-03\\\\top_up\\\\charge_1693792332924.xlsx', 'D:\\\\Desktop\\\\travail_workspace\\\\ETL_workspace\\\\all_channel_rawdata\\\\2023-09-03\\\\top_up\\\\charge_1693792461232.xlsx', 'D:\\\\Desktop\\\\travail_workspace\\\\ETL_workspace\\\\all_channel_rawdata\\\\2023-09-03\\\\top_up\\\\charge_1693792470631.xlsx', 'D:\\\\Desktop\\\\travail_workspace\\\\ETL_workspace\\\\all_channel_rawdata\\\\2023-09-03\\\\top_up\\\\charge_1693792496032.xlsx', 'D:\\\\Desktop\\\\travail_workspace\\\\ETL_workspace\\\\all_channel_rawdata\\\\2023-09-03\\\\top_up\\\\charge_1693792502705.xlsx', 'D:\\\\Desktop\\\\travail_workspace\\\\ETL_workspace\\\\all_channel_rawdata\\\\2023-09-03\\\\top_up\\\\charge_1693792523135.xlsx', 'D:\\\\Desktop\\\\travail_workspace\\\\ETL_workspace\\\\all_channel_rawdata\\\\2023-09-03\\\\top_up\\\\charge_1693792530314.xlsx', 'D:\\\\Desktop\\\\travail_workspace\\\\ETL_workspace\\\\all_channel_rawdata\\\\2023-09-03\\\\top_up\\\\charge_1693792537807.xlsx', 'D:\\\\Desktop\\\\travail_workspace\\\\ETL_workspace\\\\all_channel_rawdata\\\\2023-09-03\\\\top_up\\\\charge_1693792545023.xlsx', 'D:\\\\Desktop\\\\travail_workspace\\\\ETL_workspace\\\\all_channel_rawdata\\\\2023-09-03\\\\top_up\\\\charge_1693792555723.xlsx'], ['D:\\\\Desktop\\\\travail_workspace\\\\ETL_workspace\\\\all_channel_rawdata\\\\2023-09-04\\\\top_up\\\\charge_1693876580655.xlsx', 'D:\\\\Desktop\\\\travail_workspace\\\\ETL_workspace\\\\all_channel_rawdata\\\\2023-09-04\\\\top_up\\\\charge_1693876588722.xlsx', 'D:\\\\Desktop\\\\travail_workspace\\\\ETL_workspace\\\\all_channel_rawdata\\\\2023-09-04\\\\top_up\\\\charge_1693876595172.xlsx', 'D:\\\\Desktop\\\\travail_workspace\\\\ETL_workspace\\\\all_channel_rawdata\\\\2023-09-04\\\\top_up\\\\charge_1693876602239.xlsx', 'D:\\\\Desktop\\\\travail_workspace\\\\ETL_workspace\\\\all_channel_rawdata\\\\2023-09-04\\\\top_up\\\\charge_1693876608893.xlsx', 'D:\\\\Desktop\\\\travail_workspace\\\\ETL_workspace\\\\all_channel_rawdata\\\\2023-09-04\\\\top_up\\\\charge_1693876615523.xlsx', 'D:\\\\Desktop\\\\travail_workspace\\\\ETL_workspace\\\\all_channel_rawdata\\\\2023-09-04\\\\top_up\\\\charge_1693876622940.xlsx', 'D:\\\\Desktop\\\\travail_workspace\\\\ETL_workspace\\\\all_channel_rawdata\\\\2023-09-04\\\\top_up\\\\charge_1693876629905.xlsx', 'D:\\\\Desktop\\\\travail_workspace\\\\ETL_workspace\\\\all_channel_rawdata\\\\2023-09-04\\\\top_up\\\\charge_1693876637737.xlsx', 'D:\\\\Desktop\\\\travail_workspace\\\\ETL_workspace\\\\all_channel_rawdata\\\\2023-09-04\\\\top_up\\\\charge_1693876645060.xlsx', 'D:\\\\Desktop\\\\travail_workspace\\\\ETL_workspace\\\\all_channel_rawdata\\\\2023-09-04\\\\top_up\\\\charge_1693876651639.xlsx', 'D:\\\\Desktop\\\\travail_workspace\\\\ETL_workspace\\\\all_channel_rawdata\\\\2023-09-04\\\\top_up\\\\charge_1693876665515.xlsx'], ['D:\\\\Desktop\\\\travail_workspace\\\\ETL_workspace\\\\all_channel_rawdata\\\\2023-09-05\\\\top_up\\\\charge_1693962813030.xlsx', 'D:\\\\Desktop\\\\travail_workspace\\\\ETL_workspace\\\\all_channel_rawdata\\\\2023-09-05\\\\top_up\\\\charge_1693962832650.xlsx', 'D:\\\\Desktop\\\\travail_workspace\\\\ETL_workspace\\\\all_channel_rawdata\\\\2023-09-05\\\\top_up\\\\charge_1693962874049.xlsx', 'D:\\\\Desktop\\\\travail_workspace\\\\ETL_workspace\\\\all_channel_rawdata\\\\2023-09-05\\\\top_up\\\\charge_1693962881082.xlsx', 'D:\\\\Desktop\\\\travail_workspace\\\\ETL_workspace\\\\all_channel_rawdata\\\\2023-09-05\\\\top_up\\\\charge_1693962889582.xlsx', 'D:\\\\Desktop\\\\travail_workspace\\\\ETL_workspace\\\\all_channel_rawdata\\\\2023-09-05\\\\top_up\\\\charge_1693962899092.xlsx', 'D:\\\\Desktop\\\\travail_workspace\\\\ETL_workspace\\\\all_channel_rawdata\\\\2023-09-05\\\\top_up\\\\charge_1693962907205.xlsx', 'D:\\\\Desktop\\\\travail_workspace\\\\ETL_workspace\\\\all_channel_rawdata\\\\2023-09-05\\\\top_up\\\\charge_1693962930798.xlsx', 'D:\\\\Desktop\\\\travail_workspace\\\\ETL_workspace\\\\all_channel_rawdata\\\\2023-09-05\\\\top_up\\\\charge_1693962938054.xlsx', 'D:\\\\Desktop\\\\travail_workspace\\\\ETL_workspace\\\\all_channel_rawdata\\\\2023-09-05\\\\top_up\\\\charge_1693962962384.xlsx', 'D:\\\\Desktop\\\\travail_workspace\\\\ETL_workspace\\\\all_channel_rawdata\\\\2023-09-05\\\\top_up\\\\charge_1693962968925.xlsx', 'D:\\\\Desktop\\\\travail_workspace\\\\ETL_workspace\\\\all_channel_rawdata\\\\2023-09-05\\\\top_up\\\\charge_1693962979216.xlsx'], ['D:\\\\Desktop\\\\travail_workspace\\\\ETL_workspace\\\\all_channel_rawdata\\\\2023-09-06\\\\top_up\\\\charge_1694050508410.xlsx', 'D:\\\\Desktop\\\\travail_workspace\\\\ETL_workspace\\\\all_channel_rawdata\\\\2023-09-06\\\\top_up\\\\charge_1694050514418.xlsx', 'D:\\\\Desktop\\\\travail_workspace\\\\ETL_workspace\\\\all_channel_rawdata\\\\2023-09-06\\\\top_up\\\\charge_1694050522132.xlsx', 'D:\\\\Desktop\\\\travail_workspace\\\\ETL_workspace\\\\all_channel_rawdata\\\\2023-09-06\\\\top_up\\\\charge_1694050528083.xlsx', 'D:\\\\Desktop\\\\travail_workspace\\\\ETL_workspace\\\\all_channel_rawdata\\\\2023-09-06\\\\top_up\\\\charge_1694050533803.xlsx', 'D:\\\\Desktop\\\\travail_workspace\\\\ETL_workspace\\\\all_channel_rawdata\\\\2023-09-06\\\\top_up\\\\charge_1694050539708.xlsx', 'D:\\\\Desktop\\\\travail_workspace\\\\ETL_workspace\\\\all_channel_rawdata\\\\2023-09-06\\\\top_up\\\\charge_1694050545597.xlsx', 'D:\\\\Desktop\\\\travail_workspace\\\\ETL_workspace\\\\all_channel_rawdata\\\\2023-09-06\\\\top_up\\\\charge_1694050551835.xlsx', 'D:\\\\Desktop\\\\travail_workspace\\\\ETL_workspace\\\\all_channel_rawdata\\\\2023-09-06\\\\top_up\\\\charge_1694050577067.xlsx', 'D:\\\\Desktop\\\\travail_workspace\\\\ETL_workspace\\\\all_channel_rawdata\\\\2023-09-06\\\\top_up\\\\charge_1694050583326.xlsx', 'D:\\\\Desktop\\\\travail_workspace\\\\ETL_workspace\\\\all_channel_rawdata\\\\2023-09-06\\\\top_up\\\\charge_1694050591324.xlsx'], ['D:\\\\Desktop\\\\travail_workspace\\\\ETL_workspace\\\\all_channel_rawdata\\\\2023-09-07\\\\top_up\\\\charge_1694138077742.xlsx', 'D:\\\\Desktop\\\\travail_workspace\\\\ETL_workspace\\\\all_channel_rawdata\\\\2023-09-07\\\\top_up\\\\charge_1694138097570.xlsx', 'D:\\\\Desktop\\\\travail_workspace\\\\ETL_workspace\\\\all_channel_rawdata\\\\2023-09-07\\\\top_up\\\\charge_1694138110869.xlsx', 'D:\\\\Desktop\\\\travail_workspace\\\\ETL_workspace\\\\all_channel_rawdata\\\\2023-09-07\\\\top_up\\\\charge_1694138467657.xlsx', 'D:\\\\Desktop\\\\travail_workspace\\\\ETL_workspace\\\\all_channel_rawdata\\\\2023-09-07\\\\top_up\\\\charge_1694138475180.xlsx', 'D:\\\\Desktop\\\\travail_workspace\\\\ETL_workspace\\\\all_channel_rawdata\\\\2023-09-07\\\\top_up\\\\charge_1694138482552.xlsx', 'D:\\\\Desktop\\\\travail_workspace\\\\ETL_workspace\\\\all_channel_rawdata\\\\2023-09-07\\\\top_up\\\\charge_1694138490243.xlsx', 'D:\\\\Desktop\\\\travail_workspace\\\\ETL_workspace\\\\all_channel_rawdata\\\\2023-09-07\\\\top_up\\\\charge_1694138498752.xlsx', 'D:\\\\Desktop\\\\travail_workspace\\\\ETL_workspace\\\\all_channel_rawdata\\\\2023-09-07\\\\top_up\\\\charge_1694138507331.xlsx', 'D:\\\\Desktop\\\\travail_workspace\\\\ETL_workspace\\\\all_channel_rawdata\\\\2023-09-07\\\\top_up\\\\charge_1694138514680.xlsx', 'D:\\\\Desktop\\\\travail_workspace\\\\ETL_workspace\\\\all_channel_rawdata\\\\2023-09-07\\\\top_up\\\\charge_1694138532582.xlsx']]\n",
      "[['D:\\\\Desktop\\\\travail_workspace\\\\ETL_workspace\\\\all_channel_rawdata\\\\2023-09-03\\\\top_up\\\\charge_1693790327820.xlsx', 'D:\\\\Desktop\\\\travail_workspace\\\\ETL_workspace\\\\all_channel_rawdata\\\\2023-09-03\\\\top_up\\\\charge_1693792322842.xlsx', 'D:\\\\Desktop\\\\travail_workspace\\\\ETL_workspace\\\\all_channel_rawdata\\\\2023-09-03\\\\top_up\\\\charge_1693792332924.xlsx', 'D:\\\\Desktop\\\\travail_workspace\\\\ETL_workspace\\\\all_channel_rawdata\\\\2023-09-03\\\\top_up\\\\charge_1693792461232.xlsx', 'D:\\\\Desktop\\\\travail_workspace\\\\ETL_workspace\\\\all_channel_rawdata\\\\2023-09-03\\\\top_up\\\\charge_1693792470631.xlsx', 'D:\\\\Desktop\\\\travail_workspace\\\\ETL_workspace\\\\all_channel_rawdata\\\\2023-09-03\\\\top_up\\\\charge_1693792496032.xlsx', 'D:\\\\Desktop\\\\travail_workspace\\\\ETL_workspace\\\\all_channel_rawdata\\\\2023-09-03\\\\top_up\\\\charge_1693792502705.xlsx', 'D:\\\\Desktop\\\\travail_workspace\\\\ETL_workspace\\\\all_channel_rawdata\\\\2023-09-03\\\\top_up\\\\charge_1693792523135.xlsx', 'D:\\\\Desktop\\\\travail_workspace\\\\ETL_workspace\\\\all_channel_rawdata\\\\2023-09-03\\\\top_up\\\\charge_1693792530314.xlsx', 'D:\\\\Desktop\\\\travail_workspace\\\\ETL_workspace\\\\all_channel_rawdata\\\\2023-09-03\\\\top_up\\\\charge_1693792537807.xlsx', 'D:\\\\Desktop\\\\travail_workspace\\\\ETL_workspace\\\\all_channel_rawdata\\\\2023-09-03\\\\top_up\\\\charge_1693792545023.xlsx', 'D:\\\\Desktop\\\\travail_workspace\\\\ETL_workspace\\\\all_channel_rawdata\\\\2023-09-03\\\\top_up\\\\charge_1693792555723.xlsx'], ['D:\\\\Desktop\\\\travail_workspace\\\\ETL_workspace\\\\all_channel_rawdata\\\\2023-09-04\\\\top_up\\\\charge_1693876580655.xlsx', 'D:\\\\Desktop\\\\travail_workspace\\\\ETL_workspace\\\\all_channel_rawdata\\\\2023-09-04\\\\top_up\\\\charge_1693876588722.xlsx', 'D:\\\\Desktop\\\\travail_workspace\\\\ETL_workspace\\\\all_channel_rawdata\\\\2023-09-04\\\\top_up\\\\charge_1693876595172.xlsx', 'D:\\\\Desktop\\\\travail_workspace\\\\ETL_workspace\\\\all_channel_rawdata\\\\2023-09-04\\\\top_up\\\\charge_1693876602239.xlsx', 'D:\\\\Desktop\\\\travail_workspace\\\\ETL_workspace\\\\all_channel_rawdata\\\\2023-09-04\\\\top_up\\\\charge_1693876608893.xlsx', 'D:\\\\Desktop\\\\travail_workspace\\\\ETL_workspace\\\\all_channel_rawdata\\\\2023-09-04\\\\top_up\\\\charge_1693876615523.xlsx', 'D:\\\\Desktop\\\\travail_workspace\\\\ETL_workspace\\\\all_channel_rawdata\\\\2023-09-04\\\\top_up\\\\charge_1693876622940.xlsx', 'D:\\\\Desktop\\\\travail_workspace\\\\ETL_workspace\\\\all_channel_rawdata\\\\2023-09-04\\\\top_up\\\\charge_1693876629905.xlsx', 'D:\\\\Desktop\\\\travail_workspace\\\\ETL_workspace\\\\all_channel_rawdata\\\\2023-09-04\\\\top_up\\\\charge_1693876637737.xlsx', 'D:\\\\Desktop\\\\travail_workspace\\\\ETL_workspace\\\\all_channel_rawdata\\\\2023-09-04\\\\top_up\\\\charge_1693876645060.xlsx', 'D:\\\\Desktop\\\\travail_workspace\\\\ETL_workspace\\\\all_channel_rawdata\\\\2023-09-04\\\\top_up\\\\charge_1693876651639.xlsx', 'D:\\\\Desktop\\\\travail_workspace\\\\ETL_workspace\\\\all_channel_rawdata\\\\2023-09-04\\\\top_up\\\\charge_1693876665515.xlsx'], ['D:\\\\Desktop\\\\travail_workspace\\\\ETL_workspace\\\\all_channel_rawdata\\\\2023-09-05\\\\top_up\\\\charge_1693962813030.xlsx', 'D:\\\\Desktop\\\\travail_workspace\\\\ETL_workspace\\\\all_channel_rawdata\\\\2023-09-05\\\\top_up\\\\charge_1693962832650.xlsx', 'D:\\\\Desktop\\\\travail_workspace\\\\ETL_workspace\\\\all_channel_rawdata\\\\2023-09-05\\\\top_up\\\\charge_1693962874049.xlsx', 'D:\\\\Desktop\\\\travail_workspace\\\\ETL_workspace\\\\all_channel_rawdata\\\\2023-09-05\\\\top_up\\\\charge_1693962881082.xlsx', 'D:\\\\Desktop\\\\travail_workspace\\\\ETL_workspace\\\\all_channel_rawdata\\\\2023-09-05\\\\top_up\\\\charge_1693962889582.xlsx', 'D:\\\\Desktop\\\\travail_workspace\\\\ETL_workspace\\\\all_channel_rawdata\\\\2023-09-05\\\\top_up\\\\charge_1693962899092.xlsx', 'D:\\\\Desktop\\\\travail_workspace\\\\ETL_workspace\\\\all_channel_rawdata\\\\2023-09-05\\\\top_up\\\\charge_1693962907205.xlsx', 'D:\\\\Desktop\\\\travail_workspace\\\\ETL_workspace\\\\all_channel_rawdata\\\\2023-09-05\\\\top_up\\\\charge_1693962930798.xlsx', 'D:\\\\Desktop\\\\travail_workspace\\\\ETL_workspace\\\\all_channel_rawdata\\\\2023-09-05\\\\top_up\\\\charge_1693962938054.xlsx', 'D:\\\\Desktop\\\\travail_workspace\\\\ETL_workspace\\\\all_channel_rawdata\\\\2023-09-05\\\\top_up\\\\charge_1693962962384.xlsx', 'D:\\\\Desktop\\\\travail_workspace\\\\ETL_workspace\\\\all_channel_rawdata\\\\2023-09-05\\\\top_up\\\\charge_1693962968925.xlsx', 'D:\\\\Desktop\\\\travail_workspace\\\\ETL_workspace\\\\all_channel_rawdata\\\\2023-09-05\\\\top_up\\\\charge_1693962979216.xlsx'], ['D:\\\\Desktop\\\\travail_workspace\\\\ETL_workspace\\\\all_channel_rawdata\\\\2023-09-06\\\\top_up\\\\charge_1694050508410.xlsx', 'D:\\\\Desktop\\\\travail_workspace\\\\ETL_workspace\\\\all_channel_rawdata\\\\2023-09-06\\\\top_up\\\\charge_1694050514418.xlsx', 'D:\\\\Desktop\\\\travail_workspace\\\\ETL_workspace\\\\all_channel_rawdata\\\\2023-09-06\\\\top_up\\\\charge_1694050522132.xlsx', 'D:\\\\Desktop\\\\travail_workspace\\\\ETL_workspace\\\\all_channel_rawdata\\\\2023-09-06\\\\top_up\\\\charge_1694050528083.xlsx', 'D:\\\\Desktop\\\\travail_workspace\\\\ETL_workspace\\\\all_channel_rawdata\\\\2023-09-06\\\\top_up\\\\charge_1694050533803.xlsx', 'D:\\\\Desktop\\\\travail_workspace\\\\ETL_workspace\\\\all_channel_rawdata\\\\2023-09-06\\\\top_up\\\\charge_1694050539708.xlsx', 'D:\\\\Desktop\\\\travail_workspace\\\\ETL_workspace\\\\all_channel_rawdata\\\\2023-09-06\\\\top_up\\\\charge_1694050545597.xlsx', 'D:\\\\Desktop\\\\travail_workspace\\\\ETL_workspace\\\\all_channel_rawdata\\\\2023-09-06\\\\top_up\\\\charge_1694050551835.xlsx', 'D:\\\\Desktop\\\\travail_workspace\\\\ETL_workspace\\\\all_channel_rawdata\\\\2023-09-06\\\\top_up\\\\charge_1694050577067.xlsx', 'D:\\\\Desktop\\\\travail_workspace\\\\ETL_workspace\\\\all_channel_rawdata\\\\2023-09-06\\\\top_up\\\\charge_1694050583326.xlsx', 'D:\\\\Desktop\\\\travail_workspace\\\\ETL_workspace\\\\all_channel_rawdata\\\\2023-09-06\\\\top_up\\\\charge_1694050591324.xlsx'], ['D:\\\\Desktop\\\\travail_workspace\\\\ETL_workspace\\\\all_channel_rawdata\\\\2023-09-07\\\\top_up\\\\charge_1694138077742.xlsx', 'D:\\\\Desktop\\\\travail_workspace\\\\ETL_workspace\\\\all_channel_rawdata\\\\2023-09-07\\\\top_up\\\\charge_1694138097570.xlsx', 'D:\\\\Desktop\\\\travail_workspace\\\\ETL_workspace\\\\all_channel_rawdata\\\\2023-09-07\\\\top_up\\\\charge_1694138110869.xlsx', 'D:\\\\Desktop\\\\travail_workspace\\\\ETL_workspace\\\\all_channel_rawdata\\\\2023-09-07\\\\top_up\\\\charge_1694138467657.xlsx', 'D:\\\\Desktop\\\\travail_workspace\\\\ETL_workspace\\\\all_channel_rawdata\\\\2023-09-07\\\\top_up\\\\charge_1694138475180.xlsx', 'D:\\\\Desktop\\\\travail_workspace\\\\ETL_workspace\\\\all_channel_rawdata\\\\2023-09-07\\\\top_up\\\\charge_1694138482552.xlsx', 'D:\\\\Desktop\\\\travail_workspace\\\\ETL_workspace\\\\all_channel_rawdata\\\\2023-09-07\\\\top_up\\\\charge_1694138490243.xlsx', 'D:\\\\Desktop\\\\travail_workspace\\\\ETL_workspace\\\\all_channel_rawdata\\\\2023-09-07\\\\top_up\\\\charge_1694138498752.xlsx', 'D:\\\\Desktop\\\\travail_workspace\\\\ETL_workspace\\\\all_channel_rawdata\\\\2023-09-07\\\\top_up\\\\charge_1694138507331.xlsx', 'D:\\\\Desktop\\\\travail_workspace\\\\ETL_workspace\\\\all_channel_rawdata\\\\2023-09-07\\\\top_up\\\\charge_1694138514680.xlsx', 'D:\\\\Desktop\\\\travail_workspace\\\\ETL_workspace\\\\all_channel_rawdata\\\\2023-09-07\\\\top_up\\\\charge_1694138532582.xlsx'], ['D:\\\\Desktop\\\\travail_workspace\\\\ETL_workspace\\\\all_channel_rawdata\\\\2023-09-08\\\\top_up\\\\charge_1694224844407.xlsx', 'D:\\\\Desktop\\\\travail_workspace\\\\ETL_workspace\\\\all_channel_rawdata\\\\2023-09-08\\\\top_up\\\\charge_1694224851794.xlsx', 'D:\\\\Desktop\\\\travail_workspace\\\\ETL_workspace\\\\all_channel_rawdata\\\\2023-09-08\\\\top_up\\\\charge_1694224859161.xlsx', 'D:\\\\Desktop\\\\travail_workspace\\\\ETL_workspace\\\\all_channel_rawdata\\\\2023-09-08\\\\top_up\\\\charge_1694224865845.xlsx', 'D:\\\\Desktop\\\\travail_workspace\\\\ETL_workspace\\\\all_channel_rawdata\\\\2023-09-08\\\\top_up\\\\charge_1694224872675.xlsx', 'D:\\\\Desktop\\\\travail_workspace\\\\ETL_workspace\\\\all_channel_rawdata\\\\2023-09-08\\\\top_up\\\\charge_1694224879346.xlsx', 'D:\\\\Desktop\\\\travail_workspace\\\\ETL_workspace\\\\all_channel_rawdata\\\\2023-09-08\\\\top_up\\\\charge_1694224886225.xlsx', 'D:\\\\Desktop\\\\travail_workspace\\\\ETL_workspace\\\\all_channel_rawdata\\\\2023-09-08\\\\top_up\\\\charge_1694224893163.xlsx', 'D:\\\\Desktop\\\\travail_workspace\\\\ETL_workspace\\\\all_channel_rawdata\\\\2023-09-08\\\\top_up\\\\charge_1694224907059.xlsx', 'D:\\\\Desktop\\\\travail_workspace\\\\ETL_workspace\\\\all_channel_rawdata\\\\2023-09-08\\\\top_up\\\\charge_1694224913352.xlsx', 'D:\\\\Desktop\\\\travail_workspace\\\\ETL_workspace\\\\all_channel_rawdata\\\\2023-09-08\\\\top_up\\\\charge_1694224927067.xlsx']]\n",
      "[['D:\\\\Desktop\\\\travail_workspace\\\\ETL_workspace\\\\all_channel_rawdata\\\\2023-09-03\\\\top_up\\\\charge_1693790327820.xlsx', 'D:\\\\Desktop\\\\travail_workspace\\\\ETL_workspace\\\\all_channel_rawdata\\\\2023-09-03\\\\top_up\\\\charge_1693792322842.xlsx', 'D:\\\\Desktop\\\\travail_workspace\\\\ETL_workspace\\\\all_channel_rawdata\\\\2023-09-03\\\\top_up\\\\charge_1693792332924.xlsx', 'D:\\\\Desktop\\\\travail_workspace\\\\ETL_workspace\\\\all_channel_rawdata\\\\2023-09-03\\\\top_up\\\\charge_1693792461232.xlsx', 'D:\\\\Desktop\\\\travail_workspace\\\\ETL_workspace\\\\all_channel_rawdata\\\\2023-09-03\\\\top_up\\\\charge_1693792470631.xlsx', 'D:\\\\Desktop\\\\travail_workspace\\\\ETL_workspace\\\\all_channel_rawdata\\\\2023-09-03\\\\top_up\\\\charge_1693792496032.xlsx', 'D:\\\\Desktop\\\\travail_workspace\\\\ETL_workspace\\\\all_channel_rawdata\\\\2023-09-03\\\\top_up\\\\charge_1693792502705.xlsx', 'D:\\\\Desktop\\\\travail_workspace\\\\ETL_workspace\\\\all_channel_rawdata\\\\2023-09-03\\\\top_up\\\\charge_1693792523135.xlsx', 'D:\\\\Desktop\\\\travail_workspace\\\\ETL_workspace\\\\all_channel_rawdata\\\\2023-09-03\\\\top_up\\\\charge_1693792530314.xlsx', 'D:\\\\Desktop\\\\travail_workspace\\\\ETL_workspace\\\\all_channel_rawdata\\\\2023-09-03\\\\top_up\\\\charge_1693792537807.xlsx', 'D:\\\\Desktop\\\\travail_workspace\\\\ETL_workspace\\\\all_channel_rawdata\\\\2023-09-03\\\\top_up\\\\charge_1693792545023.xlsx', 'D:\\\\Desktop\\\\travail_workspace\\\\ETL_workspace\\\\all_channel_rawdata\\\\2023-09-03\\\\top_up\\\\charge_1693792555723.xlsx'], ['D:\\\\Desktop\\\\travail_workspace\\\\ETL_workspace\\\\all_channel_rawdata\\\\2023-09-04\\\\top_up\\\\charge_1693876580655.xlsx', 'D:\\\\Desktop\\\\travail_workspace\\\\ETL_workspace\\\\all_channel_rawdata\\\\2023-09-04\\\\top_up\\\\charge_1693876588722.xlsx', 'D:\\\\Desktop\\\\travail_workspace\\\\ETL_workspace\\\\all_channel_rawdata\\\\2023-09-04\\\\top_up\\\\charge_1693876595172.xlsx', 'D:\\\\Desktop\\\\travail_workspace\\\\ETL_workspace\\\\all_channel_rawdata\\\\2023-09-04\\\\top_up\\\\charge_1693876602239.xlsx', 'D:\\\\Desktop\\\\travail_workspace\\\\ETL_workspace\\\\all_channel_rawdata\\\\2023-09-04\\\\top_up\\\\charge_1693876608893.xlsx', 'D:\\\\Desktop\\\\travail_workspace\\\\ETL_workspace\\\\all_channel_rawdata\\\\2023-09-04\\\\top_up\\\\charge_1693876615523.xlsx', 'D:\\\\Desktop\\\\travail_workspace\\\\ETL_workspace\\\\all_channel_rawdata\\\\2023-09-04\\\\top_up\\\\charge_1693876622940.xlsx', 'D:\\\\Desktop\\\\travail_workspace\\\\ETL_workspace\\\\all_channel_rawdata\\\\2023-09-04\\\\top_up\\\\charge_1693876629905.xlsx', 'D:\\\\Desktop\\\\travail_workspace\\\\ETL_workspace\\\\all_channel_rawdata\\\\2023-09-04\\\\top_up\\\\charge_1693876637737.xlsx', 'D:\\\\Desktop\\\\travail_workspace\\\\ETL_workspace\\\\all_channel_rawdata\\\\2023-09-04\\\\top_up\\\\charge_1693876645060.xlsx', 'D:\\\\Desktop\\\\travail_workspace\\\\ETL_workspace\\\\all_channel_rawdata\\\\2023-09-04\\\\top_up\\\\charge_1693876651639.xlsx', 'D:\\\\Desktop\\\\travail_workspace\\\\ETL_workspace\\\\all_channel_rawdata\\\\2023-09-04\\\\top_up\\\\charge_1693876665515.xlsx'], ['D:\\\\Desktop\\\\travail_workspace\\\\ETL_workspace\\\\all_channel_rawdata\\\\2023-09-05\\\\top_up\\\\charge_1693962813030.xlsx', 'D:\\\\Desktop\\\\travail_workspace\\\\ETL_workspace\\\\all_channel_rawdata\\\\2023-09-05\\\\top_up\\\\charge_1693962832650.xlsx', 'D:\\\\Desktop\\\\travail_workspace\\\\ETL_workspace\\\\all_channel_rawdata\\\\2023-09-05\\\\top_up\\\\charge_1693962874049.xlsx', 'D:\\\\Desktop\\\\travail_workspace\\\\ETL_workspace\\\\all_channel_rawdata\\\\2023-09-05\\\\top_up\\\\charge_1693962881082.xlsx', 'D:\\\\Desktop\\\\travail_workspace\\\\ETL_workspace\\\\all_channel_rawdata\\\\2023-09-05\\\\top_up\\\\charge_1693962889582.xlsx', 'D:\\\\Desktop\\\\travail_workspace\\\\ETL_workspace\\\\all_channel_rawdata\\\\2023-09-05\\\\top_up\\\\charge_1693962899092.xlsx', 'D:\\\\Desktop\\\\travail_workspace\\\\ETL_workspace\\\\all_channel_rawdata\\\\2023-09-05\\\\top_up\\\\charge_1693962907205.xlsx', 'D:\\\\Desktop\\\\travail_workspace\\\\ETL_workspace\\\\all_channel_rawdata\\\\2023-09-05\\\\top_up\\\\charge_1693962930798.xlsx', 'D:\\\\Desktop\\\\travail_workspace\\\\ETL_workspace\\\\all_channel_rawdata\\\\2023-09-05\\\\top_up\\\\charge_1693962938054.xlsx', 'D:\\\\Desktop\\\\travail_workspace\\\\ETL_workspace\\\\all_channel_rawdata\\\\2023-09-05\\\\top_up\\\\charge_1693962962384.xlsx', 'D:\\\\Desktop\\\\travail_workspace\\\\ETL_workspace\\\\all_channel_rawdata\\\\2023-09-05\\\\top_up\\\\charge_1693962968925.xlsx', 'D:\\\\Desktop\\\\travail_workspace\\\\ETL_workspace\\\\all_channel_rawdata\\\\2023-09-05\\\\top_up\\\\charge_1693962979216.xlsx'], ['D:\\\\Desktop\\\\travail_workspace\\\\ETL_workspace\\\\all_channel_rawdata\\\\2023-09-06\\\\top_up\\\\charge_1694050508410.xlsx', 'D:\\\\Desktop\\\\travail_workspace\\\\ETL_workspace\\\\all_channel_rawdata\\\\2023-09-06\\\\top_up\\\\charge_1694050514418.xlsx', 'D:\\\\Desktop\\\\travail_workspace\\\\ETL_workspace\\\\all_channel_rawdata\\\\2023-09-06\\\\top_up\\\\charge_1694050522132.xlsx', 'D:\\\\Desktop\\\\travail_workspace\\\\ETL_workspace\\\\all_channel_rawdata\\\\2023-09-06\\\\top_up\\\\charge_1694050528083.xlsx', 'D:\\\\Desktop\\\\travail_workspace\\\\ETL_workspace\\\\all_channel_rawdata\\\\2023-09-06\\\\top_up\\\\charge_1694050533803.xlsx', 'D:\\\\Desktop\\\\travail_workspace\\\\ETL_workspace\\\\all_channel_rawdata\\\\2023-09-06\\\\top_up\\\\charge_1694050539708.xlsx', 'D:\\\\Desktop\\\\travail_workspace\\\\ETL_workspace\\\\all_channel_rawdata\\\\2023-09-06\\\\top_up\\\\charge_1694050545597.xlsx', 'D:\\\\Desktop\\\\travail_workspace\\\\ETL_workspace\\\\all_channel_rawdata\\\\2023-09-06\\\\top_up\\\\charge_1694050551835.xlsx', 'D:\\\\Desktop\\\\travail_workspace\\\\ETL_workspace\\\\all_channel_rawdata\\\\2023-09-06\\\\top_up\\\\charge_1694050577067.xlsx', 'D:\\\\Desktop\\\\travail_workspace\\\\ETL_workspace\\\\all_channel_rawdata\\\\2023-09-06\\\\top_up\\\\charge_1694050583326.xlsx', 'D:\\\\Desktop\\\\travail_workspace\\\\ETL_workspace\\\\all_channel_rawdata\\\\2023-09-06\\\\top_up\\\\charge_1694050591324.xlsx'], ['D:\\\\Desktop\\\\travail_workspace\\\\ETL_workspace\\\\all_channel_rawdata\\\\2023-09-07\\\\top_up\\\\charge_1694138077742.xlsx', 'D:\\\\Desktop\\\\travail_workspace\\\\ETL_workspace\\\\all_channel_rawdata\\\\2023-09-07\\\\top_up\\\\charge_1694138097570.xlsx', 'D:\\\\Desktop\\\\travail_workspace\\\\ETL_workspace\\\\all_channel_rawdata\\\\2023-09-07\\\\top_up\\\\charge_1694138110869.xlsx', 'D:\\\\Desktop\\\\travail_workspace\\\\ETL_workspace\\\\all_channel_rawdata\\\\2023-09-07\\\\top_up\\\\charge_1694138467657.xlsx', 'D:\\\\Desktop\\\\travail_workspace\\\\ETL_workspace\\\\all_channel_rawdata\\\\2023-09-07\\\\top_up\\\\charge_1694138475180.xlsx', 'D:\\\\Desktop\\\\travail_workspace\\\\ETL_workspace\\\\all_channel_rawdata\\\\2023-09-07\\\\top_up\\\\charge_1694138482552.xlsx', 'D:\\\\Desktop\\\\travail_workspace\\\\ETL_workspace\\\\all_channel_rawdata\\\\2023-09-07\\\\top_up\\\\charge_1694138490243.xlsx', 'D:\\\\Desktop\\\\travail_workspace\\\\ETL_workspace\\\\all_channel_rawdata\\\\2023-09-07\\\\top_up\\\\charge_1694138498752.xlsx', 'D:\\\\Desktop\\\\travail_workspace\\\\ETL_workspace\\\\all_channel_rawdata\\\\2023-09-07\\\\top_up\\\\charge_1694138507331.xlsx', 'D:\\\\Desktop\\\\travail_workspace\\\\ETL_workspace\\\\all_channel_rawdata\\\\2023-09-07\\\\top_up\\\\charge_1694138514680.xlsx', 'D:\\\\Desktop\\\\travail_workspace\\\\ETL_workspace\\\\all_channel_rawdata\\\\2023-09-07\\\\top_up\\\\charge_1694138532582.xlsx'], ['D:\\\\Desktop\\\\travail_workspace\\\\ETL_workspace\\\\all_channel_rawdata\\\\2023-09-08\\\\top_up\\\\charge_1694224844407.xlsx', 'D:\\\\Desktop\\\\travail_workspace\\\\ETL_workspace\\\\all_channel_rawdata\\\\2023-09-08\\\\top_up\\\\charge_1694224851794.xlsx', 'D:\\\\Desktop\\\\travail_workspace\\\\ETL_workspace\\\\all_channel_rawdata\\\\2023-09-08\\\\top_up\\\\charge_1694224859161.xlsx', 'D:\\\\Desktop\\\\travail_workspace\\\\ETL_workspace\\\\all_channel_rawdata\\\\2023-09-08\\\\top_up\\\\charge_1694224865845.xlsx', 'D:\\\\Desktop\\\\travail_workspace\\\\ETL_workspace\\\\all_channel_rawdata\\\\2023-09-08\\\\top_up\\\\charge_1694224872675.xlsx', 'D:\\\\Desktop\\\\travail_workspace\\\\ETL_workspace\\\\all_channel_rawdata\\\\2023-09-08\\\\top_up\\\\charge_1694224879346.xlsx', 'D:\\\\Desktop\\\\travail_workspace\\\\ETL_workspace\\\\all_channel_rawdata\\\\2023-09-08\\\\top_up\\\\charge_1694224886225.xlsx', 'D:\\\\Desktop\\\\travail_workspace\\\\ETL_workspace\\\\all_channel_rawdata\\\\2023-09-08\\\\top_up\\\\charge_1694224893163.xlsx', 'D:\\\\Desktop\\\\travail_workspace\\\\ETL_workspace\\\\all_channel_rawdata\\\\2023-09-08\\\\top_up\\\\charge_1694224907059.xlsx', 'D:\\\\Desktop\\\\travail_workspace\\\\ETL_workspace\\\\all_channel_rawdata\\\\2023-09-08\\\\top_up\\\\charge_1694224913352.xlsx', 'D:\\\\Desktop\\\\travail_workspace\\\\ETL_workspace\\\\all_channel_rawdata\\\\2023-09-08\\\\top_up\\\\charge_1694224927067.xlsx'], ['D:\\\\Desktop\\\\travail_workspace\\\\ETL_workspace\\\\all_channel_rawdata\\\\2023-09-09\\\\top_up\\\\charge_1694309406179.xlsx', 'D:\\\\Desktop\\\\travail_workspace\\\\ETL_workspace\\\\all_channel_rawdata\\\\2023-09-09\\\\top_up\\\\charge_1694309413953.xlsx', 'D:\\\\Desktop\\\\travail_workspace\\\\ETL_workspace\\\\all_channel_rawdata\\\\2023-09-09\\\\top_up\\\\charge_1694309419994.xlsx', 'D:\\\\Desktop\\\\travail_workspace\\\\ETL_workspace\\\\all_channel_rawdata\\\\2023-09-09\\\\top_up\\\\charge_1694309426489.xlsx', 'D:\\\\Desktop\\\\travail_workspace\\\\ETL_workspace\\\\all_channel_rawdata\\\\2023-09-09\\\\top_up\\\\charge_1694309434268.xlsx', 'D:\\\\Desktop\\\\travail_workspace\\\\ETL_workspace\\\\all_channel_rawdata\\\\2023-09-09\\\\top_up\\\\charge_1694309441146.xlsx', 'D:\\\\Desktop\\\\travail_workspace\\\\ETL_workspace\\\\all_channel_rawdata\\\\2023-09-09\\\\top_up\\\\charge_1694309447162.xlsx', 'D:\\\\Desktop\\\\travail_workspace\\\\ETL_workspace\\\\all_channel_rawdata\\\\2023-09-09\\\\top_up\\\\charge_1694309453705.xlsx', 'D:\\\\Desktop\\\\travail_workspace\\\\ETL_workspace\\\\all_channel_rawdata\\\\2023-09-09\\\\top_up\\\\charge_1694309459789.xlsx', 'D:\\\\Desktop\\\\travail_workspace\\\\ETL_workspace\\\\all_channel_rawdata\\\\2023-09-09\\\\top_up\\\\charge_1694309467104.xlsx', 'D:\\\\Desktop\\\\travail_workspace\\\\ETL_workspace\\\\all_channel_rawdata\\\\2023-09-09\\\\top_up\\\\charge_1694309481351.xlsx']]\n",
      "[['D:\\\\Desktop\\\\travail_workspace\\\\ETL_workspace\\\\all_channel_rawdata\\\\2023-09-03\\\\top_up\\\\charge_1693790327820.xlsx', 'D:\\\\Desktop\\\\travail_workspace\\\\ETL_workspace\\\\all_channel_rawdata\\\\2023-09-03\\\\top_up\\\\charge_1693792322842.xlsx', 'D:\\\\Desktop\\\\travail_workspace\\\\ETL_workspace\\\\all_channel_rawdata\\\\2023-09-03\\\\top_up\\\\charge_1693792332924.xlsx', 'D:\\\\Desktop\\\\travail_workspace\\\\ETL_workspace\\\\all_channel_rawdata\\\\2023-09-03\\\\top_up\\\\charge_1693792461232.xlsx', 'D:\\\\Desktop\\\\travail_workspace\\\\ETL_workspace\\\\all_channel_rawdata\\\\2023-09-03\\\\top_up\\\\charge_1693792470631.xlsx', 'D:\\\\Desktop\\\\travail_workspace\\\\ETL_workspace\\\\all_channel_rawdata\\\\2023-09-03\\\\top_up\\\\charge_1693792496032.xlsx', 'D:\\\\Desktop\\\\travail_workspace\\\\ETL_workspace\\\\all_channel_rawdata\\\\2023-09-03\\\\top_up\\\\charge_1693792502705.xlsx', 'D:\\\\Desktop\\\\travail_workspace\\\\ETL_workspace\\\\all_channel_rawdata\\\\2023-09-03\\\\top_up\\\\charge_1693792523135.xlsx', 'D:\\\\Desktop\\\\travail_workspace\\\\ETL_workspace\\\\all_channel_rawdata\\\\2023-09-03\\\\top_up\\\\charge_1693792530314.xlsx', 'D:\\\\Desktop\\\\travail_workspace\\\\ETL_workspace\\\\all_channel_rawdata\\\\2023-09-03\\\\top_up\\\\charge_1693792537807.xlsx', 'D:\\\\Desktop\\\\travail_workspace\\\\ETL_workspace\\\\all_channel_rawdata\\\\2023-09-03\\\\top_up\\\\charge_1693792545023.xlsx', 'D:\\\\Desktop\\\\travail_workspace\\\\ETL_workspace\\\\all_channel_rawdata\\\\2023-09-03\\\\top_up\\\\charge_1693792555723.xlsx'], ['D:\\\\Desktop\\\\travail_workspace\\\\ETL_workspace\\\\all_channel_rawdata\\\\2023-09-04\\\\top_up\\\\charge_1693876580655.xlsx', 'D:\\\\Desktop\\\\travail_workspace\\\\ETL_workspace\\\\all_channel_rawdata\\\\2023-09-04\\\\top_up\\\\charge_1693876588722.xlsx', 'D:\\\\Desktop\\\\travail_workspace\\\\ETL_workspace\\\\all_channel_rawdata\\\\2023-09-04\\\\top_up\\\\charge_1693876595172.xlsx', 'D:\\\\Desktop\\\\travail_workspace\\\\ETL_workspace\\\\all_channel_rawdata\\\\2023-09-04\\\\top_up\\\\charge_1693876602239.xlsx', 'D:\\\\Desktop\\\\travail_workspace\\\\ETL_workspace\\\\all_channel_rawdata\\\\2023-09-04\\\\top_up\\\\charge_1693876608893.xlsx', 'D:\\\\Desktop\\\\travail_workspace\\\\ETL_workspace\\\\all_channel_rawdata\\\\2023-09-04\\\\top_up\\\\charge_1693876615523.xlsx', 'D:\\\\Desktop\\\\travail_workspace\\\\ETL_workspace\\\\all_channel_rawdata\\\\2023-09-04\\\\top_up\\\\charge_1693876622940.xlsx', 'D:\\\\Desktop\\\\travail_workspace\\\\ETL_workspace\\\\all_channel_rawdata\\\\2023-09-04\\\\top_up\\\\charge_1693876629905.xlsx', 'D:\\\\Desktop\\\\travail_workspace\\\\ETL_workspace\\\\all_channel_rawdata\\\\2023-09-04\\\\top_up\\\\charge_1693876637737.xlsx', 'D:\\\\Desktop\\\\travail_workspace\\\\ETL_workspace\\\\all_channel_rawdata\\\\2023-09-04\\\\top_up\\\\charge_1693876645060.xlsx', 'D:\\\\Desktop\\\\travail_workspace\\\\ETL_workspace\\\\all_channel_rawdata\\\\2023-09-04\\\\top_up\\\\charge_1693876651639.xlsx', 'D:\\\\Desktop\\\\travail_workspace\\\\ETL_workspace\\\\all_channel_rawdata\\\\2023-09-04\\\\top_up\\\\charge_1693876665515.xlsx'], ['D:\\\\Desktop\\\\travail_workspace\\\\ETL_workspace\\\\all_channel_rawdata\\\\2023-09-05\\\\top_up\\\\charge_1693962813030.xlsx', 'D:\\\\Desktop\\\\travail_workspace\\\\ETL_workspace\\\\all_channel_rawdata\\\\2023-09-05\\\\top_up\\\\charge_1693962832650.xlsx', 'D:\\\\Desktop\\\\travail_workspace\\\\ETL_workspace\\\\all_channel_rawdata\\\\2023-09-05\\\\top_up\\\\charge_1693962874049.xlsx', 'D:\\\\Desktop\\\\travail_workspace\\\\ETL_workspace\\\\all_channel_rawdata\\\\2023-09-05\\\\top_up\\\\charge_1693962881082.xlsx', 'D:\\\\Desktop\\\\travail_workspace\\\\ETL_workspace\\\\all_channel_rawdata\\\\2023-09-05\\\\top_up\\\\charge_1693962889582.xlsx', 'D:\\\\Desktop\\\\travail_workspace\\\\ETL_workspace\\\\all_channel_rawdata\\\\2023-09-05\\\\top_up\\\\charge_1693962899092.xlsx', 'D:\\\\Desktop\\\\travail_workspace\\\\ETL_workspace\\\\all_channel_rawdata\\\\2023-09-05\\\\top_up\\\\charge_1693962907205.xlsx', 'D:\\\\Desktop\\\\travail_workspace\\\\ETL_workspace\\\\all_channel_rawdata\\\\2023-09-05\\\\top_up\\\\charge_1693962930798.xlsx', 'D:\\\\Desktop\\\\travail_workspace\\\\ETL_workspace\\\\all_channel_rawdata\\\\2023-09-05\\\\top_up\\\\charge_1693962938054.xlsx', 'D:\\\\Desktop\\\\travail_workspace\\\\ETL_workspace\\\\all_channel_rawdata\\\\2023-09-05\\\\top_up\\\\charge_1693962962384.xlsx', 'D:\\\\Desktop\\\\travail_workspace\\\\ETL_workspace\\\\all_channel_rawdata\\\\2023-09-05\\\\top_up\\\\charge_1693962968925.xlsx', 'D:\\\\Desktop\\\\travail_workspace\\\\ETL_workspace\\\\all_channel_rawdata\\\\2023-09-05\\\\top_up\\\\charge_1693962979216.xlsx'], ['D:\\\\Desktop\\\\travail_workspace\\\\ETL_workspace\\\\all_channel_rawdata\\\\2023-09-06\\\\top_up\\\\charge_1694050508410.xlsx', 'D:\\\\Desktop\\\\travail_workspace\\\\ETL_workspace\\\\all_channel_rawdata\\\\2023-09-06\\\\top_up\\\\charge_1694050514418.xlsx', 'D:\\\\Desktop\\\\travail_workspace\\\\ETL_workspace\\\\all_channel_rawdata\\\\2023-09-06\\\\top_up\\\\charge_1694050522132.xlsx', 'D:\\\\Desktop\\\\travail_workspace\\\\ETL_workspace\\\\all_channel_rawdata\\\\2023-09-06\\\\top_up\\\\charge_1694050528083.xlsx', 'D:\\\\Desktop\\\\travail_workspace\\\\ETL_workspace\\\\all_channel_rawdata\\\\2023-09-06\\\\top_up\\\\charge_1694050533803.xlsx', 'D:\\\\Desktop\\\\travail_workspace\\\\ETL_workspace\\\\all_channel_rawdata\\\\2023-09-06\\\\top_up\\\\charge_1694050539708.xlsx', 'D:\\\\Desktop\\\\travail_workspace\\\\ETL_workspace\\\\all_channel_rawdata\\\\2023-09-06\\\\top_up\\\\charge_1694050545597.xlsx', 'D:\\\\Desktop\\\\travail_workspace\\\\ETL_workspace\\\\all_channel_rawdata\\\\2023-09-06\\\\top_up\\\\charge_1694050551835.xlsx', 'D:\\\\Desktop\\\\travail_workspace\\\\ETL_workspace\\\\all_channel_rawdata\\\\2023-09-06\\\\top_up\\\\charge_1694050577067.xlsx', 'D:\\\\Desktop\\\\travail_workspace\\\\ETL_workspace\\\\all_channel_rawdata\\\\2023-09-06\\\\top_up\\\\charge_1694050583326.xlsx', 'D:\\\\Desktop\\\\travail_workspace\\\\ETL_workspace\\\\all_channel_rawdata\\\\2023-09-06\\\\top_up\\\\charge_1694050591324.xlsx'], ['D:\\\\Desktop\\\\travail_workspace\\\\ETL_workspace\\\\all_channel_rawdata\\\\2023-09-07\\\\top_up\\\\charge_1694138077742.xlsx', 'D:\\\\Desktop\\\\travail_workspace\\\\ETL_workspace\\\\all_channel_rawdata\\\\2023-09-07\\\\top_up\\\\charge_1694138097570.xlsx', 'D:\\\\Desktop\\\\travail_workspace\\\\ETL_workspace\\\\all_channel_rawdata\\\\2023-09-07\\\\top_up\\\\charge_1694138110869.xlsx', 'D:\\\\Desktop\\\\travail_workspace\\\\ETL_workspace\\\\all_channel_rawdata\\\\2023-09-07\\\\top_up\\\\charge_1694138467657.xlsx', 'D:\\\\Desktop\\\\travail_workspace\\\\ETL_workspace\\\\all_channel_rawdata\\\\2023-09-07\\\\top_up\\\\charge_1694138475180.xlsx', 'D:\\\\Desktop\\\\travail_workspace\\\\ETL_workspace\\\\all_channel_rawdata\\\\2023-09-07\\\\top_up\\\\charge_1694138482552.xlsx', 'D:\\\\Desktop\\\\travail_workspace\\\\ETL_workspace\\\\all_channel_rawdata\\\\2023-09-07\\\\top_up\\\\charge_1694138490243.xlsx', 'D:\\\\Desktop\\\\travail_workspace\\\\ETL_workspace\\\\all_channel_rawdata\\\\2023-09-07\\\\top_up\\\\charge_1694138498752.xlsx', 'D:\\\\Desktop\\\\travail_workspace\\\\ETL_workspace\\\\all_channel_rawdata\\\\2023-09-07\\\\top_up\\\\charge_1694138507331.xlsx', 'D:\\\\Desktop\\\\travail_workspace\\\\ETL_workspace\\\\all_channel_rawdata\\\\2023-09-07\\\\top_up\\\\charge_1694138514680.xlsx', 'D:\\\\Desktop\\\\travail_workspace\\\\ETL_workspace\\\\all_channel_rawdata\\\\2023-09-07\\\\top_up\\\\charge_1694138532582.xlsx'], ['D:\\\\Desktop\\\\travail_workspace\\\\ETL_workspace\\\\all_channel_rawdata\\\\2023-09-08\\\\top_up\\\\charge_1694224844407.xlsx', 'D:\\\\Desktop\\\\travail_workspace\\\\ETL_workspace\\\\all_channel_rawdata\\\\2023-09-08\\\\top_up\\\\charge_1694224851794.xlsx', 'D:\\\\Desktop\\\\travail_workspace\\\\ETL_workspace\\\\all_channel_rawdata\\\\2023-09-08\\\\top_up\\\\charge_1694224859161.xlsx', 'D:\\\\Desktop\\\\travail_workspace\\\\ETL_workspace\\\\all_channel_rawdata\\\\2023-09-08\\\\top_up\\\\charge_1694224865845.xlsx', 'D:\\\\Desktop\\\\travail_workspace\\\\ETL_workspace\\\\all_channel_rawdata\\\\2023-09-08\\\\top_up\\\\charge_1694224872675.xlsx', 'D:\\\\Desktop\\\\travail_workspace\\\\ETL_workspace\\\\all_channel_rawdata\\\\2023-09-08\\\\top_up\\\\charge_1694224879346.xlsx', 'D:\\\\Desktop\\\\travail_workspace\\\\ETL_workspace\\\\all_channel_rawdata\\\\2023-09-08\\\\top_up\\\\charge_1694224886225.xlsx', 'D:\\\\Desktop\\\\travail_workspace\\\\ETL_workspace\\\\all_channel_rawdata\\\\2023-09-08\\\\top_up\\\\charge_1694224893163.xlsx', 'D:\\\\Desktop\\\\travail_workspace\\\\ETL_workspace\\\\all_channel_rawdata\\\\2023-09-08\\\\top_up\\\\charge_1694224907059.xlsx', 'D:\\\\Desktop\\\\travail_workspace\\\\ETL_workspace\\\\all_channel_rawdata\\\\2023-09-08\\\\top_up\\\\charge_1694224913352.xlsx', 'D:\\\\Desktop\\\\travail_workspace\\\\ETL_workspace\\\\all_channel_rawdata\\\\2023-09-08\\\\top_up\\\\charge_1694224927067.xlsx'], ['D:\\\\Desktop\\\\travail_workspace\\\\ETL_workspace\\\\all_channel_rawdata\\\\2023-09-09\\\\top_up\\\\charge_1694309406179.xlsx', 'D:\\\\Desktop\\\\travail_workspace\\\\ETL_workspace\\\\all_channel_rawdata\\\\2023-09-09\\\\top_up\\\\charge_1694309413953.xlsx', 'D:\\\\Desktop\\\\travail_workspace\\\\ETL_workspace\\\\all_channel_rawdata\\\\2023-09-09\\\\top_up\\\\charge_1694309419994.xlsx', 'D:\\\\Desktop\\\\travail_workspace\\\\ETL_workspace\\\\all_channel_rawdata\\\\2023-09-09\\\\top_up\\\\charge_1694309426489.xlsx', 'D:\\\\Desktop\\\\travail_workspace\\\\ETL_workspace\\\\all_channel_rawdata\\\\2023-09-09\\\\top_up\\\\charge_1694309434268.xlsx', 'D:\\\\Desktop\\\\travail_workspace\\\\ETL_workspace\\\\all_channel_rawdata\\\\2023-09-09\\\\top_up\\\\charge_1694309441146.xlsx', 'D:\\\\Desktop\\\\travail_workspace\\\\ETL_workspace\\\\all_channel_rawdata\\\\2023-09-09\\\\top_up\\\\charge_1694309447162.xlsx', 'D:\\\\Desktop\\\\travail_workspace\\\\ETL_workspace\\\\all_channel_rawdata\\\\2023-09-09\\\\top_up\\\\charge_1694309453705.xlsx', 'D:\\\\Desktop\\\\travail_workspace\\\\ETL_workspace\\\\all_channel_rawdata\\\\2023-09-09\\\\top_up\\\\charge_1694309459789.xlsx', 'D:\\\\Desktop\\\\travail_workspace\\\\ETL_workspace\\\\all_channel_rawdata\\\\2023-09-09\\\\top_up\\\\charge_1694309467104.xlsx', 'D:\\\\Desktop\\\\travail_workspace\\\\ETL_workspace\\\\all_channel_rawdata\\\\2023-09-09\\\\top_up\\\\charge_1694309481351.xlsx'], ['D:\\\\Desktop\\\\travail_workspace\\\\ETL_workspace\\\\all_channel_rawdata\\\\2023-09-10\\\\top_up\\\\charge_1694396454229.xlsx', 'D:\\\\Desktop\\\\travail_workspace\\\\ETL_workspace\\\\all_channel_rawdata\\\\2023-09-10\\\\top_up\\\\charge_1694396462474.xlsx', 'D:\\\\Desktop\\\\travail_workspace\\\\ETL_workspace\\\\all_channel_rawdata\\\\2023-09-10\\\\top_up\\\\charge_1694396468841.xlsx', 'D:\\\\Desktop\\\\travail_workspace\\\\ETL_workspace\\\\all_channel_rawdata\\\\2023-09-10\\\\top_up\\\\charge_1694396475964.xlsx', 'D:\\\\Desktop\\\\travail_workspace\\\\ETL_workspace\\\\all_channel_rawdata\\\\2023-09-10\\\\top_up\\\\charge_1694396483802.xlsx', 'D:\\\\Desktop\\\\travail_workspace\\\\ETL_workspace\\\\all_channel_rawdata\\\\2023-09-10\\\\top_up\\\\charge_1694396490810.xlsx', 'D:\\\\Desktop\\\\travail_workspace\\\\ETL_workspace\\\\all_channel_rawdata\\\\2023-09-10\\\\top_up\\\\charge_1694396509492.xlsx', 'D:\\\\Desktop\\\\travail_workspace\\\\ETL_workspace\\\\all_channel_rawdata\\\\2023-09-10\\\\top_up\\\\charge_1694396621902.xlsx', 'D:\\\\Desktop\\\\travail_workspace\\\\ETL_workspace\\\\all_channel_rawdata\\\\2023-09-10\\\\top_up\\\\charge_1694396635771.xlsx', 'D:\\\\Desktop\\\\travail_workspace\\\\ETL_workspace\\\\all_channel_rawdata\\\\2023-09-10\\\\top_up\\\\charge_1694396655964.xlsx', 'D:\\\\Desktop\\\\travail_workspace\\\\ETL_workspace\\\\all_channel_rawdata\\\\2023-09-10\\\\top_up\\\\charge_1694396671616.xlsx']]\n",
      "[['D:\\\\Desktop\\\\travail_workspace\\\\ETL_workspace\\\\all_channel_rawdata\\\\2023-09-03\\\\top_up\\\\charge_1693790327820.xlsx', 'D:\\\\Desktop\\\\travail_workspace\\\\ETL_workspace\\\\all_channel_rawdata\\\\2023-09-03\\\\top_up\\\\charge_1693792322842.xlsx', 'D:\\\\Desktop\\\\travail_workspace\\\\ETL_workspace\\\\all_channel_rawdata\\\\2023-09-03\\\\top_up\\\\charge_1693792332924.xlsx', 'D:\\\\Desktop\\\\travail_workspace\\\\ETL_workspace\\\\all_channel_rawdata\\\\2023-09-03\\\\top_up\\\\charge_1693792461232.xlsx', 'D:\\\\Desktop\\\\travail_workspace\\\\ETL_workspace\\\\all_channel_rawdata\\\\2023-09-03\\\\top_up\\\\charge_1693792470631.xlsx', 'D:\\\\Desktop\\\\travail_workspace\\\\ETL_workspace\\\\all_channel_rawdata\\\\2023-09-03\\\\top_up\\\\charge_1693792496032.xlsx', 'D:\\\\Desktop\\\\travail_workspace\\\\ETL_workspace\\\\all_channel_rawdata\\\\2023-09-03\\\\top_up\\\\charge_1693792502705.xlsx', 'D:\\\\Desktop\\\\travail_workspace\\\\ETL_workspace\\\\all_channel_rawdata\\\\2023-09-03\\\\top_up\\\\charge_1693792523135.xlsx', 'D:\\\\Desktop\\\\travail_workspace\\\\ETL_workspace\\\\all_channel_rawdata\\\\2023-09-03\\\\top_up\\\\charge_1693792530314.xlsx', 'D:\\\\Desktop\\\\travail_workspace\\\\ETL_workspace\\\\all_channel_rawdata\\\\2023-09-03\\\\top_up\\\\charge_1693792537807.xlsx', 'D:\\\\Desktop\\\\travail_workspace\\\\ETL_workspace\\\\all_channel_rawdata\\\\2023-09-03\\\\top_up\\\\charge_1693792545023.xlsx', 'D:\\\\Desktop\\\\travail_workspace\\\\ETL_workspace\\\\all_channel_rawdata\\\\2023-09-03\\\\top_up\\\\charge_1693792555723.xlsx'], ['D:\\\\Desktop\\\\travail_workspace\\\\ETL_workspace\\\\all_channel_rawdata\\\\2023-09-04\\\\top_up\\\\charge_1693876580655.xlsx', 'D:\\\\Desktop\\\\travail_workspace\\\\ETL_workspace\\\\all_channel_rawdata\\\\2023-09-04\\\\top_up\\\\charge_1693876588722.xlsx', 'D:\\\\Desktop\\\\travail_workspace\\\\ETL_workspace\\\\all_channel_rawdata\\\\2023-09-04\\\\top_up\\\\charge_1693876595172.xlsx', 'D:\\\\Desktop\\\\travail_workspace\\\\ETL_workspace\\\\all_channel_rawdata\\\\2023-09-04\\\\top_up\\\\charge_1693876602239.xlsx', 'D:\\\\Desktop\\\\travail_workspace\\\\ETL_workspace\\\\all_channel_rawdata\\\\2023-09-04\\\\top_up\\\\charge_1693876608893.xlsx', 'D:\\\\Desktop\\\\travail_workspace\\\\ETL_workspace\\\\all_channel_rawdata\\\\2023-09-04\\\\top_up\\\\charge_1693876615523.xlsx', 'D:\\\\Desktop\\\\travail_workspace\\\\ETL_workspace\\\\all_channel_rawdata\\\\2023-09-04\\\\top_up\\\\charge_1693876622940.xlsx', 'D:\\\\Desktop\\\\travail_workspace\\\\ETL_workspace\\\\all_channel_rawdata\\\\2023-09-04\\\\top_up\\\\charge_1693876629905.xlsx', 'D:\\\\Desktop\\\\travail_workspace\\\\ETL_workspace\\\\all_channel_rawdata\\\\2023-09-04\\\\top_up\\\\charge_1693876637737.xlsx', 'D:\\\\Desktop\\\\travail_workspace\\\\ETL_workspace\\\\all_channel_rawdata\\\\2023-09-04\\\\top_up\\\\charge_1693876645060.xlsx', 'D:\\\\Desktop\\\\travail_workspace\\\\ETL_workspace\\\\all_channel_rawdata\\\\2023-09-04\\\\top_up\\\\charge_1693876651639.xlsx', 'D:\\\\Desktop\\\\travail_workspace\\\\ETL_workspace\\\\all_channel_rawdata\\\\2023-09-04\\\\top_up\\\\charge_1693876665515.xlsx'], ['D:\\\\Desktop\\\\travail_workspace\\\\ETL_workspace\\\\all_channel_rawdata\\\\2023-09-05\\\\top_up\\\\charge_1693962813030.xlsx', 'D:\\\\Desktop\\\\travail_workspace\\\\ETL_workspace\\\\all_channel_rawdata\\\\2023-09-05\\\\top_up\\\\charge_1693962832650.xlsx', 'D:\\\\Desktop\\\\travail_workspace\\\\ETL_workspace\\\\all_channel_rawdata\\\\2023-09-05\\\\top_up\\\\charge_1693962874049.xlsx', 'D:\\\\Desktop\\\\travail_workspace\\\\ETL_workspace\\\\all_channel_rawdata\\\\2023-09-05\\\\top_up\\\\charge_1693962881082.xlsx', 'D:\\\\Desktop\\\\travail_workspace\\\\ETL_workspace\\\\all_channel_rawdata\\\\2023-09-05\\\\top_up\\\\charge_1693962889582.xlsx', 'D:\\\\Desktop\\\\travail_workspace\\\\ETL_workspace\\\\all_channel_rawdata\\\\2023-09-05\\\\top_up\\\\charge_1693962899092.xlsx', 'D:\\\\Desktop\\\\travail_workspace\\\\ETL_workspace\\\\all_channel_rawdata\\\\2023-09-05\\\\top_up\\\\charge_1693962907205.xlsx', 'D:\\\\Desktop\\\\travail_workspace\\\\ETL_workspace\\\\all_channel_rawdata\\\\2023-09-05\\\\top_up\\\\charge_1693962930798.xlsx', 'D:\\\\Desktop\\\\travail_workspace\\\\ETL_workspace\\\\all_channel_rawdata\\\\2023-09-05\\\\top_up\\\\charge_1693962938054.xlsx', 'D:\\\\Desktop\\\\travail_workspace\\\\ETL_workspace\\\\all_channel_rawdata\\\\2023-09-05\\\\top_up\\\\charge_1693962962384.xlsx', 'D:\\\\Desktop\\\\travail_workspace\\\\ETL_workspace\\\\all_channel_rawdata\\\\2023-09-05\\\\top_up\\\\charge_1693962968925.xlsx', 'D:\\\\Desktop\\\\travail_workspace\\\\ETL_workspace\\\\all_channel_rawdata\\\\2023-09-05\\\\top_up\\\\charge_1693962979216.xlsx'], ['D:\\\\Desktop\\\\travail_workspace\\\\ETL_workspace\\\\all_channel_rawdata\\\\2023-09-06\\\\top_up\\\\charge_1694050508410.xlsx', 'D:\\\\Desktop\\\\travail_workspace\\\\ETL_workspace\\\\all_channel_rawdata\\\\2023-09-06\\\\top_up\\\\charge_1694050514418.xlsx', 'D:\\\\Desktop\\\\travail_workspace\\\\ETL_workspace\\\\all_channel_rawdata\\\\2023-09-06\\\\top_up\\\\charge_1694050522132.xlsx', 'D:\\\\Desktop\\\\travail_workspace\\\\ETL_workspace\\\\all_channel_rawdata\\\\2023-09-06\\\\top_up\\\\charge_1694050528083.xlsx', 'D:\\\\Desktop\\\\travail_workspace\\\\ETL_workspace\\\\all_channel_rawdata\\\\2023-09-06\\\\top_up\\\\charge_1694050533803.xlsx', 'D:\\\\Desktop\\\\travail_workspace\\\\ETL_workspace\\\\all_channel_rawdata\\\\2023-09-06\\\\top_up\\\\charge_1694050539708.xlsx', 'D:\\\\Desktop\\\\travail_workspace\\\\ETL_workspace\\\\all_channel_rawdata\\\\2023-09-06\\\\top_up\\\\charge_1694050545597.xlsx', 'D:\\\\Desktop\\\\travail_workspace\\\\ETL_workspace\\\\all_channel_rawdata\\\\2023-09-06\\\\top_up\\\\charge_1694050551835.xlsx', 'D:\\\\Desktop\\\\travail_workspace\\\\ETL_workspace\\\\all_channel_rawdata\\\\2023-09-06\\\\top_up\\\\charge_1694050577067.xlsx', 'D:\\\\Desktop\\\\travail_workspace\\\\ETL_workspace\\\\all_channel_rawdata\\\\2023-09-06\\\\top_up\\\\charge_1694050583326.xlsx', 'D:\\\\Desktop\\\\travail_workspace\\\\ETL_workspace\\\\all_channel_rawdata\\\\2023-09-06\\\\top_up\\\\charge_1694050591324.xlsx'], ['D:\\\\Desktop\\\\travail_workspace\\\\ETL_workspace\\\\all_channel_rawdata\\\\2023-09-07\\\\top_up\\\\charge_1694138077742.xlsx', 'D:\\\\Desktop\\\\travail_workspace\\\\ETL_workspace\\\\all_channel_rawdata\\\\2023-09-07\\\\top_up\\\\charge_1694138097570.xlsx', 'D:\\\\Desktop\\\\travail_workspace\\\\ETL_workspace\\\\all_channel_rawdata\\\\2023-09-07\\\\top_up\\\\charge_1694138110869.xlsx', 'D:\\\\Desktop\\\\travail_workspace\\\\ETL_workspace\\\\all_channel_rawdata\\\\2023-09-07\\\\top_up\\\\charge_1694138467657.xlsx', 'D:\\\\Desktop\\\\travail_workspace\\\\ETL_workspace\\\\all_channel_rawdata\\\\2023-09-07\\\\top_up\\\\charge_1694138475180.xlsx', 'D:\\\\Desktop\\\\travail_workspace\\\\ETL_workspace\\\\all_channel_rawdata\\\\2023-09-07\\\\top_up\\\\charge_1694138482552.xlsx', 'D:\\\\Desktop\\\\travail_workspace\\\\ETL_workspace\\\\all_channel_rawdata\\\\2023-09-07\\\\top_up\\\\charge_1694138490243.xlsx', 'D:\\\\Desktop\\\\travail_workspace\\\\ETL_workspace\\\\all_channel_rawdata\\\\2023-09-07\\\\top_up\\\\charge_1694138498752.xlsx', 'D:\\\\Desktop\\\\travail_workspace\\\\ETL_workspace\\\\all_channel_rawdata\\\\2023-09-07\\\\top_up\\\\charge_1694138507331.xlsx', 'D:\\\\Desktop\\\\travail_workspace\\\\ETL_workspace\\\\all_channel_rawdata\\\\2023-09-07\\\\top_up\\\\charge_1694138514680.xlsx', 'D:\\\\Desktop\\\\travail_workspace\\\\ETL_workspace\\\\all_channel_rawdata\\\\2023-09-07\\\\top_up\\\\charge_1694138532582.xlsx'], ['D:\\\\Desktop\\\\travail_workspace\\\\ETL_workspace\\\\all_channel_rawdata\\\\2023-09-08\\\\top_up\\\\charge_1694224844407.xlsx', 'D:\\\\Desktop\\\\travail_workspace\\\\ETL_workspace\\\\all_channel_rawdata\\\\2023-09-08\\\\top_up\\\\charge_1694224851794.xlsx', 'D:\\\\Desktop\\\\travail_workspace\\\\ETL_workspace\\\\all_channel_rawdata\\\\2023-09-08\\\\top_up\\\\charge_1694224859161.xlsx', 'D:\\\\Desktop\\\\travail_workspace\\\\ETL_workspace\\\\all_channel_rawdata\\\\2023-09-08\\\\top_up\\\\charge_1694224865845.xlsx', 'D:\\\\Desktop\\\\travail_workspace\\\\ETL_workspace\\\\all_channel_rawdata\\\\2023-09-08\\\\top_up\\\\charge_1694224872675.xlsx', 'D:\\\\Desktop\\\\travail_workspace\\\\ETL_workspace\\\\all_channel_rawdata\\\\2023-09-08\\\\top_up\\\\charge_1694224879346.xlsx', 'D:\\\\Desktop\\\\travail_workspace\\\\ETL_workspace\\\\all_channel_rawdata\\\\2023-09-08\\\\top_up\\\\charge_1694224886225.xlsx', 'D:\\\\Desktop\\\\travail_workspace\\\\ETL_workspace\\\\all_channel_rawdata\\\\2023-09-08\\\\top_up\\\\charge_1694224893163.xlsx', 'D:\\\\Desktop\\\\travail_workspace\\\\ETL_workspace\\\\all_channel_rawdata\\\\2023-09-08\\\\top_up\\\\charge_1694224907059.xlsx', 'D:\\\\Desktop\\\\travail_workspace\\\\ETL_workspace\\\\all_channel_rawdata\\\\2023-09-08\\\\top_up\\\\charge_1694224913352.xlsx', 'D:\\\\Desktop\\\\travail_workspace\\\\ETL_workspace\\\\all_channel_rawdata\\\\2023-09-08\\\\top_up\\\\charge_1694224927067.xlsx'], ['D:\\\\Desktop\\\\travail_workspace\\\\ETL_workspace\\\\all_channel_rawdata\\\\2023-09-09\\\\top_up\\\\charge_1694309406179.xlsx', 'D:\\\\Desktop\\\\travail_workspace\\\\ETL_workspace\\\\all_channel_rawdata\\\\2023-09-09\\\\top_up\\\\charge_1694309413953.xlsx', 'D:\\\\Desktop\\\\travail_workspace\\\\ETL_workspace\\\\all_channel_rawdata\\\\2023-09-09\\\\top_up\\\\charge_1694309419994.xlsx', 'D:\\\\Desktop\\\\travail_workspace\\\\ETL_workspace\\\\all_channel_rawdata\\\\2023-09-09\\\\top_up\\\\charge_1694309426489.xlsx', 'D:\\\\Desktop\\\\travail_workspace\\\\ETL_workspace\\\\all_channel_rawdata\\\\2023-09-09\\\\top_up\\\\charge_1694309434268.xlsx', 'D:\\\\Desktop\\\\travail_workspace\\\\ETL_workspace\\\\all_channel_rawdata\\\\2023-09-09\\\\top_up\\\\charge_1694309441146.xlsx', 'D:\\\\Desktop\\\\travail_workspace\\\\ETL_workspace\\\\all_channel_rawdata\\\\2023-09-09\\\\top_up\\\\charge_1694309447162.xlsx', 'D:\\\\Desktop\\\\travail_workspace\\\\ETL_workspace\\\\all_channel_rawdata\\\\2023-09-09\\\\top_up\\\\charge_1694309453705.xlsx', 'D:\\\\Desktop\\\\travail_workspace\\\\ETL_workspace\\\\all_channel_rawdata\\\\2023-09-09\\\\top_up\\\\charge_1694309459789.xlsx', 'D:\\\\Desktop\\\\travail_workspace\\\\ETL_workspace\\\\all_channel_rawdata\\\\2023-09-09\\\\top_up\\\\charge_1694309467104.xlsx', 'D:\\\\Desktop\\\\travail_workspace\\\\ETL_workspace\\\\all_channel_rawdata\\\\2023-09-09\\\\top_up\\\\charge_1694309481351.xlsx'], ['D:\\\\Desktop\\\\travail_workspace\\\\ETL_workspace\\\\all_channel_rawdata\\\\2023-09-10\\\\top_up\\\\charge_1694396454229.xlsx', 'D:\\\\Desktop\\\\travail_workspace\\\\ETL_workspace\\\\all_channel_rawdata\\\\2023-09-10\\\\top_up\\\\charge_1694396462474.xlsx', 'D:\\\\Desktop\\\\travail_workspace\\\\ETL_workspace\\\\all_channel_rawdata\\\\2023-09-10\\\\top_up\\\\charge_1694396468841.xlsx', 'D:\\\\Desktop\\\\travail_workspace\\\\ETL_workspace\\\\all_channel_rawdata\\\\2023-09-10\\\\top_up\\\\charge_1694396475964.xlsx', 'D:\\\\Desktop\\\\travail_workspace\\\\ETL_workspace\\\\all_channel_rawdata\\\\2023-09-10\\\\top_up\\\\charge_1694396483802.xlsx', 'D:\\\\Desktop\\\\travail_workspace\\\\ETL_workspace\\\\all_channel_rawdata\\\\2023-09-10\\\\top_up\\\\charge_1694396490810.xlsx', 'D:\\\\Desktop\\\\travail_workspace\\\\ETL_workspace\\\\all_channel_rawdata\\\\2023-09-10\\\\top_up\\\\charge_1694396509492.xlsx', 'D:\\\\Desktop\\\\travail_workspace\\\\ETL_workspace\\\\all_channel_rawdata\\\\2023-09-10\\\\top_up\\\\charge_1694396621902.xlsx', 'D:\\\\Desktop\\\\travail_workspace\\\\ETL_workspace\\\\all_channel_rawdata\\\\2023-09-10\\\\top_up\\\\charge_1694396635771.xlsx', 'D:\\\\Desktop\\\\travail_workspace\\\\ETL_workspace\\\\all_channel_rawdata\\\\2023-09-10\\\\top_up\\\\charge_1694396655964.xlsx', 'D:\\\\Desktop\\\\travail_workspace\\\\ETL_workspace\\\\all_channel_rawdata\\\\2023-09-10\\\\top_up\\\\charge_1694396671616.xlsx'], ['D:\\\\Desktop\\\\travail_workspace\\\\ETL_workspace\\\\all_channel_rawdata\\\\2023-09-11\\\\top_up\\\\charge_1694485411217.xlsx', 'D:\\\\Desktop\\\\travail_workspace\\\\ETL_workspace\\\\all_channel_rawdata\\\\2023-09-11\\\\top_up\\\\charge_1694485418249.xlsx', 'D:\\\\Desktop\\\\travail_workspace\\\\ETL_workspace\\\\all_channel_rawdata\\\\2023-09-11\\\\top_up\\\\charge_1694485426473.xlsx', 'D:\\\\Desktop\\\\travail_workspace\\\\ETL_workspace\\\\all_channel_rawdata\\\\2023-09-11\\\\top_up\\\\charge_1694485433896.xlsx', 'D:\\\\Desktop\\\\travail_workspace\\\\ETL_workspace\\\\all_channel_rawdata\\\\2023-09-11\\\\top_up\\\\charge_1694485441297.xlsx', 'D:\\\\Desktop\\\\travail_workspace\\\\ETL_workspace\\\\all_channel_rawdata\\\\2023-09-11\\\\top_up\\\\charge_1694485448330.xlsx', 'D:\\\\Desktop\\\\travail_workspace\\\\ETL_workspace\\\\all_channel_rawdata\\\\2023-09-11\\\\top_up\\\\charge_1694485454927.xlsx', 'D:\\\\Desktop\\\\travail_workspace\\\\ETL_workspace\\\\all_channel_rawdata\\\\2023-09-11\\\\top_up\\\\charge_1694485462250.xlsx', 'D:\\\\Desktop\\\\travail_workspace\\\\ETL_workspace\\\\all_channel_rawdata\\\\2023-09-11\\\\top_up\\\\charge_1694485468928.xlsx', 'D:\\\\Desktop\\\\travail_workspace\\\\ETL_workspace\\\\all_channel_rawdata\\\\2023-09-11\\\\top_up\\\\charge_1694485476427.xlsx', 'D:\\\\Desktop\\\\travail_workspace\\\\ETL_workspace\\\\all_channel_rawdata\\\\2023-09-11\\\\top_up\\\\charge_1694485490988.xlsx']]\n",
      "[['D:\\\\Desktop\\\\travail_workspace\\\\ETL_workspace\\\\all_channel_rawdata\\\\2023-09-03\\\\top_up\\\\charge_1693790327820.xlsx', 'D:\\\\Desktop\\\\travail_workspace\\\\ETL_workspace\\\\all_channel_rawdata\\\\2023-09-03\\\\top_up\\\\charge_1693792322842.xlsx', 'D:\\\\Desktop\\\\travail_workspace\\\\ETL_workspace\\\\all_channel_rawdata\\\\2023-09-03\\\\top_up\\\\charge_1693792332924.xlsx', 'D:\\\\Desktop\\\\travail_workspace\\\\ETL_workspace\\\\all_channel_rawdata\\\\2023-09-03\\\\top_up\\\\charge_1693792461232.xlsx', 'D:\\\\Desktop\\\\travail_workspace\\\\ETL_workspace\\\\all_channel_rawdata\\\\2023-09-03\\\\top_up\\\\charge_1693792470631.xlsx', 'D:\\\\Desktop\\\\travail_workspace\\\\ETL_workspace\\\\all_channel_rawdata\\\\2023-09-03\\\\top_up\\\\charge_1693792496032.xlsx', 'D:\\\\Desktop\\\\travail_workspace\\\\ETL_workspace\\\\all_channel_rawdata\\\\2023-09-03\\\\top_up\\\\charge_1693792502705.xlsx', 'D:\\\\Desktop\\\\travail_workspace\\\\ETL_workspace\\\\all_channel_rawdata\\\\2023-09-03\\\\top_up\\\\charge_1693792523135.xlsx', 'D:\\\\Desktop\\\\travail_workspace\\\\ETL_workspace\\\\all_channel_rawdata\\\\2023-09-03\\\\top_up\\\\charge_1693792530314.xlsx', 'D:\\\\Desktop\\\\travail_workspace\\\\ETL_workspace\\\\all_channel_rawdata\\\\2023-09-03\\\\top_up\\\\charge_1693792537807.xlsx', 'D:\\\\Desktop\\\\travail_workspace\\\\ETL_workspace\\\\all_channel_rawdata\\\\2023-09-03\\\\top_up\\\\charge_1693792545023.xlsx', 'D:\\\\Desktop\\\\travail_workspace\\\\ETL_workspace\\\\all_channel_rawdata\\\\2023-09-03\\\\top_up\\\\charge_1693792555723.xlsx'], ['D:\\\\Desktop\\\\travail_workspace\\\\ETL_workspace\\\\all_channel_rawdata\\\\2023-09-04\\\\top_up\\\\charge_1693876580655.xlsx', 'D:\\\\Desktop\\\\travail_workspace\\\\ETL_workspace\\\\all_channel_rawdata\\\\2023-09-04\\\\top_up\\\\charge_1693876588722.xlsx', 'D:\\\\Desktop\\\\travail_workspace\\\\ETL_workspace\\\\all_channel_rawdata\\\\2023-09-04\\\\top_up\\\\charge_1693876595172.xlsx', 'D:\\\\Desktop\\\\travail_workspace\\\\ETL_workspace\\\\all_channel_rawdata\\\\2023-09-04\\\\top_up\\\\charge_1693876602239.xlsx', 'D:\\\\Desktop\\\\travail_workspace\\\\ETL_workspace\\\\all_channel_rawdata\\\\2023-09-04\\\\top_up\\\\charge_1693876608893.xlsx', 'D:\\\\Desktop\\\\travail_workspace\\\\ETL_workspace\\\\all_channel_rawdata\\\\2023-09-04\\\\top_up\\\\charge_1693876615523.xlsx', 'D:\\\\Desktop\\\\travail_workspace\\\\ETL_workspace\\\\all_channel_rawdata\\\\2023-09-04\\\\top_up\\\\charge_1693876622940.xlsx', 'D:\\\\Desktop\\\\travail_workspace\\\\ETL_workspace\\\\all_channel_rawdata\\\\2023-09-04\\\\top_up\\\\charge_1693876629905.xlsx', 'D:\\\\Desktop\\\\travail_workspace\\\\ETL_workspace\\\\all_channel_rawdata\\\\2023-09-04\\\\top_up\\\\charge_1693876637737.xlsx', 'D:\\\\Desktop\\\\travail_workspace\\\\ETL_workspace\\\\all_channel_rawdata\\\\2023-09-04\\\\top_up\\\\charge_1693876645060.xlsx', 'D:\\\\Desktop\\\\travail_workspace\\\\ETL_workspace\\\\all_channel_rawdata\\\\2023-09-04\\\\top_up\\\\charge_1693876651639.xlsx', 'D:\\\\Desktop\\\\travail_workspace\\\\ETL_workspace\\\\all_channel_rawdata\\\\2023-09-04\\\\top_up\\\\charge_1693876665515.xlsx'], ['D:\\\\Desktop\\\\travail_workspace\\\\ETL_workspace\\\\all_channel_rawdata\\\\2023-09-05\\\\top_up\\\\charge_1693962813030.xlsx', 'D:\\\\Desktop\\\\travail_workspace\\\\ETL_workspace\\\\all_channel_rawdata\\\\2023-09-05\\\\top_up\\\\charge_1693962832650.xlsx', 'D:\\\\Desktop\\\\travail_workspace\\\\ETL_workspace\\\\all_channel_rawdata\\\\2023-09-05\\\\top_up\\\\charge_1693962874049.xlsx', 'D:\\\\Desktop\\\\travail_workspace\\\\ETL_workspace\\\\all_channel_rawdata\\\\2023-09-05\\\\top_up\\\\charge_1693962881082.xlsx', 'D:\\\\Desktop\\\\travail_workspace\\\\ETL_workspace\\\\all_channel_rawdata\\\\2023-09-05\\\\top_up\\\\charge_1693962889582.xlsx', 'D:\\\\Desktop\\\\travail_workspace\\\\ETL_workspace\\\\all_channel_rawdata\\\\2023-09-05\\\\top_up\\\\charge_1693962899092.xlsx', 'D:\\\\Desktop\\\\travail_workspace\\\\ETL_workspace\\\\all_channel_rawdata\\\\2023-09-05\\\\top_up\\\\charge_1693962907205.xlsx', 'D:\\\\Desktop\\\\travail_workspace\\\\ETL_workspace\\\\all_channel_rawdata\\\\2023-09-05\\\\top_up\\\\charge_1693962930798.xlsx', 'D:\\\\Desktop\\\\travail_workspace\\\\ETL_workspace\\\\all_channel_rawdata\\\\2023-09-05\\\\top_up\\\\charge_1693962938054.xlsx', 'D:\\\\Desktop\\\\travail_workspace\\\\ETL_workspace\\\\all_channel_rawdata\\\\2023-09-05\\\\top_up\\\\charge_1693962962384.xlsx', 'D:\\\\Desktop\\\\travail_workspace\\\\ETL_workspace\\\\all_channel_rawdata\\\\2023-09-05\\\\top_up\\\\charge_1693962968925.xlsx', 'D:\\\\Desktop\\\\travail_workspace\\\\ETL_workspace\\\\all_channel_rawdata\\\\2023-09-05\\\\top_up\\\\charge_1693962979216.xlsx'], ['D:\\\\Desktop\\\\travail_workspace\\\\ETL_workspace\\\\all_channel_rawdata\\\\2023-09-06\\\\top_up\\\\charge_1694050508410.xlsx', 'D:\\\\Desktop\\\\travail_workspace\\\\ETL_workspace\\\\all_channel_rawdata\\\\2023-09-06\\\\top_up\\\\charge_1694050514418.xlsx', 'D:\\\\Desktop\\\\travail_workspace\\\\ETL_workspace\\\\all_channel_rawdata\\\\2023-09-06\\\\top_up\\\\charge_1694050522132.xlsx', 'D:\\\\Desktop\\\\travail_workspace\\\\ETL_workspace\\\\all_channel_rawdata\\\\2023-09-06\\\\top_up\\\\charge_1694050528083.xlsx', 'D:\\\\Desktop\\\\travail_workspace\\\\ETL_workspace\\\\all_channel_rawdata\\\\2023-09-06\\\\top_up\\\\charge_1694050533803.xlsx', 'D:\\\\Desktop\\\\travail_workspace\\\\ETL_workspace\\\\all_channel_rawdata\\\\2023-09-06\\\\top_up\\\\charge_1694050539708.xlsx', 'D:\\\\Desktop\\\\travail_workspace\\\\ETL_workspace\\\\all_channel_rawdata\\\\2023-09-06\\\\top_up\\\\charge_1694050545597.xlsx', 'D:\\\\Desktop\\\\travail_workspace\\\\ETL_workspace\\\\all_channel_rawdata\\\\2023-09-06\\\\top_up\\\\charge_1694050551835.xlsx', 'D:\\\\Desktop\\\\travail_workspace\\\\ETL_workspace\\\\all_channel_rawdata\\\\2023-09-06\\\\top_up\\\\charge_1694050577067.xlsx', 'D:\\\\Desktop\\\\travail_workspace\\\\ETL_workspace\\\\all_channel_rawdata\\\\2023-09-06\\\\top_up\\\\charge_1694050583326.xlsx', 'D:\\\\Desktop\\\\travail_workspace\\\\ETL_workspace\\\\all_channel_rawdata\\\\2023-09-06\\\\top_up\\\\charge_1694050591324.xlsx'], ['D:\\\\Desktop\\\\travail_workspace\\\\ETL_workspace\\\\all_channel_rawdata\\\\2023-09-07\\\\top_up\\\\charge_1694138077742.xlsx', 'D:\\\\Desktop\\\\travail_workspace\\\\ETL_workspace\\\\all_channel_rawdata\\\\2023-09-07\\\\top_up\\\\charge_1694138097570.xlsx', 'D:\\\\Desktop\\\\travail_workspace\\\\ETL_workspace\\\\all_channel_rawdata\\\\2023-09-07\\\\top_up\\\\charge_1694138110869.xlsx', 'D:\\\\Desktop\\\\travail_workspace\\\\ETL_workspace\\\\all_channel_rawdata\\\\2023-09-07\\\\top_up\\\\charge_1694138467657.xlsx', 'D:\\\\Desktop\\\\travail_workspace\\\\ETL_workspace\\\\all_channel_rawdata\\\\2023-09-07\\\\top_up\\\\charge_1694138475180.xlsx', 'D:\\\\Desktop\\\\travail_workspace\\\\ETL_workspace\\\\all_channel_rawdata\\\\2023-09-07\\\\top_up\\\\charge_1694138482552.xlsx', 'D:\\\\Desktop\\\\travail_workspace\\\\ETL_workspace\\\\all_channel_rawdata\\\\2023-09-07\\\\top_up\\\\charge_1694138490243.xlsx', 'D:\\\\Desktop\\\\travail_workspace\\\\ETL_workspace\\\\all_channel_rawdata\\\\2023-09-07\\\\top_up\\\\charge_1694138498752.xlsx', 'D:\\\\Desktop\\\\travail_workspace\\\\ETL_workspace\\\\all_channel_rawdata\\\\2023-09-07\\\\top_up\\\\charge_1694138507331.xlsx', 'D:\\\\Desktop\\\\travail_workspace\\\\ETL_workspace\\\\all_channel_rawdata\\\\2023-09-07\\\\top_up\\\\charge_1694138514680.xlsx', 'D:\\\\Desktop\\\\travail_workspace\\\\ETL_workspace\\\\all_channel_rawdata\\\\2023-09-07\\\\top_up\\\\charge_1694138532582.xlsx'], ['D:\\\\Desktop\\\\travail_workspace\\\\ETL_workspace\\\\all_channel_rawdata\\\\2023-09-08\\\\top_up\\\\charge_1694224844407.xlsx', 'D:\\\\Desktop\\\\travail_workspace\\\\ETL_workspace\\\\all_channel_rawdata\\\\2023-09-08\\\\top_up\\\\charge_1694224851794.xlsx', 'D:\\\\Desktop\\\\travail_workspace\\\\ETL_workspace\\\\all_channel_rawdata\\\\2023-09-08\\\\top_up\\\\charge_1694224859161.xlsx', 'D:\\\\Desktop\\\\travail_workspace\\\\ETL_workspace\\\\all_channel_rawdata\\\\2023-09-08\\\\top_up\\\\charge_1694224865845.xlsx', 'D:\\\\Desktop\\\\travail_workspace\\\\ETL_workspace\\\\all_channel_rawdata\\\\2023-09-08\\\\top_up\\\\charge_1694224872675.xlsx', 'D:\\\\Desktop\\\\travail_workspace\\\\ETL_workspace\\\\all_channel_rawdata\\\\2023-09-08\\\\top_up\\\\charge_1694224879346.xlsx', 'D:\\\\Desktop\\\\travail_workspace\\\\ETL_workspace\\\\all_channel_rawdata\\\\2023-09-08\\\\top_up\\\\charge_1694224886225.xlsx', 'D:\\\\Desktop\\\\travail_workspace\\\\ETL_workspace\\\\all_channel_rawdata\\\\2023-09-08\\\\top_up\\\\charge_1694224893163.xlsx', 'D:\\\\Desktop\\\\travail_workspace\\\\ETL_workspace\\\\all_channel_rawdata\\\\2023-09-08\\\\top_up\\\\charge_1694224907059.xlsx', 'D:\\\\Desktop\\\\travail_workspace\\\\ETL_workspace\\\\all_channel_rawdata\\\\2023-09-08\\\\top_up\\\\charge_1694224913352.xlsx', 'D:\\\\Desktop\\\\travail_workspace\\\\ETL_workspace\\\\all_channel_rawdata\\\\2023-09-08\\\\top_up\\\\charge_1694224927067.xlsx'], ['D:\\\\Desktop\\\\travail_workspace\\\\ETL_workspace\\\\all_channel_rawdata\\\\2023-09-09\\\\top_up\\\\charge_1694309406179.xlsx', 'D:\\\\Desktop\\\\travail_workspace\\\\ETL_workspace\\\\all_channel_rawdata\\\\2023-09-09\\\\top_up\\\\charge_1694309413953.xlsx', 'D:\\\\Desktop\\\\travail_workspace\\\\ETL_workspace\\\\all_channel_rawdata\\\\2023-09-09\\\\top_up\\\\charge_1694309419994.xlsx', 'D:\\\\Desktop\\\\travail_workspace\\\\ETL_workspace\\\\all_channel_rawdata\\\\2023-09-09\\\\top_up\\\\charge_1694309426489.xlsx', 'D:\\\\Desktop\\\\travail_workspace\\\\ETL_workspace\\\\all_channel_rawdata\\\\2023-09-09\\\\top_up\\\\charge_1694309434268.xlsx', 'D:\\\\Desktop\\\\travail_workspace\\\\ETL_workspace\\\\all_channel_rawdata\\\\2023-09-09\\\\top_up\\\\charge_1694309441146.xlsx', 'D:\\\\Desktop\\\\travail_workspace\\\\ETL_workspace\\\\all_channel_rawdata\\\\2023-09-09\\\\top_up\\\\charge_1694309447162.xlsx', 'D:\\\\Desktop\\\\travail_workspace\\\\ETL_workspace\\\\all_channel_rawdata\\\\2023-09-09\\\\top_up\\\\charge_1694309453705.xlsx', 'D:\\\\Desktop\\\\travail_workspace\\\\ETL_workspace\\\\all_channel_rawdata\\\\2023-09-09\\\\top_up\\\\charge_1694309459789.xlsx', 'D:\\\\Desktop\\\\travail_workspace\\\\ETL_workspace\\\\all_channel_rawdata\\\\2023-09-09\\\\top_up\\\\charge_1694309467104.xlsx', 'D:\\\\Desktop\\\\travail_workspace\\\\ETL_workspace\\\\all_channel_rawdata\\\\2023-09-09\\\\top_up\\\\charge_1694309481351.xlsx'], ['D:\\\\Desktop\\\\travail_workspace\\\\ETL_workspace\\\\all_channel_rawdata\\\\2023-09-10\\\\top_up\\\\charge_1694396454229.xlsx', 'D:\\\\Desktop\\\\travail_workspace\\\\ETL_workspace\\\\all_channel_rawdata\\\\2023-09-10\\\\top_up\\\\charge_1694396462474.xlsx', 'D:\\\\Desktop\\\\travail_workspace\\\\ETL_workspace\\\\all_channel_rawdata\\\\2023-09-10\\\\top_up\\\\charge_1694396468841.xlsx', 'D:\\\\Desktop\\\\travail_workspace\\\\ETL_workspace\\\\all_channel_rawdata\\\\2023-09-10\\\\top_up\\\\charge_1694396475964.xlsx', 'D:\\\\Desktop\\\\travail_workspace\\\\ETL_workspace\\\\all_channel_rawdata\\\\2023-09-10\\\\top_up\\\\charge_1694396483802.xlsx', 'D:\\\\Desktop\\\\travail_workspace\\\\ETL_workspace\\\\all_channel_rawdata\\\\2023-09-10\\\\top_up\\\\charge_1694396490810.xlsx', 'D:\\\\Desktop\\\\travail_workspace\\\\ETL_workspace\\\\all_channel_rawdata\\\\2023-09-10\\\\top_up\\\\charge_1694396509492.xlsx', 'D:\\\\Desktop\\\\travail_workspace\\\\ETL_workspace\\\\all_channel_rawdata\\\\2023-09-10\\\\top_up\\\\charge_1694396621902.xlsx', 'D:\\\\Desktop\\\\travail_workspace\\\\ETL_workspace\\\\all_channel_rawdata\\\\2023-09-10\\\\top_up\\\\charge_1694396635771.xlsx', 'D:\\\\Desktop\\\\travail_workspace\\\\ETL_workspace\\\\all_channel_rawdata\\\\2023-09-10\\\\top_up\\\\charge_1694396655964.xlsx', 'D:\\\\Desktop\\\\travail_workspace\\\\ETL_workspace\\\\all_channel_rawdata\\\\2023-09-10\\\\top_up\\\\charge_1694396671616.xlsx'], ['D:\\\\Desktop\\\\travail_workspace\\\\ETL_workspace\\\\all_channel_rawdata\\\\2023-09-11\\\\top_up\\\\charge_1694485411217.xlsx', 'D:\\\\Desktop\\\\travail_workspace\\\\ETL_workspace\\\\all_channel_rawdata\\\\2023-09-11\\\\top_up\\\\charge_1694485418249.xlsx', 'D:\\\\Desktop\\\\travail_workspace\\\\ETL_workspace\\\\all_channel_rawdata\\\\2023-09-11\\\\top_up\\\\charge_1694485426473.xlsx', 'D:\\\\Desktop\\\\travail_workspace\\\\ETL_workspace\\\\all_channel_rawdata\\\\2023-09-11\\\\top_up\\\\charge_1694485433896.xlsx', 'D:\\\\Desktop\\\\travail_workspace\\\\ETL_workspace\\\\all_channel_rawdata\\\\2023-09-11\\\\top_up\\\\charge_1694485441297.xlsx', 'D:\\\\Desktop\\\\travail_workspace\\\\ETL_workspace\\\\all_channel_rawdata\\\\2023-09-11\\\\top_up\\\\charge_1694485448330.xlsx', 'D:\\\\Desktop\\\\travail_workspace\\\\ETL_workspace\\\\all_channel_rawdata\\\\2023-09-11\\\\top_up\\\\charge_1694485454927.xlsx', 'D:\\\\Desktop\\\\travail_workspace\\\\ETL_workspace\\\\all_channel_rawdata\\\\2023-09-11\\\\top_up\\\\charge_1694485462250.xlsx', 'D:\\\\Desktop\\\\travail_workspace\\\\ETL_workspace\\\\all_channel_rawdata\\\\2023-09-11\\\\top_up\\\\charge_1694485468928.xlsx', 'D:\\\\Desktop\\\\travail_workspace\\\\ETL_workspace\\\\all_channel_rawdata\\\\2023-09-11\\\\top_up\\\\charge_1694485476427.xlsx', 'D:\\\\Desktop\\\\travail_workspace\\\\ETL_workspace\\\\all_channel_rawdata\\\\2023-09-11\\\\top_up\\\\charge_1694485490988.xlsx'], ['D:\\\\Desktop\\\\travail_workspace\\\\ETL_workspace\\\\all_channel_rawdata\\\\2023-09-12\\\\top_up\\\\charge_1694571508801.xlsx', 'D:\\\\Desktop\\\\travail_workspace\\\\ETL_workspace\\\\all_channel_rawdata\\\\2023-09-12\\\\top_up\\\\charge_1694571515928.xlsx', 'D:\\\\Desktop\\\\travail_workspace\\\\ETL_workspace\\\\all_channel_rawdata\\\\2023-09-12\\\\top_up\\\\charge_1694571522038.xlsx', 'D:\\\\Desktop\\\\travail_workspace\\\\ETL_workspace\\\\all_channel_rawdata\\\\2023-09-12\\\\top_up\\\\charge_1694571528584.xlsx', 'D:\\\\Desktop\\\\travail_workspace\\\\ETL_workspace\\\\all_channel_rawdata\\\\2023-09-12\\\\top_up\\\\charge_1694571785761.xlsx', 'D:\\\\Desktop\\\\travail_workspace\\\\ETL_workspace\\\\all_channel_rawdata\\\\2023-09-12\\\\top_up\\\\charge_1694571795890.xlsx', 'D:\\\\Desktop\\\\travail_workspace\\\\ETL_workspace\\\\all_channel_rawdata\\\\2023-09-12\\\\top_up\\\\charge_1694571802992.xlsx', 'D:\\\\Desktop\\\\travail_workspace\\\\ETL_workspace\\\\all_channel_rawdata\\\\2023-09-12\\\\top_up\\\\charge_1694571809311.xlsx', 'D:\\\\Desktop\\\\travail_workspace\\\\ETL_workspace\\\\all_channel_rawdata\\\\2023-09-12\\\\top_up\\\\charge_1694571822171.xlsx', 'D:\\\\Desktop\\\\travail_workspace\\\\ETL_workspace\\\\all_channel_rawdata\\\\2023-09-12\\\\top_up\\\\charge_1694571829495.xlsx', 'D:\\\\Desktop\\\\travail_workspace\\\\ETL_workspace\\\\all_channel_rawdata\\\\2023-09-12\\\\top_up\\\\charge_1694571846258.xlsx']]\n",
      "[['D:\\\\Desktop\\\\travail_workspace\\\\ETL_workspace\\\\all_channel_rawdata\\\\2023-09-03\\\\top_up\\\\charge_1693790327820.xlsx', 'D:\\\\Desktop\\\\travail_workspace\\\\ETL_workspace\\\\all_channel_rawdata\\\\2023-09-03\\\\top_up\\\\charge_1693792322842.xlsx', 'D:\\\\Desktop\\\\travail_workspace\\\\ETL_workspace\\\\all_channel_rawdata\\\\2023-09-03\\\\top_up\\\\charge_1693792332924.xlsx', 'D:\\\\Desktop\\\\travail_workspace\\\\ETL_workspace\\\\all_channel_rawdata\\\\2023-09-03\\\\top_up\\\\charge_1693792461232.xlsx', 'D:\\\\Desktop\\\\travail_workspace\\\\ETL_workspace\\\\all_channel_rawdata\\\\2023-09-03\\\\top_up\\\\charge_1693792470631.xlsx', 'D:\\\\Desktop\\\\travail_workspace\\\\ETL_workspace\\\\all_channel_rawdata\\\\2023-09-03\\\\top_up\\\\charge_1693792496032.xlsx', 'D:\\\\Desktop\\\\travail_workspace\\\\ETL_workspace\\\\all_channel_rawdata\\\\2023-09-03\\\\top_up\\\\charge_1693792502705.xlsx', 'D:\\\\Desktop\\\\travail_workspace\\\\ETL_workspace\\\\all_channel_rawdata\\\\2023-09-03\\\\top_up\\\\charge_1693792523135.xlsx', 'D:\\\\Desktop\\\\travail_workspace\\\\ETL_workspace\\\\all_channel_rawdata\\\\2023-09-03\\\\top_up\\\\charge_1693792530314.xlsx', 'D:\\\\Desktop\\\\travail_workspace\\\\ETL_workspace\\\\all_channel_rawdata\\\\2023-09-03\\\\top_up\\\\charge_1693792537807.xlsx', 'D:\\\\Desktop\\\\travail_workspace\\\\ETL_workspace\\\\all_channel_rawdata\\\\2023-09-03\\\\top_up\\\\charge_1693792545023.xlsx', 'D:\\\\Desktop\\\\travail_workspace\\\\ETL_workspace\\\\all_channel_rawdata\\\\2023-09-03\\\\top_up\\\\charge_1693792555723.xlsx'], ['D:\\\\Desktop\\\\travail_workspace\\\\ETL_workspace\\\\all_channel_rawdata\\\\2023-09-04\\\\top_up\\\\charge_1693876580655.xlsx', 'D:\\\\Desktop\\\\travail_workspace\\\\ETL_workspace\\\\all_channel_rawdata\\\\2023-09-04\\\\top_up\\\\charge_1693876588722.xlsx', 'D:\\\\Desktop\\\\travail_workspace\\\\ETL_workspace\\\\all_channel_rawdata\\\\2023-09-04\\\\top_up\\\\charge_1693876595172.xlsx', 'D:\\\\Desktop\\\\travail_workspace\\\\ETL_workspace\\\\all_channel_rawdata\\\\2023-09-04\\\\top_up\\\\charge_1693876602239.xlsx', 'D:\\\\Desktop\\\\travail_workspace\\\\ETL_workspace\\\\all_channel_rawdata\\\\2023-09-04\\\\top_up\\\\charge_1693876608893.xlsx', 'D:\\\\Desktop\\\\travail_workspace\\\\ETL_workspace\\\\all_channel_rawdata\\\\2023-09-04\\\\top_up\\\\charge_1693876615523.xlsx', 'D:\\\\Desktop\\\\travail_workspace\\\\ETL_workspace\\\\all_channel_rawdata\\\\2023-09-04\\\\top_up\\\\charge_1693876622940.xlsx', 'D:\\\\Desktop\\\\travail_workspace\\\\ETL_workspace\\\\all_channel_rawdata\\\\2023-09-04\\\\top_up\\\\charge_1693876629905.xlsx', 'D:\\\\Desktop\\\\travail_workspace\\\\ETL_workspace\\\\all_channel_rawdata\\\\2023-09-04\\\\top_up\\\\charge_1693876637737.xlsx', 'D:\\\\Desktop\\\\travail_workspace\\\\ETL_workspace\\\\all_channel_rawdata\\\\2023-09-04\\\\top_up\\\\charge_1693876645060.xlsx', 'D:\\\\Desktop\\\\travail_workspace\\\\ETL_workspace\\\\all_channel_rawdata\\\\2023-09-04\\\\top_up\\\\charge_1693876651639.xlsx', 'D:\\\\Desktop\\\\travail_workspace\\\\ETL_workspace\\\\all_channel_rawdata\\\\2023-09-04\\\\top_up\\\\charge_1693876665515.xlsx'], ['D:\\\\Desktop\\\\travail_workspace\\\\ETL_workspace\\\\all_channel_rawdata\\\\2023-09-05\\\\top_up\\\\charge_1693962813030.xlsx', 'D:\\\\Desktop\\\\travail_workspace\\\\ETL_workspace\\\\all_channel_rawdata\\\\2023-09-05\\\\top_up\\\\charge_1693962832650.xlsx', 'D:\\\\Desktop\\\\travail_workspace\\\\ETL_workspace\\\\all_channel_rawdata\\\\2023-09-05\\\\top_up\\\\charge_1693962874049.xlsx', 'D:\\\\Desktop\\\\travail_workspace\\\\ETL_workspace\\\\all_channel_rawdata\\\\2023-09-05\\\\top_up\\\\charge_1693962881082.xlsx', 'D:\\\\Desktop\\\\travail_workspace\\\\ETL_workspace\\\\all_channel_rawdata\\\\2023-09-05\\\\top_up\\\\charge_1693962889582.xlsx', 'D:\\\\Desktop\\\\travail_workspace\\\\ETL_workspace\\\\all_channel_rawdata\\\\2023-09-05\\\\top_up\\\\charge_1693962899092.xlsx', 'D:\\\\Desktop\\\\travail_workspace\\\\ETL_workspace\\\\all_channel_rawdata\\\\2023-09-05\\\\top_up\\\\charge_1693962907205.xlsx', 'D:\\\\Desktop\\\\travail_workspace\\\\ETL_workspace\\\\all_channel_rawdata\\\\2023-09-05\\\\top_up\\\\charge_1693962930798.xlsx', 'D:\\\\Desktop\\\\travail_workspace\\\\ETL_workspace\\\\all_channel_rawdata\\\\2023-09-05\\\\top_up\\\\charge_1693962938054.xlsx', 'D:\\\\Desktop\\\\travail_workspace\\\\ETL_workspace\\\\all_channel_rawdata\\\\2023-09-05\\\\top_up\\\\charge_1693962962384.xlsx', 'D:\\\\Desktop\\\\travail_workspace\\\\ETL_workspace\\\\all_channel_rawdata\\\\2023-09-05\\\\top_up\\\\charge_1693962968925.xlsx', 'D:\\\\Desktop\\\\travail_workspace\\\\ETL_workspace\\\\all_channel_rawdata\\\\2023-09-05\\\\top_up\\\\charge_1693962979216.xlsx'], ['D:\\\\Desktop\\\\travail_workspace\\\\ETL_workspace\\\\all_channel_rawdata\\\\2023-09-06\\\\top_up\\\\charge_1694050508410.xlsx', 'D:\\\\Desktop\\\\travail_workspace\\\\ETL_workspace\\\\all_channel_rawdata\\\\2023-09-06\\\\top_up\\\\charge_1694050514418.xlsx', 'D:\\\\Desktop\\\\travail_workspace\\\\ETL_workspace\\\\all_channel_rawdata\\\\2023-09-06\\\\top_up\\\\charge_1694050522132.xlsx', 'D:\\\\Desktop\\\\travail_workspace\\\\ETL_workspace\\\\all_channel_rawdata\\\\2023-09-06\\\\top_up\\\\charge_1694050528083.xlsx', 'D:\\\\Desktop\\\\travail_workspace\\\\ETL_workspace\\\\all_channel_rawdata\\\\2023-09-06\\\\top_up\\\\charge_1694050533803.xlsx', 'D:\\\\Desktop\\\\travail_workspace\\\\ETL_workspace\\\\all_channel_rawdata\\\\2023-09-06\\\\top_up\\\\charge_1694050539708.xlsx', 'D:\\\\Desktop\\\\travail_workspace\\\\ETL_workspace\\\\all_channel_rawdata\\\\2023-09-06\\\\top_up\\\\charge_1694050545597.xlsx', 'D:\\\\Desktop\\\\travail_workspace\\\\ETL_workspace\\\\all_channel_rawdata\\\\2023-09-06\\\\top_up\\\\charge_1694050551835.xlsx', 'D:\\\\Desktop\\\\travail_workspace\\\\ETL_workspace\\\\all_channel_rawdata\\\\2023-09-06\\\\top_up\\\\charge_1694050577067.xlsx', 'D:\\\\Desktop\\\\travail_workspace\\\\ETL_workspace\\\\all_channel_rawdata\\\\2023-09-06\\\\top_up\\\\charge_1694050583326.xlsx', 'D:\\\\Desktop\\\\travail_workspace\\\\ETL_workspace\\\\all_channel_rawdata\\\\2023-09-06\\\\top_up\\\\charge_1694050591324.xlsx'], ['D:\\\\Desktop\\\\travail_workspace\\\\ETL_workspace\\\\all_channel_rawdata\\\\2023-09-07\\\\top_up\\\\charge_1694138077742.xlsx', 'D:\\\\Desktop\\\\travail_workspace\\\\ETL_workspace\\\\all_channel_rawdata\\\\2023-09-07\\\\top_up\\\\charge_1694138097570.xlsx', 'D:\\\\Desktop\\\\travail_workspace\\\\ETL_workspace\\\\all_channel_rawdata\\\\2023-09-07\\\\top_up\\\\charge_1694138110869.xlsx', 'D:\\\\Desktop\\\\travail_workspace\\\\ETL_workspace\\\\all_channel_rawdata\\\\2023-09-07\\\\top_up\\\\charge_1694138467657.xlsx', 'D:\\\\Desktop\\\\travail_workspace\\\\ETL_workspace\\\\all_channel_rawdata\\\\2023-09-07\\\\top_up\\\\charge_1694138475180.xlsx', 'D:\\\\Desktop\\\\travail_workspace\\\\ETL_workspace\\\\all_channel_rawdata\\\\2023-09-07\\\\top_up\\\\charge_1694138482552.xlsx', 'D:\\\\Desktop\\\\travail_workspace\\\\ETL_workspace\\\\all_channel_rawdata\\\\2023-09-07\\\\top_up\\\\charge_1694138490243.xlsx', 'D:\\\\Desktop\\\\travail_workspace\\\\ETL_workspace\\\\all_channel_rawdata\\\\2023-09-07\\\\top_up\\\\charge_1694138498752.xlsx', 'D:\\\\Desktop\\\\travail_workspace\\\\ETL_workspace\\\\all_channel_rawdata\\\\2023-09-07\\\\top_up\\\\charge_1694138507331.xlsx', 'D:\\\\Desktop\\\\travail_workspace\\\\ETL_workspace\\\\all_channel_rawdata\\\\2023-09-07\\\\top_up\\\\charge_1694138514680.xlsx', 'D:\\\\Desktop\\\\travail_workspace\\\\ETL_workspace\\\\all_channel_rawdata\\\\2023-09-07\\\\top_up\\\\charge_1694138532582.xlsx'], ['D:\\\\Desktop\\\\travail_workspace\\\\ETL_workspace\\\\all_channel_rawdata\\\\2023-09-08\\\\top_up\\\\charge_1694224844407.xlsx', 'D:\\\\Desktop\\\\travail_workspace\\\\ETL_workspace\\\\all_channel_rawdata\\\\2023-09-08\\\\top_up\\\\charge_1694224851794.xlsx', 'D:\\\\Desktop\\\\travail_workspace\\\\ETL_workspace\\\\all_channel_rawdata\\\\2023-09-08\\\\top_up\\\\charge_1694224859161.xlsx', 'D:\\\\Desktop\\\\travail_workspace\\\\ETL_workspace\\\\all_channel_rawdata\\\\2023-09-08\\\\top_up\\\\charge_1694224865845.xlsx', 'D:\\\\Desktop\\\\travail_workspace\\\\ETL_workspace\\\\all_channel_rawdata\\\\2023-09-08\\\\top_up\\\\charge_1694224872675.xlsx', 'D:\\\\Desktop\\\\travail_workspace\\\\ETL_workspace\\\\all_channel_rawdata\\\\2023-09-08\\\\top_up\\\\charge_1694224879346.xlsx', 'D:\\\\Desktop\\\\travail_workspace\\\\ETL_workspace\\\\all_channel_rawdata\\\\2023-09-08\\\\top_up\\\\charge_1694224886225.xlsx', 'D:\\\\Desktop\\\\travail_workspace\\\\ETL_workspace\\\\all_channel_rawdata\\\\2023-09-08\\\\top_up\\\\charge_1694224893163.xlsx', 'D:\\\\Desktop\\\\travail_workspace\\\\ETL_workspace\\\\all_channel_rawdata\\\\2023-09-08\\\\top_up\\\\charge_1694224907059.xlsx', 'D:\\\\Desktop\\\\travail_workspace\\\\ETL_workspace\\\\all_channel_rawdata\\\\2023-09-08\\\\top_up\\\\charge_1694224913352.xlsx', 'D:\\\\Desktop\\\\travail_workspace\\\\ETL_workspace\\\\all_channel_rawdata\\\\2023-09-08\\\\top_up\\\\charge_1694224927067.xlsx'], ['D:\\\\Desktop\\\\travail_workspace\\\\ETL_workspace\\\\all_channel_rawdata\\\\2023-09-09\\\\top_up\\\\charge_1694309406179.xlsx', 'D:\\\\Desktop\\\\travail_workspace\\\\ETL_workspace\\\\all_channel_rawdata\\\\2023-09-09\\\\top_up\\\\charge_1694309413953.xlsx', 'D:\\\\Desktop\\\\travail_workspace\\\\ETL_workspace\\\\all_channel_rawdata\\\\2023-09-09\\\\top_up\\\\charge_1694309419994.xlsx', 'D:\\\\Desktop\\\\travail_workspace\\\\ETL_workspace\\\\all_channel_rawdata\\\\2023-09-09\\\\top_up\\\\charge_1694309426489.xlsx', 'D:\\\\Desktop\\\\travail_workspace\\\\ETL_workspace\\\\all_channel_rawdata\\\\2023-09-09\\\\top_up\\\\charge_1694309434268.xlsx', 'D:\\\\Desktop\\\\travail_workspace\\\\ETL_workspace\\\\all_channel_rawdata\\\\2023-09-09\\\\top_up\\\\charge_1694309441146.xlsx', 'D:\\\\Desktop\\\\travail_workspace\\\\ETL_workspace\\\\all_channel_rawdata\\\\2023-09-09\\\\top_up\\\\charge_1694309447162.xlsx', 'D:\\\\Desktop\\\\travail_workspace\\\\ETL_workspace\\\\all_channel_rawdata\\\\2023-09-09\\\\top_up\\\\charge_1694309453705.xlsx', 'D:\\\\Desktop\\\\travail_workspace\\\\ETL_workspace\\\\all_channel_rawdata\\\\2023-09-09\\\\top_up\\\\charge_1694309459789.xlsx', 'D:\\\\Desktop\\\\travail_workspace\\\\ETL_workspace\\\\all_channel_rawdata\\\\2023-09-09\\\\top_up\\\\charge_1694309467104.xlsx', 'D:\\\\Desktop\\\\travail_workspace\\\\ETL_workspace\\\\all_channel_rawdata\\\\2023-09-09\\\\top_up\\\\charge_1694309481351.xlsx'], ['D:\\\\Desktop\\\\travail_workspace\\\\ETL_workspace\\\\all_channel_rawdata\\\\2023-09-10\\\\top_up\\\\charge_1694396454229.xlsx', 'D:\\\\Desktop\\\\travail_workspace\\\\ETL_workspace\\\\all_channel_rawdata\\\\2023-09-10\\\\top_up\\\\charge_1694396462474.xlsx', 'D:\\\\Desktop\\\\travail_workspace\\\\ETL_workspace\\\\all_channel_rawdata\\\\2023-09-10\\\\top_up\\\\charge_1694396468841.xlsx', 'D:\\\\Desktop\\\\travail_workspace\\\\ETL_workspace\\\\all_channel_rawdata\\\\2023-09-10\\\\top_up\\\\charge_1694396475964.xlsx', 'D:\\\\Desktop\\\\travail_workspace\\\\ETL_workspace\\\\all_channel_rawdata\\\\2023-09-10\\\\top_up\\\\charge_1694396483802.xlsx', 'D:\\\\Desktop\\\\travail_workspace\\\\ETL_workspace\\\\all_channel_rawdata\\\\2023-09-10\\\\top_up\\\\charge_1694396490810.xlsx', 'D:\\\\Desktop\\\\travail_workspace\\\\ETL_workspace\\\\all_channel_rawdata\\\\2023-09-10\\\\top_up\\\\charge_1694396509492.xlsx', 'D:\\\\Desktop\\\\travail_workspace\\\\ETL_workspace\\\\all_channel_rawdata\\\\2023-09-10\\\\top_up\\\\charge_1694396621902.xlsx', 'D:\\\\Desktop\\\\travail_workspace\\\\ETL_workspace\\\\all_channel_rawdata\\\\2023-09-10\\\\top_up\\\\charge_1694396635771.xlsx', 'D:\\\\Desktop\\\\travail_workspace\\\\ETL_workspace\\\\all_channel_rawdata\\\\2023-09-10\\\\top_up\\\\charge_1694396655964.xlsx', 'D:\\\\Desktop\\\\travail_workspace\\\\ETL_workspace\\\\all_channel_rawdata\\\\2023-09-10\\\\top_up\\\\charge_1694396671616.xlsx'], ['D:\\\\Desktop\\\\travail_workspace\\\\ETL_workspace\\\\all_channel_rawdata\\\\2023-09-11\\\\top_up\\\\charge_1694485411217.xlsx', 'D:\\\\Desktop\\\\travail_workspace\\\\ETL_workspace\\\\all_channel_rawdata\\\\2023-09-11\\\\top_up\\\\charge_1694485418249.xlsx', 'D:\\\\Desktop\\\\travail_workspace\\\\ETL_workspace\\\\all_channel_rawdata\\\\2023-09-11\\\\top_up\\\\charge_1694485426473.xlsx', 'D:\\\\Desktop\\\\travail_workspace\\\\ETL_workspace\\\\all_channel_rawdata\\\\2023-09-11\\\\top_up\\\\charge_1694485433896.xlsx', 'D:\\\\Desktop\\\\travail_workspace\\\\ETL_workspace\\\\all_channel_rawdata\\\\2023-09-11\\\\top_up\\\\charge_1694485441297.xlsx', 'D:\\\\Desktop\\\\travail_workspace\\\\ETL_workspace\\\\all_channel_rawdata\\\\2023-09-11\\\\top_up\\\\charge_1694485448330.xlsx', 'D:\\\\Desktop\\\\travail_workspace\\\\ETL_workspace\\\\all_channel_rawdata\\\\2023-09-11\\\\top_up\\\\charge_1694485454927.xlsx', 'D:\\\\Desktop\\\\travail_workspace\\\\ETL_workspace\\\\all_channel_rawdata\\\\2023-09-11\\\\top_up\\\\charge_1694485462250.xlsx', 'D:\\\\Desktop\\\\travail_workspace\\\\ETL_workspace\\\\all_channel_rawdata\\\\2023-09-11\\\\top_up\\\\charge_1694485468928.xlsx', 'D:\\\\Desktop\\\\travail_workspace\\\\ETL_workspace\\\\all_channel_rawdata\\\\2023-09-11\\\\top_up\\\\charge_1694485476427.xlsx', 'D:\\\\Desktop\\\\travail_workspace\\\\ETL_workspace\\\\all_channel_rawdata\\\\2023-09-11\\\\top_up\\\\charge_1694485490988.xlsx'], ['D:\\\\Desktop\\\\travail_workspace\\\\ETL_workspace\\\\all_channel_rawdata\\\\2023-09-12\\\\top_up\\\\charge_1694571508801.xlsx', 'D:\\\\Desktop\\\\travail_workspace\\\\ETL_workspace\\\\all_channel_rawdata\\\\2023-09-12\\\\top_up\\\\charge_1694571515928.xlsx', 'D:\\\\Desktop\\\\travail_workspace\\\\ETL_workspace\\\\all_channel_rawdata\\\\2023-09-12\\\\top_up\\\\charge_1694571522038.xlsx', 'D:\\\\Desktop\\\\travail_workspace\\\\ETL_workspace\\\\all_channel_rawdata\\\\2023-09-12\\\\top_up\\\\charge_1694571528584.xlsx', 'D:\\\\Desktop\\\\travail_workspace\\\\ETL_workspace\\\\all_channel_rawdata\\\\2023-09-12\\\\top_up\\\\charge_1694571785761.xlsx', 'D:\\\\Desktop\\\\travail_workspace\\\\ETL_workspace\\\\all_channel_rawdata\\\\2023-09-12\\\\top_up\\\\charge_1694571795890.xlsx', 'D:\\\\Desktop\\\\travail_workspace\\\\ETL_workspace\\\\all_channel_rawdata\\\\2023-09-12\\\\top_up\\\\charge_1694571802992.xlsx', 'D:\\\\Desktop\\\\travail_workspace\\\\ETL_workspace\\\\all_channel_rawdata\\\\2023-09-12\\\\top_up\\\\charge_1694571809311.xlsx', 'D:\\\\Desktop\\\\travail_workspace\\\\ETL_workspace\\\\all_channel_rawdata\\\\2023-09-12\\\\top_up\\\\charge_1694571822171.xlsx', 'D:\\\\Desktop\\\\travail_workspace\\\\ETL_workspace\\\\all_channel_rawdata\\\\2023-09-12\\\\top_up\\\\charge_1694571829495.xlsx', 'D:\\\\Desktop\\\\travail_workspace\\\\ETL_workspace\\\\all_channel_rawdata\\\\2023-09-12\\\\top_up\\\\charge_1694571846258.xlsx'], ['D:\\\\Desktop\\\\travail_workspace\\\\ETL_workspace\\\\all_channel_rawdata\\\\2023-09-13\\\\top_up\\\\charge_1694653887608.xlsx', 'D:\\\\Desktop\\\\travail_workspace\\\\ETL_workspace\\\\all_channel_rawdata\\\\2023-09-13\\\\top_up\\\\charge_1694653894662.xlsx', 'D:\\\\Desktop\\\\travail_workspace\\\\ETL_workspace\\\\all_channel_rawdata\\\\2023-09-13\\\\top_up\\\\charge_1694653925473.xlsx', 'D:\\\\Desktop\\\\travail_workspace\\\\ETL_workspace\\\\all_channel_rawdata\\\\2023-09-13\\\\top_up\\\\charge_1694653935939.xlsx', 'D:\\\\Desktop\\\\travail_workspace\\\\ETL_workspace\\\\all_channel_rawdata\\\\2023-09-13\\\\top_up\\\\charge_1694653942662.xlsx', 'D:\\\\Desktop\\\\travail_workspace\\\\ETL_workspace\\\\all_channel_rawdata\\\\2023-09-13\\\\top_up\\\\charge_1694653948692.xlsx', 'D:\\\\Desktop\\\\travail_workspace\\\\ETL_workspace\\\\all_channel_rawdata\\\\2023-09-13\\\\top_up\\\\charge_1694653955524.xlsx', 'D:\\\\Desktop\\\\travail_workspace\\\\ETL_workspace\\\\all_channel_rawdata\\\\2023-09-13\\\\top_up\\\\charge_1694653962191.xlsx', 'D:\\\\Desktop\\\\travail_workspace\\\\ETL_workspace\\\\all_channel_rawdata\\\\2023-09-13\\\\top_up\\\\charge_1694653968206.xlsx', 'D:\\\\Desktop\\\\travail_workspace\\\\ETL_workspace\\\\all_channel_rawdata\\\\2023-09-13\\\\top_up\\\\charge_1694653975169.xlsx', 'D:\\\\Desktop\\\\travail_workspace\\\\ETL_workspace\\\\all_channel_rawdata\\\\2023-09-13\\\\top_up\\\\charge_1694653987000.xlsx']]\n",
      "[['D:\\\\Desktop\\\\travail_workspace\\\\ETL_workspace\\\\all_channel_rawdata\\\\2023-09-03\\\\top_up\\\\charge_1693790327820.xlsx', 'D:\\\\Desktop\\\\travail_workspace\\\\ETL_workspace\\\\all_channel_rawdata\\\\2023-09-03\\\\top_up\\\\charge_1693792322842.xlsx', 'D:\\\\Desktop\\\\travail_workspace\\\\ETL_workspace\\\\all_channel_rawdata\\\\2023-09-03\\\\top_up\\\\charge_1693792332924.xlsx', 'D:\\\\Desktop\\\\travail_workspace\\\\ETL_workspace\\\\all_channel_rawdata\\\\2023-09-03\\\\top_up\\\\charge_1693792461232.xlsx', 'D:\\\\Desktop\\\\travail_workspace\\\\ETL_workspace\\\\all_channel_rawdata\\\\2023-09-03\\\\top_up\\\\charge_1693792470631.xlsx', 'D:\\\\Desktop\\\\travail_workspace\\\\ETL_workspace\\\\all_channel_rawdata\\\\2023-09-03\\\\top_up\\\\charge_1693792496032.xlsx', 'D:\\\\Desktop\\\\travail_workspace\\\\ETL_workspace\\\\all_channel_rawdata\\\\2023-09-03\\\\top_up\\\\charge_1693792502705.xlsx', 'D:\\\\Desktop\\\\travail_workspace\\\\ETL_workspace\\\\all_channel_rawdata\\\\2023-09-03\\\\top_up\\\\charge_1693792523135.xlsx', 'D:\\\\Desktop\\\\travail_workspace\\\\ETL_workspace\\\\all_channel_rawdata\\\\2023-09-03\\\\top_up\\\\charge_1693792530314.xlsx', 'D:\\\\Desktop\\\\travail_workspace\\\\ETL_workspace\\\\all_channel_rawdata\\\\2023-09-03\\\\top_up\\\\charge_1693792537807.xlsx', 'D:\\\\Desktop\\\\travail_workspace\\\\ETL_workspace\\\\all_channel_rawdata\\\\2023-09-03\\\\top_up\\\\charge_1693792545023.xlsx', 'D:\\\\Desktop\\\\travail_workspace\\\\ETL_workspace\\\\all_channel_rawdata\\\\2023-09-03\\\\top_up\\\\charge_1693792555723.xlsx'], ['D:\\\\Desktop\\\\travail_workspace\\\\ETL_workspace\\\\all_channel_rawdata\\\\2023-09-04\\\\top_up\\\\charge_1693876580655.xlsx', 'D:\\\\Desktop\\\\travail_workspace\\\\ETL_workspace\\\\all_channel_rawdata\\\\2023-09-04\\\\top_up\\\\charge_1693876588722.xlsx', 'D:\\\\Desktop\\\\travail_workspace\\\\ETL_workspace\\\\all_channel_rawdata\\\\2023-09-04\\\\top_up\\\\charge_1693876595172.xlsx', 'D:\\\\Desktop\\\\travail_workspace\\\\ETL_workspace\\\\all_channel_rawdata\\\\2023-09-04\\\\top_up\\\\charge_1693876602239.xlsx', 'D:\\\\Desktop\\\\travail_workspace\\\\ETL_workspace\\\\all_channel_rawdata\\\\2023-09-04\\\\top_up\\\\charge_1693876608893.xlsx', 'D:\\\\Desktop\\\\travail_workspace\\\\ETL_workspace\\\\all_channel_rawdata\\\\2023-09-04\\\\top_up\\\\charge_1693876615523.xlsx', 'D:\\\\Desktop\\\\travail_workspace\\\\ETL_workspace\\\\all_channel_rawdata\\\\2023-09-04\\\\top_up\\\\charge_1693876622940.xlsx', 'D:\\\\Desktop\\\\travail_workspace\\\\ETL_workspace\\\\all_channel_rawdata\\\\2023-09-04\\\\top_up\\\\charge_1693876629905.xlsx', 'D:\\\\Desktop\\\\travail_workspace\\\\ETL_workspace\\\\all_channel_rawdata\\\\2023-09-04\\\\top_up\\\\charge_1693876637737.xlsx', 'D:\\\\Desktop\\\\travail_workspace\\\\ETL_workspace\\\\all_channel_rawdata\\\\2023-09-04\\\\top_up\\\\charge_1693876645060.xlsx', 'D:\\\\Desktop\\\\travail_workspace\\\\ETL_workspace\\\\all_channel_rawdata\\\\2023-09-04\\\\top_up\\\\charge_1693876651639.xlsx', 'D:\\\\Desktop\\\\travail_workspace\\\\ETL_workspace\\\\all_channel_rawdata\\\\2023-09-04\\\\top_up\\\\charge_1693876665515.xlsx'], ['D:\\\\Desktop\\\\travail_workspace\\\\ETL_workspace\\\\all_channel_rawdata\\\\2023-09-05\\\\top_up\\\\charge_1693962813030.xlsx', 'D:\\\\Desktop\\\\travail_workspace\\\\ETL_workspace\\\\all_channel_rawdata\\\\2023-09-05\\\\top_up\\\\charge_1693962832650.xlsx', 'D:\\\\Desktop\\\\travail_workspace\\\\ETL_workspace\\\\all_channel_rawdata\\\\2023-09-05\\\\top_up\\\\charge_1693962874049.xlsx', 'D:\\\\Desktop\\\\travail_workspace\\\\ETL_workspace\\\\all_channel_rawdata\\\\2023-09-05\\\\top_up\\\\charge_1693962881082.xlsx', 'D:\\\\Desktop\\\\travail_workspace\\\\ETL_workspace\\\\all_channel_rawdata\\\\2023-09-05\\\\top_up\\\\charge_1693962889582.xlsx', 'D:\\\\Desktop\\\\travail_workspace\\\\ETL_workspace\\\\all_channel_rawdata\\\\2023-09-05\\\\top_up\\\\charge_1693962899092.xlsx', 'D:\\\\Desktop\\\\travail_workspace\\\\ETL_workspace\\\\all_channel_rawdata\\\\2023-09-05\\\\top_up\\\\charge_1693962907205.xlsx', 'D:\\\\Desktop\\\\travail_workspace\\\\ETL_workspace\\\\all_channel_rawdata\\\\2023-09-05\\\\top_up\\\\charge_1693962930798.xlsx', 'D:\\\\Desktop\\\\travail_workspace\\\\ETL_workspace\\\\all_channel_rawdata\\\\2023-09-05\\\\top_up\\\\charge_1693962938054.xlsx', 'D:\\\\Desktop\\\\travail_workspace\\\\ETL_workspace\\\\all_channel_rawdata\\\\2023-09-05\\\\top_up\\\\charge_1693962962384.xlsx', 'D:\\\\Desktop\\\\travail_workspace\\\\ETL_workspace\\\\all_channel_rawdata\\\\2023-09-05\\\\top_up\\\\charge_1693962968925.xlsx', 'D:\\\\Desktop\\\\travail_workspace\\\\ETL_workspace\\\\all_channel_rawdata\\\\2023-09-05\\\\top_up\\\\charge_1693962979216.xlsx'], ['D:\\\\Desktop\\\\travail_workspace\\\\ETL_workspace\\\\all_channel_rawdata\\\\2023-09-06\\\\top_up\\\\charge_1694050508410.xlsx', 'D:\\\\Desktop\\\\travail_workspace\\\\ETL_workspace\\\\all_channel_rawdata\\\\2023-09-06\\\\top_up\\\\charge_1694050514418.xlsx', 'D:\\\\Desktop\\\\travail_workspace\\\\ETL_workspace\\\\all_channel_rawdata\\\\2023-09-06\\\\top_up\\\\charge_1694050522132.xlsx', 'D:\\\\Desktop\\\\travail_workspace\\\\ETL_workspace\\\\all_channel_rawdata\\\\2023-09-06\\\\top_up\\\\charge_1694050528083.xlsx', 'D:\\\\Desktop\\\\travail_workspace\\\\ETL_workspace\\\\all_channel_rawdata\\\\2023-09-06\\\\top_up\\\\charge_1694050533803.xlsx', 'D:\\\\Desktop\\\\travail_workspace\\\\ETL_workspace\\\\all_channel_rawdata\\\\2023-09-06\\\\top_up\\\\charge_1694050539708.xlsx', 'D:\\\\Desktop\\\\travail_workspace\\\\ETL_workspace\\\\all_channel_rawdata\\\\2023-09-06\\\\top_up\\\\charge_1694050545597.xlsx', 'D:\\\\Desktop\\\\travail_workspace\\\\ETL_workspace\\\\all_channel_rawdata\\\\2023-09-06\\\\top_up\\\\charge_1694050551835.xlsx', 'D:\\\\Desktop\\\\travail_workspace\\\\ETL_workspace\\\\all_channel_rawdata\\\\2023-09-06\\\\top_up\\\\charge_1694050577067.xlsx', 'D:\\\\Desktop\\\\travail_workspace\\\\ETL_workspace\\\\all_channel_rawdata\\\\2023-09-06\\\\top_up\\\\charge_1694050583326.xlsx', 'D:\\\\Desktop\\\\travail_workspace\\\\ETL_workspace\\\\all_channel_rawdata\\\\2023-09-06\\\\top_up\\\\charge_1694050591324.xlsx'], ['D:\\\\Desktop\\\\travail_workspace\\\\ETL_workspace\\\\all_channel_rawdata\\\\2023-09-07\\\\top_up\\\\charge_1694138077742.xlsx', 'D:\\\\Desktop\\\\travail_workspace\\\\ETL_workspace\\\\all_channel_rawdata\\\\2023-09-07\\\\top_up\\\\charge_1694138097570.xlsx', 'D:\\\\Desktop\\\\travail_workspace\\\\ETL_workspace\\\\all_channel_rawdata\\\\2023-09-07\\\\top_up\\\\charge_1694138110869.xlsx', 'D:\\\\Desktop\\\\travail_workspace\\\\ETL_workspace\\\\all_channel_rawdata\\\\2023-09-07\\\\top_up\\\\charge_1694138467657.xlsx', 'D:\\\\Desktop\\\\travail_workspace\\\\ETL_workspace\\\\all_channel_rawdata\\\\2023-09-07\\\\top_up\\\\charge_1694138475180.xlsx', 'D:\\\\Desktop\\\\travail_workspace\\\\ETL_workspace\\\\all_channel_rawdata\\\\2023-09-07\\\\top_up\\\\charge_1694138482552.xlsx', 'D:\\\\Desktop\\\\travail_workspace\\\\ETL_workspace\\\\all_channel_rawdata\\\\2023-09-07\\\\top_up\\\\charge_1694138490243.xlsx', 'D:\\\\Desktop\\\\travail_workspace\\\\ETL_workspace\\\\all_channel_rawdata\\\\2023-09-07\\\\top_up\\\\charge_1694138498752.xlsx', 'D:\\\\Desktop\\\\travail_workspace\\\\ETL_workspace\\\\all_channel_rawdata\\\\2023-09-07\\\\top_up\\\\charge_1694138507331.xlsx', 'D:\\\\Desktop\\\\travail_workspace\\\\ETL_workspace\\\\all_channel_rawdata\\\\2023-09-07\\\\top_up\\\\charge_1694138514680.xlsx', 'D:\\\\Desktop\\\\travail_workspace\\\\ETL_workspace\\\\all_channel_rawdata\\\\2023-09-07\\\\top_up\\\\charge_1694138532582.xlsx'], ['D:\\\\Desktop\\\\travail_workspace\\\\ETL_workspace\\\\all_channel_rawdata\\\\2023-09-08\\\\top_up\\\\charge_1694224844407.xlsx', 'D:\\\\Desktop\\\\travail_workspace\\\\ETL_workspace\\\\all_channel_rawdata\\\\2023-09-08\\\\top_up\\\\charge_1694224851794.xlsx', 'D:\\\\Desktop\\\\travail_workspace\\\\ETL_workspace\\\\all_channel_rawdata\\\\2023-09-08\\\\top_up\\\\charge_1694224859161.xlsx', 'D:\\\\Desktop\\\\travail_workspace\\\\ETL_workspace\\\\all_channel_rawdata\\\\2023-09-08\\\\top_up\\\\charge_1694224865845.xlsx', 'D:\\\\Desktop\\\\travail_workspace\\\\ETL_workspace\\\\all_channel_rawdata\\\\2023-09-08\\\\top_up\\\\charge_1694224872675.xlsx', 'D:\\\\Desktop\\\\travail_workspace\\\\ETL_workspace\\\\all_channel_rawdata\\\\2023-09-08\\\\top_up\\\\charge_1694224879346.xlsx', 'D:\\\\Desktop\\\\travail_workspace\\\\ETL_workspace\\\\all_channel_rawdata\\\\2023-09-08\\\\top_up\\\\charge_1694224886225.xlsx', 'D:\\\\Desktop\\\\travail_workspace\\\\ETL_workspace\\\\all_channel_rawdata\\\\2023-09-08\\\\top_up\\\\charge_1694224893163.xlsx', 'D:\\\\Desktop\\\\travail_workspace\\\\ETL_workspace\\\\all_channel_rawdata\\\\2023-09-08\\\\top_up\\\\charge_1694224907059.xlsx', 'D:\\\\Desktop\\\\travail_workspace\\\\ETL_workspace\\\\all_channel_rawdata\\\\2023-09-08\\\\top_up\\\\charge_1694224913352.xlsx', 'D:\\\\Desktop\\\\travail_workspace\\\\ETL_workspace\\\\all_channel_rawdata\\\\2023-09-08\\\\top_up\\\\charge_1694224927067.xlsx'], ['D:\\\\Desktop\\\\travail_workspace\\\\ETL_workspace\\\\all_channel_rawdata\\\\2023-09-09\\\\top_up\\\\charge_1694309406179.xlsx', 'D:\\\\Desktop\\\\travail_workspace\\\\ETL_workspace\\\\all_channel_rawdata\\\\2023-09-09\\\\top_up\\\\charge_1694309413953.xlsx', 'D:\\\\Desktop\\\\travail_workspace\\\\ETL_workspace\\\\all_channel_rawdata\\\\2023-09-09\\\\top_up\\\\charge_1694309419994.xlsx', 'D:\\\\Desktop\\\\travail_workspace\\\\ETL_workspace\\\\all_channel_rawdata\\\\2023-09-09\\\\top_up\\\\charge_1694309426489.xlsx', 'D:\\\\Desktop\\\\travail_workspace\\\\ETL_workspace\\\\all_channel_rawdata\\\\2023-09-09\\\\top_up\\\\charge_1694309434268.xlsx', 'D:\\\\Desktop\\\\travail_workspace\\\\ETL_workspace\\\\all_channel_rawdata\\\\2023-09-09\\\\top_up\\\\charge_1694309441146.xlsx', 'D:\\\\Desktop\\\\travail_workspace\\\\ETL_workspace\\\\all_channel_rawdata\\\\2023-09-09\\\\top_up\\\\charge_1694309447162.xlsx', 'D:\\\\Desktop\\\\travail_workspace\\\\ETL_workspace\\\\all_channel_rawdata\\\\2023-09-09\\\\top_up\\\\charge_1694309453705.xlsx', 'D:\\\\Desktop\\\\travail_workspace\\\\ETL_workspace\\\\all_channel_rawdata\\\\2023-09-09\\\\top_up\\\\charge_1694309459789.xlsx', 'D:\\\\Desktop\\\\travail_workspace\\\\ETL_workspace\\\\all_channel_rawdata\\\\2023-09-09\\\\top_up\\\\charge_1694309467104.xlsx', 'D:\\\\Desktop\\\\travail_workspace\\\\ETL_workspace\\\\all_channel_rawdata\\\\2023-09-09\\\\top_up\\\\charge_1694309481351.xlsx'], ['D:\\\\Desktop\\\\travail_workspace\\\\ETL_workspace\\\\all_channel_rawdata\\\\2023-09-10\\\\top_up\\\\charge_1694396454229.xlsx', 'D:\\\\Desktop\\\\travail_workspace\\\\ETL_workspace\\\\all_channel_rawdata\\\\2023-09-10\\\\top_up\\\\charge_1694396462474.xlsx', 'D:\\\\Desktop\\\\travail_workspace\\\\ETL_workspace\\\\all_channel_rawdata\\\\2023-09-10\\\\top_up\\\\charge_1694396468841.xlsx', 'D:\\\\Desktop\\\\travail_workspace\\\\ETL_workspace\\\\all_channel_rawdata\\\\2023-09-10\\\\top_up\\\\charge_1694396475964.xlsx', 'D:\\\\Desktop\\\\travail_workspace\\\\ETL_workspace\\\\all_channel_rawdata\\\\2023-09-10\\\\top_up\\\\charge_1694396483802.xlsx', 'D:\\\\Desktop\\\\travail_workspace\\\\ETL_workspace\\\\all_channel_rawdata\\\\2023-09-10\\\\top_up\\\\charge_1694396490810.xlsx', 'D:\\\\Desktop\\\\travail_workspace\\\\ETL_workspace\\\\all_channel_rawdata\\\\2023-09-10\\\\top_up\\\\charge_1694396509492.xlsx', 'D:\\\\Desktop\\\\travail_workspace\\\\ETL_workspace\\\\all_channel_rawdata\\\\2023-09-10\\\\top_up\\\\charge_1694396621902.xlsx', 'D:\\\\Desktop\\\\travail_workspace\\\\ETL_workspace\\\\all_channel_rawdata\\\\2023-09-10\\\\top_up\\\\charge_1694396635771.xlsx', 'D:\\\\Desktop\\\\travail_workspace\\\\ETL_workspace\\\\all_channel_rawdata\\\\2023-09-10\\\\top_up\\\\charge_1694396655964.xlsx', 'D:\\\\Desktop\\\\travail_workspace\\\\ETL_workspace\\\\all_channel_rawdata\\\\2023-09-10\\\\top_up\\\\charge_1694396671616.xlsx'], ['D:\\\\Desktop\\\\travail_workspace\\\\ETL_workspace\\\\all_channel_rawdata\\\\2023-09-11\\\\top_up\\\\charge_1694485411217.xlsx', 'D:\\\\Desktop\\\\travail_workspace\\\\ETL_workspace\\\\all_channel_rawdata\\\\2023-09-11\\\\top_up\\\\charge_1694485418249.xlsx', 'D:\\\\Desktop\\\\travail_workspace\\\\ETL_workspace\\\\all_channel_rawdata\\\\2023-09-11\\\\top_up\\\\charge_1694485426473.xlsx', 'D:\\\\Desktop\\\\travail_workspace\\\\ETL_workspace\\\\all_channel_rawdata\\\\2023-09-11\\\\top_up\\\\charge_1694485433896.xlsx', 'D:\\\\Desktop\\\\travail_workspace\\\\ETL_workspace\\\\all_channel_rawdata\\\\2023-09-11\\\\top_up\\\\charge_1694485441297.xlsx', 'D:\\\\Desktop\\\\travail_workspace\\\\ETL_workspace\\\\all_channel_rawdata\\\\2023-09-11\\\\top_up\\\\charge_1694485448330.xlsx', 'D:\\\\Desktop\\\\travail_workspace\\\\ETL_workspace\\\\all_channel_rawdata\\\\2023-09-11\\\\top_up\\\\charge_1694485454927.xlsx', 'D:\\\\Desktop\\\\travail_workspace\\\\ETL_workspace\\\\all_channel_rawdata\\\\2023-09-11\\\\top_up\\\\charge_1694485462250.xlsx', 'D:\\\\Desktop\\\\travail_workspace\\\\ETL_workspace\\\\all_channel_rawdata\\\\2023-09-11\\\\top_up\\\\charge_1694485468928.xlsx', 'D:\\\\Desktop\\\\travail_workspace\\\\ETL_workspace\\\\all_channel_rawdata\\\\2023-09-11\\\\top_up\\\\charge_1694485476427.xlsx', 'D:\\\\Desktop\\\\travail_workspace\\\\ETL_workspace\\\\all_channel_rawdata\\\\2023-09-11\\\\top_up\\\\charge_1694485490988.xlsx'], ['D:\\\\Desktop\\\\travail_workspace\\\\ETL_workspace\\\\all_channel_rawdata\\\\2023-09-12\\\\top_up\\\\charge_1694571508801.xlsx', 'D:\\\\Desktop\\\\travail_workspace\\\\ETL_workspace\\\\all_channel_rawdata\\\\2023-09-12\\\\top_up\\\\charge_1694571515928.xlsx', 'D:\\\\Desktop\\\\travail_workspace\\\\ETL_workspace\\\\all_channel_rawdata\\\\2023-09-12\\\\top_up\\\\charge_1694571522038.xlsx', 'D:\\\\Desktop\\\\travail_workspace\\\\ETL_workspace\\\\all_channel_rawdata\\\\2023-09-12\\\\top_up\\\\charge_1694571528584.xlsx', 'D:\\\\Desktop\\\\travail_workspace\\\\ETL_workspace\\\\all_channel_rawdata\\\\2023-09-12\\\\top_up\\\\charge_1694571785761.xlsx', 'D:\\\\Desktop\\\\travail_workspace\\\\ETL_workspace\\\\all_channel_rawdata\\\\2023-09-12\\\\top_up\\\\charge_1694571795890.xlsx', 'D:\\\\Desktop\\\\travail_workspace\\\\ETL_workspace\\\\all_channel_rawdata\\\\2023-09-12\\\\top_up\\\\charge_1694571802992.xlsx', 'D:\\\\Desktop\\\\travail_workspace\\\\ETL_workspace\\\\all_channel_rawdata\\\\2023-09-12\\\\top_up\\\\charge_1694571809311.xlsx', 'D:\\\\Desktop\\\\travail_workspace\\\\ETL_workspace\\\\all_channel_rawdata\\\\2023-09-12\\\\top_up\\\\charge_1694571822171.xlsx', 'D:\\\\Desktop\\\\travail_workspace\\\\ETL_workspace\\\\all_channel_rawdata\\\\2023-09-12\\\\top_up\\\\charge_1694571829495.xlsx', 'D:\\\\Desktop\\\\travail_workspace\\\\ETL_workspace\\\\all_channel_rawdata\\\\2023-09-12\\\\top_up\\\\charge_1694571846258.xlsx'], ['D:\\\\Desktop\\\\travail_workspace\\\\ETL_workspace\\\\all_channel_rawdata\\\\2023-09-13\\\\top_up\\\\charge_1694653887608.xlsx', 'D:\\\\Desktop\\\\travail_workspace\\\\ETL_workspace\\\\all_channel_rawdata\\\\2023-09-13\\\\top_up\\\\charge_1694653894662.xlsx', 'D:\\\\Desktop\\\\travail_workspace\\\\ETL_workspace\\\\all_channel_rawdata\\\\2023-09-13\\\\top_up\\\\charge_1694653925473.xlsx', 'D:\\\\Desktop\\\\travail_workspace\\\\ETL_workspace\\\\all_channel_rawdata\\\\2023-09-13\\\\top_up\\\\charge_1694653935939.xlsx', 'D:\\\\Desktop\\\\travail_workspace\\\\ETL_workspace\\\\all_channel_rawdata\\\\2023-09-13\\\\top_up\\\\charge_1694653942662.xlsx', 'D:\\\\Desktop\\\\travail_workspace\\\\ETL_workspace\\\\all_channel_rawdata\\\\2023-09-13\\\\top_up\\\\charge_1694653948692.xlsx', 'D:\\\\Desktop\\\\travail_workspace\\\\ETL_workspace\\\\all_channel_rawdata\\\\2023-09-13\\\\top_up\\\\charge_1694653955524.xlsx', 'D:\\\\Desktop\\\\travail_workspace\\\\ETL_workspace\\\\all_channel_rawdata\\\\2023-09-13\\\\top_up\\\\charge_1694653962191.xlsx', 'D:\\\\Desktop\\\\travail_workspace\\\\ETL_workspace\\\\all_channel_rawdata\\\\2023-09-13\\\\top_up\\\\charge_1694653968206.xlsx', 'D:\\\\Desktop\\\\travail_workspace\\\\ETL_workspace\\\\all_channel_rawdata\\\\2023-09-13\\\\top_up\\\\charge_1694653975169.xlsx', 'D:\\\\Desktop\\\\travail_workspace\\\\ETL_workspace\\\\all_channel_rawdata\\\\2023-09-13\\\\top_up\\\\charge_1694653987000.xlsx'], ['D:\\\\Desktop\\\\travail_workspace\\\\ETL_workspace\\\\all_channel_rawdata\\\\2023-09-14\\\\top_up\\\\charge_1694741372239.xlsx', 'D:\\\\Desktop\\\\travail_workspace\\\\ETL_workspace\\\\all_channel_rawdata\\\\2023-09-14\\\\top_up\\\\charge_1694741380511.xlsx', 'D:\\\\Desktop\\\\travail_workspace\\\\ETL_workspace\\\\all_channel_rawdata\\\\2023-09-14\\\\top_up\\\\charge_1694741389538.xlsx', 'D:\\\\Desktop\\\\travail_workspace\\\\ETL_workspace\\\\all_channel_rawdata\\\\2023-09-14\\\\top_up\\\\charge_1694741397879.xlsx', 'D:\\\\Desktop\\\\travail_workspace\\\\ETL_workspace\\\\all_channel_rawdata\\\\2023-09-14\\\\top_up\\\\charge_1694741403786.xlsx', 'D:\\\\Desktop\\\\travail_workspace\\\\ETL_workspace\\\\all_channel_rawdata\\\\2023-09-14\\\\top_up\\\\charge_1694741412497.xlsx', 'D:\\\\Desktop\\\\travail_workspace\\\\ETL_workspace\\\\all_channel_rawdata\\\\2023-09-14\\\\top_up\\\\charge_1694741421392.xlsx', 'D:\\\\Desktop\\\\travail_workspace\\\\ETL_workspace\\\\all_channel_rawdata\\\\2023-09-14\\\\top_up\\\\charge_1694741430256.xlsx', 'D:\\\\Desktop\\\\travail_workspace\\\\ETL_workspace\\\\all_channel_rawdata\\\\2023-09-14\\\\top_up\\\\charge_1694741439208.xlsx', 'D:\\\\Desktop\\\\travail_workspace\\\\ETL_workspace\\\\all_channel_rawdata\\\\2023-09-14\\\\top_up\\\\charge_1694741448175.xlsx', 'D:\\\\Desktop\\\\travail_workspace\\\\ETL_workspace\\\\all_channel_rawdata\\\\2023-09-14\\\\top_up\\\\charge_1694741480570.xlsx']]\n",
      "[['D:\\\\Desktop\\\\travail_workspace\\\\ETL_workspace\\\\all_channel_rawdata\\\\2023-09-03\\\\top_up\\\\charge_1693790327820.xlsx', 'D:\\\\Desktop\\\\travail_workspace\\\\ETL_workspace\\\\all_channel_rawdata\\\\2023-09-03\\\\top_up\\\\charge_1693792322842.xlsx', 'D:\\\\Desktop\\\\travail_workspace\\\\ETL_workspace\\\\all_channel_rawdata\\\\2023-09-03\\\\top_up\\\\charge_1693792332924.xlsx', 'D:\\\\Desktop\\\\travail_workspace\\\\ETL_workspace\\\\all_channel_rawdata\\\\2023-09-03\\\\top_up\\\\charge_1693792461232.xlsx', 'D:\\\\Desktop\\\\travail_workspace\\\\ETL_workspace\\\\all_channel_rawdata\\\\2023-09-03\\\\top_up\\\\charge_1693792470631.xlsx', 'D:\\\\Desktop\\\\travail_workspace\\\\ETL_workspace\\\\all_channel_rawdata\\\\2023-09-03\\\\top_up\\\\charge_1693792496032.xlsx', 'D:\\\\Desktop\\\\travail_workspace\\\\ETL_workspace\\\\all_channel_rawdata\\\\2023-09-03\\\\top_up\\\\charge_1693792502705.xlsx', 'D:\\\\Desktop\\\\travail_workspace\\\\ETL_workspace\\\\all_channel_rawdata\\\\2023-09-03\\\\top_up\\\\charge_1693792523135.xlsx', 'D:\\\\Desktop\\\\travail_workspace\\\\ETL_workspace\\\\all_channel_rawdata\\\\2023-09-03\\\\top_up\\\\charge_1693792530314.xlsx', 'D:\\\\Desktop\\\\travail_workspace\\\\ETL_workspace\\\\all_channel_rawdata\\\\2023-09-03\\\\top_up\\\\charge_1693792537807.xlsx', 'D:\\\\Desktop\\\\travail_workspace\\\\ETL_workspace\\\\all_channel_rawdata\\\\2023-09-03\\\\top_up\\\\charge_1693792545023.xlsx', 'D:\\\\Desktop\\\\travail_workspace\\\\ETL_workspace\\\\all_channel_rawdata\\\\2023-09-03\\\\top_up\\\\charge_1693792555723.xlsx'], ['D:\\\\Desktop\\\\travail_workspace\\\\ETL_workspace\\\\all_channel_rawdata\\\\2023-09-04\\\\top_up\\\\charge_1693876580655.xlsx', 'D:\\\\Desktop\\\\travail_workspace\\\\ETL_workspace\\\\all_channel_rawdata\\\\2023-09-04\\\\top_up\\\\charge_1693876588722.xlsx', 'D:\\\\Desktop\\\\travail_workspace\\\\ETL_workspace\\\\all_channel_rawdata\\\\2023-09-04\\\\top_up\\\\charge_1693876595172.xlsx', 'D:\\\\Desktop\\\\travail_workspace\\\\ETL_workspace\\\\all_channel_rawdata\\\\2023-09-04\\\\top_up\\\\charge_1693876602239.xlsx', 'D:\\\\Desktop\\\\travail_workspace\\\\ETL_workspace\\\\all_channel_rawdata\\\\2023-09-04\\\\top_up\\\\charge_1693876608893.xlsx', 'D:\\\\Desktop\\\\travail_workspace\\\\ETL_workspace\\\\all_channel_rawdata\\\\2023-09-04\\\\top_up\\\\charge_1693876615523.xlsx', 'D:\\\\Desktop\\\\travail_workspace\\\\ETL_workspace\\\\all_channel_rawdata\\\\2023-09-04\\\\top_up\\\\charge_1693876622940.xlsx', 'D:\\\\Desktop\\\\travail_workspace\\\\ETL_workspace\\\\all_channel_rawdata\\\\2023-09-04\\\\top_up\\\\charge_1693876629905.xlsx', 'D:\\\\Desktop\\\\travail_workspace\\\\ETL_workspace\\\\all_channel_rawdata\\\\2023-09-04\\\\top_up\\\\charge_1693876637737.xlsx', 'D:\\\\Desktop\\\\travail_workspace\\\\ETL_workspace\\\\all_channel_rawdata\\\\2023-09-04\\\\top_up\\\\charge_1693876645060.xlsx', 'D:\\\\Desktop\\\\travail_workspace\\\\ETL_workspace\\\\all_channel_rawdata\\\\2023-09-04\\\\top_up\\\\charge_1693876651639.xlsx', 'D:\\\\Desktop\\\\travail_workspace\\\\ETL_workspace\\\\all_channel_rawdata\\\\2023-09-04\\\\top_up\\\\charge_1693876665515.xlsx'], ['D:\\\\Desktop\\\\travail_workspace\\\\ETL_workspace\\\\all_channel_rawdata\\\\2023-09-05\\\\top_up\\\\charge_1693962813030.xlsx', 'D:\\\\Desktop\\\\travail_workspace\\\\ETL_workspace\\\\all_channel_rawdata\\\\2023-09-05\\\\top_up\\\\charge_1693962832650.xlsx', 'D:\\\\Desktop\\\\travail_workspace\\\\ETL_workspace\\\\all_channel_rawdata\\\\2023-09-05\\\\top_up\\\\charge_1693962874049.xlsx', 'D:\\\\Desktop\\\\travail_workspace\\\\ETL_workspace\\\\all_channel_rawdata\\\\2023-09-05\\\\top_up\\\\charge_1693962881082.xlsx', 'D:\\\\Desktop\\\\travail_workspace\\\\ETL_workspace\\\\all_channel_rawdata\\\\2023-09-05\\\\top_up\\\\charge_1693962889582.xlsx', 'D:\\\\Desktop\\\\travail_workspace\\\\ETL_workspace\\\\all_channel_rawdata\\\\2023-09-05\\\\top_up\\\\charge_1693962899092.xlsx', 'D:\\\\Desktop\\\\travail_workspace\\\\ETL_workspace\\\\all_channel_rawdata\\\\2023-09-05\\\\top_up\\\\charge_1693962907205.xlsx', 'D:\\\\Desktop\\\\travail_workspace\\\\ETL_workspace\\\\all_channel_rawdata\\\\2023-09-05\\\\top_up\\\\charge_1693962930798.xlsx', 'D:\\\\Desktop\\\\travail_workspace\\\\ETL_workspace\\\\all_channel_rawdata\\\\2023-09-05\\\\top_up\\\\charge_1693962938054.xlsx', 'D:\\\\Desktop\\\\travail_workspace\\\\ETL_workspace\\\\all_channel_rawdata\\\\2023-09-05\\\\top_up\\\\charge_1693962962384.xlsx', 'D:\\\\Desktop\\\\travail_workspace\\\\ETL_workspace\\\\all_channel_rawdata\\\\2023-09-05\\\\top_up\\\\charge_1693962968925.xlsx', 'D:\\\\Desktop\\\\travail_workspace\\\\ETL_workspace\\\\all_channel_rawdata\\\\2023-09-05\\\\top_up\\\\charge_1693962979216.xlsx'], ['D:\\\\Desktop\\\\travail_workspace\\\\ETL_workspace\\\\all_channel_rawdata\\\\2023-09-06\\\\top_up\\\\charge_1694050508410.xlsx', 'D:\\\\Desktop\\\\travail_workspace\\\\ETL_workspace\\\\all_channel_rawdata\\\\2023-09-06\\\\top_up\\\\charge_1694050514418.xlsx', 'D:\\\\Desktop\\\\travail_workspace\\\\ETL_workspace\\\\all_channel_rawdata\\\\2023-09-06\\\\top_up\\\\charge_1694050522132.xlsx', 'D:\\\\Desktop\\\\travail_workspace\\\\ETL_workspace\\\\all_channel_rawdata\\\\2023-09-06\\\\top_up\\\\charge_1694050528083.xlsx', 'D:\\\\Desktop\\\\travail_workspace\\\\ETL_workspace\\\\all_channel_rawdata\\\\2023-09-06\\\\top_up\\\\charge_1694050533803.xlsx', 'D:\\\\Desktop\\\\travail_workspace\\\\ETL_workspace\\\\all_channel_rawdata\\\\2023-09-06\\\\top_up\\\\charge_1694050539708.xlsx', 'D:\\\\Desktop\\\\travail_workspace\\\\ETL_workspace\\\\all_channel_rawdata\\\\2023-09-06\\\\top_up\\\\charge_1694050545597.xlsx', 'D:\\\\Desktop\\\\travail_workspace\\\\ETL_workspace\\\\all_channel_rawdata\\\\2023-09-06\\\\top_up\\\\charge_1694050551835.xlsx', 'D:\\\\Desktop\\\\travail_workspace\\\\ETL_workspace\\\\all_channel_rawdata\\\\2023-09-06\\\\top_up\\\\charge_1694050577067.xlsx', 'D:\\\\Desktop\\\\travail_workspace\\\\ETL_workspace\\\\all_channel_rawdata\\\\2023-09-06\\\\top_up\\\\charge_1694050583326.xlsx', 'D:\\\\Desktop\\\\travail_workspace\\\\ETL_workspace\\\\all_channel_rawdata\\\\2023-09-06\\\\top_up\\\\charge_1694050591324.xlsx'], ['D:\\\\Desktop\\\\travail_workspace\\\\ETL_workspace\\\\all_channel_rawdata\\\\2023-09-07\\\\top_up\\\\charge_1694138077742.xlsx', 'D:\\\\Desktop\\\\travail_workspace\\\\ETL_workspace\\\\all_channel_rawdata\\\\2023-09-07\\\\top_up\\\\charge_1694138097570.xlsx', 'D:\\\\Desktop\\\\travail_workspace\\\\ETL_workspace\\\\all_channel_rawdata\\\\2023-09-07\\\\top_up\\\\charge_1694138110869.xlsx', 'D:\\\\Desktop\\\\travail_workspace\\\\ETL_workspace\\\\all_channel_rawdata\\\\2023-09-07\\\\top_up\\\\charge_1694138467657.xlsx', 'D:\\\\Desktop\\\\travail_workspace\\\\ETL_workspace\\\\all_channel_rawdata\\\\2023-09-07\\\\top_up\\\\charge_1694138475180.xlsx', 'D:\\\\Desktop\\\\travail_workspace\\\\ETL_workspace\\\\all_channel_rawdata\\\\2023-09-07\\\\top_up\\\\charge_1694138482552.xlsx', 'D:\\\\Desktop\\\\travail_workspace\\\\ETL_workspace\\\\all_channel_rawdata\\\\2023-09-07\\\\top_up\\\\charge_1694138490243.xlsx', 'D:\\\\Desktop\\\\travail_workspace\\\\ETL_workspace\\\\all_channel_rawdata\\\\2023-09-07\\\\top_up\\\\charge_1694138498752.xlsx', 'D:\\\\Desktop\\\\travail_workspace\\\\ETL_workspace\\\\all_channel_rawdata\\\\2023-09-07\\\\top_up\\\\charge_1694138507331.xlsx', 'D:\\\\Desktop\\\\travail_workspace\\\\ETL_workspace\\\\all_channel_rawdata\\\\2023-09-07\\\\top_up\\\\charge_1694138514680.xlsx', 'D:\\\\Desktop\\\\travail_workspace\\\\ETL_workspace\\\\all_channel_rawdata\\\\2023-09-07\\\\top_up\\\\charge_1694138532582.xlsx'], ['D:\\\\Desktop\\\\travail_workspace\\\\ETL_workspace\\\\all_channel_rawdata\\\\2023-09-08\\\\top_up\\\\charge_1694224844407.xlsx', 'D:\\\\Desktop\\\\travail_workspace\\\\ETL_workspace\\\\all_channel_rawdata\\\\2023-09-08\\\\top_up\\\\charge_1694224851794.xlsx', 'D:\\\\Desktop\\\\travail_workspace\\\\ETL_workspace\\\\all_channel_rawdata\\\\2023-09-08\\\\top_up\\\\charge_1694224859161.xlsx', 'D:\\\\Desktop\\\\travail_workspace\\\\ETL_workspace\\\\all_channel_rawdata\\\\2023-09-08\\\\top_up\\\\charge_1694224865845.xlsx', 'D:\\\\Desktop\\\\travail_workspace\\\\ETL_workspace\\\\all_channel_rawdata\\\\2023-09-08\\\\top_up\\\\charge_1694224872675.xlsx', 'D:\\\\Desktop\\\\travail_workspace\\\\ETL_workspace\\\\all_channel_rawdata\\\\2023-09-08\\\\top_up\\\\charge_1694224879346.xlsx', 'D:\\\\Desktop\\\\travail_workspace\\\\ETL_workspace\\\\all_channel_rawdata\\\\2023-09-08\\\\top_up\\\\charge_1694224886225.xlsx', 'D:\\\\Desktop\\\\travail_workspace\\\\ETL_workspace\\\\all_channel_rawdata\\\\2023-09-08\\\\top_up\\\\charge_1694224893163.xlsx', 'D:\\\\Desktop\\\\travail_workspace\\\\ETL_workspace\\\\all_channel_rawdata\\\\2023-09-08\\\\top_up\\\\charge_1694224907059.xlsx', 'D:\\\\Desktop\\\\travail_workspace\\\\ETL_workspace\\\\all_channel_rawdata\\\\2023-09-08\\\\top_up\\\\charge_1694224913352.xlsx', 'D:\\\\Desktop\\\\travail_workspace\\\\ETL_workspace\\\\all_channel_rawdata\\\\2023-09-08\\\\top_up\\\\charge_1694224927067.xlsx'], ['D:\\\\Desktop\\\\travail_workspace\\\\ETL_workspace\\\\all_channel_rawdata\\\\2023-09-09\\\\top_up\\\\charge_1694309406179.xlsx', 'D:\\\\Desktop\\\\travail_workspace\\\\ETL_workspace\\\\all_channel_rawdata\\\\2023-09-09\\\\top_up\\\\charge_1694309413953.xlsx', 'D:\\\\Desktop\\\\travail_workspace\\\\ETL_workspace\\\\all_channel_rawdata\\\\2023-09-09\\\\top_up\\\\charge_1694309419994.xlsx', 'D:\\\\Desktop\\\\travail_workspace\\\\ETL_workspace\\\\all_channel_rawdata\\\\2023-09-09\\\\top_up\\\\charge_1694309426489.xlsx', 'D:\\\\Desktop\\\\travail_workspace\\\\ETL_workspace\\\\all_channel_rawdata\\\\2023-09-09\\\\top_up\\\\charge_1694309434268.xlsx', 'D:\\\\Desktop\\\\travail_workspace\\\\ETL_workspace\\\\all_channel_rawdata\\\\2023-09-09\\\\top_up\\\\charge_1694309441146.xlsx', 'D:\\\\Desktop\\\\travail_workspace\\\\ETL_workspace\\\\all_channel_rawdata\\\\2023-09-09\\\\top_up\\\\charge_1694309447162.xlsx', 'D:\\\\Desktop\\\\travail_workspace\\\\ETL_workspace\\\\all_channel_rawdata\\\\2023-09-09\\\\top_up\\\\charge_1694309453705.xlsx', 'D:\\\\Desktop\\\\travail_workspace\\\\ETL_workspace\\\\all_channel_rawdata\\\\2023-09-09\\\\top_up\\\\charge_1694309459789.xlsx', 'D:\\\\Desktop\\\\travail_workspace\\\\ETL_workspace\\\\all_channel_rawdata\\\\2023-09-09\\\\top_up\\\\charge_1694309467104.xlsx', 'D:\\\\Desktop\\\\travail_workspace\\\\ETL_workspace\\\\all_channel_rawdata\\\\2023-09-09\\\\top_up\\\\charge_1694309481351.xlsx'], ['D:\\\\Desktop\\\\travail_workspace\\\\ETL_workspace\\\\all_channel_rawdata\\\\2023-09-10\\\\top_up\\\\charge_1694396454229.xlsx', 'D:\\\\Desktop\\\\travail_workspace\\\\ETL_workspace\\\\all_channel_rawdata\\\\2023-09-10\\\\top_up\\\\charge_1694396462474.xlsx', 'D:\\\\Desktop\\\\travail_workspace\\\\ETL_workspace\\\\all_channel_rawdata\\\\2023-09-10\\\\top_up\\\\charge_1694396468841.xlsx', 'D:\\\\Desktop\\\\travail_workspace\\\\ETL_workspace\\\\all_channel_rawdata\\\\2023-09-10\\\\top_up\\\\charge_1694396475964.xlsx', 'D:\\\\Desktop\\\\travail_workspace\\\\ETL_workspace\\\\all_channel_rawdata\\\\2023-09-10\\\\top_up\\\\charge_1694396483802.xlsx', 'D:\\\\Desktop\\\\travail_workspace\\\\ETL_workspace\\\\all_channel_rawdata\\\\2023-09-10\\\\top_up\\\\charge_1694396490810.xlsx', 'D:\\\\Desktop\\\\travail_workspace\\\\ETL_workspace\\\\all_channel_rawdata\\\\2023-09-10\\\\top_up\\\\charge_1694396509492.xlsx', 'D:\\\\Desktop\\\\travail_workspace\\\\ETL_workspace\\\\all_channel_rawdata\\\\2023-09-10\\\\top_up\\\\charge_1694396621902.xlsx', 'D:\\\\Desktop\\\\travail_workspace\\\\ETL_workspace\\\\all_channel_rawdata\\\\2023-09-10\\\\top_up\\\\charge_1694396635771.xlsx', 'D:\\\\Desktop\\\\travail_workspace\\\\ETL_workspace\\\\all_channel_rawdata\\\\2023-09-10\\\\top_up\\\\charge_1694396655964.xlsx', 'D:\\\\Desktop\\\\travail_workspace\\\\ETL_workspace\\\\all_channel_rawdata\\\\2023-09-10\\\\top_up\\\\charge_1694396671616.xlsx'], ['D:\\\\Desktop\\\\travail_workspace\\\\ETL_workspace\\\\all_channel_rawdata\\\\2023-09-11\\\\top_up\\\\charge_1694485411217.xlsx', 'D:\\\\Desktop\\\\travail_workspace\\\\ETL_workspace\\\\all_channel_rawdata\\\\2023-09-11\\\\top_up\\\\charge_1694485418249.xlsx', 'D:\\\\Desktop\\\\travail_workspace\\\\ETL_workspace\\\\all_channel_rawdata\\\\2023-09-11\\\\top_up\\\\charge_1694485426473.xlsx', 'D:\\\\Desktop\\\\travail_workspace\\\\ETL_workspace\\\\all_channel_rawdata\\\\2023-09-11\\\\top_up\\\\charge_1694485433896.xlsx', 'D:\\\\Desktop\\\\travail_workspace\\\\ETL_workspace\\\\all_channel_rawdata\\\\2023-09-11\\\\top_up\\\\charge_1694485441297.xlsx', 'D:\\\\Desktop\\\\travail_workspace\\\\ETL_workspace\\\\all_channel_rawdata\\\\2023-09-11\\\\top_up\\\\charge_1694485448330.xlsx', 'D:\\\\Desktop\\\\travail_workspace\\\\ETL_workspace\\\\all_channel_rawdata\\\\2023-09-11\\\\top_up\\\\charge_1694485454927.xlsx', 'D:\\\\Desktop\\\\travail_workspace\\\\ETL_workspace\\\\all_channel_rawdata\\\\2023-09-11\\\\top_up\\\\charge_1694485462250.xlsx', 'D:\\\\Desktop\\\\travail_workspace\\\\ETL_workspace\\\\all_channel_rawdata\\\\2023-09-11\\\\top_up\\\\charge_1694485468928.xlsx', 'D:\\\\Desktop\\\\travail_workspace\\\\ETL_workspace\\\\all_channel_rawdata\\\\2023-09-11\\\\top_up\\\\charge_1694485476427.xlsx', 'D:\\\\Desktop\\\\travail_workspace\\\\ETL_workspace\\\\all_channel_rawdata\\\\2023-09-11\\\\top_up\\\\charge_1694485490988.xlsx'], ['D:\\\\Desktop\\\\travail_workspace\\\\ETL_workspace\\\\all_channel_rawdata\\\\2023-09-12\\\\top_up\\\\charge_1694571508801.xlsx', 'D:\\\\Desktop\\\\travail_workspace\\\\ETL_workspace\\\\all_channel_rawdata\\\\2023-09-12\\\\top_up\\\\charge_1694571515928.xlsx', 'D:\\\\Desktop\\\\travail_workspace\\\\ETL_workspace\\\\all_channel_rawdata\\\\2023-09-12\\\\top_up\\\\charge_1694571522038.xlsx', 'D:\\\\Desktop\\\\travail_workspace\\\\ETL_workspace\\\\all_channel_rawdata\\\\2023-09-12\\\\top_up\\\\charge_1694571528584.xlsx', 'D:\\\\Desktop\\\\travail_workspace\\\\ETL_workspace\\\\all_channel_rawdata\\\\2023-09-12\\\\top_up\\\\charge_1694571785761.xlsx', 'D:\\\\Desktop\\\\travail_workspace\\\\ETL_workspace\\\\all_channel_rawdata\\\\2023-09-12\\\\top_up\\\\charge_1694571795890.xlsx', 'D:\\\\Desktop\\\\travail_workspace\\\\ETL_workspace\\\\all_channel_rawdata\\\\2023-09-12\\\\top_up\\\\charge_1694571802992.xlsx', 'D:\\\\Desktop\\\\travail_workspace\\\\ETL_workspace\\\\all_channel_rawdata\\\\2023-09-12\\\\top_up\\\\charge_1694571809311.xlsx', 'D:\\\\Desktop\\\\travail_workspace\\\\ETL_workspace\\\\all_channel_rawdata\\\\2023-09-12\\\\top_up\\\\charge_1694571822171.xlsx', 'D:\\\\Desktop\\\\travail_workspace\\\\ETL_workspace\\\\all_channel_rawdata\\\\2023-09-12\\\\top_up\\\\charge_1694571829495.xlsx', 'D:\\\\Desktop\\\\travail_workspace\\\\ETL_workspace\\\\all_channel_rawdata\\\\2023-09-12\\\\top_up\\\\charge_1694571846258.xlsx'], ['D:\\\\Desktop\\\\travail_workspace\\\\ETL_workspace\\\\all_channel_rawdata\\\\2023-09-13\\\\top_up\\\\charge_1694653887608.xlsx', 'D:\\\\Desktop\\\\travail_workspace\\\\ETL_workspace\\\\all_channel_rawdata\\\\2023-09-13\\\\top_up\\\\charge_1694653894662.xlsx', 'D:\\\\Desktop\\\\travail_workspace\\\\ETL_workspace\\\\all_channel_rawdata\\\\2023-09-13\\\\top_up\\\\charge_1694653925473.xlsx', 'D:\\\\Desktop\\\\travail_workspace\\\\ETL_workspace\\\\all_channel_rawdata\\\\2023-09-13\\\\top_up\\\\charge_1694653935939.xlsx', 'D:\\\\Desktop\\\\travail_workspace\\\\ETL_workspace\\\\all_channel_rawdata\\\\2023-09-13\\\\top_up\\\\charge_1694653942662.xlsx', 'D:\\\\Desktop\\\\travail_workspace\\\\ETL_workspace\\\\all_channel_rawdata\\\\2023-09-13\\\\top_up\\\\charge_1694653948692.xlsx', 'D:\\\\Desktop\\\\travail_workspace\\\\ETL_workspace\\\\all_channel_rawdata\\\\2023-09-13\\\\top_up\\\\charge_1694653955524.xlsx', 'D:\\\\Desktop\\\\travail_workspace\\\\ETL_workspace\\\\all_channel_rawdata\\\\2023-09-13\\\\top_up\\\\charge_1694653962191.xlsx', 'D:\\\\Desktop\\\\travail_workspace\\\\ETL_workspace\\\\all_channel_rawdata\\\\2023-09-13\\\\top_up\\\\charge_1694653968206.xlsx', 'D:\\\\Desktop\\\\travail_workspace\\\\ETL_workspace\\\\all_channel_rawdata\\\\2023-09-13\\\\top_up\\\\charge_1694653975169.xlsx', 'D:\\\\Desktop\\\\travail_workspace\\\\ETL_workspace\\\\all_channel_rawdata\\\\2023-09-13\\\\top_up\\\\charge_1694653987000.xlsx'], ['D:\\\\Desktop\\\\travail_workspace\\\\ETL_workspace\\\\all_channel_rawdata\\\\2023-09-14\\\\top_up\\\\charge_1694741372239.xlsx', 'D:\\\\Desktop\\\\travail_workspace\\\\ETL_workspace\\\\all_channel_rawdata\\\\2023-09-14\\\\top_up\\\\charge_1694741380511.xlsx', 'D:\\\\Desktop\\\\travail_workspace\\\\ETL_workspace\\\\all_channel_rawdata\\\\2023-09-14\\\\top_up\\\\charge_1694741389538.xlsx', 'D:\\\\Desktop\\\\travail_workspace\\\\ETL_workspace\\\\all_channel_rawdata\\\\2023-09-14\\\\top_up\\\\charge_1694741397879.xlsx', 'D:\\\\Desktop\\\\travail_workspace\\\\ETL_workspace\\\\all_channel_rawdata\\\\2023-09-14\\\\top_up\\\\charge_1694741403786.xlsx', 'D:\\\\Desktop\\\\travail_workspace\\\\ETL_workspace\\\\all_channel_rawdata\\\\2023-09-14\\\\top_up\\\\charge_1694741412497.xlsx', 'D:\\\\Desktop\\\\travail_workspace\\\\ETL_workspace\\\\all_channel_rawdata\\\\2023-09-14\\\\top_up\\\\charge_1694741421392.xlsx', 'D:\\\\Desktop\\\\travail_workspace\\\\ETL_workspace\\\\all_channel_rawdata\\\\2023-09-14\\\\top_up\\\\charge_1694741430256.xlsx', 'D:\\\\Desktop\\\\travail_workspace\\\\ETL_workspace\\\\all_channel_rawdata\\\\2023-09-14\\\\top_up\\\\charge_1694741439208.xlsx', 'D:\\\\Desktop\\\\travail_workspace\\\\ETL_workspace\\\\all_channel_rawdata\\\\2023-09-14\\\\top_up\\\\charge_1694741448175.xlsx', 'D:\\\\Desktop\\\\travail_workspace\\\\ETL_workspace\\\\all_channel_rawdata\\\\2023-09-14\\\\top_up\\\\charge_1694741480570.xlsx'], ['D:\\\\Desktop\\\\travail_workspace\\\\ETL_workspace\\\\all_channel_rawdata\\\\2023-09-15\\\\top_up\\\\charge_1694828931526.xlsx', 'D:\\\\Desktop\\\\travail_workspace\\\\ETL_workspace\\\\all_channel_rawdata\\\\2023-09-15\\\\top_up\\\\charge_1694828940689.xlsx', 'D:\\\\Desktop\\\\travail_workspace\\\\ETL_workspace\\\\all_channel_rawdata\\\\2023-09-15\\\\top_up\\\\charge_1694828950967.xlsx', 'D:\\\\Desktop\\\\travail_workspace\\\\ETL_workspace\\\\all_channel_rawdata\\\\2023-09-15\\\\top_up\\\\charge_1694828961040.xlsx', 'D:\\\\Desktop\\\\travail_workspace\\\\ETL_workspace\\\\all_channel_rawdata\\\\2023-09-15\\\\top_up\\\\charge_1694828968248.xlsx', 'D:\\\\Desktop\\\\travail_workspace\\\\ETL_workspace\\\\all_channel_rawdata\\\\2023-09-15\\\\top_up\\\\charge_1694828978126.xlsx', 'D:\\\\Desktop\\\\travail_workspace\\\\ETL_workspace\\\\all_channel_rawdata\\\\2023-09-15\\\\top_up\\\\charge_1694828987398.xlsx', 'D:\\\\Desktop\\\\travail_workspace\\\\ETL_workspace\\\\all_channel_rawdata\\\\2023-09-15\\\\top_up\\\\charge_1694828997087.xlsx', 'D:\\\\Desktop\\\\travail_workspace\\\\ETL_workspace\\\\all_channel_rawdata\\\\2023-09-15\\\\top_up\\\\charge_1694829006602.xlsx', 'D:\\\\Desktop\\\\travail_workspace\\\\ETL_workspace\\\\all_channel_rawdata\\\\2023-09-15\\\\top_up\\\\charge_1694829015847.xlsx', 'D:\\\\Desktop\\\\travail_workspace\\\\ETL_workspace\\\\all_channel_rawdata\\\\2023-09-15\\\\top_up\\\\charge_1694829025563.xlsx', 'D:\\\\Desktop\\\\travail_workspace\\\\ETL_workspace\\\\all_channel_rawdata\\\\2023-09-15\\\\top_up\\\\charge_1694829059675.xlsx']]\n",
      "[['D:\\\\Desktop\\\\travail_workspace\\\\ETL_workspace\\\\all_channel_rawdata\\\\2023-09-03\\\\top_up\\\\charge_1693790327820.xlsx', 'D:\\\\Desktop\\\\travail_workspace\\\\ETL_workspace\\\\all_channel_rawdata\\\\2023-09-03\\\\top_up\\\\charge_1693792322842.xlsx', 'D:\\\\Desktop\\\\travail_workspace\\\\ETL_workspace\\\\all_channel_rawdata\\\\2023-09-03\\\\top_up\\\\charge_1693792332924.xlsx', 'D:\\\\Desktop\\\\travail_workspace\\\\ETL_workspace\\\\all_channel_rawdata\\\\2023-09-03\\\\top_up\\\\charge_1693792461232.xlsx', 'D:\\\\Desktop\\\\travail_workspace\\\\ETL_workspace\\\\all_channel_rawdata\\\\2023-09-03\\\\top_up\\\\charge_1693792470631.xlsx', 'D:\\\\Desktop\\\\travail_workspace\\\\ETL_workspace\\\\all_channel_rawdata\\\\2023-09-03\\\\top_up\\\\charge_1693792496032.xlsx', 'D:\\\\Desktop\\\\travail_workspace\\\\ETL_workspace\\\\all_channel_rawdata\\\\2023-09-03\\\\top_up\\\\charge_1693792502705.xlsx', 'D:\\\\Desktop\\\\travail_workspace\\\\ETL_workspace\\\\all_channel_rawdata\\\\2023-09-03\\\\top_up\\\\charge_1693792523135.xlsx', 'D:\\\\Desktop\\\\travail_workspace\\\\ETL_workspace\\\\all_channel_rawdata\\\\2023-09-03\\\\top_up\\\\charge_1693792530314.xlsx', 'D:\\\\Desktop\\\\travail_workspace\\\\ETL_workspace\\\\all_channel_rawdata\\\\2023-09-03\\\\top_up\\\\charge_1693792537807.xlsx', 'D:\\\\Desktop\\\\travail_workspace\\\\ETL_workspace\\\\all_channel_rawdata\\\\2023-09-03\\\\top_up\\\\charge_1693792545023.xlsx', 'D:\\\\Desktop\\\\travail_workspace\\\\ETL_workspace\\\\all_channel_rawdata\\\\2023-09-03\\\\top_up\\\\charge_1693792555723.xlsx'], ['D:\\\\Desktop\\\\travail_workspace\\\\ETL_workspace\\\\all_channel_rawdata\\\\2023-09-04\\\\top_up\\\\charge_1693876580655.xlsx', 'D:\\\\Desktop\\\\travail_workspace\\\\ETL_workspace\\\\all_channel_rawdata\\\\2023-09-04\\\\top_up\\\\charge_1693876588722.xlsx', 'D:\\\\Desktop\\\\travail_workspace\\\\ETL_workspace\\\\all_channel_rawdata\\\\2023-09-04\\\\top_up\\\\charge_1693876595172.xlsx', 'D:\\\\Desktop\\\\travail_workspace\\\\ETL_workspace\\\\all_channel_rawdata\\\\2023-09-04\\\\top_up\\\\charge_1693876602239.xlsx', 'D:\\\\Desktop\\\\travail_workspace\\\\ETL_workspace\\\\all_channel_rawdata\\\\2023-09-04\\\\top_up\\\\charge_1693876608893.xlsx', 'D:\\\\Desktop\\\\travail_workspace\\\\ETL_workspace\\\\all_channel_rawdata\\\\2023-09-04\\\\top_up\\\\charge_1693876615523.xlsx', 'D:\\\\Desktop\\\\travail_workspace\\\\ETL_workspace\\\\all_channel_rawdata\\\\2023-09-04\\\\top_up\\\\charge_1693876622940.xlsx', 'D:\\\\Desktop\\\\travail_workspace\\\\ETL_workspace\\\\all_channel_rawdata\\\\2023-09-04\\\\top_up\\\\charge_1693876629905.xlsx', 'D:\\\\Desktop\\\\travail_workspace\\\\ETL_workspace\\\\all_channel_rawdata\\\\2023-09-04\\\\top_up\\\\charge_1693876637737.xlsx', 'D:\\\\Desktop\\\\travail_workspace\\\\ETL_workspace\\\\all_channel_rawdata\\\\2023-09-04\\\\top_up\\\\charge_1693876645060.xlsx', 'D:\\\\Desktop\\\\travail_workspace\\\\ETL_workspace\\\\all_channel_rawdata\\\\2023-09-04\\\\top_up\\\\charge_1693876651639.xlsx', 'D:\\\\Desktop\\\\travail_workspace\\\\ETL_workspace\\\\all_channel_rawdata\\\\2023-09-04\\\\top_up\\\\charge_1693876665515.xlsx'], ['D:\\\\Desktop\\\\travail_workspace\\\\ETL_workspace\\\\all_channel_rawdata\\\\2023-09-05\\\\top_up\\\\charge_1693962813030.xlsx', 'D:\\\\Desktop\\\\travail_workspace\\\\ETL_workspace\\\\all_channel_rawdata\\\\2023-09-05\\\\top_up\\\\charge_1693962832650.xlsx', 'D:\\\\Desktop\\\\travail_workspace\\\\ETL_workspace\\\\all_channel_rawdata\\\\2023-09-05\\\\top_up\\\\charge_1693962874049.xlsx', 'D:\\\\Desktop\\\\travail_workspace\\\\ETL_workspace\\\\all_channel_rawdata\\\\2023-09-05\\\\top_up\\\\charge_1693962881082.xlsx', 'D:\\\\Desktop\\\\travail_workspace\\\\ETL_workspace\\\\all_channel_rawdata\\\\2023-09-05\\\\top_up\\\\charge_1693962889582.xlsx', 'D:\\\\Desktop\\\\travail_workspace\\\\ETL_workspace\\\\all_channel_rawdata\\\\2023-09-05\\\\top_up\\\\charge_1693962899092.xlsx', 'D:\\\\Desktop\\\\travail_workspace\\\\ETL_workspace\\\\all_channel_rawdata\\\\2023-09-05\\\\top_up\\\\charge_1693962907205.xlsx', 'D:\\\\Desktop\\\\travail_workspace\\\\ETL_workspace\\\\all_channel_rawdata\\\\2023-09-05\\\\top_up\\\\charge_1693962930798.xlsx', 'D:\\\\Desktop\\\\travail_workspace\\\\ETL_workspace\\\\all_channel_rawdata\\\\2023-09-05\\\\top_up\\\\charge_1693962938054.xlsx', 'D:\\\\Desktop\\\\travail_workspace\\\\ETL_workspace\\\\all_channel_rawdata\\\\2023-09-05\\\\top_up\\\\charge_1693962962384.xlsx', 'D:\\\\Desktop\\\\travail_workspace\\\\ETL_workspace\\\\all_channel_rawdata\\\\2023-09-05\\\\top_up\\\\charge_1693962968925.xlsx', 'D:\\\\Desktop\\\\travail_workspace\\\\ETL_workspace\\\\all_channel_rawdata\\\\2023-09-05\\\\top_up\\\\charge_1693962979216.xlsx'], ['D:\\\\Desktop\\\\travail_workspace\\\\ETL_workspace\\\\all_channel_rawdata\\\\2023-09-06\\\\top_up\\\\charge_1694050508410.xlsx', 'D:\\\\Desktop\\\\travail_workspace\\\\ETL_workspace\\\\all_channel_rawdata\\\\2023-09-06\\\\top_up\\\\charge_1694050514418.xlsx', 'D:\\\\Desktop\\\\travail_workspace\\\\ETL_workspace\\\\all_channel_rawdata\\\\2023-09-06\\\\top_up\\\\charge_1694050522132.xlsx', 'D:\\\\Desktop\\\\travail_workspace\\\\ETL_workspace\\\\all_channel_rawdata\\\\2023-09-06\\\\top_up\\\\charge_1694050528083.xlsx', 'D:\\\\Desktop\\\\travail_workspace\\\\ETL_workspace\\\\all_channel_rawdata\\\\2023-09-06\\\\top_up\\\\charge_1694050533803.xlsx', 'D:\\\\Desktop\\\\travail_workspace\\\\ETL_workspace\\\\all_channel_rawdata\\\\2023-09-06\\\\top_up\\\\charge_1694050539708.xlsx', 'D:\\\\Desktop\\\\travail_workspace\\\\ETL_workspace\\\\all_channel_rawdata\\\\2023-09-06\\\\top_up\\\\charge_1694050545597.xlsx', 'D:\\\\Desktop\\\\travail_workspace\\\\ETL_workspace\\\\all_channel_rawdata\\\\2023-09-06\\\\top_up\\\\charge_1694050551835.xlsx', 'D:\\\\Desktop\\\\travail_workspace\\\\ETL_workspace\\\\all_channel_rawdata\\\\2023-09-06\\\\top_up\\\\charge_1694050577067.xlsx', 'D:\\\\Desktop\\\\travail_workspace\\\\ETL_workspace\\\\all_channel_rawdata\\\\2023-09-06\\\\top_up\\\\charge_1694050583326.xlsx', 'D:\\\\Desktop\\\\travail_workspace\\\\ETL_workspace\\\\all_channel_rawdata\\\\2023-09-06\\\\top_up\\\\charge_1694050591324.xlsx'], ['D:\\\\Desktop\\\\travail_workspace\\\\ETL_workspace\\\\all_channel_rawdata\\\\2023-09-07\\\\top_up\\\\charge_1694138077742.xlsx', 'D:\\\\Desktop\\\\travail_workspace\\\\ETL_workspace\\\\all_channel_rawdata\\\\2023-09-07\\\\top_up\\\\charge_1694138097570.xlsx', 'D:\\\\Desktop\\\\travail_workspace\\\\ETL_workspace\\\\all_channel_rawdata\\\\2023-09-07\\\\top_up\\\\charge_1694138110869.xlsx', 'D:\\\\Desktop\\\\travail_workspace\\\\ETL_workspace\\\\all_channel_rawdata\\\\2023-09-07\\\\top_up\\\\charge_1694138467657.xlsx', 'D:\\\\Desktop\\\\travail_workspace\\\\ETL_workspace\\\\all_channel_rawdata\\\\2023-09-07\\\\top_up\\\\charge_1694138475180.xlsx', 'D:\\\\Desktop\\\\travail_workspace\\\\ETL_workspace\\\\all_channel_rawdata\\\\2023-09-07\\\\top_up\\\\charge_1694138482552.xlsx', 'D:\\\\Desktop\\\\travail_workspace\\\\ETL_workspace\\\\all_channel_rawdata\\\\2023-09-07\\\\top_up\\\\charge_1694138490243.xlsx', 'D:\\\\Desktop\\\\travail_workspace\\\\ETL_workspace\\\\all_channel_rawdata\\\\2023-09-07\\\\top_up\\\\charge_1694138498752.xlsx', 'D:\\\\Desktop\\\\travail_workspace\\\\ETL_workspace\\\\all_channel_rawdata\\\\2023-09-07\\\\top_up\\\\charge_1694138507331.xlsx', 'D:\\\\Desktop\\\\travail_workspace\\\\ETL_workspace\\\\all_channel_rawdata\\\\2023-09-07\\\\top_up\\\\charge_1694138514680.xlsx', 'D:\\\\Desktop\\\\travail_workspace\\\\ETL_workspace\\\\all_channel_rawdata\\\\2023-09-07\\\\top_up\\\\charge_1694138532582.xlsx'], ['D:\\\\Desktop\\\\travail_workspace\\\\ETL_workspace\\\\all_channel_rawdata\\\\2023-09-08\\\\top_up\\\\charge_1694224844407.xlsx', 'D:\\\\Desktop\\\\travail_workspace\\\\ETL_workspace\\\\all_channel_rawdata\\\\2023-09-08\\\\top_up\\\\charge_1694224851794.xlsx', 'D:\\\\Desktop\\\\travail_workspace\\\\ETL_workspace\\\\all_channel_rawdata\\\\2023-09-08\\\\top_up\\\\charge_1694224859161.xlsx', 'D:\\\\Desktop\\\\travail_workspace\\\\ETL_workspace\\\\all_channel_rawdata\\\\2023-09-08\\\\top_up\\\\charge_1694224865845.xlsx', 'D:\\\\Desktop\\\\travail_workspace\\\\ETL_workspace\\\\all_channel_rawdata\\\\2023-09-08\\\\top_up\\\\charge_1694224872675.xlsx', 'D:\\\\Desktop\\\\travail_workspace\\\\ETL_workspace\\\\all_channel_rawdata\\\\2023-09-08\\\\top_up\\\\charge_1694224879346.xlsx', 'D:\\\\Desktop\\\\travail_workspace\\\\ETL_workspace\\\\all_channel_rawdata\\\\2023-09-08\\\\top_up\\\\charge_1694224886225.xlsx', 'D:\\\\Desktop\\\\travail_workspace\\\\ETL_workspace\\\\all_channel_rawdata\\\\2023-09-08\\\\top_up\\\\charge_1694224893163.xlsx', 'D:\\\\Desktop\\\\travail_workspace\\\\ETL_workspace\\\\all_channel_rawdata\\\\2023-09-08\\\\top_up\\\\charge_1694224907059.xlsx', 'D:\\\\Desktop\\\\travail_workspace\\\\ETL_workspace\\\\all_channel_rawdata\\\\2023-09-08\\\\top_up\\\\charge_1694224913352.xlsx', 'D:\\\\Desktop\\\\travail_workspace\\\\ETL_workspace\\\\all_channel_rawdata\\\\2023-09-08\\\\top_up\\\\charge_1694224927067.xlsx'], ['D:\\\\Desktop\\\\travail_workspace\\\\ETL_workspace\\\\all_channel_rawdata\\\\2023-09-09\\\\top_up\\\\charge_1694309406179.xlsx', 'D:\\\\Desktop\\\\travail_workspace\\\\ETL_workspace\\\\all_channel_rawdata\\\\2023-09-09\\\\top_up\\\\charge_1694309413953.xlsx', 'D:\\\\Desktop\\\\travail_workspace\\\\ETL_workspace\\\\all_channel_rawdata\\\\2023-09-09\\\\top_up\\\\charge_1694309419994.xlsx', 'D:\\\\Desktop\\\\travail_workspace\\\\ETL_workspace\\\\all_channel_rawdata\\\\2023-09-09\\\\top_up\\\\charge_1694309426489.xlsx', 'D:\\\\Desktop\\\\travail_workspace\\\\ETL_workspace\\\\all_channel_rawdata\\\\2023-09-09\\\\top_up\\\\charge_1694309434268.xlsx', 'D:\\\\Desktop\\\\travail_workspace\\\\ETL_workspace\\\\all_channel_rawdata\\\\2023-09-09\\\\top_up\\\\charge_1694309441146.xlsx', 'D:\\\\Desktop\\\\travail_workspace\\\\ETL_workspace\\\\all_channel_rawdata\\\\2023-09-09\\\\top_up\\\\charge_1694309447162.xlsx', 'D:\\\\Desktop\\\\travail_workspace\\\\ETL_workspace\\\\all_channel_rawdata\\\\2023-09-09\\\\top_up\\\\charge_1694309453705.xlsx', 'D:\\\\Desktop\\\\travail_workspace\\\\ETL_workspace\\\\all_channel_rawdata\\\\2023-09-09\\\\top_up\\\\charge_1694309459789.xlsx', 'D:\\\\Desktop\\\\travail_workspace\\\\ETL_workspace\\\\all_channel_rawdata\\\\2023-09-09\\\\top_up\\\\charge_1694309467104.xlsx', 'D:\\\\Desktop\\\\travail_workspace\\\\ETL_workspace\\\\all_channel_rawdata\\\\2023-09-09\\\\top_up\\\\charge_1694309481351.xlsx'], ['D:\\\\Desktop\\\\travail_workspace\\\\ETL_workspace\\\\all_channel_rawdata\\\\2023-09-10\\\\top_up\\\\charge_1694396454229.xlsx', 'D:\\\\Desktop\\\\travail_workspace\\\\ETL_workspace\\\\all_channel_rawdata\\\\2023-09-10\\\\top_up\\\\charge_1694396462474.xlsx', 'D:\\\\Desktop\\\\travail_workspace\\\\ETL_workspace\\\\all_channel_rawdata\\\\2023-09-10\\\\top_up\\\\charge_1694396468841.xlsx', 'D:\\\\Desktop\\\\travail_workspace\\\\ETL_workspace\\\\all_channel_rawdata\\\\2023-09-10\\\\top_up\\\\charge_1694396475964.xlsx', 'D:\\\\Desktop\\\\travail_workspace\\\\ETL_workspace\\\\all_channel_rawdata\\\\2023-09-10\\\\top_up\\\\charge_1694396483802.xlsx', 'D:\\\\Desktop\\\\travail_workspace\\\\ETL_workspace\\\\all_channel_rawdata\\\\2023-09-10\\\\top_up\\\\charge_1694396490810.xlsx', 'D:\\\\Desktop\\\\travail_workspace\\\\ETL_workspace\\\\all_channel_rawdata\\\\2023-09-10\\\\top_up\\\\charge_1694396509492.xlsx', 'D:\\\\Desktop\\\\travail_workspace\\\\ETL_workspace\\\\all_channel_rawdata\\\\2023-09-10\\\\top_up\\\\charge_1694396621902.xlsx', 'D:\\\\Desktop\\\\travail_workspace\\\\ETL_workspace\\\\all_channel_rawdata\\\\2023-09-10\\\\top_up\\\\charge_1694396635771.xlsx', 'D:\\\\Desktop\\\\travail_workspace\\\\ETL_workspace\\\\all_channel_rawdata\\\\2023-09-10\\\\top_up\\\\charge_1694396655964.xlsx', 'D:\\\\Desktop\\\\travail_workspace\\\\ETL_workspace\\\\all_channel_rawdata\\\\2023-09-10\\\\top_up\\\\charge_1694396671616.xlsx'], ['D:\\\\Desktop\\\\travail_workspace\\\\ETL_workspace\\\\all_channel_rawdata\\\\2023-09-11\\\\top_up\\\\charge_1694485411217.xlsx', 'D:\\\\Desktop\\\\travail_workspace\\\\ETL_workspace\\\\all_channel_rawdata\\\\2023-09-11\\\\top_up\\\\charge_1694485418249.xlsx', 'D:\\\\Desktop\\\\travail_workspace\\\\ETL_workspace\\\\all_channel_rawdata\\\\2023-09-11\\\\top_up\\\\charge_1694485426473.xlsx', 'D:\\\\Desktop\\\\travail_workspace\\\\ETL_workspace\\\\all_channel_rawdata\\\\2023-09-11\\\\top_up\\\\charge_1694485433896.xlsx', 'D:\\\\Desktop\\\\travail_workspace\\\\ETL_workspace\\\\all_channel_rawdata\\\\2023-09-11\\\\top_up\\\\charge_1694485441297.xlsx', 'D:\\\\Desktop\\\\travail_workspace\\\\ETL_workspace\\\\all_channel_rawdata\\\\2023-09-11\\\\top_up\\\\charge_1694485448330.xlsx', 'D:\\\\Desktop\\\\travail_workspace\\\\ETL_workspace\\\\all_channel_rawdata\\\\2023-09-11\\\\top_up\\\\charge_1694485454927.xlsx', 'D:\\\\Desktop\\\\travail_workspace\\\\ETL_workspace\\\\all_channel_rawdata\\\\2023-09-11\\\\top_up\\\\charge_1694485462250.xlsx', 'D:\\\\Desktop\\\\travail_workspace\\\\ETL_workspace\\\\all_channel_rawdata\\\\2023-09-11\\\\top_up\\\\charge_1694485468928.xlsx', 'D:\\\\Desktop\\\\travail_workspace\\\\ETL_workspace\\\\all_channel_rawdata\\\\2023-09-11\\\\top_up\\\\charge_1694485476427.xlsx', 'D:\\\\Desktop\\\\travail_workspace\\\\ETL_workspace\\\\all_channel_rawdata\\\\2023-09-11\\\\top_up\\\\charge_1694485490988.xlsx'], ['D:\\\\Desktop\\\\travail_workspace\\\\ETL_workspace\\\\all_channel_rawdata\\\\2023-09-12\\\\top_up\\\\charge_1694571508801.xlsx', 'D:\\\\Desktop\\\\travail_workspace\\\\ETL_workspace\\\\all_channel_rawdata\\\\2023-09-12\\\\top_up\\\\charge_1694571515928.xlsx', 'D:\\\\Desktop\\\\travail_workspace\\\\ETL_workspace\\\\all_channel_rawdata\\\\2023-09-12\\\\top_up\\\\charge_1694571522038.xlsx', 'D:\\\\Desktop\\\\travail_workspace\\\\ETL_workspace\\\\all_channel_rawdata\\\\2023-09-12\\\\top_up\\\\charge_1694571528584.xlsx', 'D:\\\\Desktop\\\\travail_workspace\\\\ETL_workspace\\\\all_channel_rawdata\\\\2023-09-12\\\\top_up\\\\charge_1694571785761.xlsx', 'D:\\\\Desktop\\\\travail_workspace\\\\ETL_workspace\\\\all_channel_rawdata\\\\2023-09-12\\\\top_up\\\\charge_1694571795890.xlsx', 'D:\\\\Desktop\\\\travail_workspace\\\\ETL_workspace\\\\all_channel_rawdata\\\\2023-09-12\\\\top_up\\\\charge_1694571802992.xlsx', 'D:\\\\Desktop\\\\travail_workspace\\\\ETL_workspace\\\\all_channel_rawdata\\\\2023-09-12\\\\top_up\\\\charge_1694571809311.xlsx', 'D:\\\\Desktop\\\\travail_workspace\\\\ETL_workspace\\\\all_channel_rawdata\\\\2023-09-12\\\\top_up\\\\charge_1694571822171.xlsx', 'D:\\\\Desktop\\\\travail_workspace\\\\ETL_workspace\\\\all_channel_rawdata\\\\2023-09-12\\\\top_up\\\\charge_1694571829495.xlsx', 'D:\\\\Desktop\\\\travail_workspace\\\\ETL_workspace\\\\all_channel_rawdata\\\\2023-09-12\\\\top_up\\\\charge_1694571846258.xlsx'], ['D:\\\\Desktop\\\\travail_workspace\\\\ETL_workspace\\\\all_channel_rawdata\\\\2023-09-13\\\\top_up\\\\charge_1694653887608.xlsx', 'D:\\\\Desktop\\\\travail_workspace\\\\ETL_workspace\\\\all_channel_rawdata\\\\2023-09-13\\\\top_up\\\\charge_1694653894662.xlsx', 'D:\\\\Desktop\\\\travail_workspace\\\\ETL_workspace\\\\all_channel_rawdata\\\\2023-09-13\\\\top_up\\\\charge_1694653925473.xlsx', 'D:\\\\Desktop\\\\travail_workspace\\\\ETL_workspace\\\\all_channel_rawdata\\\\2023-09-13\\\\top_up\\\\charge_1694653935939.xlsx', 'D:\\\\Desktop\\\\travail_workspace\\\\ETL_workspace\\\\all_channel_rawdata\\\\2023-09-13\\\\top_up\\\\charge_1694653942662.xlsx', 'D:\\\\Desktop\\\\travail_workspace\\\\ETL_workspace\\\\all_channel_rawdata\\\\2023-09-13\\\\top_up\\\\charge_1694653948692.xlsx', 'D:\\\\Desktop\\\\travail_workspace\\\\ETL_workspace\\\\all_channel_rawdata\\\\2023-09-13\\\\top_up\\\\charge_1694653955524.xlsx', 'D:\\\\Desktop\\\\travail_workspace\\\\ETL_workspace\\\\all_channel_rawdata\\\\2023-09-13\\\\top_up\\\\charge_1694653962191.xlsx', 'D:\\\\Desktop\\\\travail_workspace\\\\ETL_workspace\\\\all_channel_rawdata\\\\2023-09-13\\\\top_up\\\\charge_1694653968206.xlsx', 'D:\\\\Desktop\\\\travail_workspace\\\\ETL_workspace\\\\all_channel_rawdata\\\\2023-09-13\\\\top_up\\\\charge_1694653975169.xlsx', 'D:\\\\Desktop\\\\travail_workspace\\\\ETL_workspace\\\\all_channel_rawdata\\\\2023-09-13\\\\top_up\\\\charge_1694653987000.xlsx'], ['D:\\\\Desktop\\\\travail_workspace\\\\ETL_workspace\\\\all_channel_rawdata\\\\2023-09-14\\\\top_up\\\\charge_1694741372239.xlsx', 'D:\\\\Desktop\\\\travail_workspace\\\\ETL_workspace\\\\all_channel_rawdata\\\\2023-09-14\\\\top_up\\\\charge_1694741380511.xlsx', 'D:\\\\Desktop\\\\travail_workspace\\\\ETL_workspace\\\\all_channel_rawdata\\\\2023-09-14\\\\top_up\\\\charge_1694741389538.xlsx', 'D:\\\\Desktop\\\\travail_workspace\\\\ETL_workspace\\\\all_channel_rawdata\\\\2023-09-14\\\\top_up\\\\charge_1694741397879.xlsx', 'D:\\\\Desktop\\\\travail_workspace\\\\ETL_workspace\\\\all_channel_rawdata\\\\2023-09-14\\\\top_up\\\\charge_1694741403786.xlsx', 'D:\\\\Desktop\\\\travail_workspace\\\\ETL_workspace\\\\all_channel_rawdata\\\\2023-09-14\\\\top_up\\\\charge_1694741412497.xlsx', 'D:\\\\Desktop\\\\travail_workspace\\\\ETL_workspace\\\\all_channel_rawdata\\\\2023-09-14\\\\top_up\\\\charge_1694741421392.xlsx', 'D:\\\\Desktop\\\\travail_workspace\\\\ETL_workspace\\\\all_channel_rawdata\\\\2023-09-14\\\\top_up\\\\charge_1694741430256.xlsx', 'D:\\\\Desktop\\\\travail_workspace\\\\ETL_workspace\\\\all_channel_rawdata\\\\2023-09-14\\\\top_up\\\\charge_1694741439208.xlsx', 'D:\\\\Desktop\\\\travail_workspace\\\\ETL_workspace\\\\all_channel_rawdata\\\\2023-09-14\\\\top_up\\\\charge_1694741448175.xlsx', 'D:\\\\Desktop\\\\travail_workspace\\\\ETL_workspace\\\\all_channel_rawdata\\\\2023-09-14\\\\top_up\\\\charge_1694741480570.xlsx'], ['D:\\\\Desktop\\\\travail_workspace\\\\ETL_workspace\\\\all_channel_rawdata\\\\2023-09-15\\\\top_up\\\\charge_1694828931526.xlsx', 'D:\\\\Desktop\\\\travail_workspace\\\\ETL_workspace\\\\all_channel_rawdata\\\\2023-09-15\\\\top_up\\\\charge_1694828940689.xlsx', 'D:\\\\Desktop\\\\travail_workspace\\\\ETL_workspace\\\\all_channel_rawdata\\\\2023-09-15\\\\top_up\\\\charge_1694828950967.xlsx', 'D:\\\\Desktop\\\\travail_workspace\\\\ETL_workspace\\\\all_channel_rawdata\\\\2023-09-15\\\\top_up\\\\charge_1694828961040.xlsx', 'D:\\\\Desktop\\\\travail_workspace\\\\ETL_workspace\\\\all_channel_rawdata\\\\2023-09-15\\\\top_up\\\\charge_1694828968248.xlsx', 'D:\\\\Desktop\\\\travail_workspace\\\\ETL_workspace\\\\all_channel_rawdata\\\\2023-09-15\\\\top_up\\\\charge_1694828978126.xlsx', 'D:\\\\Desktop\\\\travail_workspace\\\\ETL_workspace\\\\all_channel_rawdata\\\\2023-09-15\\\\top_up\\\\charge_1694828987398.xlsx', 'D:\\\\Desktop\\\\travail_workspace\\\\ETL_workspace\\\\all_channel_rawdata\\\\2023-09-15\\\\top_up\\\\charge_1694828997087.xlsx', 'D:\\\\Desktop\\\\travail_workspace\\\\ETL_workspace\\\\all_channel_rawdata\\\\2023-09-15\\\\top_up\\\\charge_1694829006602.xlsx', 'D:\\\\Desktop\\\\travail_workspace\\\\ETL_workspace\\\\all_channel_rawdata\\\\2023-09-15\\\\top_up\\\\charge_1694829015847.xlsx', 'D:\\\\Desktop\\\\travail_workspace\\\\ETL_workspace\\\\all_channel_rawdata\\\\2023-09-15\\\\top_up\\\\charge_1694829025563.xlsx', 'D:\\\\Desktop\\\\travail_workspace\\\\ETL_workspace\\\\all_channel_rawdata\\\\2023-09-15\\\\top_up\\\\charge_1694829059675.xlsx'], ['D:\\\\Desktop\\\\travail_workspace\\\\ETL_workspace\\\\all_channel_rawdata\\\\2023-09-16\\\\top_up\\\\charge_1694917438041.xlsx', 'D:\\\\Desktop\\\\travail_workspace\\\\ETL_workspace\\\\all_channel_rawdata\\\\2023-09-16\\\\top_up\\\\charge_1694917449148.xlsx', 'D:\\\\Desktop\\\\travail_workspace\\\\ETL_workspace\\\\all_channel_rawdata\\\\2023-09-16\\\\top_up\\\\charge_1694917457350.xlsx', 'D:\\\\Desktop\\\\travail_workspace\\\\ETL_workspace\\\\all_channel_rawdata\\\\2023-09-16\\\\top_up\\\\charge_1694917465195.xlsx', 'D:\\\\Desktop\\\\travail_workspace\\\\ETL_workspace\\\\all_channel_rawdata\\\\2023-09-16\\\\top_up\\\\charge_1694917473135.xlsx', 'D:\\\\Desktop\\\\travail_workspace\\\\ETL_workspace\\\\all_channel_rawdata\\\\2023-09-16\\\\top_up\\\\charge_1694917480756.xlsx', 'D:\\\\Desktop\\\\travail_workspace\\\\ETL_workspace\\\\all_channel_rawdata\\\\2023-09-16\\\\top_up\\\\charge_1694917489052.xlsx', 'D:\\\\Desktop\\\\travail_workspace\\\\ETL_workspace\\\\all_channel_rawdata\\\\2023-09-16\\\\top_up\\\\charge_1694917497052.xlsx', 'D:\\\\Desktop\\\\travail_workspace\\\\ETL_workspace\\\\all_channel_rawdata\\\\2023-09-16\\\\top_up\\\\charge_1694917504961.xlsx', 'D:\\\\Desktop\\\\travail_workspace\\\\ETL_workspace\\\\all_channel_rawdata\\\\2023-09-16\\\\top_up\\\\charge_1694917513232.xlsx', 'D:\\\\Desktop\\\\travail_workspace\\\\ETL_workspace\\\\all_channel_rawdata\\\\2023-09-16\\\\top_up\\\\charge_1694917523565.xlsx', 'D:\\\\Desktop\\\\travail_workspace\\\\ETL_workspace\\\\all_channel_rawdata\\\\2023-09-16\\\\top_up\\\\charge_1694917562907.xlsx']]\n"
     ]
    }
   ],
   "source": [
    "namelist=[]\n",
    "for name in date_range:\n",
    "    # files_path = glob(\"C:\\\\Users\\\\buche\\\\Desktop\\\\travail_workspace\\\\ETL_workspace\\\\all_channel_rawdata\\\\\" + name + \"\\\\top_up\\\\charge_*.xlsx\")\n",
    "    files_path = glob(\"D:\\\\Desktop\\\\travail_workspace\\\\ETL_workspace\\\\all_channel_rawdata\\\\\" + name + \"\\\\top_up\\\\charge_*.xlsx\")\n",
    "    namelist.append(files_path)\n",
    "    print(namelist)"
   ]
  },
  {
   "cell_type": "code",
   "execution_count": 5,
   "id": "cea19b1e-8cb0-476f-bd94-ca3facaa0d77",
   "metadata": {
    "tags": []
   },
   "outputs": [],
   "source": [
    "# for 分類後的充值成功資料\n",
    "# test_0902 = glob(\"D:\\\\Desktop\\\\travail_workspace\\\\ETL_workspace\\\\all_channel_rawdata\\\\2023-09-02\\\\top_up2\\\\charge_*.xlsx\") \n",
    "# namelist.append(test_0902)"
   ]
  },
  {
   "cell_type": "code",
   "execution_count": 6,
   "id": "bf1d6650-46e8-4c24-85c6-40be1a28fd0f",
   "metadata": {
    "tags": []
   },
   "outputs": [],
   "source": [
    "namelist = [i for name in namelist for i in name]"
   ]
  },
  {
   "cell_type": "code",
   "execution_count": 7,
   "id": "318ebac4-9703-4c63-968a-ebf56fecbd1e",
   "metadata": {
    "tags": []
   },
   "outputs": [
    {
     "name": "stderr",
     "output_type": "stream",
     "text": [
      "C:\\Users\\chanm\\anaconda3\\Lib\\site-packages\\openpyxl\\styles\\stylesheet.py:226: UserWarning: Workbook contains no default style, apply openpyxl's default\n",
      "  warn(\"Workbook contains no default style, apply openpyxl's default\")\n",
      "C:\\Users\\chanm\\AppData\\Local\\Temp\\ipykernel_18152\\1148063702.py:5: FutureWarning: The frame.append method is deprecated and will be removed from pandas in a future version. Use pandas.concat instead.\n",
      "  all_top_up = all_top_up.append(df, ignore_index=True)\n",
      "C:\\Users\\chanm\\anaconda3\\Lib\\site-packages\\openpyxl\\styles\\stylesheet.py:226: UserWarning: Workbook contains no default style, apply openpyxl's default\n",
      "  warn(\"Workbook contains no default style, apply openpyxl's default\")\n",
      "C:\\Users\\chanm\\AppData\\Local\\Temp\\ipykernel_18152\\1148063702.py:5: FutureWarning: The frame.append method is deprecated and will be removed from pandas in a future version. Use pandas.concat instead.\n",
      "  all_top_up = all_top_up.append(df, ignore_index=True)\n",
      "C:\\Users\\chanm\\anaconda3\\Lib\\site-packages\\openpyxl\\styles\\stylesheet.py:226: UserWarning: Workbook contains no default style, apply openpyxl's default\n",
      "  warn(\"Workbook contains no default style, apply openpyxl's default\")\n",
      "C:\\Users\\chanm\\AppData\\Local\\Temp\\ipykernel_18152\\1148063702.py:5: FutureWarning: The frame.append method is deprecated and will be removed from pandas in a future version. Use pandas.concat instead.\n",
      "  all_top_up = all_top_up.append(df, ignore_index=True)\n",
      "C:\\Users\\chanm\\anaconda3\\Lib\\site-packages\\openpyxl\\styles\\stylesheet.py:226: UserWarning: Workbook contains no default style, apply openpyxl's default\n",
      "  warn(\"Workbook contains no default style, apply openpyxl's default\")\n",
      "C:\\Users\\chanm\\AppData\\Local\\Temp\\ipykernel_18152\\1148063702.py:5: FutureWarning: The frame.append method is deprecated and will be removed from pandas in a future version. Use pandas.concat instead.\n",
      "  all_top_up = all_top_up.append(df, ignore_index=True)\n",
      "C:\\Users\\chanm\\anaconda3\\Lib\\site-packages\\openpyxl\\styles\\stylesheet.py:226: UserWarning: Workbook contains no default style, apply openpyxl's default\n",
      "  warn(\"Workbook contains no default style, apply openpyxl's default\")\n",
      "C:\\Users\\chanm\\AppData\\Local\\Temp\\ipykernel_18152\\1148063702.py:5: FutureWarning: The frame.append method is deprecated and will be removed from pandas in a future version. Use pandas.concat instead.\n",
      "  all_top_up = all_top_up.append(df, ignore_index=True)\n",
      "C:\\Users\\chanm\\anaconda3\\Lib\\site-packages\\openpyxl\\styles\\stylesheet.py:226: UserWarning: Workbook contains no default style, apply openpyxl's default\n",
      "  warn(\"Workbook contains no default style, apply openpyxl's default\")\n",
      "C:\\Users\\chanm\\AppData\\Local\\Temp\\ipykernel_18152\\1148063702.py:5: FutureWarning: The frame.append method is deprecated and will be removed from pandas in a future version. Use pandas.concat instead.\n",
      "  all_top_up = all_top_up.append(df, ignore_index=True)\n",
      "C:\\Users\\chanm\\anaconda3\\Lib\\site-packages\\openpyxl\\styles\\stylesheet.py:226: UserWarning: Workbook contains no default style, apply openpyxl's default\n",
      "  warn(\"Workbook contains no default style, apply openpyxl's default\")\n",
      "C:\\Users\\chanm\\AppData\\Local\\Temp\\ipykernel_18152\\1148063702.py:5: FutureWarning: The frame.append method is deprecated and will be removed from pandas in a future version. Use pandas.concat instead.\n",
      "  all_top_up = all_top_up.append(df, ignore_index=True)\n",
      "C:\\Users\\chanm\\anaconda3\\Lib\\site-packages\\openpyxl\\styles\\stylesheet.py:226: UserWarning: Workbook contains no default style, apply openpyxl's default\n",
      "  warn(\"Workbook contains no default style, apply openpyxl's default\")\n",
      "C:\\Users\\chanm\\AppData\\Local\\Temp\\ipykernel_18152\\1148063702.py:5: FutureWarning: The frame.append method is deprecated and will be removed from pandas in a future version. Use pandas.concat instead.\n",
      "  all_top_up = all_top_up.append(df, ignore_index=True)\n",
      "C:\\Users\\chanm\\anaconda3\\Lib\\site-packages\\openpyxl\\styles\\stylesheet.py:226: UserWarning: Workbook contains no default style, apply openpyxl's default\n",
      "  warn(\"Workbook contains no default style, apply openpyxl's default\")\n",
      "C:\\Users\\chanm\\AppData\\Local\\Temp\\ipykernel_18152\\1148063702.py:5: FutureWarning: The frame.append method is deprecated and will be removed from pandas in a future version. Use pandas.concat instead.\n",
      "  all_top_up = all_top_up.append(df, ignore_index=True)\n",
      "C:\\Users\\chanm\\anaconda3\\Lib\\site-packages\\openpyxl\\styles\\stylesheet.py:226: UserWarning: Workbook contains no default style, apply openpyxl's default\n",
      "  warn(\"Workbook contains no default style, apply openpyxl's default\")\n",
      "C:\\Users\\chanm\\AppData\\Local\\Temp\\ipykernel_18152\\1148063702.py:5: FutureWarning: The frame.append method is deprecated and will be removed from pandas in a future version. Use pandas.concat instead.\n",
      "  all_top_up = all_top_up.append(df, ignore_index=True)\n",
      "C:\\Users\\chanm\\anaconda3\\Lib\\site-packages\\openpyxl\\styles\\stylesheet.py:226: UserWarning: Workbook contains no default style, apply openpyxl's default\n",
      "  warn(\"Workbook contains no default style, apply openpyxl's default\")\n",
      "C:\\Users\\chanm\\AppData\\Local\\Temp\\ipykernel_18152\\1148063702.py:5: FutureWarning: The frame.append method is deprecated and will be removed from pandas in a future version. Use pandas.concat instead.\n",
      "  all_top_up = all_top_up.append(df, ignore_index=True)\n",
      "C:\\Users\\chanm\\anaconda3\\Lib\\site-packages\\openpyxl\\styles\\stylesheet.py:226: UserWarning: Workbook contains no default style, apply openpyxl's default\n",
      "  warn(\"Workbook contains no default style, apply openpyxl's default\")\n",
      "C:\\Users\\chanm\\AppData\\Local\\Temp\\ipykernel_18152\\1148063702.py:5: FutureWarning: The frame.append method is deprecated and will be removed from pandas in a future version. Use pandas.concat instead.\n",
      "  all_top_up = all_top_up.append(df, ignore_index=True)\n",
      "C:\\Users\\chanm\\anaconda3\\Lib\\site-packages\\openpyxl\\styles\\stylesheet.py:226: UserWarning: Workbook contains no default style, apply openpyxl's default\n",
      "  warn(\"Workbook contains no default style, apply openpyxl's default\")\n",
      "C:\\Users\\chanm\\AppData\\Local\\Temp\\ipykernel_18152\\1148063702.py:5: FutureWarning: The frame.append method is deprecated and will be removed from pandas in a future version. Use pandas.concat instead.\n",
      "  all_top_up = all_top_up.append(df, ignore_index=True)\n",
      "C:\\Users\\chanm\\anaconda3\\Lib\\site-packages\\openpyxl\\styles\\stylesheet.py:226: UserWarning: Workbook contains no default style, apply openpyxl's default\n",
      "  warn(\"Workbook contains no default style, apply openpyxl's default\")\n",
      "C:\\Users\\chanm\\AppData\\Local\\Temp\\ipykernel_18152\\1148063702.py:5: FutureWarning: The frame.append method is deprecated and will be removed from pandas in a future version. Use pandas.concat instead.\n",
      "  all_top_up = all_top_up.append(df, ignore_index=True)\n",
      "C:\\Users\\chanm\\anaconda3\\Lib\\site-packages\\openpyxl\\styles\\stylesheet.py:226: UserWarning: Workbook contains no default style, apply openpyxl's default\n",
      "  warn(\"Workbook contains no default style, apply openpyxl's default\")\n",
      "C:\\Users\\chanm\\AppData\\Local\\Temp\\ipykernel_18152\\1148063702.py:5: FutureWarning: The frame.append method is deprecated and will be removed from pandas in a future version. Use pandas.concat instead.\n",
      "  all_top_up = all_top_up.append(df, ignore_index=True)\n",
      "C:\\Users\\chanm\\anaconda3\\Lib\\site-packages\\openpyxl\\styles\\stylesheet.py:226: UserWarning: Workbook contains no default style, apply openpyxl's default\n",
      "  warn(\"Workbook contains no default style, apply openpyxl's default\")\n",
      "C:\\Users\\chanm\\AppData\\Local\\Temp\\ipykernel_18152\\1148063702.py:5: FutureWarning: The frame.append method is deprecated and will be removed from pandas in a future version. Use pandas.concat instead.\n",
      "  all_top_up = all_top_up.append(df, ignore_index=True)\n",
      "C:\\Users\\chanm\\anaconda3\\Lib\\site-packages\\openpyxl\\styles\\stylesheet.py:226: UserWarning: Workbook contains no default style, apply openpyxl's default\n",
      "  warn(\"Workbook contains no default style, apply openpyxl's default\")\n",
      "C:\\Users\\chanm\\AppData\\Local\\Temp\\ipykernel_18152\\1148063702.py:5: FutureWarning: The frame.append method is deprecated and will be removed from pandas in a future version. Use pandas.concat instead.\n",
      "  all_top_up = all_top_up.append(df, ignore_index=True)\n",
      "C:\\Users\\chanm\\anaconda3\\Lib\\site-packages\\openpyxl\\styles\\stylesheet.py:226: UserWarning: Workbook contains no default style, apply openpyxl's default\n",
      "  warn(\"Workbook contains no default style, apply openpyxl's default\")\n",
      "C:\\Users\\chanm\\AppData\\Local\\Temp\\ipykernel_18152\\1148063702.py:5: FutureWarning: The frame.append method is deprecated and will be removed from pandas in a future version. Use pandas.concat instead.\n",
      "  all_top_up = all_top_up.append(df, ignore_index=True)\n",
      "C:\\Users\\chanm\\anaconda3\\Lib\\site-packages\\openpyxl\\styles\\stylesheet.py:226: UserWarning: Workbook contains no default style, apply openpyxl's default\n",
      "  warn(\"Workbook contains no default style, apply openpyxl's default\")\n",
      "C:\\Users\\chanm\\AppData\\Local\\Temp\\ipykernel_18152\\1148063702.py:5: FutureWarning: The frame.append method is deprecated and will be removed from pandas in a future version. Use pandas.concat instead.\n",
      "  all_top_up = all_top_up.append(df, ignore_index=True)\n",
      "C:\\Users\\chanm\\anaconda3\\Lib\\site-packages\\openpyxl\\styles\\stylesheet.py:226: UserWarning: Workbook contains no default style, apply openpyxl's default\n",
      "  warn(\"Workbook contains no default style, apply openpyxl's default\")\n",
      "C:\\Users\\chanm\\AppData\\Local\\Temp\\ipykernel_18152\\1148063702.py:5: FutureWarning: The frame.append method is deprecated and will be removed from pandas in a future version. Use pandas.concat instead.\n",
      "  all_top_up = all_top_up.append(df, ignore_index=True)\n",
      "C:\\Users\\chanm\\anaconda3\\Lib\\site-packages\\openpyxl\\styles\\stylesheet.py:226: UserWarning: Workbook contains no default style, apply openpyxl's default\n",
      "  warn(\"Workbook contains no default style, apply openpyxl's default\")\n",
      "C:\\Users\\chanm\\AppData\\Local\\Temp\\ipykernel_18152\\1148063702.py:5: FutureWarning: The frame.append method is deprecated and will be removed from pandas in a future version. Use pandas.concat instead.\n",
      "  all_top_up = all_top_up.append(df, ignore_index=True)\n",
      "C:\\Users\\chanm\\anaconda3\\Lib\\site-packages\\openpyxl\\styles\\stylesheet.py:226: UserWarning: Workbook contains no default style, apply openpyxl's default\n",
      "  warn(\"Workbook contains no default style, apply openpyxl's default\")\n",
      "C:\\Users\\chanm\\AppData\\Local\\Temp\\ipykernel_18152\\1148063702.py:5: FutureWarning: The frame.append method is deprecated and will be removed from pandas in a future version. Use pandas.concat instead.\n",
      "  all_top_up = all_top_up.append(df, ignore_index=True)\n",
      "C:\\Users\\chanm\\anaconda3\\Lib\\site-packages\\openpyxl\\styles\\stylesheet.py:226: UserWarning: Workbook contains no default style, apply openpyxl's default\n",
      "  warn(\"Workbook contains no default style, apply openpyxl's default\")\n",
      "C:\\Users\\chanm\\AppData\\Local\\Temp\\ipykernel_18152\\1148063702.py:5: FutureWarning: The frame.append method is deprecated and will be removed from pandas in a future version. Use pandas.concat instead.\n",
      "  all_top_up = all_top_up.append(df, ignore_index=True)\n",
      "C:\\Users\\chanm\\anaconda3\\Lib\\site-packages\\openpyxl\\styles\\stylesheet.py:226: UserWarning: Workbook contains no default style, apply openpyxl's default\n",
      "  warn(\"Workbook contains no default style, apply openpyxl's default\")\n",
      "C:\\Users\\chanm\\AppData\\Local\\Temp\\ipykernel_18152\\1148063702.py:5: FutureWarning: The frame.append method is deprecated and will be removed from pandas in a future version. Use pandas.concat instead.\n",
      "  all_top_up = all_top_up.append(df, ignore_index=True)\n",
      "C:\\Users\\chanm\\anaconda3\\Lib\\site-packages\\openpyxl\\styles\\stylesheet.py:226: UserWarning: Workbook contains no default style, apply openpyxl's default\n",
      "  warn(\"Workbook contains no default style, apply openpyxl's default\")\n",
      "C:\\Users\\chanm\\AppData\\Local\\Temp\\ipykernel_18152\\1148063702.py:5: FutureWarning: The frame.append method is deprecated and will be removed from pandas in a future version. Use pandas.concat instead.\n",
      "  all_top_up = all_top_up.append(df, ignore_index=True)\n",
      "C:\\Users\\chanm\\anaconda3\\Lib\\site-packages\\openpyxl\\styles\\stylesheet.py:226: UserWarning: Workbook contains no default style, apply openpyxl's default\n",
      "  warn(\"Workbook contains no default style, apply openpyxl's default\")\n",
      "C:\\Users\\chanm\\AppData\\Local\\Temp\\ipykernel_18152\\1148063702.py:5: FutureWarning: The frame.append method is deprecated and will be removed from pandas in a future version. Use pandas.concat instead.\n",
      "  all_top_up = all_top_up.append(df, ignore_index=True)\n",
      "C:\\Users\\chanm\\anaconda3\\Lib\\site-packages\\openpyxl\\styles\\stylesheet.py:226: UserWarning: Workbook contains no default style, apply openpyxl's default\n",
      "  warn(\"Workbook contains no default style, apply openpyxl's default\")\n",
      "C:\\Users\\chanm\\AppData\\Local\\Temp\\ipykernel_18152\\1148063702.py:5: FutureWarning: The frame.append method is deprecated and will be removed from pandas in a future version. Use pandas.concat instead.\n",
      "  all_top_up = all_top_up.append(df, ignore_index=True)\n",
      "C:\\Users\\chanm\\anaconda3\\Lib\\site-packages\\openpyxl\\styles\\stylesheet.py:226: UserWarning: Workbook contains no default style, apply openpyxl's default\n",
      "  warn(\"Workbook contains no default style, apply openpyxl's default\")\n",
      "C:\\Users\\chanm\\AppData\\Local\\Temp\\ipykernel_18152\\1148063702.py:5: FutureWarning: The frame.append method is deprecated and will be removed from pandas in a future version. Use pandas.concat instead.\n",
      "  all_top_up = all_top_up.append(df, ignore_index=True)\n",
      "C:\\Users\\chanm\\anaconda3\\Lib\\site-packages\\openpyxl\\styles\\stylesheet.py:226: UserWarning: Workbook contains no default style, apply openpyxl's default\n",
      "  warn(\"Workbook contains no default style, apply openpyxl's default\")\n",
      "C:\\Users\\chanm\\AppData\\Local\\Temp\\ipykernel_18152\\1148063702.py:5: FutureWarning: The frame.append method is deprecated and will be removed from pandas in a future version. Use pandas.concat instead.\n",
      "  all_top_up = all_top_up.append(df, ignore_index=True)\n",
      "C:\\Users\\chanm\\anaconda3\\Lib\\site-packages\\openpyxl\\styles\\stylesheet.py:226: UserWarning: Workbook contains no default style, apply openpyxl's default\n",
      "  warn(\"Workbook contains no default style, apply openpyxl's default\")\n",
      "C:\\Users\\chanm\\AppData\\Local\\Temp\\ipykernel_18152\\1148063702.py:5: FutureWarning: The frame.append method is deprecated and will be removed from pandas in a future version. Use pandas.concat instead.\n",
      "  all_top_up = all_top_up.append(df, ignore_index=True)\n",
      "C:\\Users\\chanm\\anaconda3\\Lib\\site-packages\\openpyxl\\styles\\stylesheet.py:226: UserWarning: Workbook contains no default style, apply openpyxl's default\n",
      "  warn(\"Workbook contains no default style, apply openpyxl's default\")\n",
      "C:\\Users\\chanm\\AppData\\Local\\Temp\\ipykernel_18152\\1148063702.py:5: FutureWarning: The frame.append method is deprecated and will be removed from pandas in a future version. Use pandas.concat instead.\n",
      "  all_top_up = all_top_up.append(df, ignore_index=True)\n",
      "C:\\Users\\chanm\\anaconda3\\Lib\\site-packages\\openpyxl\\styles\\stylesheet.py:226: UserWarning: Workbook contains no default style, apply openpyxl's default\n",
      "  warn(\"Workbook contains no default style, apply openpyxl's default\")\n",
      "C:\\Users\\chanm\\AppData\\Local\\Temp\\ipykernel_18152\\1148063702.py:5: FutureWarning: The frame.append method is deprecated and will be removed from pandas in a future version. Use pandas.concat instead.\n",
      "  all_top_up = all_top_up.append(df, ignore_index=True)\n",
      "C:\\Users\\chanm\\anaconda3\\Lib\\site-packages\\openpyxl\\styles\\stylesheet.py:226: UserWarning: Workbook contains no default style, apply openpyxl's default\n",
      "  warn(\"Workbook contains no default style, apply openpyxl's default\")\n",
      "C:\\Users\\chanm\\AppData\\Local\\Temp\\ipykernel_18152\\1148063702.py:5: FutureWarning: The frame.append method is deprecated and will be removed from pandas in a future version. Use pandas.concat instead.\n",
      "  all_top_up = all_top_up.append(df, ignore_index=True)\n",
      "C:\\Users\\chanm\\anaconda3\\Lib\\site-packages\\openpyxl\\styles\\stylesheet.py:226: UserWarning: Workbook contains no default style, apply openpyxl's default\n",
      "  warn(\"Workbook contains no default style, apply openpyxl's default\")\n",
      "C:\\Users\\chanm\\AppData\\Local\\Temp\\ipykernel_18152\\1148063702.py:5: FutureWarning: The frame.append method is deprecated and will be removed from pandas in a future version. Use pandas.concat instead.\n",
      "  all_top_up = all_top_up.append(df, ignore_index=True)\n",
      "C:\\Users\\chanm\\anaconda3\\Lib\\site-packages\\openpyxl\\styles\\stylesheet.py:226: UserWarning: Workbook contains no default style, apply openpyxl's default\n",
      "  warn(\"Workbook contains no default style, apply openpyxl's default\")\n",
      "C:\\Users\\chanm\\AppData\\Local\\Temp\\ipykernel_18152\\1148063702.py:5: FutureWarning: The frame.append method is deprecated and will be removed from pandas in a future version. Use pandas.concat instead.\n",
      "  all_top_up = all_top_up.append(df, ignore_index=True)\n",
      "C:\\Users\\chanm\\anaconda3\\Lib\\site-packages\\openpyxl\\styles\\stylesheet.py:226: UserWarning: Workbook contains no default style, apply openpyxl's default\n",
      "  warn(\"Workbook contains no default style, apply openpyxl's default\")\n",
      "C:\\Users\\chanm\\AppData\\Local\\Temp\\ipykernel_18152\\1148063702.py:5: FutureWarning: The frame.append method is deprecated and will be removed from pandas in a future version. Use pandas.concat instead.\n",
      "  all_top_up = all_top_up.append(df, ignore_index=True)\n",
      "C:\\Users\\chanm\\anaconda3\\Lib\\site-packages\\openpyxl\\styles\\stylesheet.py:226: UserWarning: Workbook contains no default style, apply openpyxl's default\n",
      "  warn(\"Workbook contains no default style, apply openpyxl's default\")\n",
      "C:\\Users\\chanm\\AppData\\Local\\Temp\\ipykernel_18152\\1148063702.py:5: FutureWarning: The frame.append method is deprecated and will be removed from pandas in a future version. Use pandas.concat instead.\n",
      "  all_top_up = all_top_up.append(df, ignore_index=True)\n",
      "C:\\Users\\chanm\\anaconda3\\Lib\\site-packages\\openpyxl\\styles\\stylesheet.py:226: UserWarning: Workbook contains no default style, apply openpyxl's default\n",
      "  warn(\"Workbook contains no default style, apply openpyxl's default\")\n",
      "C:\\Users\\chanm\\AppData\\Local\\Temp\\ipykernel_18152\\1148063702.py:5: FutureWarning: The frame.append method is deprecated and will be removed from pandas in a future version. Use pandas.concat instead.\n",
      "  all_top_up = all_top_up.append(df, ignore_index=True)\n",
      "C:\\Users\\chanm\\anaconda3\\Lib\\site-packages\\openpyxl\\styles\\stylesheet.py:226: UserWarning: Workbook contains no default style, apply openpyxl's default\n",
      "  warn(\"Workbook contains no default style, apply openpyxl's default\")\n",
      "C:\\Users\\chanm\\AppData\\Local\\Temp\\ipykernel_18152\\1148063702.py:5: FutureWarning: The frame.append method is deprecated and will be removed from pandas in a future version. Use pandas.concat instead.\n",
      "  all_top_up = all_top_up.append(df, ignore_index=True)\n",
      "C:\\Users\\chanm\\anaconda3\\Lib\\site-packages\\openpyxl\\styles\\stylesheet.py:226: UserWarning: Workbook contains no default style, apply openpyxl's default\n",
      "  warn(\"Workbook contains no default style, apply openpyxl's default\")\n",
      "C:\\Users\\chanm\\AppData\\Local\\Temp\\ipykernel_18152\\1148063702.py:5: FutureWarning: The frame.append method is deprecated and will be removed from pandas in a future version. Use pandas.concat instead.\n",
      "  all_top_up = all_top_up.append(df, ignore_index=True)\n",
      "C:\\Users\\chanm\\anaconda3\\Lib\\site-packages\\openpyxl\\styles\\stylesheet.py:226: UserWarning: Workbook contains no default style, apply openpyxl's default\n",
      "  warn(\"Workbook contains no default style, apply openpyxl's default\")\n",
      "C:\\Users\\chanm\\AppData\\Local\\Temp\\ipykernel_18152\\1148063702.py:5: FutureWarning: The frame.append method is deprecated and will be removed from pandas in a future version. Use pandas.concat instead.\n",
      "  all_top_up = all_top_up.append(df, ignore_index=True)\n",
      "C:\\Users\\chanm\\anaconda3\\Lib\\site-packages\\openpyxl\\styles\\stylesheet.py:226: UserWarning: Workbook contains no default style, apply openpyxl's default\n",
      "  warn(\"Workbook contains no default style, apply openpyxl's default\")\n",
      "C:\\Users\\chanm\\AppData\\Local\\Temp\\ipykernel_18152\\1148063702.py:5: FutureWarning: The frame.append method is deprecated and will be removed from pandas in a future version. Use pandas.concat instead.\n",
      "  all_top_up = all_top_up.append(df, ignore_index=True)\n",
      "C:\\Users\\chanm\\anaconda3\\Lib\\site-packages\\openpyxl\\styles\\stylesheet.py:226: UserWarning: Workbook contains no default style, apply openpyxl's default\n",
      "  warn(\"Workbook contains no default style, apply openpyxl's default\")\n",
      "C:\\Users\\chanm\\AppData\\Local\\Temp\\ipykernel_18152\\1148063702.py:5: FutureWarning: The frame.append method is deprecated and will be removed from pandas in a future version. Use pandas.concat instead.\n",
      "  all_top_up = all_top_up.append(df, ignore_index=True)\n",
      "C:\\Users\\chanm\\anaconda3\\Lib\\site-packages\\openpyxl\\styles\\stylesheet.py:226: UserWarning: Workbook contains no default style, apply openpyxl's default\n",
      "  warn(\"Workbook contains no default style, apply openpyxl's default\")\n",
      "C:\\Users\\chanm\\AppData\\Local\\Temp\\ipykernel_18152\\1148063702.py:5: FutureWarning: The frame.append method is deprecated and will be removed from pandas in a future version. Use pandas.concat instead.\n",
      "  all_top_up = all_top_up.append(df, ignore_index=True)\n",
      "C:\\Users\\chanm\\anaconda3\\Lib\\site-packages\\openpyxl\\styles\\stylesheet.py:226: UserWarning: Workbook contains no default style, apply openpyxl's default\n",
      "  warn(\"Workbook contains no default style, apply openpyxl's default\")\n",
      "C:\\Users\\chanm\\AppData\\Local\\Temp\\ipykernel_18152\\1148063702.py:5: FutureWarning: The frame.append method is deprecated and will be removed from pandas in a future version. Use pandas.concat instead.\n",
      "  all_top_up = all_top_up.append(df, ignore_index=True)\n",
      "C:\\Users\\chanm\\anaconda3\\Lib\\site-packages\\openpyxl\\styles\\stylesheet.py:226: UserWarning: Workbook contains no default style, apply openpyxl's default\n",
      "  warn(\"Workbook contains no default style, apply openpyxl's default\")\n",
      "C:\\Users\\chanm\\AppData\\Local\\Temp\\ipykernel_18152\\1148063702.py:5: FutureWarning: The frame.append method is deprecated and will be removed from pandas in a future version. Use pandas.concat instead.\n",
      "  all_top_up = all_top_up.append(df, ignore_index=True)\n",
      "C:\\Users\\chanm\\anaconda3\\Lib\\site-packages\\openpyxl\\styles\\stylesheet.py:226: UserWarning: Workbook contains no default style, apply openpyxl's default\n",
      "  warn(\"Workbook contains no default style, apply openpyxl's default\")\n",
      "C:\\Users\\chanm\\AppData\\Local\\Temp\\ipykernel_18152\\1148063702.py:5: FutureWarning: The frame.append method is deprecated and will be removed from pandas in a future version. Use pandas.concat instead.\n",
      "  all_top_up = all_top_up.append(df, ignore_index=True)\n",
      "C:\\Users\\chanm\\anaconda3\\Lib\\site-packages\\openpyxl\\styles\\stylesheet.py:226: UserWarning: Workbook contains no default style, apply openpyxl's default\n",
      "  warn(\"Workbook contains no default style, apply openpyxl's default\")\n",
      "C:\\Users\\chanm\\AppData\\Local\\Temp\\ipykernel_18152\\1148063702.py:5: FutureWarning: The frame.append method is deprecated and will be removed from pandas in a future version. Use pandas.concat instead.\n",
      "  all_top_up = all_top_up.append(df, ignore_index=True)\n",
      "C:\\Users\\chanm\\anaconda3\\Lib\\site-packages\\openpyxl\\styles\\stylesheet.py:226: UserWarning: Workbook contains no default style, apply openpyxl's default\n",
      "  warn(\"Workbook contains no default style, apply openpyxl's default\")\n",
      "C:\\Users\\chanm\\AppData\\Local\\Temp\\ipykernel_18152\\1148063702.py:5: FutureWarning: The frame.append method is deprecated and will be removed from pandas in a future version. Use pandas.concat instead.\n",
      "  all_top_up = all_top_up.append(df, ignore_index=True)\n",
      "C:\\Users\\chanm\\anaconda3\\Lib\\site-packages\\openpyxl\\styles\\stylesheet.py:226: UserWarning: Workbook contains no default style, apply openpyxl's default\n",
      "  warn(\"Workbook contains no default style, apply openpyxl's default\")\n",
      "C:\\Users\\chanm\\AppData\\Local\\Temp\\ipykernel_18152\\1148063702.py:5: FutureWarning: The frame.append method is deprecated and will be removed from pandas in a future version. Use pandas.concat instead.\n",
      "  all_top_up = all_top_up.append(df, ignore_index=True)\n",
      "C:\\Users\\chanm\\anaconda3\\Lib\\site-packages\\openpyxl\\styles\\stylesheet.py:226: UserWarning: Workbook contains no default style, apply openpyxl's default\n",
      "  warn(\"Workbook contains no default style, apply openpyxl's default\")\n",
      "C:\\Users\\chanm\\AppData\\Local\\Temp\\ipykernel_18152\\1148063702.py:5: FutureWarning: The frame.append method is deprecated and will be removed from pandas in a future version. Use pandas.concat instead.\n",
      "  all_top_up = all_top_up.append(df, ignore_index=True)\n",
      "C:\\Users\\chanm\\anaconda3\\Lib\\site-packages\\openpyxl\\styles\\stylesheet.py:226: UserWarning: Workbook contains no default style, apply openpyxl's default\n",
      "  warn(\"Workbook contains no default style, apply openpyxl's default\")\n",
      "C:\\Users\\chanm\\AppData\\Local\\Temp\\ipykernel_18152\\1148063702.py:5: FutureWarning: The frame.append method is deprecated and will be removed from pandas in a future version. Use pandas.concat instead.\n",
      "  all_top_up = all_top_up.append(df, ignore_index=True)\n",
      "C:\\Users\\chanm\\anaconda3\\Lib\\site-packages\\openpyxl\\styles\\stylesheet.py:226: UserWarning: Workbook contains no default style, apply openpyxl's default\n",
      "  warn(\"Workbook contains no default style, apply openpyxl's default\")\n",
      "C:\\Users\\chanm\\AppData\\Local\\Temp\\ipykernel_18152\\1148063702.py:5: FutureWarning: The frame.append method is deprecated and will be removed from pandas in a future version. Use pandas.concat instead.\n",
      "  all_top_up = all_top_up.append(df, ignore_index=True)\n",
      "C:\\Users\\chanm\\anaconda3\\Lib\\site-packages\\openpyxl\\styles\\stylesheet.py:226: UserWarning: Workbook contains no default style, apply openpyxl's default\n",
      "  warn(\"Workbook contains no default style, apply openpyxl's default\")\n",
      "C:\\Users\\chanm\\AppData\\Local\\Temp\\ipykernel_18152\\1148063702.py:5: FutureWarning: The frame.append method is deprecated and will be removed from pandas in a future version. Use pandas.concat instead.\n",
      "  all_top_up = all_top_up.append(df, ignore_index=True)\n",
      "C:\\Users\\chanm\\anaconda3\\Lib\\site-packages\\openpyxl\\styles\\stylesheet.py:226: UserWarning: Workbook contains no default style, apply openpyxl's default\n",
      "  warn(\"Workbook contains no default style, apply openpyxl's default\")\n",
      "C:\\Users\\chanm\\AppData\\Local\\Temp\\ipykernel_18152\\1148063702.py:5: FutureWarning: The frame.append method is deprecated and will be removed from pandas in a future version. Use pandas.concat instead.\n",
      "  all_top_up = all_top_up.append(df, ignore_index=True)\n",
      "C:\\Users\\chanm\\anaconda3\\Lib\\site-packages\\openpyxl\\styles\\stylesheet.py:226: UserWarning: Workbook contains no default style, apply openpyxl's default\n",
      "  warn(\"Workbook contains no default style, apply openpyxl's default\")\n",
      "C:\\Users\\chanm\\AppData\\Local\\Temp\\ipykernel_18152\\1148063702.py:5: FutureWarning: The frame.append method is deprecated and will be removed from pandas in a future version. Use pandas.concat instead.\n",
      "  all_top_up = all_top_up.append(df, ignore_index=True)\n",
      "C:\\Users\\chanm\\anaconda3\\Lib\\site-packages\\openpyxl\\styles\\stylesheet.py:226: UserWarning: Workbook contains no default style, apply openpyxl's default\n",
      "  warn(\"Workbook contains no default style, apply openpyxl's default\")\n",
      "C:\\Users\\chanm\\AppData\\Local\\Temp\\ipykernel_18152\\1148063702.py:5: FutureWarning: The frame.append method is deprecated and will be removed from pandas in a future version. Use pandas.concat instead.\n",
      "  all_top_up = all_top_up.append(df, ignore_index=True)\n",
      "C:\\Users\\chanm\\anaconda3\\Lib\\site-packages\\openpyxl\\styles\\stylesheet.py:226: UserWarning: Workbook contains no default style, apply openpyxl's default\n",
      "  warn(\"Workbook contains no default style, apply openpyxl's default\")\n",
      "C:\\Users\\chanm\\AppData\\Local\\Temp\\ipykernel_18152\\1148063702.py:5: FutureWarning: The frame.append method is deprecated and will be removed from pandas in a future version. Use pandas.concat instead.\n",
      "  all_top_up = all_top_up.append(df, ignore_index=True)\n",
      "C:\\Users\\chanm\\anaconda3\\Lib\\site-packages\\openpyxl\\styles\\stylesheet.py:226: UserWarning: Workbook contains no default style, apply openpyxl's default\n",
      "  warn(\"Workbook contains no default style, apply openpyxl's default\")\n",
      "C:\\Users\\chanm\\AppData\\Local\\Temp\\ipykernel_18152\\1148063702.py:5: FutureWarning: The frame.append method is deprecated and will be removed from pandas in a future version. Use pandas.concat instead.\n",
      "  all_top_up = all_top_up.append(df, ignore_index=True)\n",
      "C:\\Users\\chanm\\anaconda3\\Lib\\site-packages\\openpyxl\\styles\\stylesheet.py:226: UserWarning: Workbook contains no default style, apply openpyxl's default\n",
      "  warn(\"Workbook contains no default style, apply openpyxl's default\")\n",
      "C:\\Users\\chanm\\AppData\\Local\\Temp\\ipykernel_18152\\1148063702.py:5: FutureWarning: The frame.append method is deprecated and will be removed from pandas in a future version. Use pandas.concat instead.\n",
      "  all_top_up = all_top_up.append(df, ignore_index=True)\n",
      "C:\\Users\\chanm\\anaconda3\\Lib\\site-packages\\openpyxl\\styles\\stylesheet.py:226: UserWarning: Workbook contains no default style, apply openpyxl's default\n",
      "  warn(\"Workbook contains no default style, apply openpyxl's default\")\n",
      "C:\\Users\\chanm\\AppData\\Local\\Temp\\ipykernel_18152\\1148063702.py:5: FutureWarning: The frame.append method is deprecated and will be removed from pandas in a future version. Use pandas.concat instead.\n",
      "  all_top_up = all_top_up.append(df, ignore_index=True)\n",
      "C:\\Users\\chanm\\anaconda3\\Lib\\site-packages\\openpyxl\\styles\\stylesheet.py:226: UserWarning: Workbook contains no default style, apply openpyxl's default\n",
      "  warn(\"Workbook contains no default style, apply openpyxl's default\")\n",
      "C:\\Users\\chanm\\AppData\\Local\\Temp\\ipykernel_18152\\1148063702.py:5: FutureWarning: The frame.append method is deprecated and will be removed from pandas in a future version. Use pandas.concat instead.\n",
      "  all_top_up = all_top_up.append(df, ignore_index=True)\n",
      "C:\\Users\\chanm\\anaconda3\\Lib\\site-packages\\openpyxl\\styles\\stylesheet.py:226: UserWarning: Workbook contains no default style, apply openpyxl's default\n",
      "  warn(\"Workbook contains no default style, apply openpyxl's default\")\n",
      "C:\\Users\\chanm\\AppData\\Local\\Temp\\ipykernel_18152\\1148063702.py:5: FutureWarning: The frame.append method is deprecated and will be removed from pandas in a future version. Use pandas.concat instead.\n",
      "  all_top_up = all_top_up.append(df, ignore_index=True)\n",
      "C:\\Users\\chanm\\anaconda3\\Lib\\site-packages\\openpyxl\\styles\\stylesheet.py:226: UserWarning: Workbook contains no default style, apply openpyxl's default\n",
      "  warn(\"Workbook contains no default style, apply openpyxl's default\")\n",
      "C:\\Users\\chanm\\AppData\\Local\\Temp\\ipykernel_18152\\1148063702.py:5: FutureWarning: The frame.append method is deprecated and will be removed from pandas in a future version. Use pandas.concat instead.\n",
      "  all_top_up = all_top_up.append(df, ignore_index=True)\n",
      "C:\\Users\\chanm\\anaconda3\\Lib\\site-packages\\openpyxl\\styles\\stylesheet.py:226: UserWarning: Workbook contains no default style, apply openpyxl's default\n",
      "  warn(\"Workbook contains no default style, apply openpyxl's default\")\n",
      "C:\\Users\\chanm\\AppData\\Local\\Temp\\ipykernel_18152\\1148063702.py:5: FutureWarning: The frame.append method is deprecated and will be removed from pandas in a future version. Use pandas.concat instead.\n",
      "  all_top_up = all_top_up.append(df, ignore_index=True)\n",
      "C:\\Users\\chanm\\anaconda3\\Lib\\site-packages\\openpyxl\\styles\\stylesheet.py:226: UserWarning: Workbook contains no default style, apply openpyxl's default\n",
      "  warn(\"Workbook contains no default style, apply openpyxl's default\")\n",
      "C:\\Users\\chanm\\AppData\\Local\\Temp\\ipykernel_18152\\1148063702.py:5: FutureWarning: The frame.append method is deprecated and will be removed from pandas in a future version. Use pandas.concat instead.\n",
      "  all_top_up = all_top_up.append(df, ignore_index=True)\n",
      "C:\\Users\\chanm\\anaconda3\\Lib\\site-packages\\openpyxl\\styles\\stylesheet.py:226: UserWarning: Workbook contains no default style, apply openpyxl's default\n",
      "  warn(\"Workbook contains no default style, apply openpyxl's default\")\n",
      "C:\\Users\\chanm\\AppData\\Local\\Temp\\ipykernel_18152\\1148063702.py:5: FutureWarning: The frame.append method is deprecated and will be removed from pandas in a future version. Use pandas.concat instead.\n",
      "  all_top_up = all_top_up.append(df, ignore_index=True)\n",
      "C:\\Users\\chanm\\anaconda3\\Lib\\site-packages\\openpyxl\\styles\\stylesheet.py:226: UserWarning: Workbook contains no default style, apply openpyxl's default\n",
      "  warn(\"Workbook contains no default style, apply openpyxl's default\")\n",
      "C:\\Users\\chanm\\AppData\\Local\\Temp\\ipykernel_18152\\1148063702.py:5: FutureWarning: The frame.append method is deprecated and will be removed from pandas in a future version. Use pandas.concat instead.\n",
      "  all_top_up = all_top_up.append(df, ignore_index=True)\n",
      "C:\\Users\\chanm\\anaconda3\\Lib\\site-packages\\openpyxl\\styles\\stylesheet.py:226: UserWarning: Workbook contains no default style, apply openpyxl's default\n",
      "  warn(\"Workbook contains no default style, apply openpyxl's default\")\n",
      "C:\\Users\\chanm\\AppData\\Local\\Temp\\ipykernel_18152\\1148063702.py:5: FutureWarning: The frame.append method is deprecated and will be removed from pandas in a future version. Use pandas.concat instead.\n",
      "  all_top_up = all_top_up.append(df, ignore_index=True)\n",
      "C:\\Users\\chanm\\anaconda3\\Lib\\site-packages\\openpyxl\\styles\\stylesheet.py:226: UserWarning: Workbook contains no default style, apply openpyxl's default\n",
      "  warn(\"Workbook contains no default style, apply openpyxl's default\")\n",
      "C:\\Users\\chanm\\AppData\\Local\\Temp\\ipykernel_18152\\1148063702.py:5: FutureWarning: The frame.append method is deprecated and will be removed from pandas in a future version. Use pandas.concat instead.\n",
      "  all_top_up = all_top_up.append(df, ignore_index=True)\n",
      "C:\\Users\\chanm\\anaconda3\\Lib\\site-packages\\openpyxl\\styles\\stylesheet.py:226: UserWarning: Workbook contains no default style, apply openpyxl's default\n",
      "  warn(\"Workbook contains no default style, apply openpyxl's default\")\n",
      "C:\\Users\\chanm\\AppData\\Local\\Temp\\ipykernel_18152\\1148063702.py:5: FutureWarning: The frame.append method is deprecated and will be removed from pandas in a future version. Use pandas.concat instead.\n",
      "  all_top_up = all_top_up.append(df, ignore_index=True)\n",
      "C:\\Users\\chanm\\anaconda3\\Lib\\site-packages\\openpyxl\\styles\\stylesheet.py:226: UserWarning: Workbook contains no default style, apply openpyxl's default\n",
      "  warn(\"Workbook contains no default style, apply openpyxl's default\")\n",
      "C:\\Users\\chanm\\AppData\\Local\\Temp\\ipykernel_18152\\1148063702.py:5: FutureWarning: The frame.append method is deprecated and will be removed from pandas in a future version. Use pandas.concat instead.\n",
      "  all_top_up = all_top_up.append(df, ignore_index=True)\n",
      "C:\\Users\\chanm\\anaconda3\\Lib\\site-packages\\openpyxl\\styles\\stylesheet.py:226: UserWarning: Workbook contains no default style, apply openpyxl's default\n",
      "  warn(\"Workbook contains no default style, apply openpyxl's default\")\n",
      "C:\\Users\\chanm\\AppData\\Local\\Temp\\ipykernel_18152\\1148063702.py:5: FutureWarning: The frame.append method is deprecated and will be removed from pandas in a future version. Use pandas.concat instead.\n",
      "  all_top_up = all_top_up.append(df, ignore_index=True)\n",
      "C:\\Users\\chanm\\anaconda3\\Lib\\site-packages\\openpyxl\\styles\\stylesheet.py:226: UserWarning: Workbook contains no default style, apply openpyxl's default\n",
      "  warn(\"Workbook contains no default style, apply openpyxl's default\")\n",
      "C:\\Users\\chanm\\AppData\\Local\\Temp\\ipykernel_18152\\1148063702.py:5: FutureWarning: The frame.append method is deprecated and will be removed from pandas in a future version. Use pandas.concat instead.\n",
      "  all_top_up = all_top_up.append(df, ignore_index=True)\n",
      "C:\\Users\\chanm\\anaconda3\\Lib\\site-packages\\openpyxl\\styles\\stylesheet.py:226: UserWarning: Workbook contains no default style, apply openpyxl's default\n",
      "  warn(\"Workbook contains no default style, apply openpyxl's default\")\n",
      "C:\\Users\\chanm\\AppData\\Local\\Temp\\ipykernel_18152\\1148063702.py:5: FutureWarning: The frame.append method is deprecated and will be removed from pandas in a future version. Use pandas.concat instead.\n",
      "  all_top_up = all_top_up.append(df, ignore_index=True)\n",
      "C:\\Users\\chanm\\anaconda3\\Lib\\site-packages\\openpyxl\\styles\\stylesheet.py:226: UserWarning: Workbook contains no default style, apply openpyxl's default\n",
      "  warn(\"Workbook contains no default style, apply openpyxl's default\")\n",
      "C:\\Users\\chanm\\AppData\\Local\\Temp\\ipykernel_18152\\1148063702.py:5: FutureWarning: The frame.append method is deprecated and will be removed from pandas in a future version. Use pandas.concat instead.\n",
      "  all_top_up = all_top_up.append(df, ignore_index=True)\n",
      "C:\\Users\\chanm\\anaconda3\\Lib\\site-packages\\openpyxl\\styles\\stylesheet.py:226: UserWarning: Workbook contains no default style, apply openpyxl's default\n",
      "  warn(\"Workbook contains no default style, apply openpyxl's default\")\n",
      "C:\\Users\\chanm\\AppData\\Local\\Temp\\ipykernel_18152\\1148063702.py:5: FutureWarning: The frame.append method is deprecated and will be removed from pandas in a future version. Use pandas.concat instead.\n",
      "  all_top_up = all_top_up.append(df, ignore_index=True)\n",
      "C:\\Users\\chanm\\anaconda3\\Lib\\site-packages\\openpyxl\\styles\\stylesheet.py:226: UserWarning: Workbook contains no default style, apply openpyxl's default\n",
      "  warn(\"Workbook contains no default style, apply openpyxl's default\")\n",
      "C:\\Users\\chanm\\AppData\\Local\\Temp\\ipykernel_18152\\1148063702.py:5: FutureWarning: The frame.append method is deprecated and will be removed from pandas in a future version. Use pandas.concat instead.\n",
      "  all_top_up = all_top_up.append(df, ignore_index=True)\n",
      "C:\\Users\\chanm\\anaconda3\\Lib\\site-packages\\openpyxl\\styles\\stylesheet.py:226: UserWarning: Workbook contains no default style, apply openpyxl's default\n",
      "  warn(\"Workbook contains no default style, apply openpyxl's default\")\n",
      "C:\\Users\\chanm\\AppData\\Local\\Temp\\ipykernel_18152\\1148063702.py:5: FutureWarning: The frame.append method is deprecated and will be removed from pandas in a future version. Use pandas.concat instead.\n",
      "  all_top_up = all_top_up.append(df, ignore_index=True)\n",
      "C:\\Users\\chanm\\anaconda3\\Lib\\site-packages\\openpyxl\\styles\\stylesheet.py:226: UserWarning: Workbook contains no default style, apply openpyxl's default\n",
      "  warn(\"Workbook contains no default style, apply openpyxl's default\")\n",
      "C:\\Users\\chanm\\AppData\\Local\\Temp\\ipykernel_18152\\1148063702.py:5: FutureWarning: The frame.append method is deprecated and will be removed from pandas in a future version. Use pandas.concat instead.\n",
      "  all_top_up = all_top_up.append(df, ignore_index=True)\n",
      "C:\\Users\\chanm\\anaconda3\\Lib\\site-packages\\openpyxl\\styles\\stylesheet.py:226: UserWarning: Workbook contains no default style, apply openpyxl's default\n",
      "  warn(\"Workbook contains no default style, apply openpyxl's default\")\n",
      "C:\\Users\\chanm\\AppData\\Local\\Temp\\ipykernel_18152\\1148063702.py:5: FutureWarning: The frame.append method is deprecated and will be removed from pandas in a future version. Use pandas.concat instead.\n",
      "  all_top_up = all_top_up.append(df, ignore_index=True)\n",
      "C:\\Users\\chanm\\anaconda3\\Lib\\site-packages\\openpyxl\\styles\\stylesheet.py:226: UserWarning: Workbook contains no default style, apply openpyxl's default\n",
      "  warn(\"Workbook contains no default style, apply openpyxl's default\")\n",
      "C:\\Users\\chanm\\AppData\\Local\\Temp\\ipykernel_18152\\1148063702.py:5: FutureWarning: The frame.append method is deprecated and will be removed from pandas in a future version. Use pandas.concat instead.\n",
      "  all_top_up = all_top_up.append(df, ignore_index=True)\n",
      "C:\\Users\\chanm\\anaconda3\\Lib\\site-packages\\openpyxl\\styles\\stylesheet.py:226: UserWarning: Workbook contains no default style, apply openpyxl's default\n",
      "  warn(\"Workbook contains no default style, apply openpyxl's default\")\n",
      "C:\\Users\\chanm\\AppData\\Local\\Temp\\ipykernel_18152\\1148063702.py:5: FutureWarning: The frame.append method is deprecated and will be removed from pandas in a future version. Use pandas.concat instead.\n",
      "  all_top_up = all_top_up.append(df, ignore_index=True)\n",
      "C:\\Users\\chanm\\anaconda3\\Lib\\site-packages\\openpyxl\\styles\\stylesheet.py:226: UserWarning: Workbook contains no default style, apply openpyxl's default\n",
      "  warn(\"Workbook contains no default style, apply openpyxl's default\")\n",
      "C:\\Users\\chanm\\AppData\\Local\\Temp\\ipykernel_18152\\1148063702.py:5: FutureWarning: The frame.append method is deprecated and will be removed from pandas in a future version. Use pandas.concat instead.\n",
      "  all_top_up = all_top_up.append(df, ignore_index=True)\n",
      "C:\\Users\\chanm\\anaconda3\\Lib\\site-packages\\openpyxl\\styles\\stylesheet.py:226: UserWarning: Workbook contains no default style, apply openpyxl's default\n",
      "  warn(\"Workbook contains no default style, apply openpyxl's default\")\n",
      "C:\\Users\\chanm\\AppData\\Local\\Temp\\ipykernel_18152\\1148063702.py:5: FutureWarning: The frame.append method is deprecated and will be removed from pandas in a future version. Use pandas.concat instead.\n",
      "  all_top_up = all_top_up.append(df, ignore_index=True)\n",
      "C:\\Users\\chanm\\anaconda3\\Lib\\site-packages\\openpyxl\\styles\\stylesheet.py:226: UserWarning: Workbook contains no default style, apply openpyxl's default\n",
      "  warn(\"Workbook contains no default style, apply openpyxl's default\")\n",
      "C:\\Users\\chanm\\AppData\\Local\\Temp\\ipykernel_18152\\1148063702.py:5: FutureWarning: The frame.append method is deprecated and will be removed from pandas in a future version. Use pandas.concat instead.\n",
      "  all_top_up = all_top_up.append(df, ignore_index=True)\n",
      "C:\\Users\\chanm\\anaconda3\\Lib\\site-packages\\openpyxl\\styles\\stylesheet.py:226: UserWarning: Workbook contains no default style, apply openpyxl's default\n",
      "  warn(\"Workbook contains no default style, apply openpyxl's default\")\n",
      "C:\\Users\\chanm\\AppData\\Local\\Temp\\ipykernel_18152\\1148063702.py:5: FutureWarning: The frame.append method is deprecated and will be removed from pandas in a future version. Use pandas.concat instead.\n",
      "  all_top_up = all_top_up.append(df, ignore_index=True)\n",
      "C:\\Users\\chanm\\anaconda3\\Lib\\site-packages\\openpyxl\\styles\\stylesheet.py:226: UserWarning: Workbook contains no default style, apply openpyxl's default\n",
      "  warn(\"Workbook contains no default style, apply openpyxl's default\")\n",
      "C:\\Users\\chanm\\AppData\\Local\\Temp\\ipykernel_18152\\1148063702.py:5: FutureWarning: The frame.append method is deprecated and will be removed from pandas in a future version. Use pandas.concat instead.\n",
      "  all_top_up = all_top_up.append(df, ignore_index=True)\n",
      "C:\\Users\\chanm\\anaconda3\\Lib\\site-packages\\openpyxl\\styles\\stylesheet.py:226: UserWarning: Workbook contains no default style, apply openpyxl's default\n",
      "  warn(\"Workbook contains no default style, apply openpyxl's default\")\n",
      "C:\\Users\\chanm\\AppData\\Local\\Temp\\ipykernel_18152\\1148063702.py:5: FutureWarning: The frame.append method is deprecated and will be removed from pandas in a future version. Use pandas.concat instead.\n",
      "  all_top_up = all_top_up.append(df, ignore_index=True)\n",
      "C:\\Users\\chanm\\anaconda3\\Lib\\site-packages\\openpyxl\\styles\\stylesheet.py:226: UserWarning: Workbook contains no default style, apply openpyxl's default\n",
      "  warn(\"Workbook contains no default style, apply openpyxl's default\")\n",
      "C:\\Users\\chanm\\AppData\\Local\\Temp\\ipykernel_18152\\1148063702.py:5: FutureWarning: The frame.append method is deprecated and will be removed from pandas in a future version. Use pandas.concat instead.\n",
      "  all_top_up = all_top_up.append(df, ignore_index=True)\n",
      "C:\\Users\\chanm\\anaconda3\\Lib\\site-packages\\openpyxl\\styles\\stylesheet.py:226: UserWarning: Workbook contains no default style, apply openpyxl's default\n",
      "  warn(\"Workbook contains no default style, apply openpyxl's default\")\n",
      "C:\\Users\\chanm\\AppData\\Local\\Temp\\ipykernel_18152\\1148063702.py:5: FutureWarning: The frame.append method is deprecated and will be removed from pandas in a future version. Use pandas.concat instead.\n",
      "  all_top_up = all_top_up.append(df, ignore_index=True)\n",
      "C:\\Users\\chanm\\anaconda3\\Lib\\site-packages\\openpyxl\\styles\\stylesheet.py:226: UserWarning: Workbook contains no default style, apply openpyxl's default\n",
      "  warn(\"Workbook contains no default style, apply openpyxl's default\")\n",
      "C:\\Users\\chanm\\AppData\\Local\\Temp\\ipykernel_18152\\1148063702.py:5: FutureWarning: The frame.append method is deprecated and will be removed from pandas in a future version. Use pandas.concat instead.\n",
      "  all_top_up = all_top_up.append(df, ignore_index=True)\n",
      "C:\\Users\\chanm\\anaconda3\\Lib\\site-packages\\openpyxl\\styles\\stylesheet.py:226: UserWarning: Workbook contains no default style, apply openpyxl's default\n",
      "  warn(\"Workbook contains no default style, apply openpyxl's default\")\n",
      "C:\\Users\\chanm\\AppData\\Local\\Temp\\ipykernel_18152\\1148063702.py:5: FutureWarning: The frame.append method is deprecated and will be removed from pandas in a future version. Use pandas.concat instead.\n",
      "  all_top_up = all_top_up.append(df, ignore_index=True)\n",
      "C:\\Users\\chanm\\anaconda3\\Lib\\site-packages\\openpyxl\\styles\\stylesheet.py:226: UserWarning: Workbook contains no default style, apply openpyxl's default\n",
      "  warn(\"Workbook contains no default style, apply openpyxl's default\")\n",
      "C:\\Users\\chanm\\AppData\\Local\\Temp\\ipykernel_18152\\1148063702.py:5: FutureWarning: The frame.append method is deprecated and will be removed from pandas in a future version. Use pandas.concat instead.\n",
      "  all_top_up = all_top_up.append(df, ignore_index=True)\n",
      "C:\\Users\\chanm\\anaconda3\\Lib\\site-packages\\openpyxl\\styles\\stylesheet.py:226: UserWarning: Workbook contains no default style, apply openpyxl's default\n",
      "  warn(\"Workbook contains no default style, apply openpyxl's default\")\n",
      "C:\\Users\\chanm\\AppData\\Local\\Temp\\ipykernel_18152\\1148063702.py:5: FutureWarning: The frame.append method is deprecated and will be removed from pandas in a future version. Use pandas.concat instead.\n",
      "  all_top_up = all_top_up.append(df, ignore_index=True)\n",
      "C:\\Users\\chanm\\anaconda3\\Lib\\site-packages\\openpyxl\\styles\\stylesheet.py:226: UserWarning: Workbook contains no default style, apply openpyxl's default\n",
      "  warn(\"Workbook contains no default style, apply openpyxl's default\")\n",
      "C:\\Users\\chanm\\AppData\\Local\\Temp\\ipykernel_18152\\1148063702.py:5: FutureWarning: The frame.append method is deprecated and will be removed from pandas in a future version. Use pandas.concat instead.\n",
      "  all_top_up = all_top_up.append(df, ignore_index=True)\n",
      "C:\\Users\\chanm\\anaconda3\\Lib\\site-packages\\openpyxl\\styles\\stylesheet.py:226: UserWarning: Workbook contains no default style, apply openpyxl's default\n",
      "  warn(\"Workbook contains no default style, apply openpyxl's default\")\n",
      "C:\\Users\\chanm\\AppData\\Local\\Temp\\ipykernel_18152\\1148063702.py:5: FutureWarning: The frame.append method is deprecated and will be removed from pandas in a future version. Use pandas.concat instead.\n",
      "  all_top_up = all_top_up.append(df, ignore_index=True)\n",
      "C:\\Users\\chanm\\anaconda3\\Lib\\site-packages\\openpyxl\\styles\\stylesheet.py:226: UserWarning: Workbook contains no default style, apply openpyxl's default\n",
      "  warn(\"Workbook contains no default style, apply openpyxl's default\")\n",
      "C:\\Users\\chanm\\AppData\\Local\\Temp\\ipykernel_18152\\1148063702.py:5: FutureWarning: The frame.append method is deprecated and will be removed from pandas in a future version. Use pandas.concat instead.\n",
      "  all_top_up = all_top_up.append(df, ignore_index=True)\n",
      "C:\\Users\\chanm\\anaconda3\\Lib\\site-packages\\openpyxl\\styles\\stylesheet.py:226: UserWarning: Workbook contains no default style, apply openpyxl's default\n",
      "  warn(\"Workbook contains no default style, apply openpyxl's default\")\n",
      "C:\\Users\\chanm\\AppData\\Local\\Temp\\ipykernel_18152\\1148063702.py:5: FutureWarning: The frame.append method is deprecated and will be removed from pandas in a future version. Use pandas.concat instead.\n",
      "  all_top_up = all_top_up.append(df, ignore_index=True)\n",
      "C:\\Users\\chanm\\anaconda3\\Lib\\site-packages\\openpyxl\\styles\\stylesheet.py:226: UserWarning: Workbook contains no default style, apply openpyxl's default\n",
      "  warn(\"Workbook contains no default style, apply openpyxl's default\")\n",
      "C:\\Users\\chanm\\AppData\\Local\\Temp\\ipykernel_18152\\1148063702.py:5: FutureWarning: The frame.append method is deprecated and will be removed from pandas in a future version. Use pandas.concat instead.\n",
      "  all_top_up = all_top_up.append(df, ignore_index=True)\n",
      "C:\\Users\\chanm\\anaconda3\\Lib\\site-packages\\openpyxl\\styles\\stylesheet.py:226: UserWarning: Workbook contains no default style, apply openpyxl's default\n",
      "  warn(\"Workbook contains no default style, apply openpyxl's default\")\n",
      "C:\\Users\\chanm\\AppData\\Local\\Temp\\ipykernel_18152\\1148063702.py:5: FutureWarning: The frame.append method is deprecated and will be removed from pandas in a future version. Use pandas.concat instead.\n",
      "  all_top_up = all_top_up.append(df, ignore_index=True)\n",
      "C:\\Users\\chanm\\anaconda3\\Lib\\site-packages\\openpyxl\\styles\\stylesheet.py:226: UserWarning: Workbook contains no default style, apply openpyxl's default\n",
      "  warn(\"Workbook contains no default style, apply openpyxl's default\")\n",
      "C:\\Users\\chanm\\AppData\\Local\\Temp\\ipykernel_18152\\1148063702.py:5: FutureWarning: The frame.append method is deprecated and will be removed from pandas in a future version. Use pandas.concat instead.\n",
      "  all_top_up = all_top_up.append(df, ignore_index=True)\n",
      "C:\\Users\\chanm\\anaconda3\\Lib\\site-packages\\openpyxl\\styles\\stylesheet.py:226: UserWarning: Workbook contains no default style, apply openpyxl's default\n",
      "  warn(\"Workbook contains no default style, apply openpyxl's default\")\n",
      "C:\\Users\\chanm\\AppData\\Local\\Temp\\ipykernel_18152\\1148063702.py:5: FutureWarning: The frame.append method is deprecated and will be removed from pandas in a future version. Use pandas.concat instead.\n",
      "  all_top_up = all_top_up.append(df, ignore_index=True)\n",
      "C:\\Users\\chanm\\anaconda3\\Lib\\site-packages\\openpyxl\\styles\\stylesheet.py:226: UserWarning: Workbook contains no default style, apply openpyxl's default\n",
      "  warn(\"Workbook contains no default style, apply openpyxl's default\")\n",
      "C:\\Users\\chanm\\AppData\\Local\\Temp\\ipykernel_18152\\1148063702.py:5: FutureWarning: The frame.append method is deprecated and will be removed from pandas in a future version. Use pandas.concat instead.\n",
      "  all_top_up = all_top_up.append(df, ignore_index=True)\n",
      "C:\\Users\\chanm\\anaconda3\\Lib\\site-packages\\openpyxl\\styles\\stylesheet.py:226: UserWarning: Workbook contains no default style, apply openpyxl's default\n",
      "  warn(\"Workbook contains no default style, apply openpyxl's default\")\n",
      "C:\\Users\\chanm\\AppData\\Local\\Temp\\ipykernel_18152\\1148063702.py:5: FutureWarning: The frame.append method is deprecated and will be removed from pandas in a future version. Use pandas.concat instead.\n",
      "  all_top_up = all_top_up.append(df, ignore_index=True)\n",
      "C:\\Users\\chanm\\anaconda3\\Lib\\site-packages\\openpyxl\\styles\\stylesheet.py:226: UserWarning: Workbook contains no default style, apply openpyxl's default\n",
      "  warn(\"Workbook contains no default style, apply openpyxl's default\")\n",
      "C:\\Users\\chanm\\AppData\\Local\\Temp\\ipykernel_18152\\1148063702.py:5: FutureWarning: The frame.append method is deprecated and will be removed from pandas in a future version. Use pandas.concat instead.\n",
      "  all_top_up = all_top_up.append(df, ignore_index=True)\n",
      "C:\\Users\\chanm\\anaconda3\\Lib\\site-packages\\openpyxl\\styles\\stylesheet.py:226: UserWarning: Workbook contains no default style, apply openpyxl's default\n",
      "  warn(\"Workbook contains no default style, apply openpyxl's default\")\n",
      "C:\\Users\\chanm\\AppData\\Local\\Temp\\ipykernel_18152\\1148063702.py:5: FutureWarning: The frame.append method is deprecated and will be removed from pandas in a future version. Use pandas.concat instead.\n",
      "  all_top_up = all_top_up.append(df, ignore_index=True)\n",
      "C:\\Users\\chanm\\anaconda3\\Lib\\site-packages\\openpyxl\\styles\\stylesheet.py:226: UserWarning: Workbook contains no default style, apply openpyxl's default\n",
      "  warn(\"Workbook contains no default style, apply openpyxl's default\")\n",
      "C:\\Users\\chanm\\AppData\\Local\\Temp\\ipykernel_18152\\1148063702.py:5: FutureWarning: The frame.append method is deprecated and will be removed from pandas in a future version. Use pandas.concat instead.\n",
      "  all_top_up = all_top_up.append(df, ignore_index=True)\n",
      "C:\\Users\\chanm\\anaconda3\\Lib\\site-packages\\openpyxl\\styles\\stylesheet.py:226: UserWarning: Workbook contains no default style, apply openpyxl's default\n",
      "  warn(\"Workbook contains no default style, apply openpyxl's default\")\n",
      "C:\\Users\\chanm\\AppData\\Local\\Temp\\ipykernel_18152\\1148063702.py:5: FutureWarning: The frame.append method is deprecated and will be removed from pandas in a future version. Use pandas.concat instead.\n",
      "  all_top_up = all_top_up.append(df, ignore_index=True)\n",
      "C:\\Users\\chanm\\anaconda3\\Lib\\site-packages\\openpyxl\\styles\\stylesheet.py:226: UserWarning: Workbook contains no default style, apply openpyxl's default\n",
      "  warn(\"Workbook contains no default style, apply openpyxl's default\")\n",
      "C:\\Users\\chanm\\AppData\\Local\\Temp\\ipykernel_18152\\1148063702.py:5: FutureWarning: The frame.append method is deprecated and will be removed from pandas in a future version. Use pandas.concat instead.\n",
      "  all_top_up = all_top_up.append(df, ignore_index=True)\n",
      "C:\\Users\\chanm\\anaconda3\\Lib\\site-packages\\openpyxl\\styles\\stylesheet.py:226: UserWarning: Workbook contains no default style, apply openpyxl's default\n",
      "  warn(\"Workbook contains no default style, apply openpyxl's default\")\n",
      "C:\\Users\\chanm\\AppData\\Local\\Temp\\ipykernel_18152\\1148063702.py:5: FutureWarning: The frame.append method is deprecated and will be removed from pandas in a future version. Use pandas.concat instead.\n",
      "  all_top_up = all_top_up.append(df, ignore_index=True)\n",
      "C:\\Users\\chanm\\anaconda3\\Lib\\site-packages\\openpyxl\\styles\\stylesheet.py:226: UserWarning: Workbook contains no default style, apply openpyxl's default\n",
      "  warn(\"Workbook contains no default style, apply openpyxl's default\")\n",
      "C:\\Users\\chanm\\AppData\\Local\\Temp\\ipykernel_18152\\1148063702.py:5: FutureWarning: The frame.append method is deprecated and will be removed from pandas in a future version. Use pandas.concat instead.\n",
      "  all_top_up = all_top_up.append(df, ignore_index=True)\n",
      "C:\\Users\\chanm\\AppData\\Local\\Temp\\ipykernel_18152\\1148063702.py:5: FutureWarning: The frame.append method is deprecated and will be removed from pandas in a future version. Use pandas.concat instead.\n",
      "  all_top_up = all_top_up.append(df, ignore_index=True)\n",
      "C:\\Users\\chanm\\anaconda3\\Lib\\site-packages\\openpyxl\\styles\\stylesheet.py:226: UserWarning: Workbook contains no default style, apply openpyxl's default\n",
      "  warn(\"Workbook contains no default style, apply openpyxl's default\")\n",
      "C:\\Users\\chanm\\AppData\\Local\\Temp\\ipykernel_18152\\1148063702.py:5: FutureWarning: The frame.append method is deprecated and will be removed from pandas in a future version. Use pandas.concat instead.\n",
      "  all_top_up = all_top_up.append(df, ignore_index=True)\n",
      "C:\\Users\\chanm\\anaconda3\\Lib\\site-packages\\openpyxl\\styles\\stylesheet.py:226: UserWarning: Workbook contains no default style, apply openpyxl's default\n",
      "  warn(\"Workbook contains no default style, apply openpyxl's default\")\n",
      "C:\\Users\\chanm\\AppData\\Local\\Temp\\ipykernel_18152\\1148063702.py:5: FutureWarning: The frame.append method is deprecated and will be removed from pandas in a future version. Use pandas.concat instead.\n",
      "  all_top_up = all_top_up.append(df, ignore_index=True)\n",
      "C:\\Users\\chanm\\anaconda3\\Lib\\site-packages\\openpyxl\\styles\\stylesheet.py:226: UserWarning: Workbook contains no default style, apply openpyxl's default\n",
      "  warn(\"Workbook contains no default style, apply openpyxl's default\")\n",
      "C:\\Users\\chanm\\AppData\\Local\\Temp\\ipykernel_18152\\1148063702.py:5: FutureWarning: The frame.append method is deprecated and will be removed from pandas in a future version. Use pandas.concat instead.\n",
      "  all_top_up = all_top_up.append(df, ignore_index=True)\n",
      "C:\\Users\\chanm\\anaconda3\\Lib\\site-packages\\openpyxl\\styles\\stylesheet.py:226: UserWarning: Workbook contains no default style, apply openpyxl's default\n",
      "  warn(\"Workbook contains no default style, apply openpyxl's default\")\n",
      "C:\\Users\\chanm\\AppData\\Local\\Temp\\ipykernel_18152\\1148063702.py:5: FutureWarning: The frame.append method is deprecated and will be removed from pandas in a future version. Use pandas.concat instead.\n",
      "  all_top_up = all_top_up.append(df, ignore_index=True)\n",
      "C:\\Users\\chanm\\anaconda3\\Lib\\site-packages\\openpyxl\\styles\\stylesheet.py:226: UserWarning: Workbook contains no default style, apply openpyxl's default\n",
      "  warn(\"Workbook contains no default style, apply openpyxl's default\")\n",
      "C:\\Users\\chanm\\AppData\\Local\\Temp\\ipykernel_18152\\1148063702.py:5: FutureWarning: The frame.append method is deprecated and will be removed from pandas in a future version. Use pandas.concat instead.\n",
      "  all_top_up = all_top_up.append(df, ignore_index=True)\n",
      "C:\\Users\\chanm\\anaconda3\\Lib\\site-packages\\openpyxl\\styles\\stylesheet.py:226: UserWarning: Workbook contains no default style, apply openpyxl's default\n",
      "  warn(\"Workbook contains no default style, apply openpyxl's default\")\n",
      "C:\\Users\\chanm\\AppData\\Local\\Temp\\ipykernel_18152\\1148063702.py:5: FutureWarning: The frame.append method is deprecated and will be removed from pandas in a future version. Use pandas.concat instead.\n",
      "  all_top_up = all_top_up.append(df, ignore_index=True)\n",
      "C:\\Users\\chanm\\anaconda3\\Lib\\site-packages\\openpyxl\\styles\\stylesheet.py:226: UserWarning: Workbook contains no default style, apply openpyxl's default\n",
      "  warn(\"Workbook contains no default style, apply openpyxl's default\")\n",
      "C:\\Users\\chanm\\AppData\\Local\\Temp\\ipykernel_18152\\1148063702.py:5: FutureWarning: The frame.append method is deprecated and will be removed from pandas in a future version. Use pandas.concat instead.\n",
      "  all_top_up = all_top_up.append(df, ignore_index=True)\n",
      "C:\\Users\\chanm\\anaconda3\\Lib\\site-packages\\openpyxl\\styles\\stylesheet.py:226: UserWarning: Workbook contains no default style, apply openpyxl's default\n",
      "  warn(\"Workbook contains no default style, apply openpyxl's default\")\n",
      "C:\\Users\\chanm\\AppData\\Local\\Temp\\ipykernel_18152\\1148063702.py:5: FutureWarning: The frame.append method is deprecated and will be removed from pandas in a future version. Use pandas.concat instead.\n",
      "  all_top_up = all_top_up.append(df, ignore_index=True)\n",
      "C:\\Users\\chanm\\anaconda3\\Lib\\site-packages\\openpyxl\\styles\\stylesheet.py:226: UserWarning: Workbook contains no default style, apply openpyxl's default\n",
      "  warn(\"Workbook contains no default style, apply openpyxl's default\")\n",
      "C:\\Users\\chanm\\AppData\\Local\\Temp\\ipykernel_18152\\1148063702.py:5: FutureWarning: The frame.append method is deprecated and will be removed from pandas in a future version. Use pandas.concat instead.\n",
      "  all_top_up = all_top_up.append(df, ignore_index=True)\n",
      "C:\\Users\\chanm\\anaconda3\\Lib\\site-packages\\openpyxl\\styles\\stylesheet.py:226: UserWarning: Workbook contains no default style, apply openpyxl's default\n",
      "  warn(\"Workbook contains no default style, apply openpyxl's default\")\n",
      "C:\\Users\\chanm\\AppData\\Local\\Temp\\ipykernel_18152\\1148063702.py:5: FutureWarning: The frame.append method is deprecated and will be removed from pandas in a future version. Use pandas.concat instead.\n",
      "  all_top_up = all_top_up.append(df, ignore_index=True)\n",
      "C:\\Users\\chanm\\anaconda3\\Lib\\site-packages\\openpyxl\\styles\\stylesheet.py:226: UserWarning: Workbook contains no default style, apply openpyxl's default\n",
      "  warn(\"Workbook contains no default style, apply openpyxl's default\")\n",
      "C:\\Users\\chanm\\AppData\\Local\\Temp\\ipykernel_18152\\1148063702.py:5: FutureWarning: The frame.append method is deprecated and will be removed from pandas in a future version. Use pandas.concat instead.\n",
      "  all_top_up = all_top_up.append(df, ignore_index=True)\n",
      "C:\\Users\\chanm\\anaconda3\\Lib\\site-packages\\openpyxl\\styles\\stylesheet.py:226: UserWarning: Workbook contains no default style, apply openpyxl's default\n",
      "  warn(\"Workbook contains no default style, apply openpyxl's default\")\n",
      "C:\\Users\\chanm\\AppData\\Local\\Temp\\ipykernel_18152\\1148063702.py:5: FutureWarning: The frame.append method is deprecated and will be removed from pandas in a future version. Use pandas.concat instead.\n",
      "  all_top_up = all_top_up.append(df, ignore_index=True)\n",
      "C:\\Users\\chanm\\anaconda3\\Lib\\site-packages\\openpyxl\\styles\\stylesheet.py:226: UserWarning: Workbook contains no default style, apply openpyxl's default\n",
      "  warn(\"Workbook contains no default style, apply openpyxl's default\")\n",
      "C:\\Users\\chanm\\AppData\\Local\\Temp\\ipykernel_18152\\1148063702.py:5: FutureWarning: The frame.append method is deprecated and will be removed from pandas in a future version. Use pandas.concat instead.\n",
      "  all_top_up = all_top_up.append(df, ignore_index=True)\n",
      "C:\\Users\\chanm\\anaconda3\\Lib\\site-packages\\openpyxl\\styles\\stylesheet.py:226: UserWarning: Workbook contains no default style, apply openpyxl's default\n",
      "  warn(\"Workbook contains no default style, apply openpyxl's default\")\n",
      "C:\\Users\\chanm\\AppData\\Local\\Temp\\ipykernel_18152\\1148063702.py:5: FutureWarning: The frame.append method is deprecated and will be removed from pandas in a future version. Use pandas.concat instead.\n",
      "  all_top_up = all_top_up.append(df, ignore_index=True)\n",
      "C:\\Users\\chanm\\anaconda3\\Lib\\site-packages\\openpyxl\\styles\\stylesheet.py:226: UserWarning: Workbook contains no default style, apply openpyxl's default\n",
      "  warn(\"Workbook contains no default style, apply openpyxl's default\")\n",
      "C:\\Users\\chanm\\AppData\\Local\\Temp\\ipykernel_18152\\1148063702.py:5: FutureWarning: The frame.append method is deprecated and will be removed from pandas in a future version. Use pandas.concat instead.\n",
      "  all_top_up = all_top_up.append(df, ignore_index=True)\n",
      "C:\\Users\\chanm\\anaconda3\\Lib\\site-packages\\openpyxl\\styles\\stylesheet.py:226: UserWarning: Workbook contains no default style, apply openpyxl's default\n",
      "  warn(\"Workbook contains no default style, apply openpyxl's default\")\n",
      "C:\\Users\\chanm\\AppData\\Local\\Temp\\ipykernel_18152\\1148063702.py:5: FutureWarning: The frame.append method is deprecated and will be removed from pandas in a future version. Use pandas.concat instead.\n",
      "  all_top_up = all_top_up.append(df, ignore_index=True)\n",
      "C:\\Users\\chanm\\anaconda3\\Lib\\site-packages\\openpyxl\\styles\\stylesheet.py:226: UserWarning: Workbook contains no default style, apply openpyxl's default\n",
      "  warn(\"Workbook contains no default style, apply openpyxl's default\")\n",
      "C:\\Users\\chanm\\AppData\\Local\\Temp\\ipykernel_18152\\1148063702.py:5: FutureWarning: The frame.append method is deprecated and will be removed from pandas in a future version. Use pandas.concat instead.\n",
      "  all_top_up = all_top_up.append(df, ignore_index=True)\n",
      "C:\\Users\\chanm\\anaconda3\\Lib\\site-packages\\openpyxl\\styles\\stylesheet.py:226: UserWarning: Workbook contains no default style, apply openpyxl's default\n",
      "  warn(\"Workbook contains no default style, apply openpyxl's default\")\n",
      "C:\\Users\\chanm\\AppData\\Local\\Temp\\ipykernel_18152\\1148063702.py:5: FutureWarning: The frame.append method is deprecated and will be removed from pandas in a future version. Use pandas.concat instead.\n",
      "  all_top_up = all_top_up.append(df, ignore_index=True)\n",
      "C:\\Users\\chanm\\anaconda3\\Lib\\site-packages\\openpyxl\\styles\\stylesheet.py:226: UserWarning: Workbook contains no default style, apply openpyxl's default\n",
      "  warn(\"Workbook contains no default style, apply openpyxl's default\")\n",
      "C:\\Users\\chanm\\AppData\\Local\\Temp\\ipykernel_18152\\1148063702.py:5: FutureWarning: The frame.append method is deprecated and will be removed from pandas in a future version. Use pandas.concat instead.\n",
      "  all_top_up = all_top_up.append(df, ignore_index=True)\n",
      "C:\\Users\\chanm\\anaconda3\\Lib\\site-packages\\openpyxl\\styles\\stylesheet.py:226: UserWarning: Workbook contains no default style, apply openpyxl's default\n",
      "  warn(\"Workbook contains no default style, apply openpyxl's default\")\n",
      "C:\\Users\\chanm\\AppData\\Local\\Temp\\ipykernel_18152\\1148063702.py:5: FutureWarning: The frame.append method is deprecated and will be removed from pandas in a future version. Use pandas.concat instead.\n",
      "  all_top_up = all_top_up.append(df, ignore_index=True)\n",
      "C:\\Users\\chanm\\anaconda3\\Lib\\site-packages\\openpyxl\\styles\\stylesheet.py:226: UserWarning: Workbook contains no default style, apply openpyxl's default\n",
      "  warn(\"Workbook contains no default style, apply openpyxl's default\")\n",
      "C:\\Users\\chanm\\AppData\\Local\\Temp\\ipykernel_18152\\1148063702.py:5: FutureWarning: The frame.append method is deprecated and will be removed from pandas in a future version. Use pandas.concat instead.\n",
      "  all_top_up = all_top_up.append(df, ignore_index=True)\n",
      "C:\\Users\\chanm\\anaconda3\\Lib\\site-packages\\openpyxl\\styles\\stylesheet.py:226: UserWarning: Workbook contains no default style, apply openpyxl's default\n",
      "  warn(\"Workbook contains no default style, apply openpyxl's default\")\n",
      "C:\\Users\\chanm\\AppData\\Local\\Temp\\ipykernel_18152\\1148063702.py:5: FutureWarning: The frame.append method is deprecated and will be removed from pandas in a future version. Use pandas.concat instead.\n",
      "  all_top_up = all_top_up.append(df, ignore_index=True)\n",
      "C:\\Users\\chanm\\anaconda3\\Lib\\site-packages\\openpyxl\\styles\\stylesheet.py:226: UserWarning: Workbook contains no default style, apply openpyxl's default\n",
      "  warn(\"Workbook contains no default style, apply openpyxl's default\")\n",
      "C:\\Users\\chanm\\AppData\\Local\\Temp\\ipykernel_18152\\1148063702.py:5: FutureWarning: The frame.append method is deprecated and will be removed from pandas in a future version. Use pandas.concat instead.\n",
      "  all_top_up = all_top_up.append(df, ignore_index=True)\n",
      "C:\\Users\\chanm\\anaconda3\\Lib\\site-packages\\openpyxl\\styles\\stylesheet.py:226: UserWarning: Workbook contains no default style, apply openpyxl's default\n",
      "  warn(\"Workbook contains no default style, apply openpyxl's default\")\n",
      "C:\\Users\\chanm\\AppData\\Local\\Temp\\ipykernel_18152\\1148063702.py:5: FutureWarning: The frame.append method is deprecated and will be removed from pandas in a future version. Use pandas.concat instead.\n",
      "  all_top_up = all_top_up.append(df, ignore_index=True)\n",
      "C:\\Users\\chanm\\anaconda3\\Lib\\site-packages\\openpyxl\\styles\\stylesheet.py:226: UserWarning: Workbook contains no default style, apply openpyxl's default\n",
      "  warn(\"Workbook contains no default style, apply openpyxl's default\")\n",
      "C:\\Users\\chanm\\AppData\\Local\\Temp\\ipykernel_18152\\1148063702.py:5: FutureWarning: The frame.append method is deprecated and will be removed from pandas in a future version. Use pandas.concat instead.\n",
      "  all_top_up = all_top_up.append(df, ignore_index=True)\n",
      "C:\\Users\\chanm\\anaconda3\\Lib\\site-packages\\openpyxl\\styles\\stylesheet.py:226: UserWarning: Workbook contains no default style, apply openpyxl's default\n",
      "  warn(\"Workbook contains no default style, apply openpyxl's default\")\n",
      "C:\\Users\\chanm\\AppData\\Local\\Temp\\ipykernel_18152\\1148063702.py:5: FutureWarning: The frame.append method is deprecated and will be removed from pandas in a future version. Use pandas.concat instead.\n",
      "  all_top_up = all_top_up.append(df, ignore_index=True)\n",
      "C:\\Users\\chanm\\anaconda3\\Lib\\site-packages\\openpyxl\\styles\\stylesheet.py:226: UserWarning: Workbook contains no default style, apply openpyxl's default\n",
      "  warn(\"Workbook contains no default style, apply openpyxl's default\")\n",
      "C:\\Users\\chanm\\AppData\\Local\\Temp\\ipykernel_18152\\1148063702.py:5: FutureWarning: The frame.append method is deprecated and will be removed from pandas in a future version. Use pandas.concat instead.\n",
      "  all_top_up = all_top_up.append(df, ignore_index=True)\n",
      "C:\\Users\\chanm\\anaconda3\\Lib\\site-packages\\openpyxl\\styles\\stylesheet.py:226: UserWarning: Workbook contains no default style, apply openpyxl's default\n",
      "  warn(\"Workbook contains no default style, apply openpyxl's default\")\n",
      "C:\\Users\\chanm\\AppData\\Local\\Temp\\ipykernel_18152\\1148063702.py:5: FutureWarning: The frame.append method is deprecated and will be removed from pandas in a future version. Use pandas.concat instead.\n",
      "  all_top_up = all_top_up.append(df, ignore_index=True)\n",
      "C:\\Users\\chanm\\anaconda3\\Lib\\site-packages\\openpyxl\\styles\\stylesheet.py:226: UserWarning: Workbook contains no default style, apply openpyxl's default\n",
      "  warn(\"Workbook contains no default style, apply openpyxl's default\")\n",
      "C:\\Users\\chanm\\AppData\\Local\\Temp\\ipykernel_18152\\1148063702.py:5: FutureWarning: The frame.append method is deprecated and will be removed from pandas in a future version. Use pandas.concat instead.\n",
      "  all_top_up = all_top_up.append(df, ignore_index=True)\n",
      "C:\\Users\\chanm\\anaconda3\\Lib\\site-packages\\openpyxl\\styles\\stylesheet.py:226: UserWarning: Workbook contains no default style, apply openpyxl's default\n",
      "  warn(\"Workbook contains no default style, apply openpyxl's default\")\n",
      "C:\\Users\\chanm\\AppData\\Local\\Temp\\ipykernel_18152\\1148063702.py:5: FutureWarning: The frame.append method is deprecated and will be removed from pandas in a future version. Use pandas.concat instead.\n",
      "  all_top_up = all_top_up.append(df, ignore_index=True)\n",
      "C:\\Users\\chanm\\anaconda3\\Lib\\site-packages\\openpyxl\\styles\\stylesheet.py:226: UserWarning: Workbook contains no default style, apply openpyxl's default\n",
      "  warn(\"Workbook contains no default style, apply openpyxl's default\")\n",
      "C:\\Users\\chanm\\AppData\\Local\\Temp\\ipykernel_18152\\1148063702.py:5: FutureWarning: The frame.append method is deprecated and will be removed from pandas in a future version. Use pandas.concat instead.\n",
      "  all_top_up = all_top_up.append(df, ignore_index=True)\n",
      "C:\\Users\\chanm\\anaconda3\\Lib\\site-packages\\openpyxl\\styles\\stylesheet.py:226: UserWarning: Workbook contains no default style, apply openpyxl's default\n",
      "  warn(\"Workbook contains no default style, apply openpyxl's default\")\n",
      "C:\\Users\\chanm\\AppData\\Local\\Temp\\ipykernel_18152\\1148063702.py:5: FutureWarning: The frame.append method is deprecated and will be removed from pandas in a future version. Use pandas.concat instead.\n",
      "  all_top_up = all_top_up.append(df, ignore_index=True)\n",
      "C:\\Users\\chanm\\anaconda3\\Lib\\site-packages\\openpyxl\\styles\\stylesheet.py:226: UserWarning: Workbook contains no default style, apply openpyxl's default\n",
      "  warn(\"Workbook contains no default style, apply openpyxl's default\")\n",
      "C:\\Users\\chanm\\AppData\\Local\\Temp\\ipykernel_18152\\1148063702.py:5: FutureWarning: The frame.append method is deprecated and will be removed from pandas in a future version. Use pandas.concat instead.\n",
      "  all_top_up = all_top_up.append(df, ignore_index=True)\n",
      "C:\\Users\\chanm\\anaconda3\\Lib\\site-packages\\openpyxl\\styles\\stylesheet.py:226: UserWarning: Workbook contains no default style, apply openpyxl's default\n",
      "  warn(\"Workbook contains no default style, apply openpyxl's default\")\n",
      "C:\\Users\\chanm\\AppData\\Local\\Temp\\ipykernel_18152\\1148063702.py:5: FutureWarning: The frame.append method is deprecated and will be removed from pandas in a future version. Use pandas.concat instead.\n",
      "  all_top_up = all_top_up.append(df, ignore_index=True)\n",
      "C:\\Users\\chanm\\anaconda3\\Lib\\site-packages\\openpyxl\\styles\\stylesheet.py:226: UserWarning: Workbook contains no default style, apply openpyxl's default\n",
      "  warn(\"Workbook contains no default style, apply openpyxl's default\")\n",
      "C:\\Users\\chanm\\AppData\\Local\\Temp\\ipykernel_18152\\1148063702.py:5: FutureWarning: The frame.append method is deprecated and will be removed from pandas in a future version. Use pandas.concat instead.\n",
      "  all_top_up = all_top_up.append(df, ignore_index=True)\n",
      "C:\\Users\\chanm\\anaconda3\\Lib\\site-packages\\openpyxl\\styles\\stylesheet.py:226: UserWarning: Workbook contains no default style, apply openpyxl's default\n",
      "  warn(\"Workbook contains no default style, apply openpyxl's default\")\n",
      "C:\\Users\\chanm\\AppData\\Local\\Temp\\ipykernel_18152\\1148063702.py:5: FutureWarning: The frame.append method is deprecated and will be removed from pandas in a future version. Use pandas.concat instead.\n",
      "  all_top_up = all_top_up.append(df, ignore_index=True)\n",
      "C:\\Users\\chanm\\anaconda3\\Lib\\site-packages\\openpyxl\\styles\\stylesheet.py:226: UserWarning: Workbook contains no default style, apply openpyxl's default\n",
      "  warn(\"Workbook contains no default style, apply openpyxl's default\")\n",
      "C:\\Users\\chanm\\AppData\\Local\\Temp\\ipykernel_18152\\1148063702.py:5: FutureWarning: The frame.append method is deprecated and will be removed from pandas in a future version. Use pandas.concat instead.\n",
      "  all_top_up = all_top_up.append(df, ignore_index=True)\n",
      "C:\\Users\\chanm\\anaconda3\\Lib\\site-packages\\openpyxl\\styles\\stylesheet.py:226: UserWarning: Workbook contains no default style, apply openpyxl's default\n",
      "  warn(\"Workbook contains no default style, apply openpyxl's default\")\n",
      "C:\\Users\\chanm\\AppData\\Local\\Temp\\ipykernel_18152\\1148063702.py:5: FutureWarning: The frame.append method is deprecated and will be removed from pandas in a future version. Use pandas.concat instead.\n",
      "  all_top_up = all_top_up.append(df, ignore_index=True)\n",
      "C:\\Users\\chanm\\anaconda3\\Lib\\site-packages\\openpyxl\\styles\\stylesheet.py:226: UserWarning: Workbook contains no default style, apply openpyxl's default\n",
      "  warn(\"Workbook contains no default style, apply openpyxl's default\")\n",
      "C:\\Users\\chanm\\AppData\\Local\\Temp\\ipykernel_18152\\1148063702.py:5: FutureWarning: The frame.append method is deprecated and will be removed from pandas in a future version. Use pandas.concat instead.\n",
      "  all_top_up = all_top_up.append(df, ignore_index=True)\n",
      "C:\\Users\\chanm\\anaconda3\\Lib\\site-packages\\openpyxl\\styles\\stylesheet.py:226: UserWarning: Workbook contains no default style, apply openpyxl's default\n",
      "  warn(\"Workbook contains no default style, apply openpyxl's default\")\n",
      "C:\\Users\\chanm\\AppData\\Local\\Temp\\ipykernel_18152\\1148063702.py:5: FutureWarning: The frame.append method is deprecated and will be removed from pandas in a future version. Use pandas.concat instead.\n",
      "  all_top_up = all_top_up.append(df, ignore_index=True)\n",
      "C:\\Users\\chanm\\anaconda3\\Lib\\site-packages\\openpyxl\\styles\\stylesheet.py:226: UserWarning: Workbook contains no default style, apply openpyxl's default\n",
      "  warn(\"Workbook contains no default style, apply openpyxl's default\")\n",
      "C:\\Users\\chanm\\AppData\\Local\\Temp\\ipykernel_18152\\1148063702.py:5: FutureWarning: The frame.append method is deprecated and will be removed from pandas in a future version. Use pandas.concat instead.\n",
      "  all_top_up = all_top_up.append(df, ignore_index=True)\n",
      "C:\\Users\\chanm\\anaconda3\\Lib\\site-packages\\openpyxl\\styles\\stylesheet.py:226: UserWarning: Workbook contains no default style, apply openpyxl's default\n",
      "  warn(\"Workbook contains no default style, apply openpyxl's default\")\n",
      "C:\\Users\\chanm\\AppData\\Local\\Temp\\ipykernel_18152\\1148063702.py:5: FutureWarning: The frame.append method is deprecated and will be removed from pandas in a future version. Use pandas.concat instead.\n",
      "  all_top_up = all_top_up.append(df, ignore_index=True)\n",
      "C:\\Users\\chanm\\anaconda3\\Lib\\site-packages\\openpyxl\\styles\\stylesheet.py:226: UserWarning: Workbook contains no default style, apply openpyxl's default\n",
      "  warn(\"Workbook contains no default style, apply openpyxl's default\")\n",
      "C:\\Users\\chanm\\AppData\\Local\\Temp\\ipykernel_18152\\1148063702.py:5: FutureWarning: The frame.append method is deprecated and will be removed from pandas in a future version. Use pandas.concat instead.\n",
      "  all_top_up = all_top_up.append(df, ignore_index=True)\n",
      "C:\\Users\\chanm\\anaconda3\\Lib\\site-packages\\openpyxl\\styles\\stylesheet.py:226: UserWarning: Workbook contains no default style, apply openpyxl's default\n",
      "  warn(\"Workbook contains no default style, apply openpyxl's default\")\n",
      "C:\\Users\\chanm\\AppData\\Local\\Temp\\ipykernel_18152\\1148063702.py:5: FutureWarning: The frame.append method is deprecated and will be removed from pandas in a future version. Use pandas.concat instead.\n",
      "  all_top_up = all_top_up.append(df, ignore_index=True)\n",
      "C:\\Users\\chanm\\anaconda3\\Lib\\site-packages\\openpyxl\\styles\\stylesheet.py:226: UserWarning: Workbook contains no default style, apply openpyxl's default\n",
      "  warn(\"Workbook contains no default style, apply openpyxl's default\")\n",
      "C:\\Users\\chanm\\AppData\\Local\\Temp\\ipykernel_18152\\1148063702.py:5: FutureWarning: The frame.append method is deprecated and will be removed from pandas in a future version. Use pandas.concat instead.\n",
      "  all_top_up = all_top_up.append(df, ignore_index=True)\n",
      "C:\\Users\\chanm\\anaconda3\\Lib\\site-packages\\openpyxl\\styles\\stylesheet.py:226: UserWarning: Workbook contains no default style, apply openpyxl's default\n",
      "  warn(\"Workbook contains no default style, apply openpyxl's default\")\n",
      "C:\\Users\\chanm\\AppData\\Local\\Temp\\ipykernel_18152\\1148063702.py:5: FutureWarning: The frame.append method is deprecated and will be removed from pandas in a future version. Use pandas.concat instead.\n",
      "  all_top_up = all_top_up.append(df, ignore_index=True)\n"
     ]
    }
   ],
   "source": [
    "#合併檔案\n",
    "all_top_up = pd.DataFrame()\n",
    "for file in namelist:\n",
    "    df = pd.read_excel(file, engine='openpyxl')\n",
    "    all_top_up = all_top_up.append(df, ignore_index=True)"
   ]
  },
  {
   "cell_type": "code",
   "execution_count": 8,
   "id": "6ab9ab0e-d159-4d63-b3af-84027b647658",
   "metadata": {
    "tags": []
   },
   "outputs": [],
   "source": [
    "# all_top_up.to_csv('C:\\\\Users\\\\buche\\\\Desktop\\\\15top_up_test_'+ data_day +'.csv', encoding = 'utf-8-sig')\n",
    "# all_top_up.to_csv('D:\\\\Desktop\\\\15top_up_test_'+ data_day +'.csv', encoding = 'utf-8-sig')"
   ]
  },
  {
   "cell_type": "markdown",
   "id": "9d052b32-b54d-4cf0-9030-e08a17945f4c",
   "metadata": {},
   "source": [
    "## dataframe pivot "
   ]
  },
  {
   "cell_type": "code",
   "execution_count": 9,
   "id": "b02c2500-cf3b-43a0-bc6a-e54d96615d76",
   "metadata": {
    "tags": []
   },
   "outputs": [
    {
     "data": {
      "text/html": [
       "<div>\n",
       "<style scoped>\n",
       "    .dataframe tbody tr th:only-of-type {\n",
       "        vertical-align: middle;\n",
       "    }\n",
       "\n",
       "    .dataframe tbody tr th {\n",
       "        vertical-align: top;\n",
       "    }\n",
       "\n",
       "    .dataframe thead th {\n",
       "        text-align: right;\n",
       "    }\n",
       "</style>\n",
       "<table border=\"1\" class=\"dataframe\">\n",
       "  <thead>\n",
       "    <tr style=\"text-align: right;\">\n",
       "      <th></th>\n",
       "      <th>index</th>\n",
       "      <th>订单发起时间</th>\n",
       "      <th>订单完成时间</th>\n",
       "      <th>用户id</th>\n",
       "      <th>订单号</th>\n",
       "      <th>支付类型</th>\n",
       "      <th>充值金额</th>\n",
       "    </tr>\n",
       "  </thead>\n",
       "  <tbody>\n",
       "    <tr>\n",
       "      <th>0</th>\n",
       "      <td>0</td>\n",
       "      <td>2023-09-03 23:59:49</td>\n",
       "      <td>2023-09-04 00:00:16</td>\n",
       "      <td>27390944</td>\n",
       "      <td>P2023090323594879527390944</td>\n",
       "      <td>支付宝支付</td>\n",
       "      <td>200.0</td>\n",
       "    </tr>\n",
       "    <tr>\n",
       "      <th>1</th>\n",
       "      <td>1</td>\n",
       "      <td>2023-09-03 23:59:46</td>\n",
       "      <td>2023-09-04 00:00:36</td>\n",
       "      <td>20772498</td>\n",
       "      <td>P2023090323594566720772498</td>\n",
       "      <td>支付宝支付</td>\n",
       "      <td>100.0</td>\n",
       "    </tr>\n",
       "    <tr>\n",
       "      <th>2</th>\n",
       "      <td>2</td>\n",
       "      <td>2023-09-03 23:59:32</td>\n",
       "      <td>2023-09-04 00:00:40</td>\n",
       "      <td>33699968</td>\n",
       "      <td>P2023090323593183933699968</td>\n",
       "      <td>支付宝支付</td>\n",
       "      <td>200.0</td>\n",
       "    </tr>\n",
       "    <tr>\n",
       "      <th>3</th>\n",
       "      <td>3</td>\n",
       "      <td>2023-09-03 23:59:26</td>\n",
       "      <td>2023-09-03 23:59:51</td>\n",
       "      <td>32952113</td>\n",
       "      <td>P2023090323592566332952113</td>\n",
       "      <td>支付宝支付</td>\n",
       "      <td>100.0</td>\n",
       "    </tr>\n",
       "    <tr>\n",
       "      <th>4</th>\n",
       "      <td>4</td>\n",
       "      <td>2023-09-03 23:59:07</td>\n",
       "      <td>2023-09-03 23:59:41</td>\n",
       "      <td>1128851</td>\n",
       "      <td>P202309032359066011128851</td>\n",
       "      <td>支付宝支付</td>\n",
       "      <td>200.0</td>\n",
       "    </tr>\n",
       "  </tbody>\n",
       "</table>\n",
       "</div>"
      ],
      "text/plain": [
       "   index               订单发起时间               订单完成时间      用户id  \\\n",
       "0      0  2023-09-03 23:59:49  2023-09-04 00:00:16  27390944   \n",
       "1      1  2023-09-03 23:59:46  2023-09-04 00:00:36  20772498   \n",
       "2      2  2023-09-03 23:59:32  2023-09-04 00:00:40  33699968   \n",
       "3      3  2023-09-03 23:59:26  2023-09-03 23:59:51  32952113   \n",
       "4      4  2023-09-03 23:59:07  2023-09-03 23:59:41   1128851   \n",
       "\n",
       "                          订单号   支付类型   充值金额  \n",
       "0  P2023090323594879527390944  支付宝支付  200.0  \n",
       "1  P2023090323594566720772498  支付宝支付  100.0  \n",
       "2  P2023090323593183933699968  支付宝支付  200.0  \n",
       "3  P2023090323592566332952113  支付宝支付  100.0  \n",
       "4   P202309032359066011128851  支付宝支付  200.0  "
      ]
     },
     "execution_count": 9,
     "metadata": {},
     "output_type": "execute_result"
    }
   ],
   "source": [
    "t = all_top_up.iloc[:, [0, 1, 2, 5, 9, 11]]\n",
    "t = t.reset_index()\n",
    "t.head()"
   ]
  },
  {
   "cell_type": "code",
   "execution_count": 10,
   "id": "09032857-08c0-4cca-97cd-08340aae0f81",
   "metadata": {
    "tags": []
   },
   "outputs": [
    {
     "name": "stdout",
     "output_type": "stream",
     "text": [
      "index     0\n",
      "订单发起时间    0\n",
      "订单完成时间    0\n",
      "用户id      0\n",
      "订单号       2\n",
      "支付类型      0\n",
      "充值金额      0\n",
      "dtype: int64\n",
      "<class 'pandas.core.frame.DataFrame'>\n",
      "RangeIndex: 30374 entries, 0 to 30373\n",
      "Data columns (total 7 columns):\n",
      " #   Column  Non-Null Count  Dtype  \n",
      "---  ------  --------------  -----  \n",
      " 0   index   30374 non-null  int64  \n",
      " 1   订单发起时间  30374 non-null  object \n",
      " 2   订单完成时间  30374 non-null  object \n",
      " 3   用户id    30374 non-null  int64  \n",
      " 4   订单号     30372 non-null  object \n",
      " 5   支付类型    30374 non-null  object \n",
      " 6   充值金额    30374 non-null  float64\n",
      "dtypes: float64(1), int64(2), object(4)\n",
      "memory usage: 1.6+ MB\n",
      "None\n"
     ]
    }
   ],
   "source": [
    "# 確認資料完整\n",
    "print(t.isna().sum())\n",
    "print(t.info())"
   ]
  },
  {
   "cell_type": "code",
   "execution_count": 11,
   "id": "f0b29154-7037-413b-bbee-d4471f7075af",
   "metadata": {
    "tags": []
   },
   "outputs": [
    {
     "data": {
      "text/html": [
       "<div>\n",
       "<style scoped>\n",
       "    .dataframe tbody tr th:only-of-type {\n",
       "        vertical-align: middle;\n",
       "    }\n",
       "\n",
       "    .dataframe tbody tr th {\n",
       "        vertical-align: top;\n",
       "    }\n",
       "\n",
       "    .dataframe thead th {\n",
       "        text-align: right;\n",
       "    }\n",
       "</style>\n",
       "<table border=\"1\" class=\"dataframe\">\n",
       "  <thead>\n",
       "    <tr style=\"text-align: right;\">\n",
       "      <th></th>\n",
       "      <th>index</th>\n",
       "      <th>订单发起时间</th>\n",
       "      <th>订单完成时间</th>\n",
       "      <th>用户id</th>\n",
       "      <th>订单号</th>\n",
       "      <th>支付类型</th>\n",
       "      <th>充值金额</th>\n",
       "    </tr>\n",
       "  </thead>\n",
       "  <tbody>\n",
       "    <tr>\n",
       "      <th>21625</th>\n",
       "      <td>21625</td>\n",
       "      <td>2023-09-12 22:37:10</td>\n",
       "      <td>2023-09-12 22:40:56</td>\n",
       "      <td>41033000</td>\n",
       "      <td>NaN</td>\n",
       "      <td>银行卡支付</td>\n",
       "      <td>1000.0</td>\n",
       "    </tr>\n",
       "    <tr>\n",
       "      <th>21626</th>\n",
       "      <td>21626</td>\n",
       "      <td>2023-09-12 22:35:49</td>\n",
       "      <td>2023-09-12 22:38:54</td>\n",
       "      <td>41031696</td>\n",
       "      <td>NaN</td>\n",
       "      <td>银行卡支付</td>\n",
       "      <td>2000.0</td>\n",
       "    </tr>\n",
       "  </tbody>\n",
       "</table>\n",
       "</div>"
      ],
      "text/plain": [
       "       index               订单发起时间               订单完成时间      用户id  订单号   支付类型  \\\n",
       "21625  21625  2023-09-12 22:37:10  2023-09-12 22:40:56  41033000  NaN  银行卡支付   \n",
       "21626  21626  2023-09-12 22:35:49  2023-09-12 22:38:54  41031696  NaN  银行卡支付   \n",
       "\n",
       "         充值金额  \n",
       "21625  1000.0  \n",
       "21626  2000.0  "
      ]
     },
     "execution_count": 11,
     "metadata": {},
     "output_type": "execute_result"
    }
   ],
   "source": [
    "mv = t[t.isna().values==True] # 為手動加的\n",
    "mv"
   ]
  },
  {
   "cell_type": "code",
   "execution_count": 12,
   "id": "8b741afd-7a5f-4b20-9ccc-9d9870abbe38",
   "metadata": {
    "tags": []
   },
   "outputs": [
    {
     "name": "stdout",
     "output_type": "stream",
     "text": [
      "Empty DataFrame\n",
      "Columns: [index, 订单发起时间, 订单完成时间, 用户id, 订单号, 支付类型, 充值金额]\n",
      "Index: []\n"
     ]
    },
    {
     "data": {
      "text/html": [
       "<div>\n",
       "<style scoped>\n",
       "    .dataframe tbody tr th:only-of-type {\n",
       "        vertical-align: middle;\n",
       "    }\n",
       "\n",
       "    .dataframe tbody tr th {\n",
       "        vertical-align: top;\n",
       "    }\n",
       "\n",
       "    .dataframe thead th {\n",
       "        text-align: right;\n",
       "    }\n",
       "</style>\n",
       "<table border=\"1\" class=\"dataframe\">\n",
       "  <thead>\n",
       "    <tr style=\"text-align: right;\">\n",
       "      <th></th>\n",
       "      <th>index</th>\n",
       "      <th>订单发起时间</th>\n",
       "      <th>订单完成时间</th>\n",
       "      <th>用户id</th>\n",
       "      <th>订单号</th>\n",
       "      <th>支付类型</th>\n",
       "      <th>充值金额</th>\n",
       "    </tr>\n",
       "  </thead>\n",
       "  <tbody>\n",
       "    <tr>\n",
       "      <th>21625</th>\n",
       "      <td>21625</td>\n",
       "      <td>2023-09-12 22:37:10</td>\n",
       "      <td>2023-09-12 22:40:56</td>\n",
       "      <td>41033000</td>\n",
       "      <td>NaN</td>\n",
       "      <td>银行卡支付</td>\n",
       "      <td>1000.0</td>\n",
       "    </tr>\n",
       "    <tr>\n",
       "      <th>21626</th>\n",
       "      <td>21626</td>\n",
       "      <td>2023-09-12 22:35:49</td>\n",
       "      <td>2023-09-12 22:38:54</td>\n",
       "      <td>41031696</td>\n",
       "      <td>NaN</td>\n",
       "      <td>银行卡支付</td>\n",
       "      <td>2000.0</td>\n",
       "    </tr>\n",
       "  </tbody>\n",
       "</table>\n",
       "</div>"
      ],
      "text/plain": [
       "       index               订单发起时间               订单完成时间      用户id  订单号   支付类型  \\\n",
       "21625  21625  2023-09-12 22:37:10  2023-09-12 22:40:56  41033000  NaN  银行卡支付   \n",
       "21626  21626  2023-09-12 22:35:49  2023-09-12 22:38:54  41031696  NaN  银行卡支付   \n",
       "\n",
       "         充值金额  \n",
       "21625  1000.0  \n",
       "21626  2000.0  "
      ]
     },
     "execution_count": 12,
     "metadata": {},
     "output_type": "execute_result"
    }
   ],
   "source": [
    "print(t[t.duplicated()])\n",
    "mv"
   ]
  },
  {
   "cell_type": "code",
   "execution_count": 13,
   "id": "84992fc2-a1d2-4c45-ab16-106e4f54c0da",
   "metadata": {
    "tags": []
   },
   "outputs": [],
   "source": [
    "t.drop_duplicates(inplace=True)"
   ]
  },
  {
   "cell_type": "code",
   "execution_count": 14,
   "id": "7eb8661f-f76a-4482-931a-b5f72193693f",
   "metadata": {
    "tags": []
   },
   "outputs": [
    {
     "name": "stdout",
     "output_type": "stream",
     "text": [
      "<class 'pandas.core.frame.DataFrame'>\n",
      "Int64Index: 30374 entries, 0 to 30373\n",
      "Data columns (total 7 columns):\n",
      " #   Column  Non-Null Count  Dtype  \n",
      "---  ------  --------------  -----  \n",
      " 0   index   30374 non-null  int64  \n",
      " 1   订单发起时间  30374 non-null  object \n",
      " 2   订单完成时间  30374 non-null  object \n",
      " 3   用户id    30374 non-null  int64  \n",
      " 4   订单号     30372 non-null  object \n",
      " 5   支付类型    30374 non-null  object \n",
      " 6   充值金额    30374 non-null  float64\n",
      "dtypes: float64(1), int64(2), object(4)\n",
      "memory usage: 1.9+ MB\n"
     ]
    }
   ],
   "source": [
    "t.info()"
   ]
  },
  {
   "cell_type": "code",
   "execution_count": 15,
   "id": "881a48bc-4352-490d-955a-63845b280697",
   "metadata": {
    "tags": []
   },
   "outputs": [
    {
     "name": "stdout",
     "output_type": "stream",
     "text": [
      "<class 'pandas.core.series.Series'>\n"
     ]
    }
   ],
   "source": [
    "# 以['订单完成时间']為基準\n",
    "def splitname(x):\n",
    "    x=str(x)\n",
    "    return x[0:10]\n",
    "li_tmp = t[\"订单完成时间\"]\n",
    "print(type(li_tmp))"
   ]
  },
  {
   "cell_type": "code",
   "execution_count": 16,
   "id": "7a40b6f6-4f21-4b51-bb17-5019249fd0c7",
   "metadata": {
    "tags": []
   },
   "outputs": [
    {
     "name": "stdout",
     "output_type": "stream",
     "text": [
      "<class 'pandas.core.series.Series'>\n"
     ]
    }
   ],
   "source": [
    "li_tmp = pd.Series(li_tmp)\n",
    "print(type(li_tmp))"
   ]
  },
  {
   "cell_type": "code",
   "execution_count": 17,
   "id": "8c1b229b-7d6a-4320-8abb-201360af0bdc",
   "metadata": {
    "tags": []
   },
   "outputs": [
    {
     "name": "stdout",
     "output_type": "stream",
     "text": [
      "30374\n"
     ]
    }
   ],
   "source": [
    "li_tmp = list(map(splitname,list(li_tmp)))\n",
    "print(len(li_tmp))"
   ]
  },
  {
   "cell_type": "code",
   "execution_count": 18,
   "id": "3a74135a-c9db-4a85-b51c-325356cdfc12",
   "metadata": {
    "tags": []
   },
   "outputs": [],
   "source": [
    "t[\"日期\"] = li_tmp"
   ]
  },
  {
   "cell_type": "code",
   "execution_count": 19,
   "id": "3ec1521c-b28f-456d-b731-9e7fb76d44ce",
   "metadata": {
    "tags": []
   },
   "outputs": [],
   "source": [
    "t[\"日期\"]= pd.to_datetime(t[\"日期\"])"
   ]
  },
  {
   "cell_type": "code",
   "execution_count": 20,
   "id": "f852053e-7f85-4917-84df-911324e39290",
   "metadata": {
    "tags": []
   },
   "outputs": [],
   "source": [
    "\n",
    "\n",
    "t[\"日期\"] = t[\"日期\"].apply(lambda x: x.strftime('%m-%d'))\n",
    "# t.rename(columns = {\"订单发起时间2\":\"日期\"}, inplace=True)"
   ]
  },
  {
   "cell_type": "code",
   "execution_count": 21,
   "id": "31769ec9-6bf6-4ac8-9984-15700145573f",
   "metadata": {
    "tags": []
   },
   "outputs": [],
   "source": [
    "t['用户id'] = t['用户id'].astype(str)"
   ]
  },
  {
   "cell_type": "code",
   "execution_count": 22,
   "id": "6db3f486-d65e-4d94-ae97-dc45b5339954",
   "metadata": {
    "tags": []
   },
   "outputs": [],
   "source": [
    "# t.loc[11670:11672,:] # ?? 為什麼重複項自己不見?????"
   ]
  },
  {
   "cell_type": "code",
   "execution_count": 23,
   "id": "5259650f-e32c-4e04-b197-21af50f60127",
   "metadata": {
    "tags": []
   },
   "outputs": [
    {
     "data": {
      "text/plain": [
       "array(['支付宝支付', '微信支付', 'QQ钱包', '银行卡支付', '人工支付', '云闪付'], dtype=object)"
      ]
     },
     "execution_count": 23,
     "metadata": {},
     "output_type": "execute_result"
    }
   ],
   "source": [
    "t['支付类型'].unique()"
   ]
  },
  {
   "cell_type": "code",
   "execution_count": 24,
   "id": "98d04045-194a-4faf-bc2b-4f62fcea256a",
   "metadata": {
    "tags": []
   },
   "outputs": [
    {
     "data": {
      "text/html": [
       "<div>\n",
       "<style scoped>\n",
       "    .dataframe tbody tr th:only-of-type {\n",
       "        vertical-align: middle;\n",
       "    }\n",
       "\n",
       "    .dataframe tbody tr th {\n",
       "        vertical-align: top;\n",
       "    }\n",
       "\n",
       "    .dataframe thead th {\n",
       "        text-align: right;\n",
       "    }\n",
       "</style>\n",
       "<table border=\"1\" class=\"dataframe\">\n",
       "  <thead>\n",
       "    <tr style=\"text-align: right;\">\n",
       "      <th></th>\n",
       "      <th>index</th>\n",
       "      <th>订单发起时间</th>\n",
       "      <th>订单完成时间</th>\n",
       "      <th>用户id</th>\n",
       "      <th>订单号</th>\n",
       "      <th>支付类型</th>\n",
       "      <th>充值金额</th>\n",
       "      <th>日期</th>\n",
       "    </tr>\n",
       "  </thead>\n",
       "  <tbody>\n",
       "  </tbody>\n",
       "</table>\n",
       "</div>"
      ],
      "text/plain": [
       "Empty DataFrame\n",
       "Columns: [index, 订单发起时间, 订单完成时间, 用户id, 订单号, 支付类型, 充值金额, 日期]\n",
       "Index: []"
      ]
     },
     "execution_count": 24,
     "metadata": {},
     "output_type": "execute_result"
    }
   ],
   "source": [
    "t[(t['支付类型']=='人工支付')*(t['日期']<'08-28')]"
   ]
  },
  {
   "cell_type": "code",
   "execution_count": 25,
   "id": "f399aca9-1a87-4933-ae8a-b18870780e47",
   "metadata": {
    "tags": []
   },
   "outputs": [
    {
     "data": {
      "text/html": [
       "<div>\n",
       "<style scoped>\n",
       "    .dataframe tbody tr th:only-of-type {\n",
       "        vertical-align: middle;\n",
       "    }\n",
       "\n",
       "    .dataframe tbody tr th {\n",
       "        vertical-align: top;\n",
       "    }\n",
       "\n",
       "    .dataframe thead th {\n",
       "        text-align: right;\n",
       "    }\n",
       "</style>\n",
       "<table border=\"1\" class=\"dataframe\">\n",
       "  <thead>\n",
       "    <tr style=\"text-align: right;\">\n",
       "      <th></th>\n",
       "      <th>index</th>\n",
       "      <th>订单发起时间</th>\n",
       "      <th>订单完成时间</th>\n",
       "      <th>用户id</th>\n",
       "      <th>订单号</th>\n",
       "      <th>支付类型</th>\n",
       "      <th>充值金额</th>\n",
       "      <th>日期</th>\n",
       "    </tr>\n",
       "  </thead>\n",
       "  <tbody>\n",
       "    <tr>\n",
       "      <th>169</th>\n",
       "      <td>169</td>\n",
       "      <td>2023-09-03 22:56:20</td>\n",
       "      <td>2023-09-03 22:56:20</td>\n",
       "      <td>49879756</td>\n",
       "      <td>P2023090322562000049879756</td>\n",
       "      <td>人工支付</td>\n",
       "      <td>500.0</td>\n",
       "      <td>09-03</td>\n",
       "    </tr>\n",
       "    <tr>\n",
       "      <th>180</th>\n",
       "      <td>180</td>\n",
       "      <td>2023-09-03 22:48:48</td>\n",
       "      <td>2023-09-03 22:48:48</td>\n",
       "      <td>18152352</td>\n",
       "      <td>P2023090322484827718152352</td>\n",
       "      <td>人工支付</td>\n",
       "      <td>500.0</td>\n",
       "      <td>09-03</td>\n",
       "    </tr>\n",
       "    <tr>\n",
       "      <th>436</th>\n",
       "      <td>436</td>\n",
       "      <td>2023-09-03 21:00:32</td>\n",
       "      <td>2023-09-03 21:00:32</td>\n",
       "      <td>48757746</td>\n",
       "      <td>P2023090321003179648757746</td>\n",
       "      <td>人工支付</td>\n",
       "      <td>1000.0</td>\n",
       "      <td>09-03</td>\n",
       "    </tr>\n",
       "    <tr>\n",
       "      <th>555</th>\n",
       "      <td>555</td>\n",
       "      <td>2023-09-03 20:09:36</td>\n",
       "      <td>2023-09-03 20:09:36</td>\n",
       "      <td>48757746</td>\n",
       "      <td>P2023090320093571048757746</td>\n",
       "      <td>人工支付</td>\n",
       "      <td>2000.0</td>\n",
       "      <td>09-03</td>\n",
       "    </tr>\n",
       "    <tr>\n",
       "      <th>579</th>\n",
       "      <td>579</td>\n",
       "      <td>2023-09-03 19:50:46</td>\n",
       "      <td>2023-09-03 19:50:46</td>\n",
       "      <td>27180551</td>\n",
       "      <td>P2023090319504571327180551</td>\n",
       "      <td>人工支付</td>\n",
       "      <td>2000.0</td>\n",
       "      <td>09-03</td>\n",
       "    </tr>\n",
       "    <tr>\n",
       "      <th>...</th>\n",
       "      <td>...</td>\n",
       "      <td>...</td>\n",
       "      <td>...</td>\n",
       "      <td>...</td>\n",
       "      <td>...</td>\n",
       "      <td>...</td>\n",
       "      <td>...</td>\n",
       "      <td>...</td>\n",
       "    </tr>\n",
       "    <tr>\n",
       "      <th>29979</th>\n",
       "      <td>29979</td>\n",
       "      <td>2023-09-16 02:24:42</td>\n",
       "      <td>2023-09-16 02:24:42</td>\n",
       "      <td>36085930</td>\n",
       "      <td>P2023091602244183336085930</td>\n",
       "      <td>人工支付</td>\n",
       "      <td>2000.0</td>\n",
       "      <td>09-16</td>\n",
       "    </tr>\n",
       "    <tr>\n",
       "      <th>30025</th>\n",
       "      <td>30025</td>\n",
       "      <td>2023-09-16 02:00:06</td>\n",
       "      <td>2023-09-16 02:00:06</td>\n",
       "      <td>50432765</td>\n",
       "      <td>P2023091602000643450432765</td>\n",
       "      <td>人工支付</td>\n",
       "      <td>10000.0</td>\n",
       "      <td>09-16</td>\n",
       "    </tr>\n",
       "    <tr>\n",
       "      <th>30098</th>\n",
       "      <td>30098</td>\n",
       "      <td>2023-09-16 01:28:19</td>\n",
       "      <td>2023-09-16 01:28:19</td>\n",
       "      <td>50432765</td>\n",
       "      <td>P2023091601281866650432765</td>\n",
       "      <td>人工支付</td>\n",
       "      <td>10000.0</td>\n",
       "      <td>09-16</td>\n",
       "    </tr>\n",
       "    <tr>\n",
       "      <th>30276</th>\n",
       "      <td>30276</td>\n",
       "      <td>2023-09-16 00:27:15</td>\n",
       "      <td>2023-09-16 00:27:15</td>\n",
       "      <td>5406213</td>\n",
       "      <td>P202309160027145285406213</td>\n",
       "      <td>人工支付</td>\n",
       "      <td>1000.0</td>\n",
       "      <td>09-16</td>\n",
       "    </tr>\n",
       "    <tr>\n",
       "      <th>30362</th>\n",
       "      <td>30362</td>\n",
       "      <td>2023-09-16 00:02:44</td>\n",
       "      <td>2023-09-16 00:02:44</td>\n",
       "      <td>39777257</td>\n",
       "      <td>P2023091600024414239777257</td>\n",
       "      <td>人工支付</td>\n",
       "      <td>3000.0</td>\n",
       "      <td>09-16</td>\n",
       "    </tr>\n",
       "  </tbody>\n",
       "</table>\n",
       "<p>685 rows × 8 columns</p>\n",
       "</div>"
      ],
      "text/plain": [
       "       index               订单发起时间               订单完成时间      用户id  \\\n",
       "169      169  2023-09-03 22:56:20  2023-09-03 22:56:20  49879756   \n",
       "180      180  2023-09-03 22:48:48  2023-09-03 22:48:48  18152352   \n",
       "436      436  2023-09-03 21:00:32  2023-09-03 21:00:32  48757746   \n",
       "555      555  2023-09-03 20:09:36  2023-09-03 20:09:36  48757746   \n",
       "579      579  2023-09-03 19:50:46  2023-09-03 19:50:46  27180551   \n",
       "...      ...                  ...                  ...       ...   \n",
       "29979  29979  2023-09-16 02:24:42  2023-09-16 02:24:42  36085930   \n",
       "30025  30025  2023-09-16 02:00:06  2023-09-16 02:00:06  50432765   \n",
       "30098  30098  2023-09-16 01:28:19  2023-09-16 01:28:19  50432765   \n",
       "30276  30276  2023-09-16 00:27:15  2023-09-16 00:27:15   5406213   \n",
       "30362  30362  2023-09-16 00:02:44  2023-09-16 00:02:44  39777257   \n",
       "\n",
       "                              订单号  支付类型     充值金额     日期  \n",
       "169    P2023090322562000049879756  人工支付    500.0  09-03  \n",
       "180    P2023090322484827718152352  人工支付    500.0  09-03  \n",
       "436    P2023090321003179648757746  人工支付   1000.0  09-03  \n",
       "555    P2023090320093571048757746  人工支付   2000.0  09-03  \n",
       "579    P2023090319504571327180551  人工支付   2000.0  09-03  \n",
       "...                           ...   ...      ...    ...  \n",
       "29979  P2023091602244183336085930  人工支付   2000.0  09-16  \n",
       "30025  P2023091602000643450432765  人工支付  10000.0  09-16  \n",
       "30098  P2023091601281866650432765  人工支付  10000.0  09-16  \n",
       "30276   P202309160027145285406213  人工支付   1000.0  09-16  \n",
       "30362  P2023091600024414239777257  人工支付   3000.0  09-16  \n",
       "\n",
       "[685 rows x 8 columns]"
      ]
     },
     "execution_count": 25,
     "metadata": {},
     "output_type": "execute_result"
    }
   ],
   "source": [
    "t[(t['支付类型']=='人工支付')]"
   ]
  },
  {
   "cell_type": "code",
   "execution_count": 26,
   "id": "57157fcd-5721-451f-ae02-d61731fd956a",
   "metadata": {
    "tags": []
   },
   "outputs": [
    {
     "data": {
      "text/plain": [
       "30374"
      ]
     },
     "execution_count": 26,
     "metadata": {},
     "output_type": "execute_result"
    }
   ],
   "source": [
    "len(t)"
   ]
  },
  {
   "cell_type": "code",
   "execution_count": 27,
   "id": "6b9280e6-5717-4d8f-ad1c-c3290514611f",
   "metadata": {
    "tags": []
   },
   "outputs": [],
   "source": [
    "t.to_csv('D:\\\\Desktop\\\\15top_up_test_'+ data_day +'.csv', encoding = 'utf-8-sig')"
   ]
  },
  {
   "cell_type": "code",
   "execution_count": 28,
   "id": "11d573e0-1847-4e14-b18c-5440e1ea9a9a",
   "metadata": {
    "tags": []
   },
   "outputs": [],
   "source": [
    "dul_id_test = t"
   ]
  },
  {
   "cell_type": "code",
   "execution_count": 29,
   "id": "c1555fcc-251f-4cf5-a3c7-0aef22738650",
   "metadata": {
    "tags": []
   },
   "outputs": [
    {
     "name": "stdout",
     "output_type": "stream",
     "text": [
      "5546\n"
     ]
    },
    {
     "ename": "KeyError",
     "evalue": "'用户昵称'",
     "output_type": "error",
     "traceback": [
      "\u001b[1;31m---------------------------------------------------------------------------\u001b[0m",
      "\u001b[1;31mKeyError\u001b[0m                                  Traceback (most recent call last)",
      "File \u001b[1;32m~\\anaconda3\\Lib\\site-packages\\pandas\\core\\indexes\\base.py:3802\u001b[0m, in \u001b[0;36mIndex.get_loc\u001b[1;34m(self, key, method, tolerance)\u001b[0m\n\u001b[0;32m   3801\u001b[0m \u001b[38;5;28;01mtry\u001b[39;00m:\n\u001b[1;32m-> 3802\u001b[0m     \u001b[38;5;28;01mreturn\u001b[39;00m \u001b[38;5;28mself\u001b[39m\u001b[38;5;241m.\u001b[39m_engine\u001b[38;5;241m.\u001b[39mget_loc(casted_key)\n\u001b[0;32m   3803\u001b[0m \u001b[38;5;28;01mexcept\u001b[39;00m \u001b[38;5;167;01mKeyError\u001b[39;00m \u001b[38;5;28;01mas\u001b[39;00m err:\n",
      "File \u001b[1;32m~\\anaconda3\\Lib\\site-packages\\pandas\\_libs\\index.pyx:138\u001b[0m, in \u001b[0;36mpandas._libs.index.IndexEngine.get_loc\u001b[1;34m()\u001b[0m\n",
      "File \u001b[1;32m~\\anaconda3\\Lib\\site-packages\\pandas\\_libs\\index.pyx:165\u001b[0m, in \u001b[0;36mpandas._libs.index.IndexEngine.get_loc\u001b[1;34m()\u001b[0m\n",
      "File \u001b[1;32mpandas\\_libs\\hashtable_class_helper.pxi:5745\u001b[0m, in \u001b[0;36mpandas._libs.hashtable.PyObjectHashTable.get_item\u001b[1;34m()\u001b[0m\n",
      "File \u001b[1;32mpandas\\_libs\\hashtable_class_helper.pxi:5753\u001b[0m, in \u001b[0;36mpandas._libs.hashtable.PyObjectHashTable.get_item\u001b[1;34m()\u001b[0m\n",
      "\u001b[1;31mKeyError\u001b[0m: '用户昵称'",
      "\nThe above exception was the direct cause of the following exception:\n",
      "\u001b[1;31mKeyError\u001b[0m                                  Traceback (most recent call last)",
      "Cell \u001b[1;32mIn[29], line 2\u001b[0m\n\u001b[0;32m      1\u001b[0m \u001b[38;5;28mprint\u001b[39m(\u001b[38;5;28mlen\u001b[39m(dul_id_test[\u001b[38;5;124m\"\u001b[39m\u001b[38;5;124m用户id\u001b[39m\u001b[38;5;124m\"\u001b[39m]\u001b[38;5;241m.\u001b[39munique()))\n\u001b[1;32m----> 2\u001b[0m \u001b[38;5;28mprint\u001b[39m(\u001b[38;5;28mlen\u001b[39m(dul_id_test[\u001b[38;5;124m\"\u001b[39m\u001b[38;5;124m用户昵称\u001b[39m\u001b[38;5;124m\"\u001b[39m]\u001b[38;5;241m.\u001b[39munique()))\n",
      "File \u001b[1;32m~\\anaconda3\\Lib\\site-packages\\pandas\\core\\frame.py:3807\u001b[0m, in \u001b[0;36mDataFrame.__getitem__\u001b[1;34m(self, key)\u001b[0m\n\u001b[0;32m   3805\u001b[0m \u001b[38;5;28;01mif\u001b[39;00m \u001b[38;5;28mself\u001b[39m\u001b[38;5;241m.\u001b[39mcolumns\u001b[38;5;241m.\u001b[39mnlevels \u001b[38;5;241m>\u001b[39m \u001b[38;5;241m1\u001b[39m:\n\u001b[0;32m   3806\u001b[0m     \u001b[38;5;28;01mreturn\u001b[39;00m \u001b[38;5;28mself\u001b[39m\u001b[38;5;241m.\u001b[39m_getitem_multilevel(key)\n\u001b[1;32m-> 3807\u001b[0m indexer \u001b[38;5;241m=\u001b[39m \u001b[38;5;28mself\u001b[39m\u001b[38;5;241m.\u001b[39mcolumns\u001b[38;5;241m.\u001b[39mget_loc(key)\n\u001b[0;32m   3808\u001b[0m \u001b[38;5;28;01mif\u001b[39;00m is_integer(indexer):\n\u001b[0;32m   3809\u001b[0m     indexer \u001b[38;5;241m=\u001b[39m [indexer]\n",
      "File \u001b[1;32m~\\anaconda3\\Lib\\site-packages\\pandas\\core\\indexes\\base.py:3804\u001b[0m, in \u001b[0;36mIndex.get_loc\u001b[1;34m(self, key, method, tolerance)\u001b[0m\n\u001b[0;32m   3802\u001b[0m     \u001b[38;5;28;01mreturn\u001b[39;00m \u001b[38;5;28mself\u001b[39m\u001b[38;5;241m.\u001b[39m_engine\u001b[38;5;241m.\u001b[39mget_loc(casted_key)\n\u001b[0;32m   3803\u001b[0m \u001b[38;5;28;01mexcept\u001b[39;00m \u001b[38;5;167;01mKeyError\u001b[39;00m \u001b[38;5;28;01mas\u001b[39;00m err:\n\u001b[1;32m-> 3804\u001b[0m     \u001b[38;5;28;01mraise\u001b[39;00m \u001b[38;5;167;01mKeyError\u001b[39;00m(key) \u001b[38;5;28;01mfrom\u001b[39;00m \u001b[38;5;21;01merr\u001b[39;00m\n\u001b[0;32m   3805\u001b[0m \u001b[38;5;28;01mexcept\u001b[39;00m \u001b[38;5;167;01mTypeError\u001b[39;00m:\n\u001b[0;32m   3806\u001b[0m     \u001b[38;5;66;03m# If we have a listlike key, _check_indexing_error will raise\u001b[39;00m\n\u001b[0;32m   3807\u001b[0m     \u001b[38;5;66;03m#  InvalidIndexError. Otherwise we fall through and re-raise\u001b[39;00m\n\u001b[0;32m   3808\u001b[0m     \u001b[38;5;66;03m#  the TypeError.\u001b[39;00m\n\u001b[0;32m   3809\u001b[0m     \u001b[38;5;28mself\u001b[39m\u001b[38;5;241m.\u001b[39m_check_indexing_error(key)\n",
      "\u001b[1;31mKeyError\u001b[0m: '用户昵称'"
     ]
    }
   ],
   "source": [
    "print(len(dul_id_test[\"用户id\"].unique()))\n",
    "print(len(dul_id_test[\"用户昵称\"].unique()))"
   ]
  },
  {
   "cell_type": "code",
   "execution_count": null,
   "id": "845608a5-a74f-456b-a427-c52e3cd9d50f",
   "metadata": {},
   "outputs": [],
   "source": [
    "# 合併id、暱稱字串\n",
    "dul_id_test[\"id_name\"] = dul_id_test[\"用户id\"].str.cat(dul_id_test[\"用户昵称\"], sep=',')"
   ]
  },
  {
   "cell_type": "code",
   "execution_count": null,
   "id": "2b01694b-8835-4c9d-b96a-172d513761ba",
   "metadata": {
    "tags": []
   },
   "outputs": [],
   "source": [
    "print(len(t[\"id_name\"].unique()))"
   ]
  },
  {
   "cell_type": "code",
   "execution_count": null,
   "id": "26f90929-ab71-4b1a-9e55-5b88d27a7b0d",
   "metadata": {
    "tags": []
   },
   "outputs": [],
   "source": [
    "## 有可能是1個id在一天內更改暱稱，並用不同暱稱儲值?? \n",
    "## 或是不同暱稱可以共用一個id　\n",
    "## 做pivot的時候 統一用id"
   ]
  },
  {
   "cell_type": "code",
   "execution_count": null,
   "id": "0e416faa-1254-46e1-9bd9-e3098e4627f4",
   "metadata": {
    "tags": []
   },
   "outputs": [],
   "source": [
    "dul_id_test = dul_id_test.sort_values(by=[\"日期\",\"用户id\"])"
   ]
  },
  {
   "cell_type": "code",
   "execution_count": null,
   "id": "b5f25446-b4bc-4a0d-98c1-e2efe6a0bb73",
   "metadata": {
    "tags": []
   },
   "outputs": [],
   "source": [
    "dul_id_test"
   ]
  },
  {
   "cell_type": "code",
   "execution_count": null,
   "id": "5f982d32-6bbe-450b-b58c-7ae1110b650b",
   "metadata": {
    "tags": []
   },
   "outputs": [],
   "source": [
    "print(len(dul_id_test[dul_id_test[\"日期\"]=='08-27'][\"用户id\"].unique()))\n",
    "print(len(dul_id_test[dul_id_test[\"日期\"]=='08-27'][\"用户昵称\"].unique())) "
   ]
  },
  {
   "cell_type": "code",
   "execution_count": null,
   "id": "00b2cfc3-d2de-4486-be24-558489ad05a9",
   "metadata": {
    "tags": []
   },
   "outputs": [],
   "source": [
    "print(len(dul_id_test[dul_id_test[\"日期\"]=='08-28'][\"用户id\"].unique()))\n",
    "print(len(dul_id_test[dul_id_test[\"日期\"]=='08-28'][\"用户昵称\"].unique())) "
   ]
  },
  {
   "cell_type": "code",
   "execution_count": null,
   "id": "346ad1ba-312a-497e-a45f-98d6abdd8aa0",
   "metadata": {
    "tags": []
   },
   "outputs": [],
   "source": [
    "print(len(dul_id_test[dul_id_test[\"日期\"]=='08-29'][\"用户id\"].unique()))\n",
    "print(len(dul_id_test[dul_id_test[\"日期\"]=='08-29'][\"用户昵称\"].unique())) "
   ]
  },
  {
   "cell_type": "code",
   "execution_count": null,
   "id": "036b8a99-8e63-4a8a-bd6c-f2528ef80e33",
   "metadata": {
    "tags": []
   },
   "outputs": [],
   "source": [
    "print(len(dul_id_test[dul_id_test[\"日期\"]=='08-30'][\"用户id\"].unique()))\n",
    "print(len(dul_id_test[dul_id_test[\"日期\"]=='08-30'][\"用户昵称\"].unique())) "
   ]
  },
  {
   "cell_type": "code",
   "execution_count": null,
   "id": "ce9994b2-9a3d-45ab-8074-47c882d2f5ce",
   "metadata": {
    "tags": []
   },
   "outputs": [],
   "source": [
    "print(len(dul_id_test[dul_id_test[\"日期\"]=='08-31'][\"用户id\"].unique()))\n",
    "print(len(dul_id_test[dul_id_test[\"日期\"]=='08-31'][\"用户昵称\"].unique())) "
   ]
  },
  {
   "cell_type": "code",
   "execution_count": null,
   "id": "c3b02595-a6bc-48f3-99ed-a0ef508f9fee",
   "metadata": {
    "tags": []
   },
   "outputs": [],
   "source": [
    "print(len(dul_id_test[dul_id_test[\"日期\"]=='09-01'][\"用户id\"].unique()))\n",
    "print(len(dul_id_test[dul_id_test[\"日期\"]=='09-01'][\"用户昵称\"].unique())) "
   ]
  },
  {
   "cell_type": "code",
   "execution_count": null,
   "id": "0105127e-66f6-4f17-b1bb-ec2332000bb6",
   "metadata": {
    "tags": []
   },
   "outputs": [],
   "source": [
    "print(len(dul_id_test[dul_id_test[\"日期\"]=='09-02'][\"用户id\"].unique()))\n",
    "print(len(dul_id_test[dul_id_test[\"日期\"]=='09-02'][\"用户昵称\"].unique())) "
   ]
  },
  {
   "cell_type": "code",
   "execution_count": null,
   "id": "803f5f6a-a1a5-4e33-941a-84558da26f65",
   "metadata": {
    "tags": []
   },
   "outputs": [],
   "source": [
    "dul_id_test"
   ]
  },
  {
   "cell_type": "code",
   "execution_count": null,
   "id": "29b32b4b-3863-4685-a299-ac47ddfe42ac",
   "metadata": {
    "tags": []
   },
   "outputs": [],
   "source": [
    "# 顯示不重複的id_name\n",
    "dul_id_unique = pd.unique(dul_id_test[\"id_name\"])\n",
    "dul_id_unique"
   ]
  },
  {
   "cell_type": "code",
   "execution_count": null,
   "id": "81214d3a-34ca-4bdf-ab52-83104ac58e0a",
   "metadata": {
    "tags": []
   },
   "outputs": [],
   "source": [
    "dul_id_test[dul_id_test.duplicated()]"
   ]
  },
  {
   "cell_type": "code",
   "execution_count": null,
   "id": "7e32f6c1-0754-42f3-a2b8-5a1f41677821",
   "metadata": {
    "tags": []
   },
   "outputs": [],
   "source": [
    "# 顯示重複的id_name\n",
    "if len(dul_id_test[dul_id_test.duplicated()])==0:\n",
    "    print('無重複')"
   ]
  },
  {
   "cell_type": "code",
   "execution_count": null,
   "id": "84697934-fae5-46e5-a827-0341656484b3",
   "metadata": {
    "tags": []
   },
   "outputs": [],
   "source": [
    "#dul_id_test.loc[11671:11672,:]"
   ]
  },
  {
   "cell_type": "code",
   "execution_count": null,
   "id": "862d1d70-0a21-470d-bd79-c64f68803db8",
   "metadata": {},
   "outputs": [],
   "source": []
  },
  {
   "cell_type": "markdown",
   "id": "15d8d20a-85a4-48d9-be88-4876b3f579f7",
   "metadata": {
    "tags": []
   },
   "source": [
    "# create pivot tb "
   ]
  },
  {
   "cell_type": "code",
   "execution_count": 30,
   "id": "8422b698-9e74-4141-b833-fd821a5f8bca",
   "metadata": {
    "tags": []
   },
   "outputs": [
    {
     "name": "stdout",
     "output_type": "stream",
     "text": [
      "<class 'pandas.core.frame.DataFrame'>\n",
      "Int64Index: 30374 entries, 0 to 30373\n",
      "Data columns (total 8 columns):\n",
      " #   Column  Non-Null Count  Dtype  \n",
      "---  ------  --------------  -----  \n",
      " 0   index   30374 non-null  int64  \n",
      " 1   订单发起时间  30374 non-null  object \n",
      " 2   订单完成时间  30374 non-null  object \n",
      " 3   用户id    30374 non-null  object \n",
      " 4   订单号     30372 non-null  object \n",
      " 5   支付类型    30374 non-null  object \n",
      " 6   充值金额    30374 non-null  float64\n",
      " 7   日期      30374 non-null  object \n",
      "dtypes: float64(1), int64(1), object(6)\n",
      "memory usage: 2.1+ MB\n"
     ]
    }
   ],
   "source": [
    "t.info()"
   ]
  },
  {
   "cell_type": "code",
   "execution_count": 31,
   "id": "1b0b8e32-56af-422b-90b9-ffee8b70ebab",
   "metadata": {
    "tags": []
   },
   "outputs": [],
   "source": [
    "pivot_1 = pd.pivot_table(t, index=[\"充值金额\"], columns = [\"日期\"], aggfunc={\"充值金额\": np.sum}, fill_value=0)\n",
    "#　margins=True"
   ]
  },
  {
   "cell_type": "code",
   "execution_count": 32,
   "id": "b33ae89a-97c8-43f5-90c2-1f1ad35e9b01",
   "metadata": {
    "tags": []
   },
   "outputs": [],
   "source": [
    "pivot_2 = pd.pivot_table(t, index=[\"充值金额\"], columns = [\"日期\"], aggfunc={\"充值金额\": 'count'}, fill_value=0)"
   ]
  },
  {
   "cell_type": "code",
   "execution_count": 33,
   "id": "3125a9d6-e494-41be-b11e-bcfdb05ed8c6",
   "metadata": {
    "tags": []
   },
   "outputs": [],
   "source": [
    "a = pd.DataFrame(pivot_1)"
   ]
  },
  {
   "cell_type": "code",
   "execution_count": 34,
   "id": "391f177d-f767-43eb-b514-77cc6c59fb90",
   "metadata": {
    "tags": []
   },
   "outputs": [],
   "source": [
    "b = pd.DataFrame(pivot_2)"
   ]
  },
  {
   "cell_type": "code",
   "execution_count": 35,
   "id": "cf48640e-58d8-4ce0-b0bf-7dc2a9686a08",
   "metadata": {},
   "outputs": [],
   "source": [
    "# pivot_t['mean_order'] = round(pivot_t['充值金额']/pivot_t['充值金额2'], 2)\n",
    "# pivot_t['mean_person'] = round(pivot_t['充值金额']/pivot_t['用户id'], 2)\n",
    "# pivot_t['amount_dod'] = pd.Series(pivot_t['充值金额']).pct_change().apply(lambda x: format(x, '.2%')) # 區分支付類型\n",
    "# pivot_t['order_dod'] = pd.Series(pivot_t['充值金额2']).pct_change().apply(lambda x: format(x, '.2%')) # 區分支付類型\n",
    "# pivot_t['person_dod'] = pd.Series(pivot_t['用户id']).pct_change().apply(lambda x: format(x, '.2%')) # 區分支付類型\n",
    "# pivot_t['mean_order_dod'] = pd.Series(pivot_t['mean_order']).pct_change().apply(lambda x: format(x, '.2%')) # 區分支付類型\n",
    "# pivot_t['mean_person_dod'] = pd.Series(pivot_t['mean_person']).pct_change().apply(lambda x: format(x, '.2%')) # 區分支付類型"
   ]
  },
  {
   "cell_type": "code",
   "execution_count": 36,
   "id": "562311a2-6216-4eb2-bf88-1ede1f99689d",
   "metadata": {
    "tags": []
   },
   "outputs": [],
   "source": [
    "# # 刪掉多的那天\n",
    "# d = [pivot_t.iloc[0,1]]\n",
    "# unused = pivot_t['日期'].isin(d)\n",
    "# pivot_t = pivot_t[-unused]"
   ]
  },
  {
   "cell_type": "code",
   "execution_count": 37,
   "id": "5853043f-a3dd-4bd2-af76-48d69ab7f11f",
   "metadata": {
    "tags": []
   },
   "outputs": [],
   "source": [
    "a.to_csv('D:\\\\Desktop\\\\15top_up_pivot_test_a'+ data_day +'.csv', encoding = 'utf-8-sig')"
   ]
  },
  {
   "cell_type": "code",
   "execution_count": 38,
   "id": "5d2b0441-d604-4f47-a9c7-35d5858d9d79",
   "metadata": {
    "tags": []
   },
   "outputs": [],
   "source": [
    "b.to_csv('D:\\\\Desktop\\\\15top_up_pivot_test_b'+ data_day +'.csv', encoding = 'utf-8-sig')"
   ]
  }
 ],
 "metadata": {
  "kernelspec": {
   "display_name": "Python 3 (ipykernel)",
   "language": "python",
   "name": "python3"
  },
  "language_info": {
   "codemirror_mode": {
    "name": "ipython",
    "version": 3
   },
   "file_extension": ".py",
   "mimetype": "text/x-python",
   "name": "python",
   "nbconvert_exporter": "python",
   "pygments_lexer": "ipython3",
   "version": "3.11.4"
  }
 },
 "nbformat": 4,
 "nbformat_minor": 5
}
