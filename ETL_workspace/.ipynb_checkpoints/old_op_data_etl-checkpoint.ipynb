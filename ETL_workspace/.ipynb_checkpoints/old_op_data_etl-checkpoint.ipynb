{
 "cells": [
  {
   "cell_type": "markdown",
   "id": "c269216c-c040-441e-8137-d43d36c4d5b7",
   "metadata": {},
   "source": [
    "# 每日數據統計Data ETL\n",
    "自動產出GoogleSheet與各報表、文字格式\\串接與操作google sheet api\\產生word、pdf簡報（docx、reportlab）"
   ]
  },
  {
   "cell_type": "code",
   "execution_count": 1,
   "id": "10958b58-539d-4f11-b3a6-d261f523cceb",
   "metadata": {
    "tags": []
   },
   "outputs": [],
   "source": [
    "import os\n",
    "from glob import glob #filename pattern matching module\n",
    "import xlrd\n",
    "import openpyxl \n",
    "import datetime as dt\n",
    "from datetime import datetime\n",
    "import time\n",
    "import pandas as pd\n",
    "\n",
    "from pandas import Series, DataFrame\n",
    "import numpy as np"
   ]
  },
  {
   "cell_type": "markdown",
   "id": "c0305075-3ec0-4ef5-870e-c4ef76d54a36",
   "metadata": {},
   "source": [
    "# 設定報表數據日期 = today"
   ]
  },
  {
   "cell_type": "code",
   "execution_count": 2,
   "id": "ef497aab-2c2e-4e4a-a897-4cc72ead21ef",
   "metadata": {
    "tags": []
   },
   "outputs": [],
   "source": [
    "# + 數字輸入彈跳視窗"
   ]
  },
  {
   "cell_type": "code",
   "execution_count": 3,
   "id": "ba44dcfd-171d-449a-96af-2e66184324fa",
   "metadata": {
    "tags": []
   },
   "outputs": [],
   "source": [
    "#data_date = str(np.datetime64('2023-08-01')-np.timedelta64(1,'D')) \n",
    "# data_date = np.datetime64('2023-09-19') #暫時"
   ]
  },
  {
   "cell_type": "code",
   "execution_count": 4,
   "id": "f2358737-9f71-4f1d-9d1c-ba89055d8d49",
   "metadata": {
    "tags": []
   },
   "outputs": [],
   "source": [
    "data_date = pd.DatetimeIndex(['2023-10-04'])"
   ]
  },
  {
   "cell_type": "code",
   "execution_count": 5,
   "id": "7db90ae2-8e66-4c4d-8f6e-76428822cabc",
   "metadata": {
    "tags": []
   },
   "outputs": [
    {
     "data": {
      "text/plain": [
       "array([datetime.datetime(2023, 10, 4, 0, 0)], dtype=object)"
      ]
     },
     "execution_count": 5,
     "metadata": {},
     "output_type": "execute_result"
    }
   ],
   "source": [
    "data_date.to_pydatetime()"
   ]
  },
  {
   "cell_type": "code",
   "execution_count": 6,
   "id": "e969c7cd-bfea-470b-8242-e49c7e5b02da",
   "metadata": {
    "tags": []
   },
   "outputs": [],
   "source": [
    "# 用在讀寫檔案\n",
    "date_str = data_date.astype('str')"
   ]
  },
  {
   "cell_type": "markdown",
   "id": "7feb5dbb-c317-434d-8184-9070000bd281",
   "metadata": {},
   "source": [
    "# 歸檔"
   ]
  },
  {
   "cell_type": "code",
   "execution_count": 7,
   "id": "1227510e-54a1-4e0c-9d41-c0c2b0c9e96e",
   "metadata": {
    "tags": []
   },
   "outputs": [],
   "source": [
    "# #自訂資料夾名稱\n",
    "# newdir = 'all_channel_rawdata/'+ yes_data + '/'\n",
    "# #判斷資料夾是否存在\n",
    "# if not os.path.exists(newdir):\n",
    "#     #建立資料夾\n",
    "#     os.makedirs(newdir)\n",
    "\n",
    "# 加上 將後台取得的原始資料夾 自動移到my workspace "
   ]
  },
  {
   "cell_type": "markdown",
   "id": "73aa5b31-ee0a-4e98-985f-82a8adb474c7",
   "metadata": {},
   "source": [
    "# 合併/取得原始資料"
   ]
  },
  {
   "cell_type": "markdown",
   "id": "71ba46ea-d603-493f-a561-e2f32c89eeb1",
   "metadata": {},
   "source": [
    "## 1. pre_deduction"
   ]
  },
  {
   "cell_type": "code",
   "execution_count": 8,
   "id": "7c96b602-e919-4156-9f6d-9215f0bbd488",
   "metadata": {
    "tags": []
   },
   "outputs": [
    {
     "name": "stderr",
     "output_type": "stream",
     "text": [
      "C:\\Users\\buche\\anaconda3\\Lib\\site-packages\\openpyxl\\styles\\stylesheet.py:226: UserWarning: Workbook contains no default style, apply openpyxl's default\n",
      "  warn(\"Workbook contains no default style, apply openpyxl's default\")\n",
      "C:\\Users\\buche\\AppData\\Local\\Temp\\ipykernel_7844\\782231184.py:8: FutureWarning: The frame.append method is deprecated and will be removed from pandas in a future version. Use pandas.concat instead.\n",
      "  pre_deduction = pre_deduction.append(df, ignore_index=True).sort_values(by=['渠道名称'], ignore_index=True)\n",
      "C:\\Users\\buche\\anaconda3\\Lib\\site-packages\\openpyxl\\styles\\stylesheet.py:226: UserWarning: Workbook contains no default style, apply openpyxl's default\n",
      "  warn(\"Workbook contains no default style, apply openpyxl's default\")\n",
      "C:\\Users\\buche\\AppData\\Local\\Temp\\ipykernel_7844\\782231184.py:8: FutureWarning: The frame.append method is deprecated and will be removed from pandas in a future version. Use pandas.concat instead.\n",
      "  pre_deduction = pre_deduction.append(df, ignore_index=True).sort_values(by=['渠道名称'], ignore_index=True)\n",
      "C:\\Users\\buche\\anaconda3\\Lib\\site-packages\\openpyxl\\styles\\stylesheet.py:226: UserWarning: Workbook contains no default style, apply openpyxl's default\n",
      "  warn(\"Workbook contains no default style, apply openpyxl's default\")\n",
      "C:\\Users\\buche\\AppData\\Local\\Temp\\ipykernel_7844\\782231184.py:8: FutureWarning: The frame.append method is deprecated and will be removed from pandas in a future version. Use pandas.concat instead.\n",
      "  pre_deduction = pre_deduction.append(df, ignore_index=True).sort_values(by=['渠道名称'], ignore_index=True)\n",
      "C:\\Users\\buche\\anaconda3\\Lib\\site-packages\\openpyxl\\styles\\stylesheet.py:226: UserWarning: Workbook contains no default style, apply openpyxl's default\n",
      "  warn(\"Workbook contains no default style, apply openpyxl's default\")\n",
      "C:\\Users\\buche\\AppData\\Local\\Temp\\ipykernel_7844\\782231184.py:8: FutureWarning: The frame.append method is deprecated and will be removed from pandas in a future version. Use pandas.concat instead.\n",
      "  pre_deduction = pre_deduction.append(df, ignore_index=True).sort_values(by=['渠道名称'], ignore_index=True)\n",
      "C:\\Users\\buche\\anaconda3\\Lib\\site-packages\\openpyxl\\styles\\stylesheet.py:226: UserWarning: Workbook contains no default style, apply openpyxl's default\n",
      "  warn(\"Workbook contains no default style, apply openpyxl's default\")\n",
      "C:\\Users\\buche\\AppData\\Local\\Temp\\ipykernel_7844\\782231184.py:8: FutureWarning: The frame.append method is deprecated and will be removed from pandas in a future version. Use pandas.concat instead.\n",
      "  pre_deduction = pre_deduction.append(df, ignore_index=True).sort_values(by=['渠道名称'], ignore_index=True)\n",
      "C:\\Users\\buche\\anaconda3\\Lib\\site-packages\\openpyxl\\styles\\stylesheet.py:226: UserWarning: Workbook contains no default style, apply openpyxl's default\n",
      "  warn(\"Workbook contains no default style, apply openpyxl's default\")\n",
      "C:\\Users\\buche\\AppData\\Local\\Temp\\ipykernel_7844\\782231184.py:8: FutureWarning: The frame.append method is deprecated and will be removed from pandas in a future version. Use pandas.concat instead.\n",
      "  pre_deduction = pre_deduction.append(df, ignore_index=True).sort_values(by=['渠道名称'], ignore_index=True)\n"
     ]
    }
   ],
   "source": [
    "# 未處理的每日扣量「前」原始資料\n",
    "files_path = glob(\"C:\\\\Users\\\\buche\\\\Desktop\\\\travail_workspace\\\\ETL_workspace\\\\all_channel_rawdata\\\\\" + date_str.all() + \"\\\\pre_deduction\\\\channel_*.xlsx\")\n",
    "# files_path = glob(\"D:\\\\Desktop\\\\travail_workspace\\\\ETL_workspace\\\\all_channel_rawdata\\\\\" + date_str.all() + \"\\\\pre_deduction\\\\channel_*.xlsx\")\n",
    "\n",
    "pre_deduction = pd.DataFrame()\n",
    "for file in files_path:\n",
    "    df = pd.read_excel(file, engine='openpyxl')\n",
    "    pre_deduction = pre_deduction.append(df, ignore_index=True).sort_values(by=['渠道名称'], ignore_index=True)\n",
    "\n",
    "    \n",
    "# pre_deduction.to_csv('D:\\\\Desktop\\\\travail_workspace\\\\ETL_workspace\\\\all_channel_rawdata\\\\' + date_str.all() +'\\\\'+ date_str.all() +'_pre.csv', encoding = 'utf-8-sig') \n",
    "pre_deduction.to_csv('C:\\\\Users\\\\buche\\\\Desktop\\\\travail_workspace\\\\ETL_workspace\\\\all_channel_rawdata\\\\' + date_str.all() +'\\\\'+ date_str.all() +'_pre.csv', encoding = 'utf-8-sig') "
   ]
  },
  {
   "cell_type": "code",
   "execution_count": 9,
   "id": "72ecbc2d-0a47-4552-98bf-4120bb5d526a",
   "metadata": {
    "tags": []
   },
   "outputs": [
    {
     "name": "stderr",
     "output_type": "stream",
     "text": [
      "C:\\Users\\buche\\anaconda3\\Lib\\site-packages\\openpyxl\\styles\\stylesheet.py:226: UserWarning: Workbook contains no default style, apply openpyxl's default\n",
      "  warn(\"Workbook contains no default style, apply openpyxl's default\")\n",
      "C:\\Users\\buche\\AppData\\Local\\Temp\\ipykernel_7844\\81711952.py:9: FutureWarning: The frame.append method is deprecated and will be removed from pandas in a future version. Use pandas.concat instead.\n",
      "  post_deduction = post_deduction.append(df, ignore_index=True).sort_values(by=['渠道名称'], ignore_index=True)\n",
      "C:\\Users\\buche\\anaconda3\\Lib\\site-packages\\openpyxl\\styles\\stylesheet.py:226: UserWarning: Workbook contains no default style, apply openpyxl's default\n",
      "  warn(\"Workbook contains no default style, apply openpyxl's default\")\n",
      "C:\\Users\\buche\\AppData\\Local\\Temp\\ipykernel_7844\\81711952.py:9: FutureWarning: The frame.append method is deprecated and will be removed from pandas in a future version. Use pandas.concat instead.\n",
      "  post_deduction = post_deduction.append(df, ignore_index=True).sort_values(by=['渠道名称'], ignore_index=True)\n",
      "C:\\Users\\buche\\anaconda3\\Lib\\site-packages\\openpyxl\\styles\\stylesheet.py:226: UserWarning: Workbook contains no default style, apply openpyxl's default\n",
      "  warn(\"Workbook contains no default style, apply openpyxl's default\")\n",
      "C:\\Users\\buche\\AppData\\Local\\Temp\\ipykernel_7844\\81711952.py:9: FutureWarning: The frame.append method is deprecated and will be removed from pandas in a future version. Use pandas.concat instead.\n",
      "  post_deduction = post_deduction.append(df, ignore_index=True).sort_values(by=['渠道名称'], ignore_index=True)\n",
      "C:\\Users\\buche\\anaconda3\\Lib\\site-packages\\openpyxl\\styles\\stylesheet.py:226: UserWarning: Workbook contains no default style, apply openpyxl's default\n",
      "  warn(\"Workbook contains no default style, apply openpyxl's default\")\n",
      "C:\\Users\\buche\\AppData\\Local\\Temp\\ipykernel_7844\\81711952.py:9: FutureWarning: The frame.append method is deprecated and will be removed from pandas in a future version. Use pandas.concat instead.\n",
      "  post_deduction = post_deduction.append(df, ignore_index=True).sort_values(by=['渠道名称'], ignore_index=True)\n",
      "C:\\Users\\buche\\anaconda3\\Lib\\site-packages\\openpyxl\\styles\\stylesheet.py:226: UserWarning: Workbook contains no default style, apply openpyxl's default\n",
      "  warn(\"Workbook contains no default style, apply openpyxl's default\")\n",
      "C:\\Users\\buche\\AppData\\Local\\Temp\\ipykernel_7844\\81711952.py:9: FutureWarning: The frame.append method is deprecated and will be removed from pandas in a future version. Use pandas.concat instead.\n",
      "  post_deduction = post_deduction.append(df, ignore_index=True).sort_values(by=['渠道名称'], ignore_index=True)\n",
      "C:\\Users\\buche\\anaconda3\\Lib\\site-packages\\openpyxl\\styles\\stylesheet.py:226: UserWarning: Workbook contains no default style, apply openpyxl's default\n",
      "  warn(\"Workbook contains no default style, apply openpyxl's default\")\n",
      "C:\\Users\\buche\\AppData\\Local\\Temp\\ipykernel_7844\\81711952.py:9: FutureWarning: The frame.append method is deprecated and will be removed from pandas in a future version. Use pandas.concat instead.\n",
      "  post_deduction = post_deduction.append(df, ignore_index=True).sort_values(by=['渠道名称'], ignore_index=True)\n"
     ]
    }
   ],
   "source": [
    "# 未處理的每日扣量「後」原始資料\n",
    "\n",
    "files_path = glob(\"C:\\\\Users\\\\buche\\\\Desktop\\\\travail_workspace\\\\ETL_workspace\\\\all_channel_rawdata\\\\\" + date_str.all() + \"\\\\post_deduction\\\\channel_*.xlsx\")\n",
    "# files_path = glob(\"D:\\\\Desktop\\\\travail_workspace\\\\ETL_workspace\\\\all_channel_rawdata\\\\\" + date_str.all() + \"\\\\post_deduction\\\\channel_*.xlsx\")\n",
    "\n",
    "post_deduction = pd.DataFrame()\n",
    "for file in files_path:\n",
    "    df = pd.read_excel(file, engine='openpyxl')\n",
    "    post_deduction = post_deduction.append(df, ignore_index=True).sort_values(by=['渠道名称'], ignore_index=True)\n",
    "\n",
    "# post_deduction.to_csv('D:\\\\Desktop\\\\travail_workspace\\\\ETL_workspace\\\\all_channel_rawdata\\\\' + date_str.all() +'\\\\'+ date_str.all() +'_post.csv', encoding = 'utf-8-sig') \n",
    "post_deduction.to_csv('C:\\\\Users\\\\buche\\\\Desktop\\\\travail_workspace\\\\ETL_workspace\\\\all_channel_rawdata\\\\' + date_str.all() +'\\\\'+ date_str.all() +'_post.csv', encoding = 'utf-8-sig') "
   ]
  },
  {
   "cell_type": "code",
   "execution_count": 10,
   "id": "e286b379-74ed-44b2-9c66-02cc02d37af2",
   "metadata": {
    "tags": []
   },
   "outputs": [],
   "source": [
    "# +彈跳視窗選擇後台數據統計 或  渠道報表 if..."
   ]
  },
  {
   "cell_type": "markdown",
   "id": "4807948e-6c0b-48b4-87c0-fde931b786e1",
   "metadata": {
    "tags": []
   },
   "source": [
    "# for op_report"
   ]
  },
  {
   "cell_type": "markdown",
   "id": "6bcdc4fa-d400-4bc8-bc26-12ffda96cbfc",
   "metadata": {},
   "source": [
    "## 1. merge pre / post table "
   ]
  },
  {
   "cell_type": "code",
   "execution_count": 11,
   "id": "11e66b00-69dd-4aad-b0f7-7591a1a660cf",
   "metadata": {
    "tags": []
   },
   "outputs": [],
   "source": [
    "pre = pre_deduction\n",
    "post = post_deduction"
   ]
  },
  {
   "cell_type": "code",
   "execution_count": 12,
   "id": "d6e8cdb1-523a-472b-ae5a-c25346d08c00",
   "metadata": {
    "tags": []
   },
   "outputs": [
    {
     "name": "stdout",
     "output_type": "stream",
     "text": [
      "233\n"
     ]
    }
   ],
   "source": [
    "# 列出 pre 活躍用戶不等於0 的渠道名稱\n",
    "filt = pre['活跃用户数']!=0\n",
    "namelist = pre.loc[filt, '渠道名称'].values.tolist()\n",
    "print(len(namelist))\n",
    "# 排除 活跃用户数=0 的渠道\n",
    "pre = pre[pre['活跃用户数']!=0]"
   ]
  },
  {
   "cell_type": "code",
   "execution_count": 13,
   "id": "c3abc800-e22b-4c67-844f-c588ae1039ab",
   "metadata": {
    "tags": []
   },
   "outputs": [
    {
     "name": "stderr",
     "output_type": "stream",
     "text": [
      "C:\\Users\\buche\\AppData\\Local\\Temp\\ipykernel_7844\\451184659.py:5: FutureWarning: The frame.append method is deprecated and will be removed from pandas in a future version. Use pandas.concat instead.\n",
      "  g = g.append(a, ignore_index=True)\n"
     ]
    }
   ],
   "source": [
    "# 根據 pre有的渠道名稱篩出 post表\n",
    "g = pd.DataFrame()\n",
    "for i in namelist:\n",
    "    a = post[post['渠道名称'].apply(lambda x: x == i)]\n",
    "    g = g.append(a, ignore_index=True)"
   ]
  },
  {
   "cell_type": "code",
   "execution_count": 14,
   "id": "97ba7f80-e1b8-4a6d-a27f-ce169f9a31cf",
   "metadata": {
    "tags": []
   },
   "outputs": [
    {
     "name": "stdout",
     "output_type": "stream",
     "text": [
      "True\n"
     ]
    }
   ],
   "source": [
    "print(len(g)==len(pre)) "
   ]
  },
  {
   "cell_type": "code",
   "execution_count": 15,
   "id": "b0889138-c600-4992-8e55-4e6d04f7cafd",
   "metadata": {
    "tags": []
   },
   "outputs": [],
   "source": [
    "# 以g的新增注册用户数 成為 pre的扣量後註冊\n",
    "pre.insert(5, column='扣量后注册', value=g['新增注册用户数'].values) "
   ]
  },
  {
   "cell_type": "code",
   "execution_count": 16,
   "id": "d9b1d588-d483-48d0-8793-2f80c1ec3fdb",
   "metadata": {
    "tags": []
   },
   "outputs": [],
   "source": [
    "ch_sheet = pre.reset_index()"
   ]
  },
  {
   "cell_type": "markdown",
   "id": "f3009533-f0b7-437c-b8fd-380147026d80",
   "metadata": {},
   "source": [
    "## 2. 新增報表所需欄位"
   ]
  },
  {
   "cell_type": "code",
   "execution_count": 17,
   "id": "391823b3-8cd9-47d5-ad98-b557ad8c2e5a",
   "metadata": {
    "tags": []
   },
   "outputs": [
    {
     "data": {
      "text/plain": [
       "Index(['index', '统计日期', '渠道ID', '渠道名称', '活跃用户数', '新增注册用户数', '扣量后注册', '充值人数',\n",
       "       '新增会员数', '总充值金额', '直推充值金额', '提现金额', '购买会员金额', '安卓购买会员金额', 'ios购买会员金额',\n",
       "       'h5购买会员金额', '直推购买会员金额', '邀请购买会员金额', '内容付费金额', '打赏收入', '游戏消耗金额', '邀请返利',\n",
       "       '营收', '次日留存', '三日留存', '7日留存', 'cpa单价', 'cpa收益', 'cps占比', 'cps收益', '毛利率',\n",
       "       '日活付费率', '新增付费率', '二次付费率', 'arpu', 'arppu'],\n",
       "      dtype='object')"
      ]
     },
     "execution_count": 17,
     "metadata": {},
     "output_type": "execute_result"
    }
   ],
   "source": [
    "ch_sheet.columns"
   ]
  },
  {
   "cell_type": "markdown",
   "id": "632c17ea-2e6f-4203-b5df-7f43fb97f175",
   "metadata": {},
   "source": [
    "### ['單價']"
   ]
  },
  {
   "cell_type": "code",
   "execution_count": 18,
   "id": "aba09fc9-74c8-4b68-8784-3848ba50de41",
   "metadata": {
    "tags": []
   },
   "outputs": [],
   "source": [
    "ch_sheet.insert(4, column='单价', value=2)"
   ]
  },
  {
   "cell_type": "markdown",
   "id": "e8659e30-3dec-4acf-a7c0-abb35f683d33",
   "metadata": {},
   "source": [
    "### ['扣量％数']\n",
    "#### 改google api讀取"
   ]
  },
  {
   "cell_type": "code",
   "execution_count": 19,
   "id": "f7f44cf1-ce58-4615-8817-5ebef4d1d180",
   "metadata": {
    "tags": []
   },
   "outputs": [],
   "source": [
    "# 讀入扣量比例參照表\n",
    "de_percentage = pd.read_excel(\"C:\\\\Users\\\\buche\\\\Desktop\\\\travail_workspace\\\\ETL_workspace\\\\all_channel_rawdata\\\\扣量%数.xlsx\")\n",
    "# de_percentage = pd.read_excel(\"D:\\\\Desktop\\\\travail_workspace\\\\ETL_workspace\\\\all_channel_rawdata\\\\扣量%数.xlsx\")"
   ]
  },
  {
   "cell_type": "code",
   "execution_count": 20,
   "id": "17df3e42-ddf9-4695-9136-f4afced05f28",
   "metadata": {
    "tags": []
   },
   "outputs": [],
   "source": [
    "de_percentage['百分比'] = de_percentage['百分比'].apply(lambda x: format(x, '.0%'))"
   ]
  },
  {
   "cell_type": "code",
   "execution_count": 21,
   "id": "a109e90d-5bdb-45b0-98c9-0e01384ce958",
   "metadata": {
    "tags": []
   },
   "outputs": [],
   "source": [
    "# 根據渠道名填入扣量比例\n",
    "ch_sheet = ch_sheet.merge(de_percentage[['渠道名称', '百分比']], how='left', on='渠道名称').rename(columns={'百分比': '扣量％数'})"
   ]
  },
  {
   "cell_type": "code",
   "execution_count": 22,
   "id": "51be83a4-9861-40ad-abff-33e4f725c6f3",
   "metadata": {
    "collapsed": true,
    "jupyter": {
     "outputs_hidden": true
    },
    "tags": []
   },
   "outputs": [],
   "source": [
    "# type(ch_sheet['扣量％数'])\n",
    "# ch_sheet['扣量％数'] = ch_sheet['扣量％数'].apply(lambda x: format(x, '.0%'))"
   ]
  },
  {
   "cell_type": "markdown",
   "id": "fc82a0c6-05dc-4b63-b57e-806f07b53a86",
   "metadata": {},
   "source": [
    "### 官網、代理的['扣量后注册']要等於 0 "
   ]
  },
  {
   "cell_type": "code",
   "execution_count": 23,
   "id": "0eaa7492-ef4d-4ea5-ac9b-af0ba83c8220",
   "metadata": {
    "tags": []
   },
   "outputs": [],
   "source": [
    "ch_sheet.set_index(\"渠道名称\", inplace=True)\n",
    "ch_sheet.at[\"代理邀请\",\"扣量后注册\"]=0\n",
    "ch_sheet.at[\"官网渠道\",\"扣量后注册\"]=0\n",
    "ch_sheet = ch_sheet.reset_index()"
   ]
  },
  {
   "cell_type": "markdown",
   "id": "c3b46229-5ede-4065-9303-23ae1cef2e82",
   "metadata": {},
   "source": [
    "### ['昨日安装']['对比昨日']['昨日同比率']"
   ]
  },
  {
   "cell_type": "code",
   "execution_count": 24,
   "id": "f6995677-caa8-4b7b-a589-f341ba76125f",
   "metadata": {
    "tags": []
   },
   "outputs": [],
   "source": [
    "# 匯入所有完成後的統計總表all_completed_data\n",
    "# 改google api讀取\n",
    "all_completed_data = pd.read_excel(\"C:\\\\Users\\\\buche\\\\Desktop\\\\travail_workspace\\\\ETL_workspace\\\\all_channel_rawdata\\\\all_completed_data.xlsx\", sheet_name = None) # \"data\" are all sheets as a dictionary # 指定sheet_name=None （否則預設僅會讀取第一個sheet），才會讀取多個sheet內容，並組成Dictionary型態\n",
    "# all_completed_data = pd.read_excel(\"D:\\\\Desktop\\\\travail_workspace\\\\ETL_workspace\\\\all_channel_rawdata\\\\all_completed_data.xlsx\", sheet_name = None) "
   ]
  },
  {
   "cell_type": "code",
   "execution_count": 25,
   "id": "655efb19-dac4-48c8-b17e-dc17ef8c07e2",
   "metadata": {
    "collapsed": true,
    "jupyter": {
     "outputs_hidden": true
    },
    "tags": []
   },
   "outputs": [
    {
     "data": {
      "text/plain": [
       "['9月总表',\n",
       " '9月个别渠道分析（官网）',\n",
       " '9月总数据',\n",
       " '8月总表',\n",
       " '8月个别渠道分析（官网）',\n",
       " '7月总表',\n",
       " '8月总数据',\n",
       " '7月总数据',\n",
       " '7月个别渠道分析（官网）',\n",
       " '6月总表',\n",
       " '6月总数据',\n",
       " '6月个别渠道分析（官网）',\n",
       " '5月总表',\n",
       " '5月个别渠道分析（官网）',\n",
       " '5月总数据',\n",
       " '4月总表',\n",
       " '4月个别渠道分析（官网）',\n",
       " '4月总数据',\n",
       " '3月总表',\n",
       " '3月个别渠道分析（官网）',\n",
       " '3月总数据',\n",
       " '2月总表',\n",
       " '2月个别渠道分析（官网）',\n",
       " '2月总数据',\n",
       " '1月总表',\n",
       " '1月个别渠道分析（官网）',\n",
       " '1月总数据',\n",
       " '新增统计']"
      ]
     },
     "execution_count": 25,
     "metadata": {},
     "output_type": "execute_result"
    }
   ],
   "source": [
    "pd.ExcelFile(\"C:\\\\Users\\\\buche\\\\Desktop\\\\travail_workspace\\\\ETL_workspace\\\\all_channel_rawdata\\\\all_completed_data.xlsx\").sheet_names\n",
    "# pd.ExcelFile(\"D:\\\\Desktop\\\\travail_workspace\\\\ETL_workspace\\\\all_channel_rawdata\\\\all_completed_data.xlsx\").sheet_names\n",
    "\n",
    "# see all sheet names"
   ]
  },
  {
   "cell_type": "code",
   "execution_count": 26,
   "id": "afc95a5d-7471-4c62-a3f5-25bd04a4c8be",
   "metadata": {
    "tags": []
   },
   "outputs": [
    {
     "ename": "AttributeError",
     "evalue": "'NoneType' object has no attribute 'rename'",
     "output_type": "error",
     "traceback": [
      "\u001b[1;31m---------------------------------------------------------------------------\u001b[0m",
      "\u001b[1;31mAttributeError\u001b[0m                            Traceback (most recent call last)",
      "Cell \u001b[1;32mIn[26], line 9\u001b[0m\n\u001b[0;32m      6\u001b[0m \u001b[38;5;28;01melse\u001b[39;00m:\n\u001b[0;32m      7\u001b[0m     google_all_ch \u001b[38;5;241m=\u001b[39m all_completed_data\u001b[38;5;241m.\u001b[39mget(b)\n\u001b[1;32m----> 9\u001b[0m google_all_ch \u001b[38;5;241m=\u001b[39m google_all_ch\u001b[38;5;241m.\u001b[39mrename(columns\u001b[38;5;241m=\u001b[39m{\u001b[38;5;124m'\u001b[39m\u001b[38;5;124m新增注册用户数\u001b[39m\u001b[38;5;124m'\u001b[39m: \u001b[38;5;124m'\u001b[39m\u001b[38;5;124mAS昨日安装\u001b[39m\u001b[38;5;124m'\u001b[39m})\n",
      "\u001b[1;31mAttributeError\u001b[0m: 'NoneType' object has no attribute 'rename'"
     ]
    }
   ],
   "source": [
    "# 取當月個別渠道(如果日期為月1號，要參照\"當月-1\"的表)\n",
    "c = (pd.Series((data_date.month-1).astype('str'))+ '月个别渠道分析（官网）')[0]\n",
    "b = (pd.Series((data_date.month).astype('str'))+ '月个别渠道分析（官网）')[0]\n",
    "if data_date.day==1:\n",
    "    google_all_ch = all_completed_data.get(c)\n",
    "else:\n",
    "    google_all_ch = all_completed_data.get(b)\n",
    "    \n",
    "google_all_ch = google_all_ch.rename(columns={'新增注册用户数': 'AS昨日安装'})"
   ]
  },
  {
   "cell_type": "code",
   "execution_count": null,
   "id": "3749dc06-fa62-4080-ba49-020ad600aa87",
   "metadata": {
    "tags": []
   },
   "outputs": [],
   "source": [
    "# 取當月總表(如果日期為當月1號，要參照\"當月-1\"的總表)\n",
    "g = (pd.Series((data_date.month-1).astype('str'))+ '月总表')[0]\n",
    "h = (pd.Series((data_date.month).astype('str'))+ '月总表')[0]\n",
    "if data_date.day==1:\n",
    "    google_final_sheet = all_completed_data.get(g)\n",
    "else:\n",
    "    google_final_sheet = all_completed_data.get(h)\n",
    "google_final_sheet.columns    "
   ]
  },
  {
   "cell_type": "code",
   "execution_count": null,
   "id": "edb9d288-17c5-41c2-8bfb-be7400258c9e",
   "metadata": {
    "collapsed": true,
    "jupyter": {
     "outputs_hidden": true
    },
    "tags": []
   },
   "outputs": [],
   "source": [
    "# 取當月7月总数据(如果日期為月1號，要參照\"當月-1\"的7月总数据)\n",
    "i = (pd.Series((data_date.month-1).astype('str'))+ '月总数据')[0]\n",
    "j = (pd.Series((data_date.month).astype('str'))+ '月总数据')[0]\n",
    "if data_date.day==1:\n",
    "    google_dod_sheet = all_completed_data.get(i)\n",
    "else:\n",
    "    google_dod_sheet = all_completed_data.get(j)\n",
    "google_dod_sheet \n"
   ]
  },
  {
   "cell_type": "code",
   "execution_count": null,
   "id": "80c2ea31-8c70-4ae6-b8e7-a6acca127ff8",
   "metadata": {
    "tags": []
   },
   "outputs": [],
   "source": [
    "# 昨天日期\n",
    "yest_data = pd.Series(data_date-np.timedelta64(1,'D'))[0].strftime('%Y-%m-%d')"
   ]
  },
  {
   "cell_type": "code",
   "execution_count": null,
   "id": "a923bc19-863e-45eb-9b31-ec97903f8f4c",
   "metadata": {
    "tags": []
   },
   "outputs": [],
   "source": [
    "yest_ch = google_all_ch[google_all_ch['统计日期'] == yest_data]"
   ]
  },
  {
   "cell_type": "code",
   "execution_count": null,
   "id": "e44a7ea2-601d-410e-a6cd-e334949b528b",
   "metadata": {
    "tags": []
   },
   "outputs": [],
   "source": [
    "ch_sheet = ch_sheet.merge(yest_ch[['渠道名称', 'as昨日安装']], how='left', on='渠道名称')"
   ]
  },
  {
   "cell_type": "code",
   "execution_count": null,
   "id": "766b82c7-5111-4b9a-b261-fe5b60df8086",
   "metadata": {
    "tags": []
   },
   "outputs": [],
   "source": [
    "ch_sheet = ch_sheet.rename(columns={'as昨日安装':'昨日安装'})"
   ]
  },
  {
   "cell_type": "code",
   "execution_count": null,
   "id": "39f0622d-9449-4c09-8cb0-0890e89efdf1",
   "metadata": {
    "tags": []
   },
   "outputs": [],
   "source": [
    "print(ch_sheet[\"昨日安装\"].isna().sum())"
   ]
  },
  {
   "cell_type": "code",
   "execution_count": null,
   "id": "f6fa05a1-498f-4541-bec5-54c4741d2dc0",
   "metadata": {
    "tags": []
   },
   "outputs": [],
   "source": [
    "# 更改[\"昨日安装\"]屬性, nan, inf -> 0\n",
    "\n",
    "print(ch_sheet[\"昨日安装\"].isna().sum())\n",
    "\n",
    "if ch_sheet[\"昨日安装\"].isna().sum() > 0:\n",
    "    ch_sheet[\"昨日安装\"] = ch_sheet[\"昨日安装\"].fillna(0)\n",
    " \n",
    "ch_sheet[\"昨日安装\"] = ch_sheet[\"昨日安装\"].astype(int)\n",
    "print(ch_sheet['昨日安装'])# dtype: int32"
   ]
  },
  {
   "cell_type": "code",
   "execution_count": null,
   "id": "fa173cfb-ade4-4910-b7b9-b3ec3b1f95ab",
   "metadata": {
    "tags": []
   },
   "outputs": [],
   "source": [
    "ch_sheet[\"对比昨日\"] = ch_sheet[\"新增注册用户数\"]-ch_sheet[\"昨日安装\"]\n",
    "print(ch_sheet['对比昨日']) # dtype: int64\n",
    "print(ch_sheet[\"对比昨日\"].isna().sum())\n",
    "# ch_sheet[\"对比昨日\"] = ch_sheet[\"对比昨日\"].fillna(0)"
   ]
  },
  {
   "cell_type": "code",
   "execution_count": null,
   "id": "93c11294-381d-4531-9d31-b28ef98fbd8b",
   "metadata": {
    "tags": []
   },
   "outputs": [],
   "source": [
    "ch_sheet['昨日同比率'] = ch_sheet['新增注册用户数'] / ch_sheet['昨日安装']"
   ]
  },
  {
   "cell_type": "code",
   "execution_count": null,
   "id": "46e74fde-7b48-48f6-9a66-57c8aa695c04",
   "metadata": {
    "tags": []
   },
   "outputs": [],
   "source": [
    "# nan, inf -> 0\n",
    "if (ch_sheet['昨日同比率']==np.inf).sum() > 0:\n",
    "    ch_sheet.loc[(ch_sheet['昨日同比率']==np.inf), '昨日同比率'] = 0\n",
    "if ch_sheet[\"昨日同比率\"].isna().sum() > 0:\n",
    "    ch_sheet['昨日同比率'] = ch_sheet['昨日同比率'].fillna(0)"
   ]
  },
  {
   "cell_type": "code",
   "execution_count": null,
   "id": "18ee1b27-9303-4686-b5c7-efdbd4b581d3",
   "metadata": {
    "tags": []
   },
   "outputs": [],
   "source": [
    "# 調整百分比格式->str\n",
    "ch_sheet['昨日同比率'] = ch_sheet['昨日同比率'].apply(lambda x: format(x, '.0%'))"
   ]
  },
  {
   "cell_type": "code",
   "execution_count": null,
   "id": "b14b24a2-613b-4608-95ef-24145c174269",
   "metadata": {
    "tags": []
   },
   "outputs": [],
   "source": [
    "print(ch_sheet['昨日同比率']) # dtype: object"
   ]
  },
  {
   "cell_type": "markdown",
   "id": "6489bd37-defd-4fe3-b324-c4cdb61aa1ce",
   "metadata": {},
   "source": [
    "### ['扣量前費用']['扣量后费用']"
   ]
  },
  {
   "cell_type": "code",
   "execution_count": null,
   "id": "8e70cc52-900f-455f-b0d5-77f5f1286bed",
   "metadata": {
    "tags": []
   },
   "outputs": [],
   "source": [
    "ch_sheet['扣量前费用'] = ch_sheet['单价']* ch_sheet['新增注册用户数']\n",
    "ch_sheet['扣量后费用'] = ch_sheet['单价']* ch_sheet['扣量后注册']"
   ]
  },
  {
   "cell_type": "markdown",
   "id": "2118d65c-0e72-4b1f-8c15-3ed4eb1b87d7",
   "metadata": {},
   "source": [
    "### 代理邀请、官网渠道的['扣量前費用']['扣量后费用']設為0"
   ]
  },
  {
   "cell_type": "code",
   "execution_count": null,
   "id": "337b2de2-0844-404e-8154-61e0c888f73d",
   "metadata": {
    "tags": []
   },
   "outputs": [],
   "source": [
    "ch_sheet.set_index(\"渠道名称\", inplace=True)\n",
    "ch_sheet.at[\"代理邀请\",\"扣量前费用\"]=0\n",
    "ch_sheet.at[\"官网渠道\",\"扣量前费用\"]=0\n",
    "ch_sheet.at[\"代理邀请\",\"扣量后费用\"]=0\n",
    "ch_sheet.at[\"官网渠道\",\"扣量后费用\"]=0\n",
    "ch_sheet = ch_sheet.reset_index()"
   ]
  },
  {
   "cell_type": "code",
   "execution_count": null,
   "id": "9d0d7d7a-07f1-4486-b110-755435d9b3a2",
   "metadata": {
    "tags": []
   },
   "outputs": [],
   "source": [
    "ch_sheet['扣量前费用'].tail()"
   ]
  },
  {
   "cell_type": "markdown",
   "id": "9a19e812-0c40-4d70-b679-9f92822e8a23",
   "metadata": {},
   "source": [
    "### ['提现金额']"
   ]
  },
  {
   "cell_type": "code",
   "execution_count": null,
   "id": "21078085-dd44-455a-a040-905d2cc1d64e",
   "metadata": {},
   "outputs": [],
   "source": [
    "print(ch_sheet[\"提现金额\"].isna().sum())\n",
    "# ch_sheet[\"提现金额\"] = ch_sheet[\"提现金额\"].fillna(0)\n",
    "ch_sheet[\"提现金额\"] = ch_sheet[\"提现金额\"].astype(int)\n",
    "ch_sheet[\"提现金额\"]"
   ]
  },
  {
   "cell_type": "markdown",
   "id": "58b156f9-1159-4cb6-8a1f-7b9f7d6ff6d3",
   "metadata": {},
   "source": [
    "### ['渠道营收']"
   ]
  },
  {
   "cell_type": "code",
   "execution_count": null,
   "id": "dba3ebed-497b-487a-bb28-66764aca26f0",
   "metadata": {
    "tags": []
   },
   "outputs": [],
   "source": [
    "ch_sheet['渠道营收'] = ch_sheet['总充值金额']-ch_sheet['提现金额']-ch_sheet['扣量后费用']"
   ]
  },
  {
   "cell_type": "code",
   "execution_count": null,
   "id": "a3b0689a-af3e-412b-87c8-e1bb8226c141",
   "metadata": {
    "tags": []
   },
   "outputs": [],
   "source": [
    "print(ch_sheet[\"渠道营收\"].isna().sum())\n",
    "# ch_sheet[\"渠道营收\"] = ch_sheet[\"渠道营收\"].fillna(0)"
   ]
  },
  {
   "cell_type": "code",
   "execution_count": null,
   "id": "b763bef6-134d-4b15-b5ef-11489fe0aa75",
   "metadata": {
    "tags": []
   },
   "outputs": [],
   "source": [
    "ch_sheet[\"渠道营收\"]"
   ]
  },
  {
   "cell_type": "markdown",
   "id": "338f2fdf-b7f4-444e-ab65-b38de7e3c0ad",
   "metadata": {},
   "source": [
    "### ['渠道部总体扣量'] 統計總表之用"
   ]
  },
  {
   "cell_type": "code",
   "execution_count": null,
   "id": "ac7eaa59-4d4f-4a01-8a94-e3422742a840",
   "metadata": {
    "collapsed": true,
    "jupyter": {
     "outputs_hidden": true
    },
    "tags": []
   },
   "outputs": [],
   "source": [
    "amount_deduction = (ch_sheet['新增注册用户数'] - ch_sheet['扣量后注册']).to_frame()\n",
    "amount_deduction"
   ]
  },
  {
   "cell_type": "markdown",
   "id": "d5e207e2-57a1-4a96-a470-fb24babba6c1",
   "metadata": {
    "tags": []
   },
   "source": [
    "### 製作google sheet每日統計各表單"
   ]
  },
  {
   "cell_type": "code",
   "execution_count": null,
   "id": "a5b7393d-13ba-4e7f-86e4-f68353067f23",
   "metadata": {
    "tags": []
   },
   "outputs": [],
   "source": [
    "ch_sheet.shape"
   ]
  },
  {
   "cell_type": "code",
   "execution_count": null,
   "id": "4da6db29-3631-4b83-bc7d-79f99c576f52",
   "metadata": {
    "tags": []
   },
   "outputs": [],
   "source": [
    "# ch_sheet 包含每日的扣量前後、新增計算的欄位\n",
    "ch_sheet.columns"
   ]
  },
  {
   "cell_type": "code",
   "execution_count": null,
   "id": "cf0fb78a-5686-41d3-892f-1ca0df4b5012",
   "metadata": {},
   "outputs": [],
   "source": [
    "# ch_sheet.to_csv('C:\\\\Users\\\\buche\\\\Desktop\\\\travail_workspace\\\\ETL_workspace\\\\all_channel_rawdata\\\\'+ data_date +'_ch_sheet.csv', encoding = 'utf-8-sig')\n",
    "# ch_sheet.to_csv('D:\\\\Desktop\\\\travail_workspace\\\\ETL_workspace\\\\all_channel_rawdata\\\\'+ data_date +'_ch_sheet.csv', encoding = 'utf-8-sig')"
   ]
  },
  {
   "cell_type": "markdown",
   "id": "3313018c-0d69-4c92-9056-8fe9fc037566",
   "metadata": {
    "tags": []
   },
   "source": [
    "#### 1. sheet_A = 總表"
   ]
  },
  {
   "cell_type": "code",
   "execution_count": null,
   "id": "681f59ae-d809-4c12-a023-c948687271b7",
   "metadata": {
    "collapsed": true,
    "jupyter": {
     "outputs_hidden": true
    },
    "tags": []
   },
   "outputs": [],
   "source": [
    "# import 昨日總表 （計算dod欄位）\n",
    "google_final_sheet"
   ]
  },
  {
   "cell_type": "code",
   "execution_count": null,
   "id": "6d318a12-06cd-408d-98f7-8c40ac908e09",
   "metadata": {
    "collapsed": true,
    "jupyter": {
     "outputs_hidden": true
    },
    "tags": []
   },
   "outputs": [],
   "source": [
    "date_range = pd.date_range(past_1month, data_date, freq = \"1D\")\n",
    "# date_range = pd.date_range(past_30days, today, freq = \"1D\") # 月報用\n",
    "date_range = [date_range.strftime('%Y-%m-%d') for date_range in date_range]\n",
    "print(date_range)"
   ]
  },
  {
   "cell_type": "code",
   "execution_count": null,
   "id": "f90ef34e-be8b-4106-b63f-c5caf19b34c8",
   "metadata": {},
   "outputs": [],
   "source": [
    "ch_record1_ytd = ch_record1_ytd[ch_record1_ytd['统计日期']==yest_data] "
   ]
  },
  {
   "cell_type": "code",
   "execution_count": null,
   "id": "771ada44-c5a4-41c6-9e08-2a4f20f5d826",
   "metadata": {
    "tags": []
   },
   "outputs": [],
   "source": [
    "ch_record1_ytd"
   ]
  },
  {
   "cell_type": "code",
   "execution_count": null,
   "id": "ebe7a3dd-8a15-4b33-8945-bca9e8830868",
   "metadata": {
    "tags": []
   },
   "outputs": [],
   "source": [
    "use_col = ch_record1_ytd.columns.tolist()"
   ]
  },
  {
   "cell_type": "code",
   "execution_count": null,
   "id": "40a1d2d5-3538-4ed2-8459-bc2140ac935b",
   "metadata": {
    "tags": []
   },
   "outputs": [],
   "source": [
    "ch_record1_td = pd.DataFrame(columns=ch_record1_ytd.columns.tolist(), index = range(1, 31))"
   ]
  },
  {
   "cell_type": "code",
   "execution_count": null,
   "id": "3410af7f-573f-4311-bd16-b9527fafcb59",
   "metadata": {
    "tags": []
   },
   "outputs": [],
   "source": [
    "ch_record1_td"
   ]
  },
  {
   "cell_type": "code",
   "execution_count": null,
   "id": "6e7ac9d0-bd1f-4bca-b085-7f5e4d7bee06",
   "metadata": {
    "tags": []
   },
   "outputs": [],
   "source": [
    "ch_record1_td.iloc[0, 0]=data_date"
   ]
  },
  {
   "cell_type": "code",
   "execution_count": null,
   "id": "5d3dd52f-3160-4c05-bfad-def6ec9c6291",
   "metadata": {
    "tags": []
   },
   "outputs": [],
   "source": [
    "data_date"
   ]
  },
  {
   "cell_type": "code",
   "execution_count": null,
   "id": "fc41fac7-75d4-406f-94ff-1eb06fbd52cc",
   "metadata": {
    "tags": []
   },
   "outputs": [],
   "source": [
    "sheet_A_col = google_final_sheet.columns"
   ]
  },
  {
   "cell_type": "code",
   "execution_count": null,
   "id": "ada71ba5-9b3c-44ce-8c62-ba99a7d9b1bb",
   "metadata": {
    "tags": []
   },
   "outputs": [],
   "source": [
    "# import每日統計表\n",
    "daily_stats = pd.read_excel('C:\\\\Users\\\\buche\\\\Desktop\\\\travail_workspace\\\\ETL_workspace\\\\all_channel_rawdata\\\\' + date_str.all() + '\\\\daily_stats.xlsx', sheet_name = [0, '每日统计数据'])\n",
    "# 注意讀取方法：The default value for argument sheet_name is Sheet1, not None. If you use sheet_name=None pandas reads all worksheets, and returns a dictionary with sheet names as keys, and dataframes as values. "
   ]
  },
  {
   "cell_type": "code",
   "execution_count": null,
   "id": "a67be7ef-8027-4d81-9cdf-234572903268",
   "metadata": {
    "tags": []
   },
   "outputs": [],
   "source": [
    "daily_stats.values().to_list"
   ]
  },
  {
   "cell_type": "code",
   "execution_count": null,
   "id": "e321fca5-8ba0-4e9f-9b51-26cc90191ebc",
   "metadata": {
    "tags": []
   },
   "outputs": [],
   "source": [
    "#  Q :dict轉df"
   ]
  },
  {
   "cell_type": "code",
   "execution_count": null,
   "id": "9242f2dd-2881-4756-9304-b5dd341ea45e",
   "metadata": {
    "tags": []
   },
   "outputs": [],
   "source": [
    "daily_stats = np.array(daily_stats)"
   ]
  },
  {
   "cell_type": "code",
   "execution_count": null,
   "id": "55b59fee-d67e-4642-a936-961c1b73a2cf",
   "metadata": {
    "tags": []
   },
   "outputs": [],
   "source": [
    "# 展開dict\n",
    "mydict = pd.DataFrame(daily_stats, index=[0])"
   ]
  },
  {
   "cell_type": "code",
   "execution_count": null,
   "id": "7f7e8e87-8ded-426a-932f-f8c4f4cf3c68",
   "metadata": {
    "tags": []
   },
   "outputs": [],
   "source": [
    "mydict "
   ]
  },
  {
   "cell_type": "code",
   "execution_count": null,
   "id": "0dc73552-9037-46ec-a4be-afbdeda5a7be",
   "metadata": {
    "tags": []
   },
   "outputs": [],
   "source": [
    "print(type(daily_stats))"
   ]
  },
  {
   "cell_type": "code",
   "execution_count": null,
   "id": "9dd28d74-ffc0-46a8-aae7-21cae87e1e5f",
   "metadata": {
    "tags": []
   },
   "outputs": [],
   "source": [
    "daily_stats = [daily_stats]\n",
    "daily_stats"
   ]
  },
  {
   "cell_type": "code",
   "execution_count": null,
   "id": "0bbe3d33-d6ea-4845-bfc4-242f8ef2c0c5",
   "metadata": {
    "tags": []
   },
   "outputs": [],
   "source": [
    "pd.DataFrame.from_dict(daily_stats, orient='index')"
   ]
  },
  {
   "cell_type": "code",
   "execution_count": null,
   "id": "0696726b-a31b-4c50-a2d9-dcb550b41852",
   "metadata": {
    "collapsed": true,
    "jupyter": {
     "outputs_hidden": true
    },
    "tags": []
   },
   "outputs": [],
   "source": [
    "print(pd.DataFrame.from_dict(daily_stats, orient='index').rename(columns={0:'Qunatity'}))"
   ]
  },
  {
   "cell_type": "code",
   "execution_count": null,
   "id": "016181e7-d1b8-4e59-8513-83bb917d1aad",
   "metadata": {
    "collapsed": true,
    "jupyter": {
     "outputs_hidden": true
    },
    "tags": []
   },
   "outputs": [],
   "source": [
    "# daily_stats = pd.DataFrame(daily_stats)"
   ]
  },
  {
   "cell_type": "markdown",
   "id": "7ea316ee-4dda-43bd-8919-bb33559b0cb8",
   "metadata": {
    "jp-MarkdownHeadingCollapsed": true,
    "tags": []
   },
   "source": [
    "#### 2. sheet_B = 個別渠道分析（官網）"
   ]
  },
  {
   "cell_type": "code",
   "execution_count": null,
   "id": "9f4ce88e-735b-4055-8ec8-bd3d3790589e",
   "metadata": {
    "tags": []
   },
   "outputs": [],
   "source": [
    "sheet_B = ch_sheet[['统计日期', '渠道ID', '渠道名称', '单价', '活跃用户数', '新增注册用户数', '扣量后注册', '扣量％数', '昨日安装', '对比昨日', '昨日同比率', '扣量前费用', '扣量后费用', '渠道营收', '充值人数', '新增会员数', '总充值金额', '直推充值金额', '提现金额', '购买会员金额', '安卓购买会员金额', 'ios购买会员金额', 'h5购买会员金额', '直推购买会员金额', '邀请购买会员金额', '内容付费金额', '打赏收入', '游戏消耗金额', '邀请返利', '次日留存', '三日留存', '7日留存', 'cpa单价', 'cpa收益', 'cps占比', 'cps收益', '毛利率', '日活付费率', '新增付费率', '二次付费率', 'arpu', 'arppu']]"
   ]
  },
  {
   "cell_type": "code",
   "execution_count": null,
   "id": "84f53fe7-e9bd-40f2-a697-a8abb2cdd8d7",
   "metadata": {
    "tags": []
   },
   "outputs": [],
   "source": [
    "# 刪除測試渠道 \n",
    "# 0904不刪除測試渠道\n",
    "# for i in test_ch:\n",
    "#     print(sheet_B[sheet_B['渠道名称'].str.contains(i)==True])  \n",
    "# test_ch = ['7239渠道', '7247渠道']\n",
    "# ch_del = sheet_B['渠道名称'].isin(test_ch)\n",
    "# sheet_B = sheet_B[-ch_del]"
   ]
  },
  {
   "cell_type": "markdown",
   "id": "a3e05b15-7d6b-42a2-b20a-2c8c05c51524",
   "metadata": {
    "tags": []
   },
   "source": [
    "#### ['渠道營收']比對有誤 (官網)"
   ]
  },
  {
   "cell_type": "code",
   "execution_count": null,
   "id": "22acc81b-e5c6-4dca-b53d-5710900db5d2",
   "metadata": {
    "tags": []
   },
   "outputs": [],
   "source": [
    "# 檢查：sheet_B 是否符合以前completed_data\n",
    "# 從完成表單拉數據分析表比對\n",
    "completed_data = google_all_ch[google_all_ch['统计日期']== data_date]\n",
    "completed_data['昨日同比率'] = completed_data['昨日同比率'].apply(lambda x: format(x, '.0%'))\n",
    "completed_data['扣量％数'] = completed_data['扣量％数'].apply(lambda x: format(x, '.0%'))\n",
    " # set_index('') 以'渠道名称'當作PK來比對兩df的值，避免merge時報錯\n",
    "completed_data = completed_data.set_index('渠道名称')\n",
    "test_data = sheet_B.set_index('渠道名称')\n",
    "\n",
    "# 用merge找相異的值，how='outer', 顯示比對結果欄位indicator=True\n",
    "cpr_result = test_data.merge(completed_data, on='渠道名称',how='outer', indicator=True)\n",
    "# '_merge'='both'代表兩df的各渠道值皆相同\n",
    "cpr_result[cpr_result['_merge']=='both']\n",
    "print((cpr_result['_merge']=='both').value_counts((cpr_result['_merge']=='both').all()))\n",
    "print((cpr_result['_merge']!='both').value_counts((cpr_result['_merge']!='both').all()))\n",
    "\n",
    "# # 重設index\n",
    "# sheet_B = sheet_B.rename_axis('index').reset_index().rename(columns={'index':'渠道名称'})\n",
    "\n",
    "# # 檢查：統計不同渠道的個數要等於1（不重複）\n",
    "# # len(sheet_B.渠道ID.unique())\n",
    "# cal_unique = pd.DataFrame.from_dict(sheet_B.value_counts(sheet_B.渠道ID).to_dict(), orient = 'index').rename(columns={0:'count'})\n",
    "# print((cal_unique['count']!=1).value_counts((cal_unique['count']!=1).all()))"
   ]
  },
  {
   "cell_type": "code",
   "execution_count": null,
   "id": "e8fad9c7-f1b2-45e7-b278-901fcce6eb6d",
   "metadata": {
    "tags": []
   },
   "outputs": [],
   "source": [
    "test_data = test_data.reset_index()"
   ]
  },
  {
   "cell_type": "code",
   "execution_count": null,
   "id": "2a2ddd8b-512c-4c71-bba2-4dc75924f72a",
   "metadata": {
    "tags": []
   },
   "outputs": [],
   "source": [
    "col_li = list(test_data.columns.values)"
   ]
  },
  {
   "cell_type": "code",
   "execution_count": null,
   "id": "fdf6f989-3027-45d6-91b0-d620a49aa568",
   "metadata": {
    "tags": []
   },
   "outputs": [],
   "source": [
    "completed_data = completed_data.reset_index()\n",
    "completed_data.columns = col_li"
   ]
  },
  {
   "cell_type": "code",
   "execution_count": null,
   "id": "0b58cb3c-bbb1-4eb0-8534-31545d671fd5",
   "metadata": {
    "tags": []
   },
   "outputs": [],
   "source": [
    "# ifsame_df = (test_data == completed_data).all()\n",
    "# ifsame_df"
   ]
  },
  {
   "cell_type": "code",
   "execution_count": null,
   "id": "dd188730-906e-4020-80ca-5a510a449d5f",
   "metadata": {
    "tags": []
   },
   "outputs": [],
   "source": [
    "test_data.equals(completed_data)"
   ]
  },
  {
   "cell_type": "code",
   "execution_count": null,
   "id": "e07e0fcc-10b1-4328-9a18-36609c2de9cf",
   "metadata": {
    "tags": []
   },
   "outputs": [],
   "source": [
    "sheet_B.to_csv('C:\\\\Users\\\\buche\\\\Desktop\\\\travail_workspace\\\\ETL_workspace\\\\all_channel_rawdata\\\\'+ data_date +'_sheet_B.csv', index=False, encoding = 'utf-8-sig')\n",
    "# sheet_B.to_csv('D:\\\\Desktop\\\\travail_workspace\\\\ETL_workspace\\\\all_channel_rawdata\\\\'+ data_date +'_sheet_B.csv', index=False, encoding = 'utf-8-sig')"
   ]
  },
  {
   "cell_type": "markdown",
   "id": "57952510-a99f-4282-b617-8ebadcfd41b4",
   "metadata": {
    "jp-MarkdownHeadingCollapsed": true,
    "tags": []
   },
   "source": [
    "#### 3. sheet_C  = 總數據"
   ]
  },
  {
   "cell_type": "code",
   "execution_count": null,
   "id": "47f268f6-e091-4a28-8ab8-4297e302356e",
   "metadata": {},
   "outputs": [],
   "source": []
  },
  {
   "cell_type": "code",
   "execution_count": null,
   "id": "054f3e85-bd68-431f-a8a5-48830f2729de",
   "metadata": {},
   "outputs": [],
   "source": []
  },
  {
   "cell_type": "code",
   "execution_count": null,
   "id": "dac99cba-f47b-4899-8e2f-f548baf88318",
   "metadata": {},
   "outputs": [],
   "source": []
  },
  {
   "cell_type": "markdown",
   "id": "938297f5-00d5-4708-879d-ed575c22720c",
   "metadata": {
    "jp-MarkdownHeadingCollapsed": true,
    "tags": []
   },
   "source": [
    "#### 4. sheet_D  = 渠道數據簡報"
   ]
  },
  {
   "cell_type": "code",
   "execution_count": null,
   "id": "539b1d4c-b5d5-4cfa-a03b-bba9ac33ba47",
   "metadata": {},
   "outputs": [],
   "source": []
  },
  {
   "cell_type": "code",
   "execution_count": null,
   "id": "12642086-7eaa-47e1-b5c1-70f87555f2bf",
   "metadata": {},
   "outputs": [],
   "source": []
  },
  {
   "cell_type": "code",
   "execution_count": null,
   "id": "57d70039-7957-410c-97dc-d4b6b493d3f9",
   "metadata": {},
   "outputs": [],
   "source": []
  },
  {
   "cell_type": "code",
   "execution_count": null,
   "id": "a7b1c840-2ba6-41ac-bdc3-b00ae73085c9",
   "metadata": {},
   "outputs": [],
   "source": []
  },
  {
   "cell_type": "markdown",
   "id": "e9e38e6a-fb5b-4685-9161-35740e84ea90",
   "metadata": {
    "tags": []
   },
   "source": [
    "#### 5. sheet_E  = 渠道統計"
   ]
  },
  {
   "cell_type": "code",
   "execution_count": null,
   "id": "3dff5e17-dca4-445e-9728-be8eda7d5d33",
   "metadata": {},
   "outputs": [],
   "source": []
  },
  {
   "cell_type": "code",
   "execution_count": null,
   "id": "d4e056ec-08a6-412f-88bc-882c2467df9e",
   "metadata": {},
   "outputs": [],
   "source": []
  },
  {
   "cell_type": "code",
   "execution_count": null,
   "id": "1d5a58f7-1c90-4a3e-a735-37ddd56e5689",
   "metadata": {},
   "outputs": [],
   "source": []
  },
  {
   "cell_type": "code",
   "execution_count": null,
   "id": "7899bc92-ee6f-4979-af35-5d6362a1f61c",
   "metadata": {},
   "outputs": [],
   "source": []
  },
  {
   "cell_type": "code",
   "execution_count": null,
   "id": "e2e0f8fb-4c35-4d93-ad63-415033d53794",
   "metadata": {},
   "outputs": [],
   "source": []
  },
  {
   "cell_type": "markdown",
   "id": "7ba8dea6-015e-4ce7-a6d2-798ccc2f81e4",
   "metadata": {},
   "source": [
    "## 計算每日的渠道營收"
   ]
  },
  {
   "cell_type": "code",
   "execution_count": null,
   "id": "952d6d4e-0e9b-4235-9712-f53b91a69e04",
   "metadata": {
    "tags": []
   },
   "outputs": [],
   "source": []
  },
  {
   "cell_type": "code",
   "execution_count": null,
   "id": "ca258655-8e71-40e7-8e4d-92b4d81e1cb6",
   "metadata": {},
   "outputs": [],
   "source": [
    "print(google_final_sheet[google_final_sheet['统计日期']=='加总数据'])\n",
    "google_final_sheet.drop(index=31, inplace=True)\n",
    "google_final_sheet['统计日期'] = pd.to_datetime(google_final_sheet['统计日期'], format='%Y-%m-%d')"
   ]
  },
  {
   "cell_type": "code",
   "execution_count": null,
   "id": "5a301250-22f5-460b-9343-81c3f1e7fc2e",
   "metadata": {
    "tags": []
   },
   "outputs": [],
   "source": [
    "ch_renew_col = [\"统计日期\", \"扣量后注册\", '扣量前费用', '扣量后费用', '渠道营收']"
   ]
  },
  {
   "cell_type": "code",
   "execution_count": null,
   "id": "a4bd0d90-0fde-4041-8bb1-63d91fca9d46",
   "metadata": {
    "tags": []
   },
   "outputs": [],
   "source": [
    "# ch_renew = pd.DataFrame(columns=ch_renew_col)\n",
    "# ch_renew.to_csv('C:\\\\Users\\\\buche\\\\Desktop\\\\travail_workspace\\\\ETL_workspace\\\\all_channel_rawdata\\\\renew_final_sheet.csv', encoding = 'utf-8-sig')"
   ]
  },
  {
   "cell_type": "code",
   "execution_count": null,
   "id": "d00ce4ef-c854-47ef-829d-f18221fbc7dd",
   "metadata": {
    "tags": []
   },
   "outputs": [],
   "source": [
    "ch_renew = pd.read_csv('C:\\\\Users\\\\buche\\\\Desktop\\\\travail_workspace\\\\ETL_workspace\\\\all_channel_rawdata\\\\renew_final_sheet.csv', encoding = 'utf-8-sig')"
   ]
  },
  {
   "cell_type": "code",
   "execution_count": null,
   "id": "6ab5a674-1c5c-4f6e-9b1f-db101aa3afdf",
   "metadata": {
    "collapsed": true,
    "jupyter": {
     "outputs_hidden": true
    },
    "tags": []
   },
   "outputs": [],
   "source": [
    "ch_renew"
   ]
  },
  {
   "cell_type": "code",
   "execution_count": null,
   "id": "63106b57-2147-4245-9b28-80be1b20b38d",
   "metadata": {
    "tags": []
   },
   "outputs": [],
   "source": [
    "google_final_sheet[google_final_sheet['统计日期']==data_date]['总充值金额']"
   ]
  },
  {
   "cell_type": "code",
   "execution_count": null,
   "id": "85136a46-f328-4da5-95e8-196c2ce8e5f0",
   "metadata": {
    "tags": []
   },
   "outputs": [],
   "source": [
    " google_final_sheet[google_final_sheet['统计日期']==data_date]['提现（元）']"
   ]
  },
  {
   "cell_type": "code",
   "execution_count": null,
   "id": "919503d4-cb58-4550-aec8-60fb7758ad96",
   "metadata": {
    "tags": []
   },
   "outputs": [],
   "source": [
    "ch_rev = (google_final_sheet[google_final_sheet['统计日期']==data_date]['总充值金额']) - (google_final_sheet[google_final_sheet['统计日期']==data_date]['提现（元）']) - (sheet_B[\"扣量后费用\"].sum())"
   ]
  },
  {
   "cell_type": "code",
   "execution_count": null,
   "id": "e790e74e-f0e2-4ef4-b3d4-577fa2eff7a0",
   "metadata": {
    "tags": []
   },
   "outputs": [],
   "source": [
    "ch_rev"
   ]
  },
  {
   "cell_type": "code",
   "execution_count": null,
   "id": "e5a1ee00-5943-44f8-a513-385c6e7f28e6",
   "metadata": {
    "tags": []
   },
   "outputs": [],
   "source": [
    "renew_append = [data_date, sheet_B[\"扣量后注册\"].sum(), sheet_B[\"扣量前费用\"].sum(), sheet_B[\"扣量后费用\"].sum(), float(ch_rev)]\n",
    "renew_append"
   ]
  },
  {
   "cell_type": "code",
   "execution_count": null,
   "id": "eae418fd-e9ec-47ad-9a78-4b92a5c5c992",
   "metadata": {
    "tags": []
   },
   "outputs": [],
   "source": [
    "renew_append = pd.DataFrame(renew_append).T"
   ]
  },
  {
   "cell_type": "code",
   "execution_count": null,
   "id": "c8d255e3-961b-4848-86fd-a9feb3d961b3",
   "metadata": {
    "tags": []
   },
   "outputs": [],
   "source": [
    "renew_append.columns = ch_renew_col "
   ]
  },
  {
   "cell_type": "code",
   "execution_count": null,
   "id": "a5de4123-d0af-4b5e-a7cb-b35b41f04cee",
   "metadata": {
    "tags": []
   },
   "outputs": [],
   "source": [
    "renew_append"
   ]
  },
  {
   "cell_type": "code",
   "execution_count": null,
   "id": "0d7b26b6-7b4c-471d-bb62-48ca29e86e90",
   "metadata": {
    "tags": []
   },
   "outputs": [],
   "source": [
    "ch_renew = ch_renew.append(renew_append)"
   ]
  },
  {
   "cell_type": "code",
   "execution_count": null,
   "id": "afd63140-9d46-4efa-af9a-10df7bfed091",
   "metadata": {
    "tags": []
   },
   "outputs": [],
   "source": [
    "ch_renew.to_csv('C:\\\\Users\\\\buche\\\\Desktop\\\\travail_workspace\\\\ETL_workspace\\\\all_channel_rawdata\\\\renew_final_sheet.csv', encoding = 'utf-8-sig')"
   ]
  },
  {
   "cell_type": "code",
   "execution_count": null,
   "id": "4faa1ddf-79c3-41f0-902e-980cc2f9bec3",
   "metadata": {},
   "outputs": [],
   "source": []
  }
 ],
 "metadata": {
  "kernelspec": {
   "display_name": "Python 3 (ipykernel)",
   "language": "python",
   "name": "python3"
  },
  "language_info": {
   "codemirror_mode": {
    "name": "ipython",
    "version": 3
   },
   "file_extension": ".py",
   "mimetype": "text/x-python",
   "name": "python",
   "nbconvert_exporter": "python",
   "pygments_lexer": "ipython3",
   "version": "3.11.3"
  }
 },
 "nbformat": 4,
 "nbformat_minor": 5
}
