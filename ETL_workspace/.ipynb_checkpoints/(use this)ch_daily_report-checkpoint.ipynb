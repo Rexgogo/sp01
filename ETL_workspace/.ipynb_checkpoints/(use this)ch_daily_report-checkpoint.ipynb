{
 "cells": [
  {
   "cell_type": "code",
   "execution_count": 1,
   "id": "bd2e456f-410c-4275-92c6-c8032d3b4767",
   "metadata": {
    "tags": []
   },
   "outputs": [],
   "source": [
    "import os\n",
    "from glob import glob #filename pattern matching module\n",
    "import xlrd\n",
    "import openpyxl \n",
    "import datetime as dt\n",
    "from datetime import datetime\n",
    "import time\n",
    "import pandas as pd\n",
    "import numpy as np\n",
    "import matplotlib.pyplot as plt\n",
    "from matplotlib.pyplot import figure\n",
    "import seaborn as sns"
   ]
  },
  {
   "cell_type": "code",
   "execution_count": 2,
   "id": "9c8b7702-8a01-4ccf-8455-f2af96d54101",
   "metadata": {
    "tags": []
   },
   "outputs": [],
   "source": [
    "cwd = os.getcwd()"
   ]
  },
  {
   "cell_type": "markdown",
   "id": "d0d87b60-46b9-4e24-9843-e7feadbf46a0",
   "metadata": {},
   "source": [
    "## 1. 在這改日期"
   ]
  },
  {
   "cell_type": "code",
   "execution_count": 3,
   "id": "fb289465-454c-484f-b69d-b1f546f9f630",
   "metadata": {
    "tags": []
   },
   "outputs": [],
   "source": [
    "# the day of analysis\n",
    "today = str(np.datetime64('2023-11-07')) \n",
    "past_7days = str(np.datetime64(today)-np.timedelta64(6,'D'))\n",
    "# past_30days = str(np.datetime64(today)-np.timedelta64(27,'D')) # 週報用"
   ]
  },
  {
   "cell_type": "code",
   "execution_count": 4,
   "id": "8aa3ac70-56c8-4d7b-885a-5fba6d6553c1",
   "metadata": {
    "tags": []
   },
   "outputs": [
    {
     "name": "stdout",
     "output_type": "stream",
     "text": [
      "['2023-11-01', '2023-11-02', '2023-11-03', '2023-11-04', '2023-11-05', '2023-11-06', '2023-11-07']\n",
      "7\n"
     ]
    }
   ],
   "source": [
    "date_range = pd.date_range(past_7days, today, freq = \"1D\")\n",
    "# date_range = pd.date_range(past_30days, today, freq = \"1D\") # 週報用\n",
    "date_range = [date_range.strftime('%Y-%m-%d') for date_range in date_range]\n",
    "print(date_range)\n",
    "print(len(date_range))"
   ]
  },
  {
   "cell_type": "markdown",
   "id": "05ad16bf-d7fd-44aa-b3cf-2ac6d9b27cec",
   "metadata": {},
   "source": [
    "## 2. 這裡讀取資料夾的所有日期檔案。改成自己的路徑"
   ]
  },
  {
   "cell_type": "code",
   "execution_count": 5,
   "id": "21446956-98b6-4a3f-8130-d20ea79295b0",
   "metadata": {
    "tags": []
   },
   "outputs": [
    {
     "name": "stdout",
     "output_type": "stream",
     "text": [
      "[['C:\\\\Users\\\\buche\\\\Desktop\\\\travail_workspace\\\\ETL_workspace\\\\all_channel_rawdata\\\\2023-11-01\\\\pre_deduction\\\\channel_1698887815822.xlsx', 'C:\\\\Users\\\\buche\\\\Desktop\\\\travail_workspace\\\\ETL_workspace\\\\all_channel_rawdata\\\\2023-11-01\\\\pre_deduction\\\\channel_1698887825660.xlsx', 'C:\\\\Users\\\\buche\\\\Desktop\\\\travail_workspace\\\\ETL_workspace\\\\all_channel_rawdata\\\\2023-11-01\\\\pre_deduction\\\\channel_1698887829715.xlsx', 'C:\\\\Users\\\\buche\\\\Desktop\\\\travail_workspace\\\\ETL_workspace\\\\all_channel_rawdata\\\\2023-11-01\\\\pre_deduction\\\\channel_1698887833322.xlsx', 'C:\\\\Users\\\\buche\\\\Desktop\\\\travail_workspace\\\\ETL_workspace\\\\all_channel_rawdata\\\\2023-11-01\\\\pre_deduction\\\\channel_1698887838578.xlsx', 'C:\\\\Users\\\\buche\\\\Desktop\\\\travail_workspace\\\\ETL_workspace\\\\all_channel_rawdata\\\\2023-11-01\\\\pre_deduction\\\\channel_1698887849781.xlsx', 'C:\\\\Users\\\\buche\\\\Desktop\\\\travail_workspace\\\\ETL_workspace\\\\all_channel_rawdata\\\\2023-11-01\\\\pre_deduction\\\\channel_1698887919867.xlsx']]\n",
      "[['C:\\\\Users\\\\buche\\\\Desktop\\\\travail_workspace\\\\ETL_workspace\\\\all_channel_rawdata\\\\2023-11-01\\\\pre_deduction\\\\channel_1698887815822.xlsx', 'C:\\\\Users\\\\buche\\\\Desktop\\\\travail_workspace\\\\ETL_workspace\\\\all_channel_rawdata\\\\2023-11-01\\\\pre_deduction\\\\channel_1698887825660.xlsx', 'C:\\\\Users\\\\buche\\\\Desktop\\\\travail_workspace\\\\ETL_workspace\\\\all_channel_rawdata\\\\2023-11-01\\\\pre_deduction\\\\channel_1698887829715.xlsx', 'C:\\\\Users\\\\buche\\\\Desktop\\\\travail_workspace\\\\ETL_workspace\\\\all_channel_rawdata\\\\2023-11-01\\\\pre_deduction\\\\channel_1698887833322.xlsx', 'C:\\\\Users\\\\buche\\\\Desktop\\\\travail_workspace\\\\ETL_workspace\\\\all_channel_rawdata\\\\2023-11-01\\\\pre_deduction\\\\channel_1698887838578.xlsx', 'C:\\\\Users\\\\buche\\\\Desktop\\\\travail_workspace\\\\ETL_workspace\\\\all_channel_rawdata\\\\2023-11-01\\\\pre_deduction\\\\channel_1698887849781.xlsx', 'C:\\\\Users\\\\buche\\\\Desktop\\\\travail_workspace\\\\ETL_workspace\\\\all_channel_rawdata\\\\2023-11-01\\\\pre_deduction\\\\channel_1698887919867.xlsx'], ['C:\\\\Users\\\\buche\\\\Desktop\\\\travail_workspace\\\\ETL_workspace\\\\all_channel_rawdata\\\\2023-11-02\\\\pre_deduction\\\\channel_1698975844905.xlsx', 'C:\\\\Users\\\\buche\\\\Desktop\\\\travail_workspace\\\\ETL_workspace\\\\all_channel_rawdata\\\\2023-11-02\\\\pre_deduction\\\\channel_1698975848414.xlsx', 'C:\\\\Users\\\\buche\\\\Desktop\\\\travail_workspace\\\\ETL_workspace\\\\all_channel_rawdata\\\\2023-11-02\\\\pre_deduction\\\\channel_1698975851359.xlsx', 'C:\\\\Users\\\\buche\\\\Desktop\\\\travail_workspace\\\\ETL_workspace\\\\all_channel_rawdata\\\\2023-11-02\\\\pre_deduction\\\\channel_1698975854481.xlsx', 'C:\\\\Users\\\\buche\\\\Desktop\\\\travail_workspace\\\\ETL_workspace\\\\all_channel_rawdata\\\\2023-11-02\\\\pre_deduction\\\\channel_1698975857663.xlsx', 'C:\\\\Users\\\\buche\\\\Desktop\\\\travail_workspace\\\\ETL_workspace\\\\all_channel_rawdata\\\\2023-11-02\\\\pre_deduction\\\\channel_1698975861151.xlsx', 'C:\\\\Users\\\\buche\\\\Desktop\\\\travail_workspace\\\\ETL_workspace\\\\all_channel_rawdata\\\\2023-11-02\\\\pre_deduction\\\\channel_1698976369745.xlsx']]\n",
      "[['C:\\\\Users\\\\buche\\\\Desktop\\\\travail_workspace\\\\ETL_workspace\\\\all_channel_rawdata\\\\2023-11-01\\\\pre_deduction\\\\channel_1698887815822.xlsx', 'C:\\\\Users\\\\buche\\\\Desktop\\\\travail_workspace\\\\ETL_workspace\\\\all_channel_rawdata\\\\2023-11-01\\\\pre_deduction\\\\channel_1698887825660.xlsx', 'C:\\\\Users\\\\buche\\\\Desktop\\\\travail_workspace\\\\ETL_workspace\\\\all_channel_rawdata\\\\2023-11-01\\\\pre_deduction\\\\channel_1698887829715.xlsx', 'C:\\\\Users\\\\buche\\\\Desktop\\\\travail_workspace\\\\ETL_workspace\\\\all_channel_rawdata\\\\2023-11-01\\\\pre_deduction\\\\channel_1698887833322.xlsx', 'C:\\\\Users\\\\buche\\\\Desktop\\\\travail_workspace\\\\ETL_workspace\\\\all_channel_rawdata\\\\2023-11-01\\\\pre_deduction\\\\channel_1698887838578.xlsx', 'C:\\\\Users\\\\buche\\\\Desktop\\\\travail_workspace\\\\ETL_workspace\\\\all_channel_rawdata\\\\2023-11-01\\\\pre_deduction\\\\channel_1698887849781.xlsx', 'C:\\\\Users\\\\buche\\\\Desktop\\\\travail_workspace\\\\ETL_workspace\\\\all_channel_rawdata\\\\2023-11-01\\\\pre_deduction\\\\channel_1698887919867.xlsx'], ['C:\\\\Users\\\\buche\\\\Desktop\\\\travail_workspace\\\\ETL_workspace\\\\all_channel_rawdata\\\\2023-11-02\\\\pre_deduction\\\\channel_1698975844905.xlsx', 'C:\\\\Users\\\\buche\\\\Desktop\\\\travail_workspace\\\\ETL_workspace\\\\all_channel_rawdata\\\\2023-11-02\\\\pre_deduction\\\\channel_1698975848414.xlsx', 'C:\\\\Users\\\\buche\\\\Desktop\\\\travail_workspace\\\\ETL_workspace\\\\all_channel_rawdata\\\\2023-11-02\\\\pre_deduction\\\\channel_1698975851359.xlsx', 'C:\\\\Users\\\\buche\\\\Desktop\\\\travail_workspace\\\\ETL_workspace\\\\all_channel_rawdata\\\\2023-11-02\\\\pre_deduction\\\\channel_1698975854481.xlsx', 'C:\\\\Users\\\\buche\\\\Desktop\\\\travail_workspace\\\\ETL_workspace\\\\all_channel_rawdata\\\\2023-11-02\\\\pre_deduction\\\\channel_1698975857663.xlsx', 'C:\\\\Users\\\\buche\\\\Desktop\\\\travail_workspace\\\\ETL_workspace\\\\all_channel_rawdata\\\\2023-11-02\\\\pre_deduction\\\\channel_1698975861151.xlsx', 'C:\\\\Users\\\\buche\\\\Desktop\\\\travail_workspace\\\\ETL_workspace\\\\all_channel_rawdata\\\\2023-11-02\\\\pre_deduction\\\\channel_1698976369745.xlsx'], ['C:\\\\Users\\\\buche\\\\Desktop\\\\travail_workspace\\\\ETL_workspace\\\\all_channel_rawdata\\\\2023-11-03\\\\pre_deduction\\\\channel_1699031520639.xlsx', 'C:\\\\Users\\\\buche\\\\Desktop\\\\travail_workspace\\\\ETL_workspace\\\\all_channel_rawdata\\\\2023-11-03\\\\pre_deduction\\\\channel_1699031526479.xlsx', 'C:\\\\Users\\\\buche\\\\Desktop\\\\travail_workspace\\\\ETL_workspace\\\\all_channel_rawdata\\\\2023-11-03\\\\pre_deduction\\\\channel_1699031530615.xlsx', 'C:\\\\Users\\\\buche\\\\Desktop\\\\travail_workspace\\\\ETL_workspace\\\\all_channel_rawdata\\\\2023-11-03\\\\pre_deduction\\\\channel_1699031534439.xlsx', 'C:\\\\Users\\\\buche\\\\Desktop\\\\travail_workspace\\\\ETL_workspace\\\\all_channel_rawdata\\\\2023-11-03\\\\pre_deduction\\\\channel_1699031538199.xlsx', 'C:\\\\Users\\\\buche\\\\Desktop\\\\travail_workspace\\\\ETL_workspace\\\\all_channel_rawdata\\\\2023-11-03\\\\pre_deduction\\\\channel_1699031541983.xlsx', 'C:\\\\Users\\\\buche\\\\Desktop\\\\travail_workspace\\\\ETL_workspace\\\\all_channel_rawdata\\\\2023-11-03\\\\pre_deduction\\\\channel_1699031630486.xlsx']]\n",
      "[['C:\\\\Users\\\\buche\\\\Desktop\\\\travail_workspace\\\\ETL_workspace\\\\all_channel_rawdata\\\\2023-11-01\\\\pre_deduction\\\\channel_1698887815822.xlsx', 'C:\\\\Users\\\\buche\\\\Desktop\\\\travail_workspace\\\\ETL_workspace\\\\all_channel_rawdata\\\\2023-11-01\\\\pre_deduction\\\\channel_1698887825660.xlsx', 'C:\\\\Users\\\\buche\\\\Desktop\\\\travail_workspace\\\\ETL_workspace\\\\all_channel_rawdata\\\\2023-11-01\\\\pre_deduction\\\\channel_1698887829715.xlsx', 'C:\\\\Users\\\\buche\\\\Desktop\\\\travail_workspace\\\\ETL_workspace\\\\all_channel_rawdata\\\\2023-11-01\\\\pre_deduction\\\\channel_1698887833322.xlsx', 'C:\\\\Users\\\\buche\\\\Desktop\\\\travail_workspace\\\\ETL_workspace\\\\all_channel_rawdata\\\\2023-11-01\\\\pre_deduction\\\\channel_1698887838578.xlsx', 'C:\\\\Users\\\\buche\\\\Desktop\\\\travail_workspace\\\\ETL_workspace\\\\all_channel_rawdata\\\\2023-11-01\\\\pre_deduction\\\\channel_1698887849781.xlsx', 'C:\\\\Users\\\\buche\\\\Desktop\\\\travail_workspace\\\\ETL_workspace\\\\all_channel_rawdata\\\\2023-11-01\\\\pre_deduction\\\\channel_1698887919867.xlsx'], ['C:\\\\Users\\\\buche\\\\Desktop\\\\travail_workspace\\\\ETL_workspace\\\\all_channel_rawdata\\\\2023-11-02\\\\pre_deduction\\\\channel_1698975844905.xlsx', 'C:\\\\Users\\\\buche\\\\Desktop\\\\travail_workspace\\\\ETL_workspace\\\\all_channel_rawdata\\\\2023-11-02\\\\pre_deduction\\\\channel_1698975848414.xlsx', 'C:\\\\Users\\\\buche\\\\Desktop\\\\travail_workspace\\\\ETL_workspace\\\\all_channel_rawdata\\\\2023-11-02\\\\pre_deduction\\\\channel_1698975851359.xlsx', 'C:\\\\Users\\\\buche\\\\Desktop\\\\travail_workspace\\\\ETL_workspace\\\\all_channel_rawdata\\\\2023-11-02\\\\pre_deduction\\\\channel_1698975854481.xlsx', 'C:\\\\Users\\\\buche\\\\Desktop\\\\travail_workspace\\\\ETL_workspace\\\\all_channel_rawdata\\\\2023-11-02\\\\pre_deduction\\\\channel_1698975857663.xlsx', 'C:\\\\Users\\\\buche\\\\Desktop\\\\travail_workspace\\\\ETL_workspace\\\\all_channel_rawdata\\\\2023-11-02\\\\pre_deduction\\\\channel_1698975861151.xlsx', 'C:\\\\Users\\\\buche\\\\Desktop\\\\travail_workspace\\\\ETL_workspace\\\\all_channel_rawdata\\\\2023-11-02\\\\pre_deduction\\\\channel_1698976369745.xlsx'], ['C:\\\\Users\\\\buche\\\\Desktop\\\\travail_workspace\\\\ETL_workspace\\\\all_channel_rawdata\\\\2023-11-03\\\\pre_deduction\\\\channel_1699031520639.xlsx', 'C:\\\\Users\\\\buche\\\\Desktop\\\\travail_workspace\\\\ETL_workspace\\\\all_channel_rawdata\\\\2023-11-03\\\\pre_deduction\\\\channel_1699031526479.xlsx', 'C:\\\\Users\\\\buche\\\\Desktop\\\\travail_workspace\\\\ETL_workspace\\\\all_channel_rawdata\\\\2023-11-03\\\\pre_deduction\\\\channel_1699031530615.xlsx', 'C:\\\\Users\\\\buche\\\\Desktop\\\\travail_workspace\\\\ETL_workspace\\\\all_channel_rawdata\\\\2023-11-03\\\\pre_deduction\\\\channel_1699031534439.xlsx', 'C:\\\\Users\\\\buche\\\\Desktop\\\\travail_workspace\\\\ETL_workspace\\\\all_channel_rawdata\\\\2023-11-03\\\\pre_deduction\\\\channel_1699031538199.xlsx', 'C:\\\\Users\\\\buche\\\\Desktop\\\\travail_workspace\\\\ETL_workspace\\\\all_channel_rawdata\\\\2023-11-03\\\\pre_deduction\\\\channel_1699031541983.xlsx', 'C:\\\\Users\\\\buche\\\\Desktop\\\\travail_workspace\\\\ETL_workspace\\\\all_channel_rawdata\\\\2023-11-03\\\\pre_deduction\\\\channel_1699031630486.xlsx'], ['C:\\\\Users\\\\buche\\\\Desktop\\\\travail_workspace\\\\ETL_workspace\\\\all_channel_rawdata\\\\2023-11-04\\\\pre_deduction\\\\channel_1699117901863.xlsx', 'C:\\\\Users\\\\buche\\\\Desktop\\\\travail_workspace\\\\ETL_workspace\\\\all_channel_rawdata\\\\2023-11-04\\\\pre_deduction\\\\channel_1699117905575.xlsx', 'C:\\\\Users\\\\buche\\\\Desktop\\\\travail_workspace\\\\ETL_workspace\\\\all_channel_rawdata\\\\2023-11-04\\\\pre_deduction\\\\channel_1699117909119.xlsx', 'C:\\\\Users\\\\buche\\\\Desktop\\\\travail_workspace\\\\ETL_workspace\\\\all_channel_rawdata\\\\2023-11-04\\\\pre_deduction\\\\channel_1699117912775.xlsx', 'C:\\\\Users\\\\buche\\\\Desktop\\\\travail_workspace\\\\ETL_workspace\\\\all_channel_rawdata\\\\2023-11-04\\\\pre_deduction\\\\channel_1699117916513.xlsx', 'C:\\\\Users\\\\buche\\\\Desktop\\\\travail_workspace\\\\ETL_workspace\\\\all_channel_rawdata\\\\2023-11-04\\\\pre_deduction\\\\channel_1699117920248.xlsx', 'C:\\\\Users\\\\buche\\\\Desktop\\\\travail_workspace\\\\ETL_workspace\\\\all_channel_rawdata\\\\2023-11-04\\\\pre_deduction\\\\channel_1699117986582.xlsx']]\n",
      "[['C:\\\\Users\\\\buche\\\\Desktop\\\\travail_workspace\\\\ETL_workspace\\\\all_channel_rawdata\\\\2023-11-01\\\\pre_deduction\\\\channel_1698887815822.xlsx', 'C:\\\\Users\\\\buche\\\\Desktop\\\\travail_workspace\\\\ETL_workspace\\\\all_channel_rawdata\\\\2023-11-01\\\\pre_deduction\\\\channel_1698887825660.xlsx', 'C:\\\\Users\\\\buche\\\\Desktop\\\\travail_workspace\\\\ETL_workspace\\\\all_channel_rawdata\\\\2023-11-01\\\\pre_deduction\\\\channel_1698887829715.xlsx', 'C:\\\\Users\\\\buche\\\\Desktop\\\\travail_workspace\\\\ETL_workspace\\\\all_channel_rawdata\\\\2023-11-01\\\\pre_deduction\\\\channel_1698887833322.xlsx', 'C:\\\\Users\\\\buche\\\\Desktop\\\\travail_workspace\\\\ETL_workspace\\\\all_channel_rawdata\\\\2023-11-01\\\\pre_deduction\\\\channel_1698887838578.xlsx', 'C:\\\\Users\\\\buche\\\\Desktop\\\\travail_workspace\\\\ETL_workspace\\\\all_channel_rawdata\\\\2023-11-01\\\\pre_deduction\\\\channel_1698887849781.xlsx', 'C:\\\\Users\\\\buche\\\\Desktop\\\\travail_workspace\\\\ETL_workspace\\\\all_channel_rawdata\\\\2023-11-01\\\\pre_deduction\\\\channel_1698887919867.xlsx'], ['C:\\\\Users\\\\buche\\\\Desktop\\\\travail_workspace\\\\ETL_workspace\\\\all_channel_rawdata\\\\2023-11-02\\\\pre_deduction\\\\channel_1698975844905.xlsx', 'C:\\\\Users\\\\buche\\\\Desktop\\\\travail_workspace\\\\ETL_workspace\\\\all_channel_rawdata\\\\2023-11-02\\\\pre_deduction\\\\channel_1698975848414.xlsx', 'C:\\\\Users\\\\buche\\\\Desktop\\\\travail_workspace\\\\ETL_workspace\\\\all_channel_rawdata\\\\2023-11-02\\\\pre_deduction\\\\channel_1698975851359.xlsx', 'C:\\\\Users\\\\buche\\\\Desktop\\\\travail_workspace\\\\ETL_workspace\\\\all_channel_rawdata\\\\2023-11-02\\\\pre_deduction\\\\channel_1698975854481.xlsx', 'C:\\\\Users\\\\buche\\\\Desktop\\\\travail_workspace\\\\ETL_workspace\\\\all_channel_rawdata\\\\2023-11-02\\\\pre_deduction\\\\channel_1698975857663.xlsx', 'C:\\\\Users\\\\buche\\\\Desktop\\\\travail_workspace\\\\ETL_workspace\\\\all_channel_rawdata\\\\2023-11-02\\\\pre_deduction\\\\channel_1698975861151.xlsx', 'C:\\\\Users\\\\buche\\\\Desktop\\\\travail_workspace\\\\ETL_workspace\\\\all_channel_rawdata\\\\2023-11-02\\\\pre_deduction\\\\channel_1698976369745.xlsx'], ['C:\\\\Users\\\\buche\\\\Desktop\\\\travail_workspace\\\\ETL_workspace\\\\all_channel_rawdata\\\\2023-11-03\\\\pre_deduction\\\\channel_1699031520639.xlsx', 'C:\\\\Users\\\\buche\\\\Desktop\\\\travail_workspace\\\\ETL_workspace\\\\all_channel_rawdata\\\\2023-11-03\\\\pre_deduction\\\\channel_1699031526479.xlsx', 'C:\\\\Users\\\\buche\\\\Desktop\\\\travail_workspace\\\\ETL_workspace\\\\all_channel_rawdata\\\\2023-11-03\\\\pre_deduction\\\\channel_1699031530615.xlsx', 'C:\\\\Users\\\\buche\\\\Desktop\\\\travail_workspace\\\\ETL_workspace\\\\all_channel_rawdata\\\\2023-11-03\\\\pre_deduction\\\\channel_1699031534439.xlsx', 'C:\\\\Users\\\\buche\\\\Desktop\\\\travail_workspace\\\\ETL_workspace\\\\all_channel_rawdata\\\\2023-11-03\\\\pre_deduction\\\\channel_1699031538199.xlsx', 'C:\\\\Users\\\\buche\\\\Desktop\\\\travail_workspace\\\\ETL_workspace\\\\all_channel_rawdata\\\\2023-11-03\\\\pre_deduction\\\\channel_1699031541983.xlsx', 'C:\\\\Users\\\\buche\\\\Desktop\\\\travail_workspace\\\\ETL_workspace\\\\all_channel_rawdata\\\\2023-11-03\\\\pre_deduction\\\\channel_1699031630486.xlsx'], ['C:\\\\Users\\\\buche\\\\Desktop\\\\travail_workspace\\\\ETL_workspace\\\\all_channel_rawdata\\\\2023-11-04\\\\pre_deduction\\\\channel_1699117901863.xlsx', 'C:\\\\Users\\\\buche\\\\Desktop\\\\travail_workspace\\\\ETL_workspace\\\\all_channel_rawdata\\\\2023-11-04\\\\pre_deduction\\\\channel_1699117905575.xlsx', 'C:\\\\Users\\\\buche\\\\Desktop\\\\travail_workspace\\\\ETL_workspace\\\\all_channel_rawdata\\\\2023-11-04\\\\pre_deduction\\\\channel_1699117909119.xlsx', 'C:\\\\Users\\\\buche\\\\Desktop\\\\travail_workspace\\\\ETL_workspace\\\\all_channel_rawdata\\\\2023-11-04\\\\pre_deduction\\\\channel_1699117912775.xlsx', 'C:\\\\Users\\\\buche\\\\Desktop\\\\travail_workspace\\\\ETL_workspace\\\\all_channel_rawdata\\\\2023-11-04\\\\pre_deduction\\\\channel_1699117916513.xlsx', 'C:\\\\Users\\\\buche\\\\Desktop\\\\travail_workspace\\\\ETL_workspace\\\\all_channel_rawdata\\\\2023-11-04\\\\pre_deduction\\\\channel_1699117920248.xlsx', 'C:\\\\Users\\\\buche\\\\Desktop\\\\travail_workspace\\\\ETL_workspace\\\\all_channel_rawdata\\\\2023-11-04\\\\pre_deduction\\\\channel_1699117986582.xlsx'], ['C:\\\\Users\\\\buche\\\\Desktop\\\\travail_workspace\\\\ETL_workspace\\\\all_channel_rawdata\\\\2023-11-05\\\\pre_deduction\\\\channel_1699233860405.xlsx', 'C:\\\\Users\\\\buche\\\\Desktop\\\\travail_workspace\\\\ETL_workspace\\\\all_channel_rawdata\\\\2023-11-05\\\\pre_deduction\\\\channel_1699233903630.xlsx', 'C:\\\\Users\\\\buche\\\\Desktop\\\\travail_workspace\\\\ETL_workspace\\\\all_channel_rawdata\\\\2023-11-05\\\\pre_deduction\\\\channel_1699233907556.xlsx', 'C:\\\\Users\\\\buche\\\\Desktop\\\\travail_workspace\\\\ETL_workspace\\\\all_channel_rawdata\\\\2023-11-05\\\\pre_deduction\\\\channel_1699233919900.xlsx', 'C:\\\\Users\\\\buche\\\\Desktop\\\\travail_workspace\\\\ETL_workspace\\\\all_channel_rawdata\\\\2023-11-05\\\\pre_deduction\\\\channel_1699233930293.xlsx', 'C:\\\\Users\\\\buche\\\\Desktop\\\\travail_workspace\\\\ETL_workspace\\\\all_channel_rawdata\\\\2023-11-05\\\\pre_deduction\\\\channel_1699233937621.xlsx', 'C:\\\\Users\\\\buche\\\\Desktop\\\\travail_workspace\\\\ETL_workspace\\\\all_channel_rawdata\\\\2023-11-05\\\\pre_deduction\\\\channel_1699234082864.xlsx']]\n",
      "[['C:\\\\Users\\\\buche\\\\Desktop\\\\travail_workspace\\\\ETL_workspace\\\\all_channel_rawdata\\\\2023-11-01\\\\pre_deduction\\\\channel_1698887815822.xlsx', 'C:\\\\Users\\\\buche\\\\Desktop\\\\travail_workspace\\\\ETL_workspace\\\\all_channel_rawdata\\\\2023-11-01\\\\pre_deduction\\\\channel_1698887825660.xlsx', 'C:\\\\Users\\\\buche\\\\Desktop\\\\travail_workspace\\\\ETL_workspace\\\\all_channel_rawdata\\\\2023-11-01\\\\pre_deduction\\\\channel_1698887829715.xlsx', 'C:\\\\Users\\\\buche\\\\Desktop\\\\travail_workspace\\\\ETL_workspace\\\\all_channel_rawdata\\\\2023-11-01\\\\pre_deduction\\\\channel_1698887833322.xlsx', 'C:\\\\Users\\\\buche\\\\Desktop\\\\travail_workspace\\\\ETL_workspace\\\\all_channel_rawdata\\\\2023-11-01\\\\pre_deduction\\\\channel_1698887838578.xlsx', 'C:\\\\Users\\\\buche\\\\Desktop\\\\travail_workspace\\\\ETL_workspace\\\\all_channel_rawdata\\\\2023-11-01\\\\pre_deduction\\\\channel_1698887849781.xlsx', 'C:\\\\Users\\\\buche\\\\Desktop\\\\travail_workspace\\\\ETL_workspace\\\\all_channel_rawdata\\\\2023-11-01\\\\pre_deduction\\\\channel_1698887919867.xlsx'], ['C:\\\\Users\\\\buche\\\\Desktop\\\\travail_workspace\\\\ETL_workspace\\\\all_channel_rawdata\\\\2023-11-02\\\\pre_deduction\\\\channel_1698975844905.xlsx', 'C:\\\\Users\\\\buche\\\\Desktop\\\\travail_workspace\\\\ETL_workspace\\\\all_channel_rawdata\\\\2023-11-02\\\\pre_deduction\\\\channel_1698975848414.xlsx', 'C:\\\\Users\\\\buche\\\\Desktop\\\\travail_workspace\\\\ETL_workspace\\\\all_channel_rawdata\\\\2023-11-02\\\\pre_deduction\\\\channel_1698975851359.xlsx', 'C:\\\\Users\\\\buche\\\\Desktop\\\\travail_workspace\\\\ETL_workspace\\\\all_channel_rawdata\\\\2023-11-02\\\\pre_deduction\\\\channel_1698975854481.xlsx', 'C:\\\\Users\\\\buche\\\\Desktop\\\\travail_workspace\\\\ETL_workspace\\\\all_channel_rawdata\\\\2023-11-02\\\\pre_deduction\\\\channel_1698975857663.xlsx', 'C:\\\\Users\\\\buche\\\\Desktop\\\\travail_workspace\\\\ETL_workspace\\\\all_channel_rawdata\\\\2023-11-02\\\\pre_deduction\\\\channel_1698975861151.xlsx', 'C:\\\\Users\\\\buche\\\\Desktop\\\\travail_workspace\\\\ETL_workspace\\\\all_channel_rawdata\\\\2023-11-02\\\\pre_deduction\\\\channel_1698976369745.xlsx'], ['C:\\\\Users\\\\buche\\\\Desktop\\\\travail_workspace\\\\ETL_workspace\\\\all_channel_rawdata\\\\2023-11-03\\\\pre_deduction\\\\channel_1699031520639.xlsx', 'C:\\\\Users\\\\buche\\\\Desktop\\\\travail_workspace\\\\ETL_workspace\\\\all_channel_rawdata\\\\2023-11-03\\\\pre_deduction\\\\channel_1699031526479.xlsx', 'C:\\\\Users\\\\buche\\\\Desktop\\\\travail_workspace\\\\ETL_workspace\\\\all_channel_rawdata\\\\2023-11-03\\\\pre_deduction\\\\channel_1699031530615.xlsx', 'C:\\\\Users\\\\buche\\\\Desktop\\\\travail_workspace\\\\ETL_workspace\\\\all_channel_rawdata\\\\2023-11-03\\\\pre_deduction\\\\channel_1699031534439.xlsx', 'C:\\\\Users\\\\buche\\\\Desktop\\\\travail_workspace\\\\ETL_workspace\\\\all_channel_rawdata\\\\2023-11-03\\\\pre_deduction\\\\channel_1699031538199.xlsx', 'C:\\\\Users\\\\buche\\\\Desktop\\\\travail_workspace\\\\ETL_workspace\\\\all_channel_rawdata\\\\2023-11-03\\\\pre_deduction\\\\channel_1699031541983.xlsx', 'C:\\\\Users\\\\buche\\\\Desktop\\\\travail_workspace\\\\ETL_workspace\\\\all_channel_rawdata\\\\2023-11-03\\\\pre_deduction\\\\channel_1699031630486.xlsx'], ['C:\\\\Users\\\\buche\\\\Desktop\\\\travail_workspace\\\\ETL_workspace\\\\all_channel_rawdata\\\\2023-11-04\\\\pre_deduction\\\\channel_1699117901863.xlsx', 'C:\\\\Users\\\\buche\\\\Desktop\\\\travail_workspace\\\\ETL_workspace\\\\all_channel_rawdata\\\\2023-11-04\\\\pre_deduction\\\\channel_1699117905575.xlsx', 'C:\\\\Users\\\\buche\\\\Desktop\\\\travail_workspace\\\\ETL_workspace\\\\all_channel_rawdata\\\\2023-11-04\\\\pre_deduction\\\\channel_1699117909119.xlsx', 'C:\\\\Users\\\\buche\\\\Desktop\\\\travail_workspace\\\\ETL_workspace\\\\all_channel_rawdata\\\\2023-11-04\\\\pre_deduction\\\\channel_1699117912775.xlsx', 'C:\\\\Users\\\\buche\\\\Desktop\\\\travail_workspace\\\\ETL_workspace\\\\all_channel_rawdata\\\\2023-11-04\\\\pre_deduction\\\\channel_1699117916513.xlsx', 'C:\\\\Users\\\\buche\\\\Desktop\\\\travail_workspace\\\\ETL_workspace\\\\all_channel_rawdata\\\\2023-11-04\\\\pre_deduction\\\\channel_1699117920248.xlsx', 'C:\\\\Users\\\\buche\\\\Desktop\\\\travail_workspace\\\\ETL_workspace\\\\all_channel_rawdata\\\\2023-11-04\\\\pre_deduction\\\\channel_1699117986582.xlsx'], ['C:\\\\Users\\\\buche\\\\Desktop\\\\travail_workspace\\\\ETL_workspace\\\\all_channel_rawdata\\\\2023-11-05\\\\pre_deduction\\\\channel_1699233860405.xlsx', 'C:\\\\Users\\\\buche\\\\Desktop\\\\travail_workspace\\\\ETL_workspace\\\\all_channel_rawdata\\\\2023-11-05\\\\pre_deduction\\\\channel_1699233903630.xlsx', 'C:\\\\Users\\\\buche\\\\Desktop\\\\travail_workspace\\\\ETL_workspace\\\\all_channel_rawdata\\\\2023-11-05\\\\pre_deduction\\\\channel_1699233907556.xlsx', 'C:\\\\Users\\\\buche\\\\Desktop\\\\travail_workspace\\\\ETL_workspace\\\\all_channel_rawdata\\\\2023-11-05\\\\pre_deduction\\\\channel_1699233919900.xlsx', 'C:\\\\Users\\\\buche\\\\Desktop\\\\travail_workspace\\\\ETL_workspace\\\\all_channel_rawdata\\\\2023-11-05\\\\pre_deduction\\\\channel_1699233930293.xlsx', 'C:\\\\Users\\\\buche\\\\Desktop\\\\travail_workspace\\\\ETL_workspace\\\\all_channel_rawdata\\\\2023-11-05\\\\pre_deduction\\\\channel_1699233937621.xlsx', 'C:\\\\Users\\\\buche\\\\Desktop\\\\travail_workspace\\\\ETL_workspace\\\\all_channel_rawdata\\\\2023-11-05\\\\pre_deduction\\\\channel_1699234082864.xlsx'], ['C:\\\\Users\\\\buche\\\\Desktop\\\\travail_workspace\\\\ETL_workspace\\\\all_channel_rawdata\\\\2023-11-06\\\\pre_deduction\\\\channel_1699320276550.xlsx', 'C:\\\\Users\\\\buche\\\\Desktop\\\\travail_workspace\\\\ETL_workspace\\\\all_channel_rawdata\\\\2023-11-06\\\\pre_deduction\\\\channel_1699320287765.xlsx', 'C:\\\\Users\\\\buche\\\\Desktop\\\\travail_workspace\\\\ETL_workspace\\\\all_channel_rawdata\\\\2023-11-06\\\\pre_deduction\\\\channel_1699320292015.xlsx', 'C:\\\\Users\\\\buche\\\\Desktop\\\\travail_workspace\\\\ETL_workspace\\\\all_channel_rawdata\\\\2023-11-06\\\\pre_deduction\\\\channel_1699320300367.xlsx', 'C:\\\\Users\\\\buche\\\\Desktop\\\\travail_workspace\\\\ETL_workspace\\\\all_channel_rawdata\\\\2023-11-06\\\\pre_deduction\\\\channel_1699320309061.xlsx', 'C:\\\\Users\\\\buche\\\\Desktop\\\\travail_workspace\\\\ETL_workspace\\\\all_channel_rawdata\\\\2023-11-06\\\\pre_deduction\\\\channel_1699320438922.xlsx', 'C:\\\\Users\\\\buche\\\\Desktop\\\\travail_workspace\\\\ETL_workspace\\\\all_channel_rawdata\\\\2023-11-06\\\\pre_deduction\\\\channel_1699320524707.xlsx']]\n",
      "[['C:\\\\Users\\\\buche\\\\Desktop\\\\travail_workspace\\\\ETL_workspace\\\\all_channel_rawdata\\\\2023-11-01\\\\pre_deduction\\\\channel_1698887815822.xlsx', 'C:\\\\Users\\\\buche\\\\Desktop\\\\travail_workspace\\\\ETL_workspace\\\\all_channel_rawdata\\\\2023-11-01\\\\pre_deduction\\\\channel_1698887825660.xlsx', 'C:\\\\Users\\\\buche\\\\Desktop\\\\travail_workspace\\\\ETL_workspace\\\\all_channel_rawdata\\\\2023-11-01\\\\pre_deduction\\\\channel_1698887829715.xlsx', 'C:\\\\Users\\\\buche\\\\Desktop\\\\travail_workspace\\\\ETL_workspace\\\\all_channel_rawdata\\\\2023-11-01\\\\pre_deduction\\\\channel_1698887833322.xlsx', 'C:\\\\Users\\\\buche\\\\Desktop\\\\travail_workspace\\\\ETL_workspace\\\\all_channel_rawdata\\\\2023-11-01\\\\pre_deduction\\\\channel_1698887838578.xlsx', 'C:\\\\Users\\\\buche\\\\Desktop\\\\travail_workspace\\\\ETL_workspace\\\\all_channel_rawdata\\\\2023-11-01\\\\pre_deduction\\\\channel_1698887849781.xlsx', 'C:\\\\Users\\\\buche\\\\Desktop\\\\travail_workspace\\\\ETL_workspace\\\\all_channel_rawdata\\\\2023-11-01\\\\pre_deduction\\\\channel_1698887919867.xlsx'], ['C:\\\\Users\\\\buche\\\\Desktop\\\\travail_workspace\\\\ETL_workspace\\\\all_channel_rawdata\\\\2023-11-02\\\\pre_deduction\\\\channel_1698975844905.xlsx', 'C:\\\\Users\\\\buche\\\\Desktop\\\\travail_workspace\\\\ETL_workspace\\\\all_channel_rawdata\\\\2023-11-02\\\\pre_deduction\\\\channel_1698975848414.xlsx', 'C:\\\\Users\\\\buche\\\\Desktop\\\\travail_workspace\\\\ETL_workspace\\\\all_channel_rawdata\\\\2023-11-02\\\\pre_deduction\\\\channel_1698975851359.xlsx', 'C:\\\\Users\\\\buche\\\\Desktop\\\\travail_workspace\\\\ETL_workspace\\\\all_channel_rawdata\\\\2023-11-02\\\\pre_deduction\\\\channel_1698975854481.xlsx', 'C:\\\\Users\\\\buche\\\\Desktop\\\\travail_workspace\\\\ETL_workspace\\\\all_channel_rawdata\\\\2023-11-02\\\\pre_deduction\\\\channel_1698975857663.xlsx', 'C:\\\\Users\\\\buche\\\\Desktop\\\\travail_workspace\\\\ETL_workspace\\\\all_channel_rawdata\\\\2023-11-02\\\\pre_deduction\\\\channel_1698975861151.xlsx', 'C:\\\\Users\\\\buche\\\\Desktop\\\\travail_workspace\\\\ETL_workspace\\\\all_channel_rawdata\\\\2023-11-02\\\\pre_deduction\\\\channel_1698976369745.xlsx'], ['C:\\\\Users\\\\buche\\\\Desktop\\\\travail_workspace\\\\ETL_workspace\\\\all_channel_rawdata\\\\2023-11-03\\\\pre_deduction\\\\channel_1699031520639.xlsx', 'C:\\\\Users\\\\buche\\\\Desktop\\\\travail_workspace\\\\ETL_workspace\\\\all_channel_rawdata\\\\2023-11-03\\\\pre_deduction\\\\channel_1699031526479.xlsx', 'C:\\\\Users\\\\buche\\\\Desktop\\\\travail_workspace\\\\ETL_workspace\\\\all_channel_rawdata\\\\2023-11-03\\\\pre_deduction\\\\channel_1699031530615.xlsx', 'C:\\\\Users\\\\buche\\\\Desktop\\\\travail_workspace\\\\ETL_workspace\\\\all_channel_rawdata\\\\2023-11-03\\\\pre_deduction\\\\channel_1699031534439.xlsx', 'C:\\\\Users\\\\buche\\\\Desktop\\\\travail_workspace\\\\ETL_workspace\\\\all_channel_rawdata\\\\2023-11-03\\\\pre_deduction\\\\channel_1699031538199.xlsx', 'C:\\\\Users\\\\buche\\\\Desktop\\\\travail_workspace\\\\ETL_workspace\\\\all_channel_rawdata\\\\2023-11-03\\\\pre_deduction\\\\channel_1699031541983.xlsx', 'C:\\\\Users\\\\buche\\\\Desktop\\\\travail_workspace\\\\ETL_workspace\\\\all_channel_rawdata\\\\2023-11-03\\\\pre_deduction\\\\channel_1699031630486.xlsx'], ['C:\\\\Users\\\\buche\\\\Desktop\\\\travail_workspace\\\\ETL_workspace\\\\all_channel_rawdata\\\\2023-11-04\\\\pre_deduction\\\\channel_1699117901863.xlsx', 'C:\\\\Users\\\\buche\\\\Desktop\\\\travail_workspace\\\\ETL_workspace\\\\all_channel_rawdata\\\\2023-11-04\\\\pre_deduction\\\\channel_1699117905575.xlsx', 'C:\\\\Users\\\\buche\\\\Desktop\\\\travail_workspace\\\\ETL_workspace\\\\all_channel_rawdata\\\\2023-11-04\\\\pre_deduction\\\\channel_1699117909119.xlsx', 'C:\\\\Users\\\\buche\\\\Desktop\\\\travail_workspace\\\\ETL_workspace\\\\all_channel_rawdata\\\\2023-11-04\\\\pre_deduction\\\\channel_1699117912775.xlsx', 'C:\\\\Users\\\\buche\\\\Desktop\\\\travail_workspace\\\\ETL_workspace\\\\all_channel_rawdata\\\\2023-11-04\\\\pre_deduction\\\\channel_1699117916513.xlsx', 'C:\\\\Users\\\\buche\\\\Desktop\\\\travail_workspace\\\\ETL_workspace\\\\all_channel_rawdata\\\\2023-11-04\\\\pre_deduction\\\\channel_1699117920248.xlsx', 'C:\\\\Users\\\\buche\\\\Desktop\\\\travail_workspace\\\\ETL_workspace\\\\all_channel_rawdata\\\\2023-11-04\\\\pre_deduction\\\\channel_1699117986582.xlsx'], ['C:\\\\Users\\\\buche\\\\Desktop\\\\travail_workspace\\\\ETL_workspace\\\\all_channel_rawdata\\\\2023-11-05\\\\pre_deduction\\\\channel_1699233860405.xlsx', 'C:\\\\Users\\\\buche\\\\Desktop\\\\travail_workspace\\\\ETL_workspace\\\\all_channel_rawdata\\\\2023-11-05\\\\pre_deduction\\\\channel_1699233903630.xlsx', 'C:\\\\Users\\\\buche\\\\Desktop\\\\travail_workspace\\\\ETL_workspace\\\\all_channel_rawdata\\\\2023-11-05\\\\pre_deduction\\\\channel_1699233907556.xlsx', 'C:\\\\Users\\\\buche\\\\Desktop\\\\travail_workspace\\\\ETL_workspace\\\\all_channel_rawdata\\\\2023-11-05\\\\pre_deduction\\\\channel_1699233919900.xlsx', 'C:\\\\Users\\\\buche\\\\Desktop\\\\travail_workspace\\\\ETL_workspace\\\\all_channel_rawdata\\\\2023-11-05\\\\pre_deduction\\\\channel_1699233930293.xlsx', 'C:\\\\Users\\\\buche\\\\Desktop\\\\travail_workspace\\\\ETL_workspace\\\\all_channel_rawdata\\\\2023-11-05\\\\pre_deduction\\\\channel_1699233937621.xlsx', 'C:\\\\Users\\\\buche\\\\Desktop\\\\travail_workspace\\\\ETL_workspace\\\\all_channel_rawdata\\\\2023-11-05\\\\pre_deduction\\\\channel_1699234082864.xlsx'], ['C:\\\\Users\\\\buche\\\\Desktop\\\\travail_workspace\\\\ETL_workspace\\\\all_channel_rawdata\\\\2023-11-06\\\\pre_deduction\\\\channel_1699320276550.xlsx', 'C:\\\\Users\\\\buche\\\\Desktop\\\\travail_workspace\\\\ETL_workspace\\\\all_channel_rawdata\\\\2023-11-06\\\\pre_deduction\\\\channel_1699320287765.xlsx', 'C:\\\\Users\\\\buche\\\\Desktop\\\\travail_workspace\\\\ETL_workspace\\\\all_channel_rawdata\\\\2023-11-06\\\\pre_deduction\\\\channel_1699320292015.xlsx', 'C:\\\\Users\\\\buche\\\\Desktop\\\\travail_workspace\\\\ETL_workspace\\\\all_channel_rawdata\\\\2023-11-06\\\\pre_deduction\\\\channel_1699320300367.xlsx', 'C:\\\\Users\\\\buche\\\\Desktop\\\\travail_workspace\\\\ETL_workspace\\\\all_channel_rawdata\\\\2023-11-06\\\\pre_deduction\\\\channel_1699320309061.xlsx', 'C:\\\\Users\\\\buche\\\\Desktop\\\\travail_workspace\\\\ETL_workspace\\\\all_channel_rawdata\\\\2023-11-06\\\\pre_deduction\\\\channel_1699320438922.xlsx', 'C:\\\\Users\\\\buche\\\\Desktop\\\\travail_workspace\\\\ETL_workspace\\\\all_channel_rawdata\\\\2023-11-06\\\\pre_deduction\\\\channel_1699320524707.xlsx'], ['C:\\\\Users\\\\buche\\\\Desktop\\\\travail_workspace\\\\ETL_workspace\\\\all_channel_rawdata\\\\2023-11-07\\\\pre_deduction\\\\channel_1699406196145.xlsx', 'C:\\\\Users\\\\buche\\\\Desktop\\\\travail_workspace\\\\ETL_workspace\\\\all_channel_rawdata\\\\2023-11-07\\\\pre_deduction\\\\channel_1699406293737.xlsx', 'C:\\\\Users\\\\buche\\\\Desktop\\\\travail_workspace\\\\ETL_workspace\\\\all_channel_rawdata\\\\2023-11-07\\\\pre_deduction\\\\channel_1699406297249.xlsx', 'C:\\\\Users\\\\buche\\\\Desktop\\\\travail_workspace\\\\ETL_workspace\\\\all_channel_rawdata\\\\2023-11-07\\\\pre_deduction\\\\channel_1699406300393.xlsx', 'C:\\\\Users\\\\buche\\\\Desktop\\\\travail_workspace\\\\ETL_workspace\\\\all_channel_rawdata\\\\2023-11-07\\\\pre_deduction\\\\channel_1699406303881.xlsx', 'C:\\\\Users\\\\buche\\\\Desktop\\\\travail_workspace\\\\ETL_workspace\\\\all_channel_rawdata\\\\2023-11-07\\\\pre_deduction\\\\channel_1699406307333.xlsx', 'C:\\\\Users\\\\buche\\\\Desktop\\\\travail_workspace\\\\ETL_workspace\\\\all_channel_rawdata\\\\2023-11-07\\\\pre_deduction\\\\channel_1699406381833.xlsx']]\n"
     ]
    }
   ],
   "source": [
    "#for 0725 all_channel_data\n",
    "namelist=[]\n",
    "for name in date_range:\n",
    "    files_path = glob(\"C:\\\\Users\\\\buche\\\\Desktop\\\\travail_workspace\\\\ETL_workspace\\\\all_channel_rawdata\\\\\" + name + \"\\\\pre_deduction\\\\channel_*.xlsx\")\n",
    "    # files_path = glob(\"D:\\\\Desktop\\\\travail_workspace\\\\ETL_workspace\\\\all_channel_rawdata\\\\\" + name + \"\\\\pre_deduction\\\\channel_*.xlsx\")\n",
    "    namelist.append(files_path)\n",
    "    print(namelist)"
   ]
  },
  {
   "cell_type": "code",
   "execution_count": 6,
   "id": "b5b3f96e-e050-4219-99fc-bf8535dae461",
   "metadata": {
    "tags": []
   },
   "outputs": [],
   "source": [
    "namelist = [i for name in namelist for i in name]"
   ]
  },
  {
   "cell_type": "code",
   "execution_count": 7,
   "id": "62bdff19-1b1e-4206-946e-bf5d22150395",
   "metadata": {
    "tags": []
   },
   "outputs": [
    {
     "name": "stderr",
     "output_type": "stream",
     "text": [
      "C:\\Users\\buche\\anaconda3\\Lib\\site-packages\\openpyxl\\styles\\stylesheet.py:226: UserWarning: Workbook contains no default style, apply openpyxl's default\n",
      "  warn(\"Workbook contains no default style, apply openpyxl's default\")\n",
      "C:\\Users\\buche\\AppData\\Local\\Temp\\ipykernel_15172\\3806756923.py:5: FutureWarning: The frame.append method is deprecated and will be removed from pandas in a future version. Use pandas.concat instead.\n",
      "  all_ch = all_ch.append(df, ignore_index=True)\n",
      "C:\\Users\\buche\\anaconda3\\Lib\\site-packages\\openpyxl\\styles\\stylesheet.py:226: UserWarning: Workbook contains no default style, apply openpyxl's default\n",
      "  warn(\"Workbook contains no default style, apply openpyxl's default\")\n",
      "C:\\Users\\buche\\AppData\\Local\\Temp\\ipykernel_15172\\3806756923.py:5: FutureWarning: The frame.append method is deprecated and will be removed from pandas in a future version. Use pandas.concat instead.\n",
      "  all_ch = all_ch.append(df, ignore_index=True)\n",
      "C:\\Users\\buche\\anaconda3\\Lib\\site-packages\\openpyxl\\styles\\stylesheet.py:226: UserWarning: Workbook contains no default style, apply openpyxl's default\n",
      "  warn(\"Workbook contains no default style, apply openpyxl's default\")\n",
      "C:\\Users\\buche\\AppData\\Local\\Temp\\ipykernel_15172\\3806756923.py:5: FutureWarning: The frame.append method is deprecated and will be removed from pandas in a future version. Use pandas.concat instead.\n",
      "  all_ch = all_ch.append(df, ignore_index=True)\n",
      "C:\\Users\\buche\\anaconda3\\Lib\\site-packages\\openpyxl\\styles\\stylesheet.py:226: UserWarning: Workbook contains no default style, apply openpyxl's default\n",
      "  warn(\"Workbook contains no default style, apply openpyxl's default\")\n",
      "C:\\Users\\buche\\AppData\\Local\\Temp\\ipykernel_15172\\3806756923.py:5: FutureWarning: The frame.append method is deprecated and will be removed from pandas in a future version. Use pandas.concat instead.\n",
      "  all_ch = all_ch.append(df, ignore_index=True)\n",
      "C:\\Users\\buche\\anaconda3\\Lib\\site-packages\\openpyxl\\styles\\stylesheet.py:226: UserWarning: Workbook contains no default style, apply openpyxl's default\n",
      "  warn(\"Workbook contains no default style, apply openpyxl's default\")\n",
      "C:\\Users\\buche\\AppData\\Local\\Temp\\ipykernel_15172\\3806756923.py:5: FutureWarning: The frame.append method is deprecated and will be removed from pandas in a future version. Use pandas.concat instead.\n",
      "  all_ch = all_ch.append(df, ignore_index=True)\n",
      "C:\\Users\\buche\\anaconda3\\Lib\\site-packages\\openpyxl\\styles\\stylesheet.py:226: UserWarning: Workbook contains no default style, apply openpyxl's default\n",
      "  warn(\"Workbook contains no default style, apply openpyxl's default\")\n",
      "C:\\Users\\buche\\AppData\\Local\\Temp\\ipykernel_15172\\3806756923.py:5: FutureWarning: The frame.append method is deprecated and will be removed from pandas in a future version. Use pandas.concat instead.\n",
      "  all_ch = all_ch.append(df, ignore_index=True)\n",
      "C:\\Users\\buche\\anaconda3\\Lib\\site-packages\\openpyxl\\styles\\stylesheet.py:226: UserWarning: Workbook contains no default style, apply openpyxl's default\n",
      "  warn(\"Workbook contains no default style, apply openpyxl's default\")\n",
      "C:\\Users\\buche\\AppData\\Local\\Temp\\ipykernel_15172\\3806756923.py:5: FutureWarning: The frame.append method is deprecated and will be removed from pandas in a future version. Use pandas.concat instead.\n",
      "  all_ch = all_ch.append(df, ignore_index=True)\n",
      "C:\\Users\\buche\\anaconda3\\Lib\\site-packages\\openpyxl\\styles\\stylesheet.py:226: UserWarning: Workbook contains no default style, apply openpyxl's default\n",
      "  warn(\"Workbook contains no default style, apply openpyxl's default\")\n",
      "C:\\Users\\buche\\AppData\\Local\\Temp\\ipykernel_15172\\3806756923.py:5: FutureWarning: The frame.append method is deprecated and will be removed from pandas in a future version. Use pandas.concat instead.\n",
      "  all_ch = all_ch.append(df, ignore_index=True)\n",
      "C:\\Users\\buche\\anaconda3\\Lib\\site-packages\\openpyxl\\styles\\stylesheet.py:226: UserWarning: Workbook contains no default style, apply openpyxl's default\n",
      "  warn(\"Workbook contains no default style, apply openpyxl's default\")\n",
      "C:\\Users\\buche\\AppData\\Local\\Temp\\ipykernel_15172\\3806756923.py:5: FutureWarning: The frame.append method is deprecated and will be removed from pandas in a future version. Use pandas.concat instead.\n",
      "  all_ch = all_ch.append(df, ignore_index=True)\n",
      "C:\\Users\\buche\\anaconda3\\Lib\\site-packages\\openpyxl\\styles\\stylesheet.py:226: UserWarning: Workbook contains no default style, apply openpyxl's default\n",
      "  warn(\"Workbook contains no default style, apply openpyxl's default\")\n",
      "C:\\Users\\buche\\AppData\\Local\\Temp\\ipykernel_15172\\3806756923.py:5: FutureWarning: The frame.append method is deprecated and will be removed from pandas in a future version. Use pandas.concat instead.\n",
      "  all_ch = all_ch.append(df, ignore_index=True)\n",
      "C:\\Users\\buche\\anaconda3\\Lib\\site-packages\\openpyxl\\styles\\stylesheet.py:226: UserWarning: Workbook contains no default style, apply openpyxl's default\n",
      "  warn(\"Workbook contains no default style, apply openpyxl's default\")\n",
      "C:\\Users\\buche\\AppData\\Local\\Temp\\ipykernel_15172\\3806756923.py:5: FutureWarning: The frame.append method is deprecated and will be removed from pandas in a future version. Use pandas.concat instead.\n",
      "  all_ch = all_ch.append(df, ignore_index=True)\n",
      "C:\\Users\\buche\\anaconda3\\Lib\\site-packages\\openpyxl\\styles\\stylesheet.py:226: UserWarning: Workbook contains no default style, apply openpyxl's default\n",
      "  warn(\"Workbook contains no default style, apply openpyxl's default\")\n",
      "C:\\Users\\buche\\AppData\\Local\\Temp\\ipykernel_15172\\3806756923.py:5: FutureWarning: The frame.append method is deprecated and will be removed from pandas in a future version. Use pandas.concat instead.\n",
      "  all_ch = all_ch.append(df, ignore_index=True)\n",
      "C:\\Users\\buche\\anaconda3\\Lib\\site-packages\\openpyxl\\styles\\stylesheet.py:226: UserWarning: Workbook contains no default style, apply openpyxl's default\n",
      "  warn(\"Workbook contains no default style, apply openpyxl's default\")\n",
      "C:\\Users\\buche\\AppData\\Local\\Temp\\ipykernel_15172\\3806756923.py:5: FutureWarning: The frame.append method is deprecated and will be removed from pandas in a future version. Use pandas.concat instead.\n",
      "  all_ch = all_ch.append(df, ignore_index=True)\n",
      "C:\\Users\\buche\\anaconda3\\Lib\\site-packages\\openpyxl\\styles\\stylesheet.py:226: UserWarning: Workbook contains no default style, apply openpyxl's default\n",
      "  warn(\"Workbook contains no default style, apply openpyxl's default\")\n",
      "C:\\Users\\buche\\AppData\\Local\\Temp\\ipykernel_15172\\3806756923.py:5: FutureWarning: The frame.append method is deprecated and will be removed from pandas in a future version. Use pandas.concat instead.\n",
      "  all_ch = all_ch.append(df, ignore_index=True)\n",
      "C:\\Users\\buche\\anaconda3\\Lib\\site-packages\\openpyxl\\styles\\stylesheet.py:226: UserWarning: Workbook contains no default style, apply openpyxl's default\n",
      "  warn(\"Workbook contains no default style, apply openpyxl's default\")\n",
      "C:\\Users\\buche\\AppData\\Local\\Temp\\ipykernel_15172\\3806756923.py:5: FutureWarning: The frame.append method is deprecated and will be removed from pandas in a future version. Use pandas.concat instead.\n",
      "  all_ch = all_ch.append(df, ignore_index=True)\n",
      "C:\\Users\\buche\\anaconda3\\Lib\\site-packages\\openpyxl\\styles\\stylesheet.py:226: UserWarning: Workbook contains no default style, apply openpyxl's default\n",
      "  warn(\"Workbook contains no default style, apply openpyxl's default\")\n",
      "C:\\Users\\buche\\AppData\\Local\\Temp\\ipykernel_15172\\3806756923.py:5: FutureWarning: The frame.append method is deprecated and will be removed from pandas in a future version. Use pandas.concat instead.\n",
      "  all_ch = all_ch.append(df, ignore_index=True)\n",
      "C:\\Users\\buche\\anaconda3\\Lib\\site-packages\\openpyxl\\styles\\stylesheet.py:226: UserWarning: Workbook contains no default style, apply openpyxl's default\n",
      "  warn(\"Workbook contains no default style, apply openpyxl's default\")\n",
      "C:\\Users\\buche\\AppData\\Local\\Temp\\ipykernel_15172\\3806756923.py:5: FutureWarning: The frame.append method is deprecated and will be removed from pandas in a future version. Use pandas.concat instead.\n",
      "  all_ch = all_ch.append(df, ignore_index=True)\n",
      "C:\\Users\\buche\\anaconda3\\Lib\\site-packages\\openpyxl\\styles\\stylesheet.py:226: UserWarning: Workbook contains no default style, apply openpyxl's default\n",
      "  warn(\"Workbook contains no default style, apply openpyxl's default\")\n",
      "C:\\Users\\buche\\AppData\\Local\\Temp\\ipykernel_15172\\3806756923.py:5: FutureWarning: The frame.append method is deprecated and will be removed from pandas in a future version. Use pandas.concat instead.\n",
      "  all_ch = all_ch.append(df, ignore_index=True)\n",
      "C:\\Users\\buche\\anaconda3\\Lib\\site-packages\\openpyxl\\styles\\stylesheet.py:226: UserWarning: Workbook contains no default style, apply openpyxl's default\n",
      "  warn(\"Workbook contains no default style, apply openpyxl's default\")\n",
      "C:\\Users\\buche\\AppData\\Local\\Temp\\ipykernel_15172\\3806756923.py:5: FutureWarning: The frame.append method is deprecated and will be removed from pandas in a future version. Use pandas.concat instead.\n",
      "  all_ch = all_ch.append(df, ignore_index=True)\n",
      "C:\\Users\\buche\\anaconda3\\Lib\\site-packages\\openpyxl\\styles\\stylesheet.py:226: UserWarning: Workbook contains no default style, apply openpyxl's default\n",
      "  warn(\"Workbook contains no default style, apply openpyxl's default\")\n",
      "C:\\Users\\buche\\AppData\\Local\\Temp\\ipykernel_15172\\3806756923.py:5: FutureWarning: The frame.append method is deprecated and will be removed from pandas in a future version. Use pandas.concat instead.\n",
      "  all_ch = all_ch.append(df, ignore_index=True)\n",
      "C:\\Users\\buche\\anaconda3\\Lib\\site-packages\\openpyxl\\styles\\stylesheet.py:226: UserWarning: Workbook contains no default style, apply openpyxl's default\n",
      "  warn(\"Workbook contains no default style, apply openpyxl's default\")\n",
      "C:\\Users\\buche\\AppData\\Local\\Temp\\ipykernel_15172\\3806756923.py:5: FutureWarning: The frame.append method is deprecated and will be removed from pandas in a future version. Use pandas.concat instead.\n",
      "  all_ch = all_ch.append(df, ignore_index=True)\n",
      "C:\\Users\\buche\\anaconda3\\Lib\\site-packages\\openpyxl\\styles\\stylesheet.py:226: UserWarning: Workbook contains no default style, apply openpyxl's default\n",
      "  warn(\"Workbook contains no default style, apply openpyxl's default\")\n",
      "C:\\Users\\buche\\AppData\\Local\\Temp\\ipykernel_15172\\3806756923.py:5: FutureWarning: The frame.append method is deprecated and will be removed from pandas in a future version. Use pandas.concat instead.\n",
      "  all_ch = all_ch.append(df, ignore_index=True)\n",
      "C:\\Users\\buche\\anaconda3\\Lib\\site-packages\\openpyxl\\styles\\stylesheet.py:226: UserWarning: Workbook contains no default style, apply openpyxl's default\n",
      "  warn(\"Workbook contains no default style, apply openpyxl's default\")\n",
      "C:\\Users\\buche\\AppData\\Local\\Temp\\ipykernel_15172\\3806756923.py:5: FutureWarning: The frame.append method is deprecated and will be removed from pandas in a future version. Use pandas.concat instead.\n",
      "  all_ch = all_ch.append(df, ignore_index=True)\n",
      "C:\\Users\\buche\\anaconda3\\Lib\\site-packages\\openpyxl\\styles\\stylesheet.py:226: UserWarning: Workbook contains no default style, apply openpyxl's default\n",
      "  warn(\"Workbook contains no default style, apply openpyxl's default\")\n",
      "C:\\Users\\buche\\AppData\\Local\\Temp\\ipykernel_15172\\3806756923.py:5: FutureWarning: The frame.append method is deprecated and will be removed from pandas in a future version. Use pandas.concat instead.\n",
      "  all_ch = all_ch.append(df, ignore_index=True)\n",
      "C:\\Users\\buche\\anaconda3\\Lib\\site-packages\\openpyxl\\styles\\stylesheet.py:226: UserWarning: Workbook contains no default style, apply openpyxl's default\n",
      "  warn(\"Workbook contains no default style, apply openpyxl's default\")\n",
      "C:\\Users\\buche\\AppData\\Local\\Temp\\ipykernel_15172\\3806756923.py:5: FutureWarning: The frame.append method is deprecated and will be removed from pandas in a future version. Use pandas.concat instead.\n",
      "  all_ch = all_ch.append(df, ignore_index=True)\n",
      "C:\\Users\\buche\\anaconda3\\Lib\\site-packages\\openpyxl\\styles\\stylesheet.py:226: UserWarning: Workbook contains no default style, apply openpyxl's default\n",
      "  warn(\"Workbook contains no default style, apply openpyxl's default\")\n",
      "C:\\Users\\buche\\AppData\\Local\\Temp\\ipykernel_15172\\3806756923.py:5: FutureWarning: The frame.append method is deprecated and will be removed from pandas in a future version. Use pandas.concat instead.\n",
      "  all_ch = all_ch.append(df, ignore_index=True)\n",
      "C:\\Users\\buche\\anaconda3\\Lib\\site-packages\\openpyxl\\styles\\stylesheet.py:226: UserWarning: Workbook contains no default style, apply openpyxl's default\n",
      "  warn(\"Workbook contains no default style, apply openpyxl's default\")\n",
      "C:\\Users\\buche\\AppData\\Local\\Temp\\ipykernel_15172\\3806756923.py:5: FutureWarning: The frame.append method is deprecated and will be removed from pandas in a future version. Use pandas.concat instead.\n",
      "  all_ch = all_ch.append(df, ignore_index=True)\n",
      "C:\\Users\\buche\\anaconda3\\Lib\\site-packages\\openpyxl\\styles\\stylesheet.py:226: UserWarning: Workbook contains no default style, apply openpyxl's default\n",
      "  warn(\"Workbook contains no default style, apply openpyxl's default\")\n",
      "C:\\Users\\buche\\AppData\\Local\\Temp\\ipykernel_15172\\3806756923.py:5: FutureWarning: The frame.append method is deprecated and will be removed from pandas in a future version. Use pandas.concat instead.\n",
      "  all_ch = all_ch.append(df, ignore_index=True)\n",
      "C:\\Users\\buche\\anaconda3\\Lib\\site-packages\\openpyxl\\styles\\stylesheet.py:226: UserWarning: Workbook contains no default style, apply openpyxl's default\n",
      "  warn(\"Workbook contains no default style, apply openpyxl's default\")\n",
      "C:\\Users\\buche\\AppData\\Local\\Temp\\ipykernel_15172\\3806756923.py:5: FutureWarning: The frame.append method is deprecated and will be removed from pandas in a future version. Use pandas.concat instead.\n",
      "  all_ch = all_ch.append(df, ignore_index=True)\n",
      "C:\\Users\\buche\\anaconda3\\Lib\\site-packages\\openpyxl\\styles\\stylesheet.py:226: UserWarning: Workbook contains no default style, apply openpyxl's default\n",
      "  warn(\"Workbook contains no default style, apply openpyxl's default\")\n",
      "C:\\Users\\buche\\AppData\\Local\\Temp\\ipykernel_15172\\3806756923.py:5: FutureWarning: The frame.append method is deprecated and will be removed from pandas in a future version. Use pandas.concat instead.\n",
      "  all_ch = all_ch.append(df, ignore_index=True)\n",
      "C:\\Users\\buche\\anaconda3\\Lib\\site-packages\\openpyxl\\styles\\stylesheet.py:226: UserWarning: Workbook contains no default style, apply openpyxl's default\n",
      "  warn(\"Workbook contains no default style, apply openpyxl's default\")\n",
      "C:\\Users\\buche\\AppData\\Local\\Temp\\ipykernel_15172\\3806756923.py:5: FutureWarning: The frame.append method is deprecated and will be removed from pandas in a future version. Use pandas.concat instead.\n",
      "  all_ch = all_ch.append(df, ignore_index=True)\n",
      "C:\\Users\\buche\\anaconda3\\Lib\\site-packages\\openpyxl\\styles\\stylesheet.py:226: UserWarning: Workbook contains no default style, apply openpyxl's default\n",
      "  warn(\"Workbook contains no default style, apply openpyxl's default\")\n",
      "C:\\Users\\buche\\AppData\\Local\\Temp\\ipykernel_15172\\3806756923.py:5: FutureWarning: The frame.append method is deprecated and will be removed from pandas in a future version. Use pandas.concat instead.\n",
      "  all_ch = all_ch.append(df, ignore_index=True)\n",
      "C:\\Users\\buche\\anaconda3\\Lib\\site-packages\\openpyxl\\styles\\stylesheet.py:226: UserWarning: Workbook contains no default style, apply openpyxl's default\n",
      "  warn(\"Workbook contains no default style, apply openpyxl's default\")\n",
      "C:\\Users\\buche\\AppData\\Local\\Temp\\ipykernel_15172\\3806756923.py:5: FutureWarning: The frame.append method is deprecated and will be removed from pandas in a future version. Use pandas.concat instead.\n",
      "  all_ch = all_ch.append(df, ignore_index=True)\n",
      "C:\\Users\\buche\\anaconda3\\Lib\\site-packages\\openpyxl\\styles\\stylesheet.py:226: UserWarning: Workbook contains no default style, apply openpyxl's default\n",
      "  warn(\"Workbook contains no default style, apply openpyxl's default\")\n",
      "C:\\Users\\buche\\AppData\\Local\\Temp\\ipykernel_15172\\3806756923.py:5: FutureWarning: The frame.append method is deprecated and will be removed from pandas in a future version. Use pandas.concat instead.\n",
      "  all_ch = all_ch.append(df, ignore_index=True)\n",
      "C:\\Users\\buche\\anaconda3\\Lib\\site-packages\\openpyxl\\styles\\stylesheet.py:226: UserWarning: Workbook contains no default style, apply openpyxl's default\n",
      "  warn(\"Workbook contains no default style, apply openpyxl's default\")\n",
      "C:\\Users\\buche\\AppData\\Local\\Temp\\ipykernel_15172\\3806756923.py:5: FutureWarning: The frame.append method is deprecated and will be removed from pandas in a future version. Use pandas.concat instead.\n",
      "  all_ch = all_ch.append(df, ignore_index=True)\n",
      "C:\\Users\\buche\\anaconda3\\Lib\\site-packages\\openpyxl\\styles\\stylesheet.py:226: UserWarning: Workbook contains no default style, apply openpyxl's default\n",
      "  warn(\"Workbook contains no default style, apply openpyxl's default\")\n",
      "C:\\Users\\buche\\AppData\\Local\\Temp\\ipykernel_15172\\3806756923.py:5: FutureWarning: The frame.append method is deprecated and will be removed from pandas in a future version. Use pandas.concat instead.\n",
      "  all_ch = all_ch.append(df, ignore_index=True)\n",
      "C:\\Users\\buche\\anaconda3\\Lib\\site-packages\\openpyxl\\styles\\stylesheet.py:226: UserWarning: Workbook contains no default style, apply openpyxl's default\n",
      "  warn(\"Workbook contains no default style, apply openpyxl's default\")\n",
      "C:\\Users\\buche\\AppData\\Local\\Temp\\ipykernel_15172\\3806756923.py:5: FutureWarning: The frame.append method is deprecated and will be removed from pandas in a future version. Use pandas.concat instead.\n",
      "  all_ch = all_ch.append(df, ignore_index=True)\n",
      "C:\\Users\\buche\\anaconda3\\Lib\\site-packages\\openpyxl\\styles\\stylesheet.py:226: UserWarning: Workbook contains no default style, apply openpyxl's default\n",
      "  warn(\"Workbook contains no default style, apply openpyxl's default\")\n",
      "C:\\Users\\buche\\AppData\\Local\\Temp\\ipykernel_15172\\3806756923.py:5: FutureWarning: The frame.append method is deprecated and will be removed from pandas in a future version. Use pandas.concat instead.\n",
      "  all_ch = all_ch.append(df, ignore_index=True)\n",
      "C:\\Users\\buche\\anaconda3\\Lib\\site-packages\\openpyxl\\styles\\stylesheet.py:226: UserWarning: Workbook contains no default style, apply openpyxl's default\n",
      "  warn(\"Workbook contains no default style, apply openpyxl's default\")\n",
      "C:\\Users\\buche\\AppData\\Local\\Temp\\ipykernel_15172\\3806756923.py:5: FutureWarning: The frame.append method is deprecated and will be removed from pandas in a future version. Use pandas.concat instead.\n",
      "  all_ch = all_ch.append(df, ignore_index=True)\n",
      "C:\\Users\\buche\\anaconda3\\Lib\\site-packages\\openpyxl\\styles\\stylesheet.py:226: UserWarning: Workbook contains no default style, apply openpyxl's default\n",
      "  warn(\"Workbook contains no default style, apply openpyxl's default\")\n",
      "C:\\Users\\buche\\AppData\\Local\\Temp\\ipykernel_15172\\3806756923.py:5: FutureWarning: The frame.append method is deprecated and will be removed from pandas in a future version. Use pandas.concat instead.\n",
      "  all_ch = all_ch.append(df, ignore_index=True)\n",
      "C:\\Users\\buche\\anaconda3\\Lib\\site-packages\\openpyxl\\styles\\stylesheet.py:226: UserWarning: Workbook contains no default style, apply openpyxl's default\n",
      "  warn(\"Workbook contains no default style, apply openpyxl's default\")\n",
      "C:\\Users\\buche\\AppData\\Local\\Temp\\ipykernel_15172\\3806756923.py:5: FutureWarning: The frame.append method is deprecated and will be removed from pandas in a future version. Use pandas.concat instead.\n",
      "  all_ch = all_ch.append(df, ignore_index=True)\n",
      "C:\\Users\\buche\\anaconda3\\Lib\\site-packages\\openpyxl\\styles\\stylesheet.py:226: UserWarning: Workbook contains no default style, apply openpyxl's default\n",
      "  warn(\"Workbook contains no default style, apply openpyxl's default\")\n",
      "C:\\Users\\buche\\AppData\\Local\\Temp\\ipykernel_15172\\3806756923.py:5: FutureWarning: The frame.append method is deprecated and will be removed from pandas in a future version. Use pandas.concat instead.\n",
      "  all_ch = all_ch.append(df, ignore_index=True)\n",
      "C:\\Users\\buche\\anaconda3\\Lib\\site-packages\\openpyxl\\styles\\stylesheet.py:226: UserWarning: Workbook contains no default style, apply openpyxl's default\n",
      "  warn(\"Workbook contains no default style, apply openpyxl's default\")\n",
      "C:\\Users\\buche\\AppData\\Local\\Temp\\ipykernel_15172\\3806756923.py:5: FutureWarning: The frame.append method is deprecated and will be removed from pandas in a future version. Use pandas.concat instead.\n",
      "  all_ch = all_ch.append(df, ignore_index=True)\n",
      "C:\\Users\\buche\\anaconda3\\Lib\\site-packages\\openpyxl\\styles\\stylesheet.py:226: UserWarning: Workbook contains no default style, apply openpyxl's default\n",
      "  warn(\"Workbook contains no default style, apply openpyxl's default\")\n",
      "C:\\Users\\buche\\AppData\\Local\\Temp\\ipykernel_15172\\3806756923.py:5: FutureWarning: The frame.append method is deprecated and will be removed from pandas in a future version. Use pandas.concat instead.\n",
      "  all_ch = all_ch.append(df, ignore_index=True)\n",
      "C:\\Users\\buche\\anaconda3\\Lib\\site-packages\\openpyxl\\styles\\stylesheet.py:226: UserWarning: Workbook contains no default style, apply openpyxl's default\n",
      "  warn(\"Workbook contains no default style, apply openpyxl's default\")\n",
      "C:\\Users\\buche\\AppData\\Local\\Temp\\ipykernel_15172\\3806756923.py:5: FutureWarning: The frame.append method is deprecated and will be removed from pandas in a future version. Use pandas.concat instead.\n",
      "  all_ch = all_ch.append(df, ignore_index=True)\n",
      "C:\\Users\\buche\\anaconda3\\Lib\\site-packages\\openpyxl\\styles\\stylesheet.py:226: UserWarning: Workbook contains no default style, apply openpyxl's default\n",
      "  warn(\"Workbook contains no default style, apply openpyxl's default\")\n",
      "C:\\Users\\buche\\AppData\\Local\\Temp\\ipykernel_15172\\3806756923.py:5: FutureWarning: The frame.append method is deprecated and will be removed from pandas in a future version. Use pandas.concat instead.\n",
      "  all_ch = all_ch.append(df, ignore_index=True)\n",
      "C:\\Users\\buche\\anaconda3\\Lib\\site-packages\\openpyxl\\styles\\stylesheet.py:226: UserWarning: Workbook contains no default style, apply openpyxl's default\n",
      "  warn(\"Workbook contains no default style, apply openpyxl's default\")\n",
      "C:\\Users\\buche\\AppData\\Local\\Temp\\ipykernel_15172\\3806756923.py:5: FutureWarning: The frame.append method is deprecated and will be removed from pandas in a future version. Use pandas.concat instead.\n",
      "  all_ch = all_ch.append(df, ignore_index=True)\n",
      "C:\\Users\\buche\\anaconda3\\Lib\\site-packages\\openpyxl\\styles\\stylesheet.py:226: UserWarning: Workbook contains no default style, apply openpyxl's default\n",
      "  warn(\"Workbook contains no default style, apply openpyxl's default\")\n",
      "C:\\Users\\buche\\AppData\\Local\\Temp\\ipykernel_15172\\3806756923.py:5: FutureWarning: The frame.append method is deprecated and will be removed from pandas in a future version. Use pandas.concat instead.\n",
      "  all_ch = all_ch.append(df, ignore_index=True)\n",
      "C:\\Users\\buche\\anaconda3\\Lib\\site-packages\\openpyxl\\styles\\stylesheet.py:226: UserWarning: Workbook contains no default style, apply openpyxl's default\n",
      "  warn(\"Workbook contains no default style, apply openpyxl's default\")\n",
      "C:\\Users\\buche\\AppData\\Local\\Temp\\ipykernel_15172\\3806756923.py:5: FutureWarning: The frame.append method is deprecated and will be removed from pandas in a future version. Use pandas.concat instead.\n",
      "  all_ch = all_ch.append(df, ignore_index=True)\n"
     ]
    }
   ],
   "source": [
    "#合併檔案\n",
    "all_ch = pd.DataFrame()\n",
    "for file in namelist:\n",
    "    df = pd.read_excel(file, engine='openpyxl')\n",
    "    all_ch = all_ch.append(df, ignore_index=True)"
   ]
  },
  {
   "cell_type": "code",
   "execution_count": 8,
   "id": "67b68bf3-39b9-4acc-bcf7-4670119478f9",
   "metadata": {
    "tags": []
   },
   "outputs": [
    {
     "data": {
      "text/html": [
       "<div>\n",
       "<style scoped>\n",
       "    .dataframe tbody tr th:only-of-type {\n",
       "        vertical-align: middle;\n",
       "    }\n",
       "\n",
       "    .dataframe tbody tr th {\n",
       "        vertical-align: top;\n",
       "    }\n",
       "\n",
       "    .dataframe thead th {\n",
       "        text-align: right;\n",
       "    }\n",
       "</style>\n",
       "<table border=\"1\" class=\"dataframe\">\n",
       "  <thead>\n",
       "    <tr style=\"text-align: right;\">\n",
       "      <th></th>\n",
       "      <th>统计日期</th>\n",
       "      <th>渠道ID</th>\n",
       "      <th>渠道名称</th>\n",
       "      <th>活跃用户数</th>\n",
       "      <th>新增注册用户数</th>\n",
       "      <th>充值人数</th>\n",
       "      <th>新增会员数</th>\n",
       "      <th>总充值金额</th>\n",
       "      <th>直推充值金额</th>\n",
       "      <th>提现金额</th>\n",
       "      <th>...</th>\n",
       "      <th>cpa单价</th>\n",
       "      <th>cpa收益</th>\n",
       "      <th>cps占比</th>\n",
       "      <th>cps收益</th>\n",
       "      <th>毛利率</th>\n",
       "      <th>日活付费率</th>\n",
       "      <th>新增付费率</th>\n",
       "      <th>二次付费率</th>\n",
       "      <th>arpu</th>\n",
       "      <th>arppu</th>\n",
       "    </tr>\n",
       "  </thead>\n",
       "  <tbody>\n",
       "  </tbody>\n",
       "</table>\n",
       "<p>0 rows × 34 columns</p>\n",
       "</div>"
      ],
      "text/plain": [
       "Empty DataFrame\n",
       "Columns: [统计日期, 渠道ID, 渠道名称, 活跃用户数, 新增注册用户数, 充值人数, 新增会员数, 总充值金额, 直推充值金额, 提现金额, 购买会员金额, 安卓购买会员金额, ios购买会员金额, h5购买会员金额, 直推购买会员金额, 邀请购买会员金额, 内容付费金额, 打赏收入, 游戏消耗金额, 邀请返利, 营收, 次日留存, 三日留存, 7日留存, cpa单价, cpa收益, cps占比, cps收益, 毛利率, 日活付费率, 新增付费率, 二次付费率, arpu, arppu]\n",
       "Index: []\n",
       "\n",
       "[0 rows x 34 columns]"
      ]
     },
     "execution_count": 8,
     "metadata": {},
     "output_type": "execute_result"
    }
   ],
   "source": [
    "all_ch[all_ch.duplicated()]"
   ]
  },
  {
   "cell_type": "markdown",
   "id": "44887d59-cbed-4d9a-91ba-29d7220b2720",
   "metadata": {},
   "source": [
    "## 3. 改路徑與檔名"
   ]
  },
  {
   "cell_type": "code",
   "execution_count": 9,
   "id": "7620f421-6dec-4382-b926-cb697906cc6e",
   "metadata": {
    "tags": []
   },
   "outputs": [],
   "source": [
    "# all_ch.to_csv('D:\\\\Desktop\\\\travail_workspace\\\\ch_report\\\\' + date_range[6] + '\\\\7days_ch_'+ today +'.csv', encoding = 'utf-8-sig')\n",
    "# all_ch.to_csv('C:\\\\Users\\\\buche\\\\Desktop\\\\travail_workspace\\\\ch_report\\\\' + date_range[6] + '\\\\7days_ch_'+ today +'.csv', encoding = 'utf-8-sig')"
   ]
  },
  {
   "cell_type": "code",
   "execution_count": 10,
   "id": "7fe87fcc-df6f-4afc-a000-9971bc1a482f",
   "metadata": {},
   "outputs": [],
   "source": [
    "# all_ch.to_csv('C:\\\\Users\\\\buche\\\\Desktop\\\\travail_workspace\\\\ch_report\\\\wk_ch_'+ today +'.csv', encoding = 'utf-8-sig') # 週報用"
   ]
  },
  {
   "cell_type": "markdown",
   "id": "e031b2e7-8daa-48f1-b33d-58910b3bdea0",
   "metadata": {
    "tags": []
   },
   "source": [
    "# 篩選製圖df"
   ]
  },
  {
   "cell_type": "code",
   "execution_count": 11,
   "id": "0533ac44-1371-4c8d-9a76-b13143cec878",
   "metadata": {
    "tags": []
   },
   "outputs": [],
   "source": [
    "a = all_ch"
   ]
  },
  {
   "cell_type": "code",
   "execution_count": 12,
   "id": "61bce164-3a22-45d1-94de-7d0abb63c9b5",
   "metadata": {
    "tags": []
   },
   "outputs": [],
   "source": [
    "# 新增轉換率\n",
    "a['转换率'] = round(a['充值人数']/a['新增注册用户数'], 4)\n",
    "# nan, inf -> 0\n",
    "a['转换率'] = a['转换率'].fillna(0)\n",
    "a.loc[(a['转换率']==np.inf), '转换率'] = 0\n",
    "a['转换率']= a['转换率'].apply(lambda x: format(x, '.2%'))"
   ]
  },
  {
   "cell_type": "code",
   "execution_count": 13,
   "id": "7c2641aa-5d91-4610-9f5e-52fb675b9284",
   "metadata": {
    "tags": []
   },
   "outputs": [
    {
     "data": {
      "text/html": [
       "<div>\n",
       "<style scoped>\n",
       "    .dataframe tbody tr th:only-of-type {\n",
       "        vertical-align: middle;\n",
       "    }\n",
       "\n",
       "    .dataframe tbody tr th {\n",
       "        vertical-align: top;\n",
       "    }\n",
       "\n",
       "    .dataframe thead th {\n",
       "        text-align: right;\n",
       "    }\n",
       "</style>\n",
       "<table border=\"1\" class=\"dataframe\">\n",
       "  <thead>\n",
       "    <tr style=\"text-align: right;\">\n",
       "      <th></th>\n",
       "      <th>统计日期</th>\n",
       "      <th>渠道名称</th>\n",
       "      <th>新增注册用户数</th>\n",
       "      <th>充值人数</th>\n",
       "      <th>总充值金额</th>\n",
       "      <th>转换率</th>\n",
       "    </tr>\n",
       "  </thead>\n",
       "  <tbody>\n",
       "    <tr>\n",
       "      <th>0</th>\n",
       "      <td>2023-11-01</td>\n",
       "      <td>7299渠道</td>\n",
       "      <td>0</td>\n",
       "      <td>0</td>\n",
       "      <td>0.0</td>\n",
       "      <td>0.00%</td>\n",
       "    </tr>\n",
       "    <tr>\n",
       "      <th>1</th>\n",
       "      <td>2023-11-01</td>\n",
       "      <td>7300渠道</td>\n",
       "      <td>0</td>\n",
       "      <td>0</td>\n",
       "      <td>0.0</td>\n",
       "      <td>0.00%</td>\n",
       "    </tr>\n",
       "    <tr>\n",
       "      <th>2</th>\n",
       "      <td>2023-11-01</td>\n",
       "      <td>7298渠道</td>\n",
       "      <td>97</td>\n",
       "      <td>0</td>\n",
       "      <td>0.0</td>\n",
       "      <td>0.00%</td>\n",
       "    </tr>\n",
       "    <tr>\n",
       "      <th>3</th>\n",
       "      <td>2023-11-01</td>\n",
       "      <td>7297渠道</td>\n",
       "      <td>1923</td>\n",
       "      <td>6</td>\n",
       "      <td>400.0</td>\n",
       "      <td>0.31%</td>\n",
       "    </tr>\n",
       "    <tr>\n",
       "      <th>4</th>\n",
       "      <td>2023-11-01</td>\n",
       "      <td>7296渠道</td>\n",
       "      <td>909</td>\n",
       "      <td>3</td>\n",
       "      <td>1050.0</td>\n",
       "      <td>0.33%</td>\n",
       "    </tr>\n",
       "    <tr>\n",
       "      <th>...</th>\n",
       "      <td>...</td>\n",
       "      <td>...</td>\n",
       "      <td>...</td>\n",
       "      <td>...</td>\n",
       "      <td>...</td>\n",
       "      <td>...</td>\n",
       "    </tr>\n",
       "    <tr>\n",
       "      <th>2102</th>\n",
       "      <td>2023-11-07</td>\n",
       "      <td>7004渠道</td>\n",
       "      <td>0</td>\n",
       "      <td>0</td>\n",
       "      <td>0.0</td>\n",
       "      <td>0.00%</td>\n",
       "    </tr>\n",
       "    <tr>\n",
       "      <th>2103</th>\n",
       "      <td>2023-11-07</td>\n",
       "      <td>官网渠道</td>\n",
       "      <td>38830</td>\n",
       "      <td>504</td>\n",
       "      <td>90300.0</td>\n",
       "      <td>1.30%</td>\n",
       "    </tr>\n",
       "    <tr>\n",
       "      <th>2104</th>\n",
       "      <td>2023-11-07</td>\n",
       "      <td>7003渠道</td>\n",
       "      <td>0</td>\n",
       "      <td>0</td>\n",
       "      <td>0.0</td>\n",
       "      <td>0.00%</td>\n",
       "    </tr>\n",
       "    <tr>\n",
       "      <th>2105</th>\n",
       "      <td>2023-11-07</td>\n",
       "      <td>7002渠道</td>\n",
       "      <td>0</td>\n",
       "      <td>0</td>\n",
       "      <td>0.0</td>\n",
       "      <td>0.00%</td>\n",
       "    </tr>\n",
       "    <tr>\n",
       "      <th>2106</th>\n",
       "      <td>2023-11-07</td>\n",
       "      <td>代理邀请</td>\n",
       "      <td>156</td>\n",
       "      <td>8</td>\n",
       "      <td>600.0</td>\n",
       "      <td>5.13%</td>\n",
       "    </tr>\n",
       "  </tbody>\n",
       "</table>\n",
       "<p>2107 rows × 6 columns</p>\n",
       "</div>"
      ],
      "text/plain": [
       "            统计日期    渠道名称  新增注册用户数  充值人数    总充值金额    转换率\n",
       "0     2023-11-01  7299渠道        0     0      0.0  0.00%\n",
       "1     2023-11-01  7300渠道        0     0      0.0  0.00%\n",
       "2     2023-11-01  7298渠道       97     0      0.0  0.00%\n",
       "3     2023-11-01  7297渠道     1923     6    400.0  0.31%\n",
       "4     2023-11-01  7296渠道      909     3   1050.0  0.33%\n",
       "...          ...     ...      ...   ...      ...    ...\n",
       "2102  2023-11-07  7004渠道        0     0      0.0  0.00%\n",
       "2103  2023-11-07    官网渠道    38830   504  90300.0  1.30%\n",
       "2104  2023-11-07  7003渠道        0     0      0.0  0.00%\n",
       "2105  2023-11-07  7002渠道        0     0      0.0  0.00%\n",
       "2106  2023-11-07    代理邀请      156     8    600.0  5.13%\n",
       "\n",
       "[2107 rows x 6 columns]"
      ]
     },
     "execution_count": 13,
     "metadata": {},
     "output_type": "execute_result"
    }
   ],
   "source": [
    "# 選擇需要欄位\n",
    "a = a.iloc[:, [0, 2, 4, 5, 7, 34]]\n",
    "a"
   ]
  },
  {
   "cell_type": "code",
   "execution_count": 14,
   "id": "e3a4a223-15cc-4a88-92c2-c018f05a172f",
   "metadata": {
    "tags": []
   },
   "outputs": [
    {
     "name": "stderr",
     "output_type": "stream",
     "text": [
      "C:\\Users\\buche\\AppData\\Local\\Temp\\ipykernel_15172\\2652095620.py:6: SettingWithCopyWarning: \n",
      "A value is trying to be set on a copy of a slice from a DataFrame.\n",
      "Try using .loc[row_indexer,col_indexer] = value instead\n",
      "\n",
      "See the caveats in the documentation: https://pandas.pydata.org/pandas-docs/stable/user_guide/indexing.html#returning-a-view-versus-a-copy\n",
      "  a['渠道名称']=l1\n"
     ]
    }
   ],
   "source": [
    "# 要從7021開始做，將渠道名分割留下數字部分\n",
    "def splitname(x):\n",
    "    return x[0:4]\n",
    "l1 = a['渠道名称'].tolist()\n",
    "l1 = list(map(splitname, l1))\n",
    "a['渠道名称']=l1"
   ]
  },
  {
   "cell_type": "code",
   "execution_count": 15,
   "id": "45525562-03b9-4be8-9181-72448bd8e9e8",
   "metadata": {
    "tags": []
   },
   "outputs": [
    {
     "name": "stderr",
     "output_type": "stream",
     "text": [
      "C:\\Users\\buche\\AppData\\Local\\Temp\\ipykernel_15172\\567365642.py:7: SettingWithCopyWarning: \n",
      "A value is trying to be set on a copy of a slice from a DataFrame.\n",
      "Try using .loc[row_indexer,col_indexer] = value instead\n",
      "\n",
      "See the caveats in the documentation: https://pandas.pydata.org/pandas-docs/stable/user_guide/indexing.html#returning-a-view-versus-a-copy\n",
      "  a['渠道名称']=a['渠道名称']+'渠道'\n"
     ]
    },
    {
     "data": {
      "text/html": [
       "<div>\n",
       "<style scoped>\n",
       "    .dataframe tbody tr th:only-of-type {\n",
       "        vertical-align: middle;\n",
       "    }\n",
       "\n",
       "    .dataframe tbody tr th {\n",
       "        vertical-align: top;\n",
       "    }\n",
       "\n",
       "    .dataframe thead th {\n",
       "        text-align: right;\n",
       "    }\n",
       "</style>\n",
       "<table border=\"1\" class=\"dataframe\">\n",
       "  <thead>\n",
       "    <tr style=\"text-align: right;\">\n",
       "      <th></th>\n",
       "      <th>统计日期</th>\n",
       "      <th>渠道名称</th>\n",
       "      <th>新增注册用户数</th>\n",
       "      <th>充值人数</th>\n",
       "      <th>总充值金额</th>\n",
       "      <th>转换率</th>\n",
       "    </tr>\n",
       "  </thead>\n",
       "  <tbody>\n",
       "    <tr>\n",
       "      <th>0</th>\n",
       "      <td>2023-11-01</td>\n",
       "      <td>7021渠道</td>\n",
       "      <td>40</td>\n",
       "      <td>33</td>\n",
       "      <td>3600.0</td>\n",
       "      <td>82.50%</td>\n",
       "    </tr>\n",
       "    <tr>\n",
       "      <th>1</th>\n",
       "      <td>2023-11-01</td>\n",
       "      <td>7022渠道</td>\n",
       "      <td>1363</td>\n",
       "      <td>137</td>\n",
       "      <td>17350.0</td>\n",
       "      <td>10.05%</td>\n",
       "    </tr>\n",
       "    <tr>\n",
       "      <th>2</th>\n",
       "      <td>2023-11-01</td>\n",
       "      <td>7023渠道</td>\n",
       "      <td>3370</td>\n",
       "      <td>36</td>\n",
       "      <td>6650.0</td>\n",
       "      <td>1.07%</td>\n",
       "    </tr>\n",
       "    <tr>\n",
       "      <th>3</th>\n",
       "      <td>2023-11-01</td>\n",
       "      <td>7024渠道</td>\n",
       "      <td>3610</td>\n",
       "      <td>14</td>\n",
       "      <td>1700.0</td>\n",
       "      <td>0.39%</td>\n",
       "    </tr>\n",
       "    <tr>\n",
       "      <th>4</th>\n",
       "      <td>2023-11-01</td>\n",
       "      <td>7025渠道</td>\n",
       "      <td>3</td>\n",
       "      <td>0</td>\n",
       "      <td>0.0</td>\n",
       "      <td>0.00%</td>\n",
       "    </tr>\n",
       "    <tr>\n",
       "      <th>...</th>\n",
       "      <td>...</td>\n",
       "      <td>...</td>\n",
       "      <td>...</td>\n",
       "      <td>...</td>\n",
       "      <td>...</td>\n",
       "      <td>...</td>\n",
       "    </tr>\n",
       "    <tr>\n",
       "      <th>1955</th>\n",
       "      <td>2023-11-07</td>\n",
       "      <td>7296渠道</td>\n",
       "      <td>1144</td>\n",
       "      <td>0</td>\n",
       "      <td>0.0</td>\n",
       "      <td>0.00%</td>\n",
       "    </tr>\n",
       "    <tr>\n",
       "      <th>1956</th>\n",
       "      <td>2023-11-07</td>\n",
       "      <td>7297渠道</td>\n",
       "      <td>1589</td>\n",
       "      <td>0</td>\n",
       "      <td>0.0</td>\n",
       "      <td>0.00%</td>\n",
       "    </tr>\n",
       "    <tr>\n",
       "      <th>1957</th>\n",
       "      <td>2023-11-07</td>\n",
       "      <td>7298渠道</td>\n",
       "      <td>118</td>\n",
       "      <td>0</td>\n",
       "      <td>0.0</td>\n",
       "      <td>0.00%</td>\n",
       "    </tr>\n",
       "    <tr>\n",
       "      <th>1958</th>\n",
       "      <td>2023-11-07</td>\n",
       "      <td>7299渠道</td>\n",
       "      <td>0</td>\n",
       "      <td>0</td>\n",
       "      <td>0.0</td>\n",
       "      <td>0.00%</td>\n",
       "    </tr>\n",
       "    <tr>\n",
       "      <th>1959</th>\n",
       "      <td>2023-11-07</td>\n",
       "      <td>7300渠道</td>\n",
       "      <td>0</td>\n",
       "      <td>0</td>\n",
       "      <td>0.0</td>\n",
       "      <td>0.00%</td>\n",
       "    </tr>\n",
       "  </tbody>\n",
       "</table>\n",
       "<p>1960 rows × 6 columns</p>\n",
       "</div>"
      ],
      "text/plain": [
       "            统计日期    渠道名称  新增注册用户数  充值人数    总充值金额     转换率\n",
       "0     2023-11-01  7021渠道       40    33   3600.0  82.50%\n",
       "1     2023-11-01  7022渠道     1363   137  17350.0  10.05%\n",
       "2     2023-11-01  7023渠道     3370    36   6650.0   1.07%\n",
       "3     2023-11-01  7024渠道     3610    14   1700.0   0.39%\n",
       "4     2023-11-01  7025渠道        3     0      0.0   0.00%\n",
       "...          ...     ...      ...   ...      ...     ...\n",
       "1955  2023-11-07  7296渠道     1144     0      0.0   0.00%\n",
       "1956  2023-11-07  7297渠道     1589     0      0.0   0.00%\n",
       "1957  2023-11-07  7298渠道      118     0      0.0   0.00%\n",
       "1958  2023-11-07  7299渠道        0     0      0.0   0.00%\n",
       "1959  2023-11-07  7300渠道        0     0      0.0   0.00%\n",
       "\n",
       "[1960 rows x 6 columns]"
      ]
     },
     "execution_count": 15,
     "metadata": {},
     "output_type": "execute_result"
    }
   ],
   "source": [
    "# 刪除7002-7021，'官网渠道', '代理邀请'\n",
    "excluded_ch = list(np.array(range(7002,7021), dtype=str))\n",
    "official_ch = ['官网渠道', '代理邀请']\n",
    "del_ch = excluded_ch + official_ch\n",
    "del_ch = a['渠道名称'].isin(pd.Series(del_ch))\n",
    "a = a[-del_ch]\n",
    "a['渠道名称']=a['渠道名称']+'渠道'\n",
    "a = a.sort_values(by=['统计日期','渠道名称'], ascending=True).reset_index(drop = True)\n",
    "a"
   ]
  },
  {
   "cell_type": "code",
   "execution_count": 16,
   "id": "fb16e85b-986f-492d-b43b-127e3dfa2f48",
   "metadata": {
    "tags": []
   },
   "outputs": [],
   "source": [
    "# a.to_csv('D:\\\\Desktop\\\\travail_workspace\\\\ch_report\\\\' + date_range[6] + '\\\\filt_ch_'+ today +'.csv', encoding = 'utf-8-sig')\n",
    "a.to_csv('C:\\\\Users\\\\buche\\\\Desktop\\\\travail_workspace\\\\ch_report\\\\' + date_range[6] + '\\\\filt_ch_'+ today +'.csv', encoding = 'utf-8-sig')\n",
    "# a.to_csv('C:\\\\Users\\\\buche\\\\Desktop\\\\travail_workspace\\\\ch_report\\\\wky_filte_ch_'+ today +'.csv', encoding = 'utf-8-sig') # 週報用\n"
   ]
  },
  {
   "cell_type": "markdown",
   "id": "92d46a59-8a14-4482-8f15-70b8b0161ec1",
   "metadata": {
    "tags": []
   },
   "source": [
    "## 日報扣後"
   ]
  },
  {
   "cell_type": "code",
   "execution_count": 17,
   "id": "4cd4569b-3208-4bee-b40d-d7e8d14c8201",
   "metadata": {
    "tags": []
   },
   "outputs": [
    {
     "name": "stderr",
     "output_type": "stream",
     "text": [
      "C:\\Users\\buche\\anaconda3\\Lib\\site-packages\\openpyxl\\styles\\stylesheet.py:226: UserWarning: Workbook contains no default style, apply openpyxl's default\n",
      "  warn(\"Workbook contains no default style, apply openpyxl's default\")\n",
      "C:\\Users\\buche\\AppData\\Local\\Temp\\ipykernel_15172\\3577737870.py:7: FutureWarning: The frame.append method is deprecated and will be removed from pandas in a future version. Use pandas.concat instead.\n",
      "  post_deduction = post_deduction.append(df, ignore_index=True).sort_values(by=['渠道名称'], ignore_index=True)\n",
      "C:\\Users\\buche\\anaconda3\\Lib\\site-packages\\openpyxl\\styles\\stylesheet.py:226: UserWarning: Workbook contains no default style, apply openpyxl's default\n",
      "  warn(\"Workbook contains no default style, apply openpyxl's default\")\n",
      "C:\\Users\\buche\\AppData\\Local\\Temp\\ipykernel_15172\\3577737870.py:7: FutureWarning: The frame.append method is deprecated and will be removed from pandas in a future version. Use pandas.concat instead.\n",
      "  post_deduction = post_deduction.append(df, ignore_index=True).sort_values(by=['渠道名称'], ignore_index=True)\n",
      "C:\\Users\\buche\\anaconda3\\Lib\\site-packages\\openpyxl\\styles\\stylesheet.py:226: UserWarning: Workbook contains no default style, apply openpyxl's default\n",
      "  warn(\"Workbook contains no default style, apply openpyxl's default\")\n",
      "C:\\Users\\buche\\AppData\\Local\\Temp\\ipykernel_15172\\3577737870.py:7: FutureWarning: The frame.append method is deprecated and will be removed from pandas in a future version. Use pandas.concat instead.\n",
      "  post_deduction = post_deduction.append(df, ignore_index=True).sort_values(by=['渠道名称'], ignore_index=True)\n",
      "C:\\Users\\buche\\anaconda3\\Lib\\site-packages\\openpyxl\\styles\\stylesheet.py:226: UserWarning: Workbook contains no default style, apply openpyxl's default\n",
      "  warn(\"Workbook contains no default style, apply openpyxl's default\")\n",
      "C:\\Users\\buche\\AppData\\Local\\Temp\\ipykernel_15172\\3577737870.py:7: FutureWarning: The frame.append method is deprecated and will be removed from pandas in a future version. Use pandas.concat instead.\n",
      "  post_deduction = post_deduction.append(df, ignore_index=True).sort_values(by=['渠道名称'], ignore_index=True)\n",
      "C:\\Users\\buche\\anaconda3\\Lib\\site-packages\\openpyxl\\styles\\stylesheet.py:226: UserWarning: Workbook contains no default style, apply openpyxl's default\n",
      "  warn(\"Workbook contains no default style, apply openpyxl's default\")\n",
      "C:\\Users\\buche\\AppData\\Local\\Temp\\ipykernel_15172\\3577737870.py:7: FutureWarning: The frame.append method is deprecated and will be removed from pandas in a future version. Use pandas.concat instead.\n",
      "  post_deduction = post_deduction.append(df, ignore_index=True).sort_values(by=['渠道名称'], ignore_index=True)\n",
      "C:\\Users\\buche\\anaconda3\\Lib\\site-packages\\openpyxl\\styles\\stylesheet.py:226: UserWarning: Workbook contains no default style, apply openpyxl's default\n",
      "  warn(\"Workbook contains no default style, apply openpyxl's default\")\n",
      "C:\\Users\\buche\\AppData\\Local\\Temp\\ipykernel_15172\\3577737870.py:7: FutureWarning: The frame.append method is deprecated and will be removed from pandas in a future version. Use pandas.concat instead.\n",
      "  post_deduction = post_deduction.append(df, ignore_index=True).sort_values(by=['渠道名称'], ignore_index=True)\n",
      "C:\\Users\\buche\\anaconda3\\Lib\\site-packages\\openpyxl\\styles\\stylesheet.py:226: UserWarning: Workbook contains no default style, apply openpyxl's default\n",
      "  warn(\"Workbook contains no default style, apply openpyxl's default\")\n",
      "C:\\Users\\buche\\AppData\\Local\\Temp\\ipykernel_15172\\3577737870.py:7: FutureWarning: The frame.append method is deprecated and will be removed from pandas in a future version. Use pandas.concat instead.\n",
      "  post_deduction = post_deduction.append(df, ignore_index=True).sort_values(by=['渠道名称'], ignore_index=True)\n"
     ]
    }
   ],
   "source": [
    "files_path = glob(\"C:\\\\Users\\\\buche\\\\Desktop\\\\travail_workspace\\\\ETL_workspace\\\\all_channel_rawdata\\\\\" + today + \"\\\\post_deduction\\\\channel_*.xlsx\")\n",
    "# files_path = glob(\"D:\\\\Desktop\\\\travail_workspace\\\\ETL_workspace\\\\all_channel_rawdata\\\\\" + today + \"\\\\post_deduction\\\\channel_*.xlsx\")\n",
    "\n",
    "post_deduction = pd.DataFrame()\n",
    "for file in files_path:\n",
    "    df = pd.read_excel(file, engine='openpyxl')\n",
    "    post_deduction = post_deduction.append(df, ignore_index=True).sort_values(by=['渠道名称'], ignore_index=True)"
   ]
  },
  {
   "cell_type": "code",
   "execution_count": 18,
   "id": "5242d74f-f1dc-4a69-b157-e5a018bec31e",
   "metadata": {
    "tags": []
   },
   "outputs": [],
   "source": [
    "# 要從7021開始做，將渠道名分割留下數字部分\n",
    "def splitname(x):\n",
    "    return x[0:4]\n",
    "l1 = post_deduction['渠道名称'].tolist()\n",
    "l1 = list(map(splitname, l1))\n",
    "post_deduction['渠道名称']=l1"
   ]
  },
  {
   "cell_type": "code",
   "execution_count": 19,
   "id": "d782cc05-05e7-422c-9962-d583c7ba3e54",
   "metadata": {
    "tags": []
   },
   "outputs": [],
   "source": [
    "# 刪除7002-7021，'官网渠道', '代理邀请'\n",
    "excluded_ch = list(np.array(range(7002,7021), dtype=str))\n",
    "official_ch = ['官网渠道', '代理邀请']\n",
    "del_ch = excluded_ch + official_ch\n",
    "del_ch = post_deduction['渠道名称'].isin(pd.Series(del_ch))"
   ]
  },
  {
   "cell_type": "code",
   "execution_count": 20,
   "id": "e40e38ca-348a-4ec0-985d-bafdda7451ec",
   "metadata": {
    "tags": []
   },
   "outputs": [],
   "source": [
    "post_deduction = post_deduction[-del_ch]"
   ]
  },
  {
   "cell_type": "code",
   "execution_count": 21,
   "id": "fd2418ee-63a2-4991-ab34-c67be7ba2f12",
   "metadata": {
    "tags": []
   },
   "outputs": [],
   "source": [
    "post_deduction.to_csv('C:\\\\Users\\\\buche\\\\Desktop\\\\travail_workspace\\\\ch_report\\\\' + today + '\\\\' +  today +'_post.csv', encoding = 'utf-8-sig')\n",
    "# post_deduction.to_csv('D:\\\\Desktop\\\\travail_workspace\\\\ch_report\\\\' + today + '\\\\' +  today +'_post.csv', encoding = 'utf-8-sig')"
   ]
  }
 ],
 "metadata": {
  "kernelspec": {
   "display_name": "Python 3 (ipykernel)",
   "language": "python",
   "name": "python3"
  },
  "language_info": {
   "codemirror_mode": {
    "name": "ipython",
    "version": 3
   },
   "file_extension": ".py",
   "mimetype": "text/x-python",
   "name": "python",
   "nbconvert_exporter": "python",
   "pygments_lexer": "ipython3",
   "version": "3.11.3"
  }
 },
 "nbformat": 4,
 "nbformat_minor": 5
}
