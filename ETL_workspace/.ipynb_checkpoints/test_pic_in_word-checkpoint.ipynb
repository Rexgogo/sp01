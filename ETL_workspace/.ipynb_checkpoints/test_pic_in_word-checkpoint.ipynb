{
 "cells": [
  {
   "cell_type": "code",
   "execution_count": 51,
   "id": "0da2dc86-bb55-4093-851a-2042f70700e7",
   "metadata": {},
   "outputs": [],
   "source": [
    "import os\n",
    "from docx import Document\n",
    "from docx.shared import Cm,Pt,RGBColor\n",
    "from docx.oxml.ns import qn\n",
    "from docx.enum.text import WD_ALIGN_PARAGRAPH\n",
    "\n",
    "#開啟word文件\n",
    "document = Document()\n",
    "#沒有頁首頁尾\n",
    "section = document.sections[0]\n",
    "#邊界\n",
    "section.left_margin = Cm(1.27)\n",
    "section.right_margin = Cm(1.27)\n",
    "section.top_margin = Cm(1.27)\n",
    "section.bottom_margin =Cm(1.27)\n",
    "\n",
    "#設定字體皆為宋體\n",
    "document.styles['Normal'].font.name = 'Simsun'\n",
    "document.styles['Normal']._element.rPr.rFonts.set(qn('w:eastAsia'),u'Simsun')\n",
    "\n"
   ]
  },
  {
   "cell_type": "code",
   "execution_count": 1,
   "id": "a3c7a3e1-ce94-4f64-ad77-f8bc2a4dd179",
   "metadata": {},
   "outputs": [
    {
     "ename": "SyntaxError",
     "evalue": "incomplete input (4146939909.py, line 29)",
     "output_type": "error",
     "traceback": [
      "\u001b[0;36m  Cell \u001b[0;32mIn[1], line 29\u001b[0;36m\u001b[0m\n\u001b[0;31m    document.save(dir_path + 'test.docx'\u001b[0m\n\u001b[0m                                        ^\u001b[0m\n\u001b[0;31mSyntaxError\u001b[0m\u001b[0;31m:\u001b[0m incomplete input\n"
     ]
    }
   ],
   "source": [
    "\n",
    "#找尋圖檔檔名（可先用for_pic_number查看）\n",
    "dir_path = '/Users/mac/Desktop/ppp'\n",
    "all_file_name = os.listdir(dir_path)\n",
    "file_name = sorted(all_file_name)\n",
    "#print(file_name)\n",
    "\n",
    "#留意檔案數量是否有包含系統擋,有的話要從1開始\n",
    "for i in range(len(file_name)):\n",
    "    name = file_name[i].split('.')[0]\n",
    "    #print(name)\n",
    "    \n",
    "    #增加一行敘述,文字置中,粗體\n",
    "    text_1 = document.add_paragraph('')\n",
    "    text_1.paragraph_format.alignment = WD_ALIGN_PARAGRAPH.CENTER\n",
    "    text_1.add_run(name.split('fig')[1]+'渠道分析：').bold = True\n",
    "    #這個敘述的所有run改大小和顏色\n",
    "    for run in text_1.runs:\n",
    "        run.font.size = Pt(20)\n",
    "        run.font.color.rgb = RGBColor(237,125,49)\n",
    "    \n",
    "    #增加新的敘述    \n",
    "    text_2 = document.add_paragraph('(一)'+' ')\n",
    "    text_2.add_run(name.split('fig')[1]).font.color.rgb = RGBColor(255,0,0)\n",
    "    text_2.add_run('新增注册人数、充值人数和转化率的走势图：')\n",
    "    for run in text_2.runs:\n",
    "        run.bold = True\n",
    "\n",
    "    #插入圖片\n",
    "    document.add_picture('/Users/mac/Desktop/ppp/' +  file_name[i] ,width = Cm(18.9))\n",
    "\n",
    "    #插入表格\n",
    "    document.add_table(rows=4,cols=1, style= 'Table Grid')\n",
    "    document.add_paragraph('')\n",
    "\n"
   ]
  },
  {
   "cell_type": "code",
   "execution_count": null,
   "id": "1924cc5b-e82d-4138-a3a5-08af8753b879",
   "metadata": {},
   "outputs": [],
   "source": [
    "document.save(dir_path + 'test.docx'"
   ]
  }
 ],
 "metadata": {
  "kernelspec": {
   "display_name": "Python 3 (ipykernel)",
   "language": "python",
   "name": "python3"
  },
  "language_info": {
   "codemirror_mode": {
    "name": "ipython",
    "version": 3
   },
   "file_extension": ".py",
   "mimetype": "text/x-python",
   "name": "python",
   "nbconvert_exporter": "python",
   "pygments_lexer": "ipython3",
   "version": "3.10.12"
  }
 },
 "nbformat": 4,
 "nbformat_minor": 5
}
